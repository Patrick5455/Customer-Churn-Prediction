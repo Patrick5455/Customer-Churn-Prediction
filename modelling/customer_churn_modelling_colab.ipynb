{
  "nbformat": 4,
  "nbformat_minor": 0,
  "metadata": {
    "kernelspec": {
      "display_name": "Python 3",
      "language": "python",
      "name": "python3"
    },
    "language_info": {
      "codemirror_mode": {
        "name": "ipython",
        "version": 3
      },
      "file_extension": ".py",
      "mimetype": "text/x-python",
      "name": "python",
      "nbconvert_exporter": "python",
      "pygments_lexer": "ipython3",
      "version": "3.6.9"
    },
    "colab": {
      "name": "customer_churn_modelling_colab.ipynb",
      "provenance": [],
      "collapsed_sections": [],
      "include_colab_link": true
    }
  },
  "cells": [
    {
      "cell_type": "markdown",
      "metadata": {
        "id": "view-in-github",
        "colab_type": "text"
      },
      "source": [
        "<a href=\"https://colab.research.google.com/github/Patrick5455/Customer-Churn-Prediction/blob/master/modelling/customer_churn_modelling_colab.ipynb\" target=\"_parent\"><img src=\"https://colab.research.google.com/assets/colab-badge.svg\" alt=\"Open In Colab\"/></a>"
      ]
    },
    {
      "cell_type": "code",
      "metadata": {
        "id": "O7pW2zNGqTXf",
        "colab_type": "code",
        "colab": {
          "base_uri": "https://localhost:8080/",
          "height": 34
        },
        "outputId": "88dced51-9913-4824-de45-573f98c35df0"
      },
      "source": [
        "from google.colab import drive  \n",
        "drive.mount('/content/drive')  "
      ],
      "execution_count": 1,
      "outputs": [
        {
          "output_type": "stream",
          "text": [
            "Mounted at /content/drive\n"
          ],
          "name": "stdout"
        }
      ]
    },
    {
      "cell_type": "code",
      "metadata": {
        "id": "INjA0Wpk5qEg",
        "colab_type": "code",
        "colab": {
          "base_uri": "https://localhost:8080/",
          "height": 72
        },
        "outputId": "911c6006-275d-45f2-ac53-92e722420ce5"
      },
      "source": [
        "#Import some libraries\n",
        "import pandas as pd\n",
        "from pandas.api.types import is_string_dtype \n",
        "from pandas.api.types import is_numeric_dtype\n",
        "import numpy as np\n",
        "import matplotlib.pyplot as plt \n",
        "from pylab import rcParams  \n",
        "import seaborn as sns \n",
        "import os \n",
        "sns.set_style('darkgrid')\n",
        "rcParams['figure.figsize'] = 8,8\n",
        "import warnings\n",
        "warnings.filterwarnings(\"ignore\")\n",
        "%matplotlib inline "
      ],
      "execution_count": 2,
      "outputs": [
        {
          "output_type": "stream",
          "text": [
            "/usr/local/lib/python3.6/dist-packages/statsmodels/tools/_testing.py:19: FutureWarning: pandas.util.testing is deprecated. Use the functions in the public API at pandas.testing instead.\n",
            "  import pandas.util.testing as tm\n"
          ],
          "name": "stderr"
        }
      ]
    },
    {
      "cell_type": "markdown",
      "metadata": {
        "id": "9rpGJeIe5qEx",
        "colab_type": "text"
      },
      "source": [
        "> Data Preprocessing"
      ]
    },
    {
      "cell_type": "code",
      "metadata": {
        "id": "U7-6OQgl5qE0",
        "colab_type": "code",
        "colab": {}
      },
      "source": [
        "from sklearn.preprocessing import StandardScaler, RobustScaler, OneHotEncoder, LabelEncoder\n",
        "from sklearn.pipeline import FeatureUnion, make_pipeline, Pipeline\n",
        "from sklearn.impute import KNNImputer\n",
        "from sklearn.model_selection import cross_val_predict, cross_val_score, GridSearchCV,RandomizedSearchCV\n",
        "from sklearn.impute import SimpleImputer\n",
        "from sklearn.compose import ColumnTransformer\n",
        "\n",
        "from sklearn.ensemble import IsolationForest \n",
        "from imblearn.over_sampling import SMOTE"
      ],
      "execution_count": 3,
      "outputs": []
    },
    {
      "cell_type": "markdown",
      "metadata": {
        "id": "Ua9cL2FZ0s1o",
        "colab_type": "text"
      },
      "source": [
        "Modelling"
      ]
    },
    {
      "cell_type": "code",
      "metadata": {
        "id": "kSFGvih10qXj",
        "colab_type": "code",
        "colab": {}
      },
      "source": [
        "from imblearn.over_sampling import SMOTE\n",
        "from imblearn.pipeline import  Pipeline as ImbPipe\n",
        "from imblearn.metrics import classification_report_imbalanced\n",
        "from sklearn.metrics import scorer, log_loss\n",
        "from sklearn.linear_model import LogisticRegression, LogisticRegressionCV\n",
        "from sklearn.metrics import make_scorer, accuracy_score, confusion_matrix, plot_roc_curve, classification_report\n",
        "from sklearn.model_selection import StratifiedKFold, GridSearchCV, train_test_split\n",
        "import sklearn\n",
        "from sklearn.decomposition import PCA, TruncatedSVD\n",
        "from sklearn.feature_selection import RFECV\n",
        "# from sklearn.feature_extraction import \n",
        "from sklearn.base import BaseEstimator, TransformerMixin\n",
        "from sklearn.feature_selection import SelectKBest, mutual_info_classif, f_classif, chi2, SelectPercentile\n",
        "\n",
        "from sklearn.compose import make_column_selector as selector\n",
        "\n",
        "from sklearn.svm import SVC"
      ],
      "execution_count": 4,
      "outputs": []
    },
    {
      "cell_type": "code",
      "metadata": {
        "id": "QYbczZiR1Hpv",
        "colab_type": "code",
        "colab": {}
      },
      "source": [
        "# sklearn.feature_extraction."
      ],
      "execution_count": 5,
      "outputs": []
    },
    {
      "cell_type": "markdown",
      "metadata": {
        "id": "1yyH-vBc5qFD",
        "colab_type": "text"
      },
      "source": [
        "> > Project packages"
      ]
    },
    {
      "cell_type": "code",
      "metadata": {
        "id": "98q9INpN5qFF",
        "colab_type": "code",
        "colab": {}
      },
      "source": [
        "# from project_package.data_package import data\n",
        "# from project_package.model_package import model, model_metrics\n",
        "# from project_package.plot_package import bi_plot, uni_plot\n",
        "# "
      ],
      "execution_count": 6,
      "outputs": []
    },
    {
      "cell_type": "code",
      "metadata": {
        "id": "a1LZQJEU5qFR",
        "colab_type": "code",
        "colab": {}
      },
      "source": [
        "# ?KNNImputer"
      ],
      "execution_count": 7,
      "outputs": []
    },
    {
      "cell_type": "markdown",
      "metadata": {
        "id": "FonOxjCX5qFa",
        "colab_type": "text"
      },
      "source": [
        "> Load Datasets"
      ]
    },
    {
      "cell_type": "code",
      "metadata": {
        "id": "umbX4mHdq6O_",
        "colab_type": "code",
        "colab": {}
      },
      "source": [
        "#g-drive paths\n",
        "train = '/content/drive/My Drive/Zindi-Competionts/customer-churn-prediction/datasets/AIMS_Train.csv'\n",
        "test = '/content/drive/My Drive/Zindi-Competionts/customer-churn-prediction/datasets/AIMS_Test.csv'\n",
        "variables = '/content/drive/My Drive/Zindi-Competionts/customer-churn-prediction/datasets/VariableDefinitions.csv'\n",
        "submissions = '/content/drive/My Drive/Zindi-Competionts/customer-churn-prediction/datasets/AIMS_SampleSubmission.csv' "
      ],
      "execution_count": 8,
      "outputs": []
    },
    {
      "cell_type": "code",
      "metadata": {
        "id": "HkmRSVxf6aoJ",
        "colab_type": "code",
        "colab": {}
      },
      "source": [
        "#colab\n",
        "train = pd.read_csv(train)\n",
        "test=  pd.read_csv(test)\n",
        "submission = pd.read_csv(submissions)\n",
        "variables = pd.read_csv(variables, header=2)"
      ],
      "execution_count": 9,
      "outputs": []
    },
    {
      "cell_type": "code",
      "metadata": {
        "id": "Uptp-rMy5qFd",
        "colab_type": "code",
        "colab": {}
      },
      "source": [
        "#import data - jupyter localhost\n",
        "\n",
        "# train = pd.read_csv('../datasets/AIMS_Train.csv')\n",
        "# test=  pd.read_csv('../datasets/AIMS_Test.csv')\n",
        "# submission = pd.read_csv('../datasets/AIMS_SampleSubmission.csv')\n",
        "# variables = pd.read_csv('../datasets/VariableDefinitions.csv')"
      ],
      "execution_count": 10,
      "outputs": []
    },
    {
      "cell_type": "markdown",
      "metadata": {
        "id": "0emn0mTgoZsr",
        "colab_type": "text"
      },
      "source": [
        "#### Define Utility Functions"
      ]
    },
    {
      "cell_type": "markdown",
      "metadata": {
        "id": "qu3Ad6t6otiY",
        "colab_type": "text"
      },
      "source": [
        "> Calculate number of levels in categorical variables"
      ]
    },
    {
      "cell_type": "code",
      "metadata": {
        "id": "iKh6k5DEoh9Y",
        "colab_type": "code",
        "colab": {}
      },
      "source": [
        "def check_levels(data, exclude_cols=[]):\n",
        "    cat_cols = data.select_dtypes(include='object').columns.tolist()\n",
        "    \n",
        "    for col in cat_cols:\n",
        "        if col not in exclude_cols:\n",
        "            print('*-*'*10,'\\n')\n",
        "            print(data[col].value_counts())\n",
        "            plt.figure(figsize=(10,5)) \n",
        "            plt.title(f\"Value Counts of {col}\", fontsize=15)\n",
        "            data[col].value_counts(normalize=True).plot(kind='bar')\n",
        "            print('*-*'*10,'\\n')\n",
        "            plt.ylabel('counts')\n",
        "            plt.xlabel(col)"
      ],
      "execution_count": 11,
      "outputs": []
    },
    {
      "cell_type": "markdown",
      "metadata": {
        "id": "F437FBvKpEqA",
        "colab_type": "text"
      },
      "source": [
        "> check for null values"
      ]
    },
    {
      "cell_type": "code",
      "metadata": {
        "id": "k3lCPn_josfC",
        "colab_type": "code",
        "colab": {}
      },
      "source": [
        "def check_null(data, plot=True):\n",
        "    print(data.isnull().sum()) \n",
        "    if plot:\n",
        "        plt.figure(figsize=(10,5))\n",
        "        plt.title(f\"Null Values Count\", fontsize=15)\n",
        "        data.isnull().sum().plot.bar()"
      ],
      "execution_count": 12,
      "outputs": []
    },
    {
      "cell_type": "markdown",
      "metadata": {
        "id": "uNTHvdL2pPFs",
        "colab_type": "text"
      },
      "source": [
        "> check for outliers"
      ]
    },
    {
      "cell_type": "code",
      "metadata": {
        "id": "52YpxaR1pOXn",
        "colab_type": "code",
        "colab": {}
      },
      "source": [
        "def check_outliers(data, show_plot=False, save_img=os.getcwd()+'/outliers.png'):\n",
        " \n",
        "        \"\"\"\n",
        "        This functions checks for columns with outlers using the IQR method\n",
        "\n",
        "        It accespts as argmuent a dataset. \n",
        "        show_plot can be set to True to output pairplots of outlier columns    \n",
        "        \"\"\"\n",
        "\n",
        "        outliers = [] \n",
        "        Q1 = data.quantile(0.25)  \n",
        "        Q3 = data.quantile(0.75)\n",
        "        IQR = Q3 - Q1 \n",
        "        num_data = data.select_dtypes(include=['float64', 'int64'])\n",
        "        result = dict (((num_data < (Q1 - 1.5 * IQR)) | (num_data > (Q3 + 1.5 * IQR))).any())\n",
        "        print(result)  \n",
        "        index = data[(num_data < Q1 - 1.5 * IQR) | (num_data > Q3 + 1.5 * IQR)].index\n",
        "        for k,v in result.items(): \n",
        "            if v == True:  \n",
        "                outliers.append(k) \n",
        "        if show_plot:\n",
        "            outlier_pair_plot = sns.pairplot(data[outliers]); \n",
        "            print(f'{result},\\n\\n Visualization of outlier columns')\n",
        "            plt.savefig(fname=save_img, format='png')\n",
        "            return  outlier_pair_plot\n",
        "        else:\n",
        "            print(data.shape)\n",
        "            return data.loc[index, outliers] "
      ],
      "execution_count": 13,
      "outputs": []
    },
    {
      "cell_type": "markdown",
      "metadata": {
        "id": "meK0n5G9Eddl",
        "colab_type": "text"
      },
      "source": [
        "> Define functions to mesaure predictions performance\n"
      ]
    },
    {
      "cell_type": "code",
      "metadata": {
        "id": "2l1hfmVJEaC_",
        "colab_type": "code",
        "colab": {}
      },
      "source": [
        "class PredMetrics():\n",
        "\n",
        "  def __init__(self, X, y, y_pred, y_true, model, scorer:make_scorer,\n",
        "                 verbose=False, cv=StratifiedKFold(random_state=123)):\n",
        "    \n",
        "    self.X = X \n",
        "    self.y = y\n",
        "    self.y_pred = y_pred\n",
        "    self.y_true = y_true\n",
        "    self.model = model\n",
        "    self.scorer = scorer\n",
        "    self.cv = cv \n",
        "\n",
        "  def __repr__(self):\n",
        "    return \"Prediction Metrics\"\n",
        "\n",
        "  \n",
        "  def cv_score(self):\n",
        "\n",
        "     self.cv_score_metric = cross_val_score(model = self.model, X=self.X, y=self.y, scoring = self.scorer, verbose=verbose, cv=self.cv)\n",
        "\n",
        "     return self.cv_score_metric\n",
        "\n",
        "  def conf_matrix(self):\n",
        "\n",
        "    self.conf_matrix_metric = confusion_matrix(y_true=self.y_true, y_pred=self.y_pred)\n",
        "\n",
        "    return self.conf_matrix_metric\n",
        "\n",
        "  def log_loss_score(self):\n",
        "\n",
        "    self.log_loss_metric = log_loss(y_true = self.y_true, y_pred = self.y_pred)\n",
        "\n",
        "    return self.log_loss_metric\n",
        "\n",
        "  def roc_curve(self):\n",
        "\n",
        "    self.plot_roc_metric = plot_roc_curve(self.model, X=self.X, y = self.y)\n",
        "      \n",
        "    return self.plot_roc_metric\n",
        "  \n",
        "  def class_report(self):\n",
        "\n",
        "    self.class_report_metric = classification_report_imbalanced(y_true = self.y_true, y_pred = self.y_pred)\n",
        "\n",
        "    return self.class_report_metric"
      ],
      "execution_count": 14,
      "outputs": []
    },
    {
      "cell_type": "markdown",
      "metadata": {
        "id": "1nYHSrmGEXG5",
        "colab_type": "text"
      },
      "source": [
        "> Define functions to save satisifed predictions"
      ]
    },
    {
      "cell_type": "code",
      "metadata": {
        "id": "dBnOBTIDERrz",
        "colab_type": "code",
        "colab": {}
      },
      "source": [
        "def save_pred(y_hat, test_set, file_name =\"new_submission\"):\n",
        "  prediction_path = '/content/drive/My Drive/Zindi-Competionts/zimnat_Challenge_predicting_insurance_purchase/submissions/'\n",
        "  from datetime import datetime\n",
        "  file_name=file_name+datetime.now().strftime('%Y-%m-%d')\n",
        "  submissions = pd.DataFrame({'ID X PCODE':test_set['ID X PCODE'],'Label':y_hat})\n",
        "  submissions.to_csv(prediction_path+file_name, index=False)\n",
        "  return submissons "
      ],
      "execution_count": 15,
      "outputs": []
    },
    {
      "cell_type": "markdown",
      "metadata": {
        "id": "3fnJT9gpxWPP",
        "colab_type": "text"
      },
      "source": [
        "#### Define Custom Estimators"
      ]
    },
    {
      "cell_type": "code",
      "metadata": {
        "id": "RnvJNUnIxbSz",
        "colab_type": "code",
        "colab": {}
      },
      "source": [
        ""
      ],
      "execution_count": 15,
      "outputs": []
    },
    {
      "cell_type": "code",
      "metadata": {
        "id": "czqrIF1d5qFl",
        "colab_type": "code",
        "colab": {
          "base_uri": "https://localhost:8080/",
          "height": 767
        },
        "outputId": "709eb800-47bc-401a-f26f-80a11e070924"
      },
      "source": [
        "variables"
      ],
      "execution_count": 16,
      "outputs": [
        {
          "output_type": "execute_result",
          "data": {
            "text/html": [
              "<div>\n",
              "<style scoped>\n",
              "    .dataframe tbody tr th:only-of-type {\n",
              "        vertical-align: middle;\n",
              "    }\n",
              "\n",
              "    .dataframe tbody tr th {\n",
              "        vertical-align: top;\n",
              "    }\n",
              "\n",
              "    .dataframe thead th {\n",
              "        text-align: right;\n",
              "    }\n",
              "</style>\n",
              "<table border=\"1\" class=\"dataframe\">\n",
              "  <thead>\n",
              "    <tr style=\"text-align: right;\">\n",
              "      <th></th>\n",
              "      <th>Unnamed: 0</th>\n",
              "      <th>Le dataset churn comprend 19 variables dont 15 variables numeriques et 04 variables categoriques.</th>\n",
              "      <th>The churn dataset includes 19 variables including 15 numeric variables and 04 categorical variables.</th>\n",
              "    </tr>\n",
              "  </thead>\n",
              "  <tbody>\n",
              "    <tr>\n",
              "      <th>0</th>\n",
              "      <td>user_id</td>\n",
              "      <td>NaN</td>\n",
              "      <td>NaN</td>\n",
              "    </tr>\n",
              "    <tr>\n",
              "      <th>1</th>\n",
              "      <td>REGION</td>\n",
              "      <td>la localité de chaque client</td>\n",
              "      <td>the location of each client</td>\n",
              "    </tr>\n",
              "    <tr>\n",
              "      <th>2</th>\n",
              "      <td>TENURE</td>\n",
              "      <td>la durée dans le reseau</td>\n",
              "      <td>duration in the network</td>\n",
              "    </tr>\n",
              "    <tr>\n",
              "      <th>3</th>\n",
              "      <td>MONTANT</td>\n",
              "      <td>montant de recharge</td>\n",
              "      <td>top-up amount</td>\n",
              "    </tr>\n",
              "    <tr>\n",
              "      <th>4</th>\n",
              "      <td>FREQUENCE_RECH</td>\n",
              "      <td>nombre de fois que le client a fait une recharge</td>\n",
              "      <td>number of times the customer refilled</td>\n",
              "    </tr>\n",
              "    <tr>\n",
              "      <th>5</th>\n",
              "      <td>REVENUE</td>\n",
              "      <td>revenu mensuel de chaque client</td>\n",
              "      <td>monthly income of each client</td>\n",
              "    </tr>\n",
              "    <tr>\n",
              "      <th>6</th>\n",
              "      <td>ARPU_SEGMENT</td>\n",
              "      <td>revenu sur 90 jours/3</td>\n",
              "      <td>income over 90 days / 3</td>\n",
              "    </tr>\n",
              "    <tr>\n",
              "      <th>7</th>\n",
              "      <td>FREQUENCE</td>\n",
              "      <td>nombre de fois que client à fait un revenu</td>\n",
              "      <td>number of times the client has made an income</td>\n",
              "    </tr>\n",
              "    <tr>\n",
              "      <th>8</th>\n",
              "      <td>DATA_VOLUME</td>\n",
              "      <td>nombre de connexions</td>\n",
              "      <td>number of connections</td>\n",
              "    </tr>\n",
              "    <tr>\n",
              "      <th>9</th>\n",
              "      <td>ON_NET</td>\n",
              "      <td>appel inter expresso</td>\n",
              "      <td>inter expresso call</td>\n",
              "    </tr>\n",
              "    <tr>\n",
              "      <th>10</th>\n",
              "      <td>ORANGE</td>\n",
              "      <td>appel vers orange</td>\n",
              "      <td>call to orange</td>\n",
              "    </tr>\n",
              "    <tr>\n",
              "      <th>11</th>\n",
              "      <td>TIGO</td>\n",
              "      <td>appel vers Tigo</td>\n",
              "      <td>call to Tigo</td>\n",
              "    </tr>\n",
              "    <tr>\n",
              "      <th>12</th>\n",
              "      <td>ZONE1</td>\n",
              "      <td>appel vers les zone1</td>\n",
              "      <td>call to zones1</td>\n",
              "    </tr>\n",
              "    <tr>\n",
              "      <th>13</th>\n",
              "      <td>ZONE2</td>\n",
              "      <td>appel vers les zone2</td>\n",
              "      <td>call to zones2</td>\n",
              "    </tr>\n",
              "    <tr>\n",
              "      <th>14</th>\n",
              "      <td>MRG</td>\n",
              "      <td>un client qui fait du vas</td>\n",
              "      <td>a client who is going</td>\n",
              "    </tr>\n",
              "    <tr>\n",
              "      <th>15</th>\n",
              "      <td>REGULARITY</td>\n",
              "      <td>nombre de fois que le client est actif pendant...</td>\n",
              "      <td>number of times the client is active for 90 days</td>\n",
              "    </tr>\n",
              "    <tr>\n",
              "      <th>16</th>\n",
              "      <td>TOP_PACK</td>\n",
              "      <td>les pack les plus activés</td>\n",
              "      <td>the most active packs</td>\n",
              "    </tr>\n",
              "    <tr>\n",
              "      <th>17</th>\n",
              "      <td>FREQ_TOP_PACK</td>\n",
              "      <td>nombre de fois que le client a activé les pack...</td>\n",
              "      <td>number of times the client has activated the t...</td>\n",
              "    </tr>\n",
              "    <tr>\n",
              "      <th>18</th>\n",
              "      <td>CHURN</td>\n",
              "      <td>variable à predire - Target</td>\n",
              "      <td>variable to predict - Target</td>\n",
              "    </tr>\n",
              "  </tbody>\n",
              "</table>\n",
              "</div>"
            ],
            "text/plain": [
              "        Unnamed: 0  ... The churn dataset includes 19 variables including 15 numeric variables and 04 categorical variables.\n",
              "0          user_id  ...                                                NaN                                                  \n",
              "1           REGION  ...                        the location of each client                                                  \n",
              "2           TENURE  ...                            duration in the network                                                  \n",
              "3          MONTANT  ...                                      top-up amount                                                  \n",
              "4   FREQUENCE_RECH  ...              number of times the customer refilled                                                  \n",
              "5          REVENUE  ...                      monthly income of each client                                                  \n",
              "6     ARPU_SEGMENT  ...                            income over 90 days / 3                                                  \n",
              "7        FREQUENCE  ...      number of times the client has made an income                                                  \n",
              "8      DATA_VOLUME  ...                              number of connections                                                  \n",
              "9           ON_NET  ...                                inter expresso call                                                  \n",
              "10          ORANGE  ...                                     call to orange                                                  \n",
              "11            TIGO  ...                                       call to Tigo                                                  \n",
              "12           ZONE1  ...                                     call to zones1                                                  \n",
              "13           ZONE2  ...                                     call to zones2                                                  \n",
              "14             MRG  ...                              a client who is going                                                  \n",
              "15      REGULARITY  ...   number of times the client is active for 90 days                                                  \n",
              "16        TOP_PACK  ...                              the most active packs                                                  \n",
              "17   FREQ_TOP_PACK  ...  number of times the client has activated the t...                                                  \n",
              "18           CHURN  ...                       variable to predict - Target                                                  \n",
              "\n",
              "[19 rows x 3 columns]"
            ]
          },
          "metadata": {
            "tags": []
          },
          "execution_count": 16
        }
      ]
    },
    {
      "cell_type": "code",
      "metadata": {
        "id": "Kpec6XGXPVyp",
        "colab_type": "code",
        "colab": {
          "base_uri": "https://localhost:8080/",
          "height": 469
        },
        "outputId": "c87f9046-c117-45b7-c199-a1bbf2d0bdcf"
      },
      "source": [
        "train.info() "
      ],
      "execution_count": 17,
      "outputs": [
        {
          "output_type": "stream",
          "text": [
            "<class 'pandas.core.frame.DataFrame'>\n",
            "RangeIndex: 646214 entries, 0 to 646213\n",
            "Data columns (total 19 columns):\n",
            " #   Column          Non-Null Count   Dtype  \n",
            "---  ------          --------------   -----  \n",
            " 0   user_id         646214 non-null  object \n",
            " 1   REGION          391246 non-null  object \n",
            " 2   TENURE          646214 non-null  object \n",
            " 3   MONTANT         419154 non-null  float64\n",
            " 4   FREQUENCE_RECH  419154 non-null  float64\n",
            " 5   REVENUE         428459 non-null  float64\n",
            " 6   ARPU_SEGMENT    428459 non-null  float64\n",
            " 7   FREQUENCE       428459 non-null  float64\n",
            " 8   DATA_VOLUME     327544 non-null  float64\n",
            " 9   ON_NET          409962 non-null  float64\n",
            " 10  ORANGE          377516 non-null  float64\n",
            " 11  TIGO            259060 non-null  float64\n",
            " 12  ZONE1           50406 non-null   float64\n",
            " 13  ZONE2           41072 non-null   float64\n",
            " 14  MRG             646214 non-null  object \n",
            " 15  REGULARITY      646214 non-null  int64  \n",
            " 16  TOP_PACK        375331 non-null  object \n",
            " 17  FREQ_TOP_PACK   375331 non-null  float64\n",
            " 18  CHURN           646214 non-null  int64  \n",
            "dtypes: float64(12), int64(2), object(5)\n",
            "memory usage: 93.7+ MB\n"
          ],
          "name": "stdout"
        }
      ]
    },
    {
      "cell_type": "code",
      "metadata": {
        "id": "5gw8z5ta5qFy",
        "colab_type": "code",
        "colab": {
          "base_uri": "https://localhost:8080/",
          "height": 330
        },
        "outputId": "09473c04-2488-4247-e43e-20395ce4fdbb"
      },
      "source": [
        "# train.drop(columns=['REGION', 'TOP_PACK', 'MRG'], inplace=True) \n",
        "train = train.sample(frac=.3, random_state=123) \n",
        "train.head() "
      ],
      "execution_count": 18,
      "outputs": [
        {
          "output_type": "execute_result",
          "data": {
            "text/html": [
              "<div>\n",
              "<style scoped>\n",
              "    .dataframe tbody tr th:only-of-type {\n",
              "        vertical-align: middle;\n",
              "    }\n",
              "\n",
              "    .dataframe tbody tr th {\n",
              "        vertical-align: top;\n",
              "    }\n",
              "\n",
              "    .dataframe thead th {\n",
              "        text-align: right;\n",
              "    }\n",
              "</style>\n",
              "<table border=\"1\" class=\"dataframe\">\n",
              "  <thead>\n",
              "    <tr style=\"text-align: right;\">\n",
              "      <th></th>\n",
              "      <th>user_id</th>\n",
              "      <th>REGION</th>\n",
              "      <th>TENURE</th>\n",
              "      <th>MONTANT</th>\n",
              "      <th>FREQUENCE_RECH</th>\n",
              "      <th>REVENUE</th>\n",
              "      <th>ARPU_SEGMENT</th>\n",
              "      <th>FREQUENCE</th>\n",
              "      <th>DATA_VOLUME</th>\n",
              "      <th>ON_NET</th>\n",
              "      <th>ORANGE</th>\n",
              "      <th>TIGO</th>\n",
              "      <th>ZONE1</th>\n",
              "      <th>ZONE2</th>\n",
              "      <th>MRG</th>\n",
              "      <th>REGULARITY</th>\n",
              "      <th>TOP_PACK</th>\n",
              "      <th>FREQ_TOP_PACK</th>\n",
              "      <th>CHURN</th>\n",
              "    </tr>\n",
              "  </thead>\n",
              "  <tbody>\n",
              "    <tr>\n",
              "      <th>542316</th>\n",
              "      <td>16a8528ec3b1201f5cb8bfc35533744b79bd44d2</td>\n",
              "      <td>NaN</td>\n",
              "      <td>K &gt; 24 month</td>\n",
              "      <td>NaN</td>\n",
              "      <td>NaN</td>\n",
              "      <td>NaN</td>\n",
              "      <td>NaN</td>\n",
              "      <td>NaN</td>\n",
              "      <td>NaN</td>\n",
              "      <td>NaN</td>\n",
              "      <td>NaN</td>\n",
              "      <td>NaN</td>\n",
              "      <td>NaN</td>\n",
              "      <td>NaN</td>\n",
              "      <td>NO</td>\n",
              "      <td>1</td>\n",
              "      <td>NaN</td>\n",
              "      <td>NaN</td>\n",
              "      <td>1</td>\n",
              "    </tr>\n",
              "    <tr>\n",
              "      <th>59878</th>\n",
              "      <td>3a8b710546fb6272a56908c2fcbcef20e2caa0cf</td>\n",
              "      <td>THIES</td>\n",
              "      <td>K &gt; 24 month</td>\n",
              "      <td>11650.0</td>\n",
              "      <td>30.0</td>\n",
              "      <td>11682.0</td>\n",
              "      <td>3894.0</td>\n",
              "      <td>32.0</td>\n",
              "      <td>7119.0</td>\n",
              "      <td>23.0</td>\n",
              "      <td>468.0</td>\n",
              "      <td>54.0</td>\n",
              "      <td>0.0</td>\n",
              "      <td>NaN</td>\n",
              "      <td>NO</td>\n",
              "      <td>60</td>\n",
              "      <td>Jokko_Daily</td>\n",
              "      <td>18.0</td>\n",
              "      <td>0</td>\n",
              "    </tr>\n",
              "    <tr>\n",
              "      <th>10729</th>\n",
              "      <td>0f34b0bf4dac19dd901b7e03dd79cb79ed0b744a</td>\n",
              "      <td>SAINT-LOUIS</td>\n",
              "      <td>K &gt; 24 month</td>\n",
              "      <td>1000.0</td>\n",
              "      <td>2.0</td>\n",
              "      <td>1000.0</td>\n",
              "      <td>333.0</td>\n",
              "      <td>2.0</td>\n",
              "      <td>NaN</td>\n",
              "      <td>7.0</td>\n",
              "      <td>45.0</td>\n",
              "      <td>NaN</td>\n",
              "      <td>NaN</td>\n",
              "      <td>NaN</td>\n",
              "      <td>NO</td>\n",
              "      <td>22</td>\n",
              "      <td>All-net 500F=2000F;5d</td>\n",
              "      <td>2.0</td>\n",
              "      <td>0</td>\n",
              "    </tr>\n",
              "    <tr>\n",
              "      <th>456437</th>\n",
              "      <td>dc34cfe39e89bddddf7f7550431681b6fc31e72e</td>\n",
              "      <td>KAOLACK</td>\n",
              "      <td>K &gt; 24 month</td>\n",
              "      <td>500.0</td>\n",
              "      <td>1.0</td>\n",
              "      <td>480.0</td>\n",
              "      <td>160.0</td>\n",
              "      <td>4.0</td>\n",
              "      <td>1875.0</td>\n",
              "      <td>14.0</td>\n",
              "      <td>1.0</td>\n",
              "      <td>NaN</td>\n",
              "      <td>NaN</td>\n",
              "      <td>NaN</td>\n",
              "      <td>NO</td>\n",
              "      <td>20</td>\n",
              "      <td>Data: 100 F=40MB,24H</td>\n",
              "      <td>2.0</td>\n",
              "      <td>0</td>\n",
              "    </tr>\n",
              "    <tr>\n",
              "      <th>273902</th>\n",
              "      <td>3920ace4d36a498dde155bec15757407846258fc</td>\n",
              "      <td>NaN</td>\n",
              "      <td>K &gt; 24 month</td>\n",
              "      <td>11150.0</td>\n",
              "      <td>34.0</td>\n",
              "      <td>11750.0</td>\n",
              "      <td>3917.0</td>\n",
              "      <td>40.0</td>\n",
              "      <td>789.0</td>\n",
              "      <td>125.0</td>\n",
              "      <td>303.0</td>\n",
              "      <td>29.0</td>\n",
              "      <td>0.0</td>\n",
              "      <td>NaN</td>\n",
              "      <td>NO</td>\n",
              "      <td>46</td>\n",
              "      <td>On net 200F=Unlimited _call24H</td>\n",
              "      <td>31.0</td>\n",
              "      <td>0</td>\n",
              "    </tr>\n",
              "  </tbody>\n",
              "</table>\n",
              "</div>"
            ],
            "text/plain": [
              "                                         user_id  ... CHURN\n",
              "542316  16a8528ec3b1201f5cb8bfc35533744b79bd44d2  ...     1\n",
              "59878   3a8b710546fb6272a56908c2fcbcef20e2caa0cf  ...     0\n",
              "10729   0f34b0bf4dac19dd901b7e03dd79cb79ed0b744a  ...     0\n",
              "456437  dc34cfe39e89bddddf7f7550431681b6fc31e72e  ...     0\n",
              "273902  3920ace4d36a498dde155bec15757407846258fc  ...     0\n",
              "\n",
              "[5 rows x 19 columns]"
            ]
          },
          "metadata": {
            "tags": []
          },
          "execution_count": 18
        }
      ]
    },
    {
      "cell_type": "code",
      "metadata": {
        "id": "012f_WXe5qF6",
        "colab_type": "code",
        "colab": {
          "base_uri": "https://localhost:8080/",
          "height": 313
        },
        "outputId": "edbbeb2f-29bf-4d5c-a78a-0133e92b68f4"
      },
      "source": [
        "train.tail()"
      ],
      "execution_count": 19,
      "outputs": [
        {
          "output_type": "execute_result",
          "data": {
            "text/html": [
              "<div>\n",
              "<style scoped>\n",
              "    .dataframe tbody tr th:only-of-type {\n",
              "        vertical-align: middle;\n",
              "    }\n",
              "\n",
              "    .dataframe tbody tr th {\n",
              "        vertical-align: top;\n",
              "    }\n",
              "\n",
              "    .dataframe thead th {\n",
              "        text-align: right;\n",
              "    }\n",
              "</style>\n",
              "<table border=\"1\" class=\"dataframe\">\n",
              "  <thead>\n",
              "    <tr style=\"text-align: right;\">\n",
              "      <th></th>\n",
              "      <th>user_id</th>\n",
              "      <th>REGION</th>\n",
              "      <th>TENURE</th>\n",
              "      <th>MONTANT</th>\n",
              "      <th>FREQUENCE_RECH</th>\n",
              "      <th>REVENUE</th>\n",
              "      <th>ARPU_SEGMENT</th>\n",
              "      <th>FREQUENCE</th>\n",
              "      <th>DATA_VOLUME</th>\n",
              "      <th>ON_NET</th>\n",
              "      <th>ORANGE</th>\n",
              "      <th>TIGO</th>\n",
              "      <th>ZONE1</th>\n",
              "      <th>ZONE2</th>\n",
              "      <th>MRG</th>\n",
              "      <th>REGULARITY</th>\n",
              "      <th>TOP_PACK</th>\n",
              "      <th>FREQ_TOP_PACK</th>\n",
              "      <th>CHURN</th>\n",
              "    </tr>\n",
              "  </thead>\n",
              "  <tbody>\n",
              "    <tr>\n",
              "      <th>392679</th>\n",
              "      <td>48d344fd728daa817fdcc1d5b42c24bf9ca40227</td>\n",
              "      <td>LOUGA</td>\n",
              "      <td>K &gt; 24 month</td>\n",
              "      <td>500.0</td>\n",
              "      <td>1.0</td>\n",
              "      <td>500.0</td>\n",
              "      <td>167.0</td>\n",
              "      <td>1.0</td>\n",
              "      <td>0.0</td>\n",
              "      <td>9.0</td>\n",
              "      <td>8.0</td>\n",
              "      <td>15.0</td>\n",
              "      <td>NaN</td>\n",
              "      <td>NaN</td>\n",
              "      <td>NO</td>\n",
              "      <td>20</td>\n",
              "      <td>All-net 500F=2000F;5d</td>\n",
              "      <td>1.0</td>\n",
              "      <td>0</td>\n",
              "    </tr>\n",
              "    <tr>\n",
              "      <th>494369</th>\n",
              "      <td>b8ee2c6522cb33c8a167a6978972fce2b705f8a6</td>\n",
              "      <td>DAKAR</td>\n",
              "      <td>K &gt; 24 month</td>\n",
              "      <td>1100.0</td>\n",
              "      <td>3.0</td>\n",
              "      <td>1098.0</td>\n",
              "      <td>366.0</td>\n",
              "      <td>3.0</td>\n",
              "      <td>216.0</td>\n",
              "      <td>27.0</td>\n",
              "      <td>1.0</td>\n",
              "      <td>2.0</td>\n",
              "      <td>NaN</td>\n",
              "      <td>NaN</td>\n",
              "      <td>NO</td>\n",
              "      <td>20</td>\n",
              "      <td>Data: 100 F=40MB,24H</td>\n",
              "      <td>2.0</td>\n",
              "      <td>0</td>\n",
              "    </tr>\n",
              "    <tr>\n",
              "      <th>59888</th>\n",
              "      <td>efaef8feb41c744fe8dbc5c8a05eb323ebb13a1a</td>\n",
              "      <td>THIES</td>\n",
              "      <td>K &gt; 24 month</td>\n",
              "      <td>1000.0</td>\n",
              "      <td>2.0</td>\n",
              "      <td>1000.0</td>\n",
              "      <td>333.0</td>\n",
              "      <td>2.0</td>\n",
              "      <td>NaN</td>\n",
              "      <td>34.0</td>\n",
              "      <td>43.0</td>\n",
              "      <td>2.0</td>\n",
              "      <td>NaN</td>\n",
              "      <td>NaN</td>\n",
              "      <td>NO</td>\n",
              "      <td>13</td>\n",
              "      <td>All-net 500F =2000F_AllNet_Unlimited</td>\n",
              "      <td>1.0</td>\n",
              "      <td>0</td>\n",
              "    </tr>\n",
              "    <tr>\n",
              "      <th>561559</th>\n",
              "      <td>0042094e077ec75af7ded7e3ec662c421d93d242</td>\n",
              "      <td>NaN</td>\n",
              "      <td>K &gt; 24 month</td>\n",
              "      <td>NaN</td>\n",
              "      <td>NaN</td>\n",
              "      <td>NaN</td>\n",
              "      <td>NaN</td>\n",
              "      <td>NaN</td>\n",
              "      <td>NaN</td>\n",
              "      <td>NaN</td>\n",
              "      <td>NaN</td>\n",
              "      <td>NaN</td>\n",
              "      <td>NaN</td>\n",
              "      <td>NaN</td>\n",
              "      <td>NO</td>\n",
              "      <td>2</td>\n",
              "      <td>NaN</td>\n",
              "      <td>NaN</td>\n",
              "      <td>1</td>\n",
              "    </tr>\n",
              "    <tr>\n",
              "      <th>379331</th>\n",
              "      <td>69c3b8e7dd5e9d374e771be2e11c0b27be804523</td>\n",
              "      <td>DAKAR</td>\n",
              "      <td>K &gt; 24 month</td>\n",
              "      <td>7200.0</td>\n",
              "      <td>16.0</td>\n",
              "      <td>7190.0</td>\n",
              "      <td>2397.0</td>\n",
              "      <td>18.0</td>\n",
              "      <td>5284.0</td>\n",
              "      <td>7.0</td>\n",
              "      <td>83.0</td>\n",
              "      <td>NaN</td>\n",
              "      <td>NaN</td>\n",
              "      <td>0.0</td>\n",
              "      <td>NO</td>\n",
              "      <td>60</td>\n",
              "      <td>Data:490F=1GB,7d</td>\n",
              "      <td>8.0</td>\n",
              "      <td>0</td>\n",
              "    </tr>\n",
              "  </tbody>\n",
              "</table>\n",
              "</div>"
            ],
            "text/plain": [
              "                                         user_id REGION  ... FREQ_TOP_PACK  CHURN\n",
              "392679  48d344fd728daa817fdcc1d5b42c24bf9ca40227  LOUGA  ...           1.0      0\n",
              "494369  b8ee2c6522cb33c8a167a6978972fce2b705f8a6  DAKAR  ...           2.0      0\n",
              "59888   efaef8feb41c744fe8dbc5c8a05eb323ebb13a1a  THIES  ...           1.0      0\n",
              "561559  0042094e077ec75af7ded7e3ec662c421d93d242    NaN  ...           NaN      1\n",
              "379331  69c3b8e7dd5e9d374e771be2e11c0b27be804523  DAKAR  ...           8.0      0\n",
              "\n",
              "[5 rows x 19 columns]"
            ]
          },
          "metadata": {
            "tags": []
          },
          "execution_count": 19
        }
      ]
    },
    {
      "cell_type": "code",
      "metadata": {
        "id": "nhT-Bi-P5qGC",
        "colab_type": "code",
        "colab": {
          "base_uri": "https://localhost:8080/",
          "height": 34
        },
        "outputId": "6b6bc7bd-356f-48a7-aafe-be6967448ae8"
      },
      "source": [
        "train.shape"
      ],
      "execution_count": 20,
      "outputs": [
        {
          "output_type": "execute_result",
          "data": {
            "text/plain": [
              "(193864, 19)"
            ]
          },
          "metadata": {
            "tags": []
          },
          "execution_count": 20
        }
      ]
    },
    {
      "cell_type": "code",
      "metadata": {
        "id": "24uxEMRb5qGK",
        "colab_type": "code",
        "colab": {
          "base_uri": "https://localhost:8080/",
          "height": 469
        },
        "outputId": "1f0d1a5e-ee47-4086-a412-4f50e4fcc5f1"
      },
      "source": [
        "#view the data types in the train data\n",
        "train.info()"
      ],
      "execution_count": 21,
      "outputs": [
        {
          "output_type": "stream",
          "text": [
            "<class 'pandas.core.frame.DataFrame'>\n",
            "Int64Index: 193864 entries, 542316 to 379331\n",
            "Data columns (total 19 columns):\n",
            " #   Column          Non-Null Count   Dtype  \n",
            "---  ------          --------------   -----  \n",
            " 0   user_id         193864 non-null  object \n",
            " 1   REGION          117130 non-null  object \n",
            " 2   TENURE          193864 non-null  object \n",
            " 3   MONTANT         125596 non-null  float64\n",
            " 4   FREQUENCE_RECH  125596 non-null  float64\n",
            " 5   REVENUE         128373 non-null  float64\n",
            " 6   ARPU_SEGMENT    128373 non-null  float64\n",
            " 7   FREQUENCE       128373 non-null  float64\n",
            " 8   DATA_VOLUME     97818 non-null   float64\n",
            " 9   ON_NET          122924 non-null  float64\n",
            " 10  ORANGE          113127 non-null  float64\n",
            " 11  TIGO            77925 non-null   float64\n",
            " 12  ZONE1           15235 non-null   float64\n",
            " 13  ZONE2           12164 non-null   float64\n",
            " 14  MRG             193864 non-null  object \n",
            " 15  REGULARITY      193864 non-null  int64  \n",
            " 16  TOP_PACK        112372 non-null  object \n",
            " 17  FREQ_TOP_PACK   112372 non-null  float64\n",
            " 18  CHURN           193864 non-null  int64  \n",
            "dtypes: float64(12), int64(2), object(5)\n",
            "memory usage: 29.6+ MB\n"
          ],
          "name": "stdout"
        }
      ]
    },
    {
      "cell_type": "code",
      "metadata": {
        "id": "4Semj3JpPbYi",
        "colab_type": "code",
        "colab": {
          "base_uri": "https://localhost:8080/",
          "height": 451
        },
        "outputId": "acd160e6-78e9-4f54-e10b-2556cf007354"
      },
      "source": [
        "test.info()"
      ],
      "execution_count": 22,
      "outputs": [
        {
          "output_type": "stream",
          "text": [
            "<class 'pandas.core.frame.DataFrame'>\n",
            "RangeIndex: 114038 entries, 0 to 114037\n",
            "Data columns (total 18 columns):\n",
            " #   Column          Non-Null Count   Dtype  \n",
            "---  ------          --------------   -----  \n",
            " 0   user_id         114038 non-null  object \n",
            " 1   REGION          69081 non-null   object \n",
            " 2   TENURE          114038 non-null  object \n",
            " 3   MONTANT         74135 non-null   float64\n",
            " 4   FREQUENCE_RECH  74135 non-null   float64\n",
            " 5   REVENUE         75854 non-null   float64\n",
            " 6   ARPU_SEGMENT    75854 non-null   float64\n",
            " 7   FREQUENCE       75854 non-null   float64\n",
            " 8   DATA_VOLUME     58049 non-null   float64\n",
            " 9   ON_NET          72436 non-null   float64\n",
            " 10  ORANGE          66823 non-null   float64\n",
            " 11  TIGO            45908 non-null   float64\n",
            " 12  ZONE1           9011 non-null    float64\n",
            " 13  ZONE2           7217 non-null    float64\n",
            " 14  MRG             114038 non-null  object \n",
            " 15  REGULARITY      114038 non-null  int64  \n",
            " 16  TOP_PACK        66425 non-null   object \n",
            " 17  FREQ_TOP_PACK   66425 non-null   float64\n",
            "dtypes: float64(12), int64(1), object(5)\n",
            "memory usage: 15.7+ MB\n"
          ],
          "name": "stdout"
        }
      ]
    },
    {
      "cell_type": "code",
      "metadata": {
        "id": "7nPeA_Md5qGS",
        "colab_type": "code",
        "colab": {
          "base_uri": "https://localhost:8080/",
          "height": 348
        },
        "outputId": "b4e0bba9-9833-4274-fdd5-2f87d25a08e3"
      },
      "source": [
        "# test.drop(columns=['REGION', 'TOP_PACK', 'MRG'], inplace=True) \n",
        "test = test.sample(frac=.3, random_state=123)\n",
        "test.head()  "
      ],
      "execution_count": 23,
      "outputs": [
        {
          "output_type": "execute_result",
          "data": {
            "text/html": [
              "<div>\n",
              "<style scoped>\n",
              "    .dataframe tbody tr th:only-of-type {\n",
              "        vertical-align: middle;\n",
              "    }\n",
              "\n",
              "    .dataframe tbody tr th {\n",
              "        vertical-align: top;\n",
              "    }\n",
              "\n",
              "    .dataframe thead th {\n",
              "        text-align: right;\n",
              "    }\n",
              "</style>\n",
              "<table border=\"1\" class=\"dataframe\">\n",
              "  <thead>\n",
              "    <tr style=\"text-align: right;\">\n",
              "      <th></th>\n",
              "      <th>user_id</th>\n",
              "      <th>REGION</th>\n",
              "      <th>TENURE</th>\n",
              "      <th>MONTANT</th>\n",
              "      <th>FREQUENCE_RECH</th>\n",
              "      <th>REVENUE</th>\n",
              "      <th>ARPU_SEGMENT</th>\n",
              "      <th>FREQUENCE</th>\n",
              "      <th>DATA_VOLUME</th>\n",
              "      <th>ON_NET</th>\n",
              "      <th>ORANGE</th>\n",
              "      <th>TIGO</th>\n",
              "      <th>ZONE1</th>\n",
              "      <th>ZONE2</th>\n",
              "      <th>MRG</th>\n",
              "      <th>REGULARITY</th>\n",
              "      <th>TOP_PACK</th>\n",
              "      <th>FREQ_TOP_PACK</th>\n",
              "    </tr>\n",
              "  </thead>\n",
              "  <tbody>\n",
              "    <tr>\n",
              "      <th>105281</th>\n",
              "      <td>e66972d08a6e90ca121fc74275e1e4adc7770fc3</td>\n",
              "      <td>NaN</td>\n",
              "      <td>K &gt; 24 month</td>\n",
              "      <td>NaN</td>\n",
              "      <td>NaN</td>\n",
              "      <td>NaN</td>\n",
              "      <td>NaN</td>\n",
              "      <td>NaN</td>\n",
              "      <td>0.0</td>\n",
              "      <td>NaN</td>\n",
              "      <td>NaN</td>\n",
              "      <td>NaN</td>\n",
              "      <td>NaN</td>\n",
              "      <td>NaN</td>\n",
              "      <td>NO</td>\n",
              "      <td>3</td>\n",
              "      <td>NaN</td>\n",
              "      <td>NaN</td>\n",
              "    </tr>\n",
              "    <tr>\n",
              "      <th>22722</th>\n",
              "      <td>bf9be697fbd32dc7b8ab3073ee4d3bbbcad6dfe9</td>\n",
              "      <td>TAMBACOUNDA</td>\n",
              "      <td>K &gt; 24 month</td>\n",
              "      <td>7900.0</td>\n",
              "      <td>16.0</td>\n",
              "      <td>7900.0</td>\n",
              "      <td>2633.0</td>\n",
              "      <td>15.0</td>\n",
              "      <td>25.0</td>\n",
              "      <td>228.0</td>\n",
              "      <td>271.0</td>\n",
              "      <td>5.0</td>\n",
              "      <td>NaN</td>\n",
              "      <td>NaN</td>\n",
              "      <td>NO</td>\n",
              "      <td>62</td>\n",
              "      <td>MIXT:500F= 2500F on net _2500F off net;2d</td>\n",
              "      <td>14.0</td>\n",
              "    </tr>\n",
              "    <tr>\n",
              "      <th>76446</th>\n",
              "      <td>1e7202861abcaf7e0eea63032254eacf26bb098d</td>\n",
              "      <td>THIES</td>\n",
              "      <td>K &gt; 24 month</td>\n",
              "      <td>NaN</td>\n",
              "      <td>NaN</td>\n",
              "      <td>NaN</td>\n",
              "      <td>NaN</td>\n",
              "      <td>NaN</td>\n",
              "      <td>0.0</td>\n",
              "      <td>NaN</td>\n",
              "      <td>NaN</td>\n",
              "      <td>NaN</td>\n",
              "      <td>NaN</td>\n",
              "      <td>NaN</td>\n",
              "      <td>NO</td>\n",
              "      <td>23</td>\n",
              "      <td>NaN</td>\n",
              "      <td>NaN</td>\n",
              "    </tr>\n",
              "    <tr>\n",
              "      <th>46673</th>\n",
              "      <td>f4eed3780dbca03e08c43adfcf0a9463368358d9</td>\n",
              "      <td>DAKAR</td>\n",
              "      <td>H 15-18 month</td>\n",
              "      <td>NaN</td>\n",
              "      <td>NaN</td>\n",
              "      <td>NaN</td>\n",
              "      <td>NaN</td>\n",
              "      <td>NaN</td>\n",
              "      <td>0.0</td>\n",
              "      <td>NaN</td>\n",
              "      <td>NaN</td>\n",
              "      <td>NaN</td>\n",
              "      <td>NaN</td>\n",
              "      <td>NaN</td>\n",
              "      <td>NO</td>\n",
              "      <td>62</td>\n",
              "      <td>NaN</td>\n",
              "      <td>NaN</td>\n",
              "    </tr>\n",
              "    <tr>\n",
              "      <th>7006</th>\n",
              "      <td>e71d6090175d55f4b7f3abc99e5f1823616960f0</td>\n",
              "      <td>NaN</td>\n",
              "      <td>K &gt; 24 month</td>\n",
              "      <td>NaN</td>\n",
              "      <td>NaN</td>\n",
              "      <td>NaN</td>\n",
              "      <td>NaN</td>\n",
              "      <td>NaN</td>\n",
              "      <td>NaN</td>\n",
              "      <td>NaN</td>\n",
              "      <td>NaN</td>\n",
              "      <td>NaN</td>\n",
              "      <td>NaN</td>\n",
              "      <td>NaN</td>\n",
              "      <td>NO</td>\n",
              "      <td>5</td>\n",
              "      <td>NaN</td>\n",
              "      <td>NaN</td>\n",
              "    </tr>\n",
              "  </tbody>\n",
              "</table>\n",
              "</div>"
            ],
            "text/plain": [
              "                                         user_id  ... FREQ_TOP_PACK\n",
              "105281  e66972d08a6e90ca121fc74275e1e4adc7770fc3  ...           NaN\n",
              "22722   bf9be697fbd32dc7b8ab3073ee4d3bbbcad6dfe9  ...          14.0\n",
              "76446   1e7202861abcaf7e0eea63032254eacf26bb098d  ...           NaN\n",
              "46673   f4eed3780dbca03e08c43adfcf0a9463368358d9  ...           NaN\n",
              "7006    e71d6090175d55f4b7f3abc99e5f1823616960f0  ...           NaN\n",
              "\n",
              "[5 rows x 18 columns]"
            ]
          },
          "metadata": {
            "tags": []
          },
          "execution_count": 23
        }
      ]
    },
    {
      "cell_type": "code",
      "metadata": {
        "id": "4DJt8j5R5qGc",
        "colab_type": "code",
        "colab": {
          "base_uri": "https://localhost:8080/",
          "height": 313
        },
        "outputId": "1717696d-087b-4124-9c70-0bcc2df3728a"
      },
      "source": [
        "test.tail()"
      ],
      "execution_count": 24,
      "outputs": [
        {
          "output_type": "execute_result",
          "data": {
            "text/html": [
              "<div>\n",
              "<style scoped>\n",
              "    .dataframe tbody tr th:only-of-type {\n",
              "        vertical-align: middle;\n",
              "    }\n",
              "\n",
              "    .dataframe tbody tr th {\n",
              "        vertical-align: top;\n",
              "    }\n",
              "\n",
              "    .dataframe thead th {\n",
              "        text-align: right;\n",
              "    }\n",
              "</style>\n",
              "<table border=\"1\" class=\"dataframe\">\n",
              "  <thead>\n",
              "    <tr style=\"text-align: right;\">\n",
              "      <th></th>\n",
              "      <th>user_id</th>\n",
              "      <th>REGION</th>\n",
              "      <th>TENURE</th>\n",
              "      <th>MONTANT</th>\n",
              "      <th>FREQUENCE_RECH</th>\n",
              "      <th>REVENUE</th>\n",
              "      <th>ARPU_SEGMENT</th>\n",
              "      <th>FREQUENCE</th>\n",
              "      <th>DATA_VOLUME</th>\n",
              "      <th>ON_NET</th>\n",
              "      <th>ORANGE</th>\n",
              "      <th>TIGO</th>\n",
              "      <th>ZONE1</th>\n",
              "      <th>ZONE2</th>\n",
              "      <th>MRG</th>\n",
              "      <th>REGULARITY</th>\n",
              "      <th>TOP_PACK</th>\n",
              "      <th>FREQ_TOP_PACK</th>\n",
              "    </tr>\n",
              "  </thead>\n",
              "  <tbody>\n",
              "    <tr>\n",
              "      <th>7008</th>\n",
              "      <td>5ecbf66d9bb8b8642ef1e5fc8c9d844989376589</td>\n",
              "      <td>DIOURBEL</td>\n",
              "      <td>K &gt; 24 month</td>\n",
              "      <td>NaN</td>\n",
              "      <td>NaN</td>\n",
              "      <td>NaN</td>\n",
              "      <td>NaN</td>\n",
              "      <td>NaN</td>\n",
              "      <td>0.0</td>\n",
              "      <td>NaN</td>\n",
              "      <td>NaN</td>\n",
              "      <td>NaN</td>\n",
              "      <td>0.0</td>\n",
              "      <td>NaN</td>\n",
              "      <td>NO</td>\n",
              "      <td>8</td>\n",
              "      <td>NaN</td>\n",
              "      <td>NaN</td>\n",
              "    </tr>\n",
              "    <tr>\n",
              "      <th>71490</th>\n",
              "      <td>c3a0be58c8dee43c1c5df623c289d166a7014a10</td>\n",
              "      <td>DAKAR</td>\n",
              "      <td>K &gt; 24 month</td>\n",
              "      <td>3800.0</td>\n",
              "      <td>5.0</td>\n",
              "      <td>3800.0</td>\n",
              "      <td>1267.0</td>\n",
              "      <td>4.0</td>\n",
              "      <td>6101.0</td>\n",
              "      <td>28.0</td>\n",
              "      <td>16.0</td>\n",
              "      <td>NaN</td>\n",
              "      <td>NaN</td>\n",
              "      <td>1.0</td>\n",
              "      <td>NO</td>\n",
              "      <td>33</td>\n",
              "      <td>Data:1000F=5GB,7d</td>\n",
              "      <td>3.0</td>\n",
              "    </tr>\n",
              "    <tr>\n",
              "      <th>78321</th>\n",
              "      <td>d36271d90f822c1da3e3d531136bb9a19d577be3</td>\n",
              "      <td>NaN</td>\n",
              "      <td>K &gt; 24 month</td>\n",
              "      <td>14150.0</td>\n",
              "      <td>31.0</td>\n",
              "      <td>15548.0</td>\n",
              "      <td>5183.0</td>\n",
              "      <td>38.0</td>\n",
              "      <td>4865.0</td>\n",
              "      <td>248.0</td>\n",
              "      <td>1040.0</td>\n",
              "      <td>73.0</td>\n",
              "      <td>NaN</td>\n",
              "      <td>NaN</td>\n",
              "      <td>NO</td>\n",
              "      <td>60</td>\n",
              "      <td>Jokko_Daily</td>\n",
              "      <td>20.0</td>\n",
              "    </tr>\n",
              "    <tr>\n",
              "      <th>83665</th>\n",
              "      <td>5a3e2643344a107f4050fce01d92152c12581c1f</td>\n",
              "      <td>KAFFRINE</td>\n",
              "      <td>K &gt; 24 month</td>\n",
              "      <td>6150.0</td>\n",
              "      <td>14.0</td>\n",
              "      <td>6151.0</td>\n",
              "      <td>2050.0</td>\n",
              "      <td>19.0</td>\n",
              "      <td>300.0</td>\n",
              "      <td>129.0</td>\n",
              "      <td>43.0</td>\n",
              "      <td>1.0</td>\n",
              "      <td>NaN</td>\n",
              "      <td>NaN</td>\n",
              "      <td>NO</td>\n",
              "      <td>62</td>\n",
              "      <td>All-net 500F=2000F;5d</td>\n",
              "      <td>4.0</td>\n",
              "    </tr>\n",
              "    <tr>\n",
              "      <th>93996</th>\n",
              "      <td>b62f0fad5ca231131cb18c04156b21cad268abe9</td>\n",
              "      <td>THIES</td>\n",
              "      <td>K &gt; 24 month</td>\n",
              "      <td>2900.0</td>\n",
              "      <td>13.0</td>\n",
              "      <td>2901.0</td>\n",
              "      <td>967.0</td>\n",
              "      <td>17.0</td>\n",
              "      <td>1217.0</td>\n",
              "      <td>NaN</td>\n",
              "      <td>NaN</td>\n",
              "      <td>NaN</td>\n",
              "      <td>NaN</td>\n",
              "      <td>1.0</td>\n",
              "      <td>NO</td>\n",
              "      <td>35</td>\n",
              "      <td>Data: 200 F=100MB,24H</td>\n",
              "      <td>12.0</td>\n",
              "    </tr>\n",
              "  </tbody>\n",
              "</table>\n",
              "</div>"
            ],
            "text/plain": [
              "                                        user_id  ... FREQ_TOP_PACK\n",
              "7008   5ecbf66d9bb8b8642ef1e5fc8c9d844989376589  ...           NaN\n",
              "71490  c3a0be58c8dee43c1c5df623c289d166a7014a10  ...           3.0\n",
              "78321  d36271d90f822c1da3e3d531136bb9a19d577be3  ...          20.0\n",
              "83665  5a3e2643344a107f4050fce01d92152c12581c1f  ...           4.0\n",
              "93996  b62f0fad5ca231131cb18c04156b21cad268abe9  ...          12.0\n",
              "\n",
              "[5 rows x 18 columns]"
            ]
          },
          "metadata": {
            "tags": []
          },
          "execution_count": 24
        }
      ]
    },
    {
      "cell_type": "code",
      "metadata": {
        "id": "6aoTo41-5qGk",
        "colab_type": "code",
        "colab": {
          "base_uri": "https://localhost:8080/",
          "height": 34
        },
        "outputId": "3977d407-2eda-454e-889f-795935c17506"
      },
      "source": [
        "test.shape "
      ],
      "execution_count": 25,
      "outputs": [
        {
          "output_type": "execute_result",
          "data": {
            "text/plain": [
              "(34211, 18)"
            ]
          },
          "metadata": {
            "tags": []
          },
          "execution_count": 25
        }
      ]
    },
    {
      "cell_type": "code",
      "metadata": {
        "id": "8QEAo6EW5qGs",
        "colab_type": "code",
        "colab": {
          "base_uri": "https://localhost:8080/",
          "height": 451
        },
        "outputId": "2b809480-af5f-47df-ceeb-ded83e8de645"
      },
      "source": [
        "test.info()"
      ],
      "execution_count": 26,
      "outputs": [
        {
          "output_type": "stream",
          "text": [
            "<class 'pandas.core.frame.DataFrame'>\n",
            "Int64Index: 34211 entries, 105281 to 93996\n",
            "Data columns (total 18 columns):\n",
            " #   Column          Non-Null Count  Dtype  \n",
            "---  ------          --------------  -----  \n",
            " 0   user_id         34211 non-null  object \n",
            " 1   REGION          20675 non-null  object \n",
            " 2   TENURE          34211 non-null  object \n",
            " 3   MONTANT         22363 non-null  float64\n",
            " 4   FREQUENCE_RECH  22363 non-null  float64\n",
            " 5   REVENUE         22854 non-null  float64\n",
            " 6   ARPU_SEGMENT    22854 non-null  float64\n",
            " 7   FREQUENCE       22854 non-null  float64\n",
            " 8   DATA_VOLUME     17430 non-null  float64\n",
            " 9   ON_NET          21735 non-null  float64\n",
            " 10  ORANGE          20166 non-null  float64\n",
            " 11  TIGO            13865 non-null  float64\n",
            " 12  ZONE1           2736 non-null   float64\n",
            " 13  ZONE2           2222 non-null   float64\n",
            " 14  MRG             34211 non-null  object \n",
            " 15  REGULARITY      34211 non-null  int64  \n",
            " 16  TOP_PACK        20011 non-null  object \n",
            " 17  FREQ_TOP_PACK   20011 non-null  float64\n",
            "dtypes: float64(12), int64(1), object(5)\n",
            "memory usage: 5.0+ MB\n"
          ],
          "name": "stdout"
        }
      ]
    },
    {
      "cell_type": "code",
      "metadata": {
        "id": "XOk0CzZ45qG0",
        "colab_type": "code",
        "colab": {
          "base_uri": "https://localhost:8080/",
          "height": 206
        },
        "outputId": "9a9aae34-5238-4056-a445-5ab0bff8602f"
      },
      "source": [
        "submission.head()"
      ],
      "execution_count": 27,
      "outputs": [
        {
          "output_type": "execute_result",
          "data": {
            "text/html": [
              "<div>\n",
              "<style scoped>\n",
              "    .dataframe tbody tr th:only-of-type {\n",
              "        vertical-align: middle;\n",
              "    }\n",
              "\n",
              "    .dataframe tbody tr th {\n",
              "        vertical-align: top;\n",
              "    }\n",
              "\n",
              "    .dataframe thead th {\n",
              "        text-align: right;\n",
              "    }\n",
              "</style>\n",
              "<table border=\"1\" class=\"dataframe\">\n",
              "  <thead>\n",
              "    <tr style=\"text-align: right;\">\n",
              "      <th></th>\n",
              "      <th>user_id</th>\n",
              "      <th>CHURN</th>\n",
              "    </tr>\n",
              "  </thead>\n",
              "  <tbody>\n",
              "    <tr>\n",
              "      <th>0</th>\n",
              "      <td>c1b31e7cef249f2b777d934886b787a433029263</td>\n",
              "      <td>0</td>\n",
              "    </tr>\n",
              "    <tr>\n",
              "      <th>1</th>\n",
              "      <td>c205f3aff8486b0bed1051f3bf25fe04df7f671e</td>\n",
              "      <td>0</td>\n",
              "    </tr>\n",
              "    <tr>\n",
              "      <th>2</th>\n",
              "      <td>d743faaf50bbc43e02a08a2c2f4326f6d368fb25</td>\n",
              "      <td>0</td>\n",
              "    </tr>\n",
              "    <tr>\n",
              "      <th>3</th>\n",
              "      <td>c4e45ed21d5e2f64146b95fecbbb6b24740f803c</td>\n",
              "      <td>0</td>\n",
              "    </tr>\n",
              "    <tr>\n",
              "      <th>4</th>\n",
              "      <td>96c6a822243654ae1fe5f5f887089681f806cb46</td>\n",
              "      <td>0</td>\n",
              "    </tr>\n",
              "  </tbody>\n",
              "</table>\n",
              "</div>"
            ],
            "text/plain": [
              "                                    user_id  CHURN\n",
              "0  c1b31e7cef249f2b777d934886b787a433029263      0\n",
              "1  c205f3aff8486b0bed1051f3bf25fe04df7f671e      0\n",
              "2  d743faaf50bbc43e02a08a2c2f4326f6d368fb25      0\n",
              "3  c4e45ed21d5e2f64146b95fecbbb6b24740f803c      0\n",
              "4  96c6a822243654ae1fe5f5f887089681f806cb46      0"
            ]
          },
          "metadata": {
            "tags": []
          },
          "execution_count": 27
        }
      ]
    },
    {
      "cell_type": "code",
      "metadata": {
        "id": "xUjYKNuJ5qG9",
        "colab_type": "code",
        "colab": {
          "base_uri": "https://localhost:8080/",
          "height": 34
        },
        "outputId": "14bcd717-bbde-40db-c97c-7bb2b65689ae"
      },
      "source": [
        "submission.shape"
      ],
      "execution_count": 28,
      "outputs": [
        {
          "output_type": "execute_result",
          "data": {
            "text/plain": [
              "(114038, 2)"
            ]
          },
          "metadata": {
            "tags": []
          },
          "execution_count": 28
        }
      ]
    },
    {
      "cell_type": "markdown",
      "metadata": {
        "id": "V30H_oJb5qHC",
        "colab_type": "text"
      },
      "source": [
        "#### Data Wrangling"
      ]
    },
    {
      "cell_type": "markdown",
      "metadata": {
        "id": "5atQt59vpY2n",
        "colab_type": "text"
      },
      "source": [
        "> calculate number of levels in columns"
      ]
    },
    {
      "cell_type": "code",
      "metadata": {
        "id": "4Kfd8XQQ5qHT",
        "colab_type": "code",
        "colab": {
          "base_uri": "https://localhost:8080/",
          "height": 1000
        },
        "outputId": "efd2beaf-a64d-4bce-9017-a0ff51df82f3"
      },
      "source": [
        "check_levels(train, exclude_cols=['user_id']) "
      ],
      "execution_count": 29,
      "outputs": [
        {
          "output_type": "stream",
          "text": [
            "*-**-**-**-**-**-**-**-**-**-* \n",
            "\n",
            "DAKAR          46276\n",
            "THIES          16134\n",
            "SAINT-LOUIS    10722\n",
            "LOUGA           8812\n",
            "KAOLACK         8796\n",
            "DIOURBEL        5929\n",
            "TAMBACOUNDA     4924\n",
            "KAFFRINE        4028\n",
            "KOLDA           3328\n",
            "FATICK          3259\n",
            "MATAM           2601\n",
            "ZIGUINCHOR      1934\n",
            "SEDHIOU          314\n",
            "KEDOUGOU          73\n",
            "Name: REGION, dtype: int64\n",
            "*-**-**-**-**-**-**-**-**-**-* \n",
            "\n",
            "*-**-**-**-**-**-**-**-**-**-* \n",
            "\n",
            "K > 24 month     183934\n",
            "I 18-21 month      4089\n",
            "H 15-18 month      2326\n",
            "G 12-15 month      1274\n",
            "J 21-24 month      1173\n",
            "F 9-12 month        843\n",
            "E 6-9 month         161\n",
            "D 3-6 month          64\n",
            "Name: TENURE, dtype: int64\n",
            "*-**-**-**-**-**-**-**-**-**-* \n",
            "\n",
            "*-**-**-**-**-**-**-**-**-**-* \n",
            "\n",
            "NO    193864\n",
            "Name: MRG, dtype: int64\n",
            "*-**-**-**-**-**-**-**-**-**-* \n",
            "\n",
            "*-**-**-**-**-**-**-**-**-**-* \n",
            "\n",
            "All-net 500F=2000F;5d             28722\n",
            "On net 200F=Unlimited _call24H    13589\n",
            "Data:490F=1GB,7d                  10286\n",
            "Data: 100 F=40MB,24H               7608\n",
            "Mixt 250F=Unlimited_call24H        6067\n",
            "                                  ...  \n",
            "APANews_weekly                        1\n",
            "1000=Unlimited7Day                    1\n",
            "IVR Echat_Monthly_500F                1\n",
            "GPRS_3000Equal10GPORTAL               1\n",
            "CVM_100F_unlimited                    1\n",
            "Name: TOP_PACK, Length: 101, dtype: int64\n",
            "*-**-**-**-**-**-**-**-**-**-* \n",
            "\n"
          ],
          "name": "stdout"
        },
        {
          "output_type": "display_data",
          "data": {
            "image/png": "[encoded data removed]",
            "text/plain": [
              "<Figure size 720x360 with 1 Axes>"
            ]
          },
          "metadata": {
            "tags": [],
            "needs_background": "light"
          }
        },
        {
          "output_type": "display_data",
          "data": {
            "image/png": "[encoded data removed]",
            "text/plain": [
              "<Figure size 720x360 with 1 Axes>"
            ]
          },
          "metadata": {
            "tags": [],
            "needs_background": "light"
          }
        },
        {
          "output_type": "display_data",
          "data": {
            "image/png": "[encoded data removed]",
            "text/plain": [
              "<Figure size 720x360 with 1 Axes>"
            ]
          },
          "metadata": {
            "tags": [],
            "needs_background": "light"
          }
        },
        {
          "output_type": "display_data",
          "data": {
            "image/png": "[encoded data removed]",
            "text/plain": [
              "<Figure size 720x360 with 1 Axes>"
            ]
          },
          "metadata": {
            "tags": [],
            "needs_background": "light"
          }
        }
      ]
    },
    {
      "cell_type": "markdown",
      "metadata": {
        "id": "ucLceE9_5qHa",
        "colab_type": "text"
      },
      "source": [
        "Compute statistics for numerical variables"
      ]
    },
    {
      "cell_type": "code",
      "metadata": {
        "id": "RUdS0MsC5qHc",
        "colab_type": "code",
        "colab": {
          "base_uri": "https://localhost:8080/",
          "height": 320
        },
        "outputId": "dc74e9e8-4d79-4373-8c3c-ccb6ca76baee"
      },
      "source": [
        "train.describe()  "
      ],
      "execution_count": 30,
      "outputs": [
        {
          "output_type": "execute_result",
          "data": {
            "text/html": [
              "<div>\n",
              "<style scoped>\n",
              "    .dataframe tbody tr th:only-of-type {\n",
              "        vertical-align: middle;\n",
              "    }\n",
              "\n",
              "    .dataframe tbody tr th {\n",
              "        vertical-align: top;\n",
              "    }\n",
              "\n",
              "    .dataframe thead th {\n",
              "        text-align: right;\n",
              "    }\n",
              "</style>\n",
              "<table border=\"1\" class=\"dataframe\">\n",
              "  <thead>\n",
              "    <tr style=\"text-align: right;\">\n",
              "      <th></th>\n",
              "      <th>MONTANT</th>\n",
              "      <th>FREQUENCE_RECH</th>\n",
              "      <th>REVENUE</th>\n",
              "      <th>ARPU_SEGMENT</th>\n",
              "      <th>FREQUENCE</th>\n",
              "      <th>DATA_VOLUME</th>\n",
              "      <th>ON_NET</th>\n",
              "      <th>ORANGE</th>\n",
              "      <th>TIGO</th>\n",
              "      <th>ZONE1</th>\n",
              "      <th>ZONE2</th>\n",
              "      <th>REGULARITY</th>\n",
              "      <th>FREQ_TOP_PACK</th>\n",
              "      <th>CHURN</th>\n",
              "    </tr>\n",
              "  </thead>\n",
              "  <tbody>\n",
              "    <tr>\n",
              "      <th>count</th>\n",
              "      <td>125596.000000</td>\n",
              "      <td>125596.000000</td>\n",
              "      <td>128373.000000</td>\n",
              "      <td>128373.000000</td>\n",
              "      <td>128373.000000</td>\n",
              "      <td>9.781800e+04</td>\n",
              "      <td>122924.000000</td>\n",
              "      <td>113127.000000</td>\n",
              "      <td>77925.000000</td>\n",
              "      <td>15235.000000</td>\n",
              "      <td>12164.000000</td>\n",
              "      <td>193864.000000</td>\n",
              "      <td>112372.000000</td>\n",
              "      <td>193864.000000</td>\n",
              "    </tr>\n",
              "    <tr>\n",
              "      <th>mean</th>\n",
              "      <td>5549.417577</td>\n",
              "      <td>11.577136</td>\n",
              "      <td>5527.767950</td>\n",
              "      <td>1842.596769</td>\n",
              "      <td>14.013508</td>\n",
              "      <td>3.387234e+03</td>\n",
              "      <td>277.213791</td>\n",
              "      <td>95.928196</td>\n",
              "      <td>23.179865</td>\n",
              "      <td>7.688809</td>\n",
              "      <td>7.416557</td>\n",
              "      <td>27.984474</td>\n",
              "      <td>9.306633</td>\n",
              "      <td>0.188441</td>\n",
              "    </tr>\n",
              "    <tr>\n",
              "      <th>std</th>\n",
              "      <td>7171.390426</td>\n",
              "      <td>13.345354</td>\n",
              "      <td>7230.871687</td>\n",
              "      <td>2410.285753</td>\n",
              "      <td>14.770293</td>\n",
              "      <td>1.341194e+04</td>\n",
              "      <td>881.638677</td>\n",
              "      <td>203.990359</td>\n",
              "      <td>64.525694</td>\n",
              "      <td>34.843203</td>\n",
              "      <td>31.821617</td>\n",
              "      <td>22.276647</td>\n",
              "      <td>12.302007</td>\n",
              "      <td>0.391065</td>\n",
              "    </tr>\n",
              "    <tr>\n",
              "      <th>min</th>\n",
              "      <td>10.000000</td>\n",
              "      <td>1.000000</td>\n",
              "      <td>1.000000</td>\n",
              "      <td>0.000000</td>\n",
              "      <td>1.000000</td>\n",
              "      <td>0.000000e+00</td>\n",
              "      <td>0.000000</td>\n",
              "      <td>0.000000</td>\n",
              "      <td>0.000000</td>\n",
              "      <td>0.000000</td>\n",
              "      <td>0.000000</td>\n",
              "      <td>1.000000</td>\n",
              "      <td>1.000000</td>\n",
              "      <td>0.000000</td>\n",
              "    </tr>\n",
              "    <tr>\n",
              "      <th>25%</th>\n",
              "      <td>1000.000000</td>\n",
              "      <td>2.000000</td>\n",
              "      <td>1000.000000</td>\n",
              "      <td>333.000000</td>\n",
              "      <td>3.000000</td>\n",
              "      <td>0.000000e+00</td>\n",
              "      <td>5.000000</td>\n",
              "      <td>7.000000</td>\n",
              "      <td>2.000000</td>\n",
              "      <td>0.000000</td>\n",
              "      <td>0.000000</td>\n",
              "      <td>6.000000</td>\n",
              "      <td>2.000000</td>\n",
              "      <td>0.000000</td>\n",
              "    </tr>\n",
              "    <tr>\n",
              "      <th>50%</th>\n",
              "      <td>3000.000000</td>\n",
              "      <td>7.000000</td>\n",
              "      <td>3000.000000</td>\n",
              "      <td>1000.000000</td>\n",
              "      <td>9.000000</td>\n",
              "      <td>2.670000e+02</td>\n",
              "      <td>27.000000</td>\n",
              "      <td>29.000000</td>\n",
              "      <td>6.000000</td>\n",
              "      <td>1.000000</td>\n",
              "      <td>2.000000</td>\n",
              "      <td>24.000000</td>\n",
              "      <td>5.000000</td>\n",
              "      <td>0.000000</td>\n",
              "    </tr>\n",
              "    <tr>\n",
              "      <th>75%</th>\n",
              "      <td>7400.000000</td>\n",
              "      <td>16.000000</td>\n",
              "      <td>7402.000000</td>\n",
              "      <td>2467.000000</td>\n",
              "      <td>20.000000</td>\n",
              "      <td>2.918000e+03</td>\n",
              "      <td>157.000000</td>\n",
              "      <td>100.000000</td>\n",
              "      <td>20.000000</td>\n",
              "      <td>3.000000</td>\n",
              "      <td>5.000000</td>\n",
              "      <td>50.000000</td>\n",
              "      <td>12.000000</td>\n",
              "      <td>0.000000</td>\n",
              "    </tr>\n",
              "    <tr>\n",
              "      <th>max</th>\n",
              "      <td>256000.000000</td>\n",
              "      <td>115.000000</td>\n",
              "      <td>219423.000000</td>\n",
              "      <td>73141.000000</td>\n",
              "      <td>91.000000</td>\n",
              "      <td>1.238915e+06</td>\n",
              "      <td>36687.000000</td>\n",
              "      <td>6211.000000</td>\n",
              "      <td>3658.000000</td>\n",
              "      <td>1730.000000</td>\n",
              "      <td>1796.000000</td>\n",
              "      <td>62.000000</td>\n",
              "      <td>544.000000</td>\n",
              "      <td>1.000000</td>\n",
              "    </tr>\n",
              "  </tbody>\n",
              "</table>\n",
              "</div>"
            ],
            "text/plain": [
              "             MONTANT  FREQUENCE_RECH  ...  FREQ_TOP_PACK          CHURN\n",
              "count  125596.000000   125596.000000  ...  112372.000000  193864.000000\n",
              "mean     5549.417577       11.577136  ...       9.306633       0.188441\n",
              "std      7171.390426       13.345354  ...      12.302007       0.391065\n",
              "min        10.000000        1.000000  ...       1.000000       0.000000\n",
              "25%      1000.000000        2.000000  ...       2.000000       0.000000\n",
              "50%      3000.000000        7.000000  ...       5.000000       0.000000\n",
              "75%      7400.000000       16.000000  ...      12.000000       0.000000\n",
              "max    256000.000000      115.000000  ...     544.000000       1.000000\n",
              "\n",
              "[8 rows x 14 columns]"
            ]
          },
          "metadata": {
            "tags": []
          },
          "execution_count": 30
        }
      ]
    },
    {
      "cell_type": "markdown",
      "metadata": {
        "id": "H_HGSe1m5qHs",
        "colab_type": "text"
      },
      "source": [
        "> Check for null values"
      ]
    },
    {
      "cell_type": "code",
      "metadata": {
        "id": "ZIpuuiEv5qH0",
        "colab_type": "code",
        "colab": {
          "base_uri": "https://localhost:8080/",
          "height": 768
        },
        "outputId": "841a29ab-3c86-4ddc-9680-abad3cdad77c"
      },
      "source": [
        "check_null(train)"
      ],
      "execution_count": 31,
      "outputs": [
        {
          "output_type": "stream",
          "text": [
            "user_id                0\n",
            "REGION             76734\n",
            "TENURE                 0\n",
            "MONTANT            68268\n",
            "FREQUENCE_RECH     68268\n",
            "REVENUE            65491\n",
            "ARPU_SEGMENT       65491\n",
            "FREQUENCE          65491\n",
            "DATA_VOLUME        96046\n",
            "ON_NET             70940\n",
            "ORANGE             80737\n",
            "TIGO              115939\n",
            "ZONE1             178629\n",
            "ZONE2             181700\n",
            "MRG                    0\n",
            "REGULARITY             0\n",
            "TOP_PACK           81492\n",
            "FREQ_TOP_PACK      81492\n",
            "CHURN                  0\n",
            "dtype: int64\n"
          ],
          "name": "stdout"
        },
        {
          "output_type": "display_data",
          "data": {
            "image/png": "[encoded data removed]",
            "text/plain": [
              "<Figure size 720x360 with 1 Axes>"
            ]
          },
          "metadata": {
            "tags": [],
            "needs_background": "light"
          }
        }
      ]
    },
    {
      "cell_type": "code",
      "metadata": {
        "id": "GwCWMz3t5qH9",
        "colab_type": "code",
        "colab": {
          "base_uri": "https://localhost:8080/",
          "height": 751
        },
        "outputId": "cdd0eab6-8525-43d8-c197-8961d4d94c0e"
      },
      "source": [
        "check_null(test)"
      ],
      "execution_count": 32,
      "outputs": [
        {
          "output_type": "stream",
          "text": [
            "user_id               0\n",
            "REGION            13536\n",
            "TENURE                0\n",
            "MONTANT           11848\n",
            "FREQUENCE_RECH    11848\n",
            "REVENUE           11357\n",
            "ARPU_SEGMENT      11357\n",
            "FREQUENCE         11357\n",
            "DATA_VOLUME       16781\n",
            "ON_NET            12476\n",
            "ORANGE            14045\n",
            "TIGO              20346\n",
            "ZONE1             31475\n",
            "ZONE2             31989\n",
            "MRG                   0\n",
            "REGULARITY            0\n",
            "TOP_PACK          14200\n",
            "FREQ_TOP_PACK     14200\n",
            "dtype: int64\n"
          ],
          "name": "stdout"
        },
        {
          "output_type": "display_data",
          "data": {
            "image/png": "[encoded data removed]",
            "text/plain": [
              "<Figure size 720x360 with 1 Axes>"
            ]
          },
          "metadata": {
            "tags": [],
            "needs_background": "light"
          }
        }
      ]
    },
    {
      "cell_type": "markdown",
      "metadata": {
        "id": "ICQj_cLD5qIC",
        "colab_type": "text"
      },
      "source": [
        "> There are a lot of null values in the dataset"
      ]
    },
    {
      "cell_type": "markdown",
      "metadata": {
        "id": "VpA27bAx5qIM",
        "colab_type": "text"
      },
      "source": [
        "outliers in train set"
      ]
    },
    {
      "cell_type": "code",
      "metadata": {
        "id": "fMdC-cEf5qIM",
        "colab_type": "code",
        "colab": {
          "base_uri": "https://localhost:8080/",
          "height": 478
        },
        "outputId": "a0a67f11-d472-4d34-b3d9-e23b6144ce0e"
      },
      "source": [
        "check_outliers(train, show_plot=False)  "
      ],
      "execution_count": 33,
      "outputs": [
        {
          "output_type": "stream",
          "text": [
            "{'MONTANT': True, 'FREQUENCE_RECH': True, 'REVENUE': True, 'ARPU_SEGMENT': True, 'FREQUENCE': True, 'DATA_VOLUME': True, 'ON_NET': True, 'ORANGE': True, 'TIGO': True, 'ZONE1': True, 'ZONE2': True, 'REGULARITY': False, 'FREQ_TOP_PACK': True, 'CHURN': True}\n",
            "(193864, 19)\n"
          ],
          "name": "stdout"
        },
        {
          "output_type": "execute_result",
          "data": {
            "text/html": [
              "<div>\n",
              "<style scoped>\n",
              "    .dataframe tbody tr th:only-of-type {\n",
              "        vertical-align: middle;\n",
              "    }\n",
              "\n",
              "    .dataframe tbody tr th {\n",
              "        vertical-align: top;\n",
              "    }\n",
              "\n",
              "    .dataframe thead th {\n",
              "        text-align: right;\n",
              "    }\n",
              "</style>\n",
              "<table border=\"1\" class=\"dataframe\">\n",
              "  <thead>\n",
              "    <tr style=\"text-align: right;\">\n",
              "      <th></th>\n",
              "      <th>MONTANT</th>\n",
              "      <th>FREQUENCE_RECH</th>\n",
              "      <th>REVENUE</th>\n",
              "      <th>ARPU_SEGMENT</th>\n",
              "      <th>FREQUENCE</th>\n",
              "      <th>DATA_VOLUME</th>\n",
              "      <th>ON_NET</th>\n",
              "      <th>ORANGE</th>\n",
              "      <th>TIGO</th>\n",
              "      <th>ZONE1</th>\n",
              "      <th>ZONE2</th>\n",
              "      <th>FREQ_TOP_PACK</th>\n",
              "      <th>CHURN</th>\n",
              "    </tr>\n",
              "  </thead>\n",
              "  <tbody>\n",
              "    <tr>\n",
              "      <th>542316</th>\n",
              "      <td>NaN</td>\n",
              "      <td>NaN</td>\n",
              "      <td>NaN</td>\n",
              "      <td>NaN</td>\n",
              "      <td>NaN</td>\n",
              "      <td>NaN</td>\n",
              "      <td>NaN</td>\n",
              "      <td>NaN</td>\n",
              "      <td>NaN</td>\n",
              "      <td>NaN</td>\n",
              "      <td>NaN</td>\n",
              "      <td>NaN</td>\n",
              "      <td>1</td>\n",
              "    </tr>\n",
              "    <tr>\n",
              "      <th>59878</th>\n",
              "      <td>11650.0</td>\n",
              "      <td>30.0</td>\n",
              "      <td>11682.0</td>\n",
              "      <td>3894.0</td>\n",
              "      <td>32.0</td>\n",
              "      <td>7119.0</td>\n",
              "      <td>23.0</td>\n",
              "      <td>468.0</td>\n",
              "      <td>54.0</td>\n",
              "      <td>0.0</td>\n",
              "      <td>NaN</td>\n",
              "      <td>18.0</td>\n",
              "      <td>0</td>\n",
              "    </tr>\n",
              "    <tr>\n",
              "      <th>10729</th>\n",
              "      <td>1000.0</td>\n",
              "      <td>2.0</td>\n",
              "      <td>1000.0</td>\n",
              "      <td>333.0</td>\n",
              "      <td>2.0</td>\n",
              "      <td>NaN</td>\n",
              "      <td>7.0</td>\n",
              "      <td>45.0</td>\n",
              "      <td>NaN</td>\n",
              "      <td>NaN</td>\n",
              "      <td>NaN</td>\n",
              "      <td>2.0</td>\n",
              "      <td>0</td>\n",
              "    </tr>\n",
              "    <tr>\n",
              "      <th>456437</th>\n",
              "      <td>500.0</td>\n",
              "      <td>1.0</td>\n",
              "      <td>480.0</td>\n",
              "      <td>160.0</td>\n",
              "      <td>4.0</td>\n",
              "      <td>1875.0</td>\n",
              "      <td>14.0</td>\n",
              "      <td>1.0</td>\n",
              "      <td>NaN</td>\n",
              "      <td>NaN</td>\n",
              "      <td>NaN</td>\n",
              "      <td>2.0</td>\n",
              "      <td>0</td>\n",
              "    </tr>\n",
              "    <tr>\n",
              "      <th>273902</th>\n",
              "      <td>11150.0</td>\n",
              "      <td>34.0</td>\n",
              "      <td>11750.0</td>\n",
              "      <td>3917.0</td>\n",
              "      <td>40.0</td>\n",
              "      <td>789.0</td>\n",
              "      <td>125.0</td>\n",
              "      <td>303.0</td>\n",
              "      <td>29.0</td>\n",
              "      <td>0.0</td>\n",
              "      <td>NaN</td>\n",
              "      <td>31.0</td>\n",
              "      <td>0</td>\n",
              "    </tr>\n",
              "    <tr>\n",
              "      <th>...</th>\n",
              "      <td>...</td>\n",
              "      <td>...</td>\n",
              "      <td>...</td>\n",
              "      <td>...</td>\n",
              "      <td>...</td>\n",
              "      <td>...</td>\n",
              "      <td>...</td>\n",
              "      <td>...</td>\n",
              "      <td>...</td>\n",
              "      <td>...</td>\n",
              "      <td>...</td>\n",
              "      <td>...</td>\n",
              "      <td>...</td>\n",
              "    </tr>\n",
              "    <tr>\n",
              "      <th>392679</th>\n",
              "      <td>500.0</td>\n",
              "      <td>1.0</td>\n",
              "      <td>500.0</td>\n",
              "      <td>167.0</td>\n",
              "      <td>1.0</td>\n",
              "      <td>0.0</td>\n",
              "      <td>9.0</td>\n",
              "      <td>8.0</td>\n",
              "      <td>15.0</td>\n",
              "      <td>NaN</td>\n",
              "      <td>NaN</td>\n",
              "      <td>1.0</td>\n",
              "      <td>0</td>\n",
              "    </tr>\n",
              "    <tr>\n",
              "      <th>494369</th>\n",
              "      <td>1100.0</td>\n",
              "      <td>3.0</td>\n",
              "      <td>1098.0</td>\n",
              "      <td>366.0</td>\n",
              "      <td>3.0</td>\n",
              "      <td>216.0</td>\n",
              "      <td>27.0</td>\n",
              "      <td>1.0</td>\n",
              "      <td>2.0</td>\n",
              "      <td>NaN</td>\n",
              "      <td>NaN</td>\n",
              "      <td>2.0</td>\n",
              "      <td>0</td>\n",
              "    </tr>\n",
              "    <tr>\n",
              "      <th>59888</th>\n",
              "      <td>1000.0</td>\n",
              "      <td>2.0</td>\n",
              "      <td>1000.0</td>\n",
              "      <td>333.0</td>\n",
              "      <td>2.0</td>\n",
              "      <td>NaN</td>\n",
              "      <td>34.0</td>\n",
              "      <td>43.0</td>\n",
              "      <td>2.0</td>\n",
              "      <td>NaN</td>\n",
              "      <td>NaN</td>\n",
              "      <td>1.0</td>\n",
              "      <td>0</td>\n",
              "    </tr>\n",
              "    <tr>\n",
              "      <th>561559</th>\n",
              "      <td>NaN</td>\n",
              "      <td>NaN</td>\n",
              "      <td>NaN</td>\n",
              "      <td>NaN</td>\n",
              "      <td>NaN</td>\n",
              "      <td>NaN</td>\n",
              "      <td>NaN</td>\n",
              "      <td>NaN</td>\n",
              "      <td>NaN</td>\n",
              "      <td>NaN</td>\n",
              "      <td>NaN</td>\n",
              "      <td>NaN</td>\n",
              "      <td>1</td>\n",
              "    </tr>\n",
              "    <tr>\n",
              "      <th>379331</th>\n",
              "      <td>7200.0</td>\n",
              "      <td>16.0</td>\n",
              "      <td>7190.0</td>\n",
              "      <td>2397.0</td>\n",
              "      <td>18.0</td>\n",
              "      <td>5284.0</td>\n",
              "      <td>7.0</td>\n",
              "      <td>83.0</td>\n",
              "      <td>NaN</td>\n",
              "      <td>NaN</td>\n",
              "      <td>0.0</td>\n",
              "      <td>8.0</td>\n",
              "      <td>0</td>\n",
              "    </tr>\n",
              "  </tbody>\n",
              "</table>\n",
              "<p>193864 rows × 13 columns</p>\n",
              "</div>"
            ],
            "text/plain": [
              "        MONTANT  FREQUENCE_RECH  REVENUE  ...  ZONE2  FREQ_TOP_PACK  CHURN\n",
              "542316      NaN             NaN      NaN  ...    NaN            NaN      1\n",
              "59878   11650.0            30.0  11682.0  ...    NaN           18.0      0\n",
              "10729    1000.0             2.0   1000.0  ...    NaN            2.0      0\n",
              "456437    500.0             1.0    480.0  ...    NaN            2.0      0\n",
              "273902  11150.0            34.0  11750.0  ...    NaN           31.0      0\n",
              "...         ...             ...      ...  ...    ...            ...    ...\n",
              "392679    500.0             1.0    500.0  ...    NaN            1.0      0\n",
              "494369   1100.0             3.0   1098.0  ...    NaN            2.0      0\n",
              "59888    1000.0             2.0   1000.0  ...    NaN            1.0      0\n",
              "561559      NaN             NaN      NaN  ...    NaN            NaN      1\n",
              "379331   7200.0            16.0   7190.0  ...    0.0            8.0      0\n",
              "\n",
              "[193864 rows x 13 columns]"
            ]
          },
          "metadata": {
            "tags": []
          },
          "execution_count": 33
        }
      ]
    },
    {
      "cell_type": "markdown",
      "metadata": {
        "id": "WvdfxaY_5qIY",
        "colab_type": "text"
      },
      "source": [
        "> most columns in the train set contain outlier values"
      ]
    },
    {
      "cell_type": "markdown",
      "metadata": {
        "id": "Sh1XruSa5qIZ",
        "colab_type": "text"
      },
      "source": [
        "outliers in test set"
      ]
    },
    {
      "cell_type": "code",
      "metadata": {
        "id": "J6iUBVtk5qIZ",
        "colab_type": "code",
        "colab": {
          "base_uri": "https://localhost:8080/",
          "height": 478
        },
        "outputId": "17007a85-726b-458f-f553-6a392c64cfc4"
      },
      "source": [
        "check_outliers(test, show_plot=False)   "
      ],
      "execution_count": 34,
      "outputs": [
        {
          "output_type": "stream",
          "text": [
            "{'MONTANT': True, 'FREQUENCE_RECH': True, 'REVENUE': True, 'ARPU_SEGMENT': True, 'FREQUENCE': True, 'DATA_VOLUME': True, 'ON_NET': True, 'ORANGE': True, 'TIGO': True, 'ZONE1': True, 'ZONE2': True, 'REGULARITY': False, 'FREQ_TOP_PACK': True}\n",
            "(34211, 18)\n"
          ],
          "name": "stdout"
        },
        {
          "output_type": "execute_result",
          "data": {
            "text/html": [
              "<div>\n",
              "<style scoped>\n",
              "    .dataframe tbody tr th:only-of-type {\n",
              "        vertical-align: middle;\n",
              "    }\n",
              "\n",
              "    .dataframe tbody tr th {\n",
              "        vertical-align: top;\n",
              "    }\n",
              "\n",
              "    .dataframe thead th {\n",
              "        text-align: right;\n",
              "    }\n",
              "</style>\n",
              "<table border=\"1\" class=\"dataframe\">\n",
              "  <thead>\n",
              "    <tr style=\"text-align: right;\">\n",
              "      <th></th>\n",
              "      <th>MONTANT</th>\n",
              "      <th>FREQUENCE_RECH</th>\n",
              "      <th>REVENUE</th>\n",
              "      <th>ARPU_SEGMENT</th>\n",
              "      <th>FREQUENCE</th>\n",
              "      <th>DATA_VOLUME</th>\n",
              "      <th>ON_NET</th>\n",
              "      <th>ORANGE</th>\n",
              "      <th>TIGO</th>\n",
              "      <th>ZONE1</th>\n",
              "      <th>ZONE2</th>\n",
              "      <th>FREQ_TOP_PACK</th>\n",
              "    </tr>\n",
              "  </thead>\n",
              "  <tbody>\n",
              "    <tr>\n",
              "      <th>105281</th>\n",
              "      <td>NaN</td>\n",
              "      <td>NaN</td>\n",
              "      <td>NaN</td>\n",
              "      <td>NaN</td>\n",
              "      <td>NaN</td>\n",
              "      <td>0.0</td>\n",
              "      <td>NaN</td>\n",
              "      <td>NaN</td>\n",
              "      <td>NaN</td>\n",
              "      <td>NaN</td>\n",
              "      <td>NaN</td>\n",
              "      <td>NaN</td>\n",
              "    </tr>\n",
              "    <tr>\n",
              "      <th>22722</th>\n",
              "      <td>7900.0</td>\n",
              "      <td>16.0</td>\n",
              "      <td>7900.0</td>\n",
              "      <td>2633.0</td>\n",
              "      <td>15.0</td>\n",
              "      <td>25.0</td>\n",
              "      <td>228.0</td>\n",
              "      <td>271.0</td>\n",
              "      <td>5.0</td>\n",
              "      <td>NaN</td>\n",
              "      <td>NaN</td>\n",
              "      <td>14.0</td>\n",
              "    </tr>\n",
              "    <tr>\n",
              "      <th>76446</th>\n",
              "      <td>NaN</td>\n",
              "      <td>NaN</td>\n",
              "      <td>NaN</td>\n",
              "      <td>NaN</td>\n",
              "      <td>NaN</td>\n",
              "      <td>0.0</td>\n",
              "      <td>NaN</td>\n",
              "      <td>NaN</td>\n",
              "      <td>NaN</td>\n",
              "      <td>NaN</td>\n",
              "      <td>NaN</td>\n",
              "      <td>NaN</td>\n",
              "    </tr>\n",
              "    <tr>\n",
              "      <th>46673</th>\n",
              "      <td>NaN</td>\n",
              "      <td>NaN</td>\n",
              "      <td>NaN</td>\n",
              "      <td>NaN</td>\n",
              "      <td>NaN</td>\n",
              "      <td>0.0</td>\n",
              "      <td>NaN</td>\n",
              "      <td>NaN</td>\n",
              "      <td>NaN</td>\n",
              "      <td>NaN</td>\n",
              "      <td>NaN</td>\n",
              "      <td>NaN</td>\n",
              "    </tr>\n",
              "    <tr>\n",
              "      <th>7006</th>\n",
              "      <td>NaN</td>\n",
              "      <td>NaN</td>\n",
              "      <td>NaN</td>\n",
              "      <td>NaN</td>\n",
              "      <td>NaN</td>\n",
              "      <td>NaN</td>\n",
              "      <td>NaN</td>\n",
              "      <td>NaN</td>\n",
              "      <td>NaN</td>\n",
              "      <td>NaN</td>\n",
              "      <td>NaN</td>\n",
              "      <td>NaN</td>\n",
              "    </tr>\n",
              "    <tr>\n",
              "      <th>...</th>\n",
              "      <td>...</td>\n",
              "      <td>...</td>\n",
              "      <td>...</td>\n",
              "      <td>...</td>\n",
              "      <td>...</td>\n",
              "      <td>...</td>\n",
              "      <td>...</td>\n",
              "      <td>...</td>\n",
              "      <td>...</td>\n",
              "      <td>...</td>\n",
              "      <td>...</td>\n",
              "      <td>...</td>\n",
              "    </tr>\n",
              "    <tr>\n",
              "      <th>7008</th>\n",
              "      <td>NaN</td>\n",
              "      <td>NaN</td>\n",
              "      <td>NaN</td>\n",
              "      <td>NaN</td>\n",
              "      <td>NaN</td>\n",
              "      <td>0.0</td>\n",
              "      <td>NaN</td>\n",
              "      <td>NaN</td>\n",
              "      <td>NaN</td>\n",
              "      <td>0.0</td>\n",
              "      <td>NaN</td>\n",
              "      <td>NaN</td>\n",
              "    </tr>\n",
              "    <tr>\n",
              "      <th>71490</th>\n",
              "      <td>3800.0</td>\n",
              "      <td>5.0</td>\n",
              "      <td>3800.0</td>\n",
              "      <td>1267.0</td>\n",
              "      <td>4.0</td>\n",
              "      <td>6101.0</td>\n",
              "      <td>28.0</td>\n",
              "      <td>16.0</td>\n",
              "      <td>NaN</td>\n",
              "      <td>NaN</td>\n",
              "      <td>1.0</td>\n",
              "      <td>3.0</td>\n",
              "    </tr>\n",
              "    <tr>\n",
              "      <th>78321</th>\n",
              "      <td>14150.0</td>\n",
              "      <td>31.0</td>\n",
              "      <td>15548.0</td>\n",
              "      <td>5183.0</td>\n",
              "      <td>38.0</td>\n",
              "      <td>4865.0</td>\n",
              "      <td>248.0</td>\n",
              "      <td>1040.0</td>\n",
              "      <td>73.0</td>\n",
              "      <td>NaN</td>\n",
              "      <td>NaN</td>\n",
              "      <td>20.0</td>\n",
              "    </tr>\n",
              "    <tr>\n",
              "      <th>83665</th>\n",
              "      <td>6150.0</td>\n",
              "      <td>14.0</td>\n",
              "      <td>6151.0</td>\n",
              "      <td>2050.0</td>\n",
              "      <td>19.0</td>\n",
              "      <td>300.0</td>\n",
              "      <td>129.0</td>\n",
              "      <td>43.0</td>\n",
              "      <td>1.0</td>\n",
              "      <td>NaN</td>\n",
              "      <td>NaN</td>\n",
              "      <td>4.0</td>\n",
              "    </tr>\n",
              "    <tr>\n",
              "      <th>93996</th>\n",
              "      <td>2900.0</td>\n",
              "      <td>13.0</td>\n",
              "      <td>2901.0</td>\n",
              "      <td>967.0</td>\n",
              "      <td>17.0</td>\n",
              "      <td>1217.0</td>\n",
              "      <td>NaN</td>\n",
              "      <td>NaN</td>\n",
              "      <td>NaN</td>\n",
              "      <td>NaN</td>\n",
              "      <td>1.0</td>\n",
              "      <td>12.0</td>\n",
              "    </tr>\n",
              "  </tbody>\n",
              "</table>\n",
              "<p>34211 rows × 12 columns</p>\n",
              "</div>"
            ],
            "text/plain": [
              "        MONTANT  FREQUENCE_RECH  REVENUE  ...  ZONE1  ZONE2  FREQ_TOP_PACK\n",
              "105281      NaN             NaN      NaN  ...    NaN    NaN            NaN\n",
              "22722    7900.0            16.0   7900.0  ...    NaN    NaN           14.0\n",
              "76446       NaN             NaN      NaN  ...    NaN    NaN            NaN\n",
              "46673       NaN             NaN      NaN  ...    NaN    NaN            NaN\n",
              "7006        NaN             NaN      NaN  ...    NaN    NaN            NaN\n",
              "...         ...             ...      ...  ...    ...    ...            ...\n",
              "7008        NaN             NaN      NaN  ...    0.0    NaN            NaN\n",
              "71490    3800.0             5.0   3800.0  ...    NaN    1.0            3.0\n",
              "78321   14150.0            31.0  15548.0  ...    NaN    NaN           20.0\n",
              "83665    6150.0            14.0   6151.0  ...    NaN    NaN            4.0\n",
              "93996    2900.0            13.0   2901.0  ...    NaN    1.0           12.0\n",
              "\n",
              "[34211 rows x 12 columns]"
            ]
          },
          "metadata": {
            "tags": []
          },
          "execution_count": 34
        }
      ]
    },
    {
      "cell_type": "markdown",
      "metadata": {
        "id": "gxK5oiRy5qIp",
        "colab_type": "text"
      },
      "source": [
        "> check for duplicate values"
      ]
    },
    {
      "cell_type": "code",
      "metadata": {
        "id": "7h4CExvy5qIq",
        "colab_type": "code",
        "colab": {
          "base_uri": "https://localhost:8080/",
          "height": 34
        },
        "outputId": "e5735aa8-a040-4570-def7-854d7c43d06a"
      },
      "source": [
        "train.duplicated().any()"
      ],
      "execution_count": 35,
      "outputs": [
        {
          "output_type": "execute_result",
          "data": {
            "text/plain": [
              "False"
            ]
          },
          "metadata": {
            "tags": []
          },
          "execution_count": 35
        }
      ]
    },
    {
      "cell_type": "code",
      "metadata": {
        "id": "MNyEQXdC5qIw",
        "colab_type": "code",
        "colab": {
          "base_uri": "https://localhost:8080/",
          "height": 34
        },
        "outputId": "94ce7b37-3990-4d3b-8e38-865227f11c55"
      },
      "source": [
        "test.duplicated().any()"
      ],
      "execution_count": 36,
      "outputs": [
        {
          "output_type": "execute_result",
          "data": {
            "text/plain": [
              "False"
            ]
          },
          "metadata": {
            "tags": []
          },
          "execution_count": 36
        }
      ]
    },
    {
      "cell_type": "markdown",
      "metadata": {
        "id": "0QClssFr5qI1",
        "colab_type": "text"
      },
      "source": [
        "> check for class imbalance"
      ]
    },
    {
      "cell_type": "code",
      "metadata": {
        "id": "_Zjniw2_5qI2",
        "colab_type": "code",
        "colab": {
          "base_uri": "https://localhost:8080/",
          "height": 366
        },
        "outputId": "c8518bfc-7d9a-4a5b-c6f2-5e90be3df057"
      },
      "source": [
        "print(\"Class Imbalance\\n\")\n",
        "print(train.CHURN.value_counts(), \"\\n\") \n",
        "train.CHURN.value_counts().plot.bar(); "
      ],
      "execution_count": 37,
      "outputs": [
        {
          "output_type": "stream",
          "text": [
            "Class Imbalance\n",
            "\n",
            "0    157332\n",
            "1     36532\n",
            "Name: CHURN, dtype: int64 \n",
            "\n"
          ],
          "name": "stdout"
        },
        {
          "output_type": "display_data",
          "data": {
            "image/png": "[encoded data removed]",
            "text/plain": [
              "<Figure size 432x288 with 1 Axes>"
            ]
          },
          "metadata": {
            "tags": [],
            "needs_background": "light"
          }
        }
      ]
    },
    {
      "cell_type": "markdown",
      "metadata": {
        "id": "fFLMyKHNzJBo",
        "colab_type": "text"
      },
      "source": [
        "### Preprocess Data for Modelling\n",
        " > Cleaning\n",
        "  - Drop MRG column\n",
        "  - Remove outliers\n",
        "  - Impute NaN by KNNImputer/SimpleImputer(mean/median for numerical and most frequent for categorical)\n",
        "\n",
        "> Feature Engineering\n",
        " - Extract feature of users' rank by (Group of Region by Tenure) \n",
        " - Extract feature users' rank  by TOPPACK\n",
        " - Balance Class Imbalance\n",
        " - Feature Union (K-best Selector and PCA components)\n",
        "\n",
        "> Put all processes in Sklearn Pipeline\n",
        "\n"
      ]
    },
    {
      "cell_type": "markdown",
      "metadata": {
        "id": "RRzEx7XSRPyW",
        "colab_type": "text"
      },
      "source": [
        "> Separate Y Labels from train set"
      ]
    },
    {
      "cell_type": "code",
      "metadata": {
        "id": "ih8_hGThRPcO",
        "colab_type": "code",
        "colab": {}
      },
      "source": [
        "train, train_label = train.drop('CHURN', axis=1), train.CHURN "
      ],
      "execution_count": 38,
      "outputs": []
    },
    {
      "cell_type": "code",
      "metadata": {
        "id": "Hdmf7rA1THw9",
        "colab_type": "code",
        "colab": {
          "base_uri": "https://localhost:8080/",
          "height": 69
        },
        "outputId": "f791e062-2352-4dd6-b08b-afddfa766d02"
      },
      "source": [
        "train_label.value_counts() "
      ],
      "execution_count": 39,
      "outputs": [
        {
          "output_type": "execute_result",
          "data": {
            "text/plain": [
              "0    157332\n",
              "1     36532\n",
              "Name: CHURN, dtype: int64"
            ]
          },
          "metadata": {
            "tags": []
          },
          "execution_count": 39
        }
      ]
    },
    {
      "cell_type": "code",
      "metadata": {
        "id": "oZPACBaE4yrC",
        "colab_type": "code",
        "colab": {
          "base_uri": "https://localhost:8080/",
          "height": 34
        },
        "outputId": "37ea21bd-9479-41c3-d012-b7e98fba123a"
      },
      "source": [
        "train.shape"
      ],
      "execution_count": 40,
      "outputs": [
        {
          "output_type": "execute_result",
          "data": {
            "text/plain": [
              "(193864, 18)"
            ]
          },
          "metadata": {
            "tags": []
          },
          "execution_count": 40
        }
      ]
    },
    {
      "cell_type": "code",
      "metadata": {
        "id": "TbyYICHB41Un",
        "colab_type": "code",
        "colab": {
          "base_uri": "https://localhost:8080/",
          "height": 34
        },
        "outputId": "6fd53bb5-50aa-4a8b-a03b-817f716f1328"
      },
      "source": [
        "test.shape"
      ],
      "execution_count": 41,
      "outputs": [
        {
          "output_type": "execute_result",
          "data": {
            "text/plain": [
              "(34211, 18)"
            ]
          },
          "metadata": {
            "tags": []
          },
          "execution_count": 41
        }
      ]
    },
    {
      "cell_type": "markdown",
      "metadata": {
        "id": "FBAlwDKf6Qy2",
        "colab_type": "text"
      },
      "source": [
        "#### Define Custom Estimators and Functions for each Preprocessing steps\n"
      ]
    },
    {
      "cell_type": "markdown",
      "metadata": {
        "id": "aCa_OjWr9uDd",
        "colab_type": "text"
      },
      "source": [
        "> Drop Columns"
      ]
    },
    {
      "cell_type": "code",
      "metadata": {
        "id": "AKgl7RUZ6gQx",
        "colab_type": "code",
        "colab": {}
      },
      "source": [
        "class DropColumns(BaseEstimator, TransformerMixin):\n",
        "\n",
        "  \"\"\"\n",
        "  Drop Columns not needed \n",
        "  \"\"\"\n",
        "\n",
        "  def __init__(self, cols_to_drop:list):\n",
        "    self.cols_to_drop = cols_to_drop\n",
        "\n",
        "  def fit(self, X:pd.DataFrame, y=None):\n",
        "    self.X_copy_ = X.copy()\n",
        "\n",
        "    return self\n",
        "\n",
        "  def transform(self, X, y=None):\n",
        "    self.X_copy_ = X.copy()\n",
        "    self.X_copy_ = self.X_copy_.drop(self.cols_to_drop, axis=1)\n",
        "\n",
        "    return self.X_copy_   \n",
        "\n",
        "\n",
        "  def fit_transform(self, X:pd.DataFrame, y=None):\n",
        "    self = self.fit(X)\n",
        "\n",
        "    self.X_copy_ = self.transform(X)\n",
        "\n",
        "    return self.X_copy_"
      ],
      "execution_count": 42,
      "outputs": []
    },
    {
      "cell_type": "code",
      "metadata": {
        "id": "jng2ljDv8LR0",
        "colab_type": "code",
        "colab": {
          "base_uri": "https://localhost:8080/",
          "height": 617
        },
        "outputId": "94bcae9d-e604-46be-823d-b519c94ddbec"
      },
      "source": [
        "drop_col = DropColumns(cols_to_drop=['MRG', 'user_id'])   \n",
        "train_process = drop_col.fit_transform(train)  \n",
        "train_process    "
      ],
      "execution_count": 43,
      "outputs": [
        {
          "output_type": "execute_result",
          "data": {
            "text/html": [
              "<div>\n",
              "<style scoped>\n",
              "    .dataframe tbody tr th:only-of-type {\n",
              "        vertical-align: middle;\n",
              "    }\n",
              "\n",
              "    .dataframe tbody tr th {\n",
              "        vertical-align: top;\n",
              "    }\n",
              "\n",
              "    .dataframe thead th {\n",
              "        text-align: right;\n",
              "    }\n",
              "</style>\n",
              "<table border=\"1\" class=\"dataframe\">\n",
              "  <thead>\n",
              "    <tr style=\"text-align: right;\">\n",
              "      <th></th>\n",
              "      <th>REGION</th>\n",
              "      <th>TENURE</th>\n",
              "      <th>MONTANT</th>\n",
              "      <th>FREQUENCE_RECH</th>\n",
              "      <th>REVENUE</th>\n",
              "      <th>ARPU_SEGMENT</th>\n",
              "      <th>FREQUENCE</th>\n",
              "      <th>DATA_VOLUME</th>\n",
              "      <th>ON_NET</th>\n",
              "      <th>ORANGE</th>\n",
              "      <th>TIGO</th>\n",
              "      <th>ZONE1</th>\n",
              "      <th>ZONE2</th>\n",
              "      <th>REGULARITY</th>\n",
              "      <th>TOP_PACK</th>\n",
              "      <th>FREQ_TOP_PACK</th>\n",
              "    </tr>\n",
              "  </thead>\n",
              "  <tbody>\n",
              "    <tr>\n",
              "      <th>542316</th>\n",
              "      <td>NaN</td>\n",
              "      <td>K &gt; 24 month</td>\n",
              "      <td>NaN</td>\n",
              "      <td>NaN</td>\n",
              "      <td>NaN</td>\n",
              "      <td>NaN</td>\n",
              "      <td>NaN</td>\n",
              "      <td>NaN</td>\n",
              "      <td>NaN</td>\n",
              "      <td>NaN</td>\n",
              "      <td>NaN</td>\n",
              "      <td>NaN</td>\n",
              "      <td>NaN</td>\n",
              "      <td>1</td>\n",
              "      <td>NaN</td>\n",
              "      <td>NaN</td>\n",
              "    </tr>\n",
              "    <tr>\n",
              "      <th>59878</th>\n",
              "      <td>THIES</td>\n",
              "      <td>K &gt; 24 month</td>\n",
              "      <td>11650.0</td>\n",
              "      <td>30.0</td>\n",
              "      <td>11682.0</td>\n",
              "      <td>3894.0</td>\n",
              "      <td>32.0</td>\n",
              "      <td>7119.0</td>\n",
              "      <td>23.0</td>\n",
              "      <td>468.0</td>\n",
              "      <td>54.0</td>\n",
              "      <td>0.0</td>\n",
              "      <td>NaN</td>\n",
              "      <td>60</td>\n",
              "      <td>Jokko_Daily</td>\n",
              "      <td>18.0</td>\n",
              "    </tr>\n",
              "    <tr>\n",
              "      <th>10729</th>\n",
              "      <td>SAINT-LOUIS</td>\n",
              "      <td>K &gt; 24 month</td>\n",
              "      <td>1000.0</td>\n",
              "      <td>2.0</td>\n",
              "      <td>1000.0</td>\n",
              "      <td>333.0</td>\n",
              "      <td>2.0</td>\n",
              "      <td>NaN</td>\n",
              "      <td>7.0</td>\n",
              "      <td>45.0</td>\n",
              "      <td>NaN</td>\n",
              "      <td>NaN</td>\n",
              "      <td>NaN</td>\n",
              "      <td>22</td>\n",
              "      <td>All-net 500F=2000F;5d</td>\n",
              "      <td>2.0</td>\n",
              "    </tr>\n",
              "    <tr>\n",
              "      <th>456437</th>\n",
              "      <td>KAOLACK</td>\n",
              "      <td>K &gt; 24 month</td>\n",
              "      <td>500.0</td>\n",
              "      <td>1.0</td>\n",
              "      <td>480.0</td>\n",
              "      <td>160.0</td>\n",
              "      <td>4.0</td>\n",
              "      <td>1875.0</td>\n",
              "      <td>14.0</td>\n",
              "      <td>1.0</td>\n",
              "      <td>NaN</td>\n",
              "      <td>NaN</td>\n",
              "      <td>NaN</td>\n",
              "      <td>20</td>\n",
              "      <td>Data: 100 F=40MB,24H</td>\n",
              "      <td>2.0</td>\n",
              "    </tr>\n",
              "    <tr>\n",
              "      <th>273902</th>\n",
              "      <td>NaN</td>\n",
              "      <td>K &gt; 24 month</td>\n",
              "      <td>11150.0</td>\n",
              "      <td>34.0</td>\n",
              "      <td>11750.0</td>\n",
              "      <td>3917.0</td>\n",
              "      <td>40.0</td>\n",
              "      <td>789.0</td>\n",
              "      <td>125.0</td>\n",
              "      <td>303.0</td>\n",
              "      <td>29.0</td>\n",
              "      <td>0.0</td>\n",
              "      <td>NaN</td>\n",
              "      <td>46</td>\n",
              "      <td>On net 200F=Unlimited _call24H</td>\n",
              "      <td>31.0</td>\n",
              "    </tr>\n",
              "    <tr>\n",
              "      <th>...</th>\n",
              "      <td>...</td>\n",
              "      <td>...</td>\n",
              "      <td>...</td>\n",
              "      <td>...</td>\n",
              "      <td>...</td>\n",
              "      <td>...</td>\n",
              "      <td>...</td>\n",
              "      <td>...</td>\n",
              "      <td>...</td>\n",
              "      <td>...</td>\n",
              "      <td>...</td>\n",
              "      <td>...</td>\n",
              "      <td>...</td>\n",
              "      <td>...</td>\n",
              "      <td>...</td>\n",
              "      <td>...</td>\n",
              "    </tr>\n",
              "    <tr>\n",
              "      <th>392679</th>\n",
              "      <td>LOUGA</td>\n",
              "      <td>K &gt; 24 month</td>\n",
              "      <td>500.0</td>\n",
              "      <td>1.0</td>\n",
              "      <td>500.0</td>\n",
              "      <td>167.0</td>\n",
              "      <td>1.0</td>\n",
              "      <td>0.0</td>\n",
              "      <td>9.0</td>\n",
              "      <td>8.0</td>\n",
              "      <td>15.0</td>\n",
              "      <td>NaN</td>\n",
              "      <td>NaN</td>\n",
              "      <td>20</td>\n",
              "      <td>All-net 500F=2000F;5d</td>\n",
              "      <td>1.0</td>\n",
              "    </tr>\n",
              "    <tr>\n",
              "      <th>494369</th>\n",
              "      <td>DAKAR</td>\n",
              "      <td>K &gt; 24 month</td>\n",
              "      <td>1100.0</td>\n",
              "      <td>3.0</td>\n",
              "      <td>1098.0</td>\n",
              "      <td>366.0</td>\n",
              "      <td>3.0</td>\n",
              "      <td>216.0</td>\n",
              "      <td>27.0</td>\n",
              "      <td>1.0</td>\n",
              "      <td>2.0</td>\n",
              "      <td>NaN</td>\n",
              "      <td>NaN</td>\n",
              "      <td>20</td>\n",
              "      <td>Data: 100 F=40MB,24H</td>\n",
              "      <td>2.0</td>\n",
              "    </tr>\n",
              "    <tr>\n",
              "      <th>59888</th>\n",
              "      <td>THIES</td>\n",
              "      <td>K &gt; 24 month</td>\n",
              "      <td>1000.0</td>\n",
              "      <td>2.0</td>\n",
              "      <td>1000.0</td>\n",
              "      <td>333.0</td>\n",
              "      <td>2.0</td>\n",
              "      <td>NaN</td>\n",
              "      <td>34.0</td>\n",
              "      <td>43.0</td>\n",
              "      <td>2.0</td>\n",
              "      <td>NaN</td>\n",
              "      <td>NaN</td>\n",
              "      <td>13</td>\n",
              "      <td>All-net 500F =2000F_AllNet_Unlimited</td>\n",
              "      <td>1.0</td>\n",
              "    </tr>\n",
              "    <tr>\n",
              "      <th>561559</th>\n",
              "      <td>NaN</td>\n",
              "      <td>K &gt; 24 month</td>\n",
              "      <td>NaN</td>\n",
              "      <td>NaN</td>\n",
              "      <td>NaN</td>\n",
              "      <td>NaN</td>\n",
              "      <td>NaN</td>\n",
              "      <td>NaN</td>\n",
              "      <td>NaN</td>\n",
              "      <td>NaN</td>\n",
              "      <td>NaN</td>\n",
              "      <td>NaN</td>\n",
              "      <td>NaN</td>\n",
              "      <td>2</td>\n",
              "      <td>NaN</td>\n",
              "      <td>NaN</td>\n",
              "    </tr>\n",
              "    <tr>\n",
              "      <th>379331</th>\n",
              "      <td>DAKAR</td>\n",
              "      <td>K &gt; 24 month</td>\n",
              "      <td>7200.0</td>\n",
              "      <td>16.0</td>\n",
              "      <td>7190.0</td>\n",
              "      <td>2397.0</td>\n",
              "      <td>18.0</td>\n",
              "      <td>5284.0</td>\n",
              "      <td>7.0</td>\n",
              "      <td>83.0</td>\n",
              "      <td>NaN</td>\n",
              "      <td>NaN</td>\n",
              "      <td>0.0</td>\n",
              "      <td>60</td>\n",
              "      <td>Data:490F=1GB,7d</td>\n",
              "      <td>8.0</td>\n",
              "    </tr>\n",
              "  </tbody>\n",
              "</table>\n",
              "<p>193864 rows × 16 columns</p>\n",
              "</div>"
            ],
            "text/plain": [
              "             REGION  ... FREQ_TOP_PACK\n",
              "542316          NaN  ...           NaN\n",
              "59878         THIES  ...          18.0\n",
              "10729   SAINT-LOUIS  ...           2.0\n",
              "456437      KAOLACK  ...           2.0\n",
              "273902          NaN  ...          31.0\n",
              "...             ...  ...           ...\n",
              "392679        LOUGA  ...           1.0\n",
              "494369        DAKAR  ...           2.0\n",
              "59888         THIES  ...           1.0\n",
              "561559          NaN  ...           NaN\n",
              "379331        DAKAR  ...           8.0\n",
              "\n",
              "[193864 rows x 16 columns]"
            ]
          },
          "metadata": {
            "tags": []
          },
          "execution_count": 43
        }
      ]
    },
    {
      "cell_type": "markdown",
      "metadata": {
        "id": "zRPSIS-b5qJB",
        "colab_type": "text"
      },
      "source": [
        "> Median Imputation for Outlier values"
      ]
    },
    {
      "cell_type": "code",
      "metadata": {
        "id": "RVgJ0wOR5qJC",
        "colab_type": "code",
        "colab": {}
      },
      "source": [
        "class ImputeOutlier(BaseEstimator, TransformerMixin):\n",
        "\n",
        "\n",
        "  def __init__(self):\n",
        "    pass \n",
        "\n",
        "  def fit(self, X:pd.DataFrame, y=None):\n",
        "    self.X_copy_ = X.copy()\n",
        "    self.X_cols_ = self.X_copy_.select_dtypes(include=['int64', 'float64']).columns.tolist()\n",
        " \n",
        "    return self\n",
        "\n",
        "  def transform(self, X, y=None):\n",
        "\n",
        "      for col in self.X_cols_: \n",
        "        low  = self.X_copy_[col].quantile(0.05) \n",
        "        high = self.X_copy_[col].quantile(0.95)  \n",
        "\n",
        "        self.X_copy_[col] = self.X_copy_[col].mask(self.X_copy_[col] > high, high) #np.where(self.X_copy_[col] > high, median,self.X_copy_[col])\n",
        "        self.X_copy_[col] = self.X_copy_[col].mask(self.X_copy_[col] < low, low) #np.where(self.X_copy_[col] < low, median, self.X_copy_[col]) \n",
        "        \n",
        "      return self.X_copy_\n",
        "\n",
        "\n",
        "  def fit_transform(self, X:pd.DataFrame, y=None): \n",
        "\n",
        "    self = self.fit(X)\n",
        "    self.X_copy_ = self.transform(X)\n",
        "\n",
        "\n",
        "    return self.X_copy_ "
      ],
      "execution_count": 44,
      "outputs": []
    },
    {
      "cell_type": "code",
      "metadata": {
        "id": "KoVj2Fqj90Z7",
        "colab_type": "code",
        "colab": {
          "base_uri": "https://localhost:8080/",
          "height": 617
        },
        "outputId": "02da434a-c18c-4f70-daa0-5f07d134133a"
      },
      "source": [
        "imp_out = ImputeOutlier()\n",
        "train_process = imp_out.fit_transform(train_process)  \n",
        "train_process "
      ],
      "execution_count": 45,
      "outputs": [
        {
          "output_type": "execute_result",
          "data": {
            "text/html": [
              "<div>\n",
              "<style scoped>\n",
              "    .dataframe tbody tr th:only-of-type {\n",
              "        vertical-align: middle;\n",
              "    }\n",
              "\n",
              "    .dataframe tbody tr th {\n",
              "        vertical-align: top;\n",
              "    }\n",
              "\n",
              "    .dataframe thead th {\n",
              "        text-align: right;\n",
              "    }\n",
              "</style>\n",
              "<table border=\"1\" class=\"dataframe\">\n",
              "  <thead>\n",
              "    <tr style=\"text-align: right;\">\n",
              "      <th></th>\n",
              "      <th>REGION</th>\n",
              "      <th>TENURE</th>\n",
              "      <th>MONTANT</th>\n",
              "      <th>FREQUENCE_RECH</th>\n",
              "      <th>REVENUE</th>\n",
              "      <th>ARPU_SEGMENT</th>\n",
              "      <th>FREQUENCE</th>\n",
              "      <th>DATA_VOLUME</th>\n",
              "      <th>ON_NET</th>\n",
              "      <th>ORANGE</th>\n",
              "      <th>TIGO</th>\n",
              "      <th>ZONE1</th>\n",
              "      <th>ZONE2</th>\n",
              "      <th>REGULARITY</th>\n",
              "      <th>TOP_PACK</th>\n",
              "      <th>FREQ_TOP_PACK</th>\n",
              "    </tr>\n",
              "  </thead>\n",
              "  <tbody>\n",
              "    <tr>\n",
              "      <th>542316</th>\n",
              "      <td>NaN</td>\n",
              "      <td>K &gt; 24 month</td>\n",
              "      <td>NaN</td>\n",
              "      <td>NaN</td>\n",
              "      <td>NaN</td>\n",
              "      <td>NaN</td>\n",
              "      <td>NaN</td>\n",
              "      <td>NaN</td>\n",
              "      <td>NaN</td>\n",
              "      <td>NaN</td>\n",
              "      <td>NaN</td>\n",
              "      <td>NaN</td>\n",
              "      <td>NaN</td>\n",
              "      <td>1</td>\n",
              "      <td>NaN</td>\n",
              "      <td>NaN</td>\n",
              "    </tr>\n",
              "    <tr>\n",
              "      <th>59878</th>\n",
              "      <td>THIES</td>\n",
              "      <td>K &gt; 24 month</td>\n",
              "      <td>11650.0</td>\n",
              "      <td>30.0</td>\n",
              "      <td>11682.0</td>\n",
              "      <td>3894.0</td>\n",
              "      <td>32.0</td>\n",
              "      <td>7119.0</td>\n",
              "      <td>23.0</td>\n",
              "      <td>394.0</td>\n",
              "      <td>54.0</td>\n",
              "      <td>0.0</td>\n",
              "      <td>NaN</td>\n",
              "      <td>60</td>\n",
              "      <td>Jokko_Daily</td>\n",
              "      <td>18.0</td>\n",
              "    </tr>\n",
              "    <tr>\n",
              "      <th>10729</th>\n",
              "      <td>SAINT-LOUIS</td>\n",
              "      <td>K &gt; 24 month</td>\n",
              "      <td>1000.0</td>\n",
              "      <td>2.0</td>\n",
              "      <td>1000.0</td>\n",
              "      <td>333.0</td>\n",
              "      <td>2.0</td>\n",
              "      <td>NaN</td>\n",
              "      <td>7.0</td>\n",
              "      <td>45.0</td>\n",
              "      <td>NaN</td>\n",
              "      <td>NaN</td>\n",
              "      <td>NaN</td>\n",
              "      <td>22</td>\n",
              "      <td>All-net 500F=2000F;5d</td>\n",
              "      <td>2.0</td>\n",
              "    </tr>\n",
              "    <tr>\n",
              "      <th>456437</th>\n",
              "      <td>KAOLACK</td>\n",
              "      <td>K &gt; 24 month</td>\n",
              "      <td>500.0</td>\n",
              "      <td>1.0</td>\n",
              "      <td>480.0</td>\n",
              "      <td>160.0</td>\n",
              "      <td>4.0</td>\n",
              "      <td>1875.0</td>\n",
              "      <td>14.0</td>\n",
              "      <td>1.0</td>\n",
              "      <td>NaN</td>\n",
              "      <td>NaN</td>\n",
              "      <td>NaN</td>\n",
              "      <td>20</td>\n",
              "      <td>Data: 100 F=40MB,24H</td>\n",
              "      <td>2.0</td>\n",
              "    </tr>\n",
              "    <tr>\n",
              "      <th>273902</th>\n",
              "      <td>NaN</td>\n",
              "      <td>K &gt; 24 month</td>\n",
              "      <td>11150.0</td>\n",
              "      <td>34.0</td>\n",
              "      <td>11750.0</td>\n",
              "      <td>3917.0</td>\n",
              "      <td>40.0</td>\n",
              "      <td>789.0</td>\n",
              "      <td>125.0</td>\n",
              "      <td>303.0</td>\n",
              "      <td>29.0</td>\n",
              "      <td>0.0</td>\n",
              "      <td>NaN</td>\n",
              "      <td>46</td>\n",
              "      <td>On net 200F=Unlimited _call24H</td>\n",
              "      <td>31.0</td>\n",
              "    </tr>\n",
              "    <tr>\n",
              "      <th>...</th>\n",
              "      <td>...</td>\n",
              "      <td>...</td>\n",
              "      <td>...</td>\n",
              "      <td>...</td>\n",
              "      <td>...</td>\n",
              "      <td>...</td>\n",
              "      <td>...</td>\n",
              "      <td>...</td>\n",
              "      <td>...</td>\n",
              "      <td>...</td>\n",
              "      <td>...</td>\n",
              "      <td>...</td>\n",
              "      <td>...</td>\n",
              "      <td>...</td>\n",
              "      <td>...</td>\n",
              "      <td>...</td>\n",
              "    </tr>\n",
              "    <tr>\n",
              "      <th>392679</th>\n",
              "      <td>LOUGA</td>\n",
              "      <td>K &gt; 24 month</td>\n",
              "      <td>500.0</td>\n",
              "      <td>1.0</td>\n",
              "      <td>500.0</td>\n",
              "      <td>167.0</td>\n",
              "      <td>1.0</td>\n",
              "      <td>0.0</td>\n",
              "      <td>9.0</td>\n",
              "      <td>8.0</td>\n",
              "      <td>15.0</td>\n",
              "      <td>NaN</td>\n",
              "      <td>NaN</td>\n",
              "      <td>20</td>\n",
              "      <td>All-net 500F=2000F;5d</td>\n",
              "      <td>1.0</td>\n",
              "    </tr>\n",
              "    <tr>\n",
              "      <th>494369</th>\n",
              "      <td>DAKAR</td>\n",
              "      <td>K &gt; 24 month</td>\n",
              "      <td>1100.0</td>\n",
              "      <td>3.0</td>\n",
              "      <td>1098.0</td>\n",
              "      <td>366.0</td>\n",
              "      <td>3.0</td>\n",
              "      <td>216.0</td>\n",
              "      <td>27.0</td>\n",
              "      <td>1.0</td>\n",
              "      <td>2.0</td>\n",
              "      <td>NaN</td>\n",
              "      <td>NaN</td>\n",
              "      <td>20</td>\n",
              "      <td>Data: 100 F=40MB,24H</td>\n",
              "      <td>2.0</td>\n",
              "    </tr>\n",
              "    <tr>\n",
              "      <th>59888</th>\n",
              "      <td>THIES</td>\n",
              "      <td>K &gt; 24 month</td>\n",
              "      <td>1000.0</td>\n",
              "      <td>2.0</td>\n",
              "      <td>1000.0</td>\n",
              "      <td>333.0</td>\n",
              "      <td>2.0</td>\n",
              "      <td>NaN</td>\n",
              "      <td>34.0</td>\n",
              "      <td>43.0</td>\n",
              "      <td>2.0</td>\n",
              "      <td>NaN</td>\n",
              "      <td>NaN</td>\n",
              "      <td>13</td>\n",
              "      <td>All-net 500F =2000F_AllNet_Unlimited</td>\n",
              "      <td>1.0</td>\n",
              "    </tr>\n",
              "    <tr>\n",
              "      <th>561559</th>\n",
              "      <td>NaN</td>\n",
              "      <td>K &gt; 24 month</td>\n",
              "      <td>NaN</td>\n",
              "      <td>NaN</td>\n",
              "      <td>NaN</td>\n",
              "      <td>NaN</td>\n",
              "      <td>NaN</td>\n",
              "      <td>NaN</td>\n",
              "      <td>NaN</td>\n",
              "      <td>NaN</td>\n",
              "      <td>NaN</td>\n",
              "      <td>NaN</td>\n",
              "      <td>NaN</td>\n",
              "      <td>2</td>\n",
              "      <td>NaN</td>\n",
              "      <td>NaN</td>\n",
              "    </tr>\n",
              "    <tr>\n",
              "      <th>379331</th>\n",
              "      <td>DAKAR</td>\n",
              "      <td>K &gt; 24 month</td>\n",
              "      <td>7200.0</td>\n",
              "      <td>16.0</td>\n",
              "      <td>7190.0</td>\n",
              "      <td>2397.0</td>\n",
              "      <td>18.0</td>\n",
              "      <td>5284.0</td>\n",
              "      <td>7.0</td>\n",
              "      <td>83.0</td>\n",
              "      <td>NaN</td>\n",
              "      <td>NaN</td>\n",
              "      <td>0.0</td>\n",
              "      <td>60</td>\n",
              "      <td>Data:490F=1GB,7d</td>\n",
              "      <td>8.0</td>\n",
              "    </tr>\n",
              "  </tbody>\n",
              "</table>\n",
              "<p>193864 rows × 16 columns</p>\n",
              "</div>"
            ],
            "text/plain": [
              "             REGION  ... FREQ_TOP_PACK\n",
              "542316          NaN  ...           NaN\n",
              "59878         THIES  ...          18.0\n",
              "10729   SAINT-LOUIS  ...           2.0\n",
              "456437      KAOLACK  ...           2.0\n",
              "273902          NaN  ...          31.0\n",
              "...             ...  ...           ...\n",
              "392679        LOUGA  ...           1.0\n",
              "494369        DAKAR  ...           2.0\n",
              "59888         THIES  ...           1.0\n",
              "561559          NaN  ...           NaN\n",
              "379331        DAKAR  ...           8.0\n",
              "\n",
              "[193864 rows x 16 columns]"
            ]
          },
          "metadata": {
            "tags": []
          },
          "execution_count": 45
        }
      ]
    },
    {
      "cell_type": "code",
      "metadata": {
        "id": "DxM0pSPuAlle",
        "colab_type": "code",
        "colab": {
          "base_uri": "https://localhost:8080/",
          "height": 478
        },
        "outputId": "3b7e85ca-dfd3-4cb2-b2af-5087cd9e3252"
      },
      "source": [
        "check_outliers(train_process) "
      ],
      "execution_count": 46,
      "outputs": [
        {
          "output_type": "stream",
          "text": [
            "{'MONTANT': True, 'FREQUENCE_RECH': True, 'REVENUE': True, 'ARPU_SEGMENT': True, 'FREQUENCE': False, 'DATA_VOLUME': True, 'ON_NET': True, 'ORANGE': True, 'TIGO': True, 'ZONE1': True, 'ZONE2': True, 'REGULARITY': False, 'FREQ_TOP_PACK': True}\n",
            "(193864, 16)\n"
          ],
          "name": "stdout"
        },
        {
          "output_type": "execute_result",
          "data": {
            "text/html": [
              "<div>\n",
              "<style scoped>\n",
              "    .dataframe tbody tr th:only-of-type {\n",
              "        vertical-align: middle;\n",
              "    }\n",
              "\n",
              "    .dataframe tbody tr th {\n",
              "        vertical-align: top;\n",
              "    }\n",
              "\n",
              "    .dataframe thead th {\n",
              "        text-align: right;\n",
              "    }\n",
              "</style>\n",
              "<table border=\"1\" class=\"dataframe\">\n",
              "  <thead>\n",
              "    <tr style=\"text-align: right;\">\n",
              "      <th></th>\n",
              "      <th>MONTANT</th>\n",
              "      <th>FREQUENCE_RECH</th>\n",
              "      <th>REVENUE</th>\n",
              "      <th>ARPU_SEGMENT</th>\n",
              "      <th>DATA_VOLUME</th>\n",
              "      <th>ON_NET</th>\n",
              "      <th>ORANGE</th>\n",
              "      <th>TIGO</th>\n",
              "      <th>ZONE1</th>\n",
              "      <th>ZONE2</th>\n",
              "      <th>FREQ_TOP_PACK</th>\n",
              "    </tr>\n",
              "  </thead>\n",
              "  <tbody>\n",
              "    <tr>\n",
              "      <th>542316</th>\n",
              "      <td>NaN</td>\n",
              "      <td>NaN</td>\n",
              "      <td>NaN</td>\n",
              "      <td>NaN</td>\n",
              "      <td>NaN</td>\n",
              "      <td>NaN</td>\n",
              "      <td>NaN</td>\n",
              "      <td>NaN</td>\n",
              "      <td>NaN</td>\n",
              "      <td>NaN</td>\n",
              "      <td>NaN</td>\n",
              "    </tr>\n",
              "    <tr>\n",
              "      <th>59878</th>\n",
              "      <td>11650.0</td>\n",
              "      <td>30.0</td>\n",
              "      <td>11682.0</td>\n",
              "      <td>3894.0</td>\n",
              "      <td>7119.0</td>\n",
              "      <td>23.0</td>\n",
              "      <td>394.0</td>\n",
              "      <td>54.0</td>\n",
              "      <td>0.0</td>\n",
              "      <td>NaN</td>\n",
              "      <td>18.0</td>\n",
              "    </tr>\n",
              "    <tr>\n",
              "      <th>10729</th>\n",
              "      <td>1000.0</td>\n",
              "      <td>2.0</td>\n",
              "      <td>1000.0</td>\n",
              "      <td>333.0</td>\n",
              "      <td>NaN</td>\n",
              "      <td>7.0</td>\n",
              "      <td>45.0</td>\n",
              "      <td>NaN</td>\n",
              "      <td>NaN</td>\n",
              "      <td>NaN</td>\n",
              "      <td>2.0</td>\n",
              "    </tr>\n",
              "    <tr>\n",
              "      <th>456437</th>\n",
              "      <td>500.0</td>\n",
              "      <td>1.0</td>\n",
              "      <td>480.0</td>\n",
              "      <td>160.0</td>\n",
              "      <td>1875.0</td>\n",
              "      <td>14.0</td>\n",
              "      <td>1.0</td>\n",
              "      <td>NaN</td>\n",
              "      <td>NaN</td>\n",
              "      <td>NaN</td>\n",
              "      <td>2.0</td>\n",
              "    </tr>\n",
              "    <tr>\n",
              "      <th>273902</th>\n",
              "      <td>11150.0</td>\n",
              "      <td>34.0</td>\n",
              "      <td>11750.0</td>\n",
              "      <td>3917.0</td>\n",
              "      <td>789.0</td>\n",
              "      <td>125.0</td>\n",
              "      <td>303.0</td>\n",
              "      <td>29.0</td>\n",
              "      <td>0.0</td>\n",
              "      <td>NaN</td>\n",
              "      <td>31.0</td>\n",
              "    </tr>\n",
              "    <tr>\n",
              "      <th>...</th>\n",
              "      <td>...</td>\n",
              "      <td>...</td>\n",
              "      <td>...</td>\n",
              "      <td>...</td>\n",
              "      <td>...</td>\n",
              "      <td>...</td>\n",
              "      <td>...</td>\n",
              "      <td>...</td>\n",
              "      <td>...</td>\n",
              "      <td>...</td>\n",
              "      <td>...</td>\n",
              "    </tr>\n",
              "    <tr>\n",
              "      <th>392679</th>\n",
              "      <td>500.0</td>\n",
              "      <td>1.0</td>\n",
              "      <td>500.0</td>\n",
              "      <td>167.0</td>\n",
              "      <td>0.0</td>\n",
              "      <td>9.0</td>\n",
              "      <td>8.0</td>\n",
              "      <td>15.0</td>\n",
              "      <td>NaN</td>\n",
              "      <td>NaN</td>\n",
              "      <td>1.0</td>\n",
              "    </tr>\n",
              "    <tr>\n",
              "      <th>494369</th>\n",
              "      <td>1100.0</td>\n",
              "      <td>3.0</td>\n",
              "      <td>1098.0</td>\n",
              "      <td>366.0</td>\n",
              "      <td>216.0</td>\n",
              "      <td>27.0</td>\n",
              "      <td>1.0</td>\n",
              "      <td>2.0</td>\n",
              "      <td>NaN</td>\n",
              "      <td>NaN</td>\n",
              "      <td>2.0</td>\n",
              "    </tr>\n",
              "    <tr>\n",
              "      <th>59888</th>\n",
              "      <td>1000.0</td>\n",
              "      <td>2.0</td>\n",
              "      <td>1000.0</td>\n",
              "      <td>333.0</td>\n",
              "      <td>NaN</td>\n",
              "      <td>34.0</td>\n",
              "      <td>43.0</td>\n",
              "      <td>2.0</td>\n",
              "      <td>NaN</td>\n",
              "      <td>NaN</td>\n",
              "      <td>1.0</td>\n",
              "    </tr>\n",
              "    <tr>\n",
              "      <th>561559</th>\n",
              "      <td>NaN</td>\n",
              "      <td>NaN</td>\n",
              "      <td>NaN</td>\n",
              "      <td>NaN</td>\n",
              "      <td>NaN</td>\n",
              "      <td>NaN</td>\n",
              "      <td>NaN</td>\n",
              "      <td>NaN</td>\n",
              "      <td>NaN</td>\n",
              "      <td>NaN</td>\n",
              "      <td>NaN</td>\n",
              "    </tr>\n",
              "    <tr>\n",
              "      <th>379331</th>\n",
              "      <td>7200.0</td>\n",
              "      <td>16.0</td>\n",
              "      <td>7190.0</td>\n",
              "      <td>2397.0</td>\n",
              "      <td>5284.0</td>\n",
              "      <td>7.0</td>\n",
              "      <td>83.0</td>\n",
              "      <td>NaN</td>\n",
              "      <td>NaN</td>\n",
              "      <td>0.0</td>\n",
              "      <td>8.0</td>\n",
              "    </tr>\n",
              "  </tbody>\n",
              "</table>\n",
              "<p>193864 rows × 11 columns</p>\n",
              "</div>"
            ],
            "text/plain": [
              "        MONTANT  FREQUENCE_RECH  REVENUE  ...  ZONE1  ZONE2  FREQ_TOP_PACK\n",
              "542316      NaN             NaN      NaN  ...    NaN    NaN            NaN\n",
              "59878   11650.0            30.0  11682.0  ...    0.0    NaN           18.0\n",
              "10729    1000.0             2.0   1000.0  ...    NaN    NaN            2.0\n",
              "456437    500.0             1.0    480.0  ...    NaN    NaN            2.0\n",
              "273902  11150.0            34.0  11750.0  ...    0.0    NaN           31.0\n",
              "...         ...             ...      ...  ...    ...    ...            ...\n",
              "392679    500.0             1.0    500.0  ...    NaN    NaN            1.0\n",
              "494369   1100.0             3.0   1098.0  ...    NaN    NaN            2.0\n",
              "59888    1000.0             2.0   1000.0  ...    NaN    NaN            1.0\n",
              "561559      NaN             NaN      NaN  ...    NaN    NaN            NaN\n",
              "379331   7200.0            16.0   7190.0  ...    NaN    0.0            8.0\n",
              "\n",
              "[193864 rows x 11 columns]"
            ]
          },
          "metadata": {
            "tags": []
          },
          "execution_count": 46
        }
      ]
    },
    {
      "cell_type": "markdown",
      "metadata": {
        "id": "p41-cuvk5qJQ",
        "colab_type": "text"
      },
      "source": [
        "no more outlier values"
      ]
    },
    {
      "cell_type": "markdown",
      "metadata": {
        "id": "H8zV29IlA5od",
        "colab_type": "text"
      },
      "source": [
        "> Impute NaNs in categorical values\n"
      ]
    },
    {
      "cell_type": "code",
      "metadata": {
        "id": "tqlmMLqgA9am",
        "colab_type": "code",
        "colab": {}
      },
      "source": [
        "cat_imp = SimpleImputer(strategy='most_frequent')  "
      ],
      "execution_count": 47,
      "outputs": []
    },
    {
      "cell_type": "code",
      "metadata": {
        "id": "WmEBKFWQEFn6",
        "colab_type": "code",
        "colab": {
          "base_uri": "https://localhost:8080/",
          "height": 139
        },
        "outputId": "b2cb2bb1-269b-4925-b934-70a35f00642f"
      },
      "source": [
        "train_cat = train_process.select_dtypes('object')\n",
        "train_cat  = cat_imp.fit_transform(train_cat)\n",
        "train_cat"
      ],
      "execution_count": 48,
      "outputs": [
        {
          "output_type": "execute_result",
          "data": {
            "text/plain": [
              "array([['DAKAR', 'K > 24 month', 'All-net 500F=2000F;5d'],\n",
              "       ['THIES', 'K > 24 month', 'Jokko_Daily'],\n",
              "       ['SAINT-LOUIS', 'K > 24 month', 'All-net 500F=2000F;5d'],\n",
              "       ...,\n",
              "       ['THIES', 'K > 24 month', 'All-net 500F =2000F_AllNet_Unlimited'],\n",
              "       ['DAKAR', 'K > 24 month', 'All-net 500F=2000F;5d'],\n",
              "       ['DAKAR', 'K > 24 month', 'Data:490F=1GB,7d']], dtype=object)"
            ]
          },
          "metadata": {
            "tags": []
          },
          "execution_count": 48
        }
      ]
    },
    {
      "cell_type": "code",
      "metadata": {
        "id": "U7fCz02qFFuA",
        "colab_type": "code",
        "colab": {}
      },
      "source": [
        "# train_cat = pd.DataFrame(data=train_cat, columns=  train_process.select_dtypes('object').columns.tolist())\n",
        "# train_cat.isna().any()"
      ],
      "execution_count": 49,
      "outputs": []
    },
    {
      "cell_type": "code",
      "metadata": {
        "id": "olYi_H9IFbJg",
        "colab_type": "code",
        "colab": {
          "base_uri": "https://localhost:8080/",
          "height": 139
        },
        "outputId": "146a009c-d59f-4842-b573-e7e07772035b"
      },
      "source": [
        "train_cat"
      ],
      "execution_count": 50,
      "outputs": [
        {
          "output_type": "execute_result",
          "data": {
            "text/plain": [
              "array([['DAKAR', 'K > 24 month', 'All-net 500F=2000F;5d'],\n",
              "       ['THIES', 'K > 24 month', 'Jokko_Daily'],\n",
              "       ['SAINT-LOUIS', 'K > 24 month', 'All-net 500F=2000F;5d'],\n",
              "       ...,\n",
              "       ['THIES', 'K > 24 month', 'All-net 500F =2000F_AllNet_Unlimited'],\n",
              "       ['DAKAR', 'K > 24 month', 'All-net 500F=2000F;5d'],\n",
              "       ['DAKAR', 'K > 24 month', 'Data:490F=1GB,7d']], dtype=object)"
            ]
          },
          "metadata": {
            "tags": []
          },
          "execution_count": 50
        }
      ]
    },
    {
      "cell_type": "markdown",
      "metadata": {
        "colab_type": "text",
        "id": "PekSFxIsGG1r"
      },
      "source": [
        "> Impute NaNs in numeric values\n"
      ]
    },
    {
      "cell_type": "code",
      "metadata": {
        "colab_type": "code",
        "id": "nKYgMVEVGG1y",
        "colab": {}
      },
      "source": [
        "num_imp = SimpleImputer(strategy='mean')  "
      ],
      "execution_count": 51,
      "outputs": []
    },
    {
      "cell_type": "code",
      "metadata": {
        "colab_type": "code",
        "id": "oxB8S67LGG2G",
        "colab": {
          "base_uri": "https://localhost:8080/",
          "height": 243
        },
        "outputId": "f875711d-32f6-4517-f5a1-8581eaa2d115"
      },
      "source": [
        "train_num = train_process.select_dtypes(['float64', 'int64'])\n",
        "train_num  = num_imp.fit_transform(train_num)\n",
        "train_num "
      ],
      "execution_count": 52,
      "outputs": [
        {
          "output_type": "execute_result",
          "data": {
            "text/plain": [
              "array([[5.07889426e+03, 1.09059206e+01, 5.05916435e+03, ...,\n",
              "        4.61821769e+00, 1.00000000e+00, 8.49033567e+00],\n",
              "       [1.16500000e+04, 3.00000000e+01, 1.16820000e+04, ...,\n",
              "        4.61821769e+00, 6.00000000e+01, 1.80000000e+01],\n",
              "       [1.00000000e+03, 2.00000000e+00, 1.00000000e+03, ...,\n",
              "        4.61821769e+00, 2.20000000e+01, 2.00000000e+00],\n",
              "       ...,\n",
              "       [1.00000000e+03, 2.00000000e+00, 1.00000000e+03, ...,\n",
              "        4.61821769e+00, 1.30000000e+01, 1.00000000e+00],\n",
              "       [5.07889426e+03, 1.09059206e+01, 5.05916435e+03, ...,\n",
              "        4.61821769e+00, 2.00000000e+00, 8.49033567e+00],\n",
              "       [7.20000000e+03, 1.60000000e+01, 7.19000000e+03, ...,\n",
              "        0.00000000e+00, 6.00000000e+01, 8.00000000e+00]])"
            ]
          },
          "metadata": {
            "tags": []
          },
          "execution_count": 52
        }
      ]
    },
    {
      "cell_type": "code",
      "metadata": {
        "colab_type": "code",
        "id": "TlPEghRcGG2T",
        "colab": {}
      },
      "source": [
        "# train_num = pd.DataFrame(data=train_num, columns=  train_process.select_dtypes(['float64', 'int64']).columns.tolist())\n",
        "# train_num.isna().any()"
      ],
      "execution_count": 53,
      "outputs": []
    },
    {
      "cell_type": "code",
      "metadata": {
        "colab_type": "code",
        "id": "-pISpBbhGG2f",
        "colab": {
          "base_uri": "https://localhost:8080/",
          "height": 243
        },
        "outputId": "2d294fee-341b-4447-dfc4-4334f3f7c66e"
      },
      "source": [
        "train_num"
      ],
      "execution_count": 54,
      "outputs": [
        {
          "output_type": "execute_result",
          "data": {
            "text/plain": [
              "array([[5.07889426e+03, 1.09059206e+01, 5.05916435e+03, ...,\n",
              "        4.61821769e+00, 1.00000000e+00, 8.49033567e+00],\n",
              "       [1.16500000e+04, 3.00000000e+01, 1.16820000e+04, ...,\n",
              "        4.61821769e+00, 6.00000000e+01, 1.80000000e+01],\n",
              "       [1.00000000e+03, 2.00000000e+00, 1.00000000e+03, ...,\n",
              "        4.61821769e+00, 2.20000000e+01, 2.00000000e+00],\n",
              "       ...,\n",
              "       [1.00000000e+03, 2.00000000e+00, 1.00000000e+03, ...,\n",
              "        4.61821769e+00, 1.30000000e+01, 1.00000000e+00],\n",
              "       [5.07889426e+03, 1.09059206e+01, 5.05916435e+03, ...,\n",
              "        4.61821769e+00, 2.00000000e+00, 8.49033567e+00],\n",
              "       [7.20000000e+03, 1.60000000e+01, 7.19000000e+03, ...,\n",
              "        0.00000000e+00, 6.00000000e+01, 8.00000000e+00]])"
            ]
          },
          "metadata": {
            "tags": []
          },
          "execution_count": 54
        }
      ]
    },
    {
      "cell_type": "markdown",
      "metadata": {
        "id": "cOG90cFqHDJF",
        "colab_type": "text"
      },
      "source": [
        "> merge columns"
      ]
    },
    {
      "cell_type": "code",
      "metadata": {
        "id": "S3mdu-IXHFN3",
        "colab_type": "code",
        "colab": {}
      },
      "source": [
        "# train_process = train_cat.merge(train_num, left_index=True, right_index=True)\n",
        "# train_process.isna().any()"
      ],
      "execution_count": 55,
      "outputs": []
    },
    {
      "cell_type": "code",
      "metadata": {
        "id": "kJ13-frGgJSY",
        "colab_type": "code",
        "colab": {}
      },
      "source": [
        "train_process = np.concatenate((train_cat, train_num), axis=1)"
      ],
      "execution_count": 56,
      "outputs": []
    },
    {
      "cell_type": "code",
      "metadata": {
        "id": "6oVvyHvWHlsw",
        "colab_type": "code",
        "colab": {
          "base_uri": "https://localhost:8080/",
          "height": 243
        },
        "outputId": "2734b7c7-b61f-4b8c-d5c9-8bed9cdf3a6f"
      },
      "source": [
        "train_process "
      ],
      "execution_count": 57,
      "outputs": [
        {
          "output_type": "execute_result",
          "data": {
            "text/plain": [
              "array([['DAKAR', 'K > 24 month', 'All-net 500F=2000F;5d', ...,\n",
              "        4.618217691548833, 1.0, 8.490335670807674],\n",
              "       ['THIES', 'K > 24 month', 'Jokko_Daily', ..., 4.618217691548833,\n",
              "        60.0, 18.0],\n",
              "       ['SAINT-LOUIS', 'K > 24 month', 'All-net 500F=2000F;5d', ...,\n",
              "        4.618217691548833, 22.0, 2.0],\n",
              "       ...,\n",
              "       ['THIES', 'K > 24 month', 'All-net 500F =2000F_AllNet_Unlimited',\n",
              "        ..., 4.618217691548833, 13.0, 1.0],\n",
              "       ['DAKAR', 'K > 24 month', 'All-net 500F=2000F;5d', ...,\n",
              "        4.618217691548833, 2.0, 8.490335670807674],\n",
              "       ['DAKAR', 'K > 24 month', 'Data:490F=1GB,7d', ..., 0.0, 60.0, 8.0]],\n",
              "      dtype=object)"
            ]
          },
          "metadata": {
            "tags": []
          },
          "execution_count": 57
        }
      ]
    },
    {
      "cell_type": "markdown",
      "metadata": {
        "id": "ROuVBnqWH9ef",
        "colab_type": "text"
      },
      "source": [
        "> Feature Engineering\n",
        " - Extract feature of users' rank by (Group of Region by Tenure) \n",
        " - Extract feature users' rank  by TOPPACK\n",
        " - Balance Class Imbalance\n",
        " - Feature Union (K-best Selector and PCA components)"
      ]
    },
    {
      "cell_type": "markdown",
      "metadata": {
        "id": "oone-i7MIDHG",
        "colab_type": "text"
      },
      "source": [
        " - Extract feature of users' rank by (Group of Region by Tenure) \n",
        " - Extract feature users' rank  by TOPPACK"
      ]
    },
    {
      "cell_type": "code",
      "metadata": {
        "id": "Ek5XFkkEH8zl",
        "colab_type": "code",
        "colab": {}
      },
      "source": [
        "# train_process_copy = train_process.copy() "
      ],
      "execution_count": 58,
      "outputs": []
    },
    {
      "cell_type": "code",
      "metadata": {
        "id": "LRB7IVMZH8w7",
        "colab_type": "code",
        "colab": {}
      },
      "source": [
        "# train_process_copy.TENURE.value_counts()"
      ],
      "execution_count": 59,
      "outputs": []
    },
    {
      "cell_type": "markdown",
      "metadata": {
        "id": "ykZZzNuzIbwO",
        "colab_type": "text"
      },
      "source": [
        "labelEncode Tenure"
      ]
    },
    {
      "cell_type": "code",
      "metadata": {
        "id": "fmos43PAH8uX",
        "colab_type": "code",
        "colab": {}
      },
      "source": [
        "# label_encoder = LabelEncoder()\n",
        "# train_process_copy.TENURE = label_encoder.fit_transform(train_process_copy.TENURE) \n",
        "# train_process_copy"
      ],
      "execution_count": 60,
      "outputs": []
    },
    {
      "cell_type": "code",
      "metadata": {
        "id": "IpqeasCCH8rg",
        "colab_type": "code",
        "colab": {}
      },
      "source": [
        "# top3_region = train_process_copy.groupby(['REGION'])['TENURE'].sum().sort_values(ascending=False).head(3)\n",
        "# top3_region"
      ],
      "execution_count": 61,
      "outputs": []
    },
    {
      "cell_type": "code",
      "metadata": {
        "id": "VQcuakFxJ_KX",
        "colab_type": "code",
        "colab": {}
      },
      "source": [
        "# top3_region=top3_region.index.tolist() \n",
        "# top3_region "
      ],
      "execution_count": 62,
      "outputs": []
    },
    {
      "cell_type": "code",
      "metadata": {
        "id": "TplP464rM51H",
        "colab_type": "code",
        "colab": {}
      },
      "source": [
        "# top3_region[0]"
      ],
      "execution_count": 63,
      "outputs": []
    },
    {
      "cell_type": "code",
      "metadata": {
        "id": "4GQ42AlLN95O",
        "colab_type": "code",
        "colab": {}
      },
      "source": [
        "# x = train_process_copy.REGION.copy()\n",
        "# x "
      ],
      "execution_count": 64,
      "outputs": []
    },
    {
      "cell_type": "code",
      "metadata": {
        "id": "0Q790LfnQemt",
        "colab_type": "code",
        "colab": {}
      },
      "source": [
        "# x.where((x != 1) | (x!=2) | (x !=3)) "
      ],
      "execution_count": 65,
      "outputs": []
    },
    {
      "cell_type": "code",
      "metadata": {
        "id": "cGBlM7RrH8nu",
        "colab_type": "code",
        "colab": {}
      },
      "source": [
        "# x = train_process_copy.REGION.copy()\n",
        "# x = np.where(x == top3_region[0], 3, x)\n",
        "# x = np.where(x == top3_region[1], 2, x) \n",
        "# x = np.where(x == top3_region[2], 1, x)\n",
        "# x = np.where((x != 1) & (x!=2) & (x!=3), 0, x)\n",
        "# x  "
      ],
      "execution_count": 66,
      "outputs": []
    },
    {
      "cell_type": "code",
      "metadata": {
        "id": "V-zJpXP1H8iA",
        "colab_type": "code",
        "colab": {}
      },
      "source": [
        "# set(x) "
      ],
      "execution_count": 67,
      "outputs": []
    },
    {
      "cell_type": "code",
      "metadata": {
        "id": "5rOFcCA5xmDf",
        "colab_type": "code",
        "colab": {
          "base_uri": "https://localhost:8080/",
          "height": 34
        },
        "outputId": "9be7b868-b0b1-42f5-ed22-b3526de9c621"
      },
      "source": [
        "train_cols = train.drop(columns=['user_id', 'MRG']).columns.to_list()\n",
        "len(train_cols )"
      ],
      "execution_count": 68,
      "outputs": [
        {
          "output_type": "execute_result",
          "data": {
            "text/plain": [
              "16"
            ]
          },
          "metadata": {
            "tags": []
          },
          "execution_count": 68
        }
      ]
    },
    {
      "cell_type": "code",
      "metadata": {
        "id": "HdomQ3DbgzVg",
        "colab_type": "code",
        "colab": {
          "base_uri": "https://localhost:8080/",
          "height": 295
        },
        "outputId": "bc38ee17-c443-4101-ab89-76136606ed28"
      },
      "source": [
        "train_cols"
      ],
      "execution_count": 69,
      "outputs": [
        {
          "output_type": "execute_result",
          "data": {
            "text/plain": [
              "['REGION',\n",
              " 'TENURE',\n",
              " 'MONTANT',\n",
              " 'FREQUENCE_RECH',\n",
              " 'REVENUE',\n",
              " 'ARPU_SEGMENT',\n",
              " 'FREQUENCE',\n",
              " 'DATA_VOLUME',\n",
              " 'ON_NET',\n",
              " 'ORANGE',\n",
              " 'TIGO',\n",
              " 'ZONE1',\n",
              " 'ZONE2',\n",
              " 'REGULARITY',\n",
              " 'TOP_PACK',\n",
              " 'FREQ_TOP_PACK']"
            ]
          },
          "metadata": {
            "tags": []
          },
          "execution_count": 69
        }
      ]
    },
    {
      "cell_type": "markdown",
      "metadata": {
        "id": "NKry7zLyq1Cn",
        "colab_type": "text"
      },
      "source": [
        "> Define estimator to extract rank features"
      ]
    },
    {
      "cell_type": "code",
      "metadata": {
        "id": "E6Gk7fjSq8Qv",
        "colab_type": "code",
        "colab": {}
      },
      "source": [
        "class Ranker(BaseEstimator, TransformerMixin): \n",
        "\n",
        "  from sklearn.preprocessing import LabelEncoder\n",
        "\n",
        "  \n",
        "\n",
        "\n",
        "  def __init__(self, group_cols:list , value_col:str, columns=None):\n",
        "    self.group_cols = group_cols\n",
        "    self.value_col = value_col \n",
        "\n",
        "    self.label_encoder = LabelEncoder()\n",
        "\n",
        "    if columns is None:\n",
        "      self.columns= [ 'REGION',\n",
        "  'TENURE',\n",
        "  'TOP_PACK', \n",
        "  'MONTANT', \n",
        "  'FREQUENCE_RECH',\n",
        "  'REVENUE',\n",
        "  'ARPU_SEGMENT',\n",
        "  'FREQUENCE',\n",
        "  'DATA_VOLUME', \n",
        "  'ON_NET',\n",
        "  'ORANGE',\n",
        "  'TIGO', \n",
        "  'ZONE1',\n",
        "  'ZONE2',\n",
        "  'REGULARITY',\n",
        "  'FREQ_TOP_PACK'\n",
        "      ]\n",
        "\n",
        "  def fit(self, X, y=None): \n",
        "\n",
        "    self.X_copy = pd.DataFrame(data=X, columns=self.columns)\n",
        "\n",
        "\n",
        "    self.X_copy[self.value_col] = self.label_encoder.fit_transform(self.X_copy[self.value_col])\n",
        "    \n",
        "\n",
        "    return self\n",
        "\n",
        "\n",
        "  def transform(self, X, y=None):\n",
        "\n",
        "    self.X_copy = pd.DataFrame(data=X, columns=self.columns)\n",
        "\n",
        "    self.X_copy[self.value_col] = self.label_encoder.fit_transform(self.X_copy[self.value_col])\n",
        "\n",
        "\n",
        "    for col in self.group_cols:\n",
        "\n",
        "      self.top3_ = self.X_copy.groupby([col])[self.value_col].sum().sort_values(ascending=False).head(3) \n",
        "\n",
        "      self.top3_ = self.top3_.index.tolist()\n",
        "\n",
        "      #print(self.top3_)\n",
        "\n",
        "      self.X_copy[col] = np.where(self.X_copy[col] == \n",
        "                                            self.top3_[0], 3, self.X_copy[col]) \n",
        "      \n",
        "      self.X_copy[col] = np.where(self.X_copy[col] == \n",
        "                                            self.top3_[1], 2, self.X_copy[col])  \n",
        "      \n",
        "      self.X_copy[col] = np.where(self.X_copy[col] ==  \n",
        "                                            self.top3_[2], 1, self.X_copy[col])\n",
        "      \n",
        "      \n",
        "      self.X_copy[col] = np.where((self.X_copy[col] != 1 ) & (\n",
        "          self.X_copy[col] !=2 ) & (self.X_copy[col] !=3 ), 0, self.X_copy[col])\n",
        "\n",
        "\n",
        "    return self.X_copy\n",
        "\n",
        "\n",
        "  def fit_transform(self, X, y=None):\n",
        "\n",
        "    self = self.fit(X)\n",
        "\n",
        "    self.X_copy = self.transform(X)\n",
        "\n",
        "\n",
        "    return self.X_copy "
      ],
      "execution_count": 70,
      "outputs": []
    },
    {
      "cell_type": "code",
      "metadata": {
        "id": "1QSN_YmayE7e",
        "colab_type": "code",
        "colab": {}
      },
      "source": [
        "ranker = Ranker(group_cols=['REGION', 'TOP_PACK'], value_col='TENURE')\n",
        "train_process_copy = train_process.copy()  \n",
        "train_process_copy = ranker.fit_transform(train_process_copy)  "
      ],
      "execution_count": 71,
      "outputs": []
    },
    {
      "cell_type": "code",
      "metadata": {
        "id": "JnuqItDT1mcS",
        "colab_type": "code",
        "colab": {
          "base_uri": "https://localhost:8080/",
          "height": 444
        },
        "outputId": "922d4764-17c5-496f-d0f1-cc422955fc51"
      },
      "source": [
        "train_process_copy "
      ],
      "execution_count": 72,
      "outputs": [
        {
          "output_type": "execute_result",
          "data": {
            "text/html": [
              "<div>\n",
              "<style scoped>\n",
              "    .dataframe tbody tr th:only-of-type {\n",
              "        vertical-align: middle;\n",
              "    }\n",
              "\n",
              "    .dataframe tbody tr th {\n",
              "        vertical-align: top;\n",
              "    }\n",
              "\n",
              "    .dataframe thead th {\n",
              "        text-align: right;\n",
              "    }\n",
              "</style>\n",
              "<table border=\"1\" class=\"dataframe\">\n",
              "  <thead>\n",
              "    <tr style=\"text-align: right;\">\n",
              "      <th></th>\n",
              "      <th>REGION</th>\n",
              "      <th>TENURE</th>\n",
              "      <th>TOP_PACK</th>\n",
              "      <th>MONTANT</th>\n",
              "      <th>FREQUENCE_RECH</th>\n",
              "      <th>REVENUE</th>\n",
              "      <th>ARPU_SEGMENT</th>\n",
              "      <th>FREQUENCE</th>\n",
              "      <th>DATA_VOLUME</th>\n",
              "      <th>ON_NET</th>\n",
              "      <th>ORANGE</th>\n",
              "      <th>TIGO</th>\n",
              "      <th>ZONE1</th>\n",
              "      <th>ZONE2</th>\n",
              "      <th>REGULARITY</th>\n",
              "      <th>FREQ_TOP_PACK</th>\n",
              "    </tr>\n",
              "  </thead>\n",
              "  <tbody>\n",
              "    <tr>\n",
              "      <th>0</th>\n",
              "      <td>3</td>\n",
              "      <td>7</td>\n",
              "      <td>3</td>\n",
              "      <td>5078.89</td>\n",
              "      <td>10.9059</td>\n",
              "      <td>5059.16</td>\n",
              "      <td>1686.36</td>\n",
              "      <td>13.3444</td>\n",
              "      <td>2477.64</td>\n",
              "      <td>184.792</td>\n",
              "      <td>77.9462</td>\n",
              "      <td>17.2977</td>\n",
              "      <td>4.09905</td>\n",
              "      <td>4.61822</td>\n",
              "      <td>1</td>\n",
              "      <td>8.49034</td>\n",
              "    </tr>\n",
              "    <tr>\n",
              "      <th>1</th>\n",
              "      <td>2</td>\n",
              "      <td>7</td>\n",
              "      <td>0</td>\n",
              "      <td>11650</td>\n",
              "      <td>30</td>\n",
              "      <td>11682</td>\n",
              "      <td>3894</td>\n",
              "      <td>32</td>\n",
              "      <td>7119</td>\n",
              "      <td>23</td>\n",
              "      <td>394</td>\n",
              "      <td>54</td>\n",
              "      <td>0</td>\n",
              "      <td>4.61822</td>\n",
              "      <td>60</td>\n",
              "      <td>18</td>\n",
              "    </tr>\n",
              "    <tr>\n",
              "      <th>2</th>\n",
              "      <td>1</td>\n",
              "      <td>7</td>\n",
              "      <td>3</td>\n",
              "      <td>1000</td>\n",
              "      <td>2</td>\n",
              "      <td>1000</td>\n",
              "      <td>333</td>\n",
              "      <td>2</td>\n",
              "      <td>2477.64</td>\n",
              "      <td>7</td>\n",
              "      <td>45</td>\n",
              "      <td>17.2977</td>\n",
              "      <td>4.09905</td>\n",
              "      <td>4.61822</td>\n",
              "      <td>22</td>\n",
              "      <td>2</td>\n",
              "    </tr>\n",
              "    <tr>\n",
              "      <th>3</th>\n",
              "      <td>0</td>\n",
              "      <td>7</td>\n",
              "      <td>0</td>\n",
              "      <td>500</td>\n",
              "      <td>1</td>\n",
              "      <td>480</td>\n",
              "      <td>160</td>\n",
              "      <td>4</td>\n",
              "      <td>1875</td>\n",
              "      <td>14</td>\n",
              "      <td>1</td>\n",
              "      <td>17.2977</td>\n",
              "      <td>4.09905</td>\n",
              "      <td>4.61822</td>\n",
              "      <td>20</td>\n",
              "      <td>2</td>\n",
              "    </tr>\n",
              "    <tr>\n",
              "      <th>4</th>\n",
              "      <td>3</td>\n",
              "      <td>7</td>\n",
              "      <td>2</td>\n",
              "      <td>11150</td>\n",
              "      <td>34</td>\n",
              "      <td>11750</td>\n",
              "      <td>3917</td>\n",
              "      <td>40</td>\n",
              "      <td>789</td>\n",
              "      <td>125</td>\n",
              "      <td>303</td>\n",
              "      <td>29</td>\n",
              "      <td>0</td>\n",
              "      <td>4.61822</td>\n",
              "      <td>46</td>\n",
              "      <td>31</td>\n",
              "    </tr>\n",
              "    <tr>\n",
              "      <th>...</th>\n",
              "      <td>...</td>\n",
              "      <td>...</td>\n",
              "      <td>...</td>\n",
              "      <td>...</td>\n",
              "      <td>...</td>\n",
              "      <td>...</td>\n",
              "      <td>...</td>\n",
              "      <td>...</td>\n",
              "      <td>...</td>\n",
              "      <td>...</td>\n",
              "      <td>...</td>\n",
              "      <td>...</td>\n",
              "      <td>...</td>\n",
              "      <td>...</td>\n",
              "      <td>...</td>\n",
              "      <td>...</td>\n",
              "    </tr>\n",
              "    <tr>\n",
              "      <th>193859</th>\n",
              "      <td>0</td>\n",
              "      <td>7</td>\n",
              "      <td>3</td>\n",
              "      <td>500</td>\n",
              "      <td>1</td>\n",
              "      <td>500</td>\n",
              "      <td>167</td>\n",
              "      <td>1</td>\n",
              "      <td>0</td>\n",
              "      <td>9</td>\n",
              "      <td>8</td>\n",
              "      <td>15</td>\n",
              "      <td>4.09905</td>\n",
              "      <td>4.61822</td>\n",
              "      <td>20</td>\n",
              "      <td>1</td>\n",
              "    </tr>\n",
              "    <tr>\n",
              "      <th>193860</th>\n",
              "      <td>3</td>\n",
              "      <td>7</td>\n",
              "      <td>0</td>\n",
              "      <td>1100</td>\n",
              "      <td>3</td>\n",
              "      <td>1098</td>\n",
              "      <td>366</td>\n",
              "      <td>3</td>\n",
              "      <td>216</td>\n",
              "      <td>27</td>\n",
              "      <td>1</td>\n",
              "      <td>2</td>\n",
              "      <td>4.09905</td>\n",
              "      <td>4.61822</td>\n",
              "      <td>20</td>\n",
              "      <td>2</td>\n",
              "    </tr>\n",
              "    <tr>\n",
              "      <th>193861</th>\n",
              "      <td>2</td>\n",
              "      <td>7</td>\n",
              "      <td>0</td>\n",
              "      <td>1000</td>\n",
              "      <td>2</td>\n",
              "      <td>1000</td>\n",
              "      <td>333</td>\n",
              "      <td>2</td>\n",
              "      <td>2477.64</td>\n",
              "      <td>34</td>\n",
              "      <td>43</td>\n",
              "      <td>2</td>\n",
              "      <td>4.09905</td>\n",
              "      <td>4.61822</td>\n",
              "      <td>13</td>\n",
              "      <td>1</td>\n",
              "    </tr>\n",
              "    <tr>\n",
              "      <th>193862</th>\n",
              "      <td>3</td>\n",
              "      <td>7</td>\n",
              "      <td>3</td>\n",
              "      <td>5078.89</td>\n",
              "      <td>10.9059</td>\n",
              "      <td>5059.16</td>\n",
              "      <td>1686.36</td>\n",
              "      <td>13.3444</td>\n",
              "      <td>2477.64</td>\n",
              "      <td>184.792</td>\n",
              "      <td>77.9462</td>\n",
              "      <td>17.2977</td>\n",
              "      <td>4.09905</td>\n",
              "      <td>4.61822</td>\n",
              "      <td>2</td>\n",
              "      <td>8.49034</td>\n",
              "    </tr>\n",
              "    <tr>\n",
              "      <th>193863</th>\n",
              "      <td>3</td>\n",
              "      <td>7</td>\n",
              "      <td>1</td>\n",
              "      <td>7200</td>\n",
              "      <td>16</td>\n",
              "      <td>7190</td>\n",
              "      <td>2397</td>\n",
              "      <td>18</td>\n",
              "      <td>5284</td>\n",
              "      <td>7</td>\n",
              "      <td>83</td>\n",
              "      <td>17.2977</td>\n",
              "      <td>4.09905</td>\n",
              "      <td>0</td>\n",
              "      <td>60</td>\n",
              "      <td>8</td>\n",
              "    </tr>\n",
              "  </tbody>\n",
              "</table>\n",
              "<p>193864 rows × 16 columns</p>\n",
              "</div>"
            ],
            "text/plain": [
              "       REGION  TENURE TOP_PACK  ...    ZONE2 REGULARITY FREQ_TOP_PACK\n",
              "0           3       7        3  ...  4.61822          1       8.49034\n",
              "1           2       7        0  ...  4.61822         60            18\n",
              "2           1       7        3  ...  4.61822         22             2\n",
              "3           0       7        0  ...  4.61822         20             2\n",
              "4           3       7        2  ...  4.61822         46            31\n",
              "...       ...     ...      ...  ...      ...        ...           ...\n",
              "193859      0       7        3  ...  4.61822         20             1\n",
              "193860      3       7        0  ...  4.61822         20             2\n",
              "193861      2       7        0  ...  4.61822         13             1\n",
              "193862      3       7        3  ...  4.61822          2       8.49034\n",
              "193863      3       7        1  ...        0         60             8\n",
              "\n",
              "[193864 rows x 16 columns]"
            ]
          },
          "metadata": {
            "tags": []
          },
          "execution_count": 72
        }
      ]
    },
    {
      "cell_type": "markdown",
      "metadata": {
        "id": "Vp0RiqCnUZxO",
        "colab_type": "text"
      },
      "source": [
        "#### save cleaned data for modelling\n"
      ]
    },
    {
      "cell_type": "code",
      "metadata": {
        "id": "QPLv28Y2UdqY",
        "colab_type": "code",
        "colab": {}
      },
      "source": [
        "train_process_copy.to_csv('/content/drive/My Drive/Zindi-Competionts/customer-churn-prediction/datasets/clean_train.csv',index=False)"
      ],
      "execution_count": 73,
      "outputs": []
    },
    {
      "cell_type": "code",
      "metadata": {
        "id": "2HYWMYIovqJG",
        "colab_type": "code",
        "colab": {}
      },
      "source": [
        "train_process_copy  = pd.read_csv('/content/drive/My Drive/Zindi-Competionts/customer-churn-prediction/datasets/clean_train.csv') "
      ],
      "execution_count": 74,
      "outputs": []
    },
    {
      "cell_type": "markdown",
      "metadata": {
        "id": "tme0rijTQEks",
        "colab_type": "text"
      },
      "source": [
        "--- "
      ]
    },
    {
      "cell_type": "code",
      "metadata": {
        "id": "GGC8cEUkpSt2",
        "colab_type": "code",
        "colab": {
          "base_uri": "https://localhost:8080/",
          "height": 444
        },
        "outputId": "d0d597b2-bdf8-4098-9b82-56202aca0dea"
      },
      "source": [
        "train_process_copy "
      ],
      "execution_count": 75,
      "outputs": [
        {
          "output_type": "execute_result",
          "data": {
            "text/html": [
              "<div>\n",
              "<style scoped>\n",
              "    .dataframe tbody tr th:only-of-type {\n",
              "        vertical-align: middle;\n",
              "    }\n",
              "\n",
              "    .dataframe tbody tr th {\n",
              "        vertical-align: top;\n",
              "    }\n",
              "\n",
              "    .dataframe thead th {\n",
              "        text-align: right;\n",
              "    }\n",
              "</style>\n",
              "<table border=\"1\" class=\"dataframe\">\n",
              "  <thead>\n",
              "    <tr style=\"text-align: right;\">\n",
              "      <th></th>\n",
              "      <th>REGION</th>\n",
              "      <th>TENURE</th>\n",
              "      <th>TOP_PACK</th>\n",
              "      <th>MONTANT</th>\n",
              "      <th>FREQUENCE_RECH</th>\n",
              "      <th>REVENUE</th>\n",
              "      <th>ARPU_SEGMENT</th>\n",
              "      <th>FREQUENCE</th>\n",
              "      <th>DATA_VOLUME</th>\n",
              "      <th>ON_NET</th>\n",
              "      <th>ORANGE</th>\n",
              "      <th>TIGO</th>\n",
              "      <th>ZONE1</th>\n",
              "      <th>ZONE2</th>\n",
              "      <th>REGULARITY</th>\n",
              "      <th>FREQ_TOP_PACK</th>\n",
              "    </tr>\n",
              "  </thead>\n",
              "  <tbody>\n",
              "    <tr>\n",
              "      <th>0</th>\n",
              "      <td>3</td>\n",
              "      <td>7</td>\n",
              "      <td>3</td>\n",
              "      <td>5078.894264</td>\n",
              "      <td>10.905921</td>\n",
              "      <td>5059.164349</td>\n",
              "      <td>1686.364679</td>\n",
              "      <td>13.34441</td>\n",
              "      <td>2477.643433</td>\n",
              "      <td>184.792221</td>\n",
              "      <td>77.946193</td>\n",
              "      <td>17.297697</td>\n",
              "      <td>4.099048</td>\n",
              "      <td>4.618218</td>\n",
              "      <td>1.0</td>\n",
              "      <td>8.490336</td>\n",
              "    </tr>\n",
              "    <tr>\n",
              "      <th>1</th>\n",
              "      <td>2</td>\n",
              "      <td>7</td>\n",
              "      <td>0</td>\n",
              "      <td>11650.000000</td>\n",
              "      <td>30.000000</td>\n",
              "      <td>11682.000000</td>\n",
              "      <td>3894.000000</td>\n",
              "      <td>32.00000</td>\n",
              "      <td>7119.000000</td>\n",
              "      <td>23.000000</td>\n",
              "      <td>394.000000</td>\n",
              "      <td>54.000000</td>\n",
              "      <td>0.000000</td>\n",
              "      <td>4.618218</td>\n",
              "      <td>60.0</td>\n",
              "      <td>18.000000</td>\n",
              "    </tr>\n",
              "    <tr>\n",
              "      <th>2</th>\n",
              "      <td>1</td>\n",
              "      <td>7</td>\n",
              "      <td>3</td>\n",
              "      <td>1000.000000</td>\n",
              "      <td>2.000000</td>\n",
              "      <td>1000.000000</td>\n",
              "      <td>333.000000</td>\n",
              "      <td>2.00000</td>\n",
              "      <td>2477.643433</td>\n",
              "      <td>7.000000</td>\n",
              "      <td>45.000000</td>\n",
              "      <td>17.297697</td>\n",
              "      <td>4.099048</td>\n",
              "      <td>4.618218</td>\n",
              "      <td>22.0</td>\n",
              "      <td>2.000000</td>\n",
              "    </tr>\n",
              "    <tr>\n",
              "      <th>3</th>\n",
              "      <td>0</td>\n",
              "      <td>7</td>\n",
              "      <td>0</td>\n",
              "      <td>500.000000</td>\n",
              "      <td>1.000000</td>\n",
              "      <td>480.000000</td>\n",
              "      <td>160.000000</td>\n",
              "      <td>4.00000</td>\n",
              "      <td>1875.000000</td>\n",
              "      <td>14.000000</td>\n",
              "      <td>1.000000</td>\n",
              "      <td>17.297697</td>\n",
              "      <td>4.099048</td>\n",
              "      <td>4.618218</td>\n",
              "      <td>20.0</td>\n",
              "      <td>2.000000</td>\n",
              "    </tr>\n",
              "    <tr>\n",
              "      <th>4</th>\n",
              "      <td>3</td>\n",
              "      <td>7</td>\n",
              "      <td>2</td>\n",
              "      <td>11150.000000</td>\n",
              "      <td>34.000000</td>\n",
              "      <td>11750.000000</td>\n",
              "      <td>3917.000000</td>\n",
              "      <td>40.00000</td>\n",
              "      <td>789.000000</td>\n",
              "      <td>125.000000</td>\n",
              "      <td>303.000000</td>\n",
              "      <td>29.000000</td>\n",
              "      <td>0.000000</td>\n",
              "      <td>4.618218</td>\n",
              "      <td>46.0</td>\n",
              "      <td>31.000000</td>\n",
              "    </tr>\n",
              "    <tr>\n",
              "      <th>...</th>\n",
              "      <td>...</td>\n",
              "      <td>...</td>\n",
              "      <td>...</td>\n",
              "      <td>...</td>\n",
              "      <td>...</td>\n",
              "      <td>...</td>\n",
              "      <td>...</td>\n",
              "      <td>...</td>\n",
              "      <td>...</td>\n",
              "      <td>...</td>\n",
              "      <td>...</td>\n",
              "      <td>...</td>\n",
              "      <td>...</td>\n",
              "      <td>...</td>\n",
              "      <td>...</td>\n",
              "      <td>...</td>\n",
              "    </tr>\n",
              "    <tr>\n",
              "      <th>193859</th>\n",
              "      <td>0</td>\n",
              "      <td>7</td>\n",
              "      <td>3</td>\n",
              "      <td>500.000000</td>\n",
              "      <td>1.000000</td>\n",
              "      <td>500.000000</td>\n",
              "      <td>167.000000</td>\n",
              "      <td>1.00000</td>\n",
              "      <td>0.000000</td>\n",
              "      <td>9.000000</td>\n",
              "      <td>8.000000</td>\n",
              "      <td>15.000000</td>\n",
              "      <td>4.099048</td>\n",
              "      <td>4.618218</td>\n",
              "      <td>20.0</td>\n",
              "      <td>1.000000</td>\n",
              "    </tr>\n",
              "    <tr>\n",
              "      <th>193860</th>\n",
              "      <td>3</td>\n",
              "      <td>7</td>\n",
              "      <td>0</td>\n",
              "      <td>1100.000000</td>\n",
              "      <td>3.000000</td>\n",
              "      <td>1098.000000</td>\n",
              "      <td>366.000000</td>\n",
              "      <td>3.00000</td>\n",
              "      <td>216.000000</td>\n",
              "      <td>27.000000</td>\n",
              "      <td>1.000000</td>\n",
              "      <td>2.000000</td>\n",
              "      <td>4.099048</td>\n",
              "      <td>4.618218</td>\n",
              "      <td>20.0</td>\n",
              "      <td>2.000000</td>\n",
              "    </tr>\n",
              "    <tr>\n",
              "      <th>193861</th>\n",
              "      <td>2</td>\n",
              "      <td>7</td>\n",
              "      <td>0</td>\n",
              "      <td>1000.000000</td>\n",
              "      <td>2.000000</td>\n",
              "      <td>1000.000000</td>\n",
              "      <td>333.000000</td>\n",
              "      <td>2.00000</td>\n",
              "      <td>2477.643433</td>\n",
              "      <td>34.000000</td>\n",
              "      <td>43.000000</td>\n",
              "      <td>2.000000</td>\n",
              "      <td>4.099048</td>\n",
              "      <td>4.618218</td>\n",
              "      <td>13.0</td>\n",
              "      <td>1.000000</td>\n",
              "    </tr>\n",
              "    <tr>\n",
              "      <th>193862</th>\n",
              "      <td>3</td>\n",
              "      <td>7</td>\n",
              "      <td>3</td>\n",
              "      <td>5078.894264</td>\n",
              "      <td>10.905921</td>\n",
              "      <td>5059.164349</td>\n",
              "      <td>1686.364679</td>\n",
              "      <td>13.34441</td>\n",
              "      <td>2477.643433</td>\n",
              "      <td>184.792221</td>\n",
              "      <td>77.946193</td>\n",
              "      <td>17.297697</td>\n",
              "      <td>4.099048</td>\n",
              "      <td>4.618218</td>\n",
              "      <td>2.0</td>\n",
              "      <td>8.490336</td>\n",
              "    </tr>\n",
              "    <tr>\n",
              "      <th>193863</th>\n",
              "      <td>3</td>\n",
              "      <td>7</td>\n",
              "      <td>1</td>\n",
              "      <td>7200.000000</td>\n",
              "      <td>16.000000</td>\n",
              "      <td>7190.000000</td>\n",
              "      <td>2397.000000</td>\n",
              "      <td>18.00000</td>\n",
              "      <td>5284.000000</td>\n",
              "      <td>7.000000</td>\n",
              "      <td>83.000000</td>\n",
              "      <td>17.297697</td>\n",
              "      <td>4.099048</td>\n",
              "      <td>0.000000</td>\n",
              "      <td>60.0</td>\n",
              "      <td>8.000000</td>\n",
              "    </tr>\n",
              "  </tbody>\n",
              "</table>\n",
              "<p>193864 rows × 16 columns</p>\n",
              "</div>"
            ],
            "text/plain": [
              "        REGION  TENURE  TOP_PACK  ...     ZONE2  REGULARITY  FREQ_TOP_PACK\n",
              "0            3       7         3  ...  4.618218         1.0       8.490336\n",
              "1            2       7         0  ...  4.618218        60.0      18.000000\n",
              "2            1       7         3  ...  4.618218        22.0       2.000000\n",
              "3            0       7         0  ...  4.618218        20.0       2.000000\n",
              "4            3       7         2  ...  4.618218        46.0      31.000000\n",
              "...        ...     ...       ...  ...       ...         ...            ...\n",
              "193859       0       7         3  ...  4.618218        20.0       1.000000\n",
              "193860       3       7         0  ...  4.618218        20.0       2.000000\n",
              "193861       2       7         0  ...  4.618218        13.0       1.000000\n",
              "193862       3       7         3  ...  4.618218         2.0       8.490336\n",
              "193863       3       7         1  ...  0.000000        60.0       8.000000\n",
              "\n",
              "[193864 rows x 16 columns]"
            ]
          },
          "metadata": {
            "tags": []
          },
          "execution_count": 75
        }
      ]
    },
    {
      "cell_type": "markdown",
      "metadata": {
        "id": "fvZKJ8w8_LOj",
        "colab_type": "text"
      },
      "source": [
        " - Balance Class Imbalance\n",
        " - Feature Union (K-best Selector and PCA components)"
      ]
    },
    {
      "cell_type": "code",
      "metadata": {
        "id": "aJw4rd2vmoam",
        "colab_type": "code",
        "colab": {}
      },
      "source": [
        ""
      ],
      "execution_count": 75,
      "outputs": []
    },
    {
      "cell_type": "code",
      "metadata": {
        "id": "cjUoGOW_XieJ",
        "colab_type": "code",
        "colab": {}
      },
      "source": [
        "# scale data with standarscaler\n",
        "scaler = RobustScaler() "
      ],
      "execution_count": 76,
      "outputs": []
    },
    {
      "cell_type": "code",
      "metadata": {
        "id": "lbHnzc67Xz85",
        "colab_type": "code",
        "colab": {
          "base_uri": "https://localhost:8080/",
          "height": 243
        },
        "outputId": "fffbd6c2-628c-493e-df99-d72dc55361b9"
      },
      "source": [
        "scaled_train = scaler.fit_transform(train_process_copy)\n",
        "scaled_train "
      ],
      "execution_count": 77,
      "outputs": [
        {
          "output_type": "execute_result",
          "data": {
            "text/plain": [
              "array([[ 0.        ,  0.        ,  0.        , ...,  0.        ,\n",
              "        -0.52272727,  0.        ],\n",
              "       [-0.5       ,  0.        , -1.        , ...,  0.        ,\n",
              "         0.81818182,  2.117807  ],\n",
              "       [-1.        ,  0.        ,  0.        , ...,  0.        ,\n",
              "        -0.04545455, -1.445401  ],\n",
              "       ...,\n",
              "       [-0.5       ,  0.        , -1.        , ...,  0.        ,\n",
              "        -0.25      , -1.6681015 ],\n",
              "       [ 0.        ,  0.        ,  0.        , ...,  0.        ,\n",
              "        -0.5       ,  0.        ],\n",
              "       [ 0.        ,  0.        , -0.66666667, ..., -4.61821769,\n",
              "         0.81818182, -0.109198  ]])"
            ]
          },
          "metadata": {
            "tags": []
          },
          "execution_count": 77
        }
      ]
    },
    {
      "cell_type": "code",
      "metadata": {
        "id": "UI7Hxf1aIEDE",
        "colab_type": "code",
        "colab": {
          "base_uri": "https://localhost:8080/",
          "height": 34
        },
        "outputId": "8f6d4022-8bca-493e-92ba-11cbf954c87e"
      },
      "source": [
        "scaled_train.shape"
      ],
      "execution_count": 78,
      "outputs": [
        {
          "output_type": "execute_result",
          "data": {
            "text/plain": [
              "(193864, 16)"
            ]
          },
          "metadata": {
            "tags": []
          },
          "execution_count": 78
        }
      ]
    },
    {
      "cell_type": "code",
      "metadata": {
        "id": "C8sB4ay__KJw",
        "colab_type": "code",
        "colab": {}
      },
      "source": [
        "smote = SMOTE(random_state=0) "
      ],
      "execution_count": 79,
      "outputs": []
    },
    {
      "cell_type": "code",
      "metadata": {
        "id": "K3z3xPWM_KGw",
        "colab_type": "code",
        "colab": {}
      },
      "source": [
        "X, y = smote.fit_resample(scaled_train, train_label)"
      ],
      "execution_count": 80,
      "outputs": []
    },
    {
      "cell_type": "code",
      "metadata": {
        "id": "PShbz9zT_KDd",
        "colab_type": "code",
        "colab": {
          "base_uri": "https://localhost:8080/",
          "height": 243
        },
        "outputId": "6320050a-baa1-4d7a-e9bb-6592fa53c4ed"
      },
      "source": [
        "X "
      ],
      "execution_count": 81,
      "outputs": [
        {
          "output_type": "execute_result",
          "data": {
            "text/plain": [
              "array([[ 0.        ,  0.        ,  0.        , ...,  0.        ,\n",
              "        -0.52272727,  0.        ],\n",
              "       [-0.5       ,  0.        , -1.        , ...,  0.        ,\n",
              "         0.81818182,  2.117807  ],\n",
              "       [-1.        ,  0.        ,  0.        , ...,  0.        ,\n",
              "        -0.04545455, -1.445401  ],\n",
              "       ...,\n",
              "       [ 0.        ,  0.        ,  0.        , ...,  0.        ,\n",
              "        -0.31818182,  0.        ],\n",
              "       [ 0.        ,  0.        ,  0.        , ...,  0.        ,\n",
              "        -0.52272727,  0.        ],\n",
              "       [ 0.        ,  0.        ,  0.        , ...,  0.        ,\n",
              "        -0.5       ,  0.        ]])"
            ]
          },
          "metadata": {
            "tags": []
          },
          "execution_count": 81
        }
      ]
    },
    {
      "cell_type": "code",
      "metadata": {
        "id": "AYowB5lWYnHY",
        "colab_type": "code",
        "colab": {
          "base_uri": "https://localhost:8080/",
          "height": 69
        },
        "outputId": "c79851dc-06ef-4afd-ce9e-a00a77da7a1d"
      },
      "source": [
        "pd.Series(y).value_counts() "
      ],
      "execution_count": 82,
      "outputs": [
        {
          "output_type": "execute_result",
          "data": {
            "text/plain": [
              "1    157332\n",
              "0    157332\n",
              "dtype: int64"
            ]
          },
          "metadata": {
            "tags": []
          },
          "execution_count": 82
        }
      ]
    },
    {
      "cell_type": "code",
      "metadata": {
        "id": "P9PtAlCJ_KAA",
        "colab_type": "code",
        "colab": {
          "base_uri": "https://localhost:8080/",
          "height": 444
        },
        "outputId": "ea19e656-839c-4ca0-ef07-0dad91e9df99"
      },
      "source": [
        "corr = pd.DataFrame(data=X, columns=train_process_copy.columns.to_list()).join(pd.DataFrame(y, columns=['label']))\n",
        "corr "
      ],
      "execution_count": 83,
      "outputs": [
        {
          "output_type": "execute_result",
          "data": {
            "text/html": [
              "<div>\n",
              "<style scoped>\n",
              "    .dataframe tbody tr th:only-of-type {\n",
              "        vertical-align: middle;\n",
              "    }\n",
              "\n",
              "    .dataframe tbody tr th {\n",
              "        vertical-align: top;\n",
              "    }\n",
              "\n",
              "    .dataframe thead th {\n",
              "        text-align: right;\n",
              "    }\n",
              "</style>\n",
              "<table border=\"1\" class=\"dataframe\">\n",
              "  <thead>\n",
              "    <tr style=\"text-align: right;\">\n",
              "      <th></th>\n",
              "      <th>REGION</th>\n",
              "      <th>TENURE</th>\n",
              "      <th>TOP_PACK</th>\n",
              "      <th>MONTANT</th>\n",
              "      <th>FREQUENCE_RECH</th>\n",
              "      <th>REVENUE</th>\n",
              "      <th>ARPU_SEGMENT</th>\n",
              "      <th>FREQUENCE</th>\n",
              "      <th>DATA_VOLUME</th>\n",
              "      <th>ON_NET</th>\n",
              "      <th>ORANGE</th>\n",
              "      <th>TIGO</th>\n",
              "      <th>ZONE1</th>\n",
              "      <th>ZONE2</th>\n",
              "      <th>REGULARITY</th>\n",
              "      <th>FREQ_TOP_PACK</th>\n",
              "      <th>label</th>\n",
              "    </tr>\n",
              "  </thead>\n",
              "  <tbody>\n",
              "    <tr>\n",
              "      <th>0</th>\n",
              "      <td>0.0</td>\n",
              "      <td>0.0</td>\n",
              "      <td>0.000000</td>\n",
              "      <td>0.000000</td>\n",
              "      <td>0.000000</td>\n",
              "      <td>0.000000</td>\n",
              "      <td>0.000000</td>\n",
              "      <td>0.000000</td>\n",
              "      <td>0.000000</td>\n",
              "      <td>0.000000</td>\n",
              "      <td>0.000000</td>\n",
              "      <td>0.000000</td>\n",
              "      <td>0.000000</td>\n",
              "      <td>0.0</td>\n",
              "      <td>-0.522727</td>\n",
              "      <td>0.000000</td>\n",
              "      <td>1</td>\n",
              "    </tr>\n",
              "    <tr>\n",
              "      <th>1</th>\n",
              "      <td>-0.5</td>\n",
              "      <td>0.0</td>\n",
              "      <td>-1.000000</td>\n",
              "      <td>2.134242</td>\n",
              "      <td>2.764885</td>\n",
              "      <td>2.097052</td>\n",
              "      <td>2.097785</td>\n",
              "      <td>2.540107</td>\n",
              "      <td>2.083528</td>\n",
              "      <td>-0.936340</td>\n",
              "      <td>5.454264</td>\n",
              "      <td>5.827893</td>\n",
              "      <td>-4.099048</td>\n",
              "      <td>0.0</td>\n",
              "      <td>0.818182</td>\n",
              "      <td>2.117807</td>\n",
              "      <td>0</td>\n",
              "    </tr>\n",
              "    <tr>\n",
              "      <th>2</th>\n",
              "      <td>-1.0</td>\n",
              "      <td>0.0</td>\n",
              "      <td>0.000000</td>\n",
              "      <td>-1.324792</td>\n",
              "      <td>-1.289607</td>\n",
              "      <td>-1.285292</td>\n",
              "      <td>-1.286023</td>\n",
              "      <td>-1.544632</td>\n",
              "      <td>0.000000</td>\n",
              "      <td>-1.028936</td>\n",
              "      <td>-0.568565</td>\n",
              "      <td>0.000000</td>\n",
              "      <td>0.000000</td>\n",
              "      <td>0.0</td>\n",
              "      <td>-0.045455</td>\n",
              "      <td>-1.445401</td>\n",
              "      <td>0</td>\n",
              "    </tr>\n",
              "    <tr>\n",
              "      <th>3</th>\n",
              "      <td>-1.5</td>\n",
              "      <td>0.0</td>\n",
              "      <td>-1.000000</td>\n",
              "      <td>-1.487188</td>\n",
              "      <td>-1.434410</td>\n",
              "      <td>-1.449945</td>\n",
              "      <td>-1.450414</td>\n",
              "      <td>-1.272316</td>\n",
              "      <td>-0.270530</td>\n",
              "      <td>-0.988425</td>\n",
              "      <td>-1.327890</td>\n",
              "      <td>0.000000</td>\n",
              "      <td>0.000000</td>\n",
              "      <td>0.0</td>\n",
              "      <td>-0.090909</td>\n",
              "      <td>-1.445401</td>\n",
              "      <td>0</td>\n",
              "    </tr>\n",
              "    <tr>\n",
              "      <th>4</th>\n",
              "      <td>0.0</td>\n",
              "      <td>0.0</td>\n",
              "      <td>-0.333333</td>\n",
              "      <td>1.971846</td>\n",
              "      <td>3.344099</td>\n",
              "      <td>2.118584</td>\n",
              "      <td>2.119641</td>\n",
              "      <td>3.629371</td>\n",
              "      <td>-0.758040</td>\n",
              "      <td>-0.346035</td>\n",
              "      <td>3.883841</td>\n",
              "      <td>1.858188</td>\n",
              "      <td>-4.099048</td>\n",
              "      <td>0.0</td>\n",
              "      <td>0.500000</td>\n",
              "      <td>5.012914</td>\n",
              "      <td>0</td>\n",
              "    </tr>\n",
              "    <tr>\n",
              "      <th>...</th>\n",
              "      <td>...</td>\n",
              "      <td>...</td>\n",
              "      <td>...</td>\n",
              "      <td>...</td>\n",
              "      <td>...</td>\n",
              "      <td>...</td>\n",
              "      <td>...</td>\n",
              "      <td>...</td>\n",
              "      <td>...</td>\n",
              "      <td>...</td>\n",
              "      <td>...</td>\n",
              "      <td>...</td>\n",
              "      <td>...</td>\n",
              "      <td>...</td>\n",
              "      <td>...</td>\n",
              "      <td>...</td>\n",
              "      <td>...</td>\n",
              "    </tr>\n",
              "    <tr>\n",
              "      <th>314659</th>\n",
              "      <td>0.0</td>\n",
              "      <td>0.0</td>\n",
              "      <td>0.000000</td>\n",
              "      <td>0.000000</td>\n",
              "      <td>0.000000</td>\n",
              "      <td>0.000000</td>\n",
              "      <td>0.000000</td>\n",
              "      <td>0.000000</td>\n",
              "      <td>0.000000</td>\n",
              "      <td>-0.342214</td>\n",
              "      <td>0.410053</td>\n",
              "      <td>-1.041696</td>\n",
              "      <td>0.000000</td>\n",
              "      <td>0.0</td>\n",
              "      <td>0.545455</td>\n",
              "      <td>0.000000</td>\n",
              "      <td>1</td>\n",
              "    </tr>\n",
              "    <tr>\n",
              "      <th>314660</th>\n",
              "      <td>0.0</td>\n",
              "      <td>-2.0</td>\n",
              "      <td>0.000000</td>\n",
              "      <td>0.000000</td>\n",
              "      <td>0.000000</td>\n",
              "      <td>0.000000</td>\n",
              "      <td>0.000000</td>\n",
              "      <td>0.000000</td>\n",
              "      <td>0.000000</td>\n",
              "      <td>0.000000</td>\n",
              "      <td>0.000000</td>\n",
              "      <td>0.000000</td>\n",
              "      <td>0.000000</td>\n",
              "      <td>0.0</td>\n",
              "      <td>-0.477273</td>\n",
              "      <td>0.000000</td>\n",
              "      <td>1</td>\n",
              "    </tr>\n",
              "    <tr>\n",
              "      <th>314661</th>\n",
              "      <td>0.0</td>\n",
              "      <td>0.0</td>\n",
              "      <td>0.000000</td>\n",
              "      <td>0.000000</td>\n",
              "      <td>0.000000</td>\n",
              "      <td>0.000000</td>\n",
              "      <td>0.000000</td>\n",
              "      <td>0.000000</td>\n",
              "      <td>0.000000</td>\n",
              "      <td>0.000000</td>\n",
              "      <td>0.000000</td>\n",
              "      <td>0.000000</td>\n",
              "      <td>0.000000</td>\n",
              "      <td>0.0</td>\n",
              "      <td>-0.318182</td>\n",
              "      <td>0.000000</td>\n",
              "      <td>1</td>\n",
              "    </tr>\n",
              "    <tr>\n",
              "      <th>314662</th>\n",
              "      <td>0.0</td>\n",
              "      <td>0.0</td>\n",
              "      <td>0.000000</td>\n",
              "      <td>0.000000</td>\n",
              "      <td>0.000000</td>\n",
              "      <td>0.000000</td>\n",
              "      <td>0.000000</td>\n",
              "      <td>0.000000</td>\n",
              "      <td>0.000000</td>\n",
              "      <td>0.000000</td>\n",
              "      <td>0.000000</td>\n",
              "      <td>0.000000</td>\n",
              "      <td>0.000000</td>\n",
              "      <td>0.0</td>\n",
              "      <td>-0.522727</td>\n",
              "      <td>0.000000</td>\n",
              "      <td>1</td>\n",
              "    </tr>\n",
              "    <tr>\n",
              "      <th>314663</th>\n",
              "      <td>0.0</td>\n",
              "      <td>0.0</td>\n",
              "      <td>0.000000</td>\n",
              "      <td>0.000000</td>\n",
              "      <td>0.000000</td>\n",
              "      <td>0.000000</td>\n",
              "      <td>0.000000</td>\n",
              "      <td>0.000000</td>\n",
              "      <td>0.000000</td>\n",
              "      <td>0.000000</td>\n",
              "      <td>0.000000</td>\n",
              "      <td>0.000000</td>\n",
              "      <td>0.000000</td>\n",
              "      <td>0.0</td>\n",
              "      <td>-0.500000</td>\n",
              "      <td>0.000000</td>\n",
              "      <td>1</td>\n",
              "    </tr>\n",
              "  </tbody>\n",
              "</table>\n",
              "<p>314664 rows × 17 columns</p>\n",
              "</div>"
            ],
            "text/plain": [
              "        REGION  TENURE  TOP_PACK  ...  REGULARITY  FREQ_TOP_PACK  label\n",
              "0          0.0     0.0  0.000000  ...   -0.522727       0.000000      1\n",
              "1         -0.5     0.0 -1.000000  ...    0.818182       2.117807      0\n",
              "2         -1.0     0.0  0.000000  ...   -0.045455      -1.445401      0\n",
              "3         -1.5     0.0 -1.000000  ...   -0.090909      -1.445401      0\n",
              "4          0.0     0.0 -0.333333  ...    0.500000       5.012914      0\n",
              "...        ...     ...       ...  ...         ...            ...    ...\n",
              "314659     0.0     0.0  0.000000  ...    0.545455       0.000000      1\n",
              "314660     0.0    -2.0  0.000000  ...   -0.477273       0.000000      1\n",
              "314661     0.0     0.0  0.000000  ...   -0.318182       0.000000      1\n",
              "314662     0.0     0.0  0.000000  ...   -0.522727       0.000000      1\n",
              "314663     0.0     0.0  0.000000  ...   -0.500000       0.000000      1\n",
              "\n",
              "[314664 rows x 17 columns]"
            ]
          },
          "metadata": {
            "tags": []
          },
          "execution_count": 83
        }
      ]
    },
    {
      "cell_type": "code",
      "metadata": {
        "id": "958A7PiQEsic",
        "colab_type": "code",
        "colab": {
          "base_uri": "https://localhost:8080/",
          "height": 330
        },
        "outputId": "3330e6cc-776c-4f95-f594-6e31f0f123a9"
      },
      "source": [
        "corr.isna().any()"
      ],
      "execution_count": 84,
      "outputs": [
        {
          "output_type": "execute_result",
          "data": {
            "text/plain": [
              "REGION            False\n",
              "TENURE            False\n",
              "TOP_PACK          False\n",
              "MONTANT           False\n",
              "FREQUENCE_RECH    False\n",
              "REVENUE           False\n",
              "ARPU_SEGMENT      False\n",
              "FREQUENCE         False\n",
              "DATA_VOLUME       False\n",
              "ON_NET            False\n",
              "ORANGE            False\n",
              "TIGO              False\n",
              "ZONE1             False\n",
              "ZONE2             False\n",
              "REGULARITY        False\n",
              "FREQ_TOP_PACK     False\n",
              "label             False\n",
              "dtype: bool"
            ]
          },
          "metadata": {
            "tags": []
          },
          "execution_count": 84
        }
      ]
    },
    {
      "cell_type": "code",
      "metadata": {
        "id": "gHjjKqtZ_J7b",
        "colab_type": "code",
        "colab": {
          "base_uri": "https://localhost:8080/",
          "height": 603
        },
        "outputId": "bee696b7-8754-4854-c585-4a32733ecd12"
      },
      "source": [
        "# f, ax = plt.subplots(figsize=(20, 25))  \n",
        "# ax = sns.heatmap(corr, vmin=0, vmax=1) \n",
        "corr.corr()  "
      ],
      "execution_count": 85,
      "outputs": [
        {
          "output_type": "execute_result",
          "data": {
            "text/html": [
              "<div>\n",
              "<style scoped>\n",
              "    .dataframe tbody tr th:only-of-type {\n",
              "        vertical-align: middle;\n",
              "    }\n",
              "\n",
              "    .dataframe tbody tr th {\n",
              "        vertical-align: top;\n",
              "    }\n",
              "\n",
              "    .dataframe thead th {\n",
              "        text-align: right;\n",
              "    }\n",
              "</style>\n",
              "<table border=\"1\" class=\"dataframe\">\n",
              "  <thead>\n",
              "    <tr style=\"text-align: right;\">\n",
              "      <th></th>\n",
              "      <th>REGION</th>\n",
              "      <th>TENURE</th>\n",
              "      <th>TOP_PACK</th>\n",
              "      <th>MONTANT</th>\n",
              "      <th>FREQUENCE_RECH</th>\n",
              "      <th>REVENUE</th>\n",
              "      <th>ARPU_SEGMENT</th>\n",
              "      <th>FREQUENCE</th>\n",
              "      <th>DATA_VOLUME</th>\n",
              "      <th>ON_NET</th>\n",
              "      <th>ORANGE</th>\n",
              "      <th>TIGO</th>\n",
              "      <th>ZONE1</th>\n",
              "      <th>ZONE2</th>\n",
              "      <th>REGULARITY</th>\n",
              "      <th>FREQ_TOP_PACK</th>\n",
              "      <th>label</th>\n",
              "    </tr>\n",
              "  </thead>\n",
              "  <tbody>\n",
              "    <tr>\n",
              "      <th>REGION</th>\n",
              "      <td>1.000000</td>\n",
              "      <td>-0.028896</td>\n",
              "      <td>0.221631</td>\n",
              "      <td>0.007697</td>\n",
              "      <td>-0.009568</td>\n",
              "      <td>0.000921</td>\n",
              "      <td>0.000915</td>\n",
              "      <td>-0.013942</td>\n",
              "      <td>0.079697</td>\n",
              "      <td>-0.097381</td>\n",
              "      <td>-0.023932</td>\n",
              "      <td>0.004089</td>\n",
              "      <td>0.025336</td>\n",
              "      <td>0.027949</td>\n",
              "      <td>-0.398095</td>\n",
              "      <td>-0.000495</td>\n",
              "      <td>0.447510</td>\n",
              "    </tr>\n",
              "    <tr>\n",
              "      <th>TENURE</th>\n",
              "      <td>-0.028896</td>\n",
              "      <td>1.000000</td>\n",
              "      <td>-0.024192</td>\n",
              "      <td>0.013201</td>\n",
              "      <td>0.006881</td>\n",
              "      <td>0.014453</td>\n",
              "      <td>0.014454</td>\n",
              "      <td>0.007790</td>\n",
              "      <td>-0.008336</td>\n",
              "      <td>0.005708</td>\n",
              "      <td>0.018738</td>\n",
              "      <td>0.010969</td>\n",
              "      <td>0.002995</td>\n",
              "      <td>-0.000868</td>\n",
              "      <td>0.045218</td>\n",
              "      <td>0.007899</td>\n",
              "      <td>-0.051876</td>\n",
              "    </tr>\n",
              "    <tr>\n",
              "      <th>TOP_PACK</th>\n",
              "      <td>0.221631</td>\n",
              "      <td>-0.024192</td>\n",
              "      <td>1.000000</td>\n",
              "      <td>-0.071482</td>\n",
              "      <td>-0.068535</td>\n",
              "      <td>-0.090949</td>\n",
              "      <td>-0.090956</td>\n",
              "      <td>-0.094430</td>\n",
              "      <td>-0.204325</td>\n",
              "      <td>-0.091574</td>\n",
              "      <td>-0.014940</td>\n",
              "      <td>-0.001196</td>\n",
              "      <td>0.025779</td>\n",
              "      <td>-0.002752</td>\n",
              "      <td>-0.540729</td>\n",
              "      <td>0.032916</td>\n",
              "      <td>0.408662</td>\n",
              "    </tr>\n",
              "    <tr>\n",
              "      <th>MONTANT</th>\n",
              "      <td>0.007697</td>\n",
              "      <td>0.013201</td>\n",
              "      <td>-0.071482</td>\n",
              "      <td>1.000000</td>\n",
              "      <td>0.850763</td>\n",
              "      <td>0.948590</td>\n",
              "      <td>0.948581</td>\n",
              "      <td>0.802063</td>\n",
              "      <td>0.356537</td>\n",
              "      <td>0.432938</td>\n",
              "      <td>0.662312</td>\n",
              "      <td>0.390457</td>\n",
              "      <td>0.091377</td>\n",
              "      <td>0.143462</td>\n",
              "      <td>0.382596</td>\n",
              "      <td>0.732207</td>\n",
              "      <td>-0.093854</td>\n",
              "    </tr>\n",
              "    <tr>\n",
              "      <th>FREQUENCE_RECH</th>\n",
              "      <td>-0.009568</td>\n",
              "      <td>0.006881</td>\n",
              "      <td>-0.068535</td>\n",
              "      <td>0.850763</td>\n",
              "      <td>1.000000</td>\n",
              "      <td>0.812315</td>\n",
              "      <td>0.812308</td>\n",
              "      <td>0.919950</td>\n",
              "      <td>0.261849</td>\n",
              "      <td>0.435040</td>\n",
              "      <td>0.533441</td>\n",
              "      <td>0.322761</td>\n",
              "      <td>0.032487</td>\n",
              "      <td>0.084660</td>\n",
              "      <td>0.371665</td>\n",
              "      <td>0.846442</td>\n",
              "      <td>-0.097229</td>\n",
              "    </tr>\n",
              "    <tr>\n",
              "      <th>REVENUE</th>\n",
              "      <td>0.000921</td>\n",
              "      <td>0.014453</td>\n",
              "      <td>-0.090949</td>\n",
              "      <td>0.948590</td>\n",
              "      <td>0.812315</td>\n",
              "      <td>1.000000</td>\n",
              "      <td>1.000000</td>\n",
              "      <td>0.847234</td>\n",
              "      <td>0.365477</td>\n",
              "      <td>0.436299</td>\n",
              "      <td>0.666679</td>\n",
              "      <td>0.389456</td>\n",
              "      <td>0.092199</td>\n",
              "      <td>0.143927</td>\n",
              "      <td>0.395784</td>\n",
              "      <td>0.729149</td>\n",
              "      <td>-0.104014</td>\n",
              "    </tr>\n",
              "    <tr>\n",
              "      <th>ARPU_SEGMENT</th>\n",
              "      <td>0.000915</td>\n",
              "      <td>0.014454</td>\n",
              "      <td>-0.090956</td>\n",
              "      <td>0.948581</td>\n",
              "      <td>0.812308</td>\n",
              "      <td>1.000000</td>\n",
              "      <td>1.000000</td>\n",
              "      <td>0.847237</td>\n",
              "      <td>0.365477</td>\n",
              "      <td>0.436296</td>\n",
              "      <td>0.666671</td>\n",
              "      <td>0.389448</td>\n",
              "      <td>0.092198</td>\n",
              "      <td>0.143924</td>\n",
              "      <td>0.395790</td>\n",
              "      <td>0.729137</td>\n",
              "      <td>-0.104019</td>\n",
              "    </tr>\n",
              "    <tr>\n",
              "      <th>FREQUENCE</th>\n",
              "      <td>-0.013942</td>\n",
              "      <td>0.007790</td>\n",
              "      <td>-0.094430</td>\n",
              "      <td>0.802063</td>\n",
              "      <td>0.919950</td>\n",
              "      <td>0.847234</td>\n",
              "      <td>0.847237</td>\n",
              "      <td>1.000000</td>\n",
              "      <td>0.293843</td>\n",
              "      <td>0.413297</td>\n",
              "      <td>0.497667</td>\n",
              "      <td>0.291956</td>\n",
              "      <td>0.028447</td>\n",
              "      <td>0.086221</td>\n",
              "      <td>0.394844</td>\n",
              "      <td>0.810855</td>\n",
              "      <td>-0.112810</td>\n",
              "    </tr>\n",
              "    <tr>\n",
              "      <th>DATA_VOLUME</th>\n",
              "      <td>0.079697</td>\n",
              "      <td>-0.008336</td>\n",
              "      <td>-0.204325</td>\n",
              "      <td>0.356537</td>\n",
              "      <td>0.261849</td>\n",
              "      <td>0.365477</td>\n",
              "      <td>0.365477</td>\n",
              "      <td>0.293843</td>\n",
              "      <td>1.000000</td>\n",
              "      <td>-0.004331</td>\n",
              "      <td>0.045718</td>\n",
              "      <td>0.018599</td>\n",
              "      <td>0.002975</td>\n",
              "      <td>0.019319</td>\n",
              "      <td>0.221435</td>\n",
              "      <td>0.192635</td>\n",
              "      <td>-0.057351</td>\n",
              "    </tr>\n",
              "    <tr>\n",
              "      <th>ON_NET</th>\n",
              "      <td>-0.097381</td>\n",
              "      <td>0.005708</td>\n",
              "      <td>-0.091574</td>\n",
              "      <td>0.432938</td>\n",
              "      <td>0.435040</td>\n",
              "      <td>0.436299</td>\n",
              "      <td>0.436296</td>\n",
              "      <td>0.413297</td>\n",
              "      <td>-0.004331</td>\n",
              "      <td>1.000000</td>\n",
              "      <td>0.375125</td>\n",
              "      <td>0.245116</td>\n",
              "      <td>-0.002108</td>\n",
              "      <td>-0.017155</td>\n",
              "      <td>0.243193</td>\n",
              "      <td>0.413321</td>\n",
              "      <td>-0.066752</td>\n",
              "    </tr>\n",
              "    <tr>\n",
              "      <th>ORANGE</th>\n",
              "      <td>-0.023932</td>\n",
              "      <td>0.018738</td>\n",
              "      <td>-0.014940</td>\n",
              "      <td>0.662312</td>\n",
              "      <td>0.533441</td>\n",
              "      <td>0.666679</td>\n",
              "      <td>0.666671</td>\n",
              "      <td>0.497667</td>\n",
              "      <td>0.045718</td>\n",
              "      <td>0.375125</td>\n",
              "      <td>1.000000</td>\n",
              "      <td>0.415935</td>\n",
              "      <td>0.031823</td>\n",
              "      <td>0.009921</td>\n",
              "      <td>0.236023</td>\n",
              "      <td>0.544282</td>\n",
              "      <td>-0.059242</td>\n",
              "    </tr>\n",
              "    <tr>\n",
              "      <th>TIGO</th>\n",
              "      <td>0.004089</td>\n",
              "      <td>0.010969</td>\n",
              "      <td>-0.001196</td>\n",
              "      <td>0.390457</td>\n",
              "      <td>0.322761</td>\n",
              "      <td>0.389456</td>\n",
              "      <td>0.389448</td>\n",
              "      <td>0.291956</td>\n",
              "      <td>0.018599</td>\n",
              "      <td>0.245116</td>\n",
              "      <td>0.415935</td>\n",
              "      <td>1.000000</td>\n",
              "      <td>0.012807</td>\n",
              "      <td>0.001666</td>\n",
              "      <td>0.128860</td>\n",
              "      <td>0.341681</td>\n",
              "      <td>-0.027647</td>\n",
              "    </tr>\n",
              "    <tr>\n",
              "      <th>ZONE1</th>\n",
              "      <td>0.025336</td>\n",
              "      <td>0.002995</td>\n",
              "      <td>0.025779</td>\n",
              "      <td>0.091377</td>\n",
              "      <td>0.032487</td>\n",
              "      <td>0.092199</td>\n",
              "      <td>0.092198</td>\n",
              "      <td>0.028447</td>\n",
              "      <td>0.002975</td>\n",
              "      <td>-0.002108</td>\n",
              "      <td>0.031823</td>\n",
              "      <td>0.012807</td>\n",
              "      <td>1.000000</td>\n",
              "      <td>-0.001339</td>\n",
              "      <td>0.007835</td>\n",
              "      <td>0.041845</td>\n",
              "      <td>0.004152</td>\n",
              "    </tr>\n",
              "    <tr>\n",
              "      <th>ZONE2</th>\n",
              "      <td>0.027949</td>\n",
              "      <td>-0.000868</td>\n",
              "      <td>-0.002752</td>\n",
              "      <td>0.143462</td>\n",
              "      <td>0.084660</td>\n",
              "      <td>0.143927</td>\n",
              "      <td>0.143924</td>\n",
              "      <td>0.086221</td>\n",
              "      <td>0.019319</td>\n",
              "      <td>-0.017155</td>\n",
              "      <td>0.009921</td>\n",
              "      <td>0.001666</td>\n",
              "      <td>-0.001339</td>\n",
              "      <td>1.000000</td>\n",
              "      <td>0.018400</td>\n",
              "      <td>0.028652</td>\n",
              "      <td>0.002784</td>\n",
              "    </tr>\n",
              "    <tr>\n",
              "      <th>REGULARITY</th>\n",
              "      <td>-0.398095</td>\n",
              "      <td>0.045218</td>\n",
              "      <td>-0.540729</td>\n",
              "      <td>0.382596</td>\n",
              "      <td>0.371665</td>\n",
              "      <td>0.395784</td>\n",
              "      <td>0.395790</td>\n",
              "      <td>0.394844</td>\n",
              "      <td>0.221435</td>\n",
              "      <td>0.243193</td>\n",
              "      <td>0.236023</td>\n",
              "      <td>0.128860</td>\n",
              "      <td>0.007835</td>\n",
              "      <td>0.018400</td>\n",
              "      <td>1.000000</td>\n",
              "      <td>0.281896</td>\n",
              "      <td>-0.643710</td>\n",
              "    </tr>\n",
              "    <tr>\n",
              "      <th>FREQ_TOP_PACK</th>\n",
              "      <td>-0.000495</td>\n",
              "      <td>0.007899</td>\n",
              "      <td>0.032916</td>\n",
              "      <td>0.732207</td>\n",
              "      <td>0.846442</td>\n",
              "      <td>0.729149</td>\n",
              "      <td>0.729137</td>\n",
              "      <td>0.810855</td>\n",
              "      <td>0.192635</td>\n",
              "      <td>0.413321</td>\n",
              "      <td>0.544282</td>\n",
              "      <td>0.341681</td>\n",
              "      <td>0.041845</td>\n",
              "      <td>0.028652</td>\n",
              "      <td>0.281896</td>\n",
              "      <td>1.000000</td>\n",
              "      <td>-0.063064</td>\n",
              "    </tr>\n",
              "    <tr>\n",
              "      <th>label</th>\n",
              "      <td>0.447510</td>\n",
              "      <td>-0.051876</td>\n",
              "      <td>0.408662</td>\n",
              "      <td>-0.093854</td>\n",
              "      <td>-0.097229</td>\n",
              "      <td>-0.104014</td>\n",
              "      <td>-0.104019</td>\n",
              "      <td>-0.112810</td>\n",
              "      <td>-0.057351</td>\n",
              "      <td>-0.066752</td>\n",
              "      <td>-0.059242</td>\n",
              "      <td>-0.027647</td>\n",
              "      <td>0.004152</td>\n",
              "      <td>0.002784</td>\n",
              "      <td>-0.643710</td>\n",
              "      <td>-0.063064</td>\n",
              "      <td>1.000000</td>\n",
              "    </tr>\n",
              "  </tbody>\n",
              "</table>\n",
              "</div>"
            ],
            "text/plain": [
              "                  REGION    TENURE  ...  FREQ_TOP_PACK     label\n",
              "REGION          1.000000 -0.028896  ...      -0.000495  0.447510\n",
              "TENURE         -0.028896  1.000000  ...       0.007899 -0.051876\n",
              "TOP_PACK        0.221631 -0.024192  ...       0.032916  0.408662\n",
              "MONTANT         0.007697  0.013201  ...       0.732207 -0.093854\n",
              "FREQUENCE_RECH -0.009568  0.006881  ...       0.846442 -0.097229\n",
              "REVENUE         0.000921  0.014453  ...       0.729149 -0.104014\n",
              "ARPU_SEGMENT    0.000915  0.014454  ...       0.729137 -0.104019\n",
              "FREQUENCE      -0.013942  0.007790  ...       0.810855 -0.112810\n",
              "DATA_VOLUME     0.079697 -0.008336  ...       0.192635 -0.057351\n",
              "ON_NET         -0.097381  0.005708  ...       0.413321 -0.066752\n",
              "ORANGE         -0.023932  0.018738  ...       0.544282 -0.059242\n",
              "TIGO            0.004089  0.010969  ...       0.341681 -0.027647\n",
              "ZONE1           0.025336  0.002995  ...       0.041845  0.004152\n",
              "ZONE2           0.027949 -0.000868  ...       0.028652  0.002784\n",
              "REGULARITY     -0.398095  0.045218  ...       0.281896 -0.643710\n",
              "FREQ_TOP_PACK  -0.000495  0.007899  ...       1.000000 -0.063064\n",
              "label           0.447510 -0.051876  ...      -0.063064  1.000000\n",
              "\n",
              "[17 rows x 17 columns]"
            ]
          },
          "metadata": {
            "tags": []
          },
          "execution_count": 85
        }
      ]
    },
    {
      "cell_type": "markdown",
      "metadata": {
        "id": "MBmQ81m0MFQG",
        "colab_type": "text"
      },
      "source": [
        "#### Feature Union K-Best and PCA Components"
      ]
    },
    {
      "cell_type": "markdown",
      "metadata": {
        "id": "UBb_ms9UPC9q",
        "colab_type": "text"
      },
      "source": [
        "- select the optimal k for k-best"
      ]
    },
    {
      "cell_type": "code",
      "metadata": {
        "id": "YWKFutY9MLJs",
        "colab_type": "code",
        "colab": {}
      },
      "source": [
        "KBest = SelectKBest(score_func = f_classif, k = 'all')\n",
        "KBest = KBest.fit(X,y)  \n"
      ],
      "execution_count": 86,
      "outputs": []
    },
    {
      "cell_type": "code",
      "metadata": {
        "id": "kQnJimX5MK7g",
        "colab_type": "code",
        "colab": {
          "base_uri": "https://localhost:8080/",
          "height": 551
        },
        "outputId": "22dc241e-7dc0-4ba2-e954-b08af0d9c717"
      },
      "source": [
        "kb_scores = pd.DataFrame({'features': train_process_copy.columns, 'f_classif': KBest.scores_, 'pValue': KBest.pvalues_ }).sort_values(by='f_classif', \n",
        "                                                                                                                                      ascending=False)\n",
        "kb_scores "
      ],
      "execution_count": 87,
      "outputs": [
        {
          "output_type": "execute_result",
          "data": {
            "text/html": [
              "<div>\n",
              "<style scoped>\n",
              "    .dataframe tbody tr th:only-of-type {\n",
              "        vertical-align: middle;\n",
              "    }\n",
              "\n",
              "    .dataframe tbody tr th {\n",
              "        vertical-align: top;\n",
              "    }\n",
              "\n",
              "    .dataframe thead th {\n",
              "        text-align: right;\n",
              "    }\n",
              "</style>\n",
              "<table border=\"1\" class=\"dataframe\">\n",
              "  <thead>\n",
              "    <tr style=\"text-align: right;\">\n",
              "      <th></th>\n",
              "      <th>features</th>\n",
              "      <th>f_classif</th>\n",
              "      <th>pValue</th>\n",
              "    </tr>\n",
              "  </thead>\n",
              "  <tbody>\n",
              "    <tr>\n",
              "      <th>14</th>\n",
              "      <td>REGULARITY</td>\n",
              "      <td>222636.336823</td>\n",
              "      <td>0.000000e+00</td>\n",
              "    </tr>\n",
              "    <tr>\n",
              "      <th>0</th>\n",
              "      <td>REGION</td>\n",
              "      <td>78795.832389</td>\n",
              "      <td>0.000000e+00</td>\n",
              "    </tr>\n",
              "    <tr>\n",
              "      <th>2</th>\n",
              "      <td>TOP_PACK</td>\n",
              "      <td>63085.573465</td>\n",
              "      <td>0.000000e+00</td>\n",
              "    </tr>\n",
              "    <tr>\n",
              "      <th>7</th>\n",
              "      <td>FREQUENCE</td>\n",
              "      <td>4056.056356</td>\n",
              "      <td>0.000000e+00</td>\n",
              "    </tr>\n",
              "    <tr>\n",
              "      <th>6</th>\n",
              "      <td>ARPU_SEGMENT</td>\n",
              "      <td>3441.888473</td>\n",
              "      <td>0.000000e+00</td>\n",
              "    </tr>\n",
              "    <tr>\n",
              "      <th>5</th>\n",
              "      <td>REVENUE</td>\n",
              "      <td>3441.513215</td>\n",
              "      <td>0.000000e+00</td>\n",
              "    </tr>\n",
              "    <tr>\n",
              "      <th>4</th>\n",
              "      <td>FREQUENCE_RECH</td>\n",
              "      <td>3003.032830</td>\n",
              "      <td>0.000000e+00</td>\n",
              "    </tr>\n",
              "    <tr>\n",
              "      <th>3</th>\n",
              "      <td>MONTANT</td>\n",
              "      <td>2796.334811</td>\n",
              "      <td>0.000000e+00</td>\n",
              "    </tr>\n",
              "    <tr>\n",
              "      <th>9</th>\n",
              "      <td>ON_NET</td>\n",
              "      <td>1408.369158</td>\n",
              "      <td>1.538636e-307</td>\n",
              "    </tr>\n",
              "    <tr>\n",
              "      <th>15</th>\n",
              "      <td>FREQ_TOP_PACK</td>\n",
              "      <td>1256.448914</td>\n",
              "      <td>1.152769e-274</td>\n",
              "    </tr>\n",
              "    <tr>\n",
              "      <th>10</th>\n",
              "      <td>ORANGE</td>\n",
              "      <td>1108.228348</td>\n",
              "      <td>1.425788e-242</td>\n",
              "    </tr>\n",
              "    <tr>\n",
              "      <th>8</th>\n",
              "      <td>DATA_VOLUME</td>\n",
              "      <td>1038.391146</td>\n",
              "      <td>1.912138e-227</td>\n",
              "    </tr>\n",
              "    <tr>\n",
              "      <th>1</th>\n",
              "      <td>TENURE</td>\n",
              "      <td>849.083552</td>\n",
              "      <td>2.040341e-186</td>\n",
              "    </tr>\n",
              "    <tr>\n",
              "      <th>11</th>\n",
              "      <td>TIGO</td>\n",
              "      <td>240.698687</td>\n",
              "      <td>2.900732e-54</td>\n",
              "    </tr>\n",
              "    <tr>\n",
              "      <th>12</th>\n",
              "      <td>ZONE1</td>\n",
              "      <td>5.424179</td>\n",
              "      <td>1.986040e-02</td>\n",
              "    </tr>\n",
              "    <tr>\n",
              "      <th>13</th>\n",
              "      <td>ZONE2</td>\n",
              "      <td>2.438268</td>\n",
              "      <td>1.184079e-01</td>\n",
              "    </tr>\n",
              "  </tbody>\n",
              "</table>\n",
              "</div>"
            ],
            "text/plain": [
              "          features      f_classif         pValue\n",
              "14      REGULARITY  222636.336823   0.000000e+00\n",
              "0           REGION   78795.832389   0.000000e+00\n",
              "2         TOP_PACK   63085.573465   0.000000e+00\n",
              "7        FREQUENCE    4056.056356   0.000000e+00\n",
              "6     ARPU_SEGMENT    3441.888473   0.000000e+00\n",
              "5          REVENUE    3441.513215   0.000000e+00\n",
              "4   FREQUENCE_RECH    3003.032830   0.000000e+00\n",
              "3          MONTANT    2796.334811   0.000000e+00\n",
              "9           ON_NET    1408.369158  1.538636e-307\n",
              "15   FREQ_TOP_PACK    1256.448914  1.152769e-274\n",
              "10          ORANGE    1108.228348  1.425788e-242\n",
              "8      DATA_VOLUME    1038.391146  1.912138e-227\n",
              "1           TENURE     849.083552  2.040341e-186\n",
              "11            TIGO     240.698687   2.900732e-54\n",
              "12           ZONE1       5.424179   1.986040e-02\n",
              "13           ZONE2       2.438268   1.184079e-01"
            ]
          },
          "metadata": {
            "tags": []
          },
          "execution_count": 87
        }
      ]
    },
    {
      "cell_type": "code",
      "metadata": {
        "id": "KXEXfNAmSfNx",
        "colab_type": "code",
        "colab": {
          "base_uri": "https://localhost:8080/",
          "height": 34
        },
        "outputId": "e1da2179-173d-4114-bcf2-3e2997d04dc0"
      },
      "source": [
        "kb_scores.shape"
      ],
      "execution_count": 88,
      "outputs": [
        {
          "output_type": "execute_result",
          "data": {
            "text/plain": [
              "(16, 3)"
            ]
          },
          "metadata": {
            "tags": []
          },
          "execution_count": 88
        }
      ]
    },
    {
      "cell_type": "markdown",
      "metadata": {
        "id": "evynxY_sTBas",
        "colab_type": "text"
      },
      "source": [
        "I would taek the first 12 features with thousandth scores "
      ]
    },
    {
      "cell_type": "code",
      "metadata": {
        "id": "WFV6kSggMKvG",
        "colab_type": "code",
        "colab": {
          "base_uri": "https://localhost:8080/",
          "height": 225
        },
        "outputId": "877dc761-554b-4184-8000-b8b8a5e8160b"
      },
      "source": [
        "kbest_cols = kb_scores.features.iloc[:12].tolist()\n",
        "kbest_cols "
      ],
      "execution_count": 89,
      "outputs": [
        {
          "output_type": "execute_result",
          "data": {
            "text/plain": [
              "['REGULARITY',\n",
              " 'REGION',\n",
              " 'TOP_PACK',\n",
              " 'FREQUENCE',\n",
              " 'ARPU_SEGMENT',\n",
              " 'REVENUE',\n",
              " 'FREQUENCE_RECH',\n",
              " 'MONTANT',\n",
              " 'ON_NET',\n",
              " 'FREQ_TOP_PACK',\n",
              " 'ORANGE',\n",
              " 'DATA_VOLUME']"
            ]
          },
          "metadata": {
            "tags": []
          },
          "execution_count": 89
        }
      ]
    },
    {
      "cell_type": "code",
      "metadata": {
        "id": "tUkZ9N7wdDFv",
        "colab_type": "code",
        "colab": {}
      },
      "source": [
        "KBest = SelectKBest(score_func = f_classif, k = 12)\n",
        "KBest_data = KBest.fit_transform(X,y) "
      ],
      "execution_count": 90,
      "outputs": []
    },
    {
      "cell_type": "code",
      "metadata": {
        "id": "Br0avUz-dOZu",
        "colab_type": "code",
        "colab": {
          "base_uri": "https://localhost:8080/",
          "height": 34
        },
        "outputId": "c3f6c820-c4dd-456f-85d5-bd5e3906ae59"
      },
      "source": [
        "KBest_data.shape"
      ],
      "execution_count": 91,
      "outputs": [
        {
          "output_type": "execute_result",
          "data": {
            "text/plain": [
              "(314664, 12)"
            ]
          },
          "metadata": {
            "tags": []
          },
          "execution_count": 91
        }
      ]
    },
    {
      "cell_type": "markdown",
      "metadata": {
        "id": "Xp-p6QyuT47u",
        "colab_type": "text"
      },
      "source": [
        "- PCA components"
      ]
    },
    {
      "cell_type": "markdown",
      "metadata": {
        "id": "In3zKVIaT_Dn",
        "colab_type": "text"
      },
      "source": [
        "- get optimal k"
      ]
    },
    {
      "cell_type": "code",
      "metadata": {
        "id": "ygJBaLbRT71J",
        "colab_type": "code",
        "colab": {
          "base_uri": "https://localhost:8080/",
          "height": 52
        },
        "outputId": "e280c27e-175d-4ae8-fe95-8e2882fb3a5d"
      },
      "source": [
        "pca = TruncatedSVD(n_components = X.shape[1]-1).fit(X)\n",
        "pca"
      ],
      "execution_count": 92,
      "outputs": [
        {
          "output_type": "execute_result",
          "data": {
            "text/plain": [
              "TruncatedSVD(algorithm='randomized', n_components=15, n_iter=5,\n",
              "             random_state=None, tol=0.0)"
            ]
          },
          "metadata": {
            "tags": []
          },
          "execution_count": 92
        }
      ]
    },
    {
      "cell_type": "code",
      "metadata": {
        "id": "K75rOsB5T7uI",
        "colab_type": "code",
        "colab": {
          "base_uri": "https://localhost:8080/",
          "height": 279
        },
        "outputId": "a244783c-920c-4eb6-93e5-67b91ae97881"
      },
      "source": [
        "plt.plot(np.cumsum(pca.explained_variance_ratio_))\n",
        "plt.xlabel('number of components')\n",
        "plt.ylabel('cumulative explained variance');"
      ],
      "execution_count": 93,
      "outputs": [
        {
          "output_type": "display_data",
          "data": {
            "image/png": "[encoded data removed]",
            "text/plain": [
              "<Figure size 432x288 with 1 Axes>"
            ]
          },
          "metadata": {
            "tags": [],
            "needs_background": "light"
          }
        }
      ]
    },
    {
      "cell_type": "code",
      "metadata": {
        "id": "VCxOvjVXmx1M",
        "colab_type": "code",
        "colab": {}
      },
      "source": [
        ""
      ],
      "execution_count": 93,
      "outputs": []
    },
    {
      "cell_type": "markdown",
      "metadata": {
        "id": "l7_DEr-obzMa",
        "colab_type": "text"
      },
      "source": [
        "14 components explains the X 100%\n",
        "\n",
        "> Indented block\n",
        "\n"
      ]
    },
    {
      "cell_type": "code",
      "metadata": {
        "id": "_3tEGggiT7m-",
        "colab_type": "code",
        "colab": {
          "base_uri": "https://localhost:8080/",
          "height": 52
        },
        "outputId": "f6583e00-6628-4eea-f7c5-2fd659514b3f"
      },
      "source": [
        "pca = TruncatedSVD(n_components = 14, random_state=0).fit(X)\n",
        "pca"
      ],
      "execution_count": 94,
      "outputs": [
        {
          "output_type": "execute_result",
          "data": {
            "text/plain": [
              "TruncatedSVD(algorithm='randomized', n_components=14, n_iter=5, random_state=0,\n",
              "             tol=0.0)"
            ]
          },
          "metadata": {
            "tags": []
          },
          "execution_count": 94
        }
      ]
    },
    {
      "cell_type": "code",
      "metadata": {
        "id": "J1fOd7Bwd1Wy",
        "colab_type": "code",
        "colab": {
          "base_uri": "https://localhost:8080/",
          "height": 69
        },
        "outputId": "ea54611d-9ecb-491d-f374-e4a2cdfef932"
      },
      "source": [
        "pca_ratio = pca.explained_variance_ratio_\n",
        "pca_ratio "
      ],
      "execution_count": 95,
      "outputs": [
        {
          "output_type": "execute_result",
          "data": {
            "text/plain": [
              "array([0.39287352, 0.14422495, 0.13631951, 0.10390176, 0.06283773,\n",
              "       0.04285913, 0.03393778, 0.01899398, 0.01921025, 0.01706656,\n",
              "       0.00919268, 0.0068172 , 0.00630964, 0.00413914])"
            ]
          },
          "metadata": {
            "tags": []
          },
          "execution_count": 95
        }
      ]
    },
    {
      "cell_type": "markdown",
      "metadata": {
        "id": "aTybpSpudkjq",
        "colab_type": "text"
      },
      "source": [
        "I would be optimaisng for 95% exaplainability"
      ]
    },
    {
      "cell_type": "code",
      "metadata": {
        "id": "wKtT0BJndoXS",
        "colab_type": "code",
        "colab": {}
      },
      "source": [
        "def select_n_components(var_ratio, goal_var: float) -> int:\n",
        "    # Set initial variance explained so far\n",
        "    total_variance = 0.0\n",
        "    \n",
        "    # Set initial number of features\n",
        "    n_components = 0\n",
        "    \n",
        "    # For the explained variance of each feature:\n",
        "    for explained_variance in var_ratio:\n",
        "        \n",
        "        # Add the explained variance to the total\n",
        "        total_variance += explained_variance\n",
        "                                     \n",
        "        # Add one to the number of components\n",
        "        n_components += 1\n",
        "        \n",
        "        # If we reach our goal level of explained variance\n",
        "        if total_variance >= goal_var:\n",
        "            # End the loop\n",
        "            break\n",
        "            \n",
        "    # Return the number of components\n",
        "    return n_components"
      ],
      "execution_count": 96,
      "outputs": []
    },
    {
      "cell_type": "code",
      "metadata": {
        "id": "90SCEn9zcgE7",
        "colab_type": "code",
        "colab": {
          "base_uri": "https://localhost:8080/",
          "height": 34
        },
        "outputId": "e27b282f-4ce2-4f02-e188-ad8279c0671c"
      },
      "source": [
        "select_n_components(pca_ratio, goal_var=.95)"
      ],
      "execution_count": 97,
      "outputs": [
        {
          "output_type": "execute_result",
          "data": {
            "text/plain": [
              "9"
            ]
          },
          "metadata": {
            "tags": []
          },
          "execution_count": 97
        }
      ]
    },
    {
      "cell_type": "markdown",
      "metadata": {
        "id": "KKGoyh6Ge3Ef",
        "colab_type": "text"
      },
      "source": [
        "### 9 components provides 95% explainability"
      ]
    },
    {
      "cell_type": "markdown",
      "metadata": {
        "id": "97lLQgm-e2xl",
        "colab_type": "text"
      },
      "source": [
        ""
      ]
    },
    {
      "cell_type": "code",
      "metadata": {
        "id": "LgtqPUwecsY4",
        "colab_type": "code",
        "colab": {}
      },
      "source": [
        "# pca_components"
      ],
      "execution_count": null,
      "outputs": []
    },
    {
      "cell_type": "markdown",
      "metadata": {
        "id": "jKSZzz8fecX2",
        "colab_type": "text"
      },
      "source": [
        "### Decomposing Features into Components"
      ]
    },
    {
      "cell_type": "code",
      "metadata": {
        "id": "sq8vFJy7eZ4s",
        "colab_type": "code",
        "colab": {}
      },
      "source": [
        "def pca_call(data, n_components, algo='randomized', n_iter=100, random_seed =123, tol=0.0) -> np.array:\n",
        "\n",
        "  pca = TruncatedSVD(n_components=n_components, algorithm=algo, \n",
        "                     n_iter=n_iter, random_state=random_seed, tol=tol)\n",
        "  \n",
        "  data_reduced = pca.fit_transform(data) \n",
        "\n",
        "  return data_reduced, pca"
      ],
      "execution_count": 98,
      "outputs": []
    },
    {
      "cell_type": "code",
      "metadata": {
        "id": "2k95DOnNenpZ",
        "colab_type": "code",
        "colab": {}
      },
      "source": [
        "pca_data, pca = pca_call(X, n_components=9)"
      ],
      "execution_count": 99,
      "outputs": []
    },
    {
      "cell_type": "code",
      "metadata": {
        "id": "OnB0l9r3fBzb",
        "colab_type": "code",
        "colab": {
          "base_uri": "https://localhost:8080/",
          "height": 34
        },
        "outputId": "3f1ee3d0-fee8-4768-f598-ac3b4a0e3fa8"
      },
      "source": [
        "pca_data.shape "
      ],
      "execution_count": 100,
      "outputs": [
        {
          "output_type": "execute_result",
          "data": {
            "text/plain": [
              "(314664, 9)"
            ]
          },
          "metadata": {
            "tags": []
          },
          "execution_count": 100
        }
      ]
    },
    {
      "cell_type": "markdown",
      "metadata": {
        "id": "ss9aMaaufL1Y",
        "colab_type": "text"
      },
      "source": [
        "#### Combine PCA components and K-best features"
      ]
    },
    {
      "cell_type": "code",
      "metadata": {
        "id": "hJndFkeffQ6O",
        "colab_type": "code",
        "colab": {}
      },
      "source": [
        "X_joined = np.concatenate((KBest_data, pca_data), axis=1)"
      ],
      "execution_count": 101,
      "outputs": []
    },
    {
      "cell_type": "code",
      "metadata": {
        "id": "dWp9s5TlfQ3R",
        "colab_type": "code",
        "colab": {
          "base_uri": "https://localhost:8080/",
          "height": 34
        },
        "outputId": "d3e74e98-b881-4802-e78b-d17a7a6b5612"
      },
      "source": [
        "X_joined.shape[0] == y.shape[0]"
      ],
      "execution_count": 102,
      "outputs": [
        {
          "output_type": "execute_result",
          "data": {
            "text/plain": [
              "True"
            ]
          },
          "metadata": {
            "tags": []
          },
          "execution_count": 102
        }
      ]
    },
    {
      "cell_type": "code",
      "metadata": {
        "id": "C6MLKVbWHzF_",
        "colab_type": "code",
        "colab": {
          "base_uri": "https://localhost:8080/",
          "height": 34
        },
        "outputId": "bcb3683a-4cd4-4a66-c912-a06971668882"
      },
      "source": [
        "X_joined.shape"
      ],
      "execution_count": 103,
      "outputs": [
        {
          "output_type": "execute_result",
          "data": {
            "text/plain": [
              "(314664, 21)"
            ]
          },
          "metadata": {
            "tags": []
          },
          "execution_count": 103
        }
      ]
    },
    {
      "cell_type": "markdown",
      "metadata": {
        "id": "1auAQ5sApPOZ",
        "colab_type": "text"
      },
      "source": [
        "> test  pipeline ...\n"
      ]
    },
    {
      "cell_type": "code",
      "metadata": {
        "id": "WF7rFkVupQ-J",
        "colab_type": "code",
        "colab": {}
      },
      "source": [
        "\n",
        "feature_pipe = FeatureUnion(transformer_list=[('pca', TruncatedSVD(n_components=9)) ,\n",
        "                                              ('k_best', SelectKBest(score_func = f_classif, k = 'all'))            \n",
        "                              ])\n",
        "\n",
        "\n",
        "full_pipe = ImbPipe(steps=[('smt',  SMOTE()),  ('scaler', RobustScaler()), ('feature_pipe', feature_pipe)], verbose=True) "
      ],
      "execution_count": 104,
      "outputs": []
    },
    {
      "cell_type": "code",
      "metadata": {
        "id": "_CeR4MaqvPWp",
        "colab_type": "code",
        "colab": {
          "base_uri": "https://localhost:8080/",
          "height": 52
        },
        "outputId": "3af102b8-c1ef-40cc-eefa-5fbf49d7d801"
      },
      "source": [
        "print(train_process_copy.shape)\n",
        "print(train_label.shape) "
      ],
      "execution_count": 105,
      "outputs": [
        {
          "output_type": "stream",
          "text": [
            "(193864, 16)\n",
            "(193864,)\n"
          ],
          "name": "stdout"
        }
      ]
    },
    {
      "cell_type": "code",
      "metadata": {
        "id": "qn03pmlLvwXY",
        "colab_type": "code",
        "colab": {
          "base_uri": "https://localhost:8080/",
          "height": 101
        },
        "outputId": "16be3e8f-e0ed-4e9e-8a0d-dc156cacfb70"
      },
      "source": [
        "train_process_copy.head(1)"
      ],
      "execution_count": 106,
      "outputs": [
        {
          "output_type": "execute_result",
          "data": {
            "text/html": [
              "<div>\n",
              "<style scoped>\n",
              "    .dataframe tbody tr th:only-of-type {\n",
              "        vertical-align: middle;\n",
              "    }\n",
              "\n",
              "    .dataframe tbody tr th {\n",
              "        vertical-align: top;\n",
              "    }\n",
              "\n",
              "    .dataframe thead th {\n",
              "        text-align: right;\n",
              "    }\n",
              "</style>\n",
              "<table border=\"1\" class=\"dataframe\">\n",
              "  <thead>\n",
              "    <tr style=\"text-align: right;\">\n",
              "      <th></th>\n",
              "      <th>REGION</th>\n",
              "      <th>TENURE</th>\n",
              "      <th>TOP_PACK</th>\n",
              "      <th>MONTANT</th>\n",
              "      <th>FREQUENCE_RECH</th>\n",
              "      <th>REVENUE</th>\n",
              "      <th>ARPU_SEGMENT</th>\n",
              "      <th>FREQUENCE</th>\n",
              "      <th>DATA_VOLUME</th>\n",
              "      <th>ON_NET</th>\n",
              "      <th>ORANGE</th>\n",
              "      <th>TIGO</th>\n",
              "      <th>ZONE1</th>\n",
              "      <th>ZONE2</th>\n",
              "      <th>REGULARITY</th>\n",
              "      <th>FREQ_TOP_PACK</th>\n",
              "    </tr>\n",
              "  </thead>\n",
              "  <tbody>\n",
              "    <tr>\n",
              "      <th>0</th>\n",
              "      <td>3</td>\n",
              "      <td>7</td>\n",
              "      <td>3</td>\n",
              "      <td>5078.894264</td>\n",
              "      <td>10.905921</td>\n",
              "      <td>5059.164349</td>\n",
              "      <td>1686.364679</td>\n",
              "      <td>13.34441</td>\n",
              "      <td>2477.643433</td>\n",
              "      <td>184.792221</td>\n",
              "      <td>77.946193</td>\n",
              "      <td>17.297697</td>\n",
              "      <td>4.099048</td>\n",
              "      <td>4.618218</td>\n",
              "      <td>1.0</td>\n",
              "      <td>8.490336</td>\n",
              "    </tr>\n",
              "  </tbody>\n",
              "</table>\n",
              "</div>"
            ],
            "text/plain": [
              "   REGION  TENURE  TOP_PACK  ...     ZONE2  REGULARITY  FREQ_TOP_PACK\n",
              "0       3       7         3  ...  4.618218         1.0       8.490336\n",
              "\n",
              "[1 rows x 16 columns]"
            ]
          },
          "metadata": {
            "tags": []
          },
          "execution_count": 106
        }
      ]
    },
    {
      "cell_type": "code",
      "metadata": {
        "id": "Xux-wLNn8j6L",
        "colab_type": "code",
        "colab": {
          "base_uri": "https://localhost:8080/",
          "height": 52
        },
        "outputId": "30fe5eec-c55d-4ddd-da5e-870a099aaf8c"
      },
      "source": [
        "train_label.head(1)"
      ],
      "execution_count": 107,
      "outputs": [
        {
          "output_type": "execute_result",
          "data": {
            "text/plain": [
              "542316    1\n",
              "Name: CHURN, dtype: int64"
            ]
          },
          "metadata": {
            "tags": []
          },
          "execution_count": 107
        }
      ]
    },
    {
      "cell_type": "code",
      "metadata": {
        "id": "ISR2GTQ0uuGS",
        "colab_type": "code",
        "colab": {
          "base_uri": "https://localhost:8080/",
          "height": 243
        },
        "outputId": "6901a7af-e044-4c85-91d5-7393afd2a715"
      },
      "source": [
        "full_pipe.fit_transform(train_process_copy, train_label) "
      ],
      "execution_count": 108,
      "outputs": [
        {
          "output_type": "execute_result",
          "data": {
            "text/plain": [
              "array([[-1.35198881e-03, -1.14499428e-02,  2.23548633e-03, ...,\n",
              "         0.00000000e+00, -2.05882353e-01,  0.00000000e+00],\n",
              "       [ 3.79232004e+01,  5.16069163e+00, -4.07360320e+00, ...,\n",
              "         0.00000000e+00,  1.52941176e+00,  4.02350136e+00],\n",
              "       [-7.30266155e-01, -5.02313208e+00,  2.12223509e-01, ...,\n",
              "         0.00000000e+00,  4.11764706e-01, -2.74603535e+00],\n",
              "       ...,\n",
              "       [-1.34006885e+01, -4.36612201e+00,  6.00490496e-03, ...,\n",
              "         0.00000000e+00,  1.05059123e-02, -3.16913140e+00],\n",
              "       [-5.79423775e-04, -4.90711835e-03,  9.58065572e-04, ...,\n",
              "         0.00000000e+00, -8.82352941e-02,  0.00000000e+00],\n",
              "       [-1.15884755e-03, -9.81423670e-03,  1.91613114e-03, ...,\n",
              "         0.00000000e+00, -1.76470588e-01,  0.00000000e+00]])"
            ]
          },
          "metadata": {
            "tags": []
          },
          "execution_count": 108
        }
      ]
    },
    {
      "cell_type": "markdown",
      "metadata": {
        "id": "5obbe4COEKVr",
        "colab_type": "text"
      },
      "source": [
        "## Modelling\n",
        "\n",
        "Algorithms:\n",
        "\n",
        "- logisticRegression - Basemodel\n",
        "\n",
        "- SVC\n",
        "\n",
        "- Catboost\n",
        "\n",
        "- XGboost\n",
        "\n",
        "- LGBM\n",
        "\n",
        "Techniques\n",
        "\n",
        "- cross validation\n",
        "\n",
        "- hp-tuning\n",
        "\n",
        "- over-sampling imbalance"
      ]
    },
    {
      "cell_type": "markdown",
      "metadata": {
        "id": "z3Jqvg8pEOyj",
        "colab_type": "text"
      },
      "source": [
        ">> Import needed libraries"
      ]
    },
    {
      "cell_type": "markdown",
      "metadata": {
        "id": "09H2HVxqEtY2",
        "colab_type": "text"
      },
      "source": [
        "split to X & Y"
      ]
    },
    {
      "cell_type": "code",
      "metadata": {
        "id": "K7A1zpQ5G4k0",
        "colab_type": "code",
        "colab": {}
      },
      "source": [
        "X= train.copy()\n",
        "y = train_label.copy()"
      ],
      "execution_count": 109,
      "outputs": []
    },
    {
      "cell_type": "markdown",
      "metadata": {
        "id": "yyGfUJ2CHg2s",
        "colab_type": "text"
      },
      "source": [
        "split to train and test set"
      ]
    },
    {
      "cell_type": "code",
      "metadata": {
        "id": "lHrq7K_AEhQy",
        "colab_type": "code",
        "colab": {
          "base_uri": "https://localhost:8080/",
          "height": 52
        },
        "outputId": "1d8d2336-2fa1-4bb5-f17d-ffa323592239"
      },
      "source": [
        "X_train, X_test, y_train, y_test = train_test_split(X, y, train_size=0.9) \n",
        "print(X_train.shape) \n",
        "print(y_train.shape) "
      ],
      "execution_count": 110,
      "outputs": [
        {
          "output_type": "stream",
          "text": [
            "(174477, 18)\n",
            "(174477,)\n"
          ],
          "name": "stdout"
        }
      ]
    },
    {
      "cell_type": "markdown",
      "metadata": {
        "id": "fObYm-2oHZch",
        "colab_type": "text"
      },
      "source": [
        "split to train and val set"
      ]
    },
    {
      "cell_type": "code",
      "metadata": {
        "id": "-NFw_ua6GaFG",
        "colab_type": "code",
        "colab": {
          "base_uri": "https://localhost:8080/",
          "height": 52
        },
        "outputId": "8b4af93c-af53-4f00-ec6a-ac865c0c3cc2"
      },
      "source": [
        "X_train2, X_val, y_train2, y_val = train_test_split(X_train, y_train, train_size=0.8)\n",
        "print(X_train2.shape) \n",
        "print(y_train2.shape) "
      ],
      "execution_count": 111,
      "outputs": [
        {
          "output_type": "stream",
          "text": [
            "(139581, 18)\n",
            "(139581,)\n"
          ],
          "name": "stdout"
        }
      ]
    },
    {
      "cell_type": "markdown",
      "metadata": {
        "id": "4KU7-xpKkhrO",
        "colab_type": "text"
      },
      "source": [
        "### Build Pipeline"
      ]
    },
    {
      "cell_type": "markdown",
      "metadata": {
        "id": "kQJEo_K2lF7q",
        "colab_type": "text"
      },
      "source": [
        " #### Preprocessing Pipeline"
      ]
    },
    {
      "cell_type": "code",
      "metadata": {
        "id": "dXgSXXtcWRlW",
        "colab_type": "code",
        "colab": {
          "base_uri": "https://localhost:8080/",
          "height": 243
        },
        "outputId": "f7117154-e8e8-4d9f-cbfa-61dbb21a8eea"
      },
      "source": [
        "num_features = train.select_dtypes(include='number').columns.tolist()\n",
        "num_features"
      ],
      "execution_count": 112,
      "outputs": [
        {
          "output_type": "execute_result",
          "data": {
            "text/plain": [
              "['MONTANT',\n",
              " 'FREQUENCE_RECH',\n",
              " 'REVENUE',\n",
              " 'ARPU_SEGMENT',\n",
              " 'FREQUENCE',\n",
              " 'DATA_VOLUME',\n",
              " 'ON_NET',\n",
              " 'ORANGE',\n",
              " 'TIGO',\n",
              " 'ZONE1',\n",
              " 'ZONE2',\n",
              " 'REGULARITY',\n",
              " 'FREQ_TOP_PACK']"
            ]
          },
          "metadata": {
            "tags": []
          },
          "execution_count": 112
        }
      ]
    },
    {
      "cell_type": "code",
      "metadata": {
        "id": "CUHqfgzTWkeB",
        "colab_type": "code",
        "colab": {
          "base_uri": "https://localhost:8080/",
          "height": 34
        },
        "outputId": "2a4e9e50-644a-4285-a5b0-ec4d2c430898"
      },
      "source": [
        "cat_features = train.select_dtypes(include='object').drop(['user_id', 'MRG'], axis=1).columns.tolist() \n",
        "cat_features "
      ],
      "execution_count": 114,
      "outputs": [
        {
          "output_type": "execute_result",
          "data": {
            "text/plain": [
              "['REGION', 'TENURE', 'TOP_PACK']"
            ]
          },
          "metadata": {
            "tags": []
          },
          "execution_count": 114
        }
      ]
    },
    {
      "cell_type": "code",
      "metadata": {
        "id": "E-tFYe2_kmfa",
        "colab_type": "code",
        "colab": {}
      },
      "source": [
        "process_pipe1 = Pipeline(steps=[('drop_cols',  DropColumns(cols_to_drop=['MRG', 'user_id'])),  \n",
        "                                ('impute_outlier', ImputeOutlier())])  "
      ],
      "execution_count": 115,
      "outputs": []
    },
    {
      "cell_type": "code",
      "metadata": {
        "id": "-6o1uNjLkmaN",
        "colab_type": "code",
        "colab": {}
      },
      "source": [
        "process_pipe2 = ColumnTransformer([('cat_impute', SimpleImputer(strategy='most_frequent'), cat_features),\n",
        "                                              ('num_impute', SimpleImputer(strategy='mean'),num_features)\n",
        "])"
      ],
      "execution_count": 116,
      "outputs": []
    },
    {
      "cell_type": "code",
      "metadata": {
        "id": "8_M3JdfTkmUV",
        "colab_type": "code",
        "colab": {}
      },
      "source": [
        "process_pipe3 =  Pipeline(steps=[('ranker', Ranker(group_cols=['REGION', 'TOP_PACK'], value_col='TENURE')),\n",
        "                                ]) "
      ],
      "execution_count": 117,
      "outputs": []
    },
    {
      "cell_type": "code",
      "metadata": {
        "id": "PMu31cWSkmQq",
        "colab_type": "code",
        "colab": {}
      },
      "source": [
        "feature_pipe = FeatureUnion(transformer_list=[('pca', TruncatedSVD(n_components=9)) ,\n",
        "                                              ('k_best', SelectKBest(score_func = f_classif, k = 12))            \n",
        "                              ])\n",
        "\n",
        "\n",
        "process_pipe4 = Pipeline(steps=[('scaler', RobustScaler()), ('feature_pipe', feature_pipe)], verbose=True) "
      ],
      "execution_count": 118,
      "outputs": []
    },
    {
      "cell_type": "code",
      "metadata": {
        "id": "q6RvJJm1kmNV",
        "colab_type": "code",
        "colab": {}
      },
      "source": [
        "process_pipe_full = Pipeline(steps=[('pipe1', process_pipe1), ('pipe2', process_pipe2),\n",
        "                                                 ('pipe3', process_pipe3),('pipe4', process_pipe4)])  "
      ],
      "execution_count": 119,
      "outputs": []
    },
    {
      "cell_type": "code",
      "metadata": {
        "id": "QMuKuSL-kmHL",
        "colab_type": "code",
        "colab": {
          "base_uri": "https://localhost:8080/",
          "height": 52
        },
        "outputId": "78f7d1f1-7324-41af-df4d-e0972fd7f2e7"
      },
      "source": [
        "processed_pipe = process_pipe_full.fit(X=train, y=train_label) "
      ],
      "execution_count": 120,
      "outputs": [
        {
          "output_type": "stream",
          "text": [
            "[Pipeline] ............ (step 1 of 2) Processing scaler, total=   0.4s\n",
            "[Pipeline] ...... (step 2 of 2) Processing feature_pipe, total=   0.9s\n"
          ],
          "name": "stdout"
        }
      ]
    },
    {
      "cell_type": "code",
      "metadata": {
        "id": "_csUB0jGE2nN",
        "colab_type": "code",
        "colab": {
          "base_uri": "https://localhost:8080/",
          "height": 905
        },
        "outputId": "24a60e0b-df93-473a-c796-ae776f13a737"
      },
      "source": [
        "\n",
        "processed_pipe.named_steps "
      ],
      "execution_count": 121,
      "outputs": [
        {
          "output_type": "execute_result",
          "data": {
            "text/plain": [
              "{'pipe1': Pipeline(memory=None,\n",
              "          steps=[('drop_cols', DropColumns(cols_to_drop=['MRG', 'user_id'])),\n",
              "                 ('impute_outlier', ImputeOutlier())],\n",
              "          verbose=False),\n",
              " 'pipe2': ColumnTransformer(n_jobs=None, remainder='drop', sparse_threshold=0.3,\n",
              "                   transformer_weights=None,\n",
              "                   transformers=[('cat_impute',\n",
              "                                  SimpleImputer(add_indicator=False, copy=True,\n",
              "                                                fill_value=None,\n",
              "                                                missing_values=nan,\n",
              "                                                strategy='most_frequent',\n",
              "                                                verbose=0),\n",
              "                                  ['REGION', 'TENURE', 'TOP_PACK']),\n",
              "                                 ('num_impute',\n",
              "                                  SimpleImputer(add_indicator=False, copy=True,\n",
              "                                                fill_value=None,\n",
              "                                                missing_values=nan,\n",
              "                                                strategy='mean', verbose=0),\n",
              "                                  ['MONTANT', 'FREQUENCE_RECH', 'REVENUE',\n",
              "                                   'ARPU_SEGMENT', 'FREQUENCE', 'DATA_VOLUME',\n",
              "                                   'ON_NET', 'ORANGE', 'TIGO', 'ZONE1', 'ZONE2',\n",
              "                                   'REGULARITY', 'FREQ_TOP_PACK'])],\n",
              "                   verbose=False),\n",
              " 'pipe3': Pipeline(memory=None,\n",
              "          steps=[('ranker',\n",
              "                  Ranker(columns=['REGION', 'TENURE', 'TOP_PACK', 'MONTANT',\n",
              "                                  'FREQUENCE_RECH', 'REVENUE', 'ARPU_SEGMENT',\n",
              "                                  'FREQUENCE', 'DATA_VOLUME', 'ON_NET', 'ORANGE',\n",
              "                                  'TIGO', 'ZONE1', 'ZONE2', 'REGULARITY',\n",
              "                                  'FREQ_TOP_PACK'],\n",
              "                         group_cols=['REGION', 'TOP_PACK'],\n",
              "                         value_col='TENURE'))],\n",
              "          verbose=False),\n",
              " 'pipe4': Pipeline(memory=None,\n",
              "          steps=[('scaler',\n",
              "                  RobustScaler(copy=True, quantile_range=(25.0, 75.0),\n",
              "                               with_centering=True, with_scaling=True)),\n",
              "                 ('feature_pipe',\n",
              "                  FeatureUnion(n_jobs=None,\n",
              "                               transformer_list=[('pca',\n",
              "                                                  TruncatedSVD(algorithm='randomized',\n",
              "                                                               n_components=9,\n",
              "                                                               n_iter=5,\n",
              "                                                               random_state=None,\n",
              "                                                               tol=0.0)),\n",
              "                                                 ('k_best',\n",
              "                                                  SelectKBest(k=12,\n",
              "                                                              score_func=<function f_classif at 0x7f700ea75b70>))],\n",
              "                               transformer_weights=None, verbose=False))],\n",
              "          verbose=True)}"
            ]
          },
          "metadata": {
            "tags": []
          },
          "execution_count": 121
        }
      ]
    },
    {
      "cell_type": "code",
      "metadata": {
        "id": "49vj6yy3-iRn",
        "colab_type": "code",
        "colab": {}
      },
      "source": [
        "processed_data = processed_pipe.transform(train) "
      ],
      "execution_count": 122,
      "outputs": []
    },
    {
      "cell_type": "code",
      "metadata": {
        "id": "oLK3DrnhzVU_",
        "colab_type": "code",
        "colab": {
          "base_uri": "https://localhost:8080/",
          "height": 34
        },
        "outputId": "66d6e47a-7a13-4456-9314-6d20d697c89d"
      },
      "source": [
        "processed_data.shape"
      ],
      "execution_count": 123,
      "outputs": [
        {
          "output_type": "execute_result",
          "data": {
            "text/plain": [
              "(193864, 21)"
            ]
          },
          "metadata": {
            "tags": []
          },
          "execution_count": 123
        }
      ]
    },
    {
      "cell_type": "code",
      "metadata": {
        "id": "CbHpdj5FzmDR",
        "colab_type": "code",
        "colab": {
          "base_uri": "https://localhost:8080/",
          "height": 34
        },
        "outputId": "6f3d3df6-af8d-4156-9207-f8476f01a82b"
      },
      "source": [
        "train.shape"
      ],
      "execution_count": 124,
      "outputs": [
        {
          "output_type": "execute_result",
          "data": {
            "text/plain": [
              "(193864, 18)"
            ]
          },
          "metadata": {
            "tags": []
          },
          "execution_count": 124
        }
      ]
    },
    {
      "cell_type": "code",
      "metadata": {
        "id": "EjikGyxUFqqG",
        "colab_type": "code",
        "colab": {
          "base_uri": "https://localhost:8080/",
          "height": 243
        },
        "outputId": "a5dcff3b-1e35-4ca8-8fac-7198dbf3bce5"
      },
      "source": [
        "processed_data "
      ],
      "execution_count": 125,
      "outputs": [
        {
          "output_type": "execute_result",
          "data": {
            "text/plain": [
              "array([[-0.03097276, -0.01804538,  0.01176833, ...,  0.        ,\n",
              "        -0.52272727,  0.        ],\n",
              "       [ 8.4485491 , -3.76383298, -3.33873823, ..., -0.93633973,\n",
              "         0.81818182,  2.117807  ],\n",
              "       [-3.10557306, -1.33024193,  0.6622033 , ..., -1.02893649,\n",
              "        -0.04545455, -1.445401  ],\n",
              "       ...,\n",
              "       [-4.21974444,  0.64203446, -0.04069711, ..., -0.87267945,\n",
              "        -0.25      , -1.6681015 ],\n",
              "       [-0.02962612, -0.01726079,  0.01125666, ...,  0.        ,\n",
              "        -0.5       ,  0.        ],\n",
              "       [ 0.82597791,  0.05102551,  0.05063304, ..., -1.02893649,\n",
              "         0.81818182, -0.109198  ]])"
            ]
          },
          "metadata": {
            "tags": []
          },
          "execution_count": 125
        }
      ]
    },
    {
      "cell_type": "code",
      "metadata": {
        "id": "LpIuKKgGVOh5",
        "colab_type": "code",
        "colab": {
          "base_uri": "https://localhost:8080/",
          "height": 34
        },
        "outputId": "6ff0e3da-a708-465e-e9cd-81e516e07fc0"
      },
      "source": [
        "processed_data.shape"
      ],
      "execution_count": 128,
      "outputs": [
        {
          "output_type": "execute_result",
          "data": {
            "text/plain": [
              "(193864, 21)"
            ]
          },
          "metadata": {
            "tags": []
          },
          "execution_count": 128
        }
      ]
    },
    {
      "cell_type": "code",
      "metadata": {
        "id": "XXdQJOolOzjF",
        "colab_type": "code",
        "colab": {
          "base_uri": "https://localhost:8080/",
          "height": 402
        },
        "outputId": "dfd8df7c-9f38-4f5a-848f-7608f269c1c9"
      },
      "source": [
        "!pip install catboost\n",
        "!pip install xgboost"
      ],
      "execution_count": 132,
      "outputs": [
        {
          "output_type": "stream",
          "text": [
            "Collecting catboost\n",
            "\u001b[?25l  Downloading https://files.pythonhosted.org/packages/90/86/c3dcb600b4f9e7584ed90ea9d30a717fb5c0111574675f442c3e7bc19535/catboost-0.24.1-cp36-none-manylinux1_x86_64.whl (66.1MB)\n",
            "\u001b[K     |████████████████████████████████| 66.1MB 57kB/s \n",
            "\u001b[?25hRequirement already satisfied: scipy in /usr/local/lib/python3.6/dist-packages (from catboost) (1.4.1)\n",
            "Requirement already satisfied: graphviz in /usr/local/lib/python3.6/dist-packages (from catboost) (0.10.1)\n",
            "Requirement already satisfied: six in /usr/local/lib/python3.6/dist-packages (from catboost) (1.15.0)\n",
            "Requirement already satisfied: matplotlib in /usr/local/lib/python3.6/dist-packages (from catboost) (3.2.2)\n",
            "Requirement already satisfied: numpy>=1.16.0 in /usr/local/lib/python3.6/dist-packages (from catboost) (1.18.5)\n",
            "Requirement already satisfied: pandas>=0.24.0 in /usr/local/lib/python3.6/dist-packages (from catboost) (1.0.5)\n",
            "Requirement already satisfied: plotly in /usr/local/lib/python3.6/dist-packages (from catboost) (4.4.1)\n",
            "Requirement already satisfied: pyparsing!=2.0.4,!=2.1.2,!=2.1.6,>=2.0.1 in /usr/local/lib/python3.6/dist-packages (from matplotlib->catboost) (2.4.7)\n",
            "Requirement already satisfied: cycler>=0.10 in /usr/local/lib/python3.6/dist-packages (from matplotlib->catboost) (0.10.0)\n",
            "Requirement already satisfied: python-dateutil>=2.1 in /usr/local/lib/python3.6/dist-packages (from matplotlib->catboost) (2.8.1)\n",
            "Requirement already satisfied: kiwisolver>=1.0.1 in /usr/local/lib/python3.6/dist-packages (from matplotlib->catboost) (1.2.0)\n",
            "Requirement already satisfied: pytz>=2017.2 in /usr/local/lib/python3.6/dist-packages (from pandas>=0.24.0->catboost) (2018.9)\n",
            "Requirement already satisfied: retrying>=1.3.3 in /usr/local/lib/python3.6/dist-packages (from plotly->catboost) (1.3.3)\n",
            "Installing collected packages: catboost\n",
            "Successfully installed catboost-0.24.1\n",
            "Requirement already satisfied: xgboost in /usr/local/lib/python3.6/dist-packages (0.90)\n",
            "Requirement already satisfied: scipy in /usr/local/lib/python3.6/dist-packages (from xgboost) (1.4.1)\n",
            "Requirement already satisfied: numpy in /usr/local/lib/python3.6/dist-packages (from xgboost) (1.18.5)\n"
          ],
          "name": "stdout"
        }
      ]
    },
    {
      "cell_type": "code",
      "metadata": {
        "id": "ebv5hi7nOSb6",
        "colab_type": "code",
        "colab": {}
      },
      "source": [
        "from sklearn.linear_model import LinearRegression, LogisticRegressionCV\n",
        "from sklearn.svm import SVC\n",
        "from catboost import CatBoostClassifier, Pool\n",
        "from xgboost import XGBClassifier \n",
        "from sklearn.metrics import log_loss, balanced_accuracy_score"
      ],
      "execution_count": 133,
      "outputs": []
    },
    {
      "cell_type": "markdown",
      "metadata": {
        "id": "ez67MtvLIhmP",
        "colab_type": "text"
      },
      "source": [
        "\n",
        "#### LogisticRegression/LogisticRegressionCV\n"
      ]
    },
    {
      "cell_type": "markdown",
      "metadata": {
        "id": "HRlMPTYLX4fE",
        "colab_type": "text"
      },
      "source": [
        "params for LogRegCV"
      ]
    },
    {
      "cell_type": "code",
      "metadata": {
        "id": "iexHVGxEWPtt",
        "colab_type": "code",
        "colab": {}
      },
      "source": [
        "scv = StratifiedKFold(n_splits=5, shuffle=True)\n",
        "log_score=make_scorer(score_func=log_loss) \n",
        "scoring = log_score\n",
        "class_weight = 'balanced'\n",
        "n_jobs = 4\n",
        "random_state = 123"
      ],
      "execution_count": 134,
      "outputs": []
    },
    {
      "cell_type": "code",
      "metadata": {
        "id": "ELZqr6UTZhqn",
        "colab_type": "code",
        "colab": {}
      },
      "source": [
        "logit_model  = Pipeline(steps=[('process', process_pipe_full), ('logistic',LogisticRegression(class_weight='balanced', random_state=0))], verbose=True)"
      ],
      "execution_count": 135,
      "outputs": []
    },
    {
      "cell_type": "code",
      "metadata": {
        "id": "ub-BuaJ5RlV7",
        "colab_type": "code",
        "colab": {
          "base_uri": "https://localhost:8080/",
          "height": 662
        },
        "outputId": "35b5e8e6-d185-4877-8ee8-4a95a118521c"
      },
      "source": [
        "logit_model.fit(X_train2, y_train2) "
      ],
      "execution_count": 136,
      "outputs": [
        {
          "output_type": "stream",
          "text": [
            "[Pipeline] ............ (step 1 of 2) Processing scaler, total=   0.3s\n",
            "[Pipeline] ...... (step 2 of 2) Processing feature_pipe, total=   0.5s\n",
            "[Pipeline] ........... (step 1 of 2) Processing process, total=  32.1s\n",
            "[Pipeline] .......... (step 2 of 2) Processing logistic, total=   1.2s\n"
          ],
          "name": "stdout"
        },
        {
          "output_type": "execute_result",
          "data": {
            "text/plain": [
              "Pipeline(memory=None,\n",
              "         steps=[('process',\n",
              "                 Pipeline(memory=None,\n",
              "                          steps=[('pipe1',\n",
              "                                  Pipeline(memory=None,\n",
              "                                           steps=[('drop_cols',\n",
              "                                                   DropColumns(cols_to_drop=['MRG',\n",
              "                                                                             'user_id'])),\n",
              "                                                  ('impute_outlier',\n",
              "                                                   ImputeOutlier())],\n",
              "                                           verbose=False)),\n",
              "                                 ('pipe2',\n",
              "                                  ColumnTransformer(n_jobs=None,\n",
              "                                                    remainder='drop',\n",
              "                                                    sparse_threshold=0.3,\n",
              "                                                    transformer_weights=None,\n",
              "                                                    transformers=[('cat_impute',\n",
              "                                                                   Simple...\n",
              "                                                                                               score_func=<function f_classif at 0x7f700ea75b70>))],\n",
              "                                                                transformer_weights=None,\n",
              "                                                                verbose=False))],\n",
              "                                           verbose=True))],\n",
              "                          verbose=False)),\n",
              "                ('logistic',\n",
              "                 LogisticRegression(C=1.0, class_weight='balanced', dual=False,\n",
              "                                    fit_intercept=True, intercept_scaling=1,\n",
              "                                    l1_ratio=None, max_iter=100,\n",
              "                                    multi_class='auto', n_jobs=None,\n",
              "                                    penalty='l2', random_state=0,\n",
              "                                    solver='lbfgs', tol=0.0001, verbose=0,\n",
              "                                    warm_start=False))],\n",
              "         verbose=True)"
            ]
          },
          "metadata": {
            "tags": []
          },
          "execution_count": 136
        }
      ]
    },
    {
      "cell_type": "code",
      "metadata": {
        "id": "ouX-pPLhUZOm",
        "colab_type": "code",
        "colab": {}
      },
      "source": [
        "log_pred = logit_model.predict_proba(X_train2)[:1]"
      ],
      "execution_count": 137,
      "outputs": []
    },
    {
      "cell_type": "code",
      "metadata": {
        "id": "x27R-zTTYMma",
        "colab_type": "code",
        "colab": {}
      },
      "source": [
        "# log_loss(X_val,log_pred)"
      ],
      "execution_count": 138,
      "outputs": []
    },
    {
      "cell_type": "markdown",
      "metadata": {
        "id": "KxAc7H4RRqH9",
        "colab_type": "text"
      },
      "source": [
        "#### SVC"
      ]
    },
    {
      "cell_type": "code",
      "metadata": {
        "id": "EQHIqqM1RlKv",
        "colab_type": "code",
        "colab": {}
      },
      "source": [
        "svc_model  = Pipeline(steps=[('process', process_pipe_full), ('svc',SVC(class_weight='balanced', verbose=True, probability=True, random_state=0))], verbose=True)"
      ],
      "execution_count": 139,
      "outputs": []
    },
    {
      "cell_type": "code",
      "metadata": {
        "id": "AgQqxwSzRlHF",
        "colab_type": "code",
        "colab": {
          "base_uri": "https://localhost:8080/",
          "height": 86
        },
        "outputId": "f9ac892c-89ca-41e8-cade-eaa47d0f61ca"
      },
      "source": [
        "svc_model.fit(X_train2, y_train2)"
      ],
      "execution_count": null,
      "outputs": [
        {
          "output_type": "stream",
          "text": [
            "[Pipeline] ............ (step 1 of 2) Processing scaler, total=   0.3s\n",
            "[Pipeline] ...... (step 2 of 2) Processing feature_pipe, total=   0.6s\n",
            "[Pipeline] ........... (step 1 of 2) Processing process, total=  32.4s\n",
            "[LibSVM]"
          ],
          "name": "stdout"
        }
      ]
    },
    {
      "cell_type": "code",
      "metadata": {
        "id": "uvb0GoSRBd2n",
        "colab_type": "code",
        "colab": {}
      },
      "source": [
        "\n",
        "\n",
        "# svc_model.fit(X_train2, y_train2)"
      ],
      "execution_count": null,
      "outputs": []
    },
    {
      "cell_type": "code",
      "metadata": {
        "id": "78xnwBPfBdym",
        "colab_type": "code",
        "colab": {}
      },
      "source": [
        "svc_pred = svc_model.predict_proba(X_train2)[:1]"
      ],
      "execution_count": null,
      "outputs": []
    },
    {
      "cell_type": "code",
      "metadata": {
        "id": "nSbHhnuIBdua",
        "colab_type": "code",
        "colab": {}
      },
      "source": [
        "svc_pred"
      ],
      "execution_count": null,
      "outputs": []
    },
    {
      "cell_type": "markdown",
      "metadata": {
        "id": "TY4GO3MZVvhK",
        "colab_type": "text"
      },
      "source": [
        "### XGBoost"
      ]
    },
    {
      "cell_type": "code",
      "metadata": {
        "id": "uFQG13xZWOcD",
        "colab_type": "code",
        "colab": {}
      },
      "source": [
        "xgb = XGBClassifier(n_estimators=1000,random_seed = 10, use_best_model=True, eval_metric = 'logloss')"
      ],
      "execution_count": null,
      "outputs": []
    },
    {
      "cell_type": "code",
      "metadata": {
        "id": "w6v6YR77BdqX",
        "colab_type": "code",
        "colab": {}
      },
      "source": [
        "xgb_model = Pipeline(steps=[('process', process_pipe_full), ('xgb', xgb)], verbose=True)"
      ],
      "execution_count": null,
      "outputs": []
    },
    {
      "cell_type": "code",
      "metadata": {
        "id": "j3cgOrEOBdmL",
        "colab_type": "code",
        "colab": {}
      },
      "source": [
        "xgb_model.fit(X_train2,y_train2,eval_set=[(X_train2,y_train2),(X_val, y_val)], early_stopping_rounds=100,verbose=100)"
      ],
      "execution_count": null,
      "outputs": []
    },
    {
      "cell_type": "code",
      "metadata": {
        "id": "HkCc3lY1Bdhj",
        "colab_type": "code",
        "colab": {}
      },
      "source": [
        "xgb_pred  = xgb_model.predict_proba(X_val)[:,1]"
      ],
      "execution_count": null,
      "outputs": []
    },
    {
      "cell_type": "markdown",
      "metadata": {
        "id": "Pnv5uEgOWd24",
        "colab_type": "text"
      },
      "source": [
        "### CatBoost"
      ]
    },
    {
      "cell_type": "code",
      "metadata": {
        "id": "GkXjsaG8Bdaz",
        "colab_type": "code",
        "colab": {}
      },
      "source": [
        "cat = CatBoostClassifier(n_estimators=1000,random_seed = 10, use_best_model=True, eval_metric = 'logloss')"
      ],
      "execution_count": null,
      "outputs": []
    },
    {
      "cell_type": "code",
      "metadata": {
        "id": "eBelQBIKRlDY",
        "colab_type": "code",
        "colab": {}
      },
      "source": [
        "cat_model = Pipeline(steps=[('process', process_pipe_full), ('cat', cat)], verbose=True)"
      ],
      "execution_count": null,
      "outputs": []
    },
    {
      "cell_type": "code",
      "metadata": {
        "id": "IaZJFqvfRk_q",
        "colab_type": "code",
        "colab": {}
      },
      "source": [
        "cat_model.fit(X_train2,y_train2,eval_set=[(X_train2,y_train2),(X_val, y_val)], early_stopping_rounds=100,verbose=100)"
      ],
      "execution_count": null,
      "outputs": []
    },
    {
      "cell_type": "code",
      "metadata": {
        "id": "huM9D-9rRk8B",
        "colab_type": "code",
        "colab": {}
      },
      "source": [
        "cat_pred  = cat_model.predict_proba(X_val)[:,1]"
      ],
      "execution_count": null,
      "outputs": []
    },
    {
      "cell_type": "code",
      "metadata": {
        "id": "UqN1eHFTRk4Q",
        "colab_type": "code",
        "colab": {}
      },
      "source": [
        ""
      ],
      "execution_count": null,
      "outputs": []
    },
    {
      "cell_type": "code",
      "metadata": {
        "id": "c5KXeL1bRk0c",
        "colab_type": "code",
        "colab": {}
      },
      "source": [
        ""
      ],
      "execution_count": null,
      "outputs": []
    },
    {
      "cell_type": "code",
      "metadata": {
        "id": "6lwT3IcLRkwj",
        "colab_type": "code",
        "colab": {}
      },
      "source": [
        ""
      ],
      "execution_count": null,
      "outputs": []
    },
    {
      "cell_type": "code",
      "metadata": {
        "id": "C-_hY4yKRksD",
        "colab_type": "code",
        "colab": {}
      },
      "source": [
        ""
      ],
      "execution_count": null,
      "outputs": []
    },
    {
      "cell_type": "code",
      "metadata": {
        "id": "9_EDpDjsRknU",
        "colab_type": "code",
        "colab": {}
      },
      "source": [
        ""
      ],
      "execution_count": null,
      "outputs": []
    },
    {
      "cell_type": "markdown",
      "metadata": {
        "id": "fUziwNxaE9bm",
        "colab_type": "text"
      },
      "source": [
        "#### Measure model's performances"
      ]
    },
    {
      "cell_type": "code",
      "metadata": {
        "id": "ea_PaUKZFAIb",
        "colab_type": "code",
        "colab": {}
      },
      "source": [
        "\n",
        "log_metric = PredMetrics(X_train2, y_train2, log_pred, y_val, logit_model, log_score, cv=cv) "
      ],
      "execution_count": null,
      "outputs": []
    },
    {
      "cell_type": "code",
      "metadata": {
        "id": "7pzdeqJ2blCO",
        "colab_type": "code",
        "colab": {}
      },
      "source": [
        "print(log_metric.class_report())"
      ],
      "execution_count": null,
      "outputs": []
    },
    {
      "cell_type": "markdown",
      "metadata": {
        "id": "xE_9TgjqkY3v",
        "colab_type": "text"
      },
      "source": [
        ""
      ]
    },
    {
      "cell_type": "code",
      "metadata": {
        "id": "MsQ-Sm1pcRlt",
        "colab_type": "code",
        "colab": {}
      },
      "source": [
        ""
      ],
      "execution_count": null,
      "outputs": []
    }
  ]
}