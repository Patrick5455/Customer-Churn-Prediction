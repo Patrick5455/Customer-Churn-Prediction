{
  "nbformat": 4,
  "nbformat_minor": 0,
  "metadata": {
    "kernelspec": {
      "display_name": "Python 3",
      "language": "python",
      "name": "python3"
    },
    "language_info": {
      "codemirror_mode": {
        "name": "ipython",
        "version": 3
      },
      "file_extension": ".py",
      "mimetype": "text/x-python",
      "name": "python",
      "nbconvert_exporter": "python",
      "pygments_lexer": "ipython3",
      "version": "3.6.9"
    },
    "colab": {
      "name": "customer_churn_modelling_colab.ipynb",
      "provenance": [],
      "collapsed_sections": [],
      "toc_visible": true,
      "include_colab_link": true
    }
  },
  "cells": [
    {
      "cell_type": "markdown",
      "metadata": {
        "id": "view-in-github",
        "colab_type": "text"
      },
      "source": [
        "<a href=\"https://colab.research.google.com/github/Patrick5455/Customer-Churn-Prediction/blob/master/modelling/customer_churn_modelling_colab.ipynb\" target=\"_parent\"><img src=\"https://colab.research.google.com/assets/colab-badge.svg\" alt=\"Open In Colab\"/></a>"
      ]
    },
    {
      "cell_type": "code",
      "metadata": {
        "id": "O7pW2zNGqTXf",
        "colab_type": "code",
        "colab": {
          "base_uri": "https://localhost:8080/",
          "height": 34
        },
        "outputId": "eb1db363-fa89-49f2-c984-c6718fe6ec28"
      },
      "source": [
        "from google.colab import drive  \n",
        "drive.mount('/content/drive')  "
      ],
      "execution_count": 2,
      "outputs": [
        {
          "output_type": "stream",
          "text": [
            "Drive already mounted at /content/drive; to attempt to forcibly remount, call drive.mount(\"/content/drive\", force_remount=True).\n"
          ],
          "name": "stdout"
        }
      ]
    },
    {
      "cell_type": "code",
      "metadata": {
        "id": "INjA0Wpk5qEg",
        "colab_type": "code",
        "colab": {
          "base_uri": "https://localhost:8080/",
          "height": 72
        },
        "outputId": "88d9924a-3af0-410e-8e5e-22367bd49eb6"
      },
      "source": [
        "#Import some libraries\n",
        "import pandas as pd\n",
        "from pandas.api.types import is_string_dtype \n",
        "from pandas.api.types import is_numeric_dtype\n",
        "import numpy as np\n",
        "import matplotlib.pyplot as plt \n",
        "from pylab import rcParams  \n",
        "import seaborn as sns \n",
        "import os \n",
        "sns.set_style('darkgrid')\n",
        "rcParams['figure.figsize'] = 8,8\n",
        "import warnings\n",
        "warnings.filterwarnings(\"ignore\")\n",
        "%matplotlib inline "
      ],
      "execution_count": 3,
      "outputs": [
        {
          "output_type": "stream",
          "text": [
            "/usr/local/lib/python3.6/dist-packages/statsmodels/tools/_testing.py:19: FutureWarning: pandas.util.testing is deprecated. Use the functions in the public API at pandas.testing instead.\n",
            "  import pandas.util.testing as tm\n"
          ],
          "name": "stderr"
        }
      ]
    },
    {
      "cell_type": "markdown",
      "metadata": {
        "id": "9rpGJeIe5qEx",
        "colab_type": "text"
      },
      "source": [
        "> Data Preprocessing"
      ]
    },
    {
      "cell_type": "code",
      "metadata": {
        "id": "U7-6OQgl5qE0",
        "colab_type": "code",
        "colab": {}
      },
      "source": [
        "from sklearn.preprocessing import StandardScaler, RobustScaler, OneHotEncoder, LabelEncoder\n",
        "from sklearn.pipeline import FeatureUnion, make_pipeline, Pipeline\n",
        "from sklearn.impute import KNNImputer\n",
        "from sklearn.model_selection import cross_val_predict, cross_val_score, GridSearchCV,RandomizedSearchCV\n",
        "from sklearn.impute import SimpleImputer\n",
        "from sklearn.compose import ColumnTransformer\n",
        "\n",
        "from sklearn.ensemble import IsolationForest \n",
        "from imblearn.over_sampling import SMOTE"
      ],
      "execution_count": 4,
      "outputs": []
    },
    {
      "cell_type": "markdown",
      "metadata": {
        "id": "Ua9cL2FZ0s1o",
        "colab_type": "text"
      },
      "source": [
        "Modelling"
      ]
    },
    {
      "cell_type": "code",
      "metadata": {
        "id": "kSFGvih10qXj",
        "colab_type": "code",
        "colab": {}
      },
      "source": [
        "from imblearn.over_sampling import SMOTE\n",
        "from imblearn.pipeline import  Pipeline as ImbPipe\n",
        "from imblearn.metrics import classification_report_imbalanced\n",
        "from sklearn.metrics import scorer, log_loss\n",
        "from sklearn.linear_model import LogisticRegression, LogisticRegressionCV\n",
        "from sklearn.metrics import make_scorer, accuracy_score, confusion_matrix, plot_roc_curve, classification_report\n",
        "from sklearn.model_selection import StratifiedKFold, GridSearchCV, train_test_split\n",
        "import sklearn\n",
        "from sklearn.decomposition import PCA, TruncatedSVD\n",
        "from sklearn.feature_selection import RFECV\n",
        "# from sklearn.feature_extraction import \n",
        "from sklearn.base import BaseEstimator, TransformerMixin\n",
        "from sklearn.feature_selection import SelectKBest, mutual_info_classif, f_classif, chi2, SelectPercentile\n",
        "\n",
        "from sklearn.compose import make_column_selector as selector\n",
        "\n",
        "from sklearn.svm import SVC"
      ],
      "execution_count": 5,
      "outputs": []
    },
    {
      "cell_type": "code",
      "metadata": {
        "id": "QYbczZiR1Hpv",
        "colab_type": "code",
        "colab": {}
      },
      "source": [
        "# sklearn.feature_extraction."
      ],
      "execution_count": 6,
      "outputs": []
    },
    {
      "cell_type": "markdown",
      "metadata": {
        "id": "1yyH-vBc5qFD",
        "colab_type": "text"
      },
      "source": [
        "> > Project packages"
      ]
    },
    {
      "cell_type": "code",
      "metadata": {
        "id": "98q9INpN5qFF",
        "colab_type": "code",
        "colab": {}
      },
      "source": [
        "# from project_package.data_package import data\n",
        "# from project_package.model_package import model, model_metrics\n",
        "# from project_package.plot_package import bi_plot, uni_plot\n",
        "# "
      ],
      "execution_count": 7,
      "outputs": []
    },
    {
      "cell_type": "code",
      "metadata": {
        "id": "a1LZQJEU5qFR",
        "colab_type": "code",
        "colab": {}
      },
      "source": [
        "# ?KNNImputer"
      ],
      "execution_count": 8,
      "outputs": []
    },
    {
      "cell_type": "markdown",
      "metadata": {
        "id": "FonOxjCX5qFa",
        "colab_type": "text"
      },
      "source": [
        "> Load Datasets"
      ]
    },
    {
      "cell_type": "code",
      "metadata": {
        "id": "umbX4mHdq6O_",
        "colab_type": "code",
        "colab": {}
      },
      "source": [
        "#g-drive paths\n",
        "train = '/content/drive/My Drive/Zindi-Competionts/customer-churn-prediction/datasets/AIMS_Train.csv'\n",
        "test = '/content/drive/My Drive/Zindi-Competionts/customer-churn-prediction/datasets/AIMS_Test.csv'\n",
        "variables = '/content/drive/My Drive/Zindi-Competionts/customer-churn-prediction/datasets/VariableDefinitions.csv'\n",
        "submissions = '/content/drive/My Drive/Zindi-Competionts/customer-churn-prediction/datasets/AIMS_SampleSubmission.csv' "
      ],
      "execution_count": 9,
      "outputs": []
    },
    {
      "cell_type": "code",
      "metadata": {
        "id": "ZeHv8FuaRqYs",
        "colab_type": "code",
        "colab": {}
      },
      "source": [
        "models_path = '/content/drive/My Drive/Zindi-Competionts/customer-churn-prediction/saved_models/'\n",
        "predictions_path =  '/content/drive/My Drive/Zindi-Competionts/customer-churn-prediction/predictions/'"
      ],
      "execution_count": 163,
      "outputs": []
    },
    {
      "cell_type": "code",
      "metadata": {
        "id": "HkmRSVxf6aoJ",
        "colab_type": "code",
        "colab": {}
      },
      "source": [
        "#colab\n",
        "train = pd.read_csv(train)\n",
        "test=  pd.read_csv(test)\n",
        "submission = pd.read_csv(submissions)\n",
        "variables = pd.read_csv(variables, header=2)"
      ],
      "execution_count": 10,
      "outputs": []
    },
    {
      "cell_type": "code",
      "metadata": {
        "id": "Uptp-rMy5qFd",
        "colab_type": "code",
        "colab": {}
      },
      "source": [
        "#import data - jupyter localhost\n",
        "\n",
        "# train = pd.read_csv('../datasets/AIMS_Train.csv')\n",
        "# test=  pd.read_csv('../datasets/AIMS_Test.csv')\n",
        "# submission = pd.read_csv('../datasets/AIMS_SampleSubmission.csv')\n",
        "# variables = pd.read_csv('../datasets/VariableDefinitions.csv')"
      ],
      "execution_count": 11,
      "outputs": []
    },
    {
      "cell_type": "markdown",
      "metadata": {
        "id": "0emn0mTgoZsr",
        "colab_type": "text"
      },
      "source": [
        "#### Define Utility Functions"
      ]
    },
    {
      "cell_type": "markdown",
      "metadata": {
        "id": "qu3Ad6t6otiY",
        "colab_type": "text"
      },
      "source": [
        "> Calculate number of levels in categorical variables"
      ]
    },
    {
      "cell_type": "code",
      "metadata": {
        "id": "iKh6k5DEoh9Y",
        "colab_type": "code",
        "colab": {}
      },
      "source": [
        "def check_levels(data, exclude_cols=[]):\n",
        "    cat_cols = data.select_dtypes(include='object').columns.tolist()\n",
        "    \n",
        "    for col in cat_cols:\n",
        "        if col not in exclude_cols:\n",
        "            print('*-*'*10,'\\n')\n",
        "            print(data[col].value_counts())\n",
        "            plt.figure(figsize=(10,5)) \n",
        "            plt.title(f\"Value Counts of {col}\", fontsize=15)\n",
        "            data[col].value_counts(normalize=True).plot(kind='bar')\n",
        "            print('*-*'*10,'\\n')\n",
        "            plt.ylabel('counts')\n",
        "            plt.xlabel(col)"
      ],
      "execution_count": 12,
      "outputs": []
    },
    {
      "cell_type": "markdown",
      "metadata": {
        "id": "F437FBvKpEqA",
        "colab_type": "text"
      },
      "source": [
        "> check for null values"
      ]
    },
    {
      "cell_type": "code",
      "metadata": {
        "id": "k3lCPn_josfC",
        "colab_type": "code",
        "colab": {}
      },
      "source": [
        "def check_null(data, plot=True):\n",
        "    print(data.isnull().sum()) \n",
        "    if plot:\n",
        "        plt.figure(figsize=(10,5))\n",
        "        plt.title(f\"Null Values Count\", fontsize=15)\n",
        "        data.isnull().sum().plot.bar()"
      ],
      "execution_count": 13,
      "outputs": []
    },
    {
      "cell_type": "markdown",
      "metadata": {
        "id": "uNTHvdL2pPFs",
        "colab_type": "text"
      },
      "source": [
        "> check for outliers"
      ]
    },
    {
      "cell_type": "code",
      "metadata": {
        "id": "52YpxaR1pOXn",
        "colab_type": "code",
        "colab": {}
      },
      "source": [
        "def check_outliers(data, show_plot=False, save_img=os.getcwd()+'/outliers.png'):\n",
        " \n",
        "        \"\"\"\n",
        "        This functions checks for columns with outlers using the IQR method\n",
        "\n",
        "        It accespts as argmuent a dataset. \n",
        "        show_plot can be set to True to output pairplots of outlier columns    \n",
        "        \"\"\"\n",
        "\n",
        "        outliers = [] \n",
        "        Q1 = data.quantile(0.25)  \n",
        "        Q3 = data.quantile(0.75)\n",
        "        IQR = Q3 - Q1 \n",
        "        num_data = data.select_dtypes(include=['float64', 'int64'])\n",
        "        result = dict (((num_data < (Q1 - 1.5 * IQR)) | (num_data > (Q3 + 1.5 * IQR))).any())\n",
        "        print(result)  \n",
        "        index = data[(num_data < Q1 - 1.5 * IQR) | (num_data > Q3 + 1.5 * IQR)].index\n",
        "        for k,v in result.items(): \n",
        "            if v == True:  \n",
        "                outliers.append(k) \n",
        "        if show_plot:\n",
        "            outlier_pair_plot = sns.pairplot(data[outliers]); \n",
        "            print(f'{result},\\n\\n Visualization of outlier columns')\n",
        "            plt.savefig(fname=save_img, format='png')\n",
        "            return  outlier_pair_plot\n",
        "        else:\n",
        "            print(data.shape)\n",
        "            return data.loc[index, outliers] "
      ],
      "execution_count": 14,
      "outputs": []
    },
    {
      "cell_type": "markdown",
      "metadata": {
        "id": "meK0n5G9Eddl",
        "colab_type": "text"
      },
      "source": [
        "> Define functions to mesaure predictions performance\n"
      ]
    },
    {
      "cell_type": "code",
      "metadata": {
        "id": "2l1hfmVJEaC_",
        "colab_type": "code",
        "colab": {}
      },
      "source": [
        "class PredMetrics():\n",
        "\n",
        "  def __init__(self, X, y, y_pred, y_true, model, scorer:make_scorer,\n",
        "                 verbose=False, cv=StratifiedKFold(random_state=123)):\n",
        "    \n",
        "    self.X = X \n",
        "    self.y = y\n",
        "    self.y_pred = y_pred\n",
        "    self.y_true = y_true\n",
        "    self.model = model\n",
        "    self.scorer = scorer\n",
        "    self.cv = cv \n",
        "\n",
        "  def __repr__(self):\n",
        "    return \"Prediction Metrics\"\n",
        "\n",
        "  \n",
        "  def cv_score(self):\n",
        "\n",
        "     self.cv_score_metric = cross_val_score(model = self.model, X=self.X, y=self.y, scoring = self.scorer, verbose=verbose, cv=self.cv)\n",
        "\n",
        "     return self.cv_score_metric\n",
        "\n",
        "  def conf_matrix(self):\n",
        "\n",
        "    self.conf_matrix_metric = confusion_matrix(y_true=self.y_true, y_pred=self.y_pred)\n",
        "\n",
        "    return self.conf_matrix_metric\n",
        "\n",
        "  def log_loss_score(self):\n",
        "\n",
        "    self.log_loss_metric = log_loss(y_true = self.y_true, y_pred = self.y_pred)\n",
        "\n",
        "    return self.log_loss_metric\n",
        "\n",
        "  def roc_curve(self):\n",
        "\n",
        "    self.plot_roc_metric = plot_roc_curve(self.model, X=self.X, y = self.y)\n",
        "      \n",
        "    return self.plot_roc_metric\n",
        "  \n",
        "  def class_report(self):\n",
        "\n",
        "    self.class_report_metric = classification_report_imbalanced(y_true = self.y_true, y_pred = self.y_pred)\n",
        "\n",
        "    return self.class_report_metric"
      ],
      "execution_count": 15,
      "outputs": []
    },
    {
      "cell_type": "markdown",
      "metadata": {
        "id": "1nYHSrmGEXG5",
        "colab_type": "text"
      },
      "source": [
        "> Define functions to save satisifed predictions"
      ]
    },
    {
      "cell_type": "code",
      "metadata": {
        "id": "dBnOBTIDERrz",
        "colab_type": "code",
        "colab": {}
      },
      "source": [
        "def save_pred(y_hat, test_set, file_name =\"new_submission\"):\n",
        "  prediction_path = '/content/drive/My Drive/Zindi-Competionts/zimnat_Challenge_predicting_insurance_purchase/submissions/'\n",
        "  from datetime import datetime\n",
        "  file_name=file_name+datetime.now().strftime('%Y-%m-%d')\n",
        "  submissions = pd.DataFrame({'ID X PCODE':test_set['ID X PCODE'],'Label':y_hat})\n",
        "  submissions.to_csv(prediction_path+file_name, index=False)\n",
        "  return submissons "
      ],
      "execution_count": 16,
      "outputs": []
    },
    {
      "cell_type": "markdown",
      "metadata": {
        "id": "3fnJT9gpxWPP",
        "colab_type": "text"
      },
      "source": [
        "#### Define Custom Estimators"
      ]
    },
    {
      "cell_type": "code",
      "metadata": {
        "id": "RnvJNUnIxbSz",
        "colab_type": "code",
        "colab": {}
      },
      "source": [
        ""
      ],
      "execution_count": 16,
      "outputs": []
    },
    {
      "cell_type": "code",
      "metadata": {
        "id": "czqrIF1d5qFl",
        "colab_type": "code",
        "colab": {
          "base_uri": "https://localhost:8080/",
          "height": 663
        },
        "outputId": "4ff5e87c-25ef-4014-bc25-40c89caf9dd7"
      },
      "source": [
        "variables"
      ],
      "execution_count": 17,
      "outputs": [
        {
          "output_type": "execute_result",
          "data": {
            "text/html": [
              "<div>\n",
              "<style scoped>\n",
              "    .dataframe tbody tr th:only-of-type {\n",
              "        vertical-align: middle;\n",
              "    }\n",
              "\n",
              "    .dataframe tbody tr th {\n",
              "        vertical-align: top;\n",
              "    }\n",
              "\n",
              "    .dataframe thead th {\n",
              "        text-align: right;\n",
              "    }\n",
              "</style>\n",
              "<table border=\"1\" class=\"dataframe\">\n",
              "  <thead>\n",
              "    <tr style=\"text-align: right;\">\n",
              "      <th></th>\n",
              "      <th>Unnamed: 0</th>\n",
              "      <th>Le dataset churn comprend 19 variables dont 15 variables numeriques et 04 variables categoriques.</th>\n",
              "      <th>The churn dataset includes 19 variables including 15 numeric variables and 04 categorical variables.</th>\n",
              "    </tr>\n",
              "  </thead>\n",
              "  <tbody>\n",
              "    <tr>\n",
              "      <th>0</th>\n",
              "      <td>user_id</td>\n",
              "      <td>NaN</td>\n",
              "      <td>NaN</td>\n",
              "    </tr>\n",
              "    <tr>\n",
              "      <th>1</th>\n",
              "      <td>REGION</td>\n",
              "      <td>la localité de chaque client</td>\n",
              "      <td>the location of each client</td>\n",
              "    </tr>\n",
              "    <tr>\n",
              "      <th>2</th>\n",
              "      <td>TENURE</td>\n",
              "      <td>la durée dans le reseau</td>\n",
              "      <td>duration in the network</td>\n",
              "    </tr>\n",
              "    <tr>\n",
              "      <th>3</th>\n",
              "      <td>MONTANT</td>\n",
              "      <td>montant de recharge</td>\n",
              "      <td>top-up amount</td>\n",
              "    </tr>\n",
              "    <tr>\n",
              "      <th>4</th>\n",
              "      <td>FREQUENCE_RECH</td>\n",
              "      <td>nombre de fois que le client a fait une recharge</td>\n",
              "      <td>number of times the customer refilled</td>\n",
              "    </tr>\n",
              "    <tr>\n",
              "      <th>5</th>\n",
              "      <td>REVENUE</td>\n",
              "      <td>revenu mensuel de chaque client</td>\n",
              "      <td>monthly income of each client</td>\n",
              "    </tr>\n",
              "    <tr>\n",
              "      <th>6</th>\n",
              "      <td>ARPU_SEGMENT</td>\n",
              "      <td>revenu sur 90 jours/3</td>\n",
              "      <td>income over 90 days / 3</td>\n",
              "    </tr>\n",
              "    <tr>\n",
              "      <th>7</th>\n",
              "      <td>FREQUENCE</td>\n",
              "      <td>nombre de fois que client à fait un revenu</td>\n",
              "      <td>number of times the client has made an income</td>\n",
              "    </tr>\n",
              "    <tr>\n",
              "      <th>8</th>\n",
              "      <td>DATA_VOLUME</td>\n",
              "      <td>nombre de connexions</td>\n",
              "      <td>number of connections</td>\n",
              "    </tr>\n",
              "    <tr>\n",
              "      <th>9</th>\n",
              "      <td>ON_NET</td>\n",
              "      <td>appel inter expresso</td>\n",
              "      <td>inter expresso call</td>\n",
              "    </tr>\n",
              "    <tr>\n",
              "      <th>10</th>\n",
              "      <td>ORANGE</td>\n",
              "      <td>appel vers orange</td>\n",
              "      <td>call to orange</td>\n",
              "    </tr>\n",
              "    <tr>\n",
              "      <th>11</th>\n",
              "      <td>TIGO</td>\n",
              "      <td>appel vers Tigo</td>\n",
              "      <td>call to Tigo</td>\n",
              "    </tr>\n",
              "    <tr>\n",
              "      <th>12</th>\n",
              "      <td>ZONE1</td>\n",
              "      <td>appel vers les zone1</td>\n",
              "      <td>call to zones1</td>\n",
              "    </tr>\n",
              "    <tr>\n",
              "      <th>13</th>\n",
              "      <td>ZONE2</td>\n",
              "      <td>appel vers les zone2</td>\n",
              "      <td>call to zones2</td>\n",
              "    </tr>\n",
              "    <tr>\n",
              "      <th>14</th>\n",
              "      <td>MRG</td>\n",
              "      <td>un client qui fait du vas</td>\n",
              "      <td>a client who is going</td>\n",
              "    </tr>\n",
              "    <tr>\n",
              "      <th>15</th>\n",
              "      <td>REGULARITY</td>\n",
              "      <td>nombre de fois que le client est actif pendant...</td>\n",
              "      <td>number of times the client is active for 90 days</td>\n",
              "    </tr>\n",
              "    <tr>\n",
              "      <th>16</th>\n",
              "      <td>TOP_PACK</td>\n",
              "      <td>les pack les plus activés</td>\n",
              "      <td>the most active packs</td>\n",
              "    </tr>\n",
              "    <tr>\n",
              "      <th>17</th>\n",
              "      <td>FREQ_TOP_PACK</td>\n",
              "      <td>nombre de fois que le client a activé les pack...</td>\n",
              "      <td>number of times the client has activated the t...</td>\n",
              "    </tr>\n",
              "    <tr>\n",
              "      <th>18</th>\n",
              "      <td>CHURN</td>\n",
              "      <td>variable à predire - Target</td>\n",
              "      <td>variable to predict - Target</td>\n",
              "    </tr>\n",
              "  </tbody>\n",
              "</table>\n",
              "</div>"
            ],
            "text/plain": [
              "        Unnamed: 0  ... The churn dataset includes 19 variables including 15 numeric variables and 04 categorical variables.\n",
              "0          user_id  ...                                                NaN                                                  \n",
              "1           REGION  ...                        the location of each client                                                  \n",
              "2           TENURE  ...                            duration in the network                                                  \n",
              "3          MONTANT  ...                                      top-up amount                                                  \n",
              "4   FREQUENCE_RECH  ...              number of times the customer refilled                                                  \n",
              "5          REVENUE  ...                      monthly income of each client                                                  \n",
              "6     ARPU_SEGMENT  ...                            income over 90 days / 3                                                  \n",
              "7        FREQUENCE  ...      number of times the client has made an income                                                  \n",
              "8      DATA_VOLUME  ...                              number of connections                                                  \n",
              "9           ON_NET  ...                                inter expresso call                                                  \n",
              "10          ORANGE  ...                                     call to orange                                                  \n",
              "11            TIGO  ...                                       call to Tigo                                                  \n",
              "12           ZONE1  ...                                     call to zones1                                                  \n",
              "13           ZONE2  ...                                     call to zones2                                                  \n",
              "14             MRG  ...                              a client who is going                                                  \n",
              "15      REGULARITY  ...   number of times the client is active for 90 days                                                  \n",
              "16        TOP_PACK  ...                              the most active packs                                                  \n",
              "17   FREQ_TOP_PACK  ...  number of times the client has activated the t...                                                  \n",
              "18           CHURN  ...                       variable to predict - Target                                                  \n",
              "\n",
              "[19 rows x 3 columns]"
            ]
          },
          "metadata": {
            "tags": []
          },
          "execution_count": 17
        }
      ]
    },
    {
      "cell_type": "code",
      "metadata": {
        "id": "Kpec6XGXPVyp",
        "colab_type": "code",
        "colab": {
          "base_uri": "https://localhost:8080/",
          "height": 469
        },
        "outputId": "23a53284-75bf-480a-efd5-8e029f7ae369"
      },
      "source": [
        "train.info() "
      ],
      "execution_count": 18,
      "outputs": [
        {
          "output_type": "stream",
          "text": [
            "<class 'pandas.core.frame.DataFrame'>\n",
            "RangeIndex: 646214 entries, 0 to 646213\n",
            "Data columns (total 19 columns):\n",
            " #   Column          Non-Null Count   Dtype  \n",
            "---  ------          --------------   -----  \n",
            " 0   user_id         646214 non-null  object \n",
            " 1   REGION          391246 non-null  object \n",
            " 2   TENURE          646214 non-null  object \n",
            " 3   MONTANT         419154 non-null  float64\n",
            " 4   FREQUENCE_RECH  419154 non-null  float64\n",
            " 5   REVENUE         428459 non-null  float64\n",
            " 6   ARPU_SEGMENT    428459 non-null  float64\n",
            " 7   FREQUENCE       428459 non-null  float64\n",
            " 8   DATA_VOLUME     327544 non-null  float64\n",
            " 9   ON_NET          409962 non-null  float64\n",
            " 10  ORANGE          377516 non-null  float64\n",
            " 11  TIGO            259060 non-null  float64\n",
            " 12  ZONE1           50406 non-null   float64\n",
            " 13  ZONE2           41072 non-null   float64\n",
            " 14  MRG             646214 non-null  object \n",
            " 15  REGULARITY      646214 non-null  int64  \n",
            " 16  TOP_PACK        375331 non-null  object \n",
            " 17  FREQ_TOP_PACK   375331 non-null  float64\n",
            " 18  CHURN           646214 non-null  int64  \n",
            "dtypes: float64(12), int64(2), object(5)\n",
            "memory usage: 93.7+ MB\n"
          ],
          "name": "stdout"
        }
      ]
    },
    {
      "cell_type": "code",
      "metadata": {
        "id": "5gw8z5ta5qFy",
        "colab_type": "code",
        "colab": {
          "base_uri": "https://localhost:8080/",
          "height": 313
        },
        "outputId": "9e0eef64-0e42-432a-f366-36a6d8a4c5fb"
      },
      "source": [
        "# train.drop(columns=['REGION', 'TOP_PACK', 'MRG'], inplace=True) \n",
        "train #s= train.sample(frac=.3, random_state=123) \n",
        "train.head() "
      ],
      "execution_count": 19,
      "outputs": [
        {
          "output_type": "execute_result",
          "data": {
            "text/html": [
              "<div>\n",
              "<style scoped>\n",
              "    .dataframe tbody tr th:only-of-type {\n",
              "        vertical-align: middle;\n",
              "    }\n",
              "\n",
              "    .dataframe tbody tr th {\n",
              "        vertical-align: top;\n",
              "    }\n",
              "\n",
              "    .dataframe thead th {\n",
              "        text-align: right;\n",
              "    }\n",
              "</style>\n",
              "<table border=\"1\" class=\"dataframe\">\n",
              "  <thead>\n",
              "    <tr style=\"text-align: right;\">\n",
              "      <th></th>\n",
              "      <th>user_id</th>\n",
              "      <th>REGION</th>\n",
              "      <th>TENURE</th>\n",
              "      <th>MONTANT</th>\n",
              "      <th>FREQUENCE_RECH</th>\n",
              "      <th>REVENUE</th>\n",
              "      <th>ARPU_SEGMENT</th>\n",
              "      <th>FREQUENCE</th>\n",
              "      <th>DATA_VOLUME</th>\n",
              "      <th>ON_NET</th>\n",
              "      <th>ORANGE</th>\n",
              "      <th>TIGO</th>\n",
              "      <th>ZONE1</th>\n",
              "      <th>ZONE2</th>\n",
              "      <th>MRG</th>\n",
              "      <th>REGULARITY</th>\n",
              "      <th>TOP_PACK</th>\n",
              "      <th>FREQ_TOP_PACK</th>\n",
              "      <th>CHURN</th>\n",
              "    </tr>\n",
              "  </thead>\n",
              "  <tbody>\n",
              "    <tr>\n",
              "      <th>0</th>\n",
              "      <td>51d5367a58953904c14238c4dd7393f5c4fd0a88</td>\n",
              "      <td>MATAM</td>\n",
              "      <td>K &gt; 24 month</td>\n",
              "      <td>1000.0</td>\n",
              "      <td>1.0</td>\n",
              "      <td>990.0</td>\n",
              "      <td>330.0</td>\n",
              "      <td>1.0</td>\n",
              "      <td>97.0</td>\n",
              "      <td>1.0</td>\n",
              "      <td>NaN</td>\n",
              "      <td>NaN</td>\n",
              "      <td>NaN</td>\n",
              "      <td>NaN</td>\n",
              "      <td>NO</td>\n",
              "      <td>22</td>\n",
              "      <td>Data:1000F=2GB,30d</td>\n",
              "      <td>1.0</td>\n",
              "      <td>0</td>\n",
              "    </tr>\n",
              "    <tr>\n",
              "      <th>1</th>\n",
              "      <td>3322a4900689f7f3cb14b8f9ea00778853f02d75</td>\n",
              "      <td>DIOURBEL</td>\n",
              "      <td>K &gt; 24 month</td>\n",
              "      <td>NaN</td>\n",
              "      <td>NaN</td>\n",
              "      <td>NaN</td>\n",
              "      <td>NaN</td>\n",
              "      <td>NaN</td>\n",
              "      <td>223.0</td>\n",
              "      <td>NaN</td>\n",
              "      <td>NaN</td>\n",
              "      <td>NaN</td>\n",
              "      <td>NaN</td>\n",
              "      <td>NaN</td>\n",
              "      <td>NO</td>\n",
              "      <td>4</td>\n",
              "      <td>NaN</td>\n",
              "      <td>NaN</td>\n",
              "      <td>0</td>\n",
              "    </tr>\n",
              "    <tr>\n",
              "      <th>2</th>\n",
              "      <td>3b00ec4bfcc855c6f39b14a722e47ec6d15607e7</td>\n",
              "      <td>DAKAR</td>\n",
              "      <td>K &gt; 24 month</td>\n",
              "      <td>700.0</td>\n",
              "      <td>5.0</td>\n",
              "      <td>1010.0</td>\n",
              "      <td>337.0</td>\n",
              "      <td>7.0</td>\n",
              "      <td>566.0</td>\n",
              "      <td>1.0</td>\n",
              "      <td>3.0</td>\n",
              "      <td>15.0</td>\n",
              "      <td>0.0</td>\n",
              "      <td>NaN</td>\n",
              "      <td>NO</td>\n",
              "      <td>8</td>\n",
              "      <td>Data: 100 F=40MB,24H</td>\n",
              "      <td>3.0</td>\n",
              "      <td>0</td>\n",
              "    </tr>\n",
              "    <tr>\n",
              "      <th>3</th>\n",
              "      <td>98c44b62c33c6a1d9dbcf5e918868419f249c4a8</td>\n",
              "      <td>LOUGA</td>\n",
              "      <td>K &gt; 24 month</td>\n",
              "      <td>NaN</td>\n",
              "      <td>NaN</td>\n",
              "      <td>NaN</td>\n",
              "      <td>NaN</td>\n",
              "      <td>NaN</td>\n",
              "      <td>NaN</td>\n",
              "      <td>NaN</td>\n",
              "      <td>NaN</td>\n",
              "      <td>NaN</td>\n",
              "      <td>NaN</td>\n",
              "      <td>NaN</td>\n",
              "      <td>NO</td>\n",
              "      <td>3</td>\n",
              "      <td>NaN</td>\n",
              "      <td>NaN</td>\n",
              "      <td>0</td>\n",
              "    </tr>\n",
              "    <tr>\n",
              "      <th>4</th>\n",
              "      <td>18bd8c41ecb503a2d9137e3f70bc1caf146a266d</td>\n",
              "      <td>NaN</td>\n",
              "      <td>K &gt; 24 month</td>\n",
              "      <td>3000.0</td>\n",
              "      <td>3.0</td>\n",
              "      <td>2995.0</td>\n",
              "      <td>998.0</td>\n",
              "      <td>3.0</td>\n",
              "      <td>NaN</td>\n",
              "      <td>NaN</td>\n",
              "      <td>33.0</td>\n",
              "      <td>NaN</td>\n",
              "      <td>NaN</td>\n",
              "      <td>NaN</td>\n",
              "      <td>NO</td>\n",
              "      <td>9</td>\n",
              "      <td>NaN</td>\n",
              "      <td>NaN</td>\n",
              "      <td>0</td>\n",
              "    </tr>\n",
              "  </tbody>\n",
              "</table>\n",
              "</div>"
            ],
            "text/plain": [
              "                                    user_id    REGION  ... FREQ_TOP_PACK  CHURN\n",
              "0  51d5367a58953904c14238c4dd7393f5c4fd0a88     MATAM  ...           1.0      0\n",
              "1  3322a4900689f7f3cb14b8f9ea00778853f02d75  DIOURBEL  ...           NaN      0\n",
              "2  3b00ec4bfcc855c6f39b14a722e47ec6d15607e7     DAKAR  ...           3.0      0\n",
              "3  98c44b62c33c6a1d9dbcf5e918868419f249c4a8     LOUGA  ...           NaN      0\n",
              "4  18bd8c41ecb503a2d9137e3f70bc1caf146a266d       NaN  ...           NaN      0\n",
              "\n",
              "[5 rows x 19 columns]"
            ]
          },
          "metadata": {
            "tags": []
          },
          "execution_count": 19
        }
      ]
    },
    {
      "cell_type": "code",
      "metadata": {
        "id": "012f_WXe5qF6",
        "colab_type": "code",
        "colab": {
          "base_uri": "https://localhost:8080/",
          "height": 313
        },
        "outputId": "6cd3eda8-397d-40d2-89bf-308a689104f2"
      },
      "source": [
        "train.tail()"
      ],
      "execution_count": 20,
      "outputs": [
        {
          "output_type": "execute_result",
          "data": {
            "text/html": [
              "<div>\n",
              "<style scoped>\n",
              "    .dataframe tbody tr th:only-of-type {\n",
              "        vertical-align: middle;\n",
              "    }\n",
              "\n",
              "    .dataframe tbody tr th {\n",
              "        vertical-align: top;\n",
              "    }\n",
              "\n",
              "    .dataframe thead th {\n",
              "        text-align: right;\n",
              "    }\n",
              "</style>\n",
              "<table border=\"1\" class=\"dataframe\">\n",
              "  <thead>\n",
              "    <tr style=\"text-align: right;\">\n",
              "      <th></th>\n",
              "      <th>user_id</th>\n",
              "      <th>REGION</th>\n",
              "      <th>TENURE</th>\n",
              "      <th>MONTANT</th>\n",
              "      <th>FREQUENCE_RECH</th>\n",
              "      <th>REVENUE</th>\n",
              "      <th>ARPU_SEGMENT</th>\n",
              "      <th>FREQUENCE</th>\n",
              "      <th>DATA_VOLUME</th>\n",
              "      <th>ON_NET</th>\n",
              "      <th>ORANGE</th>\n",
              "      <th>TIGO</th>\n",
              "      <th>ZONE1</th>\n",
              "      <th>ZONE2</th>\n",
              "      <th>MRG</th>\n",
              "      <th>REGULARITY</th>\n",
              "      <th>TOP_PACK</th>\n",
              "      <th>FREQ_TOP_PACK</th>\n",
              "      <th>CHURN</th>\n",
              "    </tr>\n",
              "  </thead>\n",
              "  <tbody>\n",
              "    <tr>\n",
              "      <th>646209</th>\n",
              "      <td>1c778c81cdcc43cb410db142935d1483367c24aa</td>\n",
              "      <td>KAOLACK</td>\n",
              "      <td>K &gt; 24 month</td>\n",
              "      <td>NaN</td>\n",
              "      <td>NaN</td>\n",
              "      <td>NaN</td>\n",
              "      <td>NaN</td>\n",
              "      <td>NaN</td>\n",
              "      <td>NaN</td>\n",
              "      <td>NaN</td>\n",
              "      <td>NaN</td>\n",
              "      <td>NaN</td>\n",
              "      <td>NaN</td>\n",
              "      <td>NaN</td>\n",
              "      <td>NO</td>\n",
              "      <td>1</td>\n",
              "      <td>NaN</td>\n",
              "      <td>NaN</td>\n",
              "      <td>0</td>\n",
              "    </tr>\n",
              "    <tr>\n",
              "      <th>646210</th>\n",
              "      <td>e13ff861de0ffd7a51084963634ccd027597511c</td>\n",
              "      <td>SAINT-LOUIS</td>\n",
              "      <td>K &gt; 24 month</td>\n",
              "      <td>1500.0</td>\n",
              "      <td>3.0</td>\n",
              "      <td>1500.0</td>\n",
              "      <td>500.0</td>\n",
              "      <td>3.0</td>\n",
              "      <td>NaN</td>\n",
              "      <td>28.0</td>\n",
              "      <td>53.0</td>\n",
              "      <td>NaN</td>\n",
              "      <td>NaN</td>\n",
              "      <td>NaN</td>\n",
              "      <td>NO</td>\n",
              "      <td>32</td>\n",
              "      <td>MIXT:500F= 2500F on net _2500F off net;2d</td>\n",
              "      <td>2.0</td>\n",
              "      <td>0</td>\n",
              "    </tr>\n",
              "    <tr>\n",
              "      <th>646211</th>\n",
              "      <td>03ec81dadb13af0876d579a24a033ab27e7e2913</td>\n",
              "      <td>THIES</td>\n",
              "      <td>K &gt; 24 month</td>\n",
              "      <td>13000.0</td>\n",
              "      <td>26.0</td>\n",
              "      <td>14000.0</td>\n",
              "      <td>4667.0</td>\n",
              "      <td>26.0</td>\n",
              "      <td>NaN</td>\n",
              "      <td>2973.0</td>\n",
              "      <td>183.0</td>\n",
              "      <td>50.0</td>\n",
              "      <td>NaN</td>\n",
              "      <td>NaN</td>\n",
              "      <td>NO</td>\n",
              "      <td>58</td>\n",
              "      <td>On-net 500F_FNF;3d</td>\n",
              "      <td>15.0</td>\n",
              "      <td>0</td>\n",
              "    </tr>\n",
              "    <tr>\n",
              "      <th>646212</th>\n",
              "      <td>c265e207e32f0573881ddcfa312022ee33372d4b</td>\n",
              "      <td>NaN</td>\n",
              "      <td>K &gt; 24 month</td>\n",
              "      <td>3100.0</td>\n",
              "      <td>4.0</td>\n",
              "      <td>3033.0</td>\n",
              "      <td>1011.0</td>\n",
              "      <td>4.0</td>\n",
              "      <td>12905.0</td>\n",
              "      <td>NaN</td>\n",
              "      <td>0.0</td>\n",
              "      <td>NaN</td>\n",
              "      <td>NaN</td>\n",
              "      <td>NaN</td>\n",
              "      <td>NO</td>\n",
              "      <td>24</td>\n",
              "      <td>Data:1000F=5GB,7d</td>\n",
              "      <td>3.0</td>\n",
              "      <td>0</td>\n",
              "    </tr>\n",
              "    <tr>\n",
              "      <th>646213</th>\n",
              "      <td>3fab267c587943cd2afedf8066b6a4b698220421</td>\n",
              "      <td>KOLDA</td>\n",
              "      <td>K &gt; 24 month</td>\n",
              "      <td>6500.0</td>\n",
              "      <td>12.0</td>\n",
              "      <td>6500.0</td>\n",
              "      <td>2167.0</td>\n",
              "      <td>11.0</td>\n",
              "      <td>NaN</td>\n",
              "      <td>49.0</td>\n",
              "      <td>220.0</td>\n",
              "      <td>NaN</td>\n",
              "      <td>NaN</td>\n",
              "      <td>NaN</td>\n",
              "      <td>NO</td>\n",
              "      <td>57</td>\n",
              "      <td>All-net 500F =2000F_AllNet_Unlimited</td>\n",
              "      <td>13.0</td>\n",
              "      <td>0</td>\n",
              "    </tr>\n",
              "  </tbody>\n",
              "</table>\n",
              "</div>"
            ],
            "text/plain": [
              "                                         user_id  ... CHURN\n",
              "646209  1c778c81cdcc43cb410db142935d1483367c24aa  ...     0\n",
              "646210  e13ff861de0ffd7a51084963634ccd027597511c  ...     0\n",
              "646211  03ec81dadb13af0876d579a24a033ab27e7e2913  ...     0\n",
              "646212  c265e207e32f0573881ddcfa312022ee33372d4b  ...     0\n",
              "646213  3fab267c587943cd2afedf8066b6a4b698220421  ...     0\n",
              "\n",
              "[5 rows x 19 columns]"
            ]
          },
          "metadata": {
            "tags": []
          },
          "execution_count": 20
        }
      ]
    },
    {
      "cell_type": "code",
      "metadata": {
        "id": "nhT-Bi-P5qGC",
        "colab_type": "code",
        "colab": {
          "base_uri": "https://localhost:8080/",
          "height": 34
        },
        "outputId": "6bc41433-6946-4e75-a5ef-14bb5d9bb3e0"
      },
      "source": [
        "train.shape"
      ],
      "execution_count": 21,
      "outputs": [
        {
          "output_type": "execute_result",
          "data": {
            "text/plain": [
              "(646214, 19)"
            ]
          },
          "metadata": {
            "tags": []
          },
          "execution_count": 21
        }
      ]
    },
    {
      "cell_type": "code",
      "metadata": {
        "id": "24uxEMRb5qGK",
        "colab_type": "code",
        "colab": {
          "base_uri": "https://localhost:8080/",
          "height": 469
        },
        "outputId": "1c8079ef-45af-4c5f-9dad-aacc60407d82"
      },
      "source": [
        "#view the data types in the train data\n",
        "train.info()"
      ],
      "execution_count": 22,
      "outputs": [
        {
          "output_type": "stream",
          "text": [
            "<class 'pandas.core.frame.DataFrame'>\n",
            "RangeIndex: 646214 entries, 0 to 646213\n",
            "Data columns (total 19 columns):\n",
            " #   Column          Non-Null Count   Dtype  \n",
            "---  ------          --------------   -----  \n",
            " 0   user_id         646214 non-null  object \n",
            " 1   REGION          391246 non-null  object \n",
            " 2   TENURE          646214 non-null  object \n",
            " 3   MONTANT         419154 non-null  float64\n",
            " 4   FREQUENCE_RECH  419154 non-null  float64\n",
            " 5   REVENUE         428459 non-null  float64\n",
            " 6   ARPU_SEGMENT    428459 non-null  float64\n",
            " 7   FREQUENCE       428459 non-null  float64\n",
            " 8   DATA_VOLUME     327544 non-null  float64\n",
            " 9   ON_NET          409962 non-null  float64\n",
            " 10  ORANGE          377516 non-null  float64\n",
            " 11  TIGO            259060 non-null  float64\n",
            " 12  ZONE1           50406 non-null   float64\n",
            " 13  ZONE2           41072 non-null   float64\n",
            " 14  MRG             646214 non-null  object \n",
            " 15  REGULARITY      646214 non-null  int64  \n",
            " 16  TOP_PACK        375331 non-null  object \n",
            " 17  FREQ_TOP_PACK   375331 non-null  float64\n",
            " 18  CHURN           646214 non-null  int64  \n",
            "dtypes: float64(12), int64(2), object(5)\n",
            "memory usage: 93.7+ MB\n"
          ],
          "name": "stdout"
        }
      ]
    },
    {
      "cell_type": "code",
      "metadata": {
        "id": "4Semj3JpPbYi",
        "colab_type": "code",
        "colab": {
          "base_uri": "https://localhost:8080/",
          "height": 451
        },
        "outputId": "97fe09d4-f4d6-4299-ea54-e266ea5ba0d0"
      },
      "source": [
        "test.info()"
      ],
      "execution_count": 23,
      "outputs": [
        {
          "output_type": "stream",
          "text": [
            "<class 'pandas.core.frame.DataFrame'>\n",
            "RangeIndex: 114038 entries, 0 to 114037\n",
            "Data columns (total 18 columns):\n",
            " #   Column          Non-Null Count   Dtype  \n",
            "---  ------          --------------   -----  \n",
            " 0   user_id         114038 non-null  object \n",
            " 1   REGION          69081 non-null   object \n",
            " 2   TENURE          114038 non-null  object \n",
            " 3   MONTANT         74135 non-null   float64\n",
            " 4   FREQUENCE_RECH  74135 non-null   float64\n",
            " 5   REVENUE         75854 non-null   float64\n",
            " 6   ARPU_SEGMENT    75854 non-null   float64\n",
            " 7   FREQUENCE       75854 non-null   float64\n",
            " 8   DATA_VOLUME     58049 non-null   float64\n",
            " 9   ON_NET          72436 non-null   float64\n",
            " 10  ORANGE          66823 non-null   float64\n",
            " 11  TIGO            45908 non-null   float64\n",
            " 12  ZONE1           9011 non-null    float64\n",
            " 13  ZONE2           7217 non-null    float64\n",
            " 14  MRG             114038 non-null  object \n",
            " 15  REGULARITY      114038 non-null  int64  \n",
            " 16  TOP_PACK        66425 non-null   object \n",
            " 17  FREQ_TOP_PACK   66425 non-null   float64\n",
            "dtypes: float64(12), int64(1), object(5)\n",
            "memory usage: 15.7+ MB\n"
          ],
          "name": "stdout"
        }
      ]
    },
    {
      "cell_type": "code",
      "metadata": {
        "id": "7nPeA_Md5qGS",
        "colab_type": "code",
        "colab": {
          "base_uri": "https://localhost:8080/",
          "height": 313
        },
        "outputId": "b6917c1e-4bfb-45a4-fe19-4e4664b4ba45"
      },
      "source": [
        "# test.drop(columns=['REGION', 'TOP_PACK', 'MRG'], inplace=True) \n",
        "test #= test.sample(frac=.3, random_state=123)\n",
        "test.head()  "
      ],
      "execution_count": 24,
      "outputs": [
        {
          "output_type": "execute_result",
          "data": {
            "text/html": [
              "<div>\n",
              "<style scoped>\n",
              "    .dataframe tbody tr th:only-of-type {\n",
              "        vertical-align: middle;\n",
              "    }\n",
              "\n",
              "    .dataframe tbody tr th {\n",
              "        vertical-align: top;\n",
              "    }\n",
              "\n",
              "    .dataframe thead th {\n",
              "        text-align: right;\n",
              "    }\n",
              "</style>\n",
              "<table border=\"1\" class=\"dataframe\">\n",
              "  <thead>\n",
              "    <tr style=\"text-align: right;\">\n",
              "      <th></th>\n",
              "      <th>user_id</th>\n",
              "      <th>REGION</th>\n",
              "      <th>TENURE</th>\n",
              "      <th>MONTANT</th>\n",
              "      <th>FREQUENCE_RECH</th>\n",
              "      <th>REVENUE</th>\n",
              "      <th>ARPU_SEGMENT</th>\n",
              "      <th>FREQUENCE</th>\n",
              "      <th>DATA_VOLUME</th>\n",
              "      <th>ON_NET</th>\n",
              "      <th>ORANGE</th>\n",
              "      <th>TIGO</th>\n",
              "      <th>ZONE1</th>\n",
              "      <th>ZONE2</th>\n",
              "      <th>MRG</th>\n",
              "      <th>REGULARITY</th>\n",
              "      <th>TOP_PACK</th>\n",
              "      <th>FREQ_TOP_PACK</th>\n",
              "    </tr>\n",
              "  </thead>\n",
              "  <tbody>\n",
              "    <tr>\n",
              "      <th>0</th>\n",
              "      <td>c1b31e7cef249f2b777d934886b787a433029263</td>\n",
              "      <td>DAKAR</td>\n",
              "      <td>K &gt; 24 month</td>\n",
              "      <td>10600.0</td>\n",
              "      <td>18.0</td>\n",
              "      <td>11099.0</td>\n",
              "      <td>3700.0</td>\n",
              "      <td>22.0</td>\n",
              "      <td>4004.0</td>\n",
              "      <td>60.0</td>\n",
              "      <td>123.0</td>\n",
              "      <td>19.0</td>\n",
              "      <td>NaN</td>\n",
              "      <td>NaN</td>\n",
              "      <td>NO</td>\n",
              "      <td>61</td>\n",
              "      <td>All-net 500F=2000F;5d</td>\n",
              "      <td>9.0</td>\n",
              "    </tr>\n",
              "    <tr>\n",
              "      <th>1</th>\n",
              "      <td>c205f3aff8486b0bed1051f3bf25fe04df7f671e</td>\n",
              "      <td>KAOLACK</td>\n",
              "      <td>K &gt; 24 month</td>\n",
              "      <td>NaN</td>\n",
              "      <td>NaN</td>\n",
              "      <td>NaN</td>\n",
              "      <td>NaN</td>\n",
              "      <td>NaN</td>\n",
              "      <td>0.0</td>\n",
              "      <td>7.0</td>\n",
              "      <td>NaN</td>\n",
              "      <td>NaN</td>\n",
              "      <td>NaN</td>\n",
              "      <td>NaN</td>\n",
              "      <td>NO</td>\n",
              "      <td>6</td>\n",
              "      <td>NaN</td>\n",
              "      <td>NaN</td>\n",
              "    </tr>\n",
              "    <tr>\n",
              "      <th>2</th>\n",
              "      <td>d743faaf50bbc43e02a08a2c2f4326f6d368fb25</td>\n",
              "      <td>THIES</td>\n",
              "      <td>K &gt; 24 month</td>\n",
              "      <td>17900.0</td>\n",
              "      <td>36.0</td>\n",
              "      <td>18405.0</td>\n",
              "      <td>6135.0</td>\n",
              "      <td>44.0</td>\n",
              "      <td>0.0</td>\n",
              "      <td>446.0</td>\n",
              "      <td>50.0</td>\n",
              "      <td>28.0</td>\n",
              "      <td>2.0</td>\n",
              "      <td>NaN</td>\n",
              "      <td>NO</td>\n",
              "      <td>62</td>\n",
              "      <td>On-net 1000F=10MilF;10d</td>\n",
              "      <td>9.0</td>\n",
              "    </tr>\n",
              "    <tr>\n",
              "      <th>3</th>\n",
              "      <td>c4e45ed21d5e2f64146b95fecbbb6b24740f803c</td>\n",
              "      <td>DAKAR</td>\n",
              "      <td>K &gt; 24 month</td>\n",
              "      <td>10000.0</td>\n",
              "      <td>10.0</td>\n",
              "      <td>10001.0</td>\n",
              "      <td>3334.0</td>\n",
              "      <td>27.0</td>\n",
              "      <td>NaN</td>\n",
              "      <td>0.0</td>\n",
              "      <td>93.0</td>\n",
              "      <td>8.0</td>\n",
              "      <td>NaN</td>\n",
              "      <td>NaN</td>\n",
              "      <td>NO</td>\n",
              "      <td>45</td>\n",
              "      <td>All-net 500F=2000F;5d</td>\n",
              "      <td>12.0</td>\n",
              "    </tr>\n",
              "    <tr>\n",
              "      <th>4</th>\n",
              "      <td>96c6a822243654ae1fe5f5f887089681f806cb46</td>\n",
              "      <td>THIES</td>\n",
              "      <td>K &gt; 24 month</td>\n",
              "      <td>500.0</td>\n",
              "      <td>1.0</td>\n",
              "      <td>500.0</td>\n",
              "      <td>167.0</td>\n",
              "      <td>1.0</td>\n",
              "      <td>NaN</td>\n",
              "      <td>8.0</td>\n",
              "      <td>14.0</td>\n",
              "      <td>NaN</td>\n",
              "      <td>NaN</td>\n",
              "      <td>NaN</td>\n",
              "      <td>NO</td>\n",
              "      <td>8</td>\n",
              "      <td>All-net 500F=2000F;5d</td>\n",
              "      <td>1.0</td>\n",
              "    </tr>\n",
              "  </tbody>\n",
              "</table>\n",
              "</div>"
            ],
            "text/plain": [
              "                                    user_id  ... FREQ_TOP_PACK\n",
              "0  c1b31e7cef249f2b777d934886b787a433029263  ...           9.0\n",
              "1  c205f3aff8486b0bed1051f3bf25fe04df7f671e  ...           NaN\n",
              "2  d743faaf50bbc43e02a08a2c2f4326f6d368fb25  ...           9.0\n",
              "3  c4e45ed21d5e2f64146b95fecbbb6b24740f803c  ...          12.0\n",
              "4  96c6a822243654ae1fe5f5f887089681f806cb46  ...           1.0\n",
              "\n",
              "[5 rows x 18 columns]"
            ]
          },
          "metadata": {
            "tags": []
          },
          "execution_count": 24
        }
      ]
    },
    {
      "cell_type": "code",
      "metadata": {
        "id": "4DJt8j5R5qGc",
        "colab_type": "code",
        "colab": {
          "base_uri": "https://localhost:8080/",
          "height": 313
        },
        "outputId": "04fbfdbe-227e-48ba-efb9-0bbe71e7368f"
      },
      "source": [
        "test.tail()"
      ],
      "execution_count": 25,
      "outputs": [
        {
          "output_type": "execute_result",
          "data": {
            "text/html": [
              "<div>\n",
              "<style scoped>\n",
              "    .dataframe tbody tr th:only-of-type {\n",
              "        vertical-align: middle;\n",
              "    }\n",
              "\n",
              "    .dataframe tbody tr th {\n",
              "        vertical-align: top;\n",
              "    }\n",
              "\n",
              "    .dataframe thead th {\n",
              "        text-align: right;\n",
              "    }\n",
              "</style>\n",
              "<table border=\"1\" class=\"dataframe\">\n",
              "  <thead>\n",
              "    <tr style=\"text-align: right;\">\n",
              "      <th></th>\n",
              "      <th>user_id</th>\n",
              "      <th>REGION</th>\n",
              "      <th>TENURE</th>\n",
              "      <th>MONTANT</th>\n",
              "      <th>FREQUENCE_RECH</th>\n",
              "      <th>REVENUE</th>\n",
              "      <th>ARPU_SEGMENT</th>\n",
              "      <th>FREQUENCE</th>\n",
              "      <th>DATA_VOLUME</th>\n",
              "      <th>ON_NET</th>\n",
              "      <th>ORANGE</th>\n",
              "      <th>TIGO</th>\n",
              "      <th>ZONE1</th>\n",
              "      <th>ZONE2</th>\n",
              "      <th>MRG</th>\n",
              "      <th>REGULARITY</th>\n",
              "      <th>TOP_PACK</th>\n",
              "      <th>FREQ_TOP_PACK</th>\n",
              "    </tr>\n",
              "  </thead>\n",
              "  <tbody>\n",
              "    <tr>\n",
              "      <th>114033</th>\n",
              "      <td>5716c645907ed2fc642414ce4072eddf284ede08</td>\n",
              "      <td>NaN</td>\n",
              "      <td>K &gt; 24 month</td>\n",
              "      <td>200.0</td>\n",
              "      <td>1.0</td>\n",
              "      <td>NaN</td>\n",
              "      <td>NaN</td>\n",
              "      <td>NaN</td>\n",
              "      <td>NaN</td>\n",
              "      <td>NaN</td>\n",
              "      <td>NaN</td>\n",
              "      <td>NaN</td>\n",
              "      <td>NaN</td>\n",
              "      <td>NaN</td>\n",
              "      <td>NO</td>\n",
              "      <td>5</td>\n",
              "      <td>NaN</td>\n",
              "      <td>NaN</td>\n",
              "    </tr>\n",
              "    <tr>\n",
              "      <th>114034</th>\n",
              "      <td>473fd291ae14644a757f86a76838820c1ddf7859</td>\n",
              "      <td>NaN</td>\n",
              "      <td>K &gt; 24 month</td>\n",
              "      <td>NaN</td>\n",
              "      <td>NaN</td>\n",
              "      <td>NaN</td>\n",
              "      <td>NaN</td>\n",
              "      <td>NaN</td>\n",
              "      <td>NaN</td>\n",
              "      <td>NaN</td>\n",
              "      <td>NaN</td>\n",
              "      <td>NaN</td>\n",
              "      <td>NaN</td>\n",
              "      <td>NaN</td>\n",
              "      <td>NO</td>\n",
              "      <td>6</td>\n",
              "      <td>NaN</td>\n",
              "      <td>NaN</td>\n",
              "    </tr>\n",
              "    <tr>\n",
              "      <th>114035</th>\n",
              "      <td>e0457edfc3a4feafabe4108d89187390e85c64a9</td>\n",
              "      <td>DIOURBEL</td>\n",
              "      <td>K &gt; 24 month</td>\n",
              "      <td>2200.0</td>\n",
              "      <td>2.0</td>\n",
              "      <td>3501.0</td>\n",
              "      <td>1167.0</td>\n",
              "      <td>4.0</td>\n",
              "      <td>7110.0</td>\n",
              "      <td>1.0</td>\n",
              "      <td>NaN</td>\n",
              "      <td>16.0</td>\n",
              "      <td>NaN</td>\n",
              "      <td>NaN</td>\n",
              "      <td>NO</td>\n",
              "      <td>59</td>\n",
              "      <td>Data:1500F=SPPackage1,30d</td>\n",
              "      <td>2.0</td>\n",
              "    </tr>\n",
              "    <tr>\n",
              "      <th>114036</th>\n",
              "      <td>75f9e5ce36caef56d7c253e1cf92af68c1ece956</td>\n",
              "      <td>KAOLACK</td>\n",
              "      <td>K &gt; 24 month</td>\n",
              "      <td>9800.0</td>\n",
              "      <td>21.0</td>\n",
              "      <td>9879.0</td>\n",
              "      <td>3293.0</td>\n",
              "      <td>21.0</td>\n",
              "      <td>18651.0</td>\n",
              "      <td>37.0</td>\n",
              "      <td>0.0</td>\n",
              "      <td>NaN</td>\n",
              "      <td>NaN</td>\n",
              "      <td>NaN</td>\n",
              "      <td>NO</td>\n",
              "      <td>61</td>\n",
              "      <td>Data:490F=1GB,7d</td>\n",
              "      <td>15.0</td>\n",
              "    </tr>\n",
              "    <tr>\n",
              "      <th>114037</th>\n",
              "      <td>42e019de7bc1ae30bc617df9e2c1b8869c2420e6</td>\n",
              "      <td>NaN</td>\n",
              "      <td>K &gt; 24 month</td>\n",
              "      <td>NaN</td>\n",
              "      <td>NaN</td>\n",
              "      <td>NaN</td>\n",
              "      <td>NaN</td>\n",
              "      <td>NaN</td>\n",
              "      <td>NaN</td>\n",
              "      <td>NaN</td>\n",
              "      <td>NaN</td>\n",
              "      <td>NaN</td>\n",
              "      <td>NaN</td>\n",
              "      <td>NaN</td>\n",
              "      <td>NO</td>\n",
              "      <td>1</td>\n",
              "      <td>NaN</td>\n",
              "      <td>NaN</td>\n",
              "    </tr>\n",
              "  </tbody>\n",
              "</table>\n",
              "</div>"
            ],
            "text/plain": [
              "                                         user_id  ... FREQ_TOP_PACK\n",
              "114033  5716c645907ed2fc642414ce4072eddf284ede08  ...           NaN\n",
              "114034  473fd291ae14644a757f86a76838820c1ddf7859  ...           NaN\n",
              "114035  e0457edfc3a4feafabe4108d89187390e85c64a9  ...           2.0\n",
              "114036  75f9e5ce36caef56d7c253e1cf92af68c1ece956  ...          15.0\n",
              "114037  42e019de7bc1ae30bc617df9e2c1b8869c2420e6  ...           NaN\n",
              "\n",
              "[5 rows x 18 columns]"
            ]
          },
          "metadata": {
            "tags": []
          },
          "execution_count": 25
        }
      ]
    },
    {
      "cell_type": "code",
      "metadata": {
        "id": "6aoTo41-5qGk",
        "colab_type": "code",
        "colab": {
          "base_uri": "https://localhost:8080/",
          "height": 34
        },
        "outputId": "0fdec6b8-5b30-448d-893f-491e35382854"
      },
      "source": [
        "test.shape "
      ],
      "execution_count": 26,
      "outputs": [
        {
          "output_type": "execute_result",
          "data": {
            "text/plain": [
              "(114038, 18)"
            ]
          },
          "metadata": {
            "tags": []
          },
          "execution_count": 26
        }
      ]
    },
    {
      "cell_type": "code",
      "metadata": {
        "id": "8QEAo6EW5qGs",
        "colab_type": "code",
        "colab": {
          "base_uri": "https://localhost:8080/",
          "height": 451
        },
        "outputId": "2bcb723f-2c83-4e2b-d3c6-ddd7aa823572"
      },
      "source": [
        "test.info()"
      ],
      "execution_count": 27,
      "outputs": [
        {
          "output_type": "stream",
          "text": [
            "<class 'pandas.core.frame.DataFrame'>\n",
            "RangeIndex: 114038 entries, 0 to 114037\n",
            "Data columns (total 18 columns):\n",
            " #   Column          Non-Null Count   Dtype  \n",
            "---  ------          --------------   -----  \n",
            " 0   user_id         114038 non-null  object \n",
            " 1   REGION          69081 non-null   object \n",
            " 2   TENURE          114038 non-null  object \n",
            " 3   MONTANT         74135 non-null   float64\n",
            " 4   FREQUENCE_RECH  74135 non-null   float64\n",
            " 5   REVENUE         75854 non-null   float64\n",
            " 6   ARPU_SEGMENT    75854 non-null   float64\n",
            " 7   FREQUENCE       75854 non-null   float64\n",
            " 8   DATA_VOLUME     58049 non-null   float64\n",
            " 9   ON_NET          72436 non-null   float64\n",
            " 10  ORANGE          66823 non-null   float64\n",
            " 11  TIGO            45908 non-null   float64\n",
            " 12  ZONE1           9011 non-null    float64\n",
            " 13  ZONE2           7217 non-null    float64\n",
            " 14  MRG             114038 non-null  object \n",
            " 15  REGULARITY      114038 non-null  int64  \n",
            " 16  TOP_PACK        66425 non-null   object \n",
            " 17  FREQ_TOP_PACK   66425 non-null   float64\n",
            "dtypes: float64(12), int64(1), object(5)\n",
            "memory usage: 15.7+ MB\n"
          ],
          "name": "stdout"
        }
      ]
    },
    {
      "cell_type": "code",
      "metadata": {
        "id": "XOk0CzZ45qG0",
        "colab_type": "code",
        "colab": {
          "base_uri": "https://localhost:8080/",
          "height": 206
        },
        "outputId": "7a60716e-0dc2-4542-c434-bb87801fd072"
      },
      "source": [
        "submission.head()"
      ],
      "execution_count": 28,
      "outputs": [
        {
          "output_type": "execute_result",
          "data": {
            "text/html": [
              "<div>\n",
              "<style scoped>\n",
              "    .dataframe tbody tr th:only-of-type {\n",
              "        vertical-align: middle;\n",
              "    }\n",
              "\n",
              "    .dataframe tbody tr th {\n",
              "        vertical-align: top;\n",
              "    }\n",
              "\n",
              "    .dataframe thead th {\n",
              "        text-align: right;\n",
              "    }\n",
              "</style>\n",
              "<table border=\"1\" class=\"dataframe\">\n",
              "  <thead>\n",
              "    <tr style=\"text-align: right;\">\n",
              "      <th></th>\n",
              "      <th>user_id</th>\n",
              "      <th>CHURN</th>\n",
              "    </tr>\n",
              "  </thead>\n",
              "  <tbody>\n",
              "    <tr>\n",
              "      <th>0</th>\n",
              "      <td>c1b31e7cef249f2b777d934886b787a433029263</td>\n",
              "      <td>0</td>\n",
              "    </tr>\n",
              "    <tr>\n",
              "      <th>1</th>\n",
              "      <td>c205f3aff8486b0bed1051f3bf25fe04df7f671e</td>\n",
              "      <td>0</td>\n",
              "    </tr>\n",
              "    <tr>\n",
              "      <th>2</th>\n",
              "      <td>d743faaf50bbc43e02a08a2c2f4326f6d368fb25</td>\n",
              "      <td>0</td>\n",
              "    </tr>\n",
              "    <tr>\n",
              "      <th>3</th>\n",
              "      <td>c4e45ed21d5e2f64146b95fecbbb6b24740f803c</td>\n",
              "      <td>0</td>\n",
              "    </tr>\n",
              "    <tr>\n",
              "      <th>4</th>\n",
              "      <td>96c6a822243654ae1fe5f5f887089681f806cb46</td>\n",
              "      <td>0</td>\n",
              "    </tr>\n",
              "  </tbody>\n",
              "</table>\n",
              "</div>"
            ],
            "text/plain": [
              "                                    user_id  CHURN\n",
              "0  c1b31e7cef249f2b777d934886b787a433029263      0\n",
              "1  c205f3aff8486b0bed1051f3bf25fe04df7f671e      0\n",
              "2  d743faaf50bbc43e02a08a2c2f4326f6d368fb25      0\n",
              "3  c4e45ed21d5e2f64146b95fecbbb6b24740f803c      0\n",
              "4  96c6a822243654ae1fe5f5f887089681f806cb46      0"
            ]
          },
          "metadata": {
            "tags": []
          },
          "execution_count": 28
        }
      ]
    },
    {
      "cell_type": "code",
      "metadata": {
        "id": "xUjYKNuJ5qG9",
        "colab_type": "code",
        "colab": {
          "base_uri": "https://localhost:8080/",
          "height": 34
        },
        "outputId": "04674a7e-dcdb-46bf-85a3-2f5b09580ee6"
      },
      "source": [
        "submission.shape"
      ],
      "execution_count": 29,
      "outputs": [
        {
          "output_type": "execute_result",
          "data": {
            "text/plain": [
              "(114038, 2)"
            ]
          },
          "metadata": {
            "tags": []
          },
          "execution_count": 29
        }
      ]
    },
    {
      "cell_type": "markdown",
      "metadata": {
        "id": "V30H_oJb5qHC",
        "colab_type": "text"
      },
      "source": [
        "#### Data Wrangling"
      ]
    },
    {
      "cell_type": "markdown",
      "metadata": {
        "id": "5atQt59vpY2n",
        "colab_type": "text"
      },
      "source": [
        "> calculate number of levels in columns"
      ]
    },
    {
      "cell_type": "code",
      "metadata": {
        "id": "4Kfd8XQQ5qHT",
        "colab_type": "code",
        "colab": {
          "base_uri": "https://localhost:8080/",
          "height": 1000
        },
        "outputId": "ec12f68a-f328-4c74-c1c2-171e08070d81"
      },
      "source": [
        "check_levels(train, exclude_cols=['user_id']) "
      ],
      "execution_count": 30,
      "outputs": [
        {
          "output_type": "stream",
          "text": [
            "*-**-**-**-**-**-**-**-**-**-* \n",
            "\n",
            "DAKAR          154267\n",
            "THIES           53902\n",
            "SAINT-LOUIS     35882\n",
            "LOUGA           29629\n",
            "KAOLACK         29057\n",
            "DIOURBEL        20083\n",
            "TAMBACOUNDA     16449\n",
            "KAFFRINE        13113\n",
            "KOLDA           11511\n",
            "FATICK          10676\n",
            "MATAM            8755\n",
            "ZIGUINCHOR       6664\n",
            "SEDHIOU           972\n",
            "KEDOUGOU          286\n",
            "Name: REGION, dtype: int64\n",
            "*-**-**-**-**-**-**-**-**-**-* \n",
            "\n",
            "*-**-**-**-**-**-**-**-**-**-* \n",
            "\n",
            "K > 24 month     613231\n",
            "I 18-21 month     13412\n",
            "H 15-18 month      7753\n",
            "G 12-15 month      4372\n",
            "J 21-24 month      3875\n",
            "F 9-12 month       2805\n",
            "E 6-9 month         557\n",
            "D 3-6 month         209\n",
            "Name: TENURE, dtype: int64\n",
            "*-**-**-**-**-**-**-**-**-**-* \n",
            "\n",
            "*-**-**-**-**-**-**-**-**-**-* \n",
            "\n",
            "NO    646214\n",
            "Name: MRG, dtype: int64\n",
            "*-**-**-**-**-**-**-**-**-**-* \n",
            "\n",
            "*-**-**-**-**-**-**-**-**-**-* \n",
            "\n",
            "All-net 500F=2000F;5d             95425\n",
            "On net 200F=Unlimited _call24H    45713\n",
            "Data:490F=1GB,7d                  34513\n",
            "Data: 100 F=40MB,24H              25538\n",
            "Mixt 250F=Unlimited_call24H       20033\n",
            "                                  ...  \n",
            "CVM_On-net 400f=2200F                 1\n",
            "CVM_150F_unlimited                    1\n",
            "ESN_POSTPAID_CLASSIC_RENT             1\n",
            "EVC_JOKKO30                           1\n",
            "Data_Mifi_10Go_Monthly                1\n",
            "Name: TOP_PACK, Length: 119, dtype: int64\n",
            "*-**-**-**-**-**-**-**-**-**-* \n",
            "\n"
          ],
          "name": "stdout"
        },
        {
          "output_type": "display_data",
          "data": {
            "image/png": "[encoded data removed]",
            "text/plain": [
              "<Figure size 720x360 with 1 Axes>"
            ]
          },
          "metadata": {
            "tags": [],
            "needs_background": "light"
          }
        },
        {
          "output_type": "display_data",
          "data": {
            "image/png": "[encoded data removed]",
            "text/plain": [
              "<Figure size 720x360 with 1 Axes>"
            ]
          },
          "metadata": {
            "tags": [],
            "needs_background": "light"
          }
        },
        {
          "output_type": "display_data",
          "data": {
            "image/png": "[encoded data removed]",
            "text/plain": [
              "<Figure size 720x360 with 1 Axes>"
            ]
          },
          "metadata": {
            "tags": [],
            "needs_background": "light"
          }
        },
        {
          "output_type": "display_data",
          "data": {
            "image/png": "[encoded data removed]",
            "text/plain": [
              "<Figure size 720x360 with 1 Axes>"
            ]
          },
          "metadata": {
            "tags": [],
            "needs_background": "light"
          }
        }
      ]
    },
    {
      "cell_type": "markdown",
      "metadata": {
        "id": "ucLceE9_5qHa",
        "colab_type": "text"
      },
      "source": [
        "Compute statistics for numerical variables"
      ]
    },
    {
      "cell_type": "code",
      "metadata": {
        "id": "RUdS0MsC5qHc",
        "colab_type": "code",
        "colab": {
          "base_uri": "https://localhost:8080/",
          "height": 320
        },
        "outputId": "b2592b18-1b43-4050-8cb6-af798be5baff"
      },
      "source": [
        "train.describe()  "
      ],
      "execution_count": 31,
      "outputs": [
        {
          "output_type": "execute_result",
          "data": {
            "text/html": [
              "<div>\n",
              "<style scoped>\n",
              "    .dataframe tbody tr th:only-of-type {\n",
              "        vertical-align: middle;\n",
              "    }\n",
              "\n",
              "    .dataframe tbody tr th {\n",
              "        vertical-align: top;\n",
              "    }\n",
              "\n",
              "    .dataframe thead th {\n",
              "        text-align: right;\n",
              "    }\n",
              "</style>\n",
              "<table border=\"1\" class=\"dataframe\">\n",
              "  <thead>\n",
              "    <tr style=\"text-align: right;\">\n",
              "      <th></th>\n",
              "      <th>MONTANT</th>\n",
              "      <th>FREQUENCE_RECH</th>\n",
              "      <th>REVENUE</th>\n",
              "      <th>ARPU_SEGMENT</th>\n",
              "      <th>FREQUENCE</th>\n",
              "      <th>DATA_VOLUME</th>\n",
              "      <th>ON_NET</th>\n",
              "      <th>ORANGE</th>\n",
              "      <th>TIGO</th>\n",
              "      <th>ZONE1</th>\n",
              "      <th>ZONE2</th>\n",
              "      <th>REGULARITY</th>\n",
              "      <th>FREQ_TOP_PACK</th>\n",
              "      <th>CHURN</th>\n",
              "    </tr>\n",
              "  </thead>\n",
              "  <tbody>\n",
              "    <tr>\n",
              "      <th>count</th>\n",
              "      <td>419154.000000</td>\n",
              "      <td>419154.000000</td>\n",
              "      <td>428459.000000</td>\n",
              "      <td>428459.000000</td>\n",
              "      <td>428459.000000</td>\n",
              "      <td>3.275440e+05</td>\n",
              "      <td>409962.000000</td>\n",
              "      <td>377516.000000</td>\n",
              "      <td>259060.000000</td>\n",
              "      <td>50406.000000</td>\n",
              "      <td>41072.000000</td>\n",
              "      <td>646214.000000</td>\n",
              "      <td>375331.000000</td>\n",
              "      <td>646214.000000</td>\n",
              "    </tr>\n",
              "    <tr>\n",
              "      <th>mean</th>\n",
              "      <td>5535.843227</td>\n",
              "      <td>11.529891</td>\n",
              "      <td>5509.610712</td>\n",
              "      <td>1836.543270</td>\n",
              "      <td>13.975855</td>\n",
              "      <td>3.372705e+03</td>\n",
              "      <td>277.649655</td>\n",
              "      <td>95.274982</td>\n",
              "      <td>23.070601</td>\n",
              "      <td>7.987779</td>\n",
              "      <td>7.547478</td>\n",
              "      <td>28.038812</td>\n",
              "      <td>9.284301</td>\n",
              "      <td>0.187712</td>\n",
              "    </tr>\n",
              "    <tr>\n",
              "      <th>std</th>\n",
              "      <td>7161.605662</td>\n",
              "      <td>13.270572</td>\n",
              "      <td>7209.607287</td>\n",
              "      <td>2403.197321</td>\n",
              "      <td>14.689824</td>\n",
              "      <td>1.341078e+04</td>\n",
              "      <td>868.891990</td>\n",
              "      <td>202.764409</td>\n",
              "      <td>63.219602</td>\n",
              "      <td>39.546312</td>\n",
              "      <td>33.370589</td>\n",
              "      <td>22.282758</td>\n",
              "      <td>12.350381</td>\n",
              "      <td>0.390482</td>\n",
              "    </tr>\n",
              "    <tr>\n",
              "      <th>min</th>\n",
              "      <td>10.000000</td>\n",
              "      <td>1.000000</td>\n",
              "      <td>1.000000</td>\n",
              "      <td>0.000000</td>\n",
              "      <td>1.000000</td>\n",
              "      <td>0.000000e+00</td>\n",
              "      <td>0.000000</td>\n",
              "      <td>0.000000</td>\n",
              "      <td>0.000000</td>\n",
              "      <td>0.000000</td>\n",
              "      <td>0.000000</td>\n",
              "      <td>1.000000</td>\n",
              "      <td>1.000000</td>\n",
              "      <td>0.000000</td>\n",
              "    </tr>\n",
              "    <tr>\n",
              "      <th>25%</th>\n",
              "      <td>1000.000000</td>\n",
              "      <td>2.000000</td>\n",
              "      <td>1000.000000</td>\n",
              "      <td>333.000000</td>\n",
              "      <td>3.000000</td>\n",
              "      <td>0.000000e+00</td>\n",
              "      <td>5.000000</td>\n",
              "      <td>7.000000</td>\n",
              "      <td>2.000000</td>\n",
              "      <td>0.000000</td>\n",
              "      <td>0.000000</td>\n",
              "      <td>6.000000</td>\n",
              "      <td>2.000000</td>\n",
              "      <td>0.000000</td>\n",
              "    </tr>\n",
              "    <tr>\n",
              "      <th>50%</th>\n",
              "      <td>3000.000000</td>\n",
              "      <td>7.000000</td>\n",
              "      <td>3000.000000</td>\n",
              "      <td>1000.000000</td>\n",
              "      <td>9.000000</td>\n",
              "      <td>2.600000e+02</td>\n",
              "      <td>27.000000</td>\n",
              "      <td>29.000000</td>\n",
              "      <td>6.000000</td>\n",
              "      <td>1.000000</td>\n",
              "      <td>2.000000</td>\n",
              "      <td>24.000000</td>\n",
              "      <td>5.000000</td>\n",
              "      <td>0.000000</td>\n",
              "    </tr>\n",
              "    <tr>\n",
              "      <th>75%</th>\n",
              "      <td>7400.000000</td>\n",
              "      <td>16.000000</td>\n",
              "      <td>7382.000000</td>\n",
              "      <td>2461.000000</td>\n",
              "      <td>20.000000</td>\n",
              "      <td>2.875000e+03</td>\n",
              "      <td>157.000000</td>\n",
              "      <td>99.000000</td>\n",
              "      <td>20.000000</td>\n",
              "      <td>4.000000</td>\n",
              "      <td>5.000000</td>\n",
              "      <td>51.000000</td>\n",
              "      <td>12.000000</td>\n",
              "      <td>0.000000</td>\n",
              "    </tr>\n",
              "    <tr>\n",
              "      <th>max</th>\n",
              "      <td>290500.000000</td>\n",
              "      <td>132.000000</td>\n",
              "      <td>397968.000000</td>\n",
              "      <td>132656.000000</td>\n",
              "      <td>91.000000</td>\n",
              "      <td>1.823866e+06</td>\n",
              "      <td>36687.000000</td>\n",
              "      <td>6721.000000</td>\n",
              "      <td>4174.000000</td>\n",
              "      <td>1867.000000</td>\n",
              "      <td>1796.000000</td>\n",
              "      <td>62.000000</td>\n",
              "      <td>629.000000</td>\n",
              "      <td>1.000000</td>\n",
              "    </tr>\n",
              "  </tbody>\n",
              "</table>\n",
              "</div>"
            ],
            "text/plain": [
              "             MONTANT  FREQUENCE_RECH  ...  FREQ_TOP_PACK          CHURN\n",
              "count  419154.000000   419154.000000  ...  375331.000000  646214.000000\n",
              "mean     5535.843227       11.529891  ...       9.284301       0.187712\n",
              "std      7161.605662       13.270572  ...      12.350381       0.390482\n",
              "min        10.000000        1.000000  ...       1.000000       0.000000\n",
              "25%      1000.000000        2.000000  ...       2.000000       0.000000\n",
              "50%      3000.000000        7.000000  ...       5.000000       0.000000\n",
              "75%      7400.000000       16.000000  ...      12.000000       0.000000\n",
              "max    290500.000000      132.000000  ...     629.000000       1.000000\n",
              "\n",
              "[8 rows x 14 columns]"
            ]
          },
          "metadata": {
            "tags": []
          },
          "execution_count": 31
        }
      ]
    },
    {
      "cell_type": "markdown",
      "metadata": {
        "id": "H_HGSe1m5qHs",
        "colab_type": "text"
      },
      "source": [
        "> Check for null values"
      ]
    },
    {
      "cell_type": "code",
      "metadata": {
        "id": "ZIpuuiEv5qH0",
        "colab_type": "code",
        "colab": {
          "base_uri": "https://localhost:8080/",
          "height": 768
        },
        "outputId": "65fc30d4-b90f-4940-d8db-7e7ab0ffb687"
      },
      "source": [
        "check_null(train)"
      ],
      "execution_count": 32,
      "outputs": [
        {
          "output_type": "stream",
          "text": [
            "user_id                0\n",
            "REGION            254968\n",
            "TENURE                 0\n",
            "MONTANT           227060\n",
            "FREQUENCE_RECH    227060\n",
            "REVENUE           217755\n",
            "ARPU_SEGMENT      217755\n",
            "FREQUENCE         217755\n",
            "DATA_VOLUME       318670\n",
            "ON_NET            236252\n",
            "ORANGE            268698\n",
            "TIGO              387154\n",
            "ZONE1             595808\n",
            "ZONE2             605142\n",
            "MRG                    0\n",
            "REGULARITY             0\n",
            "TOP_PACK          270883\n",
            "FREQ_TOP_PACK     270883\n",
            "CHURN                  0\n",
            "dtype: int64\n"
          ],
          "name": "stdout"
        },
        {
          "output_type": "display_data",
          "data": {
            "image/png": "[encoded data removed]",
            "text/plain": [
              "<Figure size 720x360 with 1 Axes>"
            ]
          },
          "metadata": {
            "tags": [],
            "needs_background": "light"
          }
        }
      ]
    },
    {
      "cell_type": "code",
      "metadata": {
        "id": "GwCWMz3t5qH9",
        "colab_type": "code",
        "colab": {
          "base_uri": "https://localhost:8080/",
          "height": 751
        },
        "outputId": "d15f1a9e-e0de-420f-f84f-df9e822bf5e7"
      },
      "source": [
        "check_null(test)"
      ],
      "execution_count": 33,
      "outputs": [
        {
          "output_type": "stream",
          "text": [
            "user_id                0\n",
            "REGION             44957\n",
            "TENURE                 0\n",
            "MONTANT            39903\n",
            "FREQUENCE_RECH     39903\n",
            "REVENUE            38184\n",
            "ARPU_SEGMENT       38184\n",
            "FREQUENCE          38184\n",
            "DATA_VOLUME        55989\n",
            "ON_NET             41602\n",
            "ORANGE             47215\n",
            "TIGO               68130\n",
            "ZONE1             105027\n",
            "ZONE2             106821\n",
            "MRG                    0\n",
            "REGULARITY             0\n",
            "TOP_PACK           47613\n",
            "FREQ_TOP_PACK      47613\n",
            "dtype: int64\n"
          ],
          "name": "stdout"
        },
        {
          "output_type": "display_data",
          "data": {
            "image/png": "[encoded data removed]",
            "text/plain": [
              "<Figure size 720x360 with 1 Axes>"
            ]
          },
          "metadata": {
            "tags": [],
            "needs_background": "light"
          }
        }
      ]
    },
    {
      "cell_type": "markdown",
      "metadata": {
        "id": "ICQj_cLD5qIC",
        "colab_type": "text"
      },
      "source": [
        "> There are a lot of null values in the dataset"
      ]
    },
    {
      "cell_type": "markdown",
      "metadata": {
        "id": "VpA27bAx5qIM",
        "colab_type": "text"
      },
      "source": [
        "outliers in train set"
      ]
    },
    {
      "cell_type": "code",
      "metadata": {
        "id": "fMdC-cEf5qIM",
        "colab_type": "code",
        "colab": {
          "base_uri": "https://localhost:8080/",
          "height": 478
        },
        "outputId": "7a304fb8-a2e4-4caa-92d1-b67524421e6c"
      },
      "source": [
        "check_outliers(train, show_plot=False)  "
      ],
      "execution_count": 34,
      "outputs": [
        {
          "output_type": "stream",
          "text": [
            "{'MONTANT': True, 'FREQUENCE_RECH': True, 'REVENUE': True, 'ARPU_SEGMENT': True, 'FREQUENCE': True, 'DATA_VOLUME': True, 'ON_NET': True, 'ORANGE': True, 'TIGO': True, 'ZONE1': True, 'ZONE2': True, 'REGULARITY': False, 'FREQ_TOP_PACK': True, 'CHURN': True}\n",
            "(646214, 19)\n"
          ],
          "name": "stdout"
        },
        {
          "output_type": "execute_result",
          "data": {
            "text/html": [
              "<div>\n",
              "<style scoped>\n",
              "    .dataframe tbody tr th:only-of-type {\n",
              "        vertical-align: middle;\n",
              "    }\n",
              "\n",
              "    .dataframe tbody tr th {\n",
              "        vertical-align: top;\n",
              "    }\n",
              "\n",
              "    .dataframe thead th {\n",
              "        text-align: right;\n",
              "    }\n",
              "</style>\n",
              "<table border=\"1\" class=\"dataframe\">\n",
              "  <thead>\n",
              "    <tr style=\"text-align: right;\">\n",
              "      <th></th>\n",
              "      <th>MONTANT</th>\n",
              "      <th>FREQUENCE_RECH</th>\n",
              "      <th>REVENUE</th>\n",
              "      <th>ARPU_SEGMENT</th>\n",
              "      <th>FREQUENCE</th>\n",
              "      <th>DATA_VOLUME</th>\n",
              "      <th>ON_NET</th>\n",
              "      <th>ORANGE</th>\n",
              "      <th>TIGO</th>\n",
              "      <th>ZONE1</th>\n",
              "      <th>ZONE2</th>\n",
              "      <th>FREQ_TOP_PACK</th>\n",
              "      <th>CHURN</th>\n",
              "    </tr>\n",
              "  </thead>\n",
              "  <tbody>\n",
              "    <tr>\n",
              "      <th>0</th>\n",
              "      <td>1000.0</td>\n",
              "      <td>1.0</td>\n",
              "      <td>990.0</td>\n",
              "      <td>330.0</td>\n",
              "      <td>1.0</td>\n",
              "      <td>97.0</td>\n",
              "      <td>1.0</td>\n",
              "      <td>NaN</td>\n",
              "      <td>NaN</td>\n",
              "      <td>NaN</td>\n",
              "      <td>NaN</td>\n",
              "      <td>1.0</td>\n",
              "      <td>0</td>\n",
              "    </tr>\n",
              "    <tr>\n",
              "      <th>1</th>\n",
              "      <td>NaN</td>\n",
              "      <td>NaN</td>\n",
              "      <td>NaN</td>\n",
              "      <td>NaN</td>\n",
              "      <td>NaN</td>\n",
              "      <td>223.0</td>\n",
              "      <td>NaN</td>\n",
              "      <td>NaN</td>\n",
              "      <td>NaN</td>\n",
              "      <td>NaN</td>\n",
              "      <td>NaN</td>\n",
              "      <td>NaN</td>\n",
              "      <td>0</td>\n",
              "    </tr>\n",
              "    <tr>\n",
              "      <th>2</th>\n",
              "      <td>700.0</td>\n",
              "      <td>5.0</td>\n",
              "      <td>1010.0</td>\n",
              "      <td>337.0</td>\n",
              "      <td>7.0</td>\n",
              "      <td>566.0</td>\n",
              "      <td>1.0</td>\n",
              "      <td>3.0</td>\n",
              "      <td>15.0</td>\n",
              "      <td>0.0</td>\n",
              "      <td>NaN</td>\n",
              "      <td>3.0</td>\n",
              "      <td>0</td>\n",
              "    </tr>\n",
              "    <tr>\n",
              "      <th>3</th>\n",
              "      <td>NaN</td>\n",
              "      <td>NaN</td>\n",
              "      <td>NaN</td>\n",
              "      <td>NaN</td>\n",
              "      <td>NaN</td>\n",
              "      <td>NaN</td>\n",
              "      <td>NaN</td>\n",
              "      <td>NaN</td>\n",
              "      <td>NaN</td>\n",
              "      <td>NaN</td>\n",
              "      <td>NaN</td>\n",
              "      <td>NaN</td>\n",
              "      <td>0</td>\n",
              "    </tr>\n",
              "    <tr>\n",
              "      <th>4</th>\n",
              "      <td>3000.0</td>\n",
              "      <td>3.0</td>\n",
              "      <td>2995.0</td>\n",
              "      <td>998.0</td>\n",
              "      <td>3.0</td>\n",
              "      <td>NaN</td>\n",
              "      <td>NaN</td>\n",
              "      <td>33.0</td>\n",
              "      <td>NaN</td>\n",
              "      <td>NaN</td>\n",
              "      <td>NaN</td>\n",
              "      <td>NaN</td>\n",
              "      <td>0</td>\n",
              "    </tr>\n",
              "    <tr>\n",
              "      <th>...</th>\n",
              "      <td>...</td>\n",
              "      <td>...</td>\n",
              "      <td>...</td>\n",
              "      <td>...</td>\n",
              "      <td>...</td>\n",
              "      <td>...</td>\n",
              "      <td>...</td>\n",
              "      <td>...</td>\n",
              "      <td>...</td>\n",
              "      <td>...</td>\n",
              "      <td>...</td>\n",
              "      <td>...</td>\n",
              "      <td>...</td>\n",
              "    </tr>\n",
              "    <tr>\n",
              "      <th>646209</th>\n",
              "      <td>NaN</td>\n",
              "      <td>NaN</td>\n",
              "      <td>NaN</td>\n",
              "      <td>NaN</td>\n",
              "      <td>NaN</td>\n",
              "      <td>NaN</td>\n",
              "      <td>NaN</td>\n",
              "      <td>NaN</td>\n",
              "      <td>NaN</td>\n",
              "      <td>NaN</td>\n",
              "      <td>NaN</td>\n",
              "      <td>NaN</td>\n",
              "      <td>0</td>\n",
              "    </tr>\n",
              "    <tr>\n",
              "      <th>646210</th>\n",
              "      <td>1500.0</td>\n",
              "      <td>3.0</td>\n",
              "      <td>1500.0</td>\n",
              "      <td>500.0</td>\n",
              "      <td>3.0</td>\n",
              "      <td>NaN</td>\n",
              "      <td>28.0</td>\n",
              "      <td>53.0</td>\n",
              "      <td>NaN</td>\n",
              "      <td>NaN</td>\n",
              "      <td>NaN</td>\n",
              "      <td>2.0</td>\n",
              "      <td>0</td>\n",
              "    </tr>\n",
              "    <tr>\n",
              "      <th>646211</th>\n",
              "      <td>13000.0</td>\n",
              "      <td>26.0</td>\n",
              "      <td>14000.0</td>\n",
              "      <td>4667.0</td>\n",
              "      <td>26.0</td>\n",
              "      <td>NaN</td>\n",
              "      <td>2973.0</td>\n",
              "      <td>183.0</td>\n",
              "      <td>50.0</td>\n",
              "      <td>NaN</td>\n",
              "      <td>NaN</td>\n",
              "      <td>15.0</td>\n",
              "      <td>0</td>\n",
              "    </tr>\n",
              "    <tr>\n",
              "      <th>646212</th>\n",
              "      <td>3100.0</td>\n",
              "      <td>4.0</td>\n",
              "      <td>3033.0</td>\n",
              "      <td>1011.0</td>\n",
              "      <td>4.0</td>\n",
              "      <td>12905.0</td>\n",
              "      <td>NaN</td>\n",
              "      <td>0.0</td>\n",
              "      <td>NaN</td>\n",
              "      <td>NaN</td>\n",
              "      <td>NaN</td>\n",
              "      <td>3.0</td>\n",
              "      <td>0</td>\n",
              "    </tr>\n",
              "    <tr>\n",
              "      <th>646213</th>\n",
              "      <td>6500.0</td>\n",
              "      <td>12.0</td>\n",
              "      <td>6500.0</td>\n",
              "      <td>2167.0</td>\n",
              "      <td>11.0</td>\n",
              "      <td>NaN</td>\n",
              "      <td>49.0</td>\n",
              "      <td>220.0</td>\n",
              "      <td>NaN</td>\n",
              "      <td>NaN</td>\n",
              "      <td>NaN</td>\n",
              "      <td>13.0</td>\n",
              "      <td>0</td>\n",
              "    </tr>\n",
              "  </tbody>\n",
              "</table>\n",
              "<p>646214 rows × 13 columns</p>\n",
              "</div>"
            ],
            "text/plain": [
              "        MONTANT  FREQUENCE_RECH  REVENUE  ...  ZONE2  FREQ_TOP_PACK  CHURN\n",
              "0        1000.0             1.0    990.0  ...    NaN            1.0      0\n",
              "1           NaN             NaN      NaN  ...    NaN            NaN      0\n",
              "2         700.0             5.0   1010.0  ...    NaN            3.0      0\n",
              "3           NaN             NaN      NaN  ...    NaN            NaN      0\n",
              "4        3000.0             3.0   2995.0  ...    NaN            NaN      0\n",
              "...         ...             ...      ...  ...    ...            ...    ...\n",
              "646209      NaN             NaN      NaN  ...    NaN            NaN      0\n",
              "646210   1500.0             3.0   1500.0  ...    NaN            2.0      0\n",
              "646211  13000.0            26.0  14000.0  ...    NaN           15.0      0\n",
              "646212   3100.0             4.0   3033.0  ...    NaN            3.0      0\n",
              "646213   6500.0            12.0   6500.0  ...    NaN           13.0      0\n",
              "\n",
              "[646214 rows x 13 columns]"
            ]
          },
          "metadata": {
            "tags": []
          },
          "execution_count": 34
        }
      ]
    },
    {
      "cell_type": "markdown",
      "metadata": {
        "id": "WvdfxaY_5qIY",
        "colab_type": "text"
      },
      "source": [
        "> most columns in the train set contain outlier values"
      ]
    },
    {
      "cell_type": "markdown",
      "metadata": {
        "id": "Sh1XruSa5qIZ",
        "colab_type": "text"
      },
      "source": [
        "outliers in test set"
      ]
    },
    {
      "cell_type": "code",
      "metadata": {
        "id": "J6iUBVtk5qIZ",
        "colab_type": "code",
        "colab": {
          "base_uri": "https://localhost:8080/",
          "height": 478
        },
        "outputId": "e9aab45e-958b-4ea2-a811-758821728c88"
      },
      "source": [
        "check_outliers(test, show_plot=False)   "
      ],
      "execution_count": 35,
      "outputs": [
        {
          "output_type": "stream",
          "text": [
            "{'MONTANT': True, 'FREQUENCE_RECH': True, 'REVENUE': True, 'ARPU_SEGMENT': True, 'FREQUENCE': True, 'DATA_VOLUME': True, 'ON_NET': True, 'ORANGE': True, 'TIGO': True, 'ZONE1': True, 'ZONE2': True, 'REGULARITY': False, 'FREQ_TOP_PACK': True}\n",
            "(114038, 18)\n"
          ],
          "name": "stdout"
        },
        {
          "output_type": "execute_result",
          "data": {
            "text/html": [
              "<div>\n",
              "<style scoped>\n",
              "    .dataframe tbody tr th:only-of-type {\n",
              "        vertical-align: middle;\n",
              "    }\n",
              "\n",
              "    .dataframe tbody tr th {\n",
              "        vertical-align: top;\n",
              "    }\n",
              "\n",
              "    .dataframe thead th {\n",
              "        text-align: right;\n",
              "    }\n",
              "</style>\n",
              "<table border=\"1\" class=\"dataframe\">\n",
              "  <thead>\n",
              "    <tr style=\"text-align: right;\">\n",
              "      <th></th>\n",
              "      <th>MONTANT</th>\n",
              "      <th>FREQUENCE_RECH</th>\n",
              "      <th>REVENUE</th>\n",
              "      <th>ARPU_SEGMENT</th>\n",
              "      <th>FREQUENCE</th>\n",
              "      <th>DATA_VOLUME</th>\n",
              "      <th>ON_NET</th>\n",
              "      <th>ORANGE</th>\n",
              "      <th>TIGO</th>\n",
              "      <th>ZONE1</th>\n",
              "      <th>ZONE2</th>\n",
              "      <th>FREQ_TOP_PACK</th>\n",
              "    </tr>\n",
              "  </thead>\n",
              "  <tbody>\n",
              "    <tr>\n",
              "      <th>0</th>\n",
              "      <td>10600.0</td>\n",
              "      <td>18.0</td>\n",
              "      <td>11099.0</td>\n",
              "      <td>3700.0</td>\n",
              "      <td>22.0</td>\n",
              "      <td>4004.0</td>\n",
              "      <td>60.0</td>\n",
              "      <td>123.0</td>\n",
              "      <td>19.0</td>\n",
              "      <td>NaN</td>\n",
              "      <td>NaN</td>\n",
              "      <td>9.0</td>\n",
              "    </tr>\n",
              "    <tr>\n",
              "      <th>1</th>\n",
              "      <td>NaN</td>\n",
              "      <td>NaN</td>\n",
              "      <td>NaN</td>\n",
              "      <td>NaN</td>\n",
              "      <td>NaN</td>\n",
              "      <td>0.0</td>\n",
              "      <td>7.0</td>\n",
              "      <td>NaN</td>\n",
              "      <td>NaN</td>\n",
              "      <td>NaN</td>\n",
              "      <td>NaN</td>\n",
              "      <td>NaN</td>\n",
              "    </tr>\n",
              "    <tr>\n",
              "      <th>2</th>\n",
              "      <td>17900.0</td>\n",
              "      <td>36.0</td>\n",
              "      <td>18405.0</td>\n",
              "      <td>6135.0</td>\n",
              "      <td>44.0</td>\n",
              "      <td>0.0</td>\n",
              "      <td>446.0</td>\n",
              "      <td>50.0</td>\n",
              "      <td>28.0</td>\n",
              "      <td>2.0</td>\n",
              "      <td>NaN</td>\n",
              "      <td>9.0</td>\n",
              "    </tr>\n",
              "    <tr>\n",
              "      <th>3</th>\n",
              "      <td>10000.0</td>\n",
              "      <td>10.0</td>\n",
              "      <td>10001.0</td>\n",
              "      <td>3334.0</td>\n",
              "      <td>27.0</td>\n",
              "      <td>NaN</td>\n",
              "      <td>0.0</td>\n",
              "      <td>93.0</td>\n",
              "      <td>8.0</td>\n",
              "      <td>NaN</td>\n",
              "      <td>NaN</td>\n",
              "      <td>12.0</td>\n",
              "    </tr>\n",
              "    <tr>\n",
              "      <th>4</th>\n",
              "      <td>500.0</td>\n",
              "      <td>1.0</td>\n",
              "      <td>500.0</td>\n",
              "      <td>167.0</td>\n",
              "      <td>1.0</td>\n",
              "      <td>NaN</td>\n",
              "      <td>8.0</td>\n",
              "      <td>14.0</td>\n",
              "      <td>NaN</td>\n",
              "      <td>NaN</td>\n",
              "      <td>NaN</td>\n",
              "      <td>1.0</td>\n",
              "    </tr>\n",
              "    <tr>\n",
              "      <th>...</th>\n",
              "      <td>...</td>\n",
              "      <td>...</td>\n",
              "      <td>...</td>\n",
              "      <td>...</td>\n",
              "      <td>...</td>\n",
              "      <td>...</td>\n",
              "      <td>...</td>\n",
              "      <td>...</td>\n",
              "      <td>...</td>\n",
              "      <td>...</td>\n",
              "      <td>...</td>\n",
              "      <td>...</td>\n",
              "    </tr>\n",
              "    <tr>\n",
              "      <th>114033</th>\n",
              "      <td>200.0</td>\n",
              "      <td>1.0</td>\n",
              "      <td>NaN</td>\n",
              "      <td>NaN</td>\n",
              "      <td>NaN</td>\n",
              "      <td>NaN</td>\n",
              "      <td>NaN</td>\n",
              "      <td>NaN</td>\n",
              "      <td>NaN</td>\n",
              "      <td>NaN</td>\n",
              "      <td>NaN</td>\n",
              "      <td>NaN</td>\n",
              "    </tr>\n",
              "    <tr>\n",
              "      <th>114034</th>\n",
              "      <td>NaN</td>\n",
              "      <td>NaN</td>\n",
              "      <td>NaN</td>\n",
              "      <td>NaN</td>\n",
              "      <td>NaN</td>\n",
              "      <td>NaN</td>\n",
              "      <td>NaN</td>\n",
              "      <td>NaN</td>\n",
              "      <td>NaN</td>\n",
              "      <td>NaN</td>\n",
              "      <td>NaN</td>\n",
              "      <td>NaN</td>\n",
              "    </tr>\n",
              "    <tr>\n",
              "      <th>114035</th>\n",
              "      <td>2200.0</td>\n",
              "      <td>2.0</td>\n",
              "      <td>3501.0</td>\n",
              "      <td>1167.0</td>\n",
              "      <td>4.0</td>\n",
              "      <td>7110.0</td>\n",
              "      <td>1.0</td>\n",
              "      <td>NaN</td>\n",
              "      <td>16.0</td>\n",
              "      <td>NaN</td>\n",
              "      <td>NaN</td>\n",
              "      <td>2.0</td>\n",
              "    </tr>\n",
              "    <tr>\n",
              "      <th>114036</th>\n",
              "      <td>9800.0</td>\n",
              "      <td>21.0</td>\n",
              "      <td>9879.0</td>\n",
              "      <td>3293.0</td>\n",
              "      <td>21.0</td>\n",
              "      <td>18651.0</td>\n",
              "      <td>37.0</td>\n",
              "      <td>0.0</td>\n",
              "      <td>NaN</td>\n",
              "      <td>NaN</td>\n",
              "      <td>NaN</td>\n",
              "      <td>15.0</td>\n",
              "    </tr>\n",
              "    <tr>\n",
              "      <th>114037</th>\n",
              "      <td>NaN</td>\n",
              "      <td>NaN</td>\n",
              "      <td>NaN</td>\n",
              "      <td>NaN</td>\n",
              "      <td>NaN</td>\n",
              "      <td>NaN</td>\n",
              "      <td>NaN</td>\n",
              "      <td>NaN</td>\n",
              "      <td>NaN</td>\n",
              "      <td>NaN</td>\n",
              "      <td>NaN</td>\n",
              "      <td>NaN</td>\n",
              "    </tr>\n",
              "  </tbody>\n",
              "</table>\n",
              "<p>114038 rows × 12 columns</p>\n",
              "</div>"
            ],
            "text/plain": [
              "        MONTANT  FREQUENCE_RECH  REVENUE  ...  ZONE1  ZONE2  FREQ_TOP_PACK\n",
              "0       10600.0            18.0  11099.0  ...    NaN    NaN            9.0\n",
              "1           NaN             NaN      NaN  ...    NaN    NaN            NaN\n",
              "2       17900.0            36.0  18405.0  ...    2.0    NaN            9.0\n",
              "3       10000.0            10.0  10001.0  ...    NaN    NaN           12.0\n",
              "4         500.0             1.0    500.0  ...    NaN    NaN            1.0\n",
              "...         ...             ...      ...  ...    ...    ...            ...\n",
              "114033    200.0             1.0      NaN  ...    NaN    NaN            NaN\n",
              "114034      NaN             NaN      NaN  ...    NaN    NaN            NaN\n",
              "114035   2200.0             2.0   3501.0  ...    NaN    NaN            2.0\n",
              "114036   9800.0            21.0   9879.0  ...    NaN    NaN           15.0\n",
              "114037      NaN             NaN      NaN  ...    NaN    NaN            NaN\n",
              "\n",
              "[114038 rows x 12 columns]"
            ]
          },
          "metadata": {
            "tags": []
          },
          "execution_count": 35
        }
      ]
    },
    {
      "cell_type": "markdown",
      "metadata": {
        "id": "gxK5oiRy5qIp",
        "colab_type": "text"
      },
      "source": [
        "> check for duplicate values"
      ]
    },
    {
      "cell_type": "code",
      "metadata": {
        "id": "7h4CExvy5qIq",
        "colab_type": "code",
        "colab": {
          "base_uri": "https://localhost:8080/",
          "height": 34
        },
        "outputId": "0b0de131-9363-4578-fb21-00d1b1cb8937"
      },
      "source": [
        "train.duplicated().any()"
      ],
      "execution_count": 36,
      "outputs": [
        {
          "output_type": "execute_result",
          "data": {
            "text/plain": [
              "False"
            ]
          },
          "metadata": {
            "tags": []
          },
          "execution_count": 36
        }
      ]
    },
    {
      "cell_type": "code",
      "metadata": {
        "id": "MNyEQXdC5qIw",
        "colab_type": "code",
        "colab": {
          "base_uri": "https://localhost:8080/",
          "height": 34
        },
        "outputId": "176ade35-90ca-4140-b277-c70391793711"
      },
      "source": [
        "test.duplicated().any()"
      ],
      "execution_count": 37,
      "outputs": [
        {
          "output_type": "execute_result",
          "data": {
            "text/plain": [
              "False"
            ]
          },
          "metadata": {
            "tags": []
          },
          "execution_count": 37
        }
      ]
    },
    {
      "cell_type": "markdown",
      "metadata": {
        "id": "0QClssFr5qI1",
        "colab_type": "text"
      },
      "source": [
        "> check for class imbalance"
      ]
    },
    {
      "cell_type": "code",
      "metadata": {
        "id": "_Zjniw2_5qI2",
        "colab_type": "code",
        "colab": {
          "base_uri": "https://localhost:8080/",
          "height": 366
        },
        "outputId": "7b83317d-130c-4aa9-e8c5-b75ca766823b"
      },
      "source": [
        "print(\"Class Imbalance\\n\")\n",
        "print(train.CHURN.value_counts(), \"\\n\") \n",
        "train.CHURN.value_counts().plot.bar(); "
      ],
      "execution_count": 38,
      "outputs": [
        {
          "output_type": "stream",
          "text": [
            "Class Imbalance\n",
            "\n",
            "0    524912\n",
            "1    121302\n",
            "Name: CHURN, dtype: int64 \n",
            "\n"
          ],
          "name": "stdout"
        },
        {
          "output_type": "display_data",
          "data": {
            "image/png": "[encoded data removed]",
            "text/plain": [
              "<Figure size 432x288 with 1 Axes>"
            ]
          },
          "metadata": {
            "tags": [],
            "needs_background": "light"
          }
        }
      ]
    },
    {
      "cell_type": "markdown",
      "metadata": {
        "id": "fFLMyKHNzJBo",
        "colab_type": "text"
      },
      "source": [
        "### Preprocess Data for Modelling\n",
        " > Cleaning\n",
        "  - Drop MRG column\n",
        "  - Remove outliers\n",
        "  - Impute NaN by KNNImputer/SimpleImputer(mean/median for numerical and most frequent for categorical)\n",
        "\n",
        "> Feature Engineering\n",
        " - Extract feature of users' rank by (Group of Region by Tenure) \n",
        " - Extract feature users' rank  by TOPPACK\n",
        " - Balance Class Imbalance\n",
        " - Feature Union (K-best Selector and PCA components)\n",
        "\n",
        "> Put all processes in Sklearn Pipeline\n",
        "\n"
      ]
    },
    {
      "cell_type": "markdown",
      "metadata": {
        "id": "RRzEx7XSRPyW",
        "colab_type": "text"
      },
      "source": [
        "> Separate Y Labels from train set"
      ]
    },
    {
      "cell_type": "code",
      "metadata": {
        "id": "ih8_hGThRPcO",
        "colab_type": "code",
        "colab": {}
      },
      "source": [
        "train, train_label = train.drop('CHURN', axis=1), train.CHURN "
      ],
      "execution_count": 39,
      "outputs": []
    },
    {
      "cell_type": "code",
      "metadata": {
        "id": "Hdmf7rA1THw9",
        "colab_type": "code",
        "colab": {
          "base_uri": "https://localhost:8080/",
          "height": 69
        },
        "outputId": "99cb8459-7d49-4068-f856-346370c6d64a"
      },
      "source": [
        "train_label.value_counts() "
      ],
      "execution_count": 40,
      "outputs": [
        {
          "output_type": "execute_result",
          "data": {
            "text/plain": [
              "0    524912\n",
              "1    121302\n",
              "Name: CHURN, dtype: int64"
            ]
          },
          "metadata": {
            "tags": []
          },
          "execution_count": 40
        }
      ]
    },
    {
      "cell_type": "code",
      "metadata": {
        "id": "oZPACBaE4yrC",
        "colab_type": "code",
        "colab": {
          "base_uri": "https://localhost:8080/",
          "height": 34
        },
        "outputId": "55612184-a237-4edb-ceda-b956eae56d61"
      },
      "source": [
        "train.shape"
      ],
      "execution_count": 41,
      "outputs": [
        {
          "output_type": "execute_result",
          "data": {
            "text/plain": [
              "(646214, 18)"
            ]
          },
          "metadata": {
            "tags": []
          },
          "execution_count": 41
        }
      ]
    },
    {
      "cell_type": "code",
      "metadata": {
        "id": "TbyYICHB41Un",
        "colab_type": "code",
        "colab": {
          "base_uri": "https://localhost:8080/",
          "height": 34
        },
        "outputId": "a495f29e-4e77-49c7-b6ab-3e4dd1bf789e"
      },
      "source": [
        "test.shape"
      ],
      "execution_count": 42,
      "outputs": [
        {
          "output_type": "execute_result",
          "data": {
            "text/plain": [
              "(114038, 18)"
            ]
          },
          "metadata": {
            "tags": []
          },
          "execution_count": 42
        }
      ]
    },
    {
      "cell_type": "markdown",
      "metadata": {
        "id": "FBAlwDKf6Qy2",
        "colab_type": "text"
      },
      "source": [
        "#### Define Custom Estimators and Functions for each Preprocessing steps\n"
      ]
    },
    {
      "cell_type": "markdown",
      "metadata": {
        "id": "aCa_OjWr9uDd",
        "colab_type": "text"
      },
      "source": [
        "> Drop Columns"
      ]
    },
    {
      "cell_type": "code",
      "metadata": {
        "id": "AKgl7RUZ6gQx",
        "colab_type": "code",
        "colab": {}
      },
      "source": [
        "class DropColumns(BaseEstimator, TransformerMixin):\n",
        "\n",
        "  \"\"\"\n",
        "  Drop Columns not needed \n",
        "  \"\"\"\n",
        "\n",
        "  def __init__(self, cols_to_drop:list):\n",
        "    self.cols_to_drop = cols_to_drop\n",
        "\n",
        "  def fit(self, X:pd.DataFrame, y=None):\n",
        "    self.X_copy_ = X.copy()\n",
        "\n",
        "    return self\n",
        "\n",
        "  def transform(self, X, y=None):\n",
        "    self.X_copy_ = X.copy()\n",
        "    self.X_copy_ = self.X_copy_.drop(self.cols_to_drop, axis=1)\n",
        "\n",
        "    return self.X_copy_   \n",
        "\n",
        "\n",
        "  def fit_transform(self, X:pd.DataFrame, y=None):\n",
        "    self = self.fit(X)\n",
        "\n",
        "    self.X_copy_ = self.transform(X)\n",
        "\n",
        "    return self.X_copy_"
      ],
      "execution_count": 43,
      "outputs": []
    },
    {
      "cell_type": "code",
      "metadata": {
        "id": "jng2ljDv8LR0",
        "colab_type": "code",
        "colab": {
          "base_uri": "https://localhost:8080/",
          "height": 617
        },
        "outputId": "6257037f-cb30-4852-c3be-3855ff9f6580"
      },
      "source": [
        "drop_col = DropColumns(cols_to_drop=['MRG', 'user_id'])   \n",
        "train_process = drop_col.fit_transform(train)  \n",
        "train_process    "
      ],
      "execution_count": 44,
      "outputs": [
        {
          "output_type": "execute_result",
          "data": {
            "text/html": [
              "<div>\n",
              "<style scoped>\n",
              "    .dataframe tbody tr th:only-of-type {\n",
              "        vertical-align: middle;\n",
              "    }\n",
              "\n",
              "    .dataframe tbody tr th {\n",
              "        vertical-align: top;\n",
              "    }\n",
              "\n",
              "    .dataframe thead th {\n",
              "        text-align: right;\n",
              "    }\n",
              "</style>\n",
              "<table border=\"1\" class=\"dataframe\">\n",
              "  <thead>\n",
              "    <tr style=\"text-align: right;\">\n",
              "      <th></th>\n",
              "      <th>REGION</th>\n",
              "      <th>TENURE</th>\n",
              "      <th>MONTANT</th>\n",
              "      <th>FREQUENCE_RECH</th>\n",
              "      <th>REVENUE</th>\n",
              "      <th>ARPU_SEGMENT</th>\n",
              "      <th>FREQUENCE</th>\n",
              "      <th>DATA_VOLUME</th>\n",
              "      <th>ON_NET</th>\n",
              "      <th>ORANGE</th>\n",
              "      <th>TIGO</th>\n",
              "      <th>ZONE1</th>\n",
              "      <th>ZONE2</th>\n",
              "      <th>REGULARITY</th>\n",
              "      <th>TOP_PACK</th>\n",
              "      <th>FREQ_TOP_PACK</th>\n",
              "    </tr>\n",
              "  </thead>\n",
              "  <tbody>\n",
              "    <tr>\n",
              "      <th>0</th>\n",
              "      <td>MATAM</td>\n",
              "      <td>K &gt; 24 month</td>\n",
              "      <td>1000.0</td>\n",
              "      <td>1.0</td>\n",
              "      <td>990.0</td>\n",
              "      <td>330.0</td>\n",
              "      <td>1.0</td>\n",
              "      <td>97.0</td>\n",
              "      <td>1.0</td>\n",
              "      <td>NaN</td>\n",
              "      <td>NaN</td>\n",
              "      <td>NaN</td>\n",
              "      <td>NaN</td>\n",
              "      <td>22</td>\n",
              "      <td>Data:1000F=2GB,30d</td>\n",
              "      <td>1.0</td>\n",
              "    </tr>\n",
              "    <tr>\n",
              "      <th>1</th>\n",
              "      <td>DIOURBEL</td>\n",
              "      <td>K &gt; 24 month</td>\n",
              "      <td>NaN</td>\n",
              "      <td>NaN</td>\n",
              "      <td>NaN</td>\n",
              "      <td>NaN</td>\n",
              "      <td>NaN</td>\n",
              "      <td>223.0</td>\n",
              "      <td>NaN</td>\n",
              "      <td>NaN</td>\n",
              "      <td>NaN</td>\n",
              "      <td>NaN</td>\n",
              "      <td>NaN</td>\n",
              "      <td>4</td>\n",
              "      <td>NaN</td>\n",
              "      <td>NaN</td>\n",
              "    </tr>\n",
              "    <tr>\n",
              "      <th>2</th>\n",
              "      <td>DAKAR</td>\n",
              "      <td>K &gt; 24 month</td>\n",
              "      <td>700.0</td>\n",
              "      <td>5.0</td>\n",
              "      <td>1010.0</td>\n",
              "      <td>337.0</td>\n",
              "      <td>7.0</td>\n",
              "      <td>566.0</td>\n",
              "      <td>1.0</td>\n",
              "      <td>3.0</td>\n",
              "      <td>15.0</td>\n",
              "      <td>0.0</td>\n",
              "      <td>NaN</td>\n",
              "      <td>8</td>\n",
              "      <td>Data: 100 F=40MB,24H</td>\n",
              "      <td>3.0</td>\n",
              "    </tr>\n",
              "    <tr>\n",
              "      <th>3</th>\n",
              "      <td>LOUGA</td>\n",
              "      <td>K &gt; 24 month</td>\n",
              "      <td>NaN</td>\n",
              "      <td>NaN</td>\n",
              "      <td>NaN</td>\n",
              "      <td>NaN</td>\n",
              "      <td>NaN</td>\n",
              "      <td>NaN</td>\n",
              "      <td>NaN</td>\n",
              "      <td>NaN</td>\n",
              "      <td>NaN</td>\n",
              "      <td>NaN</td>\n",
              "      <td>NaN</td>\n",
              "      <td>3</td>\n",
              "      <td>NaN</td>\n",
              "      <td>NaN</td>\n",
              "    </tr>\n",
              "    <tr>\n",
              "      <th>4</th>\n",
              "      <td>NaN</td>\n",
              "      <td>K &gt; 24 month</td>\n",
              "      <td>3000.0</td>\n",
              "      <td>3.0</td>\n",
              "      <td>2995.0</td>\n",
              "      <td>998.0</td>\n",
              "      <td>3.0</td>\n",
              "      <td>NaN</td>\n",
              "      <td>NaN</td>\n",
              "      <td>33.0</td>\n",
              "      <td>NaN</td>\n",
              "      <td>NaN</td>\n",
              "      <td>NaN</td>\n",
              "      <td>9</td>\n",
              "      <td>NaN</td>\n",
              "      <td>NaN</td>\n",
              "    </tr>\n",
              "    <tr>\n",
              "      <th>...</th>\n",
              "      <td>...</td>\n",
              "      <td>...</td>\n",
              "      <td>...</td>\n",
              "      <td>...</td>\n",
              "      <td>...</td>\n",
              "      <td>...</td>\n",
              "      <td>...</td>\n",
              "      <td>...</td>\n",
              "      <td>...</td>\n",
              "      <td>...</td>\n",
              "      <td>...</td>\n",
              "      <td>...</td>\n",
              "      <td>...</td>\n",
              "      <td>...</td>\n",
              "      <td>...</td>\n",
              "      <td>...</td>\n",
              "    </tr>\n",
              "    <tr>\n",
              "      <th>646209</th>\n",
              "      <td>KAOLACK</td>\n",
              "      <td>K &gt; 24 month</td>\n",
              "      <td>NaN</td>\n",
              "      <td>NaN</td>\n",
              "      <td>NaN</td>\n",
              "      <td>NaN</td>\n",
              "      <td>NaN</td>\n",
              "      <td>NaN</td>\n",
              "      <td>NaN</td>\n",
              "      <td>NaN</td>\n",
              "      <td>NaN</td>\n",
              "      <td>NaN</td>\n",
              "      <td>NaN</td>\n",
              "      <td>1</td>\n",
              "      <td>NaN</td>\n",
              "      <td>NaN</td>\n",
              "    </tr>\n",
              "    <tr>\n",
              "      <th>646210</th>\n",
              "      <td>SAINT-LOUIS</td>\n",
              "      <td>K &gt; 24 month</td>\n",
              "      <td>1500.0</td>\n",
              "      <td>3.0</td>\n",
              "      <td>1500.0</td>\n",
              "      <td>500.0</td>\n",
              "      <td>3.0</td>\n",
              "      <td>NaN</td>\n",
              "      <td>28.0</td>\n",
              "      <td>53.0</td>\n",
              "      <td>NaN</td>\n",
              "      <td>NaN</td>\n",
              "      <td>NaN</td>\n",
              "      <td>32</td>\n",
              "      <td>MIXT:500F= 2500F on net _2500F off net;2d</td>\n",
              "      <td>2.0</td>\n",
              "    </tr>\n",
              "    <tr>\n",
              "      <th>646211</th>\n",
              "      <td>THIES</td>\n",
              "      <td>K &gt; 24 month</td>\n",
              "      <td>13000.0</td>\n",
              "      <td>26.0</td>\n",
              "      <td>14000.0</td>\n",
              "      <td>4667.0</td>\n",
              "      <td>26.0</td>\n",
              "      <td>NaN</td>\n",
              "      <td>2973.0</td>\n",
              "      <td>183.0</td>\n",
              "      <td>50.0</td>\n",
              "      <td>NaN</td>\n",
              "      <td>NaN</td>\n",
              "      <td>58</td>\n",
              "      <td>On-net 500F_FNF;3d</td>\n",
              "      <td>15.0</td>\n",
              "    </tr>\n",
              "    <tr>\n",
              "      <th>646212</th>\n",
              "      <td>NaN</td>\n",
              "      <td>K &gt; 24 month</td>\n",
              "      <td>3100.0</td>\n",
              "      <td>4.0</td>\n",
              "      <td>3033.0</td>\n",
              "      <td>1011.0</td>\n",
              "      <td>4.0</td>\n",
              "      <td>12905.0</td>\n",
              "      <td>NaN</td>\n",
              "      <td>0.0</td>\n",
              "      <td>NaN</td>\n",
              "      <td>NaN</td>\n",
              "      <td>NaN</td>\n",
              "      <td>24</td>\n",
              "      <td>Data:1000F=5GB,7d</td>\n",
              "      <td>3.0</td>\n",
              "    </tr>\n",
              "    <tr>\n",
              "      <th>646213</th>\n",
              "      <td>KOLDA</td>\n",
              "      <td>K &gt; 24 month</td>\n",
              "      <td>6500.0</td>\n",
              "      <td>12.0</td>\n",
              "      <td>6500.0</td>\n",
              "      <td>2167.0</td>\n",
              "      <td>11.0</td>\n",
              "      <td>NaN</td>\n",
              "      <td>49.0</td>\n",
              "      <td>220.0</td>\n",
              "      <td>NaN</td>\n",
              "      <td>NaN</td>\n",
              "      <td>NaN</td>\n",
              "      <td>57</td>\n",
              "      <td>All-net 500F =2000F_AllNet_Unlimited</td>\n",
              "      <td>13.0</td>\n",
              "    </tr>\n",
              "  </tbody>\n",
              "</table>\n",
              "<p>646214 rows × 16 columns</p>\n",
              "</div>"
            ],
            "text/plain": [
              "             REGION  ... FREQ_TOP_PACK\n",
              "0             MATAM  ...           1.0\n",
              "1          DIOURBEL  ...           NaN\n",
              "2             DAKAR  ...           3.0\n",
              "3             LOUGA  ...           NaN\n",
              "4               NaN  ...           NaN\n",
              "...             ...  ...           ...\n",
              "646209      KAOLACK  ...           NaN\n",
              "646210  SAINT-LOUIS  ...           2.0\n",
              "646211        THIES  ...          15.0\n",
              "646212          NaN  ...           3.0\n",
              "646213        KOLDA  ...          13.0\n",
              "\n",
              "[646214 rows x 16 columns]"
            ]
          },
          "metadata": {
            "tags": []
          },
          "execution_count": 44
        }
      ]
    },
    {
      "cell_type": "markdown",
      "metadata": {
        "id": "zRPSIS-b5qJB",
        "colab_type": "text"
      },
      "source": [
        "> Median Imputation for Outlier values"
      ]
    },
    {
      "cell_type": "code",
      "metadata": {
        "id": "RVgJ0wOR5qJC",
        "colab_type": "code",
        "colab": {}
      },
      "source": [
        "class ImputeOutlier(BaseEstimator, TransformerMixin):\n",
        "\n",
        "\n",
        "  def __init__(self):\n",
        "    pass \n",
        "\n",
        "  def fit(self, X:pd.DataFrame, y=None):\n",
        "    self.X_copy_ = X.copy()\n",
        "    self.X_cols_ = self.X_copy_.select_dtypes(include=['int64', 'float64']).columns.tolist()\n",
        " \n",
        "    return self\n",
        "\n",
        "  def transform(self, X, y=None):\n",
        "\n",
        "      for col in self.X_cols_: \n",
        "        low  = self.X_copy_[col].quantile(0.05) \n",
        "        high = self.X_copy_[col].quantile(0.95)  \n",
        "\n",
        "        self.X_copy_[col] = self.X_copy_[col].mask(self.X_copy_[col] > high, high) #np.where(self.X_copy_[col] > high, median,self.X_copy_[col])\n",
        "        self.X_copy_[col] = self.X_copy_[col].mask(self.X_copy_[col] < low, low) #np.where(self.X_copy_[col] < low, median, self.X_copy_[col]) \n",
        "        \n",
        "      return self.X_copy_\n",
        "\n",
        "\n",
        "  def fit_transform(self, X:pd.DataFrame, y=None): \n",
        "\n",
        "    self = self.fit(X)\n",
        "    self.X_copy_ = self.transform(X)\n",
        "\n",
        "\n",
        "    return self.X_copy_ "
      ],
      "execution_count": 45,
      "outputs": []
    },
    {
      "cell_type": "code",
      "metadata": {
        "id": "KoVj2Fqj90Z7",
        "colab_type": "code",
        "colab": {
          "base_uri": "https://localhost:8080/",
          "height": 617
        },
        "outputId": "c65aaa78-e7ec-4d6f-d982-f512eacbb844"
      },
      "source": [
        "imp_out = ImputeOutlier()\n",
        "train_process = imp_out.fit_transform(train_process)  \n",
        "train_process "
      ],
      "execution_count": 46,
      "outputs": [
        {
          "output_type": "execute_result",
          "data": {
            "text/html": [
              "<div>\n",
              "<style scoped>\n",
              "    .dataframe tbody tr th:only-of-type {\n",
              "        vertical-align: middle;\n",
              "    }\n",
              "\n",
              "    .dataframe tbody tr th {\n",
              "        vertical-align: top;\n",
              "    }\n",
              "\n",
              "    .dataframe thead th {\n",
              "        text-align: right;\n",
              "    }\n",
              "</style>\n",
              "<table border=\"1\" class=\"dataframe\">\n",
              "  <thead>\n",
              "    <tr style=\"text-align: right;\">\n",
              "      <th></th>\n",
              "      <th>REGION</th>\n",
              "      <th>TENURE</th>\n",
              "      <th>MONTANT</th>\n",
              "      <th>FREQUENCE_RECH</th>\n",
              "      <th>REVENUE</th>\n",
              "      <th>ARPU_SEGMENT</th>\n",
              "      <th>FREQUENCE</th>\n",
              "      <th>DATA_VOLUME</th>\n",
              "      <th>ON_NET</th>\n",
              "      <th>ORANGE</th>\n",
              "      <th>TIGO</th>\n",
              "      <th>ZONE1</th>\n",
              "      <th>ZONE2</th>\n",
              "      <th>REGULARITY</th>\n",
              "      <th>TOP_PACK</th>\n",
              "      <th>FREQ_TOP_PACK</th>\n",
              "    </tr>\n",
              "  </thead>\n",
              "  <tbody>\n",
              "    <tr>\n",
              "      <th>0</th>\n",
              "      <td>MATAM</td>\n",
              "      <td>K &gt; 24 month</td>\n",
              "      <td>1000.0</td>\n",
              "      <td>1.0</td>\n",
              "      <td>990.0</td>\n",
              "      <td>330.0</td>\n",
              "      <td>1.0</td>\n",
              "      <td>97.0</td>\n",
              "      <td>1.0</td>\n",
              "      <td>NaN</td>\n",
              "      <td>NaN</td>\n",
              "      <td>NaN</td>\n",
              "      <td>NaN</td>\n",
              "      <td>22</td>\n",
              "      <td>Data:1000F=2GB,30d</td>\n",
              "      <td>1.0</td>\n",
              "    </tr>\n",
              "    <tr>\n",
              "      <th>1</th>\n",
              "      <td>DIOURBEL</td>\n",
              "      <td>K &gt; 24 month</td>\n",
              "      <td>NaN</td>\n",
              "      <td>NaN</td>\n",
              "      <td>NaN</td>\n",
              "      <td>NaN</td>\n",
              "      <td>NaN</td>\n",
              "      <td>223.0</td>\n",
              "      <td>NaN</td>\n",
              "      <td>NaN</td>\n",
              "      <td>NaN</td>\n",
              "      <td>NaN</td>\n",
              "      <td>NaN</td>\n",
              "      <td>4</td>\n",
              "      <td>NaN</td>\n",
              "      <td>NaN</td>\n",
              "    </tr>\n",
              "    <tr>\n",
              "      <th>2</th>\n",
              "      <td>DAKAR</td>\n",
              "      <td>K &gt; 24 month</td>\n",
              "      <td>700.0</td>\n",
              "      <td>5.0</td>\n",
              "      <td>1010.0</td>\n",
              "      <td>337.0</td>\n",
              "      <td>7.0</td>\n",
              "      <td>566.0</td>\n",
              "      <td>1.0</td>\n",
              "      <td>3.0</td>\n",
              "      <td>15.0</td>\n",
              "      <td>0.0</td>\n",
              "      <td>NaN</td>\n",
              "      <td>8</td>\n",
              "      <td>Data: 100 F=40MB,24H</td>\n",
              "      <td>3.0</td>\n",
              "    </tr>\n",
              "    <tr>\n",
              "      <th>3</th>\n",
              "      <td>LOUGA</td>\n",
              "      <td>K &gt; 24 month</td>\n",
              "      <td>NaN</td>\n",
              "      <td>NaN</td>\n",
              "      <td>NaN</td>\n",
              "      <td>NaN</td>\n",
              "      <td>NaN</td>\n",
              "      <td>NaN</td>\n",
              "      <td>NaN</td>\n",
              "      <td>NaN</td>\n",
              "      <td>NaN</td>\n",
              "      <td>NaN</td>\n",
              "      <td>NaN</td>\n",
              "      <td>3</td>\n",
              "      <td>NaN</td>\n",
              "      <td>NaN</td>\n",
              "    </tr>\n",
              "    <tr>\n",
              "      <th>4</th>\n",
              "      <td>NaN</td>\n",
              "      <td>K &gt; 24 month</td>\n",
              "      <td>3000.0</td>\n",
              "      <td>3.0</td>\n",
              "      <td>2995.0</td>\n",
              "      <td>998.0</td>\n",
              "      <td>3.0</td>\n",
              "      <td>NaN</td>\n",
              "      <td>NaN</td>\n",
              "      <td>33.0</td>\n",
              "      <td>NaN</td>\n",
              "      <td>NaN</td>\n",
              "      <td>NaN</td>\n",
              "      <td>9</td>\n",
              "      <td>NaN</td>\n",
              "      <td>NaN</td>\n",
              "    </tr>\n",
              "    <tr>\n",
              "      <th>...</th>\n",
              "      <td>...</td>\n",
              "      <td>...</td>\n",
              "      <td>...</td>\n",
              "      <td>...</td>\n",
              "      <td>...</td>\n",
              "      <td>...</td>\n",
              "      <td>...</td>\n",
              "      <td>...</td>\n",
              "      <td>...</td>\n",
              "      <td>...</td>\n",
              "      <td>...</td>\n",
              "      <td>...</td>\n",
              "      <td>...</td>\n",
              "      <td>...</td>\n",
              "      <td>...</td>\n",
              "      <td>...</td>\n",
              "    </tr>\n",
              "    <tr>\n",
              "      <th>646209</th>\n",
              "      <td>KAOLACK</td>\n",
              "      <td>K &gt; 24 month</td>\n",
              "      <td>NaN</td>\n",
              "      <td>NaN</td>\n",
              "      <td>NaN</td>\n",
              "      <td>NaN</td>\n",
              "      <td>NaN</td>\n",
              "      <td>NaN</td>\n",
              "      <td>NaN</td>\n",
              "      <td>NaN</td>\n",
              "      <td>NaN</td>\n",
              "      <td>NaN</td>\n",
              "      <td>NaN</td>\n",
              "      <td>1</td>\n",
              "      <td>NaN</td>\n",
              "      <td>NaN</td>\n",
              "    </tr>\n",
              "    <tr>\n",
              "      <th>646210</th>\n",
              "      <td>SAINT-LOUIS</td>\n",
              "      <td>K &gt; 24 month</td>\n",
              "      <td>1500.0</td>\n",
              "      <td>3.0</td>\n",
              "      <td>1500.0</td>\n",
              "      <td>500.0</td>\n",
              "      <td>3.0</td>\n",
              "      <td>NaN</td>\n",
              "      <td>28.0</td>\n",
              "      <td>53.0</td>\n",
              "      <td>NaN</td>\n",
              "      <td>NaN</td>\n",
              "      <td>NaN</td>\n",
              "      <td>32</td>\n",
              "      <td>MIXT:500F= 2500F on net _2500F off net;2d</td>\n",
              "      <td>2.0</td>\n",
              "    </tr>\n",
              "    <tr>\n",
              "      <th>646211</th>\n",
              "      <td>THIES</td>\n",
              "      <td>K &gt; 24 month</td>\n",
              "      <td>13000.0</td>\n",
              "      <td>26.0</td>\n",
              "      <td>14000.0</td>\n",
              "      <td>4667.0</td>\n",
              "      <td>26.0</td>\n",
              "      <td>NaN</td>\n",
              "      <td>1355.0</td>\n",
              "      <td>183.0</td>\n",
              "      <td>50.0</td>\n",
              "      <td>NaN</td>\n",
              "      <td>NaN</td>\n",
              "      <td>58</td>\n",
              "      <td>On-net 500F_FNF;3d</td>\n",
              "      <td>15.0</td>\n",
              "    </tr>\n",
              "    <tr>\n",
              "      <th>646212</th>\n",
              "      <td>NaN</td>\n",
              "      <td>K &gt; 24 month</td>\n",
              "      <td>3100.0</td>\n",
              "      <td>4.0</td>\n",
              "      <td>3033.0</td>\n",
              "      <td>1011.0</td>\n",
              "      <td>4.0</td>\n",
              "      <td>12905.0</td>\n",
              "      <td>NaN</td>\n",
              "      <td>1.0</td>\n",
              "      <td>NaN</td>\n",
              "      <td>NaN</td>\n",
              "      <td>NaN</td>\n",
              "      <td>24</td>\n",
              "      <td>Data:1000F=5GB,7d</td>\n",
              "      <td>3.0</td>\n",
              "    </tr>\n",
              "    <tr>\n",
              "      <th>646213</th>\n",
              "      <td>KOLDA</td>\n",
              "      <td>K &gt; 24 month</td>\n",
              "      <td>6500.0</td>\n",
              "      <td>12.0</td>\n",
              "      <td>6500.0</td>\n",
              "      <td>2167.0</td>\n",
              "      <td>11.0</td>\n",
              "      <td>NaN</td>\n",
              "      <td>49.0</td>\n",
              "      <td>220.0</td>\n",
              "      <td>NaN</td>\n",
              "      <td>NaN</td>\n",
              "      <td>NaN</td>\n",
              "      <td>57</td>\n",
              "      <td>All-net 500F =2000F_AllNet_Unlimited</td>\n",
              "      <td>13.0</td>\n",
              "    </tr>\n",
              "  </tbody>\n",
              "</table>\n",
              "<p>646214 rows × 16 columns</p>\n",
              "</div>"
            ],
            "text/plain": [
              "             REGION  ... FREQ_TOP_PACK\n",
              "0             MATAM  ...           1.0\n",
              "1          DIOURBEL  ...           NaN\n",
              "2             DAKAR  ...           3.0\n",
              "3             LOUGA  ...           NaN\n",
              "4               NaN  ...           NaN\n",
              "...             ...  ...           ...\n",
              "646209      KAOLACK  ...           NaN\n",
              "646210  SAINT-LOUIS  ...           2.0\n",
              "646211        THIES  ...          15.0\n",
              "646212          NaN  ...           3.0\n",
              "646213        KOLDA  ...          13.0\n",
              "\n",
              "[646214 rows x 16 columns]"
            ]
          },
          "metadata": {
            "tags": []
          },
          "execution_count": 46
        }
      ]
    },
    {
      "cell_type": "code",
      "metadata": {
        "id": "DxM0pSPuAlle",
        "colab_type": "code",
        "colab": {
          "base_uri": "https://localhost:8080/",
          "height": 478
        },
        "outputId": "13a86920-b84f-4d82-85ab-fe25fe3f91c7"
      },
      "source": [
        "check_outliers(train_process) "
      ],
      "execution_count": 47,
      "outputs": [
        {
          "output_type": "stream",
          "text": [
            "{'MONTANT': True, 'FREQUENCE_RECH': True, 'REVENUE': True, 'ARPU_SEGMENT': True, 'FREQUENCE': False, 'DATA_VOLUME': True, 'ON_NET': True, 'ORANGE': True, 'TIGO': True, 'ZONE1': True, 'ZONE2': True, 'REGULARITY': False, 'FREQ_TOP_PACK': True}\n",
            "(646214, 16)\n"
          ],
          "name": "stdout"
        },
        {
          "output_type": "execute_result",
          "data": {
            "text/html": [
              "<div>\n",
              "<style scoped>\n",
              "    .dataframe tbody tr th:only-of-type {\n",
              "        vertical-align: middle;\n",
              "    }\n",
              "\n",
              "    .dataframe tbody tr th {\n",
              "        vertical-align: top;\n",
              "    }\n",
              "\n",
              "    .dataframe thead th {\n",
              "        text-align: right;\n",
              "    }\n",
              "</style>\n",
              "<table border=\"1\" class=\"dataframe\">\n",
              "  <thead>\n",
              "    <tr style=\"text-align: right;\">\n",
              "      <th></th>\n",
              "      <th>MONTANT</th>\n",
              "      <th>FREQUENCE_RECH</th>\n",
              "      <th>REVENUE</th>\n",
              "      <th>ARPU_SEGMENT</th>\n",
              "      <th>DATA_VOLUME</th>\n",
              "      <th>ON_NET</th>\n",
              "      <th>ORANGE</th>\n",
              "      <th>TIGO</th>\n",
              "      <th>ZONE1</th>\n",
              "      <th>ZONE2</th>\n",
              "      <th>FREQ_TOP_PACK</th>\n",
              "    </tr>\n",
              "  </thead>\n",
              "  <tbody>\n",
              "    <tr>\n",
              "      <th>0</th>\n",
              "      <td>1000.0</td>\n",
              "      <td>1.0</td>\n",
              "      <td>990.0</td>\n",
              "      <td>330.0</td>\n",
              "      <td>97.0</td>\n",
              "      <td>1.0</td>\n",
              "      <td>NaN</td>\n",
              "      <td>NaN</td>\n",
              "      <td>NaN</td>\n",
              "      <td>NaN</td>\n",
              "      <td>1.0</td>\n",
              "    </tr>\n",
              "    <tr>\n",
              "      <th>1</th>\n",
              "      <td>NaN</td>\n",
              "      <td>NaN</td>\n",
              "      <td>NaN</td>\n",
              "      <td>NaN</td>\n",
              "      <td>223.0</td>\n",
              "      <td>NaN</td>\n",
              "      <td>NaN</td>\n",
              "      <td>NaN</td>\n",
              "      <td>NaN</td>\n",
              "      <td>NaN</td>\n",
              "      <td>NaN</td>\n",
              "    </tr>\n",
              "    <tr>\n",
              "      <th>2</th>\n",
              "      <td>700.0</td>\n",
              "      <td>5.0</td>\n",
              "      <td>1010.0</td>\n",
              "      <td>337.0</td>\n",
              "      <td>566.0</td>\n",
              "      <td>1.0</td>\n",
              "      <td>3.0</td>\n",
              "      <td>15.0</td>\n",
              "      <td>0.0</td>\n",
              "      <td>NaN</td>\n",
              "      <td>3.0</td>\n",
              "    </tr>\n",
              "    <tr>\n",
              "      <th>3</th>\n",
              "      <td>NaN</td>\n",
              "      <td>NaN</td>\n",
              "      <td>NaN</td>\n",
              "      <td>NaN</td>\n",
              "      <td>NaN</td>\n",
              "      <td>NaN</td>\n",
              "      <td>NaN</td>\n",
              "      <td>NaN</td>\n",
              "      <td>NaN</td>\n",
              "      <td>NaN</td>\n",
              "      <td>NaN</td>\n",
              "    </tr>\n",
              "    <tr>\n",
              "      <th>4</th>\n",
              "      <td>3000.0</td>\n",
              "      <td>3.0</td>\n",
              "      <td>2995.0</td>\n",
              "      <td>998.0</td>\n",
              "      <td>NaN</td>\n",
              "      <td>NaN</td>\n",
              "      <td>33.0</td>\n",
              "      <td>NaN</td>\n",
              "      <td>NaN</td>\n",
              "      <td>NaN</td>\n",
              "      <td>NaN</td>\n",
              "    </tr>\n",
              "    <tr>\n",
              "      <th>...</th>\n",
              "      <td>...</td>\n",
              "      <td>...</td>\n",
              "      <td>...</td>\n",
              "      <td>...</td>\n",
              "      <td>...</td>\n",
              "      <td>...</td>\n",
              "      <td>...</td>\n",
              "      <td>...</td>\n",
              "      <td>...</td>\n",
              "      <td>...</td>\n",
              "      <td>...</td>\n",
              "    </tr>\n",
              "    <tr>\n",
              "      <th>646209</th>\n",
              "      <td>NaN</td>\n",
              "      <td>NaN</td>\n",
              "      <td>NaN</td>\n",
              "      <td>NaN</td>\n",
              "      <td>NaN</td>\n",
              "      <td>NaN</td>\n",
              "      <td>NaN</td>\n",
              "      <td>NaN</td>\n",
              "      <td>NaN</td>\n",
              "      <td>NaN</td>\n",
              "      <td>NaN</td>\n",
              "    </tr>\n",
              "    <tr>\n",
              "      <th>646210</th>\n",
              "      <td>1500.0</td>\n",
              "      <td>3.0</td>\n",
              "      <td>1500.0</td>\n",
              "      <td>500.0</td>\n",
              "      <td>NaN</td>\n",
              "      <td>28.0</td>\n",
              "      <td>53.0</td>\n",
              "      <td>NaN</td>\n",
              "      <td>NaN</td>\n",
              "      <td>NaN</td>\n",
              "      <td>2.0</td>\n",
              "    </tr>\n",
              "    <tr>\n",
              "      <th>646211</th>\n",
              "      <td>13000.0</td>\n",
              "      <td>26.0</td>\n",
              "      <td>14000.0</td>\n",
              "      <td>4667.0</td>\n",
              "      <td>NaN</td>\n",
              "      <td>1355.0</td>\n",
              "      <td>183.0</td>\n",
              "      <td>50.0</td>\n",
              "      <td>NaN</td>\n",
              "      <td>NaN</td>\n",
              "      <td>15.0</td>\n",
              "    </tr>\n",
              "    <tr>\n",
              "      <th>646212</th>\n",
              "      <td>3100.0</td>\n",
              "      <td>4.0</td>\n",
              "      <td>3033.0</td>\n",
              "      <td>1011.0</td>\n",
              "      <td>12905.0</td>\n",
              "      <td>NaN</td>\n",
              "      <td>1.0</td>\n",
              "      <td>NaN</td>\n",
              "      <td>NaN</td>\n",
              "      <td>NaN</td>\n",
              "      <td>3.0</td>\n",
              "    </tr>\n",
              "    <tr>\n",
              "      <th>646213</th>\n",
              "      <td>6500.0</td>\n",
              "      <td>12.0</td>\n",
              "      <td>6500.0</td>\n",
              "      <td>2167.0</td>\n",
              "      <td>NaN</td>\n",
              "      <td>49.0</td>\n",
              "      <td>220.0</td>\n",
              "      <td>NaN</td>\n",
              "      <td>NaN</td>\n",
              "      <td>NaN</td>\n",
              "      <td>13.0</td>\n",
              "    </tr>\n",
              "  </tbody>\n",
              "</table>\n",
              "<p>646214 rows × 11 columns</p>\n",
              "</div>"
            ],
            "text/plain": [
              "        MONTANT  FREQUENCE_RECH  REVENUE  ...  ZONE1  ZONE2  FREQ_TOP_PACK\n",
              "0        1000.0             1.0    990.0  ...    NaN    NaN            1.0\n",
              "1           NaN             NaN      NaN  ...    NaN    NaN            NaN\n",
              "2         700.0             5.0   1010.0  ...    0.0    NaN            3.0\n",
              "3           NaN             NaN      NaN  ...    NaN    NaN            NaN\n",
              "4        3000.0             3.0   2995.0  ...    NaN    NaN            NaN\n",
              "...         ...             ...      ...  ...    ...    ...            ...\n",
              "646209      NaN             NaN      NaN  ...    NaN    NaN            NaN\n",
              "646210   1500.0             3.0   1500.0  ...    NaN    NaN            2.0\n",
              "646211  13000.0            26.0  14000.0  ...    NaN    NaN           15.0\n",
              "646212   3100.0             4.0   3033.0  ...    NaN    NaN            3.0\n",
              "646213   6500.0            12.0   6500.0  ...    NaN    NaN           13.0\n",
              "\n",
              "[646214 rows x 11 columns]"
            ]
          },
          "metadata": {
            "tags": []
          },
          "execution_count": 47
        }
      ]
    },
    {
      "cell_type": "markdown",
      "metadata": {
        "id": "p41-cuvk5qJQ",
        "colab_type": "text"
      },
      "source": [
        "no more outlier values"
      ]
    },
    {
      "cell_type": "markdown",
      "metadata": {
        "id": "H8zV29IlA5od",
        "colab_type": "text"
      },
      "source": [
        "> Impute NaNs in categorical values\n"
      ]
    },
    {
      "cell_type": "code",
      "metadata": {
        "id": "tqlmMLqgA9am",
        "colab_type": "code",
        "colab": {}
      },
      "source": [
        "cat_imp = SimpleImputer(strategy='most_frequent')  "
      ],
      "execution_count": 48,
      "outputs": []
    },
    {
      "cell_type": "code",
      "metadata": {
        "id": "WmEBKFWQEFn6",
        "colab_type": "code",
        "colab": {
          "base_uri": "https://localhost:8080/",
          "height": 156
        },
        "outputId": "d7940fe9-181a-4508-dec5-885c326da4f3"
      },
      "source": [
        "train_cat = train_process.select_dtypes('object')\n",
        "train_cat  = cat_imp.fit_transform(train_cat)\n",
        "train_cat "
      ],
      "execution_count": 49,
      "outputs": [
        {
          "output_type": "execute_result",
          "data": {
            "text/plain": [
              "array([['MATAM', 'K > 24 month', 'Data:1000F=2GB,30d'],\n",
              "       ['DIOURBEL', 'K > 24 month', 'All-net 500F=2000F;5d'],\n",
              "       ['DAKAR', 'K > 24 month', 'Data: 100 F=40MB,24H'],\n",
              "       ...,\n",
              "       ['THIES', 'K > 24 month', 'On-net 500F_FNF;3d'],\n",
              "       ['DAKAR', 'K > 24 month', 'Data:1000F=5GB,7d'],\n",
              "       ['KOLDA', 'K > 24 month', 'All-net 500F =2000F_AllNet_Unlimited']],\n",
              "      dtype=object)"
            ]
          },
          "metadata": {
            "tags": []
          },
          "execution_count": 49
        }
      ]
    },
    {
      "cell_type": "code",
      "metadata": {
        "id": "U7fCz02qFFuA",
        "colab_type": "code",
        "colab": {}
      },
      "source": [
        "# train_cat = pd.DataFrame(data=train_cat, columns=  train_process.select_dtypes('object').columns.tolist())\n",
        "# train_cat.isna().any()"
      ],
      "execution_count": 50,
      "outputs": []
    },
    {
      "cell_type": "code",
      "metadata": {
        "id": "olYi_H9IFbJg",
        "colab_type": "code",
        "colab": {
          "base_uri": "https://localhost:8080/",
          "height": 156
        },
        "outputId": "a0cd0d12-4303-4e14-e018-adaee9a47e77"
      },
      "source": [
        "train_cat"
      ],
      "execution_count": 51,
      "outputs": [
        {
          "output_type": "execute_result",
          "data": {
            "text/plain": [
              "array([['MATAM', 'K > 24 month', 'Data:1000F=2GB,30d'],\n",
              "       ['DIOURBEL', 'K > 24 month', 'All-net 500F=2000F;5d'],\n",
              "       ['DAKAR', 'K > 24 month', 'Data: 100 F=40MB,24H'],\n",
              "       ...,\n",
              "       ['THIES', 'K > 24 month', 'On-net 500F_FNF;3d'],\n",
              "       ['DAKAR', 'K > 24 month', 'Data:1000F=5GB,7d'],\n",
              "       ['KOLDA', 'K > 24 month', 'All-net 500F =2000F_AllNet_Unlimited']],\n",
              "      dtype=object)"
            ]
          },
          "metadata": {
            "tags": []
          },
          "execution_count": 51
        }
      ]
    },
    {
      "cell_type": "markdown",
      "metadata": {
        "colab_type": "text",
        "id": "PekSFxIsGG1r"
      },
      "source": [
        "> Impute NaNs in numeric values\n"
      ]
    },
    {
      "cell_type": "code",
      "metadata": {
        "colab_type": "code",
        "id": "nKYgMVEVGG1y",
        "colab": {}
      },
      "source": [
        "num_imp = SimpleImputer(strategy='mean')  "
      ],
      "execution_count": 52,
      "outputs": []
    },
    {
      "cell_type": "code",
      "metadata": {
        "colab_type": "code",
        "id": "oxB8S67LGG2G",
        "colab": {
          "base_uri": "https://localhost:8080/",
          "height": 243
        },
        "outputId": "f51f99c4-6e5d-47c0-e7b5-b264587ebb95"
      },
      "source": [
        "train_num = train_process.select_dtypes(['float64', 'int64'])\n",
        "train_num  = num_imp.fit_transform(train_num)\n",
        "train_num "
      ],
      "execution_count": 53,
      "outputs": [
        {
          "output_type": "execute_result",
          "data": {
            "text/plain": [
              "array([[1.00000000e+03, 1.00000000e+00, 9.90000000e+02, ...,\n",
              "        4.58300058e+00, 2.20000000e+01, 1.00000000e+00],\n",
              "       [5.06620662e+03, 1.08729154e+01, 5.04291330e+03, ...,\n",
              "        4.58300058e+00, 4.00000000e+00, 8.46710770e+00],\n",
              "       [7.00000000e+02, 5.00000000e+00, 1.01000000e+03, ...,\n",
              "        4.58300058e+00, 8.00000000e+00, 3.00000000e+00],\n",
              "       ...,\n",
              "       [1.30000000e+04, 2.60000000e+01, 1.40000000e+04, ...,\n",
              "        4.58300058e+00, 5.80000000e+01, 1.50000000e+01],\n",
              "       [3.10000000e+03, 4.00000000e+00, 3.03300000e+03, ...,\n",
              "        4.58300058e+00, 2.40000000e+01, 3.00000000e+00],\n",
              "       [6.50000000e+03, 1.20000000e+01, 6.50000000e+03, ...,\n",
              "        4.58300058e+00, 5.70000000e+01, 1.30000000e+01]])"
            ]
          },
          "metadata": {
            "tags": []
          },
          "execution_count": 53
        }
      ]
    },
    {
      "cell_type": "code",
      "metadata": {
        "colab_type": "code",
        "id": "TlPEghRcGG2T",
        "colab": {}
      },
      "source": [
        "# train_num = pd.DataFrame(data=train_num, columns=  train_process.select_dtypes(['float64', 'int64']).columns.tolist())\n",
        "# train_num.isna().any()"
      ],
      "execution_count": 54,
      "outputs": []
    },
    {
      "cell_type": "code",
      "metadata": {
        "colab_type": "code",
        "id": "-pISpBbhGG2f",
        "colab": {
          "base_uri": "https://localhost:8080/",
          "height": 243
        },
        "outputId": "0fb11904-9797-42bf-80b2-8ae0bedf6238"
      },
      "source": [
        "train_num"
      ],
      "execution_count": 55,
      "outputs": [
        {
          "output_type": "execute_result",
          "data": {
            "text/plain": [
              "array([[1.00000000e+03, 1.00000000e+00, 9.90000000e+02, ...,\n",
              "        4.58300058e+00, 2.20000000e+01, 1.00000000e+00],\n",
              "       [5.06620662e+03, 1.08729154e+01, 5.04291330e+03, ...,\n",
              "        4.58300058e+00, 4.00000000e+00, 8.46710770e+00],\n",
              "       [7.00000000e+02, 5.00000000e+00, 1.01000000e+03, ...,\n",
              "        4.58300058e+00, 8.00000000e+00, 3.00000000e+00],\n",
              "       ...,\n",
              "       [1.30000000e+04, 2.60000000e+01, 1.40000000e+04, ...,\n",
              "        4.58300058e+00, 5.80000000e+01, 1.50000000e+01],\n",
              "       [3.10000000e+03, 4.00000000e+00, 3.03300000e+03, ...,\n",
              "        4.58300058e+00, 2.40000000e+01, 3.00000000e+00],\n",
              "       [6.50000000e+03, 1.20000000e+01, 6.50000000e+03, ...,\n",
              "        4.58300058e+00, 5.70000000e+01, 1.30000000e+01]])"
            ]
          },
          "metadata": {
            "tags": []
          },
          "execution_count": 55
        }
      ]
    },
    {
      "cell_type": "markdown",
      "metadata": {
        "id": "cOG90cFqHDJF",
        "colab_type": "text"
      },
      "source": [
        "> merge columns"
      ]
    },
    {
      "cell_type": "code",
      "metadata": {
        "id": "S3mdu-IXHFN3",
        "colab_type": "code",
        "colab": {}
      },
      "source": [
        "# train_process = train_cat.merge(train_num, left_index=True, right_index=True)\n",
        "# train_process.isna().any()"
      ],
      "execution_count": 56,
      "outputs": []
    },
    {
      "cell_type": "code",
      "metadata": {
        "id": "kJ13-frGgJSY",
        "colab_type": "code",
        "colab": {}
      },
      "source": [
        "train_process = np.concatenate((train_cat, train_num), axis=1)"
      ],
      "execution_count": 57,
      "outputs": []
    },
    {
      "cell_type": "code",
      "metadata": {
        "id": "6oVvyHvWHlsw",
        "colab_type": "code",
        "colab": {
          "base_uri": "https://localhost:8080/",
          "height": 243
        },
        "outputId": "f92ca22f-d57d-43d9-dea7-fe2da4c6644f"
      },
      "source": [
        "train_process "
      ],
      "execution_count": 58,
      "outputs": [
        {
          "output_type": "execute_result",
          "data": {
            "text/plain": [
              "array([['MATAM', 'K > 24 month', 'Data:1000F=2GB,30d', ...,\n",
              "        4.583000584339696, 22.0, 1.0],\n",
              "       ['DIOURBEL', 'K > 24 month', 'All-net 500F=2000F;5d', ...,\n",
              "        4.583000584339696, 4.0, 8.467107699603817],\n",
              "       ['DAKAR', 'K > 24 month', 'Data: 100 F=40MB,24H', ...,\n",
              "        4.583000584339696, 8.0, 3.0],\n",
              "       ...,\n",
              "       ['THIES', 'K > 24 month', 'On-net 500F_FNF;3d', ...,\n",
              "        4.583000584339696, 58.0, 15.0],\n",
              "       ['DAKAR', 'K > 24 month', 'Data:1000F=5GB,7d', ...,\n",
              "        4.583000584339696, 24.0, 3.0],\n",
              "       ['KOLDA', 'K > 24 month', 'All-net 500F =2000F_AllNet_Unlimited',\n",
              "        ..., 4.583000584339696, 57.0, 13.0]], dtype=object)"
            ]
          },
          "metadata": {
            "tags": []
          },
          "execution_count": 58
        }
      ]
    },
    {
      "cell_type": "markdown",
      "metadata": {
        "id": "ROuVBnqWH9ef",
        "colab_type": "text"
      },
      "source": [
        "> Feature Engineering\n",
        " - Extract feature of users' rank by (Group of Region by Tenure) \n",
        " - Extract feature users' rank  by TOPPACK\n",
        " - Balance Class Imbalance\n",
        " - Feature Union (K-best Selector and PCA components)"
      ]
    },
    {
      "cell_type": "markdown",
      "metadata": {
        "id": "oone-i7MIDHG",
        "colab_type": "text"
      },
      "source": [
        " - Extract feature of users' rank by (Group of Region by Tenure) \n",
        " - Extract feature users' rank  by TOPPACK"
      ]
    },
    {
      "cell_type": "code",
      "metadata": {
        "id": "Ek5XFkkEH8zl",
        "colab_type": "code",
        "colab": {}
      },
      "source": [
        "# train_process_copy = train_process.copy() "
      ],
      "execution_count": 59,
      "outputs": []
    },
    {
      "cell_type": "code",
      "metadata": {
        "id": "LRB7IVMZH8w7",
        "colab_type": "code",
        "colab": {}
      },
      "source": [
        "# train_process_copy.TENURE.value_counts()"
      ],
      "execution_count": 60,
      "outputs": []
    },
    {
      "cell_type": "markdown",
      "metadata": {
        "id": "ykZZzNuzIbwO",
        "colab_type": "text"
      },
      "source": [
        "labelEncode Tenure"
      ]
    },
    {
      "cell_type": "code",
      "metadata": {
        "id": "fmos43PAH8uX",
        "colab_type": "code",
        "colab": {}
      },
      "source": [
        "# label_encoder = LabelEncoder()\n",
        "# train_process_copy.TENURE = label_encoder.fit_transform(train_process_copy.TENURE) \n",
        "# train_process_copy"
      ],
      "execution_count": 61,
      "outputs": []
    },
    {
      "cell_type": "code",
      "metadata": {
        "id": "IpqeasCCH8rg",
        "colab_type": "code",
        "colab": {}
      },
      "source": [
        "# top3_region = train_process_copy.groupby(['REGION'])['TENURE'].sum().sort_values(ascending=False).head(3)\n",
        "# top3_region"
      ],
      "execution_count": 62,
      "outputs": []
    },
    {
      "cell_type": "code",
      "metadata": {
        "id": "VQcuakFxJ_KX",
        "colab_type": "code",
        "colab": {}
      },
      "source": [
        "# top3_region=top3_region.index.tolist() \n",
        "# top3_region "
      ],
      "execution_count": 63,
      "outputs": []
    },
    {
      "cell_type": "code",
      "metadata": {
        "id": "TplP464rM51H",
        "colab_type": "code",
        "colab": {}
      },
      "source": [
        "# top3_region[0]"
      ],
      "execution_count": 64,
      "outputs": []
    },
    {
      "cell_type": "code",
      "metadata": {
        "id": "4GQ42AlLN95O",
        "colab_type": "code",
        "colab": {}
      },
      "source": [
        "# x = train_process_copy.REGION.copy()\n",
        "# x "
      ],
      "execution_count": 65,
      "outputs": []
    },
    {
      "cell_type": "code",
      "metadata": {
        "id": "0Q790LfnQemt",
        "colab_type": "code",
        "colab": {}
      },
      "source": [
        "# x.where((x != 1) | (x!=2) | (x !=3)) "
      ],
      "execution_count": 66,
      "outputs": []
    },
    {
      "cell_type": "code",
      "metadata": {
        "id": "cGBlM7RrH8nu",
        "colab_type": "code",
        "colab": {}
      },
      "source": [
        "# x = train_process_copy.REGION.copy()\n",
        "# x = np.where(x == top3_region[0], 3, x)\n",
        "# x = np.where(x == top3_region[1], 2, x) \n",
        "# x = np.where(x == top3_region[2], 1, x)\n",
        "# x = np.where((x != 1) & (x!=2) & (x!=3), 0, x)\n",
        "# x  "
      ],
      "execution_count": 67,
      "outputs": []
    },
    {
      "cell_type": "code",
      "metadata": {
        "id": "V-zJpXP1H8iA",
        "colab_type": "code",
        "colab": {}
      },
      "source": [
        "# set(x) "
      ],
      "execution_count": 68,
      "outputs": []
    },
    {
      "cell_type": "code",
      "metadata": {
        "id": "5rOFcCA5xmDf",
        "colab_type": "code",
        "colab": {
          "base_uri": "https://localhost:8080/",
          "height": 34
        },
        "outputId": "c8642797-c4b5-40db-a9b3-2793f9c63676"
      },
      "source": [
        "train_cols = train.drop(columns=['user_id', 'MRG']).columns.to_list()\n",
        "len(train_cols )"
      ],
      "execution_count": 69,
      "outputs": [
        {
          "output_type": "execute_result",
          "data": {
            "text/plain": [
              "16"
            ]
          },
          "metadata": {
            "tags": []
          },
          "execution_count": 69
        }
      ]
    },
    {
      "cell_type": "code",
      "metadata": {
        "id": "HdomQ3DbgzVg",
        "colab_type": "code",
        "colab": {
          "base_uri": "https://localhost:8080/",
          "height": 295
        },
        "outputId": "4138ba60-99b2-45f1-a8ef-afad053c668f"
      },
      "source": [
        "train_cols"
      ],
      "execution_count": 70,
      "outputs": [
        {
          "output_type": "execute_result",
          "data": {
            "text/plain": [
              "['REGION',\n",
              " 'TENURE',\n",
              " 'MONTANT',\n",
              " 'FREQUENCE_RECH',\n",
              " 'REVENUE',\n",
              " 'ARPU_SEGMENT',\n",
              " 'FREQUENCE',\n",
              " 'DATA_VOLUME',\n",
              " 'ON_NET',\n",
              " 'ORANGE',\n",
              " 'TIGO',\n",
              " 'ZONE1',\n",
              " 'ZONE2',\n",
              " 'REGULARITY',\n",
              " 'TOP_PACK',\n",
              " 'FREQ_TOP_PACK']"
            ]
          },
          "metadata": {
            "tags": []
          },
          "execution_count": 70
        }
      ]
    },
    {
      "cell_type": "markdown",
      "metadata": {
        "id": "NKry7zLyq1Cn",
        "colab_type": "text"
      },
      "source": [
        "> Define estimator to extract rank features"
      ]
    },
    {
      "cell_type": "code",
      "metadata": {
        "id": "E6Gk7fjSq8Qv",
        "colab_type": "code",
        "colab": {}
      },
      "source": [
        "class Ranker(BaseEstimator, TransformerMixin): \n",
        "\n",
        "  from sklearn.preprocessing import LabelEncoder\n",
        "\n",
        "  \n",
        "\n",
        "\n",
        "  def __init__(self, group_cols:list , value_col:str, columns=None):\n",
        "    self.group_cols = group_cols\n",
        "    self.value_col = value_col \n",
        "\n",
        "    self.label_encoder = LabelEncoder()\n",
        "\n",
        "    if columns is None:\n",
        "      self.columns= [ 'REGION',\n",
        "  'TENURE',\n",
        "  'TOP_PACK', \n",
        "  'MONTANT', \n",
        "  'FREQUENCE_RECH',\n",
        "  'REVENUE',\n",
        "  'ARPU_SEGMENT',\n",
        "  'FREQUENCE',\n",
        "  'DATA_VOLUME', \n",
        "  'ON_NET',\n",
        "  'ORANGE',\n",
        "  'TIGO', \n",
        "  'ZONE1',\n",
        "  'ZONE2',\n",
        "  'REGULARITY',\n",
        "  'FREQ_TOP_PACK'\n",
        "      ]\n",
        "\n",
        "  def fit(self, X, y=None): \n",
        "\n",
        "    self.X_copy = pd.DataFrame(data=X, columns=self.columns)\n",
        "\n",
        "\n",
        "    self.X_copy[self.value_col] = self.label_encoder.fit_transform(self.X_copy[self.value_col])\n",
        "    \n",
        "\n",
        "    return self\n",
        "\n",
        "\n",
        "  def transform(self, X, y=None):\n",
        "\n",
        "    self.X_copy = pd.DataFrame(data=X, columns=self.columns)\n",
        "\n",
        "    self.X_copy[self.value_col] = self.label_encoder.fit_transform(self.X_copy[self.value_col])\n",
        "\n",
        "\n",
        "    for col in self.group_cols:\n",
        "\n",
        "      self.top3_ = self.X_copy.groupby([col])[self.value_col].sum().sort_values(ascending=False).head(3) \n",
        "\n",
        "      self.top3_ = self.top3_.index.tolist()\n",
        "\n",
        "      #print(self.top3_)\n",
        "\n",
        "      self.X_copy[col] = np.where(self.X_copy[col] == \n",
        "                                            self.top3_[0], 3, self.X_copy[col]) \n",
        "      \n",
        "      self.X_copy[col] = np.where(self.X_copy[col] == \n",
        "                                            self.top3_[1], 2, self.X_copy[col])  \n",
        "      \n",
        "      self.X_copy[col] = np.where(self.X_copy[col] ==  \n",
        "                                            self.top3_[2], 1, self.X_copy[col])\n",
        "      \n",
        "      \n",
        "      self.X_copy[col] = np.where((self.X_copy[col] != 1 ) & (\n",
        "          self.X_copy[col] !=2 ) & (self.X_copy[col] !=3 ), 0, self.X_copy[col])\n",
        "\n",
        "\n",
        "    return self.X_copy\n",
        "\n",
        "\n",
        "  def fit_transform(self, X, y=None):\n",
        "\n",
        "    self = self.fit(X)\n",
        "\n",
        "    self.X_copy = self.transform(X)\n",
        "\n",
        "\n",
        "    return self.X_copy "
      ],
      "execution_count": 71,
      "outputs": []
    },
    {
      "cell_type": "code",
      "metadata": {
        "id": "1QSN_YmayE7e",
        "colab_type": "code",
        "colab": {}
      },
      "source": [
        "ranker = Ranker(group_cols=['REGION', 'TOP_PACK'], value_col='TENURE')\n",
        "train_process_copy = train_process.copy()  \n",
        "train_process_copy = ranker.fit_transform(train_process_copy)  "
      ],
      "execution_count": 72,
      "outputs": []
    },
    {
      "cell_type": "code",
      "metadata": {
        "id": "JnuqItDT1mcS",
        "colab_type": "code",
        "colab": {
          "base_uri": "https://localhost:8080/",
          "height": 444
        },
        "outputId": "7d6c1fe1-dcab-473e-db72-ec7657e99d2e"
      },
      "source": [
        "train_process_copy "
      ],
      "execution_count": 73,
      "outputs": [
        {
          "output_type": "execute_result",
          "data": {
            "text/html": [
              "<div>\n",
              "<style scoped>\n",
              "    .dataframe tbody tr th:only-of-type {\n",
              "        vertical-align: middle;\n",
              "    }\n",
              "\n",
              "    .dataframe tbody tr th {\n",
              "        vertical-align: top;\n",
              "    }\n",
              "\n",
              "    .dataframe thead th {\n",
              "        text-align: right;\n",
              "    }\n",
              "</style>\n",
              "<table border=\"1\" class=\"dataframe\">\n",
              "  <thead>\n",
              "    <tr style=\"text-align: right;\">\n",
              "      <th></th>\n",
              "      <th>REGION</th>\n",
              "      <th>TENURE</th>\n",
              "      <th>TOP_PACK</th>\n",
              "      <th>MONTANT</th>\n",
              "      <th>FREQUENCE_RECH</th>\n",
              "      <th>REVENUE</th>\n",
              "      <th>ARPU_SEGMENT</th>\n",
              "      <th>FREQUENCE</th>\n",
              "      <th>DATA_VOLUME</th>\n",
              "      <th>ON_NET</th>\n",
              "      <th>ORANGE</th>\n",
              "      <th>TIGO</th>\n",
              "      <th>ZONE1</th>\n",
              "      <th>ZONE2</th>\n",
              "      <th>REGULARITY</th>\n",
              "      <th>FREQ_TOP_PACK</th>\n",
              "    </tr>\n",
              "  </thead>\n",
              "  <tbody>\n",
              "    <tr>\n",
              "      <th>0</th>\n",
              "      <td>0</td>\n",
              "      <td>7</td>\n",
              "      <td>0</td>\n",
              "      <td>1000</td>\n",
              "      <td>1</td>\n",
              "      <td>990</td>\n",
              "      <td>330</td>\n",
              "      <td>1</td>\n",
              "      <td>97</td>\n",
              "      <td>1</td>\n",
              "      <td>77.4032</td>\n",
              "      <td>17.2667</td>\n",
              "      <td>4.16446</td>\n",
              "      <td>4.583</td>\n",
              "      <td>22</td>\n",
              "      <td>1</td>\n",
              "    </tr>\n",
              "    <tr>\n",
              "      <th>1</th>\n",
              "      <td>0</td>\n",
              "      <td>7</td>\n",
              "      <td>3</td>\n",
              "      <td>5066.21</td>\n",
              "      <td>10.8729</td>\n",
              "      <td>5042.91</td>\n",
              "      <td>1680.98</td>\n",
              "      <td>13.3206</td>\n",
              "      <td>223</td>\n",
              "      <td>185.399</td>\n",
              "      <td>77.4032</td>\n",
              "      <td>17.2667</td>\n",
              "      <td>4.16446</td>\n",
              "      <td>4.583</td>\n",
              "      <td>4</td>\n",
              "      <td>8.46711</td>\n",
              "    </tr>\n",
              "    <tr>\n",
              "      <th>2</th>\n",
              "      <td>3</td>\n",
              "      <td>7</td>\n",
              "      <td>0</td>\n",
              "      <td>700</td>\n",
              "      <td>5</td>\n",
              "      <td>1010</td>\n",
              "      <td>337</td>\n",
              "      <td>7</td>\n",
              "      <td>566</td>\n",
              "      <td>1</td>\n",
              "      <td>3</td>\n",
              "      <td>15</td>\n",
              "      <td>0</td>\n",
              "      <td>4.583</td>\n",
              "      <td>8</td>\n",
              "      <td>3</td>\n",
              "    </tr>\n",
              "    <tr>\n",
              "      <th>3</th>\n",
              "      <td>0</td>\n",
              "      <td>7</td>\n",
              "      <td>3</td>\n",
              "      <td>5066.21</td>\n",
              "      <td>10.8729</td>\n",
              "      <td>5042.91</td>\n",
              "      <td>1680.98</td>\n",
              "      <td>13.3206</td>\n",
              "      <td>2456.37</td>\n",
              "      <td>185.399</td>\n",
              "      <td>77.4032</td>\n",
              "      <td>17.2667</td>\n",
              "      <td>4.16446</td>\n",
              "      <td>4.583</td>\n",
              "      <td>3</td>\n",
              "      <td>8.46711</td>\n",
              "    </tr>\n",
              "    <tr>\n",
              "      <th>4</th>\n",
              "      <td>3</td>\n",
              "      <td>7</td>\n",
              "      <td>3</td>\n",
              "      <td>3000</td>\n",
              "      <td>3</td>\n",
              "      <td>2995</td>\n",
              "      <td>998</td>\n",
              "      <td>3</td>\n",
              "      <td>2456.37</td>\n",
              "      <td>185.399</td>\n",
              "      <td>33</td>\n",
              "      <td>17.2667</td>\n",
              "      <td>4.16446</td>\n",
              "      <td>4.583</td>\n",
              "      <td>9</td>\n",
              "      <td>8.46711</td>\n",
              "    </tr>\n",
              "    <tr>\n",
              "      <th>...</th>\n",
              "      <td>...</td>\n",
              "      <td>...</td>\n",
              "      <td>...</td>\n",
              "      <td>...</td>\n",
              "      <td>...</td>\n",
              "      <td>...</td>\n",
              "      <td>...</td>\n",
              "      <td>...</td>\n",
              "      <td>...</td>\n",
              "      <td>...</td>\n",
              "      <td>...</td>\n",
              "      <td>...</td>\n",
              "      <td>...</td>\n",
              "      <td>...</td>\n",
              "      <td>...</td>\n",
              "      <td>...</td>\n",
              "    </tr>\n",
              "    <tr>\n",
              "      <th>646209</th>\n",
              "      <td>0</td>\n",
              "      <td>7</td>\n",
              "      <td>3</td>\n",
              "      <td>5066.21</td>\n",
              "      <td>10.8729</td>\n",
              "      <td>5042.91</td>\n",
              "      <td>1680.98</td>\n",
              "      <td>13.3206</td>\n",
              "      <td>2456.37</td>\n",
              "      <td>185.399</td>\n",
              "      <td>77.4032</td>\n",
              "      <td>17.2667</td>\n",
              "      <td>4.16446</td>\n",
              "      <td>4.583</td>\n",
              "      <td>1</td>\n",
              "      <td>8.46711</td>\n",
              "    </tr>\n",
              "    <tr>\n",
              "      <th>646210</th>\n",
              "      <td>1</td>\n",
              "      <td>7</td>\n",
              "      <td>0</td>\n",
              "      <td>1500</td>\n",
              "      <td>3</td>\n",
              "      <td>1500</td>\n",
              "      <td>500</td>\n",
              "      <td>3</td>\n",
              "      <td>2456.37</td>\n",
              "      <td>28</td>\n",
              "      <td>53</td>\n",
              "      <td>17.2667</td>\n",
              "      <td>4.16446</td>\n",
              "      <td>4.583</td>\n",
              "      <td>32</td>\n",
              "      <td>2</td>\n",
              "    </tr>\n",
              "    <tr>\n",
              "      <th>646211</th>\n",
              "      <td>2</td>\n",
              "      <td>7</td>\n",
              "      <td>0</td>\n",
              "      <td>13000</td>\n",
              "      <td>26</td>\n",
              "      <td>14000</td>\n",
              "      <td>4667</td>\n",
              "      <td>26</td>\n",
              "      <td>2456.37</td>\n",
              "      <td>1355</td>\n",
              "      <td>183</td>\n",
              "      <td>50</td>\n",
              "      <td>4.16446</td>\n",
              "      <td>4.583</td>\n",
              "      <td>58</td>\n",
              "      <td>15</td>\n",
              "    </tr>\n",
              "    <tr>\n",
              "      <th>646212</th>\n",
              "      <td>3</td>\n",
              "      <td>7</td>\n",
              "      <td>0</td>\n",
              "      <td>3100</td>\n",
              "      <td>4</td>\n",
              "      <td>3033</td>\n",
              "      <td>1011</td>\n",
              "      <td>4</td>\n",
              "      <td>12905</td>\n",
              "      <td>185.399</td>\n",
              "      <td>1</td>\n",
              "      <td>17.2667</td>\n",
              "      <td>4.16446</td>\n",
              "      <td>4.583</td>\n",
              "      <td>24</td>\n",
              "      <td>3</td>\n",
              "    </tr>\n",
              "    <tr>\n",
              "      <th>646213</th>\n",
              "      <td>0</td>\n",
              "      <td>7</td>\n",
              "      <td>0</td>\n",
              "      <td>6500</td>\n",
              "      <td>12</td>\n",
              "      <td>6500</td>\n",
              "      <td>2167</td>\n",
              "      <td>11</td>\n",
              "      <td>2456.37</td>\n",
              "      <td>49</td>\n",
              "      <td>220</td>\n",
              "      <td>17.2667</td>\n",
              "      <td>4.16446</td>\n",
              "      <td>4.583</td>\n",
              "      <td>57</td>\n",
              "      <td>13</td>\n",
              "    </tr>\n",
              "  </tbody>\n",
              "</table>\n",
              "<p>646214 rows × 16 columns</p>\n",
              "</div>"
            ],
            "text/plain": [
              "       REGION  TENURE TOP_PACK  ...  ZONE2 REGULARITY FREQ_TOP_PACK\n",
              "0           0       7        0  ...  4.583         22             1\n",
              "1           0       7        3  ...  4.583          4       8.46711\n",
              "2           3       7        0  ...  4.583          8             3\n",
              "3           0       7        3  ...  4.583          3       8.46711\n",
              "4           3       7        3  ...  4.583          9       8.46711\n",
              "...       ...     ...      ...  ...    ...        ...           ...\n",
              "646209      0       7        3  ...  4.583          1       8.46711\n",
              "646210      1       7        0  ...  4.583         32             2\n",
              "646211      2       7        0  ...  4.583         58            15\n",
              "646212      3       7        0  ...  4.583         24             3\n",
              "646213      0       7        0  ...  4.583         57            13\n",
              "\n",
              "[646214 rows x 16 columns]"
            ]
          },
          "metadata": {
            "tags": []
          },
          "execution_count": 73
        }
      ]
    },
    {
      "cell_type": "markdown",
      "metadata": {
        "id": "Vp0RiqCnUZxO",
        "colab_type": "text"
      },
      "source": [
        "#### save cleaned data for modelling\n"
      ]
    },
    {
      "cell_type": "code",
      "metadata": {
        "id": "QPLv28Y2UdqY",
        "colab_type": "code",
        "colab": {}
      },
      "source": [
        "train_process_copy.to_csv('/content/drive/My Drive/Zindi-Competionts/customer-churn-prediction/datasets/clean_train.csv',index=False)"
      ],
      "execution_count": 74,
      "outputs": []
    },
    {
      "cell_type": "code",
      "metadata": {
        "id": "2HYWMYIovqJG",
        "colab_type": "code",
        "colab": {}
      },
      "source": [
        "train_process_copy  = pd.read_csv('/content/drive/My Drive/Zindi-Competionts/customer-churn-prediction/datasets/clean_train.csv') "
      ],
      "execution_count": 75,
      "outputs": []
    },
    {
      "cell_type": "markdown",
      "metadata": {
        "id": "tme0rijTQEks",
        "colab_type": "text"
      },
      "source": [
        "--- "
      ]
    },
    {
      "cell_type": "code",
      "metadata": {
        "id": "GGC8cEUkpSt2",
        "colab_type": "code",
        "colab": {
          "base_uri": "https://localhost:8080/",
          "height": 444
        },
        "outputId": "5ac478cd-6c57-4f6b-bd84-acec81e5c091"
      },
      "source": [
        "train_process_copy "
      ],
      "execution_count": 76,
      "outputs": [
        {
          "output_type": "execute_result",
          "data": {
            "text/html": [
              "<div>\n",
              "<style scoped>\n",
              "    .dataframe tbody tr th:only-of-type {\n",
              "        vertical-align: middle;\n",
              "    }\n",
              "\n",
              "    .dataframe tbody tr th {\n",
              "        vertical-align: top;\n",
              "    }\n",
              "\n",
              "    .dataframe thead th {\n",
              "        text-align: right;\n",
              "    }\n",
              "</style>\n",
              "<table border=\"1\" class=\"dataframe\">\n",
              "  <thead>\n",
              "    <tr style=\"text-align: right;\">\n",
              "      <th></th>\n",
              "      <th>REGION</th>\n",
              "      <th>TENURE</th>\n",
              "      <th>TOP_PACK</th>\n",
              "      <th>MONTANT</th>\n",
              "      <th>FREQUENCE_RECH</th>\n",
              "      <th>REVENUE</th>\n",
              "      <th>ARPU_SEGMENT</th>\n",
              "      <th>FREQUENCE</th>\n",
              "      <th>DATA_VOLUME</th>\n",
              "      <th>ON_NET</th>\n",
              "      <th>ORANGE</th>\n",
              "      <th>TIGO</th>\n",
              "      <th>ZONE1</th>\n",
              "      <th>ZONE2</th>\n",
              "      <th>REGULARITY</th>\n",
              "      <th>FREQ_TOP_PACK</th>\n",
              "    </tr>\n",
              "  </thead>\n",
              "  <tbody>\n",
              "    <tr>\n",
              "      <th>0</th>\n",
              "      <td>0</td>\n",
              "      <td>7</td>\n",
              "      <td>0</td>\n",
              "      <td>1000.000000</td>\n",
              "      <td>1.000000</td>\n",
              "      <td>990.000000</td>\n",
              "      <td>330.000000</td>\n",
              "      <td>1.000000</td>\n",
              "      <td>97.000000</td>\n",
              "      <td>1.000000</td>\n",
              "      <td>77.403167</td>\n",
              "      <td>17.266734</td>\n",
              "      <td>4.164465</td>\n",
              "      <td>4.583001</td>\n",
              "      <td>22.0</td>\n",
              "      <td>1.000000</td>\n",
              "    </tr>\n",
              "    <tr>\n",
              "      <th>1</th>\n",
              "      <td>0</td>\n",
              "      <td>7</td>\n",
              "      <td>3</td>\n",
              "      <td>5066.206623</td>\n",
              "      <td>10.872915</td>\n",
              "      <td>5042.913301</td>\n",
              "      <td>1680.980278</td>\n",
              "      <td>13.320623</td>\n",
              "      <td>223.000000</td>\n",
              "      <td>185.399266</td>\n",
              "      <td>77.403167</td>\n",
              "      <td>17.266734</td>\n",
              "      <td>4.164465</td>\n",
              "      <td>4.583001</td>\n",
              "      <td>4.0</td>\n",
              "      <td>8.467108</td>\n",
              "    </tr>\n",
              "    <tr>\n",
              "      <th>2</th>\n",
              "      <td>3</td>\n",
              "      <td>7</td>\n",
              "      <td>0</td>\n",
              "      <td>700.000000</td>\n",
              "      <td>5.000000</td>\n",
              "      <td>1010.000000</td>\n",
              "      <td>337.000000</td>\n",
              "      <td>7.000000</td>\n",
              "      <td>566.000000</td>\n",
              "      <td>1.000000</td>\n",
              "      <td>3.000000</td>\n",
              "      <td>15.000000</td>\n",
              "      <td>0.000000</td>\n",
              "      <td>4.583001</td>\n",
              "      <td>8.0</td>\n",
              "      <td>3.000000</td>\n",
              "    </tr>\n",
              "    <tr>\n",
              "      <th>3</th>\n",
              "      <td>0</td>\n",
              "      <td>7</td>\n",
              "      <td>3</td>\n",
              "      <td>5066.206623</td>\n",
              "      <td>10.872915</td>\n",
              "      <td>5042.913301</td>\n",
              "      <td>1680.980278</td>\n",
              "      <td>13.320623</td>\n",
              "      <td>2456.372798</td>\n",
              "      <td>185.399266</td>\n",
              "      <td>77.403167</td>\n",
              "      <td>17.266734</td>\n",
              "      <td>4.164465</td>\n",
              "      <td>4.583001</td>\n",
              "      <td>3.0</td>\n",
              "      <td>8.467108</td>\n",
              "    </tr>\n",
              "    <tr>\n",
              "      <th>4</th>\n",
              "      <td>3</td>\n",
              "      <td>7</td>\n",
              "      <td>3</td>\n",
              "      <td>3000.000000</td>\n",
              "      <td>3.000000</td>\n",
              "      <td>2995.000000</td>\n",
              "      <td>998.000000</td>\n",
              "      <td>3.000000</td>\n",
              "      <td>2456.372798</td>\n",
              "      <td>185.399266</td>\n",
              "      <td>33.000000</td>\n",
              "      <td>17.266734</td>\n",
              "      <td>4.164465</td>\n",
              "      <td>4.583001</td>\n",
              "      <td>9.0</td>\n",
              "      <td>8.467108</td>\n",
              "    </tr>\n",
              "    <tr>\n",
              "      <th>...</th>\n",
              "      <td>...</td>\n",
              "      <td>...</td>\n",
              "      <td>...</td>\n",
              "      <td>...</td>\n",
              "      <td>...</td>\n",
              "      <td>...</td>\n",
              "      <td>...</td>\n",
              "      <td>...</td>\n",
              "      <td>...</td>\n",
              "      <td>...</td>\n",
              "      <td>...</td>\n",
              "      <td>...</td>\n",
              "      <td>...</td>\n",
              "      <td>...</td>\n",
              "      <td>...</td>\n",
              "      <td>...</td>\n",
              "    </tr>\n",
              "    <tr>\n",
              "      <th>646209</th>\n",
              "      <td>0</td>\n",
              "      <td>7</td>\n",
              "      <td>3</td>\n",
              "      <td>5066.206623</td>\n",
              "      <td>10.872915</td>\n",
              "      <td>5042.913301</td>\n",
              "      <td>1680.980278</td>\n",
              "      <td>13.320623</td>\n",
              "      <td>2456.372798</td>\n",
              "      <td>185.399266</td>\n",
              "      <td>77.403167</td>\n",
              "      <td>17.266734</td>\n",
              "      <td>4.164465</td>\n",
              "      <td>4.583001</td>\n",
              "      <td>1.0</td>\n",
              "      <td>8.467108</td>\n",
              "    </tr>\n",
              "    <tr>\n",
              "      <th>646210</th>\n",
              "      <td>1</td>\n",
              "      <td>7</td>\n",
              "      <td>0</td>\n",
              "      <td>1500.000000</td>\n",
              "      <td>3.000000</td>\n",
              "      <td>1500.000000</td>\n",
              "      <td>500.000000</td>\n",
              "      <td>3.000000</td>\n",
              "      <td>2456.372798</td>\n",
              "      <td>28.000000</td>\n",
              "      <td>53.000000</td>\n",
              "      <td>17.266734</td>\n",
              "      <td>4.164465</td>\n",
              "      <td>4.583001</td>\n",
              "      <td>32.0</td>\n",
              "      <td>2.000000</td>\n",
              "    </tr>\n",
              "    <tr>\n",
              "      <th>646211</th>\n",
              "      <td>2</td>\n",
              "      <td>7</td>\n",
              "      <td>0</td>\n",
              "      <td>13000.000000</td>\n",
              "      <td>26.000000</td>\n",
              "      <td>14000.000000</td>\n",
              "      <td>4667.000000</td>\n",
              "      <td>26.000000</td>\n",
              "      <td>2456.372798</td>\n",
              "      <td>1355.000000</td>\n",
              "      <td>183.000000</td>\n",
              "      <td>50.000000</td>\n",
              "      <td>4.164465</td>\n",
              "      <td>4.583001</td>\n",
              "      <td>58.0</td>\n",
              "      <td>15.000000</td>\n",
              "    </tr>\n",
              "    <tr>\n",
              "      <th>646212</th>\n",
              "      <td>3</td>\n",
              "      <td>7</td>\n",
              "      <td>0</td>\n",
              "      <td>3100.000000</td>\n",
              "      <td>4.000000</td>\n",
              "      <td>3033.000000</td>\n",
              "      <td>1011.000000</td>\n",
              "      <td>4.000000</td>\n",
              "      <td>12905.000000</td>\n",
              "      <td>185.399266</td>\n",
              "      <td>1.000000</td>\n",
              "      <td>17.266734</td>\n",
              "      <td>4.164465</td>\n",
              "      <td>4.583001</td>\n",
              "      <td>24.0</td>\n",
              "      <td>3.000000</td>\n",
              "    </tr>\n",
              "    <tr>\n",
              "      <th>646213</th>\n",
              "      <td>0</td>\n",
              "      <td>7</td>\n",
              "      <td>0</td>\n",
              "      <td>6500.000000</td>\n",
              "      <td>12.000000</td>\n",
              "      <td>6500.000000</td>\n",
              "      <td>2167.000000</td>\n",
              "      <td>11.000000</td>\n",
              "      <td>2456.372798</td>\n",
              "      <td>49.000000</td>\n",
              "      <td>220.000000</td>\n",
              "      <td>17.266734</td>\n",
              "      <td>4.164465</td>\n",
              "      <td>4.583001</td>\n",
              "      <td>57.0</td>\n",
              "      <td>13.000000</td>\n",
              "    </tr>\n",
              "  </tbody>\n",
              "</table>\n",
              "<p>646214 rows × 16 columns</p>\n",
              "</div>"
            ],
            "text/plain": [
              "        REGION  TENURE  TOP_PACK  ...     ZONE2  REGULARITY  FREQ_TOP_PACK\n",
              "0            0       7         0  ...  4.583001        22.0       1.000000\n",
              "1            0       7         3  ...  4.583001         4.0       8.467108\n",
              "2            3       7         0  ...  4.583001         8.0       3.000000\n",
              "3            0       7         3  ...  4.583001         3.0       8.467108\n",
              "4            3       7         3  ...  4.583001         9.0       8.467108\n",
              "...        ...     ...       ...  ...       ...         ...            ...\n",
              "646209       0       7         3  ...  4.583001         1.0       8.467108\n",
              "646210       1       7         0  ...  4.583001        32.0       2.000000\n",
              "646211       2       7         0  ...  4.583001        58.0      15.000000\n",
              "646212       3       7         0  ...  4.583001        24.0       3.000000\n",
              "646213       0       7         0  ...  4.583001        57.0      13.000000\n",
              "\n",
              "[646214 rows x 16 columns]"
            ]
          },
          "metadata": {
            "tags": []
          },
          "execution_count": 76
        }
      ]
    },
    {
      "cell_type": "markdown",
      "metadata": {
        "id": "fvZKJ8w8_LOj",
        "colab_type": "text"
      },
      "source": [
        " - Balance Class Imbalance\n",
        " - Feature Union (K-best Selector and PCA components)"
      ]
    },
    {
      "cell_type": "code",
      "metadata": {
        "id": "aJw4rd2vmoam",
        "colab_type": "code",
        "colab": {}
      },
      "source": [
        ""
      ],
      "execution_count": 76,
      "outputs": []
    },
    {
      "cell_type": "code",
      "metadata": {
        "id": "cjUoGOW_XieJ",
        "colab_type": "code",
        "colab": {}
      },
      "source": [
        "# scale data with standarscaler\n",
        "scaler = RobustScaler() "
      ],
      "execution_count": 77,
      "outputs": []
    },
    {
      "cell_type": "code",
      "metadata": {
        "id": "lbHnzc67Xz85",
        "colab_type": "code",
        "colab": {
          "base_uri": "https://localhost:8080/",
          "height": 243
        },
        "outputId": "646fb728-6ed2-4a4c-f808-433bb602e93f"
      },
      "source": [
        "scaled_train = scaler.fit_transform(train_process_copy)\n",
        "scaled_train "
      ],
      "execution_count": 78,
      "outputs": [
        {
          "output_type": "execute_result",
          "data": {
            "text/plain": [
              "array([[-1.5       ,  0.        , -1.        , ...,  0.        ,\n",
              "        -0.04444444, -1.67157548],\n",
              "       [-1.5       ,  0.        ,  0.        , ...,  0.        ,\n",
              "        -0.44444444,  0.        ],\n",
              "       [ 0.        ,  0.        , -1.        , ...,  0.        ,\n",
              "        -0.35555556, -1.22385849],\n",
              "       ...,\n",
              "       [-0.5       ,  0.        , -1.        , ...,  0.        ,\n",
              "         0.75555556,  1.46244343],\n",
              "       [ 0.        ,  0.        , -1.        , ...,  0.        ,\n",
              "         0.        , -1.22385849],\n",
              "       [-1.5       ,  0.        , -1.        , ...,  0.        ,\n",
              "         0.73333333,  1.01472644]])"
            ]
          },
          "metadata": {
            "tags": []
          },
          "execution_count": 78
        }
      ]
    },
    {
      "cell_type": "code",
      "metadata": {
        "id": "UI7Hxf1aIEDE",
        "colab_type": "code",
        "colab": {
          "base_uri": "https://localhost:8080/",
          "height": 34
        },
        "outputId": "0aaafd77-d605-408e-a8fc-aa834d893939"
      },
      "source": [
        "scaled_train.shape"
      ],
      "execution_count": 79,
      "outputs": [
        {
          "output_type": "execute_result",
          "data": {
            "text/plain": [
              "(646214, 16)"
            ]
          },
          "metadata": {
            "tags": []
          },
          "execution_count": 79
        }
      ]
    },
    {
      "cell_type": "code",
      "metadata": {
        "id": "C8sB4ay__KJw",
        "colab_type": "code",
        "colab": {}
      },
      "source": [
        "smote = SMOTE(random_state=0) "
      ],
      "execution_count": 80,
      "outputs": []
    },
    {
      "cell_type": "code",
      "metadata": {
        "id": "K3z3xPWM_KGw",
        "colab_type": "code",
        "colab": {}
      },
      "source": [
        "X, y = smote.fit_resample(scaled_train, train_label)"
      ],
      "execution_count": 81,
      "outputs": []
    },
    {
      "cell_type": "code",
      "metadata": {
        "id": "PShbz9zT_KDd",
        "colab_type": "code",
        "colab": {
          "base_uri": "https://localhost:8080/",
          "height": 243
        },
        "outputId": "6a51e81a-7df3-4880-b8f1-a45fead29713"
      },
      "source": [
        "X "
      ],
      "execution_count": 82,
      "outputs": [
        {
          "output_type": "execute_result",
          "data": {
            "text/plain": [
              "array([[-1.5       ,  0.        , -1.        , ...,  0.        ,\n",
              "        -0.04444444, -1.67157548],\n",
              "       [-1.5       ,  0.        ,  0.        , ...,  0.        ,\n",
              "        -0.44444444,  0.        ],\n",
              "       [ 0.        ,  0.        , -1.        , ...,  0.        ,\n",
              "        -0.35555556, -1.22385849],\n",
              "       ...,\n",
              "       [ 0.        ,  0.        ,  0.        , ...,  0.        ,\n",
              "        -0.51111111,  0.        ],\n",
              "       [ 0.        ,  0.        ,  0.        , ...,  0.        ,\n",
              "        -0.50736386,  0.        ],\n",
              "       [-1.5       ,  0.        ,  0.        , ...,  0.        ,\n",
              "        -0.35555556,  0.        ]])"
            ]
          },
          "metadata": {
            "tags": []
          },
          "execution_count": 82
        }
      ]
    },
    {
      "cell_type": "code",
      "metadata": {
        "id": "AYowB5lWYnHY",
        "colab_type": "code",
        "colab": {
          "base_uri": "https://localhost:8080/",
          "height": 69
        },
        "outputId": "704c07a6-cbc3-4290-d17b-5aebd08cef3b"
      },
      "source": [
        "pd.Series(y).value_counts() "
      ],
      "execution_count": 83,
      "outputs": [
        {
          "output_type": "execute_result",
          "data": {
            "text/plain": [
              "1    524912\n",
              "0    524912\n",
              "dtype: int64"
            ]
          },
          "metadata": {
            "tags": []
          },
          "execution_count": 83
        }
      ]
    },
    {
      "cell_type": "code",
      "metadata": {
        "id": "P9PtAlCJ_KAA",
        "colab_type": "code",
        "colab": {
          "base_uri": "https://localhost:8080/",
          "height": 444
        },
        "outputId": "3f753619-8534-4668-c5a6-6100fff29446"
      },
      "source": [
        "corr = pd.DataFrame(data=X, columns=train_process_copy.columns.to_list()).join(pd.DataFrame(y, columns=['label']))\n",
        "corr "
      ],
      "execution_count": 84,
      "outputs": [
        {
          "output_type": "execute_result",
          "data": {
            "text/html": [
              "<div>\n",
              "<style scoped>\n",
              "    .dataframe tbody tr th:only-of-type {\n",
              "        vertical-align: middle;\n",
              "    }\n",
              "\n",
              "    .dataframe tbody tr th {\n",
              "        vertical-align: top;\n",
              "    }\n",
              "\n",
              "    .dataframe thead th {\n",
              "        text-align: right;\n",
              "    }\n",
              "</style>\n",
              "<table border=\"1\" class=\"dataframe\">\n",
              "  <thead>\n",
              "    <tr style=\"text-align: right;\">\n",
              "      <th></th>\n",
              "      <th>REGION</th>\n",
              "      <th>TENURE</th>\n",
              "      <th>TOP_PACK</th>\n",
              "      <th>MONTANT</th>\n",
              "      <th>FREQUENCE_RECH</th>\n",
              "      <th>REVENUE</th>\n",
              "      <th>ARPU_SEGMENT</th>\n",
              "      <th>FREQUENCE</th>\n",
              "      <th>DATA_VOLUME</th>\n",
              "      <th>ON_NET</th>\n",
              "      <th>ORANGE</th>\n",
              "      <th>TIGO</th>\n",
              "      <th>ZONE1</th>\n",
              "      <th>ZONE2</th>\n",
              "      <th>REGULARITY</th>\n",
              "      <th>FREQ_TOP_PACK</th>\n",
              "      <th>label</th>\n",
              "    </tr>\n",
              "  </thead>\n",
              "  <tbody>\n",
              "    <tr>\n",
              "      <th>0</th>\n",
              "      <td>-1.5</td>\n",
              "      <td>0.0</td>\n",
              "      <td>-1.0</td>\n",
              "      <td>-1.326136</td>\n",
              "      <td>-1.436496</td>\n",
              "      <td>-1.289540</td>\n",
              "      <td>-1.289128</td>\n",
              "      <td>-1.683002</td>\n",
              "      <td>-1.063081</td>\n",
              "      <td>-1.063437</td>\n",
              "      <td>0.000000</td>\n",
              "      <td>0.000000</td>\n",
              "      <td>0.000000</td>\n",
              "      <td>0.0</td>\n",
              "      <td>-0.044444</td>\n",
              "      <td>-1.671575</td>\n",
              "      <td>0</td>\n",
              "    </tr>\n",
              "    <tr>\n",
              "      <th>1</th>\n",
              "      <td>-1.5</td>\n",
              "      <td>0.0</td>\n",
              "      <td>0.0</td>\n",
              "      <td>0.000000</td>\n",
              "      <td>0.000000</td>\n",
              "      <td>0.000000</td>\n",
              "      <td>0.000000</td>\n",
              "      <td>0.000000</td>\n",
              "      <td>-1.006308</td>\n",
              "      <td>0.000000</td>\n",
              "      <td>0.000000</td>\n",
              "      <td>0.000000</td>\n",
              "      <td>0.000000</td>\n",
              "      <td>0.0</td>\n",
              "      <td>-0.444444</td>\n",
              "      <td>0.000000</td>\n",
              "      <td>0</td>\n",
              "    </tr>\n",
              "    <tr>\n",
              "      <th>2</th>\n",
              "      <td>0.0</td>\n",
              "      <td>0.0</td>\n",
              "      <td>-1.0</td>\n",
              "      <td>-1.423977</td>\n",
              "      <td>-0.854501</td>\n",
              "      <td>-1.283177</td>\n",
              "      <td>-1.282448</td>\n",
              "      <td>-0.863400</td>\n",
              "      <td>-0.851760</td>\n",
              "      <td>-1.063437</td>\n",
              "      <td>-1.296151</td>\n",
              "      <td>-0.361709</td>\n",
              "      <td>-4.164465</td>\n",
              "      <td>0.0</td>\n",
              "      <td>-0.355556</td>\n",
              "      <td>-1.223858</td>\n",
              "      <td>0</td>\n",
              "    </tr>\n",
              "    <tr>\n",
              "      <th>3</th>\n",
              "      <td>-1.5</td>\n",
              "      <td>0.0</td>\n",
              "      <td>0.0</td>\n",
              "      <td>0.000000</td>\n",
              "      <td>0.000000</td>\n",
              "      <td>0.000000</td>\n",
              "      <td>0.000000</td>\n",
              "      <td>0.000000</td>\n",
              "      <td>0.000000</td>\n",
              "      <td>0.000000</td>\n",
              "      <td>0.000000</td>\n",
              "      <td>0.000000</td>\n",
              "      <td>0.000000</td>\n",
              "      <td>0.0</td>\n",
              "      <td>-0.466667</td>\n",
              "      <td>0.000000</td>\n",
              "      <td>0</td>\n",
              "    </tr>\n",
              "    <tr>\n",
              "      <th>4</th>\n",
              "      <td>0.0</td>\n",
              "      <td>0.0</td>\n",
              "      <td>0.0</td>\n",
              "      <td>-0.673864</td>\n",
              "      <td>-1.145499</td>\n",
              "      <td>-0.651597</td>\n",
              "      <td>-0.651711</td>\n",
              "      <td>-1.409801</td>\n",
              "      <td>0.000000</td>\n",
              "      <td>0.000000</td>\n",
              "      <td>-0.773532</td>\n",
              "      <td>0.000000</td>\n",
              "      <td>0.000000</td>\n",
              "      <td>0.0</td>\n",
              "      <td>-0.333333</td>\n",
              "      <td>0.000000</td>\n",
              "      <td>0</td>\n",
              "    </tr>\n",
              "    <tr>\n",
              "      <th>...</th>\n",
              "      <td>...</td>\n",
              "      <td>...</td>\n",
              "      <td>...</td>\n",
              "      <td>...</td>\n",
              "      <td>...</td>\n",
              "      <td>...</td>\n",
              "      <td>...</td>\n",
              "      <td>...</td>\n",
              "      <td>...</td>\n",
              "      <td>...</td>\n",
              "      <td>...</td>\n",
              "      <td>...</td>\n",
              "      <td>...</td>\n",
              "      <td>...</td>\n",
              "      <td>...</td>\n",
              "      <td>...</td>\n",
              "      <td>...</td>\n",
              "    </tr>\n",
              "    <tr>\n",
              "      <th>1049819</th>\n",
              "      <td>0.0</td>\n",
              "      <td>0.0</td>\n",
              "      <td>0.0</td>\n",
              "      <td>0.000000</td>\n",
              "      <td>0.000000</td>\n",
              "      <td>0.000000</td>\n",
              "      <td>0.000000</td>\n",
              "      <td>0.000000</td>\n",
              "      <td>0.000000</td>\n",
              "      <td>0.000000</td>\n",
              "      <td>0.000000</td>\n",
              "      <td>0.000000</td>\n",
              "      <td>0.000000</td>\n",
              "      <td>0.0</td>\n",
              "      <td>-0.400000</td>\n",
              "      <td>0.000000</td>\n",
              "      <td>1</td>\n",
              "    </tr>\n",
              "    <tr>\n",
              "      <th>1049820</th>\n",
              "      <td>0.0</td>\n",
              "      <td>0.0</td>\n",
              "      <td>0.0</td>\n",
              "      <td>0.000000</td>\n",
              "      <td>0.000000</td>\n",
              "      <td>0.000000</td>\n",
              "      <td>0.000000</td>\n",
              "      <td>0.000000</td>\n",
              "      <td>0.000000</td>\n",
              "      <td>0.000000</td>\n",
              "      <td>0.000000</td>\n",
              "      <td>0.000000</td>\n",
              "      <td>0.000000</td>\n",
              "      <td>0.0</td>\n",
              "      <td>-0.511111</td>\n",
              "      <td>0.000000</td>\n",
              "      <td>1</td>\n",
              "    </tr>\n",
              "    <tr>\n",
              "      <th>1049821</th>\n",
              "      <td>0.0</td>\n",
              "      <td>0.0</td>\n",
              "      <td>0.0</td>\n",
              "      <td>0.000000</td>\n",
              "      <td>0.000000</td>\n",
              "      <td>0.000000</td>\n",
              "      <td>0.000000</td>\n",
              "      <td>0.000000</td>\n",
              "      <td>0.000000</td>\n",
              "      <td>0.000000</td>\n",
              "      <td>0.000000</td>\n",
              "      <td>0.000000</td>\n",
              "      <td>0.000000</td>\n",
              "      <td>0.0</td>\n",
              "      <td>-0.511111</td>\n",
              "      <td>0.000000</td>\n",
              "      <td>1</td>\n",
              "    </tr>\n",
              "    <tr>\n",
              "      <th>1049822</th>\n",
              "      <td>0.0</td>\n",
              "      <td>0.0</td>\n",
              "      <td>0.0</td>\n",
              "      <td>-1.489204</td>\n",
              "      <td>-1.436496</td>\n",
              "      <td>0.000000</td>\n",
              "      <td>0.000000</td>\n",
              "      <td>0.000000</td>\n",
              "      <td>-1.097441</td>\n",
              "      <td>-1.069204</td>\n",
              "      <td>0.000000</td>\n",
              "      <td>0.000000</td>\n",
              "      <td>0.000000</td>\n",
              "      <td>0.0</td>\n",
              "      <td>-0.507364</td>\n",
              "      <td>0.000000</td>\n",
              "      <td>1</td>\n",
              "    </tr>\n",
              "    <tr>\n",
              "      <th>1049823</th>\n",
              "      <td>-1.5</td>\n",
              "      <td>0.0</td>\n",
              "      <td>0.0</td>\n",
              "      <td>0.000000</td>\n",
              "      <td>0.000000</td>\n",
              "      <td>0.000000</td>\n",
              "      <td>0.000000</td>\n",
              "      <td>0.000000</td>\n",
              "      <td>0.000000</td>\n",
              "      <td>0.000000</td>\n",
              "      <td>0.000000</td>\n",
              "      <td>0.000000</td>\n",
              "      <td>0.000000</td>\n",
              "      <td>0.0</td>\n",
              "      <td>-0.355556</td>\n",
              "      <td>0.000000</td>\n",
              "      <td>1</td>\n",
              "    </tr>\n",
              "  </tbody>\n",
              "</table>\n",
              "<p>1049824 rows × 17 columns</p>\n",
              "</div>"
            ],
            "text/plain": [
              "         REGION  TENURE  TOP_PACK  ...  REGULARITY  FREQ_TOP_PACK  label\n",
              "0          -1.5     0.0      -1.0  ...   -0.044444      -1.671575      0\n",
              "1          -1.5     0.0       0.0  ...   -0.444444       0.000000      0\n",
              "2           0.0     0.0      -1.0  ...   -0.355556      -1.223858      0\n",
              "3          -1.5     0.0       0.0  ...   -0.466667       0.000000      0\n",
              "4           0.0     0.0       0.0  ...   -0.333333       0.000000      0\n",
              "...         ...     ...       ...  ...         ...            ...    ...\n",
              "1049819     0.0     0.0       0.0  ...   -0.400000       0.000000      1\n",
              "1049820     0.0     0.0       0.0  ...   -0.511111       0.000000      1\n",
              "1049821     0.0     0.0       0.0  ...   -0.511111       0.000000      1\n",
              "1049822     0.0     0.0       0.0  ...   -0.507364       0.000000      1\n",
              "1049823    -1.5     0.0       0.0  ...   -0.355556       0.000000      1\n",
              "\n",
              "[1049824 rows x 17 columns]"
            ]
          },
          "metadata": {
            "tags": []
          },
          "execution_count": 84
        }
      ]
    },
    {
      "cell_type": "code",
      "metadata": {
        "id": "958A7PiQEsic",
        "colab_type": "code",
        "colab": {
          "base_uri": "https://localhost:8080/",
          "height": 330
        },
        "outputId": "9fb69b33-e712-463a-a544-5525c510ec5a"
      },
      "source": [
        "corr.isna().any()"
      ],
      "execution_count": 85,
      "outputs": [
        {
          "output_type": "execute_result",
          "data": {
            "text/plain": [
              "REGION            False\n",
              "TENURE            False\n",
              "TOP_PACK          False\n",
              "MONTANT           False\n",
              "FREQUENCE_RECH    False\n",
              "REVENUE           False\n",
              "ARPU_SEGMENT      False\n",
              "FREQUENCE         False\n",
              "DATA_VOLUME       False\n",
              "ON_NET            False\n",
              "ORANGE            False\n",
              "TIGO              False\n",
              "ZONE1             False\n",
              "ZONE2             False\n",
              "REGULARITY        False\n",
              "FREQ_TOP_PACK     False\n",
              "label             False\n",
              "dtype: bool"
            ]
          },
          "metadata": {
            "tags": []
          },
          "execution_count": 85
        }
      ]
    },
    {
      "cell_type": "code",
      "metadata": {
        "id": "gHjjKqtZ_J7b",
        "colab_type": "code",
        "colab": {
          "base_uri": "https://localhost:8080/",
          "height": 603
        },
        "outputId": "634953a4-524d-4fd9-be6c-b75a1b238bab"
      },
      "source": [
        "# f, ax = plt.subplots(figsize=(20, 25))  \n",
        "# ax = sns.heatmap(corr, vmin=0, vmax=1) \n",
        "corr.corr()  "
      ],
      "execution_count": 86,
      "outputs": [
        {
          "output_type": "execute_result",
          "data": {
            "text/html": [
              "<div>\n",
              "<style scoped>\n",
              "    .dataframe tbody tr th:only-of-type {\n",
              "        vertical-align: middle;\n",
              "    }\n",
              "\n",
              "    .dataframe tbody tr th {\n",
              "        vertical-align: top;\n",
              "    }\n",
              "\n",
              "    .dataframe thead th {\n",
              "        text-align: right;\n",
              "    }\n",
              "</style>\n",
              "<table border=\"1\" class=\"dataframe\">\n",
              "  <thead>\n",
              "    <tr style=\"text-align: right;\">\n",
              "      <th></th>\n",
              "      <th>REGION</th>\n",
              "      <th>TENURE</th>\n",
              "      <th>TOP_PACK</th>\n",
              "      <th>MONTANT</th>\n",
              "      <th>FREQUENCE_RECH</th>\n",
              "      <th>REVENUE</th>\n",
              "      <th>ARPU_SEGMENT</th>\n",
              "      <th>FREQUENCE</th>\n",
              "      <th>DATA_VOLUME</th>\n",
              "      <th>ON_NET</th>\n",
              "      <th>ORANGE</th>\n",
              "      <th>TIGO</th>\n",
              "      <th>ZONE1</th>\n",
              "      <th>ZONE2</th>\n",
              "      <th>REGULARITY</th>\n",
              "      <th>FREQ_TOP_PACK</th>\n",
              "      <th>label</th>\n",
              "    </tr>\n",
              "  </thead>\n",
              "  <tbody>\n",
              "    <tr>\n",
              "      <th>REGION</th>\n",
              "      <td>1.000000</td>\n",
              "      <td>-0.029457</td>\n",
              "      <td>0.223013</td>\n",
              "      <td>0.011193</td>\n",
              "      <td>-0.006831</td>\n",
              "      <td>0.004100</td>\n",
              "      <td>0.004097</td>\n",
              "      <td>-0.009949</td>\n",
              "      <td>0.080145</td>\n",
              "      <td>-0.098018</td>\n",
              "      <td>-0.019574</td>\n",
              "      <td>0.006855</td>\n",
              "      <td>0.027300</td>\n",
              "      <td>0.028178</td>\n",
              "      <td>-0.396456</td>\n",
              "      <td>0.002382</td>\n",
              "      <td>0.445971</td>\n",
              "    </tr>\n",
              "    <tr>\n",
              "      <th>TENURE</th>\n",
              "      <td>-0.029457</td>\n",
              "      <td>1.000000</td>\n",
              "      <td>-0.023033</td>\n",
              "      <td>0.012502</td>\n",
              "      <td>0.006869</td>\n",
              "      <td>0.014306</td>\n",
              "      <td>0.014307</td>\n",
              "      <td>0.007627</td>\n",
              "      <td>-0.011029</td>\n",
              "      <td>0.005636</td>\n",
              "      <td>0.019455</td>\n",
              "      <td>0.009611</td>\n",
              "      <td>0.004894</td>\n",
              "      <td>-0.001331</td>\n",
              "      <td>0.043236</td>\n",
              "      <td>0.007258</td>\n",
              "      <td>-0.053580</td>\n",
              "    </tr>\n",
              "    <tr>\n",
              "      <th>TOP_PACK</th>\n",
              "      <td>0.223013</td>\n",
              "      <td>-0.023033</td>\n",
              "      <td>1.000000</td>\n",
              "      <td>-0.070063</td>\n",
              "      <td>-0.066658</td>\n",
              "      <td>-0.089599</td>\n",
              "      <td>-0.089605</td>\n",
              "      <td>-0.093360</td>\n",
              "      <td>-0.201868</td>\n",
              "      <td>-0.090075</td>\n",
              "      <td>-0.013742</td>\n",
              "      <td>0.000596</td>\n",
              "      <td>0.026623</td>\n",
              "      <td>-0.001004</td>\n",
              "      <td>-0.541661</td>\n",
              "      <td>0.034354</td>\n",
              "      <td>0.413844</td>\n",
              "    </tr>\n",
              "    <tr>\n",
              "      <th>MONTANT</th>\n",
              "      <td>0.011193</td>\n",
              "      <td>0.012502</td>\n",
              "      <td>-0.070063</td>\n",
              "      <td>1.000000</td>\n",
              "      <td>0.849789</td>\n",
              "      <td>0.949246</td>\n",
              "      <td>0.949239</td>\n",
              "      <td>0.801457</td>\n",
              "      <td>0.357801</td>\n",
              "      <td>0.431084</td>\n",
              "      <td>0.661631</td>\n",
              "      <td>0.388669</td>\n",
              "      <td>0.097807</td>\n",
              "      <td>0.145761</td>\n",
              "      <td>0.380076</td>\n",
              "      <td>0.731175</td>\n",
              "      <td>-0.091224</td>\n",
              "    </tr>\n",
              "    <tr>\n",
              "      <th>FREQUENCE_RECH</th>\n",
              "      <td>-0.006831</td>\n",
              "      <td>0.006869</td>\n",
              "      <td>-0.066658</td>\n",
              "      <td>0.849789</td>\n",
              "      <td>1.000000</td>\n",
              "      <td>0.812199</td>\n",
              "      <td>0.812192</td>\n",
              "      <td>0.918959</td>\n",
              "      <td>0.264301</td>\n",
              "      <td>0.435864</td>\n",
              "      <td>0.532890</td>\n",
              "      <td>0.322354</td>\n",
              "      <td>0.034538</td>\n",
              "      <td>0.083274</td>\n",
              "      <td>0.369879</td>\n",
              "      <td>0.845966</td>\n",
              "      <td>-0.094825</td>\n",
              "    </tr>\n",
              "    <tr>\n",
              "      <th>REVENUE</th>\n",
              "      <td>0.004100</td>\n",
              "      <td>0.014306</td>\n",
              "      <td>-0.089599</td>\n",
              "      <td>0.949246</td>\n",
              "      <td>0.812199</td>\n",
              "      <td>1.000000</td>\n",
              "      <td>1.000000</td>\n",
              "      <td>0.846435</td>\n",
              "      <td>0.366224</td>\n",
              "      <td>0.434298</td>\n",
              "      <td>0.665344</td>\n",
              "      <td>0.386563</td>\n",
              "      <td>0.098843</td>\n",
              "      <td>0.144711</td>\n",
              "      <td>0.394747</td>\n",
              "      <td>0.727777</td>\n",
              "      <td>-0.102433</td>\n",
              "    </tr>\n",
              "    <tr>\n",
              "      <th>ARPU_SEGMENT</th>\n",
              "      <td>0.004097</td>\n",
              "      <td>0.014307</td>\n",
              "      <td>-0.089605</td>\n",
              "      <td>0.949239</td>\n",
              "      <td>0.812192</td>\n",
              "      <td>1.000000</td>\n",
              "      <td>1.000000</td>\n",
              "      <td>0.846435</td>\n",
              "      <td>0.366220</td>\n",
              "      <td>0.434295</td>\n",
              "      <td>0.665341</td>\n",
              "      <td>0.386564</td>\n",
              "      <td>0.098844</td>\n",
              "      <td>0.144714</td>\n",
              "      <td>0.394747</td>\n",
              "      <td>0.727769</td>\n",
              "      <td>-0.102437</td>\n",
              "    </tr>\n",
              "    <tr>\n",
              "      <th>FREQUENCE</th>\n",
              "      <td>-0.009949</td>\n",
              "      <td>0.007627</td>\n",
              "      <td>-0.093360</td>\n",
              "      <td>0.801457</td>\n",
              "      <td>0.918959</td>\n",
              "      <td>0.846435</td>\n",
              "      <td>0.846435</td>\n",
              "      <td>1.000000</td>\n",
              "      <td>0.297001</td>\n",
              "      <td>0.413308</td>\n",
              "      <td>0.496510</td>\n",
              "      <td>0.290738</td>\n",
              "      <td>0.031716</td>\n",
              "      <td>0.084482</td>\n",
              "      <td>0.394593</td>\n",
              "      <td>0.810946</td>\n",
              "      <td>-0.110135</td>\n",
              "    </tr>\n",
              "    <tr>\n",
              "      <th>DATA_VOLUME</th>\n",
              "      <td>0.080145</td>\n",
              "      <td>-0.011029</td>\n",
              "      <td>-0.201868</td>\n",
              "      <td>0.357801</td>\n",
              "      <td>0.264301</td>\n",
              "      <td>0.366224</td>\n",
              "      <td>0.366220</td>\n",
              "      <td>0.297001</td>\n",
              "      <td>1.000000</td>\n",
              "      <td>-0.003496</td>\n",
              "      <td>0.048868</td>\n",
              "      <td>0.019069</td>\n",
              "      <td>0.005046</td>\n",
              "      <td>0.022319</td>\n",
              "      <td>0.220354</td>\n",
              "      <td>0.195481</td>\n",
              "      <td>-0.059169</td>\n",
              "    </tr>\n",
              "    <tr>\n",
              "      <th>ON_NET</th>\n",
              "      <td>-0.098018</td>\n",
              "      <td>0.005636</td>\n",
              "      <td>-0.090075</td>\n",
              "      <td>0.431084</td>\n",
              "      <td>0.435864</td>\n",
              "      <td>0.434298</td>\n",
              "      <td>0.434295</td>\n",
              "      <td>0.413308</td>\n",
              "      <td>-0.003496</td>\n",
              "      <td>1.000000</td>\n",
              "      <td>0.372669</td>\n",
              "      <td>0.239134</td>\n",
              "      <td>-0.003079</td>\n",
              "      <td>-0.015559</td>\n",
              "      <td>0.242513</td>\n",
              "      <td>0.413255</td>\n",
              "      <td>-0.066001</td>\n",
              "    </tr>\n",
              "    <tr>\n",
              "      <th>ORANGE</th>\n",
              "      <td>-0.019574</td>\n",
              "      <td>0.019455</td>\n",
              "      <td>-0.013742</td>\n",
              "      <td>0.661631</td>\n",
              "      <td>0.532890</td>\n",
              "      <td>0.665344</td>\n",
              "      <td>0.665341</td>\n",
              "      <td>0.496510</td>\n",
              "      <td>0.048868</td>\n",
              "      <td>0.372669</td>\n",
              "      <td>1.000000</td>\n",
              "      <td>0.414394</td>\n",
              "      <td>0.032422</td>\n",
              "      <td>0.011925</td>\n",
              "      <td>0.235533</td>\n",
              "      <td>0.542706</td>\n",
              "      <td>-0.058010</td>\n",
              "    </tr>\n",
              "    <tr>\n",
              "      <th>TIGO</th>\n",
              "      <td>0.006855</td>\n",
              "      <td>0.009611</td>\n",
              "      <td>0.000596</td>\n",
              "      <td>0.388669</td>\n",
              "      <td>0.322354</td>\n",
              "      <td>0.386563</td>\n",
              "      <td>0.386564</td>\n",
              "      <td>0.290738</td>\n",
              "      <td>0.019069</td>\n",
              "      <td>0.239134</td>\n",
              "      <td>0.414394</td>\n",
              "      <td>1.000000</td>\n",
              "      <td>0.012038</td>\n",
              "      <td>0.009206</td>\n",
              "      <td>0.126893</td>\n",
              "      <td>0.339747</td>\n",
              "      <td>-0.026799</td>\n",
              "    </tr>\n",
              "    <tr>\n",
              "      <th>ZONE1</th>\n",
              "      <td>0.027300</td>\n",
              "      <td>0.004894</td>\n",
              "      <td>0.026623</td>\n",
              "      <td>0.097807</td>\n",
              "      <td>0.034538</td>\n",
              "      <td>0.098843</td>\n",
              "      <td>0.098844</td>\n",
              "      <td>0.031716</td>\n",
              "      <td>0.005046</td>\n",
              "      <td>-0.003079</td>\n",
              "      <td>0.032422</td>\n",
              "      <td>0.012038</td>\n",
              "      <td>1.000000</td>\n",
              "      <td>0.002802</td>\n",
              "      <td>0.008013</td>\n",
              "      <td>0.044105</td>\n",
              "      <td>0.004537</td>\n",
              "    </tr>\n",
              "    <tr>\n",
              "      <th>ZONE2</th>\n",
              "      <td>0.028178</td>\n",
              "      <td>-0.001331</td>\n",
              "      <td>-0.001004</td>\n",
              "      <td>0.145761</td>\n",
              "      <td>0.083274</td>\n",
              "      <td>0.144711</td>\n",
              "      <td>0.144714</td>\n",
              "      <td>0.084482</td>\n",
              "      <td>0.022319</td>\n",
              "      <td>-0.015559</td>\n",
              "      <td>0.011925</td>\n",
              "      <td>0.009206</td>\n",
              "      <td>0.002802</td>\n",
              "      <td>1.000000</td>\n",
              "      <td>0.016995</td>\n",
              "      <td>0.025997</td>\n",
              "      <td>0.000162</td>\n",
              "    </tr>\n",
              "    <tr>\n",
              "      <th>REGULARITY</th>\n",
              "      <td>-0.396456</td>\n",
              "      <td>0.043236</td>\n",
              "      <td>-0.541661</td>\n",
              "      <td>0.380076</td>\n",
              "      <td>0.369879</td>\n",
              "      <td>0.394747</td>\n",
              "      <td>0.394747</td>\n",
              "      <td>0.394593</td>\n",
              "      <td>0.220354</td>\n",
              "      <td>0.242513</td>\n",
              "      <td>0.235533</td>\n",
              "      <td>0.126893</td>\n",
              "      <td>0.008013</td>\n",
              "      <td>0.016995</td>\n",
              "      <td>1.000000</td>\n",
              "      <td>0.280619</td>\n",
              "      <td>-0.645729</td>\n",
              "    </tr>\n",
              "    <tr>\n",
              "      <th>FREQ_TOP_PACK</th>\n",
              "      <td>0.002382</td>\n",
              "      <td>0.007258</td>\n",
              "      <td>0.034354</td>\n",
              "      <td>0.731175</td>\n",
              "      <td>0.845966</td>\n",
              "      <td>0.727777</td>\n",
              "      <td>0.727769</td>\n",
              "      <td>0.810946</td>\n",
              "      <td>0.195481</td>\n",
              "      <td>0.413255</td>\n",
              "      <td>0.542706</td>\n",
              "      <td>0.339747</td>\n",
              "      <td>0.044105</td>\n",
              "      <td>0.025997</td>\n",
              "      <td>0.280619</td>\n",
              "      <td>1.000000</td>\n",
              "      <td>-0.061425</td>\n",
              "    </tr>\n",
              "    <tr>\n",
              "      <th>label</th>\n",
              "      <td>0.445971</td>\n",
              "      <td>-0.053580</td>\n",
              "      <td>0.413844</td>\n",
              "      <td>-0.091224</td>\n",
              "      <td>-0.094825</td>\n",
              "      <td>-0.102433</td>\n",
              "      <td>-0.102437</td>\n",
              "      <td>-0.110135</td>\n",
              "      <td>-0.059169</td>\n",
              "      <td>-0.066001</td>\n",
              "      <td>-0.058010</td>\n",
              "      <td>-0.026799</td>\n",
              "      <td>0.004537</td>\n",
              "      <td>0.000162</td>\n",
              "      <td>-0.645729</td>\n",
              "      <td>-0.061425</td>\n",
              "      <td>1.000000</td>\n",
              "    </tr>\n",
              "  </tbody>\n",
              "</table>\n",
              "</div>"
            ],
            "text/plain": [
              "                  REGION    TENURE  ...  FREQ_TOP_PACK     label\n",
              "REGION          1.000000 -0.029457  ...       0.002382  0.445971\n",
              "TENURE         -0.029457  1.000000  ...       0.007258 -0.053580\n",
              "TOP_PACK        0.223013 -0.023033  ...       0.034354  0.413844\n",
              "MONTANT         0.011193  0.012502  ...       0.731175 -0.091224\n",
              "FREQUENCE_RECH -0.006831  0.006869  ...       0.845966 -0.094825\n",
              "REVENUE         0.004100  0.014306  ...       0.727777 -0.102433\n",
              "ARPU_SEGMENT    0.004097  0.014307  ...       0.727769 -0.102437\n",
              "FREQUENCE      -0.009949  0.007627  ...       0.810946 -0.110135\n",
              "DATA_VOLUME     0.080145 -0.011029  ...       0.195481 -0.059169\n",
              "ON_NET         -0.098018  0.005636  ...       0.413255 -0.066001\n",
              "ORANGE         -0.019574  0.019455  ...       0.542706 -0.058010\n",
              "TIGO            0.006855  0.009611  ...       0.339747 -0.026799\n",
              "ZONE1           0.027300  0.004894  ...       0.044105  0.004537\n",
              "ZONE2           0.028178 -0.001331  ...       0.025997  0.000162\n",
              "REGULARITY     -0.396456  0.043236  ...       0.280619 -0.645729\n",
              "FREQ_TOP_PACK   0.002382  0.007258  ...       1.000000 -0.061425\n",
              "label           0.445971 -0.053580  ...      -0.061425  1.000000\n",
              "\n",
              "[17 rows x 17 columns]"
            ]
          },
          "metadata": {
            "tags": []
          },
          "execution_count": 86
        }
      ]
    },
    {
      "cell_type": "markdown",
      "metadata": {
        "id": "MBmQ81m0MFQG",
        "colab_type": "text"
      },
      "source": [
        "#### Feature Union K-Best and PCA Components"
      ]
    },
    {
      "cell_type": "markdown",
      "metadata": {
        "id": "UBb_ms9UPC9q",
        "colab_type": "text"
      },
      "source": [
        "- select the optimal k for k-best"
      ]
    },
    {
      "cell_type": "code",
      "metadata": {
        "id": "YWKFutY9MLJs",
        "colab_type": "code",
        "colab": {}
      },
      "source": [
        "KBest = SelectKBest(score_func = f_classif, k = 'all')\n",
        "KBest = KBest.fit(X,y)  \n"
      ],
      "execution_count": 87,
      "outputs": []
    },
    {
      "cell_type": "code",
      "metadata": {
        "id": "kQnJimX5MK7g",
        "colab_type": "code",
        "colab": {
          "base_uri": "https://localhost:8080/",
          "height": 551
        },
        "outputId": "1046d0d8-5050-4976-f47a-ffb2152ac7b6"
      },
      "source": [
        "kb_scores = pd.DataFrame({'features': train_process_copy.columns, 'f_classif': KBest.scores_, 'pValue': KBest.pvalues_ }).sort_values(by='f_classif', \n",
        "                                                                                                                                      ascending=False)\n",
        "kb_scores "
      ],
      "execution_count": 88,
      "outputs": [
        {
          "output_type": "execute_result",
          "data": {
            "text/html": [
              "<div>\n",
              "<style scoped>\n",
              "    .dataframe tbody tr th:only-of-type {\n",
              "        vertical-align: middle;\n",
              "    }\n",
              "\n",
              "    .dataframe tbody tr th {\n",
              "        vertical-align: top;\n",
              "    }\n",
              "\n",
              "    .dataframe thead th {\n",
              "        text-align: right;\n",
              "    }\n",
              "</style>\n",
              "<table border=\"1\" class=\"dataframe\">\n",
              "  <thead>\n",
              "    <tr style=\"text-align: right;\">\n",
              "      <th></th>\n",
              "      <th>features</th>\n",
              "      <th>f_classif</th>\n",
              "      <th>pValue</th>\n",
              "    </tr>\n",
              "  </thead>\n",
              "  <tbody>\n",
              "    <tr>\n",
              "      <th>14</th>\n",
              "      <td>REGULARITY</td>\n",
              "      <td>750797.249810</td>\n",
              "      <td>0.000000e+00</td>\n",
              "    </tr>\n",
              "    <tr>\n",
              "      <th>0</th>\n",
              "      <td>REGION</td>\n",
              "      <td>260636.929064</td>\n",
              "      <td>0.000000e+00</td>\n",
              "    </tr>\n",
              "    <tr>\n",
              "      <th>2</th>\n",
              "      <td>TOP_PACK</td>\n",
              "      <td>216957.767270</td>\n",
              "      <td>0.000000e+00</td>\n",
              "    </tr>\n",
              "    <tr>\n",
              "      <th>7</th>\n",
              "      <td>FREQUENCE</td>\n",
              "      <td>12890.508294</td>\n",
              "      <td>0.000000e+00</td>\n",
              "    </tr>\n",
              "    <tr>\n",
              "      <th>6</th>\n",
              "      <td>ARPU_SEGMENT</td>\n",
              "      <td>11132.864400</td>\n",
              "      <td>0.000000e+00</td>\n",
              "    </tr>\n",
              "    <tr>\n",
              "      <th>5</th>\n",
              "      <td>REVENUE</td>\n",
              "      <td>11132.185519</td>\n",
              "      <td>0.000000e+00</td>\n",
              "    </tr>\n",
              "    <tr>\n",
              "      <th>4</th>\n",
              "      <td>FREQUENCE_RECH</td>\n",
              "      <td>9525.481918</td>\n",
              "      <td>0.000000e+00</td>\n",
              "    </tr>\n",
              "    <tr>\n",
              "      <th>3</th>\n",
              "      <td>MONTANT</td>\n",
              "      <td>8809.792605</td>\n",
              "      <td>0.000000e+00</td>\n",
              "    </tr>\n",
              "    <tr>\n",
              "      <th>9</th>\n",
              "      <td>ON_NET</td>\n",
              "      <td>4593.119634</td>\n",
              "      <td>0.000000e+00</td>\n",
              "    </tr>\n",
              "    <tr>\n",
              "      <th>15</th>\n",
              "      <td>FREQ_TOP_PACK</td>\n",
              "      <td>3976.022072</td>\n",
              "      <td>0.000000e+00</td>\n",
              "    </tr>\n",
              "    <tr>\n",
              "      <th>8</th>\n",
              "      <td>DATA_VOLUME</td>\n",
              "      <td>3688.310770</td>\n",
              "      <td>0.000000e+00</td>\n",
              "    </tr>\n",
              "    <tr>\n",
              "      <th>10</th>\n",
              "      <td>ORANGE</td>\n",
              "      <td>3544.801077</td>\n",
              "      <td>0.000000e+00</td>\n",
              "    </tr>\n",
              "    <tr>\n",
              "      <th>1</th>\n",
              "      <td>TENURE</td>\n",
              "      <td>3022.513803</td>\n",
              "      <td>0.000000e+00</td>\n",
              "    </tr>\n",
              "    <tr>\n",
              "      <th>11</th>\n",
              "      <td>TIGO</td>\n",
              "      <td>754.528748</td>\n",
              "      <td>4.761013e-166</td>\n",
              "    </tr>\n",
              "    <tr>\n",
              "      <th>12</th>\n",
              "      <td>ZONE1</td>\n",
              "      <td>21.607805</td>\n",
              "      <td>3.345286e-06</td>\n",
              "    </tr>\n",
              "    <tr>\n",
              "      <th>13</th>\n",
              "      <td>ZONE2</td>\n",
              "      <td>0.027717</td>\n",
              "      <td>8.677766e-01</td>\n",
              "    </tr>\n",
              "  </tbody>\n",
              "</table>\n",
              "</div>"
            ],
            "text/plain": [
              "          features      f_classif         pValue\n",
              "14      REGULARITY  750797.249810   0.000000e+00\n",
              "0           REGION  260636.929064   0.000000e+00\n",
              "2         TOP_PACK  216957.767270   0.000000e+00\n",
              "7        FREQUENCE   12890.508294   0.000000e+00\n",
              "6     ARPU_SEGMENT   11132.864400   0.000000e+00\n",
              "5          REVENUE   11132.185519   0.000000e+00\n",
              "4   FREQUENCE_RECH    9525.481918   0.000000e+00\n",
              "3          MONTANT    8809.792605   0.000000e+00\n",
              "9           ON_NET    4593.119634   0.000000e+00\n",
              "15   FREQ_TOP_PACK    3976.022072   0.000000e+00\n",
              "8      DATA_VOLUME    3688.310770   0.000000e+00\n",
              "10          ORANGE    3544.801077   0.000000e+00\n",
              "1           TENURE    3022.513803   0.000000e+00\n",
              "11            TIGO     754.528748  4.761013e-166\n",
              "12           ZONE1      21.607805   3.345286e-06\n",
              "13           ZONE2       0.027717   8.677766e-01"
            ]
          },
          "metadata": {
            "tags": []
          },
          "execution_count": 88
        }
      ]
    },
    {
      "cell_type": "code",
      "metadata": {
        "id": "KXEXfNAmSfNx",
        "colab_type": "code",
        "colab": {
          "base_uri": "https://localhost:8080/",
          "height": 34
        },
        "outputId": "87eb2cc5-5ab6-4c95-e3f4-2c225c0335ed"
      },
      "source": [
        "kb_scores.shape"
      ],
      "execution_count": 89,
      "outputs": [
        {
          "output_type": "execute_result",
          "data": {
            "text/plain": [
              "(16, 3)"
            ]
          },
          "metadata": {
            "tags": []
          },
          "execution_count": 89
        }
      ]
    },
    {
      "cell_type": "markdown",
      "metadata": {
        "id": "evynxY_sTBas",
        "colab_type": "text"
      },
      "source": [
        "I would taek the first 12 features with thousandth scores "
      ]
    },
    {
      "cell_type": "code",
      "metadata": {
        "id": "WFV6kSggMKvG",
        "colab_type": "code",
        "colab": {
          "base_uri": "https://localhost:8080/",
          "height": 225
        },
        "outputId": "b23ff72f-a377-4831-b05f-8a1965ed37dc"
      },
      "source": [
        "kbest_cols = kb_scores.features.iloc[:12].tolist()\n",
        "kbest_cols "
      ],
      "execution_count": 90,
      "outputs": [
        {
          "output_type": "execute_result",
          "data": {
            "text/plain": [
              "['REGULARITY',\n",
              " 'REGION',\n",
              " 'TOP_PACK',\n",
              " 'FREQUENCE',\n",
              " 'ARPU_SEGMENT',\n",
              " 'REVENUE',\n",
              " 'FREQUENCE_RECH',\n",
              " 'MONTANT',\n",
              " 'ON_NET',\n",
              " 'FREQ_TOP_PACK',\n",
              " 'DATA_VOLUME',\n",
              " 'ORANGE']"
            ]
          },
          "metadata": {
            "tags": []
          },
          "execution_count": 90
        }
      ]
    },
    {
      "cell_type": "code",
      "metadata": {
        "id": "tUkZ9N7wdDFv",
        "colab_type": "code",
        "colab": {}
      },
      "source": [
        "KBest = SelectKBest(score_func = f_classif, k = 12)\n",
        "KBest_data = KBest.fit_transform(X,y) "
      ],
      "execution_count": 91,
      "outputs": []
    },
    {
      "cell_type": "code",
      "metadata": {
        "id": "Br0avUz-dOZu",
        "colab_type": "code",
        "colab": {
          "base_uri": "https://localhost:8080/",
          "height": 34
        },
        "outputId": "b7530dd2-9436-426f-fc87-6368949e321b"
      },
      "source": [
        "KBest_data.shape"
      ],
      "execution_count": 92,
      "outputs": [
        {
          "output_type": "execute_result",
          "data": {
            "text/plain": [
              "(1049824, 12)"
            ]
          },
          "metadata": {
            "tags": []
          },
          "execution_count": 92
        }
      ]
    },
    {
      "cell_type": "markdown",
      "metadata": {
        "id": "Xp-p6QyuT47u",
        "colab_type": "text"
      },
      "source": [
        "- PCA components"
      ]
    },
    {
      "cell_type": "markdown",
      "metadata": {
        "id": "In3zKVIaT_Dn",
        "colab_type": "text"
      },
      "source": [
        "- get optimal k"
      ]
    },
    {
      "cell_type": "code",
      "metadata": {
        "id": "ygJBaLbRT71J",
        "colab_type": "code",
        "colab": {
          "base_uri": "https://localhost:8080/",
          "height": 52
        },
        "outputId": "299a9006-5c75-44bf-fa8b-19ec4487dd6b"
      },
      "source": [
        "pca = TruncatedSVD(n_components = X.shape[1]-1).fit(X)\n",
        "pca"
      ],
      "execution_count": 93,
      "outputs": [
        {
          "output_type": "execute_result",
          "data": {
            "text/plain": [
              "TruncatedSVD(algorithm='randomized', n_components=15, n_iter=5,\n",
              "             random_state=None, tol=0.0)"
            ]
          },
          "metadata": {
            "tags": []
          },
          "execution_count": 93
        }
      ]
    },
    {
      "cell_type": "code",
      "metadata": {
        "id": "K75rOsB5T7uI",
        "colab_type": "code",
        "colab": {
          "base_uri": "https://localhost:8080/",
          "height": 279
        },
        "outputId": "824e6a9a-934c-4ddc-c7bc-973117dcd115"
      },
      "source": [
        "plt.plot(np.cumsum(pca.explained_variance_ratio_))\n",
        "plt.xlabel('number of components')\n",
        "plt.ylabel('cumulative explained variance');"
      ],
      "execution_count": 94,
      "outputs": [
        {
          "output_type": "display_data",
          "data": {
            "image/png": "[encoded data removed]",
            "text/plain": [
              "<Figure size 432x288 with 1 Axes>"
            ]
          },
          "metadata": {
            "tags": [],
            "needs_background": "light"
          }
        }
      ]
    },
    {
      "cell_type": "code",
      "metadata": {
        "id": "VCxOvjVXmx1M",
        "colab_type": "code",
        "colab": {}
      },
      "source": [
        ""
      ],
      "execution_count": 94,
      "outputs": []
    },
    {
      "cell_type": "markdown",
      "metadata": {
        "id": "l7_DEr-obzMa",
        "colab_type": "text"
      },
      "source": [
        "14 components explains the X 100%\n",
        "\n",
        "> Indented block\n",
        "\n"
      ]
    },
    {
      "cell_type": "code",
      "metadata": {
        "id": "_3tEGggiT7m-",
        "colab_type": "code",
        "colab": {
          "base_uri": "https://localhost:8080/",
          "height": 52
        },
        "outputId": "3be3bb13-116c-404b-e683-e296a332d3d5"
      },
      "source": [
        "pca = TruncatedSVD(n_components = 14, random_state=0).fit(X)\n",
        "pca"
      ],
      "execution_count": 95,
      "outputs": [
        {
          "output_type": "execute_result",
          "data": {
            "text/plain": [
              "TruncatedSVD(algorithm='randomized', n_components=14, n_iter=5, random_state=0,\n",
              "             tol=0.0)"
            ]
          },
          "metadata": {
            "tags": []
          },
          "execution_count": 95
        }
      ]
    },
    {
      "cell_type": "code",
      "metadata": {
        "id": "J1fOd7Bwd1Wy",
        "colab_type": "code",
        "colab": {
          "base_uri": "https://localhost:8080/",
          "height": 69
        },
        "outputId": "c2006d52-a7de-42e2-fd6f-c47d034bf0f3"
      },
      "source": [
        "pca_ratio = pca.explained_variance_ratio_\n",
        "pca_ratio "
      ],
      "execution_count": 96,
      "outputs": [
        {
          "output_type": "execute_result",
          "data": {
            "text/plain": [
              "array([0.39057921, 0.14870107, 0.13631522, 0.10259074, 0.06239408,\n",
              "       0.04242203, 0.0340086 , 0.01945132, 0.01894103, 0.01706573,\n",
              "       0.00919509, 0.0067801 , 0.00622837, 0.00398688])"
            ]
          },
          "metadata": {
            "tags": []
          },
          "execution_count": 96
        }
      ]
    },
    {
      "cell_type": "markdown",
      "metadata": {
        "id": "aTybpSpudkjq",
        "colab_type": "text"
      },
      "source": [
        "I would be optimaisng for 95% exaplainability"
      ]
    },
    {
      "cell_type": "code",
      "metadata": {
        "id": "wKtT0BJndoXS",
        "colab_type": "code",
        "colab": {}
      },
      "source": [
        "def select_n_components(var_ratio, goal_var: float) -> int:\n",
        "    # Set initial variance explained so far\n",
        "    total_variance = 0.0\n",
        "    \n",
        "    # Set initial number of features\n",
        "    n_components = 0\n",
        "    \n",
        "    # For the explained variance of each feature:\n",
        "    for explained_variance in var_ratio:\n",
        "        \n",
        "        # Add the explained variance to the total\n",
        "        total_variance += explained_variance\n",
        "                                     \n",
        "        # Add one to the number of components\n",
        "        n_components += 1\n",
        "        \n",
        "        # If we reach our goal level of explained variance\n",
        "        if total_variance >= goal_var:\n",
        "            # End the loop\n",
        "            break\n",
        "            \n",
        "    # Return the number of components\n",
        "    return n_components"
      ],
      "execution_count": 97,
      "outputs": []
    },
    {
      "cell_type": "code",
      "metadata": {
        "id": "90SCEn9zcgE7",
        "colab_type": "code",
        "colab": {
          "base_uri": "https://localhost:8080/",
          "height": 34
        },
        "outputId": "62a76013-842b-4152-8c04-5bbf21faa624"
      },
      "source": [
        "select_n_components(pca_ratio, goal_var=.95)"
      ],
      "execution_count": 98,
      "outputs": [
        {
          "output_type": "execute_result",
          "data": {
            "text/plain": [
              "9"
            ]
          },
          "metadata": {
            "tags": []
          },
          "execution_count": 98
        }
      ]
    },
    {
      "cell_type": "markdown",
      "metadata": {
        "id": "KKGoyh6Ge3Ef",
        "colab_type": "text"
      },
      "source": [
        "### 9 components provides 95% explainability"
      ]
    },
    {
      "cell_type": "markdown",
      "metadata": {
        "id": "97lLQgm-e2xl",
        "colab_type": "text"
      },
      "source": [
        ""
      ]
    },
    {
      "cell_type": "code",
      "metadata": {
        "id": "LgtqPUwecsY4",
        "colab_type": "code",
        "colab": {}
      },
      "source": [
        "# pca_components"
      ],
      "execution_count": 99,
      "outputs": []
    },
    {
      "cell_type": "markdown",
      "metadata": {
        "id": "jKSZzz8fecX2",
        "colab_type": "text"
      },
      "source": [
        "### Decomposing Features into Components"
      ]
    },
    {
      "cell_type": "code",
      "metadata": {
        "id": "sq8vFJy7eZ4s",
        "colab_type": "code",
        "colab": {}
      },
      "source": [
        "def pca_call(data, n_components, algo='randomized', n_iter=100, random_seed =123, tol=0.0) -> np.array:\n",
        "\n",
        "  pca = TruncatedSVD(n_components=n_components, algorithm=algo, \n",
        "                     n_iter=n_iter, random_state=random_seed, tol=tol)\n",
        "  \n",
        "  data_reduced = pca.fit_transform(data) \n",
        "\n",
        "  return data_reduced, pca"
      ],
      "execution_count": 100,
      "outputs": []
    },
    {
      "cell_type": "code",
      "metadata": {
        "id": "2k95DOnNenpZ",
        "colab_type": "code",
        "colab": {}
      },
      "source": [
        "pca_data, pca = pca_call(X, n_components=9)"
      ],
      "execution_count": 101,
      "outputs": []
    },
    {
      "cell_type": "code",
      "metadata": {
        "id": "OnB0l9r3fBzb",
        "colab_type": "code",
        "colab": {
          "base_uri": "https://localhost:8080/",
          "height": 34
        },
        "outputId": "9ab8d847-d211-4d0b-b5a7-8a48d6d368ee"
      },
      "source": [
        "pca_data.shape "
      ],
      "execution_count": 102,
      "outputs": [
        {
          "output_type": "execute_result",
          "data": {
            "text/plain": [
              "(1049824, 9)"
            ]
          },
          "metadata": {
            "tags": []
          },
          "execution_count": 102
        }
      ]
    },
    {
      "cell_type": "markdown",
      "metadata": {
        "id": "ss9aMaaufL1Y",
        "colab_type": "text"
      },
      "source": [
        "#### Combine PCA components and K-best features"
      ]
    },
    {
      "cell_type": "code",
      "metadata": {
        "id": "hJndFkeffQ6O",
        "colab_type": "code",
        "colab": {}
      },
      "source": [
        "X_joined = np.concatenate((KBest_data, pca_data), axis=1)"
      ],
      "execution_count": 103,
      "outputs": []
    },
    {
      "cell_type": "code",
      "metadata": {
        "id": "dWp9s5TlfQ3R",
        "colab_type": "code",
        "colab": {
          "base_uri": "https://localhost:8080/",
          "height": 34
        },
        "outputId": "1b747c27-8de3-442e-ad5e-3055261cedea"
      },
      "source": [
        "X_joined.shape[0] == y.shape[0]"
      ],
      "execution_count": 104,
      "outputs": [
        {
          "output_type": "execute_result",
          "data": {
            "text/plain": [
              "True"
            ]
          },
          "metadata": {
            "tags": []
          },
          "execution_count": 104
        }
      ]
    },
    {
      "cell_type": "code",
      "metadata": {
        "id": "C6MLKVbWHzF_",
        "colab_type": "code",
        "colab": {
          "base_uri": "https://localhost:8080/",
          "height": 34
        },
        "outputId": "4dc8c8cc-a25c-4cde-d8d6-22d8c3a314c3"
      },
      "source": [
        "X_joined.shape"
      ],
      "execution_count": 105,
      "outputs": [
        {
          "output_type": "execute_result",
          "data": {
            "text/plain": [
              "(1049824, 21)"
            ]
          },
          "metadata": {
            "tags": []
          },
          "execution_count": 105
        }
      ]
    },
    {
      "cell_type": "markdown",
      "metadata": {
        "id": "1auAQ5sApPOZ",
        "colab_type": "text"
      },
      "source": [
        "> test  pipeline ...\n"
      ]
    },
    {
      "cell_type": "code",
      "metadata": {
        "id": "WF7rFkVupQ-J",
        "colab_type": "code",
        "colab": {}
      },
      "source": [
        "\n",
        "feature_pipe = FeatureUnion(transformer_list=[('pca', TruncatedSVD(n_components=9)) ,\n",
        "                                              ('k_best', SelectKBest(score_func = f_classif, k = 'all'))            \n",
        "                              ])\n",
        "\n",
        "\n",
        "full_pipe = ImbPipe(steps=[('smt',  SMOTE()),  ('scaler', RobustScaler()), ('feature_pipe', feature_pipe)], verbose=True) "
      ],
      "execution_count": 106,
      "outputs": []
    },
    {
      "cell_type": "code",
      "metadata": {
        "id": "_CeR4MaqvPWp",
        "colab_type": "code",
        "colab": {
          "base_uri": "https://localhost:8080/",
          "height": 52
        },
        "outputId": "01197419-6bf5-4b33-cab0-268ed90a6d56"
      },
      "source": [
        "print(train_process_copy.shape)\n",
        "print(train_label.shape) "
      ],
      "execution_count": 107,
      "outputs": [
        {
          "output_type": "stream",
          "text": [
            "(646214, 16)\n",
            "(646214,)\n"
          ],
          "name": "stdout"
        }
      ]
    },
    {
      "cell_type": "code",
      "metadata": {
        "id": "qn03pmlLvwXY",
        "colab_type": "code",
        "colab": {
          "base_uri": "https://localhost:8080/",
          "height": 101
        },
        "outputId": "3e4e3d6a-f24f-4929-8799-f0cb9e0b6fd2"
      },
      "source": [
        "train_process_copy.head(1)"
      ],
      "execution_count": 108,
      "outputs": [
        {
          "output_type": "execute_result",
          "data": {
            "text/html": [
              "<div>\n",
              "<style scoped>\n",
              "    .dataframe tbody tr th:only-of-type {\n",
              "        vertical-align: middle;\n",
              "    }\n",
              "\n",
              "    .dataframe tbody tr th {\n",
              "        vertical-align: top;\n",
              "    }\n",
              "\n",
              "    .dataframe thead th {\n",
              "        text-align: right;\n",
              "    }\n",
              "</style>\n",
              "<table border=\"1\" class=\"dataframe\">\n",
              "  <thead>\n",
              "    <tr style=\"text-align: right;\">\n",
              "      <th></th>\n",
              "      <th>REGION</th>\n",
              "      <th>TENURE</th>\n",
              "      <th>TOP_PACK</th>\n",
              "      <th>MONTANT</th>\n",
              "      <th>FREQUENCE_RECH</th>\n",
              "      <th>REVENUE</th>\n",
              "      <th>ARPU_SEGMENT</th>\n",
              "      <th>FREQUENCE</th>\n",
              "      <th>DATA_VOLUME</th>\n",
              "      <th>ON_NET</th>\n",
              "      <th>ORANGE</th>\n",
              "      <th>TIGO</th>\n",
              "      <th>ZONE1</th>\n",
              "      <th>ZONE2</th>\n",
              "      <th>REGULARITY</th>\n",
              "      <th>FREQ_TOP_PACK</th>\n",
              "    </tr>\n",
              "  </thead>\n",
              "  <tbody>\n",
              "    <tr>\n",
              "      <th>0</th>\n",
              "      <td>0</td>\n",
              "      <td>7</td>\n",
              "      <td>0</td>\n",
              "      <td>1000.0</td>\n",
              "      <td>1.0</td>\n",
              "      <td>990.0</td>\n",
              "      <td>330.0</td>\n",
              "      <td>1.0</td>\n",
              "      <td>97.0</td>\n",
              "      <td>1.0</td>\n",
              "      <td>77.403167</td>\n",
              "      <td>17.266734</td>\n",
              "      <td>4.164465</td>\n",
              "      <td>4.583001</td>\n",
              "      <td>22.0</td>\n",
              "      <td>1.0</td>\n",
              "    </tr>\n",
              "  </tbody>\n",
              "</table>\n",
              "</div>"
            ],
            "text/plain": [
              "   REGION  TENURE  TOP_PACK  ...     ZONE2  REGULARITY  FREQ_TOP_PACK\n",
              "0       0       7         0  ...  4.583001        22.0            1.0\n",
              "\n",
              "[1 rows x 16 columns]"
            ]
          },
          "metadata": {
            "tags": []
          },
          "execution_count": 108
        }
      ]
    },
    {
      "cell_type": "code",
      "metadata": {
        "id": "Xux-wLNn8j6L",
        "colab_type": "code",
        "colab": {
          "base_uri": "https://localhost:8080/",
          "height": 52
        },
        "outputId": "ea955f49-a086-4178-d852-53dca8571c68"
      },
      "source": [
        "train_label.head(1)"
      ],
      "execution_count": 109,
      "outputs": [
        {
          "output_type": "execute_result",
          "data": {
            "text/plain": [
              "0    0\n",
              "Name: CHURN, dtype: int64"
            ]
          },
          "metadata": {
            "tags": []
          },
          "execution_count": 109
        }
      ]
    },
    {
      "cell_type": "code",
      "metadata": {
        "id": "ISR2GTQ0uuGS",
        "colab_type": "code",
        "colab": {
          "base_uri": "https://localhost:8080/",
          "height": 243
        },
        "outputId": "b4269b9d-a35d-4a8f-9b3a-b9824a9edc85"
      },
      "source": [
        "full_pipe.fit_transform(train_process_copy, train_label) "
      ],
      "execution_count": 110,
      "outputs": [
        {
          "output_type": "execute_result",
          "data": {
            "text/plain": [
              "array([[-7.18385722e-01, -5.35267756e+00,  2.56132404e-02, ...,\n",
              "         0.00000000e+00,  4.11764706e-01, -3.10569081e+00],\n",
              "       [-1.17491880e-02, -2.87151324e-01, -2.81007317e-01, ...,\n",
              "         0.00000000e+00, -1.17647059e-01,  0.00000000e+00],\n",
              "       [-2.98007016e+00, -4.72781650e+00, -3.94612883e+00, ...,\n",
              "         0.00000000e+00,  0.00000000e+00, -2.27385848e+00],\n",
              "       ...,\n",
              "       [ 3.77727794e-04,  3.29533402e-03, -7.77738917e-04, ...,\n",
              "         0.00000000e+00,  5.88235294e-02,  0.00000000e+00],\n",
              "       [-6.05689977e-01, -4.52889951e+00,  1.60651038e+00, ...,\n",
              "         0.00000000e+00, -2.01654771e-01, -2.74955752e+00],\n",
              "       [-1.88863897e-04, -1.64766701e-03,  3.88869459e-04, ...,\n",
              "         0.00000000e+00, -2.94117647e-02,  0.00000000e+00]])"
            ]
          },
          "metadata": {
            "tags": []
          },
          "execution_count": 110
        }
      ]
    },
    {
      "cell_type": "markdown",
      "metadata": {
        "id": "5obbe4COEKVr",
        "colab_type": "text"
      },
      "source": [
        "## Modelling\n",
        "\n",
        "Algorithms:\n",
        "\n",
        "- logisticRegression - Basemodel\n",
        "\n",
        "- SVC\n",
        "\n",
        "- Catboost\n",
        "\n",
        "- XGboost\n",
        "\n",
        "- LGBM\n",
        "\n",
        "Techniques\n",
        "\n",
        "- cross validation\n",
        "\n",
        "- hp-tuning\n",
        "\n",
        "- over-sampling imbalance"
      ]
    },
    {
      "cell_type": "markdown",
      "metadata": {
        "id": "z3Jqvg8pEOyj",
        "colab_type": "text"
      },
      "source": [
        ">> Import needed libraries"
      ]
    },
    {
      "cell_type": "markdown",
      "metadata": {
        "id": "09H2HVxqEtY2",
        "colab_type": "text"
      },
      "source": [
        "split to X & Y"
      ]
    },
    {
      "cell_type": "code",
      "metadata": {
        "id": "K7A1zpQ5G4k0",
        "colab_type": "code",
        "colab": {}
      },
      "source": [
        "X= train.copy()\n",
        "y = train_label.copy()"
      ],
      "execution_count": 111,
      "outputs": []
    },
    {
      "cell_type": "markdown",
      "metadata": {
        "id": "yyGfUJ2CHg2s",
        "colab_type": "text"
      },
      "source": [
        "split to train and test set"
      ]
    },
    {
      "cell_type": "code",
      "metadata": {
        "id": "s91sI4lzv1tb",
        "colab_type": "code",
        "colab": {}
      },
      "source": [
        "X_train, X_eval, y_train, y_eval = train_test_split(\n",
        "   X,\n",
        "   y,\n",
        "    test_size=0.33,\n",
        "    shuffle=True,\n",
        "    stratify = y, \n",
        "    random_state=0) "
      ],
      "execution_count": 112,
      "outputs": []
    },
    {
      "cell_type": "code",
      "metadata": {
        "id": "-NFw_ua6GaFG",
        "colab_type": "code",
        "colab": {
          "base_uri": "https://localhost:8080/",
          "height": 52
        },
        "outputId": "16d68ab5-fc9a-49ad-fd6c-119b1e88b831"
      },
      "source": [
        "print(X_train.shape) \n",
        "print(y_train.shape) "
      ],
      "execution_count": 113,
      "outputs": [
        {
          "output_type": "stream",
          "text": [
            "(432963, 18)\n",
            "(432963,)\n"
          ],
          "name": "stdout"
        }
      ]
    },
    {
      "cell_type": "markdown",
      "metadata": {
        "id": "4KU7-xpKkhrO",
        "colab_type": "text"
      },
      "source": [
        "### Build Pipeline"
      ]
    },
    {
      "cell_type": "markdown",
      "metadata": {
        "id": "kQJEo_K2lF7q",
        "colab_type": "text"
      },
      "source": [
        " #### Preprocessing Pipeline"
      ]
    },
    {
      "cell_type": "code",
      "metadata": {
        "id": "dXgSXXtcWRlW",
        "colab_type": "code",
        "colab": {
          "base_uri": "https://localhost:8080/",
          "height": 243
        },
        "outputId": "5cf9418d-e737-448d-97ff-7c3e54fc1f6c"
      },
      "source": [
        "num_features = train.select_dtypes(include='number').columns.tolist()\n",
        "num_features"
      ],
      "execution_count": 114,
      "outputs": [
        {
          "output_type": "execute_result",
          "data": {
            "text/plain": [
              "['MONTANT',\n",
              " 'FREQUENCE_RECH',\n",
              " 'REVENUE',\n",
              " 'ARPU_SEGMENT',\n",
              " 'FREQUENCE',\n",
              " 'DATA_VOLUME',\n",
              " 'ON_NET',\n",
              " 'ORANGE',\n",
              " 'TIGO',\n",
              " 'ZONE1',\n",
              " 'ZONE2',\n",
              " 'REGULARITY',\n",
              " 'FREQ_TOP_PACK']"
            ]
          },
          "metadata": {
            "tags": []
          },
          "execution_count": 114
        }
      ]
    },
    {
      "cell_type": "code",
      "metadata": {
        "id": "CUHqfgzTWkeB",
        "colab_type": "code",
        "colab": {
          "base_uri": "https://localhost:8080/",
          "height": 34
        },
        "outputId": "95614ca0-4bcd-4e39-fbf7-4d2a30fc8575"
      },
      "source": [
        "cat_features = train.select_dtypes(include='object').drop(['user_id', 'MRG'], axis=1).columns.tolist() \n",
        "cat_features "
      ],
      "execution_count": 115,
      "outputs": [
        {
          "output_type": "execute_result",
          "data": {
            "text/plain": [
              "['REGION', 'TENURE', 'TOP_PACK']"
            ]
          },
          "metadata": {
            "tags": []
          },
          "execution_count": 115
        }
      ]
    },
    {
      "cell_type": "code",
      "metadata": {
        "id": "E-tFYe2_kmfa",
        "colab_type": "code",
        "colab": {}
      },
      "source": [
        "process_pipe1 = Pipeline(steps=[('drop_cols',  DropColumns(cols_to_drop=['MRG', 'user_id'])),  \n",
        "                                ('impute_outlier', ImputeOutlier())])  "
      ],
      "execution_count": 116,
      "outputs": []
    },
    {
      "cell_type": "code",
      "metadata": {
        "id": "-6o1uNjLkmaN",
        "colab_type": "code",
        "colab": {}
      },
      "source": [
        "process_pipe2 = ColumnTransformer([('cat_impute', SimpleImputer(strategy='most_frequent'), cat_features),\n",
        "                                              ('num_impute', SimpleImputer(strategy='mean'),num_features)\n",
        "                                  ], remainder = \"drop\")"
      ],
      "execution_count": 117,
      "outputs": []
    },
    {
      "cell_type": "code",
      "metadata": {
        "id": "8_M3JdfTkmUV",
        "colab_type": "code",
        "colab": {}
      },
      "source": [
        "process_pipe3 =  Pipeline(steps=[('ranker', Ranker(group_cols=['REGION', 'TOP_PACK'], value_col='TENURE')),\n",
        "                                ]) "
      ],
      "execution_count": 118,
      "outputs": []
    },
    {
      "cell_type": "code",
      "metadata": {
        "id": "PMu31cWSkmQq",
        "colab_type": "code",
        "colab": {}
      },
      "source": [
        "feature_pipe = FeatureUnion(transformer_list=[('pca', PCA(n_components=9)) ,\n",
        "                                              ('k_best', SelectKBest(score_func = f_classif, k = 12))            \n",
        "                              ])\n",
        "\n",
        "\n",
        "process_pipe4 = Pipeline(steps=[('scaler', StandardScaler()), ('feature_pipe', feature_pipe)], verbose=True) "
      ],
      "execution_count": 119,
      "outputs": []
    },
    {
      "cell_type": "code",
      "metadata": {
        "id": "q6RvJJm1kmNV",
        "colab_type": "code",
        "colab": {}
      },
      "source": [
        "process_pipe_full = Pipeline(steps=[('pipe1', process_pipe1), ('pipe2', process_pipe2),\n",
        "                                                 ('pipe3', process_pipe3),('pipe4', process_pipe4)])  "
      ],
      "execution_count": 120,
      "outputs": []
    },
    {
      "cell_type": "code",
      "metadata": {
        "id": "QMuKuSL-kmHL",
        "colab_type": "code",
        "colab": {
          "base_uri": "https://localhost:8080/",
          "height": 52
        },
        "outputId": "cf802edf-4a14-4914-d787-1d832ef9c809"
      },
      "source": [
        "processed_pipe = process_pipe_full.fit(X=train, y=train_label) "
      ],
      "execution_count": 121,
      "outputs": [
        {
          "output_type": "stream",
          "text": [
            "[Pipeline] ............ (step 1 of 2) Processing scaler, total=   1.1s\n",
            "[Pipeline] ...... (step 2 of 2) Processing feature_pipe, total=   2.5s\n"
          ],
          "name": "stdout"
        }
      ]
    },
    {
      "cell_type": "code",
      "metadata": {
        "id": "_csUB0jGE2nN",
        "colab_type": "code",
        "colab": {
          "base_uri": "https://localhost:8080/",
          "height": 885
        },
        "outputId": "8b588691-c493-41a1-e565-87a9fce42cbf"
      },
      "source": [
        "processed_pipe.named_steps "
      ],
      "execution_count": 122,
      "outputs": [
        {
          "output_type": "execute_result",
          "data": {
            "text/plain": [
              "{'pipe1': Pipeline(memory=None,\n",
              "          steps=[('drop_cols', DropColumns(cols_to_drop=['MRG', 'user_id'])),\n",
              "                 ('impute_outlier', ImputeOutlier())],\n",
              "          verbose=False),\n",
              " 'pipe2': ColumnTransformer(n_jobs=None, remainder='drop', sparse_threshold=0.3,\n",
              "                   transformer_weights=None,\n",
              "                   transformers=[('cat_impute',\n",
              "                                  SimpleImputer(add_indicator=False, copy=True,\n",
              "                                                fill_value=None,\n",
              "                                                missing_values=nan,\n",
              "                                                strategy='most_frequent',\n",
              "                                                verbose=0),\n",
              "                                  ['REGION', 'TENURE', 'TOP_PACK']),\n",
              "                                 ('num_impute',\n",
              "                                  SimpleImputer(add_indicator=False, copy=True,\n",
              "                                                fill_value=None,\n",
              "                                                missing_values=nan,\n",
              "                                                strategy='mean', verbose=0),\n",
              "                                  ['MONTANT', 'FREQUENCE_RECH', 'REVENUE',\n",
              "                                   'ARPU_SEGMENT', 'FREQUENCE', 'DATA_VOLUME',\n",
              "                                   'ON_NET', 'ORANGE', 'TIGO', 'ZONE1', 'ZONE2',\n",
              "                                   'REGULARITY', 'FREQ_TOP_PACK'])],\n",
              "                   verbose=False),\n",
              " 'pipe3': Pipeline(memory=None,\n",
              "          steps=[('ranker',\n",
              "                  Ranker(columns=['REGION', 'TENURE', 'TOP_PACK', 'MONTANT',\n",
              "                                  'FREQUENCE_RECH', 'REVENUE', 'ARPU_SEGMENT',\n",
              "                                  'FREQUENCE', 'DATA_VOLUME', 'ON_NET', 'ORANGE',\n",
              "                                  'TIGO', 'ZONE1', 'ZONE2', 'REGULARITY',\n",
              "                                  'FREQ_TOP_PACK'],\n",
              "                         group_cols=['REGION', 'TOP_PACK'],\n",
              "                         value_col='TENURE'))],\n",
              "          verbose=False),\n",
              " 'pipe4': Pipeline(memory=None,\n",
              "          steps=[('scaler',\n",
              "                  StandardScaler(copy=True, with_mean=True, with_std=True)),\n",
              "                 ('feature_pipe',\n",
              "                  FeatureUnion(n_jobs=None,\n",
              "                               transformer_list=[('pca',\n",
              "                                                  PCA(copy=True,\n",
              "                                                      iterated_power='auto',\n",
              "                                                      n_components=9,\n",
              "                                                      random_state=None,\n",
              "                                                      svd_solver='auto', tol=0.0,\n",
              "                                                      whiten=False)),\n",
              "                                                 ('k_best',\n",
              "                                                  SelectKBest(k=12,\n",
              "                                                              score_func=<function f_classif at 0x7eff25bb18c8>))],\n",
              "                               transformer_weights=None, verbose=False))],\n",
              "          verbose=True)}"
            ]
          },
          "metadata": {
            "tags": []
          },
          "execution_count": 122
        }
      ]
    },
    {
      "cell_type": "code",
      "metadata": {
        "id": "49vj6yy3-iRn",
        "colab_type": "code",
        "colab": {}
      },
      "source": [
        "processed_data = processed_pipe.transform(train) "
      ],
      "execution_count": 123,
      "outputs": []
    },
    {
      "cell_type": "code",
      "metadata": {
        "id": "oLK3DrnhzVU_",
        "colab_type": "code",
        "colab": {
          "base_uri": "https://localhost:8080/",
          "height": 34
        },
        "outputId": "b235416f-b314-439f-bf72-fed6a82b11d5"
      },
      "source": [
        "processed_data.shape"
      ],
      "execution_count": 124,
      "outputs": [
        {
          "output_type": "execute_result",
          "data": {
            "text/plain": [
              "(646214, 21)"
            ]
          },
          "metadata": {
            "tags": []
          },
          "execution_count": 124
        }
      ]
    },
    {
      "cell_type": "code",
      "metadata": {
        "id": "CbHpdj5FzmDR",
        "colab_type": "code",
        "colab": {
          "base_uri": "https://localhost:8080/",
          "height": 34
        },
        "outputId": "c85f4ea0-1ef3-47b7-a70a-b01a615c4704"
      },
      "source": [
        "train.shape"
      ],
      "execution_count": 125,
      "outputs": [
        {
          "output_type": "execute_result",
          "data": {
            "text/plain": [
              "(646214, 18)"
            ]
          },
          "metadata": {
            "tags": []
          },
          "execution_count": 125
        }
      ]
    },
    {
      "cell_type": "code",
      "metadata": {
        "id": "EjikGyxUFqqG",
        "colab_type": "code",
        "colab": {
          "base_uri": "https://localhost:8080/",
          "height": 243
        },
        "outputId": "d05e51ba-67f5-4408-cada-08d9825a9b5a"
      },
      "source": [
        "processed_data "
      ],
      "execution_count": 126,
      "outputs": [
        {
          "output_type": "execute_result",
          "data": {
            "text/plain": [
              "array([[-2.44989573e+00, -1.63219302e+00, -1.12437969e+00, ...,\n",
              "        -6.57665538e-01, -2.71008503e-01, -1.08758318e+00],\n",
              "       [-3.76191795e-01,  4.80677947e-01, -1.29850575e+00, ...,\n",
              "         2.02733766e-16, -1.07880859e+00,  5.17452245e-16],\n",
              "       [-2.45772607e+00, -5.73939996e-01,  2.11783820e-01, ...,\n",
              "        -6.57665538e-01, -8.99297462e-01, -7.96283463e-01],\n",
              "       ...,\n",
              "       [ 5.59621633e+00, -7.76136044e-01, -1.88740820e+00, ...,\n",
              "         4.17141625e+00,  1.34459168e+00,  9.51514840e-01],\n",
              "       [-1.09943413e+00, -1.52304036e+00,  2.71740762e+00, ...,\n",
              "         2.02733766e-16, -1.81252938e-01, -7.96283463e-01],\n",
              "       [ 1.31540945e+00, -1.91207563e+00, -9.06305776e-01, ...,\n",
              "        -4.86472092e-01,  1.29971389e+00,  6.60215123e-01]])"
            ]
          },
          "metadata": {
            "tags": []
          },
          "execution_count": 126
        }
      ]
    },
    {
      "cell_type": "code",
      "metadata": {
        "id": "LpIuKKgGVOh5",
        "colab_type": "code",
        "colab": {
          "base_uri": "https://localhost:8080/",
          "height": 34
        },
        "outputId": "c547e345-89d9-4814-ca5b-db143fc241fd"
      },
      "source": [
        "processed_data.shape"
      ],
      "execution_count": 127,
      "outputs": [
        {
          "output_type": "execute_result",
          "data": {
            "text/plain": [
              "(646214, 21)"
            ]
          },
          "metadata": {
            "tags": []
          },
          "execution_count": 127
        }
      ]
    },
    {
      "cell_type": "code",
      "metadata": {
        "id": "XXdQJOolOzjF",
        "colab_type": "code",
        "colab": {
          "base_uri": "https://localhost:8080/",
          "height": 312
        },
        "outputId": "d9cd424e-67a3-49cf-c511-097a44b10842"
      },
      "source": [
        "!pip install catboost\n",
        "!pip install xgboost"
      ],
      "execution_count": 128,
      "outputs": [
        {
          "output_type": "stream",
          "text": [
            "Requirement already satisfied: catboost in /usr/local/lib/python3.6/dist-packages (0.24.1)\n",
            "Requirement already satisfied: six in /usr/local/lib/python3.6/dist-packages (from catboost) (1.15.0)\n",
            "Requirement already satisfied: scipy in /usr/local/lib/python3.6/dist-packages (from catboost) (1.4.1)\n",
            "Requirement already satisfied: numpy>=1.16.0 in /usr/local/lib/python3.6/dist-packages (from catboost) (1.18.5)\n",
            "Requirement already satisfied: graphviz in /usr/local/lib/python3.6/dist-packages (from catboost) (0.10.1)\n",
            "Requirement already satisfied: pandas>=0.24.0 in /usr/local/lib/python3.6/dist-packages (from catboost) (1.0.5)\n",
            "Requirement already satisfied: matplotlib in /usr/local/lib/python3.6/dist-packages (from catboost) (3.2.2)\n",
            "Requirement already satisfied: plotly in /usr/local/lib/python3.6/dist-packages (from catboost) (4.4.1)\n",
            "Requirement already satisfied: python-dateutil>=2.6.1 in /usr/local/lib/python3.6/dist-packages (from pandas>=0.24.0->catboost) (2.8.1)\n",
            "Requirement already satisfied: pytz>=2017.2 in /usr/local/lib/python3.6/dist-packages (from pandas>=0.24.0->catboost) (2018.9)\n",
            "Requirement already satisfied: cycler>=0.10 in /usr/local/lib/python3.6/dist-packages (from matplotlib->catboost) (0.10.0)\n",
            "Requirement already satisfied: pyparsing!=2.0.4,!=2.1.2,!=2.1.6,>=2.0.1 in /usr/local/lib/python3.6/dist-packages (from matplotlib->catboost) (2.4.7)\n",
            "Requirement already satisfied: kiwisolver>=1.0.1 in /usr/local/lib/python3.6/dist-packages (from matplotlib->catboost) (1.2.0)\n",
            "Requirement already satisfied: retrying>=1.3.3 in /usr/local/lib/python3.6/dist-packages (from plotly->catboost) (1.3.3)\n",
            "Requirement already satisfied: xgboost in /usr/local/lib/python3.6/dist-packages (0.90)\n",
            "Requirement already satisfied: scipy in /usr/local/lib/python3.6/dist-packages (from xgboost) (1.4.1)\n",
            "Requirement already satisfied: numpy in /usr/local/lib/python3.6/dist-packages (from xgboost) (1.18.5)\n"
          ],
          "name": "stdout"
        }
      ]
    },
    {
      "cell_type": "code",
      "metadata": {
        "id": "ebv5hi7nOSb6",
        "colab_type": "code",
        "colab": {}
      },
      "source": [
        "from sklearn.linear_model import LinearRegression, LogisticRegressionCV\n",
        "from sklearn.svm import SVC\n",
        "from catboost import CatBoostClassifier, Pool\n",
        "from xgboost import XGBClassifier \n",
        "from sklearn.metrics import log_loss, balanced_accuracy_score"
      ],
      "execution_count": 129,
      "outputs": []
    },
    {
      "cell_type": "code",
      "metadata": {
        "id": "1pId7Bd3scKl",
        "colab_type": "code",
        "colab": {}
      },
      "source": [
        "smt = SMOTE()"
      ],
      "execution_count": 130,
      "outputs": []
    },
    {
      "cell_type": "markdown",
      "metadata": {
        "id": "ez67MtvLIhmP",
        "colab_type": "text"
      },
      "source": [
        "\n",
        "#### LogisticRegression/LogisticRegressionCV\n"
      ]
    },
    {
      "cell_type": "markdown",
      "metadata": {
        "id": "HRlMPTYLX4fE",
        "colab_type": "text"
      },
      "source": [
        "params for LogRegCV"
      ]
    },
    {
      "cell_type": "code",
      "metadata": {
        "id": "iexHVGxEWPtt",
        "colab_type": "code",
        "colab": {}
      },
      "source": [
        "scv = StratifiedKFold(n_splits=5, shuffle=True)\n",
        "log_score=make_scorer(score_func=log_loss) \n",
        "scoring = log_score\n",
        "class_weight = 'balanced'\n",
        "n_jobs = 4\n",
        "random_state = 123"
      ],
      "execution_count": 131,
      "outputs": []
    },
    {
      "cell_type": "code",
      "metadata": {
        "id": "0NEcXSGOsa5a",
        "colab_type": "code",
        "colab": {}
      },
      "source": [
        ""
      ],
      "execution_count": 131,
      "outputs": []
    },
    {
      "cell_type": "code",
      "metadata": {
        "id": "ELZqr6UTZhqn",
        "colab_type": "code",
        "colab": {}
      },
      "source": [
        "logit_model  = Pipeline(steps=[('process', process_pipe_full), ('logistic',LogisticRegression(class_weight='balanced', random_state=0))], verbose=True)"
      ],
      "execution_count": 132,
      "outputs": []
    },
    {
      "cell_type": "code",
      "metadata": {
        "id": "uelm5Z-zqrEn",
        "colab_type": "code",
        "colab": {}
      },
      "source": [
        "# log_smt  = SMOTE"
      ],
      "execution_count": 133,
      "outputs": []
    },
    {
      "cell_type": "code",
      "metadata": {
        "id": "ub-BuaJ5RlV7",
        "colab_type": "code",
        "colab": {
          "base_uri": "https://localhost:8080/",
          "height": 86
        },
        "outputId": "3ad35a64-4e78-468a-918b-aa9286435aeb"
      },
      "source": [
        "logit_model.fit(X_train, y_train);"
      ],
      "execution_count": 134,
      "outputs": [
        {
          "output_type": "stream",
          "text": [
            "[Pipeline] ............ (step 1 of 2) Processing scaler, total=   0.8s\n",
            "[Pipeline] ...... (step 2 of 2) Processing feature_pipe, total=   1.8s\n",
            "[Pipeline] ........... (step 1 of 2) Processing process, total= 6.2min\n",
            "[Pipeline] .......... (step 2 of 2) Processing logistic, total=   4.7s\n"
          ],
          "name": "stdout"
        }
      ]
    },
    {
      "cell_type": "code",
      "metadata": {
        "id": "ouX-pPLhUZOm",
        "colab_type": "code",
        "colab": {}
      },
      "source": [
        "log_pred = logit_model.predict_proba(X_train)[:,1]"
      ],
      "execution_count": 135,
      "outputs": []
    },
    {
      "cell_type": "code",
      "metadata": {
        "id": "fFveqtSUp-Vl",
        "colab_type": "code",
        "colab": {
          "base_uri": "https://localhost:8080/",
          "height": 34
        },
        "outputId": "4c2d54e1-32dc-4f4e-8ed5-69bc1ad870e4"
      },
      "source": [
        "log_pred.shape"
      ],
      "execution_count": 136,
      "outputs": [
        {
          "output_type": "execute_result",
          "data": {
            "text/plain": [
              "(432963,)"
            ]
          },
          "metadata": {
            "tags": []
          },
          "execution_count": 136
        }
      ]
    },
    {
      "cell_type": "code",
      "metadata": {
        "id": "x27R-zTTYMma",
        "colab_type": "code",
        "colab": {
          "base_uri": "https://localhost:8080/",
          "height": 34
        },
        "outputId": "015f383a-a8b3-4827-bba4-e64e13202e96"
      },
      "source": [
        "log_loss(y_train, log_pred) "
      ],
      "execution_count": 137,
      "outputs": [
        {
          "output_type": "execute_result",
          "data": {
            "text/plain": [
              "0.39429205379298066"
            ]
          },
          "metadata": {
            "tags": []
          },
          "execution_count": 137
        }
      ]
    },
    {
      "cell_type": "markdown",
      "metadata": {
        "id": "KxAc7H4RRqH9",
        "colab_type": "text"
      },
      "source": [
        "#### SVC"
      ]
    },
    {
      "cell_type": "code",
      "metadata": {
        "id": "EQHIqqM1RlKv",
        "colab_type": "code",
        "colab": {}
      },
      "source": [
        "svc_model  = Pipeline(steps=[('process', process_pipe_full), ('svc',SVC(class_weight='balanced', verbose=True, probability=True, random_state=0))], verbose=True) "
      ],
      "execution_count": 138,
      "outputs": []
    },
    {
      "cell_type": "code",
      "metadata": {
        "id": "AgQqxwSzRlHF",
        "colab_type": "code",
        "colab": {}
      },
      "source": [
        "# svc_model.fit(X_train2, y_train2)"
      ],
      "execution_count": 139,
      "outputs": []
    },
    {
      "cell_type": "code",
      "metadata": {
        "id": "uvb0GoSRBd2n",
        "colab_type": "code",
        "colab": {}
      },
      "source": [
        "\n",
        "\n",
        "# svc_model.fit(X_train2, y_train2;)"
      ],
      "execution_count": 140,
      "outputs": []
    },
    {
      "cell_type": "code",
      "metadata": {
        "id": "78xnwBPfBdym",
        "colab_type": "code",
        "colab": {}
      },
      "source": [
        "# svc_pred = svc_model.predict_proba(X_train2)[:1]"
      ],
      "execution_count": 141,
      "outputs": []
    },
    {
      "cell_type": "code",
      "metadata": {
        "id": "nSbHhnuIBdua",
        "colab_type": "code",
        "colab": {}
      },
      "source": [
        "# svc_pred"
      ],
      "execution_count": 142,
      "outputs": []
    },
    {
      "cell_type": "code",
      "metadata": {
        "id": "91tOjh0an7zW",
        "colab_type": "code",
        "colab": {}
      },
      "source": [
        ""
      ],
      "execution_count": 142,
      "outputs": []
    },
    {
      "cell_type": "markdown",
      "metadata": {
        "id": "TY4GO3MZVvhK",
        "colab_type": "text"
      },
      "source": [
        "### XGBoost"
      ]
    },
    {
      "cell_type": "code",
      "metadata": {
        "id": "uFQG13xZWOcD",
        "colab_type": "code",
        "colab": {}
      },
      "source": [
        "xgb = XGBClassifier(n_estimators=1000,random_seed = 10, use_best_model=True,\n",
        "                    eval_metric = 'logloss', eval_set=[(X_train,y_train),(X_eval, y_eval)], \n",
        "                     early_stopping_rounds=100,verbose=100)"
      ],
      "execution_count": 150,
      "outputs": []
    },
    {
      "cell_type": "code",
      "metadata": {
        "id": "w6v6YR77BdqX",
        "colab_type": "code",
        "colab": {}
      },
      "source": [
        "xgb_model = Pipeline(steps=[('process', process_pipe_full), ('xgb', xgb)], verbose=True)"
      ],
      "execution_count": 151,
      "outputs": []
    },
    {
      "cell_type": "code",
      "metadata": {
        "id": "j3cgOrEOBdmL",
        "colab_type": "code",
        "colab": {}
      },
      "source": [
        "# xgb_model.fit(X_train,y_train)"
      ],
      "execution_count": 153,
      "outputs": []
    },
    {
      "cell_type": "code",
      "metadata": {
        "id": "HkCc3lY1Bdhj",
        "colab_type": "code",
        "colab": {}
      },
      "source": [
        "xgb_pred  = xgb_model.predict_proba(X_val)[:,1]"
      ],
      "execution_count": null,
      "outputs": []
    },
    {
      "cell_type": "markdown",
      "metadata": {
        "id": "Pnv5uEgOWd24",
        "colab_type": "text"
      },
      "source": [
        "### CatBoost"
      ]
    },
    {
      "cell_type": "code",
      "metadata": {
        "id": "GkXjsaG8Bdaz",
        "colab_type": "code",
        "colab": {}
      },
      "source": [
        "cat = CatBoostClassifier(n_estimators=1000,random_seed = 10, use_best_model=True, eval_metric = 'logloss')"
      ],
      "execution_count": null,
      "outputs": []
    },
    {
      "cell_type": "code",
      "metadata": {
        "id": "eBelQBIKRlDY",
        "colab_type": "code",
        "colab": {}
      },
      "source": [
        "cat_model = Pipeline(steps=[('process', process_pipe_full), ('cat', cat)], verbose=True)"
      ],
      "execution_count": null,
      "outputs": []
    },
    {
      "cell_type": "code",
      "metadata": {
        "id": "IaZJFqvfRk_q",
        "colab_type": "code",
        "colab": {}
      },
      "source": [
        "cat_model.fit(X_train2,y_train2,eval_set=[(X_train2,y_train2),(X_val, y_val)], early_stopping_rounds=100,verbose=100)"
      ],
      "execution_count": null,
      "outputs": []
    },
    {
      "cell_type": "code",
      "metadata": {
        "id": "huM9D-9rRk8B",
        "colab_type": "code",
        "colab": {}
      },
      "source": [
        "cat_pred  = cat_model.predict_proba(X_val)[:,1]"
      ],
      "execution_count": null,
      "outputs": []
    },
    {
      "cell_type": "code",
      "metadata": {
        "id": "UqN1eHFTRk4Q",
        "colab_type": "code",
        "colab": {}
      },
      "source": [
        ""
      ],
      "execution_count": null,
      "outputs": []
    },
    {
      "cell_type": "code",
      "metadata": {
        "id": "c5KXeL1bRk0c",
        "colab_type": "code",
        "colab": {}
      },
      "source": [
        ""
      ],
      "execution_count": null,
      "outputs": []
    },
    {
      "cell_type": "code",
      "metadata": {
        "id": "6lwT3IcLRkwj",
        "colab_type": "code",
        "colab": {}
      },
      "source": [
        ""
      ],
      "execution_count": null,
      "outputs": []
    },
    {
      "cell_type": "code",
      "metadata": {
        "id": "C-_hY4yKRksD",
        "colab_type": "code",
        "colab": {}
      },
      "source": [
        ""
      ],
      "execution_count": null,
      "outputs": []
    },
    {
      "cell_type": "code",
      "metadata": {
        "id": "9_EDpDjsRknU",
        "colab_type": "code",
        "colab": {}
      },
      "source": [
        ""
      ],
      "execution_count": null,
      "outputs": []
    },
    {
      "cell_type": "markdown",
      "metadata": {
        "id": "fUziwNxaE9bm",
        "colab_type": "text"
      },
      "source": [
        "#### Measure model's performances"
      ]
    },
    {
      "cell_type": "code",
      "metadata": {
        "id": "ea_PaUKZFAIb",
        "colab_type": "code",
        "colab": {}
      },
      "source": [
        "\n",
        "log_metric = PredMetrics(X_train2, y_train2, log_pred, y_val, logit_model, log_score, cv=cv) "
      ],
      "execution_count": null,
      "outputs": []
    },
    {
      "cell_type": "code",
      "metadata": {
        "id": "7pzdeqJ2blCO",
        "colab_type": "code",
        "colab": {}
      },
      "source": [
        "print(log_metric.class_report())"
      ],
      "execution_count": null,
      "outputs": []
    },
    {
      "cell_type": "markdown",
      "metadata": {
        "id": "xE_9TgjqkY3v",
        "colab_type": "text"
      },
      "source": [
        ""
      ]
    },
    {
      "cell_type": "code",
      "metadata": {
        "id": "MsQ-Sm1pcRlt",
        "colab_type": "code",
        "colab": {}
      },
      "source": [
        ""
      ],
      "execution_count": null,
      "outputs": []
    },
    {
      "cell_type": "markdown",
      "metadata": {
        "id": "OKKOJyhLz8X0",
        "colab_type": "text"
      },
      "source": [
        "### Final Predictions"
      ]
    },
    {
      "cell_type": "markdown",
      "metadata": {
        "id": "YYqauB_yP71d",
        "colab_type": "text"
      },
      "source": [
        "#### Pickle models"
      ]
    },
    {
      "cell_type": "code",
      "metadata": {
        "id": "BZeV8bOVQ15f",
        "colab_type": "code",
        "colab": {}
      },
      "source": [
        "import dill, gzip"
      ],
      "execution_count": 159,
      "outputs": []
    },
    {
      "cell_type": "code",
      "metadata": {
        "id": "Pa3aZSDaSAMk",
        "colab_type": "code",
        "colab": {}
      },
      "source": [
        "def save_model(path, model, file_name='new_model.dill'):\n",
        "  with gzip.open(path+file_name, 'wb') as f:\n",
        "    dill.dump(model,f)\n",
        "\n",
        "\n",
        "def load_model(full_path):\n",
        "  with gzip.open(path, 'rb') as f:\n",
        "    model = dill.load(f)\n",
        "    return model"
      ],
      "execution_count": 160,
      "outputs": []
    },
    {
      "cell_type": "markdown",
      "metadata": {
        "id": "M7_fN4LUUMND",
        "colab_type": "text"
      },
      "source": [
        "> Save Logistic Model"
      ]
    },
    {
      "cell_type": "code",
      "metadata": {
        "id": "wtIhsB2yTXBz",
        "colab_type": "code",
        "colab": {}
      },
      "source": [
        "save_model(path = models_path, model=logit_model,file_name='logistic_model.dill.gz') "
      ],
      "execution_count": null,
      "outputs": []
    },
    {
      "cell_type": "code",
      "metadata": {
        "id": "ju_VAS4hTz2i",
        "colab_type": "code",
        "colab": {}
      },
      "source": [
        "logit_model = load_model(models_path+'logistic_model.dill.gz')"
      ],
      "execution_count": null,
      "outputs": []
    },
    {
      "cell_type": "markdown",
      "metadata": {
        "id": "4nGX5y3I0KTx",
        "colab_type": "text"
      },
      "source": [
        "#### Logistic Production Predictions"
      ]
    },
    {
      "cell_type": "code",
      "metadata": {
        "id": "j82C_-7B0B_d",
        "colab_type": "code",
        "colab": {}
      },
      "source": [
        "test"
      ],
      "execution_count": null,
      "outputs": []
    },
    {
      "cell_type": "code",
      "metadata": {
        "id": "wgxgtO-R1nGh",
        "colab_type": "code",
        "colab": {}
      },
      "source": [
        "submission"
      ],
      "execution_count": null,
      "outputs": []
    },
    {
      "cell_type": "code",
      "metadata": {
        "id": "ax2_9oEs14W6",
        "colab_type": "code",
        "colab": {}
      },
      "source": [
        "np.testing.assert_array_equal(test.index.values, \n",
        "                              submission.index.values)"
      ],
      "execution_count": null,
      "outputs": []
    },
    {
      "cell_type": "code",
      "metadata": {
        "id": "bFcJ4Gk70DKX",
        "colab_type": "code",
        "colab": {}
      },
      "source": [
        "log_pred_final = logit_model.predict_proba(test)[:,1]"
      ],
      "execution_count": null,
      "outputs": []
    },
    {
      "cell_type": "code",
      "metadata": {
        "id": "8krvTYlk0WZ9",
        "colab_type": "code",
        "colab": {}
      },
      "source": [
        "log_pred_final.shape"
      ],
      "execution_count": null,
      "outputs": []
    },
    {
      "cell_type": "code",
      "metadata": {
        "id": "7ruuVHt50_a3",
        "colab_type": "code",
        "colab": {}
      },
      "source": [
        ""
      ],
      "execution_count": null,
      "outputs": []
    }
  ]
}