{
  "nbformat": 4,
  "nbformat_minor": 0,
  "metadata": {
    "kernelspec": {
      "display_name": "Python 3",
      "language": "python",
      "name": "python3"
    },
    "language_info": {
      "codemirror_mode": {
        "name": "ipython",
        "version": 3
      },
      "file_extension": ".py",
      "mimetype": "text/x-python",
      "name": "python",
      "nbconvert_exporter": "python",
      "pygments_lexer": "ipython3",
      "version": "3.6.9"
    },
    "colab": {
      "name": "customer_churn_modelling_colab.ipynb",
      "provenance": [],
      "collapsed_sections": [],
      "include_colab_link": true
    }
  },
  "cells": [
    {
      "cell_type": "markdown",
      "metadata": {
        "id": "view-in-github",
        "colab_type": "text"
      },
      "source": [
        "<a href=\"https://colab.research.google.com/github/Patrick5455/Customer-Churn-Prediction/blob/master/modelling/customer_churn_modelling_colab.ipynb\" target=\"_parent\"><img src=\"https://colab.research.google.com/assets/colab-badge.svg\" alt=\"Open In Colab\"/></a>"
      ]
    },
    {
      "cell_type": "code",
      "metadata": {
        "id": "O7pW2zNGqTXf",
        "colab_type": "code",
        "colab": {
          "base_uri": "https://localhost:8080/",
          "height": 34
        },
        "outputId": "3c6b302c-1ec4-45ab-c581-9dc827b5605f"
      },
      "source": [
        "from google.colab import drive\n",
        "drive.mount('/content/drive') "
      ],
      "execution_count": null,
      "outputs": [
        {
          "output_type": "stream",
          "text": [
            "Drive already mounted at /content/drive; to attempt to forcibly remount, call drive.mount(\"/content/drive\", force_remount=True).\n"
          ],
          "name": "stdout"
        }
      ]
    },
    {
      "cell_type": "code",
      "metadata": {
        "id": "INjA0Wpk5qEg",
        "colab_type": "code",
        "colab": {}
      },
      "source": [
        "#Import some libraries\n",
        "import pandas as pd\n",
        "from pandas.api.types import is_string_dtype\n",
        "from pandas.api.types import is_numeric_dtype\n",
        "import numpy as np\n",
        "import matplotlib.pyplot as plt\n",
        "from pylab import rcParams \n",
        "import seaborn as sns\n",
        "import os\n",
        "sns.set_style('darkgrid')\n",
        "rcParams['figure.figsize'] = 8,8\n",
        "import warnings\n",
        "warnings.filterwarnings(\"ignore\")\n",
        "%matplotlib inline "
      ],
      "execution_count": null,
      "outputs": []
    },
    {
      "cell_type": "markdown",
      "metadata": {
        "id": "9rpGJeIe5qEx",
        "colab_type": "text"
      },
      "source": [
        "> Data Preprocessing"
      ]
    },
    {
      "cell_type": "code",
      "metadata": {
        "id": "U7-6OQgl5qE0",
        "colab_type": "code",
        "colab": {}
      },
      "source": [
        "from sklearn.preprocessing import StandardScaler, RobustScaler, OneHotEncoder, LabelEncoder\n",
        "from sklearn.pipeline import FeatureUnion, make_pipeline, Pipeline\n",
        "from sklearn.impute import KNNImputer\n",
        "from sklearn.model_selection import cross_val_predict, cross_val_score, GridSearchCV,RandomizedSearchCV\n",
        "from sklearn.impute import SimpleImputer\n",
        "from sklearn.compose import ColumnTransformer\n",
        "\n",
        "from sklearn.ensemble import IsolationForest\n",
        "from imblearn.over_sampling import SMOTE"
      ],
      "execution_count": null,
      "outputs": []
    },
    {
      "cell_type": "markdown",
      "metadata": {
        "id": "1yyH-vBc5qFD",
        "colab_type": "text"
      },
      "source": [
        "> > Project packages"
      ]
    },
    {
      "cell_type": "code",
      "metadata": {
        "id": "98q9INpN5qFF",
        "colab_type": "code",
        "colab": {}
      },
      "source": [
        "# from project_package.data_package import data\n",
        "# from project_package.model_package import model, model_metrics\n",
        "# from project_package.plot_package import bi_plot, uni_plot\n",
        "# "
      ],
      "execution_count": null,
      "outputs": []
    },
    {
      "cell_type": "code",
      "metadata": {
        "id": "a1LZQJEU5qFR",
        "colab_type": "code",
        "colab": {}
      },
      "source": [
        "# ?KNNImputer"
      ],
      "execution_count": null,
      "outputs": []
    },
    {
      "cell_type": "markdown",
      "metadata": {
        "id": "FonOxjCX5qFa",
        "colab_type": "text"
      },
      "source": [
        "> Load Datasets"
      ]
    },
    {
      "cell_type": "code",
      "metadata": {
        "id": "umbX4mHdq6O_",
        "colab_type": "code",
        "colab": {}
      },
      "source": [
        "#g-drive paths\n",
        "train = '/content/drive/My Drive/Zindi-Competionts/customer-churn-prediction/datasets/AIMS_Train.csv'\n",
        "test = '/content/drive/My Drive/Zindi-Competionts/customer-churn-prediction/datasets/AIMS_Test.csv'\n",
        "variables = '/content/drive/My Drive/Zindi-Competionts/customer-churn-prediction/datasets/VariableDefinitions.csv'\n",
        "submissions = '/content/drive/My Drive/Zindi-Competionts/customer-churn-prediction/datasets/AIMS_SampleSubmission.csv'"
      ],
      "execution_count": null,
      "outputs": []
    },
    {
      "cell_type": "code",
      "metadata": {
        "id": "HkmRSVxf6aoJ",
        "colab_type": "code",
        "colab": {}
      },
      "source": [
        "#colab\n",
        "train = pd.read_csv(train)\n",
        "test=  pd.read_csv(test)\n",
        "submission = pd.read_csv(submissions)\n",
        "variables = pd.read_csv(variables)"
      ],
      "execution_count": null,
      "outputs": []
    },
    {
      "cell_type": "code",
      "metadata": {
        "id": "Uptp-rMy5qFd",
        "colab_type": "code",
        "colab": {}
      },
      "source": [
        "#import data - jupyter localhost\n",
        "\n",
        "# train = pd.read_csv('../datasets/AIMS_Train.csv')\n",
        "# test=  pd.read_csv('../datasets/AIMS_Test.csv')\n",
        "# submission = pd.read_csv('../datasets/AIMS_SampleSubmission.csv')\n",
        "# variables = pd.read_csv('../datasets/VariableDefinitions.csv')"
      ],
      "execution_count": null,
      "outputs": []
    },
    {
      "cell_type": "code",
      "metadata": {
        "id": "czqrIF1d5qFl",
        "colab_type": "code",
        "colab": {
          "base_uri": "https://localhost:8080/",
          "height": 708
        },
        "outputId": "24da0e5d-033d-4c04-9734-5e2985021110"
      },
      "source": [
        "variables"
      ],
      "execution_count": null,
      "outputs": [
        {
          "output_type": "execute_result",
          "data": {
            "text/html": [
              "<div>\n",
              "<style scoped>\n",
              "    .dataframe tbody tr th:only-of-type {\n",
              "        vertical-align: middle;\n",
              "    }\n",
              "\n",
              "    .dataframe tbody tr th {\n",
              "        vertical-align: top;\n",
              "    }\n",
              "\n",
              "    .dataframe thead th {\n",
              "        text-align: right;\n",
              "    }\n",
              "</style>\n",
              "<table border=\"1\" class=\"dataframe\">\n",
              "  <thead>\n",
              "    <tr style=\"text-align: right;\">\n",
              "      <th></th>\n",
              "      <th>Variable Definitions</th>\n",
              "      <th>Unnamed: 1</th>\n",
              "      <th>Unnamed: 2</th>\n",
              "    </tr>\n",
              "  </thead>\n",
              "  <tbody>\n",
              "    <tr>\n",
              "      <th>0</th>\n",
              "      <td>NaN</td>\n",
              "      <td>French</td>\n",
              "      <td>English</td>\n",
              "    </tr>\n",
              "    <tr>\n",
              "      <th>1</th>\n",
              "      <td>NaN</td>\n",
              "      <td>Le dataset churn comprend 19 variables dont 15...</td>\n",
              "      <td>The churn dataset includes 19 variables includ...</td>\n",
              "    </tr>\n",
              "    <tr>\n",
              "      <th>2</th>\n",
              "      <td>user_id</td>\n",
              "      <td>NaN</td>\n",
              "      <td>NaN</td>\n",
              "    </tr>\n",
              "    <tr>\n",
              "      <th>3</th>\n",
              "      <td>REGION</td>\n",
              "      <td>la localité de chaque client</td>\n",
              "      <td>the location of each client</td>\n",
              "    </tr>\n",
              "    <tr>\n",
              "      <th>4</th>\n",
              "      <td>TENURE</td>\n",
              "      <td>la durée dans le reseau</td>\n",
              "      <td>duration in the network</td>\n",
              "    </tr>\n",
              "    <tr>\n",
              "      <th>5</th>\n",
              "      <td>MONTANT</td>\n",
              "      <td>montant de recharge</td>\n",
              "      <td>top-up amount</td>\n",
              "    </tr>\n",
              "    <tr>\n",
              "      <th>6</th>\n",
              "      <td>FREQUENCE_RECH</td>\n",
              "      <td>nombre de fois que le client a fait une recharge</td>\n",
              "      <td>number of times the customer refilled</td>\n",
              "    </tr>\n",
              "    <tr>\n",
              "      <th>7</th>\n",
              "      <td>REVENUE</td>\n",
              "      <td>revenu mensuel de chaque client</td>\n",
              "      <td>monthly income of each client</td>\n",
              "    </tr>\n",
              "    <tr>\n",
              "      <th>8</th>\n",
              "      <td>ARPU_SEGMENT</td>\n",
              "      <td>revenu sur 90 jours/3</td>\n",
              "      <td>income over 90 days / 3</td>\n",
              "    </tr>\n",
              "    <tr>\n",
              "      <th>9</th>\n",
              "      <td>FREQUENCE</td>\n",
              "      <td>nombre de fois que client à fait un revenu</td>\n",
              "      <td>number of times the client has made an income</td>\n",
              "    </tr>\n",
              "    <tr>\n",
              "      <th>10</th>\n",
              "      <td>DATA_VOLUME</td>\n",
              "      <td>nombre de connexions</td>\n",
              "      <td>number of connections</td>\n",
              "    </tr>\n",
              "    <tr>\n",
              "      <th>11</th>\n",
              "      <td>ON_NET</td>\n",
              "      <td>appel inter expresso</td>\n",
              "      <td>inter expresso call</td>\n",
              "    </tr>\n",
              "    <tr>\n",
              "      <th>12</th>\n",
              "      <td>ORANGE</td>\n",
              "      <td>appel vers orange</td>\n",
              "      <td>call to orange</td>\n",
              "    </tr>\n",
              "    <tr>\n",
              "      <th>13</th>\n",
              "      <td>TIGO</td>\n",
              "      <td>appel vers Tigo</td>\n",
              "      <td>call to Tigo</td>\n",
              "    </tr>\n",
              "    <tr>\n",
              "      <th>14</th>\n",
              "      <td>ZONE1</td>\n",
              "      <td>appel vers les zone1</td>\n",
              "      <td>call to zones1</td>\n",
              "    </tr>\n",
              "    <tr>\n",
              "      <th>15</th>\n",
              "      <td>ZONE2</td>\n",
              "      <td>appel vers les zone2</td>\n",
              "      <td>call to zones2</td>\n",
              "    </tr>\n",
              "    <tr>\n",
              "      <th>16</th>\n",
              "      <td>MRG</td>\n",
              "      <td>un client qui fait du vas</td>\n",
              "      <td>a client who is going</td>\n",
              "    </tr>\n",
              "    <tr>\n",
              "      <th>17</th>\n",
              "      <td>REGULARITY</td>\n",
              "      <td>nombre de fois que le client est actif pendant...</td>\n",
              "      <td>number of times the client is active for 90 days</td>\n",
              "    </tr>\n",
              "    <tr>\n",
              "      <th>18</th>\n",
              "      <td>TOP_PACK</td>\n",
              "      <td>les pack les plus activés</td>\n",
              "      <td>the most active packs</td>\n",
              "    </tr>\n",
              "    <tr>\n",
              "      <th>19</th>\n",
              "      <td>FREQ_TOP_PACK</td>\n",
              "      <td>nombre de fois que le client a activé les pack...</td>\n",
              "      <td>number of times the client has activated the t...</td>\n",
              "    </tr>\n",
              "    <tr>\n",
              "      <th>20</th>\n",
              "      <td>CHURN</td>\n",
              "      <td>variable à predire - Target</td>\n",
              "      <td>variable to predict - Target</td>\n",
              "    </tr>\n",
              "  </tbody>\n",
              "</table>\n",
              "</div>"
            ],
            "text/plain": [
              "   Variable Definitions  ...                                         Unnamed: 2\n",
              "0                   NaN  ...                                            English\n",
              "1                   NaN  ...  The churn dataset includes 19 variables includ...\n",
              "2               user_id  ...                                                NaN\n",
              "3                REGION  ...                        the location of each client\n",
              "4                TENURE  ...                            duration in the network\n",
              "5               MONTANT  ...                                      top-up amount\n",
              "6        FREQUENCE_RECH  ...              number of times the customer refilled\n",
              "7               REVENUE  ...                      monthly income of each client\n",
              "8          ARPU_SEGMENT  ...                            income over 90 days / 3\n",
              "9             FREQUENCE  ...      number of times the client has made an income\n",
              "10          DATA_VOLUME  ...                              number of connections\n",
              "11               ON_NET  ...                                inter expresso call\n",
              "12               ORANGE  ...                                     call to orange\n",
              "13                 TIGO  ...                                       call to Tigo\n",
              "14                ZONE1  ...                                     call to zones1\n",
              "15                ZONE2  ...                                     call to zones2\n",
              "16                  MRG  ...                              a client who is going\n",
              "17           REGULARITY  ...   number of times the client is active for 90 days\n",
              "18             TOP_PACK  ...                              the most active packs\n",
              "19        FREQ_TOP_PACK  ...  number of times the client has activated the t...\n",
              "20                CHURN  ...                       variable to predict - Target\n",
              "\n",
              "[21 rows x 3 columns]"
            ]
          },
          "metadata": {
            "tags": []
          },
          "execution_count": 156
        }
      ]
    },
    {
      "cell_type": "code",
      "metadata": {
        "id": "Kpec6XGXPVyp",
        "colab_type": "code",
        "colab": {
          "base_uri": "https://localhost:8080/",
          "height": 469
        },
        "outputId": "6402765a-7fd0-4a50-ad39-6e6be3f867be"
      },
      "source": [
        "train.info()"
      ],
      "execution_count": null,
      "outputs": [
        {
          "output_type": "stream",
          "text": [
            "<class 'pandas.core.frame.DataFrame'>\n",
            "RangeIndex: 646214 entries, 0 to 646213\n",
            "Data columns (total 19 columns):\n",
            " #   Column          Non-Null Count   Dtype  \n",
            "---  ------          --------------   -----  \n",
            " 0   user_id         646214 non-null  object \n",
            " 1   REGION          391246 non-null  object \n",
            " 2   TENURE          646214 non-null  object \n",
            " 3   MONTANT         419154 non-null  float64\n",
            " 4   FREQUENCE_RECH  419154 non-null  float64\n",
            " 5   REVENUE         428459 non-null  float64\n",
            " 6   ARPU_SEGMENT    428459 non-null  float64\n",
            " 7   FREQUENCE       428459 non-null  float64\n",
            " 8   DATA_VOLUME     327544 non-null  float64\n",
            " 9   ON_NET          409962 non-null  float64\n",
            " 10  ORANGE          377516 non-null  float64\n",
            " 11  TIGO            259060 non-null  float64\n",
            " 12  ZONE1           50406 non-null   float64\n",
            " 13  ZONE2           41072 non-null   float64\n",
            " 14  MRG             646214 non-null  object \n",
            " 15  REGULARITY      646214 non-null  int64  \n",
            " 16  TOP_PACK        375331 non-null  object \n",
            " 17  FREQ_TOP_PACK   375331 non-null  float64\n",
            " 18  CHURN           646214 non-null  int64  \n",
            "dtypes: float64(12), int64(2), object(5)\n",
            "memory usage: 93.7+ MB\n"
          ],
          "name": "stdout"
        }
      ]
    },
    {
      "cell_type": "code",
      "metadata": {
        "id": "5gw8z5ta5qFy",
        "colab_type": "code",
        "colab": {
          "base_uri": "https://localhost:8080/",
          "height": 313
        },
        "outputId": "d22b46c3-cce3-4748-e3a7-70af2799086b"
      },
      "source": [
        "train.drop(columns=['REGION', 'MRG', 'TOP_PACK'], inplace=True) \n",
        "train = train.sample(frac=.3, random_state=123)\n",
        "train.head()"
      ],
      "execution_count": null,
      "outputs": [
        {
          "output_type": "execute_result",
          "data": {
            "text/html": [
              "<div>\n",
              "<style scoped>\n",
              "    .dataframe tbody tr th:only-of-type {\n",
              "        vertical-align: middle;\n",
              "    }\n",
              "\n",
              "    .dataframe tbody tr th {\n",
              "        vertical-align: top;\n",
              "    }\n",
              "\n",
              "    .dataframe thead th {\n",
              "        text-align: right;\n",
              "    }\n",
              "</style>\n",
              "<table border=\"1\" class=\"dataframe\">\n",
              "  <thead>\n",
              "    <tr style=\"text-align: right;\">\n",
              "      <th></th>\n",
              "      <th>user_id</th>\n",
              "      <th>TENURE</th>\n",
              "      <th>MONTANT</th>\n",
              "      <th>FREQUENCE_RECH</th>\n",
              "      <th>REVENUE</th>\n",
              "      <th>ARPU_SEGMENT</th>\n",
              "      <th>FREQUENCE</th>\n",
              "      <th>DATA_VOLUME</th>\n",
              "      <th>ON_NET</th>\n",
              "      <th>ORANGE</th>\n",
              "      <th>TIGO</th>\n",
              "      <th>ZONE1</th>\n",
              "      <th>ZONE2</th>\n",
              "      <th>REGULARITY</th>\n",
              "      <th>FREQ_TOP_PACK</th>\n",
              "      <th>CHURN</th>\n",
              "    </tr>\n",
              "  </thead>\n",
              "  <tbody>\n",
              "    <tr>\n",
              "      <th>542316</th>\n",
              "      <td>16a8528ec3b1201f5cb8bfc35533744b79bd44d2</td>\n",
              "      <td>K &gt; 24 month</td>\n",
              "      <td>NaN</td>\n",
              "      <td>NaN</td>\n",
              "      <td>NaN</td>\n",
              "      <td>NaN</td>\n",
              "      <td>NaN</td>\n",
              "      <td>NaN</td>\n",
              "      <td>NaN</td>\n",
              "      <td>NaN</td>\n",
              "      <td>NaN</td>\n",
              "      <td>NaN</td>\n",
              "      <td>NaN</td>\n",
              "      <td>1</td>\n",
              "      <td>NaN</td>\n",
              "      <td>1</td>\n",
              "    </tr>\n",
              "    <tr>\n",
              "      <th>59878</th>\n",
              "      <td>3a8b710546fb6272a56908c2fcbcef20e2caa0cf</td>\n",
              "      <td>K &gt; 24 month</td>\n",
              "      <td>11650.0</td>\n",
              "      <td>30.0</td>\n",
              "      <td>11682.0</td>\n",
              "      <td>3894.0</td>\n",
              "      <td>32.0</td>\n",
              "      <td>7119.0</td>\n",
              "      <td>23.0</td>\n",
              "      <td>468.0</td>\n",
              "      <td>54.0</td>\n",
              "      <td>0.0</td>\n",
              "      <td>NaN</td>\n",
              "      <td>60</td>\n",
              "      <td>18.0</td>\n",
              "      <td>0</td>\n",
              "    </tr>\n",
              "    <tr>\n",
              "      <th>10729</th>\n",
              "      <td>0f34b0bf4dac19dd901b7e03dd79cb79ed0b744a</td>\n",
              "      <td>K &gt; 24 month</td>\n",
              "      <td>1000.0</td>\n",
              "      <td>2.0</td>\n",
              "      <td>1000.0</td>\n",
              "      <td>333.0</td>\n",
              "      <td>2.0</td>\n",
              "      <td>NaN</td>\n",
              "      <td>7.0</td>\n",
              "      <td>45.0</td>\n",
              "      <td>NaN</td>\n",
              "      <td>NaN</td>\n",
              "      <td>NaN</td>\n",
              "      <td>22</td>\n",
              "      <td>2.0</td>\n",
              "      <td>0</td>\n",
              "    </tr>\n",
              "    <tr>\n",
              "      <th>456437</th>\n",
              "      <td>dc34cfe39e89bddddf7f7550431681b6fc31e72e</td>\n",
              "      <td>K &gt; 24 month</td>\n",
              "      <td>500.0</td>\n",
              "      <td>1.0</td>\n",
              "      <td>480.0</td>\n",
              "      <td>160.0</td>\n",
              "      <td>4.0</td>\n",
              "      <td>1875.0</td>\n",
              "      <td>14.0</td>\n",
              "      <td>1.0</td>\n",
              "      <td>NaN</td>\n",
              "      <td>NaN</td>\n",
              "      <td>NaN</td>\n",
              "      <td>20</td>\n",
              "      <td>2.0</td>\n",
              "      <td>0</td>\n",
              "    </tr>\n",
              "    <tr>\n",
              "      <th>273902</th>\n",
              "      <td>3920ace4d36a498dde155bec15757407846258fc</td>\n",
              "      <td>K &gt; 24 month</td>\n",
              "      <td>11150.0</td>\n",
              "      <td>34.0</td>\n",
              "      <td>11750.0</td>\n",
              "      <td>3917.0</td>\n",
              "      <td>40.0</td>\n",
              "      <td>789.0</td>\n",
              "      <td>125.0</td>\n",
              "      <td>303.0</td>\n",
              "      <td>29.0</td>\n",
              "      <td>0.0</td>\n",
              "      <td>NaN</td>\n",
              "      <td>46</td>\n",
              "      <td>31.0</td>\n",
              "      <td>0</td>\n",
              "    </tr>\n",
              "  </tbody>\n",
              "</table>\n",
              "</div>"
            ],
            "text/plain": [
              "                                         user_id  ... CHURN\n",
              "542316  16a8528ec3b1201f5cb8bfc35533744b79bd44d2  ...     1\n",
              "59878   3a8b710546fb6272a56908c2fcbcef20e2caa0cf  ...     0\n",
              "10729   0f34b0bf4dac19dd901b7e03dd79cb79ed0b744a  ...     0\n",
              "456437  dc34cfe39e89bddddf7f7550431681b6fc31e72e  ...     0\n",
              "273902  3920ace4d36a498dde155bec15757407846258fc  ...     0\n",
              "\n",
              "[5 rows x 16 columns]"
            ]
          },
          "metadata": {
            "tags": []
          },
          "execution_count": 158
        }
      ]
    },
    {
      "cell_type": "code",
      "metadata": {
        "id": "012f_WXe5qF6",
        "colab_type": "code",
        "colab": {
          "base_uri": "https://localhost:8080/",
          "height": 313
        },
        "outputId": "573cf260-0ee0-494a-fbcd-fe32072557b5"
      },
      "source": [
        "train.tail()"
      ],
      "execution_count": null,
      "outputs": [
        {
          "output_type": "execute_result",
          "data": {
            "text/html": [
              "<div>\n",
              "<style scoped>\n",
              "    .dataframe tbody tr th:only-of-type {\n",
              "        vertical-align: middle;\n",
              "    }\n",
              "\n",
              "    .dataframe tbody tr th {\n",
              "        vertical-align: top;\n",
              "    }\n",
              "\n",
              "    .dataframe thead th {\n",
              "        text-align: right;\n",
              "    }\n",
              "</style>\n",
              "<table border=\"1\" class=\"dataframe\">\n",
              "  <thead>\n",
              "    <tr style=\"text-align: right;\">\n",
              "      <th></th>\n",
              "      <th>user_id</th>\n",
              "      <th>TENURE</th>\n",
              "      <th>MONTANT</th>\n",
              "      <th>FREQUENCE_RECH</th>\n",
              "      <th>REVENUE</th>\n",
              "      <th>ARPU_SEGMENT</th>\n",
              "      <th>FREQUENCE</th>\n",
              "      <th>DATA_VOLUME</th>\n",
              "      <th>ON_NET</th>\n",
              "      <th>ORANGE</th>\n",
              "      <th>TIGO</th>\n",
              "      <th>ZONE1</th>\n",
              "      <th>ZONE2</th>\n",
              "      <th>REGULARITY</th>\n",
              "      <th>FREQ_TOP_PACK</th>\n",
              "      <th>CHURN</th>\n",
              "    </tr>\n",
              "  </thead>\n",
              "  <tbody>\n",
              "    <tr>\n",
              "      <th>392679</th>\n",
              "      <td>48d344fd728daa817fdcc1d5b42c24bf9ca40227</td>\n",
              "      <td>K &gt; 24 month</td>\n",
              "      <td>500.0</td>\n",
              "      <td>1.0</td>\n",
              "      <td>500.0</td>\n",
              "      <td>167.0</td>\n",
              "      <td>1.0</td>\n",
              "      <td>0.0</td>\n",
              "      <td>9.0</td>\n",
              "      <td>8.0</td>\n",
              "      <td>15.0</td>\n",
              "      <td>NaN</td>\n",
              "      <td>NaN</td>\n",
              "      <td>20</td>\n",
              "      <td>1.0</td>\n",
              "      <td>0</td>\n",
              "    </tr>\n",
              "    <tr>\n",
              "      <th>494369</th>\n",
              "      <td>b8ee2c6522cb33c8a167a6978972fce2b705f8a6</td>\n",
              "      <td>K &gt; 24 month</td>\n",
              "      <td>1100.0</td>\n",
              "      <td>3.0</td>\n",
              "      <td>1098.0</td>\n",
              "      <td>366.0</td>\n",
              "      <td>3.0</td>\n",
              "      <td>216.0</td>\n",
              "      <td>27.0</td>\n",
              "      <td>1.0</td>\n",
              "      <td>2.0</td>\n",
              "      <td>NaN</td>\n",
              "      <td>NaN</td>\n",
              "      <td>20</td>\n",
              "      <td>2.0</td>\n",
              "      <td>0</td>\n",
              "    </tr>\n",
              "    <tr>\n",
              "      <th>59888</th>\n",
              "      <td>efaef8feb41c744fe8dbc5c8a05eb323ebb13a1a</td>\n",
              "      <td>K &gt; 24 month</td>\n",
              "      <td>1000.0</td>\n",
              "      <td>2.0</td>\n",
              "      <td>1000.0</td>\n",
              "      <td>333.0</td>\n",
              "      <td>2.0</td>\n",
              "      <td>NaN</td>\n",
              "      <td>34.0</td>\n",
              "      <td>43.0</td>\n",
              "      <td>2.0</td>\n",
              "      <td>NaN</td>\n",
              "      <td>NaN</td>\n",
              "      <td>13</td>\n",
              "      <td>1.0</td>\n",
              "      <td>0</td>\n",
              "    </tr>\n",
              "    <tr>\n",
              "      <th>561559</th>\n",
              "      <td>0042094e077ec75af7ded7e3ec662c421d93d242</td>\n",
              "      <td>K &gt; 24 month</td>\n",
              "      <td>NaN</td>\n",
              "      <td>NaN</td>\n",
              "      <td>NaN</td>\n",
              "      <td>NaN</td>\n",
              "      <td>NaN</td>\n",
              "      <td>NaN</td>\n",
              "      <td>NaN</td>\n",
              "      <td>NaN</td>\n",
              "      <td>NaN</td>\n",
              "      <td>NaN</td>\n",
              "      <td>NaN</td>\n",
              "      <td>2</td>\n",
              "      <td>NaN</td>\n",
              "      <td>1</td>\n",
              "    </tr>\n",
              "    <tr>\n",
              "      <th>379331</th>\n",
              "      <td>69c3b8e7dd5e9d374e771be2e11c0b27be804523</td>\n",
              "      <td>K &gt; 24 month</td>\n",
              "      <td>7200.0</td>\n",
              "      <td>16.0</td>\n",
              "      <td>7190.0</td>\n",
              "      <td>2397.0</td>\n",
              "      <td>18.0</td>\n",
              "      <td>5284.0</td>\n",
              "      <td>7.0</td>\n",
              "      <td>83.0</td>\n",
              "      <td>NaN</td>\n",
              "      <td>NaN</td>\n",
              "      <td>0.0</td>\n",
              "      <td>60</td>\n",
              "      <td>8.0</td>\n",
              "      <td>0</td>\n",
              "    </tr>\n",
              "  </tbody>\n",
              "</table>\n",
              "</div>"
            ],
            "text/plain": [
              "                                         user_id  ... CHURN\n",
              "392679  48d344fd728daa817fdcc1d5b42c24bf9ca40227  ...     0\n",
              "494369  b8ee2c6522cb33c8a167a6978972fce2b705f8a6  ...     0\n",
              "59888   efaef8feb41c744fe8dbc5c8a05eb323ebb13a1a  ...     0\n",
              "561559  0042094e077ec75af7ded7e3ec662c421d93d242  ...     1\n",
              "379331  69c3b8e7dd5e9d374e771be2e11c0b27be804523  ...     0\n",
              "\n",
              "[5 rows x 16 columns]"
            ]
          },
          "metadata": {
            "tags": []
          },
          "execution_count": 159
        }
      ]
    },
    {
      "cell_type": "code",
      "metadata": {
        "id": "nhT-Bi-P5qGC",
        "colab_type": "code",
        "colab": {
          "base_uri": "https://localhost:8080/",
          "height": 34
        },
        "outputId": "a5622408-6e9e-46ce-db0b-d4e56fd1edcf"
      },
      "source": [
        "train.shape"
      ],
      "execution_count": null,
      "outputs": [
        {
          "output_type": "execute_result",
          "data": {
            "text/plain": [
              "(193864, 16)"
            ]
          },
          "metadata": {
            "tags": []
          },
          "execution_count": 160
        }
      ]
    },
    {
      "cell_type": "code",
      "metadata": {
        "id": "24uxEMRb5qGK",
        "colab_type": "code",
        "colab": {
          "base_uri": "https://localhost:8080/",
          "height": 416
        },
        "outputId": "c05b8a6c-2527-4bb4-c1ef-b4080dd4c0f2"
      },
      "source": [
        "#view the data types in the train data\n",
        "train.info()"
      ],
      "execution_count": null,
      "outputs": [
        {
          "output_type": "stream",
          "text": [
            "<class 'pandas.core.frame.DataFrame'>\n",
            "Int64Index: 193864 entries, 542316 to 379331\n",
            "Data columns (total 16 columns):\n",
            " #   Column          Non-Null Count   Dtype  \n",
            "---  ------          --------------   -----  \n",
            " 0   user_id         193864 non-null  object \n",
            " 1   TENURE          193864 non-null  object \n",
            " 2   MONTANT         125596 non-null  float64\n",
            " 3   FREQUENCE_RECH  125596 non-null  float64\n",
            " 4   REVENUE         128373 non-null  float64\n",
            " 5   ARPU_SEGMENT    128373 non-null  float64\n",
            " 6   FREQUENCE       128373 non-null  float64\n",
            " 7   DATA_VOLUME     97818 non-null   float64\n",
            " 8   ON_NET          122924 non-null  float64\n",
            " 9   ORANGE          113127 non-null  float64\n",
            " 10  TIGO            77925 non-null   float64\n",
            " 11  ZONE1           15235 non-null   float64\n",
            " 12  ZONE2           12164 non-null   float64\n",
            " 13  REGULARITY      193864 non-null  int64  \n",
            " 14  FREQ_TOP_PACK   112372 non-null  float64\n",
            " 15  CHURN           193864 non-null  int64  \n",
            "dtypes: float64(12), int64(2), object(2)\n",
            "memory usage: 25.1+ MB\n"
          ],
          "name": "stdout"
        }
      ]
    },
    {
      "cell_type": "code",
      "metadata": {
        "id": "4Semj3JpPbYi",
        "colab_type": "code",
        "colab": {
          "base_uri": "https://localhost:8080/",
          "height": 451
        },
        "outputId": "77aec818-89ef-4034-e177-d3cc5d9861c2"
      },
      "source": [
        "test.info()"
      ],
      "execution_count": null,
      "outputs": [
        {
          "output_type": "stream",
          "text": [
            "<class 'pandas.core.frame.DataFrame'>\n",
            "RangeIndex: 114038 entries, 0 to 114037\n",
            "Data columns (total 18 columns):\n",
            " #   Column          Non-Null Count   Dtype  \n",
            "---  ------          --------------   -----  \n",
            " 0   user_id         114038 non-null  object \n",
            " 1   REGION          69081 non-null   object \n",
            " 2   TENURE          114038 non-null  object \n",
            " 3   MONTANT         74135 non-null   float64\n",
            " 4   FREQUENCE_RECH  74135 non-null   float64\n",
            " 5   REVENUE         75854 non-null   float64\n",
            " 6   ARPU_SEGMENT    75854 non-null   float64\n",
            " 7   FREQUENCE       75854 non-null   float64\n",
            " 8   DATA_VOLUME     58049 non-null   float64\n",
            " 9   ON_NET          72436 non-null   float64\n",
            " 10  ORANGE          66823 non-null   float64\n",
            " 11  TIGO            45908 non-null   float64\n",
            " 12  ZONE1           9011 non-null    float64\n",
            " 13  ZONE2           7217 non-null    float64\n",
            " 14  MRG             114038 non-null  object \n",
            " 15  REGULARITY      114038 non-null  int64  \n",
            " 16  TOP_PACK        66425 non-null   object \n",
            " 17  FREQ_TOP_PACK   66425 non-null   float64\n",
            "dtypes: float64(12), int64(1), object(5)\n",
            "memory usage: 15.7+ MB\n"
          ],
          "name": "stdout"
        }
      ]
    },
    {
      "cell_type": "code",
      "metadata": {
        "id": "7nPeA_Md5qGS",
        "colab_type": "code",
        "colab": {
          "base_uri": "https://localhost:8080/",
          "height": 223
        },
        "outputId": "ef3f5015-66ea-4c43-fab9-5f054cda5ef7"
      },
      "source": [
        "test.drop(columns=['REGION', 'MRG', 'TOP_PACK'], inplace=True) \n",
        "test = test.sample(frac=.3, random_state=123)\n",
        "test.head()"
      ],
      "execution_count": null,
      "outputs": [
        {
          "output_type": "execute_result",
          "data": {
            "text/html": [
              "<div>\n",
              "<style scoped>\n",
              "    .dataframe tbody tr th:only-of-type {\n",
              "        vertical-align: middle;\n",
              "    }\n",
              "\n",
              "    .dataframe tbody tr th {\n",
              "        vertical-align: top;\n",
              "    }\n",
              "\n",
              "    .dataframe thead th {\n",
              "        text-align: right;\n",
              "    }\n",
              "</style>\n",
              "<table border=\"1\" class=\"dataframe\">\n",
              "  <thead>\n",
              "    <tr style=\"text-align: right;\">\n",
              "      <th></th>\n",
              "      <th>user_id</th>\n",
              "      <th>TENURE</th>\n",
              "      <th>MONTANT</th>\n",
              "      <th>FREQUENCE_RECH</th>\n",
              "      <th>REVENUE</th>\n",
              "      <th>ARPU_SEGMENT</th>\n",
              "      <th>FREQUENCE</th>\n",
              "      <th>DATA_VOLUME</th>\n",
              "      <th>ON_NET</th>\n",
              "      <th>ORANGE</th>\n",
              "      <th>TIGO</th>\n",
              "      <th>ZONE1</th>\n",
              "      <th>ZONE2</th>\n",
              "      <th>REGULARITY</th>\n",
              "      <th>FREQ_TOP_PACK</th>\n",
              "    </tr>\n",
              "  </thead>\n",
              "  <tbody>\n",
              "    <tr>\n",
              "      <th>105281</th>\n",
              "      <td>e66972d08a6e90ca121fc74275e1e4adc7770fc3</td>\n",
              "      <td>K &gt; 24 month</td>\n",
              "      <td>NaN</td>\n",
              "      <td>NaN</td>\n",
              "      <td>NaN</td>\n",
              "      <td>NaN</td>\n",
              "      <td>NaN</td>\n",
              "      <td>0.0</td>\n",
              "      <td>NaN</td>\n",
              "      <td>NaN</td>\n",
              "      <td>NaN</td>\n",
              "      <td>NaN</td>\n",
              "      <td>NaN</td>\n",
              "      <td>3</td>\n",
              "      <td>NaN</td>\n",
              "    </tr>\n",
              "    <tr>\n",
              "      <th>22722</th>\n",
              "      <td>bf9be697fbd32dc7b8ab3073ee4d3bbbcad6dfe9</td>\n",
              "      <td>K &gt; 24 month</td>\n",
              "      <td>7900.0</td>\n",
              "      <td>16.0</td>\n",
              "      <td>7900.0</td>\n",
              "      <td>2633.0</td>\n",
              "      <td>15.0</td>\n",
              "      <td>25.0</td>\n",
              "      <td>228.0</td>\n",
              "      <td>271.0</td>\n",
              "      <td>5.0</td>\n",
              "      <td>NaN</td>\n",
              "      <td>NaN</td>\n",
              "      <td>62</td>\n",
              "      <td>14.0</td>\n",
              "    </tr>\n",
              "    <tr>\n",
              "      <th>76446</th>\n",
              "      <td>1e7202861abcaf7e0eea63032254eacf26bb098d</td>\n",
              "      <td>K &gt; 24 month</td>\n",
              "      <td>NaN</td>\n",
              "      <td>NaN</td>\n",
              "      <td>NaN</td>\n",
              "      <td>NaN</td>\n",
              "      <td>NaN</td>\n",
              "      <td>0.0</td>\n",
              "      <td>NaN</td>\n",
              "      <td>NaN</td>\n",
              "      <td>NaN</td>\n",
              "      <td>NaN</td>\n",
              "      <td>NaN</td>\n",
              "      <td>23</td>\n",
              "      <td>NaN</td>\n",
              "    </tr>\n",
              "    <tr>\n",
              "      <th>46673</th>\n",
              "      <td>f4eed3780dbca03e08c43adfcf0a9463368358d9</td>\n",
              "      <td>H 15-18 month</td>\n",
              "      <td>NaN</td>\n",
              "      <td>NaN</td>\n",
              "      <td>NaN</td>\n",
              "      <td>NaN</td>\n",
              "      <td>NaN</td>\n",
              "      <td>0.0</td>\n",
              "      <td>NaN</td>\n",
              "      <td>NaN</td>\n",
              "      <td>NaN</td>\n",
              "      <td>NaN</td>\n",
              "      <td>NaN</td>\n",
              "      <td>62</td>\n",
              "      <td>NaN</td>\n",
              "    </tr>\n",
              "    <tr>\n",
              "      <th>7006</th>\n",
              "      <td>e71d6090175d55f4b7f3abc99e5f1823616960f0</td>\n",
              "      <td>K &gt; 24 month</td>\n",
              "      <td>NaN</td>\n",
              "      <td>NaN</td>\n",
              "      <td>NaN</td>\n",
              "      <td>NaN</td>\n",
              "      <td>NaN</td>\n",
              "      <td>NaN</td>\n",
              "      <td>NaN</td>\n",
              "      <td>NaN</td>\n",
              "      <td>NaN</td>\n",
              "      <td>NaN</td>\n",
              "      <td>NaN</td>\n",
              "      <td>5</td>\n",
              "      <td>NaN</td>\n",
              "    </tr>\n",
              "  </tbody>\n",
              "</table>\n",
              "</div>"
            ],
            "text/plain": [
              "                                         user_id  ... FREQ_TOP_PACK\n",
              "105281  e66972d08a6e90ca121fc74275e1e4adc7770fc3  ...           NaN\n",
              "22722   bf9be697fbd32dc7b8ab3073ee4d3bbbcad6dfe9  ...          14.0\n",
              "76446   1e7202861abcaf7e0eea63032254eacf26bb098d  ...           NaN\n",
              "46673   f4eed3780dbca03e08c43adfcf0a9463368358d9  ...           NaN\n",
              "7006    e71d6090175d55f4b7f3abc99e5f1823616960f0  ...           NaN\n",
              "\n",
              "[5 rows x 15 columns]"
            ]
          },
          "metadata": {
            "tags": []
          },
          "execution_count": 163
        }
      ]
    },
    {
      "cell_type": "code",
      "metadata": {
        "id": "4DJt8j5R5qGc",
        "colab_type": "code",
        "colab": {
          "base_uri": "https://localhost:8080/",
          "height": 206
        },
        "outputId": "e2e4747f-0e27-4b9f-c76d-bb027545a66b"
      },
      "source": [
        "test.tail()"
      ],
      "execution_count": null,
      "outputs": [
        {
          "output_type": "execute_result",
          "data": {
            "text/html": [
              "<div>\n",
              "<style scoped>\n",
              "    .dataframe tbody tr th:only-of-type {\n",
              "        vertical-align: middle;\n",
              "    }\n",
              "\n",
              "    .dataframe tbody tr th {\n",
              "        vertical-align: top;\n",
              "    }\n",
              "\n",
              "    .dataframe thead th {\n",
              "        text-align: right;\n",
              "    }\n",
              "</style>\n",
              "<table border=\"1\" class=\"dataframe\">\n",
              "  <thead>\n",
              "    <tr style=\"text-align: right;\">\n",
              "      <th></th>\n",
              "      <th>user_id</th>\n",
              "      <th>TENURE</th>\n",
              "      <th>MONTANT</th>\n",
              "      <th>FREQUENCE_RECH</th>\n",
              "      <th>REVENUE</th>\n",
              "      <th>ARPU_SEGMENT</th>\n",
              "      <th>FREQUENCE</th>\n",
              "      <th>DATA_VOLUME</th>\n",
              "      <th>ON_NET</th>\n",
              "      <th>ORANGE</th>\n",
              "      <th>TIGO</th>\n",
              "      <th>ZONE1</th>\n",
              "      <th>ZONE2</th>\n",
              "      <th>REGULARITY</th>\n",
              "      <th>FREQ_TOP_PACK</th>\n",
              "    </tr>\n",
              "  </thead>\n",
              "  <tbody>\n",
              "    <tr>\n",
              "      <th>7008</th>\n",
              "      <td>5ecbf66d9bb8b8642ef1e5fc8c9d844989376589</td>\n",
              "      <td>K &gt; 24 month</td>\n",
              "      <td>NaN</td>\n",
              "      <td>NaN</td>\n",
              "      <td>NaN</td>\n",
              "      <td>NaN</td>\n",
              "      <td>NaN</td>\n",
              "      <td>0.0</td>\n",
              "      <td>NaN</td>\n",
              "      <td>NaN</td>\n",
              "      <td>NaN</td>\n",
              "      <td>0.0</td>\n",
              "      <td>NaN</td>\n",
              "      <td>8</td>\n",
              "      <td>NaN</td>\n",
              "    </tr>\n",
              "    <tr>\n",
              "      <th>71490</th>\n",
              "      <td>c3a0be58c8dee43c1c5df623c289d166a7014a10</td>\n",
              "      <td>K &gt; 24 month</td>\n",
              "      <td>3800.0</td>\n",
              "      <td>5.0</td>\n",
              "      <td>3800.0</td>\n",
              "      <td>1267.0</td>\n",
              "      <td>4.0</td>\n",
              "      <td>6101.0</td>\n",
              "      <td>28.0</td>\n",
              "      <td>16.0</td>\n",
              "      <td>NaN</td>\n",
              "      <td>NaN</td>\n",
              "      <td>1.0</td>\n",
              "      <td>33</td>\n",
              "      <td>3.0</td>\n",
              "    </tr>\n",
              "    <tr>\n",
              "      <th>78321</th>\n",
              "      <td>d36271d90f822c1da3e3d531136bb9a19d577be3</td>\n",
              "      <td>K &gt; 24 month</td>\n",
              "      <td>14150.0</td>\n",
              "      <td>31.0</td>\n",
              "      <td>15548.0</td>\n",
              "      <td>5183.0</td>\n",
              "      <td>38.0</td>\n",
              "      <td>4865.0</td>\n",
              "      <td>248.0</td>\n",
              "      <td>1040.0</td>\n",
              "      <td>73.0</td>\n",
              "      <td>NaN</td>\n",
              "      <td>NaN</td>\n",
              "      <td>60</td>\n",
              "      <td>20.0</td>\n",
              "    </tr>\n",
              "    <tr>\n",
              "      <th>83665</th>\n",
              "      <td>5a3e2643344a107f4050fce01d92152c12581c1f</td>\n",
              "      <td>K &gt; 24 month</td>\n",
              "      <td>6150.0</td>\n",
              "      <td>14.0</td>\n",
              "      <td>6151.0</td>\n",
              "      <td>2050.0</td>\n",
              "      <td>19.0</td>\n",
              "      <td>300.0</td>\n",
              "      <td>129.0</td>\n",
              "      <td>43.0</td>\n",
              "      <td>1.0</td>\n",
              "      <td>NaN</td>\n",
              "      <td>NaN</td>\n",
              "      <td>62</td>\n",
              "      <td>4.0</td>\n",
              "    </tr>\n",
              "    <tr>\n",
              "      <th>93996</th>\n",
              "      <td>b62f0fad5ca231131cb18c04156b21cad268abe9</td>\n",
              "      <td>K &gt; 24 month</td>\n",
              "      <td>2900.0</td>\n",
              "      <td>13.0</td>\n",
              "      <td>2901.0</td>\n",
              "      <td>967.0</td>\n",
              "      <td>17.0</td>\n",
              "      <td>1217.0</td>\n",
              "      <td>NaN</td>\n",
              "      <td>NaN</td>\n",
              "      <td>NaN</td>\n",
              "      <td>NaN</td>\n",
              "      <td>1.0</td>\n",
              "      <td>35</td>\n",
              "      <td>12.0</td>\n",
              "    </tr>\n",
              "  </tbody>\n",
              "</table>\n",
              "</div>"
            ],
            "text/plain": [
              "                                        user_id  ... FREQ_TOP_PACK\n",
              "7008   5ecbf66d9bb8b8642ef1e5fc8c9d844989376589  ...           NaN\n",
              "71490  c3a0be58c8dee43c1c5df623c289d166a7014a10  ...           3.0\n",
              "78321  d36271d90f822c1da3e3d531136bb9a19d577be3  ...          20.0\n",
              "83665  5a3e2643344a107f4050fce01d92152c12581c1f  ...           4.0\n",
              "93996  b62f0fad5ca231131cb18c04156b21cad268abe9  ...          12.0\n",
              "\n",
              "[5 rows x 15 columns]"
            ]
          },
          "metadata": {
            "tags": []
          },
          "execution_count": 164
        }
      ]
    },
    {
      "cell_type": "code",
      "metadata": {
        "id": "6aoTo41-5qGk",
        "colab_type": "code",
        "colab": {
          "base_uri": "https://localhost:8080/",
          "height": 34
        },
        "outputId": "1654e41c-99fb-4434-99c5-2786b79051c1"
      },
      "source": [
        "test.shape"
      ],
      "execution_count": null,
      "outputs": [
        {
          "output_type": "execute_result",
          "data": {
            "text/plain": [
              "(34211, 15)"
            ]
          },
          "metadata": {
            "tags": []
          },
          "execution_count": 165
        }
      ]
    },
    {
      "cell_type": "code",
      "metadata": {
        "id": "8QEAo6EW5qGs",
        "colab_type": "code",
        "colab": {
          "base_uri": "https://localhost:8080/",
          "height": 399
        },
        "outputId": "631224b3-7576-4376-d091-a4e51c2d6a4c"
      },
      "source": [
        "test.info()"
      ],
      "execution_count": null,
      "outputs": [
        {
          "output_type": "stream",
          "text": [
            "<class 'pandas.core.frame.DataFrame'>\n",
            "Int64Index: 34211 entries, 105281 to 93996\n",
            "Data columns (total 15 columns):\n",
            " #   Column          Non-Null Count  Dtype  \n",
            "---  ------          --------------  -----  \n",
            " 0   user_id         34211 non-null  object \n",
            " 1   TENURE          34211 non-null  object \n",
            " 2   MONTANT         22363 non-null  float64\n",
            " 3   FREQUENCE_RECH  22363 non-null  float64\n",
            " 4   REVENUE         22854 non-null  float64\n",
            " 5   ARPU_SEGMENT    22854 non-null  float64\n",
            " 6   FREQUENCE       22854 non-null  float64\n",
            " 7   DATA_VOLUME     17430 non-null  float64\n",
            " 8   ON_NET          21735 non-null  float64\n",
            " 9   ORANGE          20166 non-null  float64\n",
            " 10  TIGO            13865 non-null  float64\n",
            " 11  ZONE1           2736 non-null   float64\n",
            " 12  ZONE2           2222 non-null   float64\n",
            " 13  REGULARITY      34211 non-null  int64  \n",
            " 14  FREQ_TOP_PACK   20011 non-null  float64\n",
            "dtypes: float64(12), int64(1), object(2)\n",
            "memory usage: 4.2+ MB\n"
          ],
          "name": "stdout"
        }
      ]
    },
    {
      "cell_type": "code",
      "metadata": {
        "id": "XOk0CzZ45qG0",
        "colab_type": "code",
        "colab": {
          "base_uri": "https://localhost:8080/",
          "height": 206
        },
        "outputId": "0490864c-fb2a-4551-85b2-aa98050ddb8f"
      },
      "source": [
        "submission.head()"
      ],
      "execution_count": null,
      "outputs": [
        {
          "output_type": "execute_result",
          "data": {
            "text/html": [
              "<div>\n",
              "<style scoped>\n",
              "    .dataframe tbody tr th:only-of-type {\n",
              "        vertical-align: middle;\n",
              "    }\n",
              "\n",
              "    .dataframe tbody tr th {\n",
              "        vertical-align: top;\n",
              "    }\n",
              "\n",
              "    .dataframe thead th {\n",
              "        text-align: right;\n",
              "    }\n",
              "</style>\n",
              "<table border=\"1\" class=\"dataframe\">\n",
              "  <thead>\n",
              "    <tr style=\"text-align: right;\">\n",
              "      <th></th>\n",
              "      <th>user_id</th>\n",
              "      <th>CHURN</th>\n",
              "    </tr>\n",
              "  </thead>\n",
              "  <tbody>\n",
              "    <tr>\n",
              "      <th>0</th>\n",
              "      <td>c1b31e7cef249f2b777d934886b787a433029263</td>\n",
              "      <td>0</td>\n",
              "    </tr>\n",
              "    <tr>\n",
              "      <th>1</th>\n",
              "      <td>c205f3aff8486b0bed1051f3bf25fe04df7f671e</td>\n",
              "      <td>0</td>\n",
              "    </tr>\n",
              "    <tr>\n",
              "      <th>2</th>\n",
              "      <td>d743faaf50bbc43e02a08a2c2f4326f6d368fb25</td>\n",
              "      <td>0</td>\n",
              "    </tr>\n",
              "    <tr>\n",
              "      <th>3</th>\n",
              "      <td>c4e45ed21d5e2f64146b95fecbbb6b24740f803c</td>\n",
              "      <td>0</td>\n",
              "    </tr>\n",
              "    <tr>\n",
              "      <th>4</th>\n",
              "      <td>96c6a822243654ae1fe5f5f887089681f806cb46</td>\n",
              "      <td>0</td>\n",
              "    </tr>\n",
              "  </tbody>\n",
              "</table>\n",
              "</div>"
            ],
            "text/plain": [
              "                                    user_id  CHURN\n",
              "0  c1b31e7cef249f2b777d934886b787a433029263      0\n",
              "1  c205f3aff8486b0bed1051f3bf25fe04df7f671e      0\n",
              "2  d743faaf50bbc43e02a08a2c2f4326f6d368fb25      0\n",
              "3  c4e45ed21d5e2f64146b95fecbbb6b24740f803c      0\n",
              "4  96c6a822243654ae1fe5f5f887089681f806cb46      0"
            ]
          },
          "metadata": {
            "tags": []
          },
          "execution_count": 167
        }
      ]
    },
    {
      "cell_type": "code",
      "metadata": {
        "id": "xUjYKNuJ5qG9",
        "colab_type": "code",
        "colab": {
          "base_uri": "https://localhost:8080/",
          "height": 34
        },
        "outputId": "e84245dd-c66c-48c2-bc04-4de70dc738ca"
      },
      "source": [
        "submission.shape"
      ],
      "execution_count": null,
      "outputs": [
        {
          "output_type": "execute_result",
          "data": {
            "text/plain": [
              "(114038, 2)"
            ]
          },
          "metadata": {
            "tags": []
          },
          "execution_count": 168
        }
      ]
    },
    {
      "cell_type": "markdown",
      "metadata": {
        "id": "V30H_oJb5qHC",
        "colab_type": "text"
      },
      "source": [
        "#### Data Wrangling"
      ]
    },
    {
      "cell_type": "markdown",
      "metadata": {
        "id": "7oru5bMB5qHE",
        "colab_type": "text"
      },
      "source": [
        "> rename columns to match english names"
      ]
    },
    {
      "cell_type": "code",
      "metadata": {
        "id": "4bF55i2G5qHG",
        "colab_type": "code",
        "colab": {
          "base_uri": "https://localhost:8080/",
          "height": 86
        },
        "outputId": "aaf6f36a-fe5b-49d0-8816-5584d7f9fbb6"
      },
      "source": [
        "train.columns"
      ],
      "execution_count": null,
      "outputs": [
        {
          "output_type": "execute_result",
          "data": {
            "text/plain": [
              "Index(['user_id', 'TENURE', 'MONTANT', 'FREQUENCE_RECH', 'REVENUE',\n",
              "       'ARPU_SEGMENT', 'FREQUENCE', 'DATA_VOLUME', 'ON_NET', 'ORANGE', 'TIGO',\n",
              "       'ZONE1', 'ZONE2', 'REGULARITY', 'FREQ_TOP_PACK', 'CHURN'],\n",
              "      dtype='object')"
            ]
          },
          "metadata": {
            "tags": []
          },
          "execution_count": 169
        }
      ]
    },
    {
      "cell_type": "markdown",
      "metadata": {
        "id": "v7iFyLq75qHL",
        "colab_type": "text"
      },
      "source": [
        "> Calcualte umber of leels in categorical variables"
      ]
    },
    {
      "cell_type": "code",
      "metadata": {
        "id": "hWtInA045qHN",
        "colab_type": "code",
        "colab": {}
      },
      "source": [
        "def check_levels(data, exclude_cols=[]):\n",
        "    cat_cols = data.select_dtypes(include='object').columns.tolist()\n",
        "    \n",
        "    for col in cat_cols:\n",
        "        if col not in exclude_cols:\n",
        "            print('*-*'*10,'\\n')\n",
        "            print(data[col].value_counts())\n",
        "            plt.figure(figsize=(10,5))\n",
        "            plt.title(f\"Value Counts of {col}\", fontsize=15)\n",
        "            data[col].value_counts(normalize=True).plot(kind='bar')\n",
        "            print('*-*'*10,'\\n')\n",
        "            plt.ylabel('counts')\n",
        "            plt.xlabel(col)"
      ],
      "execution_count": null,
      "outputs": []
    },
    {
      "cell_type": "code",
      "metadata": {
        "id": "4Kfd8XQQ5qHT",
        "colab_type": "code",
        "colab": {
          "base_uri": "https://localhost:8080/",
          "height": 643
        },
        "outputId": "6c1168e5-6b55-41fd-bd1f-a22e6dc15dba"
      },
      "source": [
        "check_levels(train, exclude_cols=['user_id'])"
      ],
      "execution_count": null,
      "outputs": [
        {
          "output_type": "stream",
          "text": [
            "*-**-**-**-**-**-**-**-**-**-* \n",
            "\n",
            "K > 24 month     183934\n",
            "I 18-21 month      4089\n",
            "H 15-18 month      2326\n",
            "G 12-15 month      1274\n",
            "J 21-24 month      1173\n",
            "F 9-12 month        843\n",
            "E 6-9 month         161\n",
            "D 3-6 month          64\n",
            "Name: TENURE, dtype: int64\n",
            "*-**-**-**-**-**-**-**-**-**-* \n",
            "\n"
          ],
          "name": "stdout"
        },
        {
          "output_type": "display_data",
          "data": {
            "image/png": "[encoded data removed]",
            "text/plain": [
              "<Figure size 720x360 with 1 Axes>"
            ]
          },
          "metadata": {
            "tags": [],
            "needs_background": "light"
          }
        }
      ]
    },
    {
      "cell_type": "markdown",
      "metadata": {
        "id": "ucLceE9_5qHa",
        "colab_type": "text"
      },
      "source": [
        "Compute statistics for numerical variables"
      ]
    },
    {
      "cell_type": "code",
      "metadata": {
        "id": "RUdS0MsC5qHc",
        "colab_type": "code",
        "colab": {
          "base_uri": "https://localhost:8080/",
          "height": 320
        },
        "outputId": "2726d434-c4a1-4eff-d10a-5d44d059ece5"
      },
      "source": [
        "train.describe() "
      ],
      "execution_count": null,
      "outputs": [
        {
          "output_type": "execute_result",
          "data": {
            "text/html": [
              "<div>\n",
              "<style scoped>\n",
              "    .dataframe tbody tr th:only-of-type {\n",
              "        vertical-align: middle;\n",
              "    }\n",
              "\n",
              "    .dataframe tbody tr th {\n",
              "        vertical-align: top;\n",
              "    }\n",
              "\n",
              "    .dataframe thead th {\n",
              "        text-align: right;\n",
              "    }\n",
              "</style>\n",
              "<table border=\"1\" class=\"dataframe\">\n",
              "  <thead>\n",
              "    <tr style=\"text-align: right;\">\n",
              "      <th></th>\n",
              "      <th>MONTANT</th>\n",
              "      <th>FREQUENCE_RECH</th>\n",
              "      <th>REVENUE</th>\n",
              "      <th>ARPU_SEGMENT</th>\n",
              "      <th>FREQUENCE</th>\n",
              "      <th>DATA_VOLUME</th>\n",
              "      <th>ON_NET</th>\n",
              "      <th>ORANGE</th>\n",
              "      <th>TIGO</th>\n",
              "      <th>ZONE1</th>\n",
              "      <th>ZONE2</th>\n",
              "      <th>REGULARITY</th>\n",
              "      <th>FREQ_TOP_PACK</th>\n",
              "      <th>CHURN</th>\n",
              "    </tr>\n",
              "  </thead>\n",
              "  <tbody>\n",
              "    <tr>\n",
              "      <th>count</th>\n",
              "      <td>125596.000000</td>\n",
              "      <td>125596.000000</td>\n",
              "      <td>128373.000000</td>\n",
              "      <td>128373.000000</td>\n",
              "      <td>128373.000000</td>\n",
              "      <td>9.781800e+04</td>\n",
              "      <td>122924.000000</td>\n",
              "      <td>113127.000000</td>\n",
              "      <td>77925.000000</td>\n",
              "      <td>15235.000000</td>\n",
              "      <td>12164.000000</td>\n",
              "      <td>193864.000000</td>\n",
              "      <td>112372.000000</td>\n",
              "      <td>193864.000000</td>\n",
              "    </tr>\n",
              "    <tr>\n",
              "      <th>mean</th>\n",
              "      <td>5549.417577</td>\n",
              "      <td>11.577136</td>\n",
              "      <td>5527.767950</td>\n",
              "      <td>1842.596769</td>\n",
              "      <td>14.013508</td>\n",
              "      <td>3.387234e+03</td>\n",
              "      <td>277.213791</td>\n",
              "      <td>95.928196</td>\n",
              "      <td>23.179865</td>\n",
              "      <td>7.688809</td>\n",
              "      <td>7.416557</td>\n",
              "      <td>27.984474</td>\n",
              "      <td>9.306633</td>\n",
              "      <td>0.188441</td>\n",
              "    </tr>\n",
              "    <tr>\n",
              "      <th>std</th>\n",
              "      <td>7171.390426</td>\n",
              "      <td>13.345354</td>\n",
              "      <td>7230.871687</td>\n",
              "      <td>2410.285753</td>\n",
              "      <td>14.770293</td>\n",
              "      <td>1.341194e+04</td>\n",
              "      <td>881.638677</td>\n",
              "      <td>203.990359</td>\n",
              "      <td>64.525694</td>\n",
              "      <td>34.843203</td>\n",
              "      <td>31.821617</td>\n",
              "      <td>22.276647</td>\n",
              "      <td>12.302007</td>\n",
              "      <td>0.391065</td>\n",
              "    </tr>\n",
              "    <tr>\n",
              "      <th>min</th>\n",
              "      <td>10.000000</td>\n",
              "      <td>1.000000</td>\n",
              "      <td>1.000000</td>\n",
              "      <td>0.000000</td>\n",
              "      <td>1.000000</td>\n",
              "      <td>0.000000e+00</td>\n",
              "      <td>0.000000</td>\n",
              "      <td>0.000000</td>\n",
              "      <td>0.000000</td>\n",
              "      <td>0.000000</td>\n",
              "      <td>0.000000</td>\n",
              "      <td>1.000000</td>\n",
              "      <td>1.000000</td>\n",
              "      <td>0.000000</td>\n",
              "    </tr>\n",
              "    <tr>\n",
              "      <th>25%</th>\n",
              "      <td>1000.000000</td>\n",
              "      <td>2.000000</td>\n",
              "      <td>1000.000000</td>\n",
              "      <td>333.000000</td>\n",
              "      <td>3.000000</td>\n",
              "      <td>0.000000e+00</td>\n",
              "      <td>5.000000</td>\n",
              "      <td>7.000000</td>\n",
              "      <td>2.000000</td>\n",
              "      <td>0.000000</td>\n",
              "      <td>0.000000</td>\n",
              "      <td>6.000000</td>\n",
              "      <td>2.000000</td>\n",
              "      <td>0.000000</td>\n",
              "    </tr>\n",
              "    <tr>\n",
              "      <th>50%</th>\n",
              "      <td>3000.000000</td>\n",
              "      <td>7.000000</td>\n",
              "      <td>3000.000000</td>\n",
              "      <td>1000.000000</td>\n",
              "      <td>9.000000</td>\n",
              "      <td>2.670000e+02</td>\n",
              "      <td>27.000000</td>\n",
              "      <td>29.000000</td>\n",
              "      <td>6.000000</td>\n",
              "      <td>1.000000</td>\n",
              "      <td>2.000000</td>\n",
              "      <td>24.000000</td>\n",
              "      <td>5.000000</td>\n",
              "      <td>0.000000</td>\n",
              "    </tr>\n",
              "    <tr>\n",
              "      <th>75%</th>\n",
              "      <td>7400.000000</td>\n",
              "      <td>16.000000</td>\n",
              "      <td>7402.000000</td>\n",
              "      <td>2467.000000</td>\n",
              "      <td>20.000000</td>\n",
              "      <td>2.918000e+03</td>\n",
              "      <td>157.000000</td>\n",
              "      <td>100.000000</td>\n",
              "      <td>20.000000</td>\n",
              "      <td>3.000000</td>\n",
              "      <td>5.000000</td>\n",
              "      <td>50.000000</td>\n",
              "      <td>12.000000</td>\n",
              "      <td>0.000000</td>\n",
              "    </tr>\n",
              "    <tr>\n",
              "      <th>max</th>\n",
              "      <td>256000.000000</td>\n",
              "      <td>115.000000</td>\n",
              "      <td>219423.000000</td>\n",
              "      <td>73141.000000</td>\n",
              "      <td>91.000000</td>\n",
              "      <td>1.238915e+06</td>\n",
              "      <td>36687.000000</td>\n",
              "      <td>6211.000000</td>\n",
              "      <td>3658.000000</td>\n",
              "      <td>1730.000000</td>\n",
              "      <td>1796.000000</td>\n",
              "      <td>62.000000</td>\n",
              "      <td>544.000000</td>\n",
              "      <td>1.000000</td>\n",
              "    </tr>\n",
              "  </tbody>\n",
              "</table>\n",
              "</div>"
            ],
            "text/plain": [
              "             MONTANT  FREQUENCE_RECH  ...  FREQ_TOP_PACK          CHURN\n",
              "count  125596.000000   125596.000000  ...  112372.000000  193864.000000\n",
              "mean     5549.417577       11.577136  ...       9.306633       0.188441\n",
              "std      7171.390426       13.345354  ...      12.302007       0.391065\n",
              "min        10.000000        1.000000  ...       1.000000       0.000000\n",
              "25%      1000.000000        2.000000  ...       2.000000       0.000000\n",
              "50%      3000.000000        7.000000  ...       5.000000       0.000000\n",
              "75%      7400.000000       16.000000  ...      12.000000       0.000000\n",
              "max    256000.000000      115.000000  ...     544.000000       1.000000\n",
              "\n",
              "[8 rows x 14 columns]"
            ]
          },
          "metadata": {
            "tags": []
          },
          "execution_count": 172
        }
      ]
    },
    {
      "cell_type": "code",
      "metadata": {
        "id": "ehz1cm425qHk",
        "colab_type": "code",
        "colab": {}
      },
      "source": [
        ""
      ],
      "execution_count": null,
      "outputs": []
    },
    {
      "cell_type": "markdown",
      "metadata": {
        "id": "H_HGSe1m5qHs",
        "colab_type": "text"
      },
      "source": [
        "> Check for null values"
      ]
    },
    {
      "cell_type": "code",
      "metadata": {
        "id": "-L7TPp-q5qHu",
        "colab_type": "code",
        "colab": {}
      },
      "source": [
        "def check_null(data, plot=True):\n",
        "    print(data.isnull().sum())\n",
        "    if plot:\n",
        "        plt.figure(figsize=(10,5))\n",
        "        plt.title(f\"Null Values Count\", fontsize=15)\n",
        "        data.isnull().sum().plot.bar()"
      ],
      "execution_count": null,
      "outputs": []
    },
    {
      "cell_type": "code",
      "metadata": {
        "id": "ZIpuuiEv5qH0",
        "colab_type": "code",
        "colab": {
          "base_uri": "https://localhost:8080/",
          "height": 716
        },
        "outputId": "f04c44fd-b54c-4434-8e29-770819cc37ff"
      },
      "source": [
        "check_null(train)"
      ],
      "execution_count": null,
      "outputs": [
        {
          "output_type": "stream",
          "text": [
            "user_id                0\n",
            "TENURE                 0\n",
            "MONTANT            68268\n",
            "FREQUENCE_RECH     68268\n",
            "REVENUE            65491\n",
            "ARPU_SEGMENT       65491\n",
            "FREQUENCE          65491\n",
            "DATA_VOLUME        96046\n",
            "ON_NET             70940\n",
            "ORANGE             80737\n",
            "TIGO              115939\n",
            "ZONE1             178629\n",
            "ZONE2             181700\n",
            "REGULARITY             0\n",
            "FREQ_TOP_PACK      81492\n",
            "CHURN                  0\n",
            "dtype: int64\n"
          ],
          "name": "stdout"
        },
        {
          "output_type": "display_data",
          "data": {
            "image/png": "[encoded data removed]",
            "text/plain": [
              "<Figure size 720x360 with 1 Axes>"
            ]
          },
          "metadata": {
            "tags": [],
            "needs_background": "light"
          }
        }
      ]
    },
    {
      "cell_type": "code",
      "metadata": {
        "id": "GwCWMz3t5qH9",
        "colab_type": "code",
        "colab": {
          "base_uri": "https://localhost:8080/",
          "height": 699
        },
        "outputId": "70e7e6c8-f561-461e-a315-9110c48a350c"
      },
      "source": [
        "check_null(test)"
      ],
      "execution_count": null,
      "outputs": [
        {
          "output_type": "stream",
          "text": [
            "user_id               0\n",
            "TENURE                0\n",
            "MONTANT           11848\n",
            "FREQUENCE_RECH    11848\n",
            "REVENUE           11357\n",
            "ARPU_SEGMENT      11357\n",
            "FREQUENCE         11357\n",
            "DATA_VOLUME       16781\n",
            "ON_NET            12476\n",
            "ORANGE            14045\n",
            "TIGO              20346\n",
            "ZONE1             31475\n",
            "ZONE2             31989\n",
            "REGULARITY            0\n",
            "FREQ_TOP_PACK     14200\n",
            "dtype: int64\n"
          ],
          "name": "stdout"
        },
        {
          "output_type": "display_data",
          "data": {
            "image/png": "[encoded data removed]",
            "text/plain": [
              "<Figure size 720x360 with 1 Axes>"
            ]
          },
          "metadata": {
            "tags": [],
            "needs_background": "light"
          }
        }
      ]
    },
    {
      "cell_type": "markdown",
      "metadata": {
        "id": "ICQj_cLD5qIC",
        "colab_type": "text"
      },
      "source": [
        "> There are a lot of null values in the dataset"
      ]
    },
    {
      "cell_type": "markdown",
      "metadata": {
        "id": "NuSF3_I05qIE",
        "colab_type": "text"
      },
      "source": [
        "> Check for outliers"
      ]
    },
    {
      "cell_type": "code",
      "metadata": {
        "id": "3LgUzde35qIG",
        "colab_type": "code",
        "colab": {}
      },
      "source": [
        "def check_outliers(data, show_plot=False, save_img=os.getcwd()+'/outliers.png'):\n",
        " \n",
        "        \"\"\"\n",
        "        This functions checks for columns with outlers using the IQR method\n",
        "\n",
        "        It accespts as argmuent a dataset. \n",
        "        show_plot can be set to True to output pairplots of outlier columns    \n",
        "        \"\"\"\n",
        "\n",
        "        outliers = [] \n",
        "        Q1 = data.quantile(0.25)  \n",
        "        Q3 = data.quantile(0.75)\n",
        "        IQR = Q3 - Q1\n",
        "        num_data = data.select_dtypes(include='number')\n",
        "        result = dict ((((num_data < (Q1 - 1.5 * IQR)) | (num_data > (Q3 + 1.5 * IQR)))==True).any())\n",
        "        #data[(data[col] >= high)|(data[col] <= low)].index\n",
        "        index = data[(num_data < Q1 - 1.5 * IQR) | (num_data > Q3 + 1.5 * IQR)].index\n",
        "        for k,v in result.items():\n",
        "            if v == True:  \n",
        "                outliers.append(k)\n",
        "        if show_plot:\n",
        "            outlier_pair_plot = sns.pairplot(data[outliers]);\n",
        "            print(f'{result},\\n\\n Visualization of outlier columns')\n",
        "            plt.savefig(fname=save_img, format='png')\n",
        "            return  outlier_pair_plot\n",
        "        else:\n",
        "            return data.loc[index, outliers] "
      ],
      "execution_count": null,
      "outputs": []
    },
    {
      "cell_type": "markdown",
      "metadata": {
        "id": "VpA27bAx5qIM",
        "colab_type": "text"
      },
      "source": [
        "outliers in train set"
      ]
    },
    {
      "cell_type": "code",
      "metadata": {
        "id": "fMdC-cEf5qIM",
        "colab_type": "code",
        "colab": {}
      },
      "source": [
        "train_outliers = check_outliers(train, show_plot=False)"
      ],
      "execution_count": null,
      "outputs": []
    },
    {
      "cell_type": "code",
      "metadata": {
        "id": "MLTIETfi5qIT",
        "colab_type": "code",
        "colab": {
          "base_uri": "https://localhost:8080/",
          "height": 424
        },
        "outputId": "2db89e8c-44ed-489b-c3ac-ba0ee89b9e39"
      },
      "source": [
        "train_outliers"
      ],
      "execution_count": null,
      "outputs": [
        {
          "output_type": "execute_result",
          "data": {
            "text/html": [
              "<div>\n",
              "<style scoped>\n",
              "    .dataframe tbody tr th:only-of-type {\n",
              "        vertical-align: middle;\n",
              "    }\n",
              "\n",
              "    .dataframe tbody tr th {\n",
              "        vertical-align: top;\n",
              "    }\n",
              "\n",
              "    .dataframe thead th {\n",
              "        text-align: right;\n",
              "    }\n",
              "</style>\n",
              "<table border=\"1\" class=\"dataframe\">\n",
              "  <thead>\n",
              "    <tr style=\"text-align: right;\">\n",
              "      <th></th>\n",
              "      <th>MONTANT</th>\n",
              "      <th>FREQUENCE_RECH</th>\n",
              "      <th>REVENUE</th>\n",
              "      <th>ARPU_SEGMENT</th>\n",
              "      <th>FREQUENCE</th>\n",
              "      <th>DATA_VOLUME</th>\n",
              "      <th>ON_NET</th>\n",
              "      <th>ORANGE</th>\n",
              "      <th>TIGO</th>\n",
              "      <th>ZONE1</th>\n",
              "      <th>ZONE2</th>\n",
              "      <th>FREQ_TOP_PACK</th>\n",
              "      <th>CHURN</th>\n",
              "    </tr>\n",
              "  </thead>\n",
              "  <tbody>\n",
              "    <tr>\n",
              "      <th>542316</th>\n",
              "      <td>NaN</td>\n",
              "      <td>NaN</td>\n",
              "      <td>NaN</td>\n",
              "      <td>NaN</td>\n",
              "      <td>NaN</td>\n",
              "      <td>NaN</td>\n",
              "      <td>NaN</td>\n",
              "      <td>NaN</td>\n",
              "      <td>NaN</td>\n",
              "      <td>NaN</td>\n",
              "      <td>NaN</td>\n",
              "      <td>NaN</td>\n",
              "      <td>1</td>\n",
              "    </tr>\n",
              "    <tr>\n",
              "      <th>59878</th>\n",
              "      <td>11650.0</td>\n",
              "      <td>30.0</td>\n",
              "      <td>11682.0</td>\n",
              "      <td>3894.0</td>\n",
              "      <td>32.0</td>\n",
              "      <td>7119.0</td>\n",
              "      <td>23.0</td>\n",
              "      <td>468.0</td>\n",
              "      <td>54.0</td>\n",
              "      <td>0.0</td>\n",
              "      <td>NaN</td>\n",
              "      <td>18.0</td>\n",
              "      <td>0</td>\n",
              "    </tr>\n",
              "    <tr>\n",
              "      <th>10729</th>\n",
              "      <td>1000.0</td>\n",
              "      <td>2.0</td>\n",
              "      <td>1000.0</td>\n",
              "      <td>333.0</td>\n",
              "      <td>2.0</td>\n",
              "      <td>NaN</td>\n",
              "      <td>7.0</td>\n",
              "      <td>45.0</td>\n",
              "      <td>NaN</td>\n",
              "      <td>NaN</td>\n",
              "      <td>NaN</td>\n",
              "      <td>2.0</td>\n",
              "      <td>0</td>\n",
              "    </tr>\n",
              "    <tr>\n",
              "      <th>456437</th>\n",
              "      <td>500.0</td>\n",
              "      <td>1.0</td>\n",
              "      <td>480.0</td>\n",
              "      <td>160.0</td>\n",
              "      <td>4.0</td>\n",
              "      <td>1875.0</td>\n",
              "      <td>14.0</td>\n",
              "      <td>1.0</td>\n",
              "      <td>NaN</td>\n",
              "      <td>NaN</td>\n",
              "      <td>NaN</td>\n",
              "      <td>2.0</td>\n",
              "      <td>0</td>\n",
              "    </tr>\n",
              "    <tr>\n",
              "      <th>273902</th>\n",
              "      <td>11150.0</td>\n",
              "      <td>34.0</td>\n",
              "      <td>11750.0</td>\n",
              "      <td>3917.0</td>\n",
              "      <td>40.0</td>\n",
              "      <td>789.0</td>\n",
              "      <td>125.0</td>\n",
              "      <td>303.0</td>\n",
              "      <td>29.0</td>\n",
              "      <td>0.0</td>\n",
              "      <td>NaN</td>\n",
              "      <td>31.0</td>\n",
              "      <td>0</td>\n",
              "    </tr>\n",
              "    <tr>\n",
              "      <th>...</th>\n",
              "      <td>...</td>\n",
              "      <td>...</td>\n",
              "      <td>...</td>\n",
              "      <td>...</td>\n",
              "      <td>...</td>\n",
              "      <td>...</td>\n",
              "      <td>...</td>\n",
              "      <td>...</td>\n",
              "      <td>...</td>\n",
              "      <td>...</td>\n",
              "      <td>...</td>\n",
              "      <td>...</td>\n",
              "      <td>...</td>\n",
              "    </tr>\n",
              "    <tr>\n",
              "      <th>392679</th>\n",
              "      <td>500.0</td>\n",
              "      <td>1.0</td>\n",
              "      <td>500.0</td>\n",
              "      <td>167.0</td>\n",
              "      <td>1.0</td>\n",
              "      <td>0.0</td>\n",
              "      <td>9.0</td>\n",
              "      <td>8.0</td>\n",
              "      <td>15.0</td>\n",
              "      <td>NaN</td>\n",
              "      <td>NaN</td>\n",
              "      <td>1.0</td>\n",
              "      <td>0</td>\n",
              "    </tr>\n",
              "    <tr>\n",
              "      <th>494369</th>\n",
              "      <td>1100.0</td>\n",
              "      <td>3.0</td>\n",
              "      <td>1098.0</td>\n",
              "      <td>366.0</td>\n",
              "      <td>3.0</td>\n",
              "      <td>216.0</td>\n",
              "      <td>27.0</td>\n",
              "      <td>1.0</td>\n",
              "      <td>2.0</td>\n",
              "      <td>NaN</td>\n",
              "      <td>NaN</td>\n",
              "      <td>2.0</td>\n",
              "      <td>0</td>\n",
              "    </tr>\n",
              "    <tr>\n",
              "      <th>59888</th>\n",
              "      <td>1000.0</td>\n",
              "      <td>2.0</td>\n",
              "      <td>1000.0</td>\n",
              "      <td>333.0</td>\n",
              "      <td>2.0</td>\n",
              "      <td>NaN</td>\n",
              "      <td>34.0</td>\n",
              "      <td>43.0</td>\n",
              "      <td>2.0</td>\n",
              "      <td>NaN</td>\n",
              "      <td>NaN</td>\n",
              "      <td>1.0</td>\n",
              "      <td>0</td>\n",
              "    </tr>\n",
              "    <tr>\n",
              "      <th>561559</th>\n",
              "      <td>NaN</td>\n",
              "      <td>NaN</td>\n",
              "      <td>NaN</td>\n",
              "      <td>NaN</td>\n",
              "      <td>NaN</td>\n",
              "      <td>NaN</td>\n",
              "      <td>NaN</td>\n",
              "      <td>NaN</td>\n",
              "      <td>NaN</td>\n",
              "      <td>NaN</td>\n",
              "      <td>NaN</td>\n",
              "      <td>NaN</td>\n",
              "      <td>1</td>\n",
              "    </tr>\n",
              "    <tr>\n",
              "      <th>379331</th>\n",
              "      <td>7200.0</td>\n",
              "      <td>16.0</td>\n",
              "      <td>7190.0</td>\n",
              "      <td>2397.0</td>\n",
              "      <td>18.0</td>\n",
              "      <td>5284.0</td>\n",
              "      <td>7.0</td>\n",
              "      <td>83.0</td>\n",
              "      <td>NaN</td>\n",
              "      <td>NaN</td>\n",
              "      <td>0.0</td>\n",
              "      <td>8.0</td>\n",
              "      <td>0</td>\n",
              "    </tr>\n",
              "  </tbody>\n",
              "</table>\n",
              "<p>193864 rows × 13 columns</p>\n",
              "</div>"
            ],
            "text/plain": [
              "        MONTANT  FREQUENCE_RECH  REVENUE  ...  ZONE2  FREQ_TOP_PACK  CHURN\n",
              "542316      NaN             NaN      NaN  ...    NaN            NaN      1\n",
              "59878   11650.0            30.0  11682.0  ...    NaN           18.0      0\n",
              "10729    1000.0             2.0   1000.0  ...    NaN            2.0      0\n",
              "456437    500.0             1.0    480.0  ...    NaN            2.0      0\n",
              "273902  11150.0            34.0  11750.0  ...    NaN           31.0      0\n",
              "...         ...             ...      ...  ...    ...            ...    ...\n",
              "392679    500.0             1.0    500.0  ...    NaN            1.0      0\n",
              "494369   1100.0             3.0   1098.0  ...    NaN            2.0      0\n",
              "59888    1000.0             2.0   1000.0  ...    NaN            1.0      0\n",
              "561559      NaN             NaN      NaN  ...    NaN            NaN      1\n",
              "379331   7200.0            16.0   7190.0  ...    0.0            8.0      0\n",
              "\n",
              "[193864 rows x 13 columns]"
            ]
          },
          "metadata": {
            "tags": []
          },
          "execution_count": 178
        }
      ]
    },
    {
      "cell_type": "markdown",
      "metadata": {
        "id": "WvdfxaY_5qIY",
        "colab_type": "text"
      },
      "source": [
        "> most columns in the train set contain outlier values"
      ]
    },
    {
      "cell_type": "markdown",
      "metadata": {
        "id": "Sh1XruSa5qIZ",
        "colab_type": "text"
      },
      "source": [
        "outliers in test set"
      ]
    },
    {
      "cell_type": "code",
      "metadata": {
        "id": "J6iUBVtk5qIZ",
        "colab_type": "code",
        "colab": {}
      },
      "source": [
        "test_outliers = check_outliers(test, show_plot=False) "
      ],
      "execution_count": null,
      "outputs": []
    },
    {
      "cell_type": "code",
      "metadata": {
        "id": "fvegObVz5qIf",
        "colab_type": "code",
        "colab": {
          "base_uri": "https://localhost:8080/",
          "height": 424
        },
        "outputId": "d232d295-c715-495c-a39c-30995d24ee2c"
      },
      "source": [
        "test_outliers"
      ],
      "execution_count": null,
      "outputs": [
        {
          "output_type": "execute_result",
          "data": {
            "text/html": [
              "<div>\n",
              "<style scoped>\n",
              "    .dataframe tbody tr th:only-of-type {\n",
              "        vertical-align: middle;\n",
              "    }\n",
              "\n",
              "    .dataframe tbody tr th {\n",
              "        vertical-align: top;\n",
              "    }\n",
              "\n",
              "    .dataframe thead th {\n",
              "        text-align: right;\n",
              "    }\n",
              "</style>\n",
              "<table border=\"1\" class=\"dataframe\">\n",
              "  <thead>\n",
              "    <tr style=\"text-align: right;\">\n",
              "      <th></th>\n",
              "      <th>MONTANT</th>\n",
              "      <th>FREQUENCE_RECH</th>\n",
              "      <th>REVENUE</th>\n",
              "      <th>ARPU_SEGMENT</th>\n",
              "      <th>FREQUENCE</th>\n",
              "      <th>DATA_VOLUME</th>\n",
              "      <th>ON_NET</th>\n",
              "      <th>ORANGE</th>\n",
              "      <th>TIGO</th>\n",
              "      <th>ZONE1</th>\n",
              "      <th>ZONE2</th>\n",
              "      <th>FREQ_TOP_PACK</th>\n",
              "    </tr>\n",
              "  </thead>\n",
              "  <tbody>\n",
              "    <tr>\n",
              "      <th>105281</th>\n",
              "      <td>NaN</td>\n",
              "      <td>NaN</td>\n",
              "      <td>NaN</td>\n",
              "      <td>NaN</td>\n",
              "      <td>NaN</td>\n",
              "      <td>0.0</td>\n",
              "      <td>NaN</td>\n",
              "      <td>NaN</td>\n",
              "      <td>NaN</td>\n",
              "      <td>NaN</td>\n",
              "      <td>NaN</td>\n",
              "      <td>NaN</td>\n",
              "    </tr>\n",
              "    <tr>\n",
              "      <th>22722</th>\n",
              "      <td>7900.0</td>\n",
              "      <td>16.0</td>\n",
              "      <td>7900.0</td>\n",
              "      <td>2633.0</td>\n",
              "      <td>15.0</td>\n",
              "      <td>25.0</td>\n",
              "      <td>228.0</td>\n",
              "      <td>271.0</td>\n",
              "      <td>5.0</td>\n",
              "      <td>NaN</td>\n",
              "      <td>NaN</td>\n",
              "      <td>14.0</td>\n",
              "    </tr>\n",
              "    <tr>\n",
              "      <th>76446</th>\n",
              "      <td>NaN</td>\n",
              "      <td>NaN</td>\n",
              "      <td>NaN</td>\n",
              "      <td>NaN</td>\n",
              "      <td>NaN</td>\n",
              "      <td>0.0</td>\n",
              "      <td>NaN</td>\n",
              "      <td>NaN</td>\n",
              "      <td>NaN</td>\n",
              "      <td>NaN</td>\n",
              "      <td>NaN</td>\n",
              "      <td>NaN</td>\n",
              "    </tr>\n",
              "    <tr>\n",
              "      <th>46673</th>\n",
              "      <td>NaN</td>\n",
              "      <td>NaN</td>\n",
              "      <td>NaN</td>\n",
              "      <td>NaN</td>\n",
              "      <td>NaN</td>\n",
              "      <td>0.0</td>\n",
              "      <td>NaN</td>\n",
              "      <td>NaN</td>\n",
              "      <td>NaN</td>\n",
              "      <td>NaN</td>\n",
              "      <td>NaN</td>\n",
              "      <td>NaN</td>\n",
              "    </tr>\n",
              "    <tr>\n",
              "      <th>7006</th>\n",
              "      <td>NaN</td>\n",
              "      <td>NaN</td>\n",
              "      <td>NaN</td>\n",
              "      <td>NaN</td>\n",
              "      <td>NaN</td>\n",
              "      <td>NaN</td>\n",
              "      <td>NaN</td>\n",
              "      <td>NaN</td>\n",
              "      <td>NaN</td>\n",
              "      <td>NaN</td>\n",
              "      <td>NaN</td>\n",
              "      <td>NaN</td>\n",
              "    </tr>\n",
              "    <tr>\n",
              "      <th>...</th>\n",
              "      <td>...</td>\n",
              "      <td>...</td>\n",
              "      <td>...</td>\n",
              "      <td>...</td>\n",
              "      <td>...</td>\n",
              "      <td>...</td>\n",
              "      <td>...</td>\n",
              "      <td>...</td>\n",
              "      <td>...</td>\n",
              "      <td>...</td>\n",
              "      <td>...</td>\n",
              "      <td>...</td>\n",
              "    </tr>\n",
              "    <tr>\n",
              "      <th>7008</th>\n",
              "      <td>NaN</td>\n",
              "      <td>NaN</td>\n",
              "      <td>NaN</td>\n",
              "      <td>NaN</td>\n",
              "      <td>NaN</td>\n",
              "      <td>0.0</td>\n",
              "      <td>NaN</td>\n",
              "      <td>NaN</td>\n",
              "      <td>NaN</td>\n",
              "      <td>0.0</td>\n",
              "      <td>NaN</td>\n",
              "      <td>NaN</td>\n",
              "    </tr>\n",
              "    <tr>\n",
              "      <th>71490</th>\n",
              "      <td>3800.0</td>\n",
              "      <td>5.0</td>\n",
              "      <td>3800.0</td>\n",
              "      <td>1267.0</td>\n",
              "      <td>4.0</td>\n",
              "      <td>6101.0</td>\n",
              "      <td>28.0</td>\n",
              "      <td>16.0</td>\n",
              "      <td>NaN</td>\n",
              "      <td>NaN</td>\n",
              "      <td>1.0</td>\n",
              "      <td>3.0</td>\n",
              "    </tr>\n",
              "    <tr>\n",
              "      <th>78321</th>\n",
              "      <td>14150.0</td>\n",
              "      <td>31.0</td>\n",
              "      <td>15548.0</td>\n",
              "      <td>5183.0</td>\n",
              "      <td>38.0</td>\n",
              "      <td>4865.0</td>\n",
              "      <td>248.0</td>\n",
              "      <td>1040.0</td>\n",
              "      <td>73.0</td>\n",
              "      <td>NaN</td>\n",
              "      <td>NaN</td>\n",
              "      <td>20.0</td>\n",
              "    </tr>\n",
              "    <tr>\n",
              "      <th>83665</th>\n",
              "      <td>6150.0</td>\n",
              "      <td>14.0</td>\n",
              "      <td>6151.0</td>\n",
              "      <td>2050.0</td>\n",
              "      <td>19.0</td>\n",
              "      <td>300.0</td>\n",
              "      <td>129.0</td>\n",
              "      <td>43.0</td>\n",
              "      <td>1.0</td>\n",
              "      <td>NaN</td>\n",
              "      <td>NaN</td>\n",
              "      <td>4.0</td>\n",
              "    </tr>\n",
              "    <tr>\n",
              "      <th>93996</th>\n",
              "      <td>2900.0</td>\n",
              "      <td>13.0</td>\n",
              "      <td>2901.0</td>\n",
              "      <td>967.0</td>\n",
              "      <td>17.0</td>\n",
              "      <td>1217.0</td>\n",
              "      <td>NaN</td>\n",
              "      <td>NaN</td>\n",
              "      <td>NaN</td>\n",
              "      <td>NaN</td>\n",
              "      <td>1.0</td>\n",
              "      <td>12.0</td>\n",
              "    </tr>\n",
              "  </tbody>\n",
              "</table>\n",
              "<p>34211 rows × 12 columns</p>\n",
              "</div>"
            ],
            "text/plain": [
              "        MONTANT  FREQUENCE_RECH  REVENUE  ...  ZONE1  ZONE2  FREQ_TOP_PACK\n",
              "105281      NaN             NaN      NaN  ...    NaN    NaN            NaN\n",
              "22722    7900.0            16.0   7900.0  ...    NaN    NaN           14.0\n",
              "76446       NaN             NaN      NaN  ...    NaN    NaN            NaN\n",
              "46673       NaN             NaN      NaN  ...    NaN    NaN            NaN\n",
              "7006        NaN             NaN      NaN  ...    NaN    NaN            NaN\n",
              "...         ...             ...      ...  ...    ...    ...            ...\n",
              "7008        NaN             NaN      NaN  ...    0.0    NaN            NaN\n",
              "71490    3800.0             5.0   3800.0  ...    NaN    1.0            3.0\n",
              "78321   14150.0            31.0  15548.0  ...    NaN    NaN           20.0\n",
              "83665    6150.0            14.0   6151.0  ...    NaN    NaN            4.0\n",
              "93996    2900.0            13.0   2901.0  ...    NaN    1.0           12.0\n",
              "\n",
              "[34211 rows x 12 columns]"
            ]
          },
          "metadata": {
            "tags": []
          },
          "execution_count": 180
        }
      ]
    },
    {
      "cell_type": "markdown",
      "metadata": {
        "id": "gxK5oiRy5qIp",
        "colab_type": "text"
      },
      "source": [
        "> check for duplicate values"
      ]
    },
    {
      "cell_type": "code",
      "metadata": {
        "id": "7h4CExvy5qIq",
        "colab_type": "code",
        "colab": {
          "base_uri": "https://localhost:8080/",
          "height": 34
        },
        "outputId": "9bc0231b-d05a-4487-bf15-e718320f4c63"
      },
      "source": [
        "train.duplicated().any()"
      ],
      "execution_count": null,
      "outputs": [
        {
          "output_type": "execute_result",
          "data": {
            "text/plain": [
              "False"
            ]
          },
          "metadata": {
            "tags": []
          },
          "execution_count": 181
        }
      ]
    },
    {
      "cell_type": "code",
      "metadata": {
        "id": "MNyEQXdC5qIw",
        "colab_type": "code",
        "colab": {
          "base_uri": "https://localhost:8080/",
          "height": 34
        },
        "outputId": "a22a6278-b02d-45e5-93b4-6e28b11c7a1c"
      },
      "source": [
        "test.duplicated().any()"
      ],
      "execution_count": null,
      "outputs": [
        {
          "output_type": "execute_result",
          "data": {
            "text/plain": [
              "False"
            ]
          },
          "metadata": {
            "tags": []
          },
          "execution_count": 182
        }
      ]
    },
    {
      "cell_type": "markdown",
      "metadata": {
        "id": "0QClssFr5qI1",
        "colab_type": "text"
      },
      "source": [
        "> check for class imbalance"
      ]
    },
    {
      "cell_type": "code",
      "metadata": {
        "id": "_Zjniw2_5qI2",
        "colab_type": "code",
        "colab": {
          "base_uri": "https://localhost:8080/",
          "height": 366
        },
        "outputId": "751d07f9-8821-4f48-aac7-b4e4b7412e47"
      },
      "source": [
        "print(\"Class Imbalance\\n\")\n",
        "print(train.CHURN.value_counts(), \"\\n\")\n",
        "train.CHURN.value_counts().plot.bar();"
      ],
      "execution_count": null,
      "outputs": [
        {
          "output_type": "stream",
          "text": [
            "Class Imbalance\n",
            "\n",
            "0    157332\n",
            "1     36532\n",
            "Name: CHURN, dtype: int64 \n",
            "\n"
          ],
          "name": "stdout"
        },
        {
          "output_type": "display_data",
          "data": {
            "image/png": "[encoded data removed]",
            "text/plain": [
              "<Figure size 432x288 with 1 Axes>"
            ]
          },
          "metadata": {
            "tags": [],
            "needs_background": "light"
          }
        }
      ]
    },
    {
      "cell_type": "markdown",
      "metadata": {
        "id": "2xfZUgfM5qI_",
        "colab_type": "text"
      },
      "source": [
        " "
      ]
    },
    {
      "cell_type": "markdown",
      "metadata": {
        "id": "uDFUA59G5qI_",
        "colab_type": "text"
      },
      "source": [
        "> no null values "
      ]
    },
    {
      "cell_type": "markdown",
      "metadata": {
        "id": "dZN5mTR-5qJA",
        "colab_type": "text"
      },
      "source": [
        "##### Data Cleaning\n",
        "\n",
        "- Treat outliers with Median Imputation\n",
        "\n",
        "- Treat nul vlaues in numerical featurees with KNN, and categorical features with mode\n",
        "\n",
        "- Use Pipeline"
      ]
    },
    {
      "cell_type": "markdown",
      "metadata": {
        "id": "zRPSIS-b5qJB",
        "colab_type": "text"
      },
      "source": [
        "> Median Imputation for Outlier values"
      ]
    },
    {
      "cell_type": "code",
      "metadata": {
        "id": "RVgJ0wOR5qJC",
        "colab_type": "code",
        "colab": {}
      },
      "source": [
        "def treat_numeric_outlier(data):\n",
        "    for col in data.columns.tolist():\n",
        "        if is_numeric_dtype(data[col]) == True: \n",
        "            median = data[col].quantile(0.50)\n",
        "            q1 = data[col].quantile(0.95)\n",
        "            q3 = data[col].quantile(0.05)\n",
        "            iqr = q3 - q1\n",
        "            high = int(q3 + 1.5 * iqr) \n",
        "            low = int(q1 - 1.5 * iqr)\n",
        "            data[col] = np.where(data[col] > high, median, data[col])\n",
        "            data[col] = np.where(data[col] > high, median, data[col]) \n",
        "    return data"
      ],
      "execution_count": null,
      "outputs": []
    },
    {
      "cell_type": "code",
      "metadata": {
        "id": "ho0qcLYY5qJH",
        "colab_type": "code",
        "colab": {}
      },
      "source": [
        "train = treat_numeric_outlier(train)"
      ],
      "execution_count": null,
      "outputs": []
    },
    {
      "cell_type": "code",
      "metadata": {
        "id": "8Sba-dHZ5qJL",
        "colab_type": "code",
        "colab": {
          "base_uri": "https://localhost:8080/",
          "height": 406
        },
        "outputId": "d95c9e49-9099-490f-b9e8-5c3f39e2cd00"
      },
      "source": [
        "check_outliers(train)"
      ],
      "execution_count": null,
      "outputs": [
        {
          "output_type": "execute_result",
          "data": {
            "text/html": [
              "<div>\n",
              "<style scoped>\n",
              "    .dataframe tbody tr th:only-of-type {\n",
              "        vertical-align: middle;\n",
              "    }\n",
              "\n",
              "    .dataframe tbody tr th {\n",
              "        vertical-align: top;\n",
              "    }\n",
              "\n",
              "    .dataframe thead th {\n",
              "        text-align: right;\n",
              "    }\n",
              "</style>\n",
              "<table border=\"1\" class=\"dataframe\">\n",
              "  <thead>\n",
              "    <tr style=\"text-align: right;\">\n",
              "      <th></th>\n",
              "    </tr>\n",
              "  </thead>\n",
              "  <tbody>\n",
              "    <tr>\n",
              "      <th>542316</th>\n",
              "    </tr>\n",
              "    <tr>\n",
              "      <th>59878</th>\n",
              "    </tr>\n",
              "    <tr>\n",
              "      <th>10729</th>\n",
              "    </tr>\n",
              "    <tr>\n",
              "      <th>456437</th>\n",
              "    </tr>\n",
              "    <tr>\n",
              "      <th>273902</th>\n",
              "    </tr>\n",
              "    <tr>\n",
              "      <th>...</th>\n",
              "    </tr>\n",
              "    <tr>\n",
              "      <th>392679</th>\n",
              "    </tr>\n",
              "    <tr>\n",
              "      <th>494369</th>\n",
              "    </tr>\n",
              "    <tr>\n",
              "      <th>59888</th>\n",
              "    </tr>\n",
              "    <tr>\n",
              "      <th>561559</th>\n",
              "    </tr>\n",
              "    <tr>\n",
              "      <th>379331</th>\n",
              "    </tr>\n",
              "  </tbody>\n",
              "</table>\n",
              "<p>193864 rows × 0 columns</p>\n",
              "</div>"
            ],
            "text/plain": [
              "Empty DataFrame\n",
              "Columns: []\n",
              "Index: [542316, 59878, 10729, 456437, 273902, 488291, 615958, 633495, 342886, 394791, 316340, 461939, 298082, 477804, 210844, 249950, 94968, 544050, 13632, 325720, 509868, 517963, 51163, 586379, 574663, 22480, 271884, 317166, 444057, 371308, 458889, 131664, 318450, 48429, 206495, 66964, 614519, 22423, 299492, 121017, 473661, 453099, 51003, 560697, 152900, 480504, 234935, 261525, 350339, 591456, 609187, 645532, 410581, 483213, 557141, 342309, 12078, 13610, 15514, 525268, 501765, 125738, 212230, 234318, 395145, 32589, 2916, 461572, 441206, 454108, 458587, 503289, 607429, 640815, 374888, 217451, 70907, 521819, 145234, 234559, 579376, 250156, 640569, 51467, 49309, 468723, 417387, 395957, 176532, 366634, 538921, 3116, 502465, 319688, 265632, 338569, 386005, 519535, 588629, 188656, ...]\n",
              "\n",
              "[193864 rows x 0 columns]"
            ]
          },
          "metadata": {
            "tags": []
          },
          "execution_count": 186
        }
      ]
    },
    {
      "cell_type": "markdown",
      "metadata": {
        "id": "p41-cuvk5qJQ",
        "colab_type": "text"
      },
      "source": [
        "no more outlier values"
      ]
    },
    {
      "cell_type": "markdown",
      "metadata": {
        "id": "rea0OnV0ySh_",
        "colab_type": "text"
      },
      "source": [
        "#### Treat NaNs in categorical and numeric variables"
      ]
    },
    {
      "cell_type": "code",
      "metadata": {
        "id": "jwegLn7gyyMM",
        "colab_type": "code",
        "colab": {
          "base_uri": "https://localhost:8080/",
          "height": 69
        },
        "outputId": "406cbd3d-c9a9-44ea-c695-9d3bf3ca6594"
      },
      "source": [
        "train.select_dtypes(include='object').isna().any()"
      ],
      "execution_count": null,
      "outputs": [
        {
          "output_type": "execute_result",
          "data": {
            "text/plain": [
              "user_id    False\n",
              "TENURE     False\n",
              "dtype: bool"
            ]
          },
          "metadata": {
            "tags": []
          },
          "execution_count": 187
        }
      ]
    },
    {
      "cell_type": "markdown",
      "metadata": {
        "id": "svy-eamMey5k",
        "colab_type": "text"
      },
      "source": [
        "#### No nan vlaue in any categorical variable"
      ]
    },
    {
      "cell_type": "code",
      "metadata": {
        "id": "Ba3mApocyZ_p",
        "colab_type": "code",
        "colab": {}
      },
      "source": [
        "def impute_cat(X, cols=[]):\n",
        "  for col in cols:\n",
        "    imputer = SimpleImputer(strategy='most_frequent')\n",
        "    imp.fit(pd.DataFrame(X[col])) \n",
        "    X[col] = imp.transform(pd.DataFrame(X[col]))\n",
        "  return X"
      ],
      "execution_count": null,
      "outputs": []
    },
    {
      "cell_type": "code",
      "metadata": {
        "id": "k46evwH-e8d6",
        "colab_type": "code",
        "colab": {}
      },
      "source": [
        "def impute_num(X):\n",
        "  num_cols = X.select_dtypes(include=['int64', 'float64']).columns.tolist()\n",
        "  print\n",
        "  for col in num_cols:\n",
        "    print(f'working on --> {col}')\n",
        "    knn_imputer = KNNImputer()\n",
        "    knn_imputer.fit(pd.DataFrame(X[col])) \n",
        "    X[col] = knn_imputer.transform(pd.DataFrame(X[col]))\n",
        "  return X"
      ],
      "execution_count": null,
      "outputs": []
    },
    {
      "cell_type": "code",
      "metadata": {
        "id": "T_JQtZXYf60x",
        "colab_type": "code",
        "colab": {
          "base_uri": "https://localhost:8080/",
          "height": 555
        },
        "outputId": "aea84a1d-9583-4153-80ff-b3afb6c56878"
      },
      "source": [
        "train = impute_num(train)\n",
        "train.isna().any()  "
      ],
      "execution_count": 199,
      "outputs": [
        {
          "output_type": "stream",
          "text": [
            "working on --> MONTANT\n",
            "working on --> FREQUENCE_RECH\n",
            "working on --> REVENUE\n",
            "working on --> ARPU_SEGMENT\n",
            "working on --> FREQUENCE\n",
            "working on --> DATA_VOLUME\n",
            "working on --> ON_NET\n",
            "working on --> ORANGE\n",
            "working on --> TIGO\n",
            "working on --> ZONE1\n",
            "working on --> ZONE2\n",
            "working on --> REGULARITY\n",
            "working on --> FREQ_TOP_PACK\n",
            "working on --> CHURN\n"
          ],
          "name": "stdout"
        },
        {
          "output_type": "execute_result",
          "data": {
            "text/plain": [
              "user_id           False\n",
              "TENURE            False\n",
              "MONTANT           False\n",
              "FREQUENCE_RECH    False\n",
              "REVENUE           False\n",
              "ARPU_SEGMENT      False\n",
              "FREQUENCE         False\n",
              "DATA_VOLUME       False\n",
              "ON_NET            False\n",
              "ORANGE            False\n",
              "TIGO              False\n",
              "ZONE1             False\n",
              "ZONE2             False\n",
              "REGULARITY        False\n",
              "FREQ_TOP_PACK     False\n",
              "CHURN             False\n",
              "dtype: bool"
            ]
          },
          "metadata": {
            "tags": []
          },
          "execution_count": 199
        }
      ]
    },
    {
      "cell_type": "code",
      "metadata": {
        "id": "YDXLxsyqg4Zh",
        "colab_type": "code",
        "colab": {
          "base_uri": "https://localhost:8080/",
          "height": 617
        },
        "outputId": "6f5cdd02-b99f-48ac-a507-5cf7bfaadb52"
      },
      "source": [
        "train = train.drop()"
      ],
      "execution_count": 201,
      "outputs": [
        {
          "output_type": "execute_result",
          "data": {
            "text/html": [
              "<div>\n",
              "<style scoped>\n",
              "    .dataframe tbody tr th:only-of-type {\n",
              "        vertical-align: middle;\n",
              "    }\n",
              "\n",
              "    .dataframe tbody tr th {\n",
              "        vertical-align: top;\n",
              "    }\n",
              "\n",
              "    .dataframe thead th {\n",
              "        text-align: right;\n",
              "    }\n",
              "</style>\n",
              "<table border=\"1\" class=\"dataframe\">\n",
              "  <thead>\n",
              "    <tr style=\"text-align: right;\">\n",
              "      <th></th>\n",
              "      <th>user_id</th>\n",
              "      <th>TENURE</th>\n",
              "      <th>MONTANT</th>\n",
              "      <th>FREQUENCE_RECH</th>\n",
              "      <th>REVENUE</th>\n",
              "      <th>ARPU_SEGMENT</th>\n",
              "      <th>FREQUENCE</th>\n",
              "      <th>DATA_VOLUME</th>\n",
              "      <th>ON_NET</th>\n",
              "      <th>ORANGE</th>\n",
              "      <th>TIGO</th>\n",
              "      <th>ZONE1</th>\n",
              "      <th>ZONE2</th>\n",
              "      <th>REGULARITY</th>\n",
              "      <th>FREQ_TOP_PACK</th>\n",
              "      <th>CHURN</th>\n",
              "    </tr>\n",
              "  </thead>\n",
              "  <tbody>\n",
              "    <tr>\n",
              "      <th>542316</th>\n",
              "      <td>16a8528ec3b1201f5cb8bfc35533744b79bd44d2</td>\n",
              "      <td>K &gt; 24 month</td>\n",
              "      <td>3000.0</td>\n",
              "      <td>7.0</td>\n",
              "      <td>3000.0</td>\n",
              "      <td>1000.0</td>\n",
              "      <td>9.0</td>\n",
              "      <td>267.0</td>\n",
              "      <td>27.0</td>\n",
              "      <td>29.0</td>\n",
              "      <td>6.0</td>\n",
              "      <td>1.0</td>\n",
              "      <td>2.0</td>\n",
              "      <td>24.0</td>\n",
              "      <td>5.0</td>\n",
              "      <td>0.0</td>\n",
              "    </tr>\n",
              "    <tr>\n",
              "      <th>59878</th>\n",
              "      <td>3a8b710546fb6272a56908c2fcbcef20e2caa0cf</td>\n",
              "      <td>K &gt; 24 month</td>\n",
              "      <td>3000.0</td>\n",
              "      <td>7.0</td>\n",
              "      <td>3000.0</td>\n",
              "      <td>1000.0</td>\n",
              "      <td>9.0</td>\n",
              "      <td>267.0</td>\n",
              "      <td>27.0</td>\n",
              "      <td>29.0</td>\n",
              "      <td>6.0</td>\n",
              "      <td>1.0</td>\n",
              "      <td>2.0</td>\n",
              "      <td>24.0</td>\n",
              "      <td>5.0</td>\n",
              "      <td>0.0</td>\n",
              "    </tr>\n",
              "    <tr>\n",
              "      <th>10729</th>\n",
              "      <td>0f34b0bf4dac19dd901b7e03dd79cb79ed0b744a</td>\n",
              "      <td>K &gt; 24 month</td>\n",
              "      <td>3000.0</td>\n",
              "      <td>7.0</td>\n",
              "      <td>3000.0</td>\n",
              "      <td>1000.0</td>\n",
              "      <td>9.0</td>\n",
              "      <td>267.0</td>\n",
              "      <td>27.0</td>\n",
              "      <td>29.0</td>\n",
              "      <td>6.0</td>\n",
              "      <td>1.0</td>\n",
              "      <td>2.0</td>\n",
              "      <td>24.0</td>\n",
              "      <td>5.0</td>\n",
              "      <td>0.0</td>\n",
              "    </tr>\n",
              "    <tr>\n",
              "      <th>456437</th>\n",
              "      <td>dc34cfe39e89bddddf7f7550431681b6fc31e72e</td>\n",
              "      <td>K &gt; 24 month</td>\n",
              "      <td>3000.0</td>\n",
              "      <td>7.0</td>\n",
              "      <td>3000.0</td>\n",
              "      <td>1000.0</td>\n",
              "      <td>9.0</td>\n",
              "      <td>267.0</td>\n",
              "      <td>27.0</td>\n",
              "      <td>29.0</td>\n",
              "      <td>6.0</td>\n",
              "      <td>1.0</td>\n",
              "      <td>2.0</td>\n",
              "      <td>24.0</td>\n",
              "      <td>5.0</td>\n",
              "      <td>0.0</td>\n",
              "    </tr>\n",
              "    <tr>\n",
              "      <th>273902</th>\n",
              "      <td>3920ace4d36a498dde155bec15757407846258fc</td>\n",
              "      <td>K &gt; 24 month</td>\n",
              "      <td>3000.0</td>\n",
              "      <td>7.0</td>\n",
              "      <td>3000.0</td>\n",
              "      <td>1000.0</td>\n",
              "      <td>9.0</td>\n",
              "      <td>267.0</td>\n",
              "      <td>27.0</td>\n",
              "      <td>29.0</td>\n",
              "      <td>6.0</td>\n",
              "      <td>1.0</td>\n",
              "      <td>2.0</td>\n",
              "      <td>24.0</td>\n",
              "      <td>5.0</td>\n",
              "      <td>0.0</td>\n",
              "    </tr>\n",
              "    <tr>\n",
              "      <th>...</th>\n",
              "      <td>...</td>\n",
              "      <td>...</td>\n",
              "      <td>...</td>\n",
              "      <td>...</td>\n",
              "      <td>...</td>\n",
              "      <td>...</td>\n",
              "      <td>...</td>\n",
              "      <td>...</td>\n",
              "      <td>...</td>\n",
              "      <td>...</td>\n",
              "      <td>...</td>\n",
              "      <td>...</td>\n",
              "      <td>...</td>\n",
              "      <td>...</td>\n",
              "      <td>...</td>\n",
              "      <td>...</td>\n",
              "    </tr>\n",
              "    <tr>\n",
              "      <th>392679</th>\n",
              "      <td>48d344fd728daa817fdcc1d5b42c24bf9ca40227</td>\n",
              "      <td>K &gt; 24 month</td>\n",
              "      <td>3000.0</td>\n",
              "      <td>7.0</td>\n",
              "      <td>3000.0</td>\n",
              "      <td>1000.0</td>\n",
              "      <td>9.0</td>\n",
              "      <td>267.0</td>\n",
              "      <td>27.0</td>\n",
              "      <td>29.0</td>\n",
              "      <td>6.0</td>\n",
              "      <td>1.0</td>\n",
              "      <td>2.0</td>\n",
              "      <td>24.0</td>\n",
              "      <td>5.0</td>\n",
              "      <td>0.0</td>\n",
              "    </tr>\n",
              "    <tr>\n",
              "      <th>494369</th>\n",
              "      <td>b8ee2c6522cb33c8a167a6978972fce2b705f8a6</td>\n",
              "      <td>K &gt; 24 month</td>\n",
              "      <td>3000.0</td>\n",
              "      <td>7.0</td>\n",
              "      <td>3000.0</td>\n",
              "      <td>1000.0</td>\n",
              "      <td>9.0</td>\n",
              "      <td>267.0</td>\n",
              "      <td>27.0</td>\n",
              "      <td>29.0</td>\n",
              "      <td>6.0</td>\n",
              "      <td>1.0</td>\n",
              "      <td>2.0</td>\n",
              "      <td>24.0</td>\n",
              "      <td>5.0</td>\n",
              "      <td>0.0</td>\n",
              "    </tr>\n",
              "    <tr>\n",
              "      <th>59888</th>\n",
              "      <td>efaef8feb41c744fe8dbc5c8a05eb323ebb13a1a</td>\n",
              "      <td>K &gt; 24 month</td>\n",
              "      <td>3000.0</td>\n",
              "      <td>7.0</td>\n",
              "      <td>3000.0</td>\n",
              "      <td>1000.0</td>\n",
              "      <td>9.0</td>\n",
              "      <td>267.0</td>\n",
              "      <td>27.0</td>\n",
              "      <td>29.0</td>\n",
              "      <td>6.0</td>\n",
              "      <td>1.0</td>\n",
              "      <td>2.0</td>\n",
              "      <td>24.0</td>\n",
              "      <td>5.0</td>\n",
              "      <td>0.0</td>\n",
              "    </tr>\n",
              "    <tr>\n",
              "      <th>561559</th>\n",
              "      <td>0042094e077ec75af7ded7e3ec662c421d93d242</td>\n",
              "      <td>K &gt; 24 month</td>\n",
              "      <td>3000.0</td>\n",
              "      <td>7.0</td>\n",
              "      <td>3000.0</td>\n",
              "      <td>1000.0</td>\n",
              "      <td>9.0</td>\n",
              "      <td>267.0</td>\n",
              "      <td>27.0</td>\n",
              "      <td>29.0</td>\n",
              "      <td>6.0</td>\n",
              "      <td>1.0</td>\n",
              "      <td>2.0</td>\n",
              "      <td>24.0</td>\n",
              "      <td>5.0</td>\n",
              "      <td>0.0</td>\n",
              "    </tr>\n",
              "    <tr>\n",
              "      <th>379331</th>\n",
              "      <td>69c3b8e7dd5e9d374e771be2e11c0b27be804523</td>\n",
              "      <td>K &gt; 24 month</td>\n",
              "      <td>3000.0</td>\n",
              "      <td>7.0</td>\n",
              "      <td>3000.0</td>\n",
              "      <td>1000.0</td>\n",
              "      <td>9.0</td>\n",
              "      <td>267.0</td>\n",
              "      <td>27.0</td>\n",
              "      <td>29.0</td>\n",
              "      <td>6.0</td>\n",
              "      <td>1.0</td>\n",
              "      <td>2.0</td>\n",
              "      <td>24.0</td>\n",
              "      <td>5.0</td>\n",
              "      <td>0.0</td>\n",
              "    </tr>\n",
              "  </tbody>\n",
              "</table>\n",
              "<p>193864 rows × 16 columns</p>\n",
              "</div>"
            ],
            "text/plain": [
              "                                         user_id  ... CHURN\n",
              "542316  16a8528ec3b1201f5cb8bfc35533744b79bd44d2  ...   0.0\n",
              "59878   3a8b710546fb6272a56908c2fcbcef20e2caa0cf  ...   0.0\n",
              "10729   0f34b0bf4dac19dd901b7e03dd79cb79ed0b744a  ...   0.0\n",
              "456437  dc34cfe39e89bddddf7f7550431681b6fc31e72e  ...   0.0\n",
              "273902  3920ace4d36a498dde155bec15757407846258fc  ...   0.0\n",
              "...                                          ...  ...   ...\n",
              "392679  48d344fd728daa817fdcc1d5b42c24bf9ca40227  ...   0.0\n",
              "494369  b8ee2c6522cb33c8a167a6978972fce2b705f8a6  ...   0.0\n",
              "59888   efaef8feb41c744fe8dbc5c8a05eb323ebb13a1a  ...   0.0\n",
              "561559  0042094e077ec75af7ded7e3ec662c421d93d242  ...   0.0\n",
              "379331  69c3b8e7dd5e9d374e771be2e11c0b27be804523  ...   0.0\n",
              "\n",
              "[193864 rows x 16 columns]"
            ]
          },
          "metadata": {
            "tags": []
          },
          "execution_count": 201
        }
      ]
    },
    {
      "cell_type": "markdown",
      "metadata": {
        "id": "qxEDG2ZlFLhb",
        "colab_type": "text"
      },
      "source": [
        ""
      ]
    },
    {
      "cell_type": "code",
      "metadata": {
        "id": "fr22JfeCFK1q",
        "colab_type": "code",
        "colab": {
          "base_uri": "https://localhost:8080/",
          "height": 521
        },
        "outputId": "0f8f76c8-6489-452f-ac89-9ff70aec563d"
      },
      "source": [
        "test = impute_num(test)\n",
        "test.isna().any()  "
      ],
      "execution_count": 206,
      "outputs": [
        {
          "output_type": "stream",
          "text": [
            "working on --> MONTANT\n",
            "working on --> FREQUENCE_RECH\n",
            "working on --> REVENUE\n",
            "working on --> ARPU_SEGMENT\n",
            "working on --> FREQUENCE\n",
            "working on --> DATA_VOLUME\n",
            "working on --> ON_NET\n",
            "working on --> ORANGE\n",
            "working on --> TIGO\n",
            "working on --> ZONE1\n",
            "working on --> ZONE2\n",
            "working on --> REGULARITY\n",
            "working on --> FREQ_TOP_PACK\n"
          ],
          "name": "stdout"
        },
        {
          "output_type": "execute_result",
          "data": {
            "text/plain": [
              "user_id           False\n",
              "TENURE            False\n",
              "MONTANT           False\n",
              "FREQUENCE_RECH    False\n",
              "REVENUE           False\n",
              "ARPU_SEGMENT      False\n",
              "FREQUENCE         False\n",
              "DATA_VOLUME       False\n",
              "ON_NET            False\n",
              "ORANGE            False\n",
              "TIGO              False\n",
              "ZONE1             False\n",
              "ZONE2             False\n",
              "REGULARITY        False\n",
              "FREQ_TOP_PACK     False\n",
              "dtype: bool"
            ]
          },
          "metadata": {
            "tags": []
          },
          "execution_count": 206
        }
      ]
    },
    {
      "cell_type": "code",
      "metadata": {
        "id": "-H6WwtlJFT4Y",
        "colab_type": "code",
        "colab": {
          "base_uri": "https://localhost:8080/",
          "height": 617
        },
        "outputId": "ffb2ecd0-e228-47ba-9f33-781400018a62"
      },
      "source": [
        "test"
      ],
      "execution_count": 207,
      "outputs": [
        {
          "output_type": "execute_result",
          "data": {
            "text/html": [
              "<div>\n",
              "<style scoped>\n",
              "    .dataframe tbody tr th:only-of-type {\n",
              "        vertical-align: middle;\n",
              "    }\n",
              "\n",
              "    .dataframe tbody tr th {\n",
              "        vertical-align: top;\n",
              "    }\n",
              "\n",
              "    .dataframe thead th {\n",
              "        text-align: right;\n",
              "    }\n",
              "</style>\n",
              "<table border=\"1\" class=\"dataframe\">\n",
              "  <thead>\n",
              "    <tr style=\"text-align: right;\">\n",
              "      <th></th>\n",
              "      <th>user_id</th>\n",
              "      <th>TENURE</th>\n",
              "      <th>MONTANT</th>\n",
              "      <th>FREQUENCE_RECH</th>\n",
              "      <th>REVENUE</th>\n",
              "      <th>ARPU_SEGMENT</th>\n",
              "      <th>FREQUENCE</th>\n",
              "      <th>DATA_VOLUME</th>\n",
              "      <th>ON_NET</th>\n",
              "      <th>ORANGE</th>\n",
              "      <th>TIGO</th>\n",
              "      <th>ZONE1</th>\n",
              "      <th>ZONE2</th>\n",
              "      <th>REGULARITY</th>\n",
              "      <th>FREQ_TOP_PACK</th>\n",
              "    </tr>\n",
              "  </thead>\n",
              "  <tbody>\n",
              "    <tr>\n",
              "      <th>105281</th>\n",
              "      <td>e66972d08a6e90ca121fc74275e1e4adc7770fc3</td>\n",
              "      <td>K &gt; 24 month</td>\n",
              "      <td>5523.347628</td>\n",
              "      <td>11.465322</td>\n",
              "      <td>5512.03763</td>\n",
              "      <td>1837.350179</td>\n",
              "      <td>13.952525</td>\n",
              "      <td>0.000000</td>\n",
              "      <td>281.347412</td>\n",
              "      <td>93.791481</td>\n",
              "      <td>22.599351</td>\n",
              "      <td>9.884868</td>\n",
              "      <td>8.09586</td>\n",
              "      <td>3.0</td>\n",
              "      <td>9.296087</td>\n",
              "    </tr>\n",
              "    <tr>\n",
              "      <th>22722</th>\n",
              "      <td>bf9be697fbd32dc7b8ab3073ee4d3bbbcad6dfe9</td>\n",
              "      <td>K &gt; 24 month</td>\n",
              "      <td>7900.000000</td>\n",
              "      <td>16.000000</td>\n",
              "      <td>7900.00000</td>\n",
              "      <td>2633.000000</td>\n",
              "      <td>15.000000</td>\n",
              "      <td>25.000000</td>\n",
              "      <td>228.000000</td>\n",
              "      <td>271.000000</td>\n",
              "      <td>5.000000</td>\n",
              "      <td>9.884868</td>\n",
              "      <td>8.09586</td>\n",
              "      <td>62.0</td>\n",
              "      <td>14.000000</td>\n",
              "    </tr>\n",
              "    <tr>\n",
              "      <th>76446</th>\n",
              "      <td>1e7202861abcaf7e0eea63032254eacf26bb098d</td>\n",
              "      <td>K &gt; 24 month</td>\n",
              "      <td>5523.347628</td>\n",
              "      <td>11.465322</td>\n",
              "      <td>5512.03763</td>\n",
              "      <td>1837.350179</td>\n",
              "      <td>13.952525</td>\n",
              "      <td>0.000000</td>\n",
              "      <td>281.347412</td>\n",
              "      <td>93.791481</td>\n",
              "      <td>22.599351</td>\n",
              "      <td>9.884868</td>\n",
              "      <td>8.09586</td>\n",
              "      <td>23.0</td>\n",
              "      <td>9.296087</td>\n",
              "    </tr>\n",
              "    <tr>\n",
              "      <th>46673</th>\n",
              "      <td>f4eed3780dbca03e08c43adfcf0a9463368358d9</td>\n",
              "      <td>H 15-18 month</td>\n",
              "      <td>5523.347628</td>\n",
              "      <td>11.465322</td>\n",
              "      <td>5512.03763</td>\n",
              "      <td>1837.350179</td>\n",
              "      <td>13.952525</td>\n",
              "      <td>0.000000</td>\n",
              "      <td>281.347412</td>\n",
              "      <td>93.791481</td>\n",
              "      <td>22.599351</td>\n",
              "      <td>9.884868</td>\n",
              "      <td>8.09586</td>\n",
              "      <td>62.0</td>\n",
              "      <td>9.296087</td>\n",
              "    </tr>\n",
              "    <tr>\n",
              "      <th>7006</th>\n",
              "      <td>e71d6090175d55f4b7f3abc99e5f1823616960f0</td>\n",
              "      <td>K &gt; 24 month</td>\n",
              "      <td>5523.347628</td>\n",
              "      <td>11.465322</td>\n",
              "      <td>5512.03763</td>\n",
              "      <td>1837.350179</td>\n",
              "      <td>13.952525</td>\n",
              "      <td>3358.770281</td>\n",
              "      <td>281.347412</td>\n",
              "      <td>93.791481</td>\n",
              "      <td>22.599351</td>\n",
              "      <td>9.884868</td>\n",
              "      <td>8.09586</td>\n",
              "      <td>5.0</td>\n",
              "      <td>9.296087</td>\n",
              "    </tr>\n",
              "    <tr>\n",
              "      <th>...</th>\n",
              "      <td>...</td>\n",
              "      <td>...</td>\n",
              "      <td>...</td>\n",
              "      <td>...</td>\n",
              "      <td>...</td>\n",
              "      <td>...</td>\n",
              "      <td>...</td>\n",
              "      <td>...</td>\n",
              "      <td>...</td>\n",
              "      <td>...</td>\n",
              "      <td>...</td>\n",
              "      <td>...</td>\n",
              "      <td>...</td>\n",
              "      <td>...</td>\n",
              "      <td>...</td>\n",
              "    </tr>\n",
              "    <tr>\n",
              "      <th>7008</th>\n",
              "      <td>5ecbf66d9bb8b8642ef1e5fc8c9d844989376589</td>\n",
              "      <td>K &gt; 24 month</td>\n",
              "      <td>5523.347628</td>\n",
              "      <td>11.465322</td>\n",
              "      <td>5512.03763</td>\n",
              "      <td>1837.350179</td>\n",
              "      <td>13.952525</td>\n",
              "      <td>0.000000</td>\n",
              "      <td>281.347412</td>\n",
              "      <td>93.791481</td>\n",
              "      <td>22.599351</td>\n",
              "      <td>0.000000</td>\n",
              "      <td>8.09586</td>\n",
              "      <td>8.0</td>\n",
              "      <td>9.296087</td>\n",
              "    </tr>\n",
              "    <tr>\n",
              "      <th>71490</th>\n",
              "      <td>c3a0be58c8dee43c1c5df623c289d166a7014a10</td>\n",
              "      <td>K &gt; 24 month</td>\n",
              "      <td>3800.000000</td>\n",
              "      <td>5.000000</td>\n",
              "      <td>3800.00000</td>\n",
              "      <td>1267.000000</td>\n",
              "      <td>4.000000</td>\n",
              "      <td>6101.000000</td>\n",
              "      <td>28.000000</td>\n",
              "      <td>16.000000</td>\n",
              "      <td>22.599351</td>\n",
              "      <td>9.884868</td>\n",
              "      <td>1.00000</td>\n",
              "      <td>33.0</td>\n",
              "      <td>3.000000</td>\n",
              "    </tr>\n",
              "    <tr>\n",
              "      <th>78321</th>\n",
              "      <td>d36271d90f822c1da3e3d531136bb9a19d577be3</td>\n",
              "      <td>K &gt; 24 month</td>\n",
              "      <td>14150.000000</td>\n",
              "      <td>31.000000</td>\n",
              "      <td>15548.00000</td>\n",
              "      <td>5183.000000</td>\n",
              "      <td>38.000000</td>\n",
              "      <td>4865.000000</td>\n",
              "      <td>248.000000</td>\n",
              "      <td>1040.000000</td>\n",
              "      <td>73.000000</td>\n",
              "      <td>9.884868</td>\n",
              "      <td>8.09586</td>\n",
              "      <td>60.0</td>\n",
              "      <td>20.000000</td>\n",
              "    </tr>\n",
              "    <tr>\n",
              "      <th>83665</th>\n",
              "      <td>5a3e2643344a107f4050fce01d92152c12581c1f</td>\n",
              "      <td>K &gt; 24 month</td>\n",
              "      <td>6150.000000</td>\n",
              "      <td>14.000000</td>\n",
              "      <td>6151.00000</td>\n",
              "      <td>2050.000000</td>\n",
              "      <td>19.000000</td>\n",
              "      <td>300.000000</td>\n",
              "      <td>129.000000</td>\n",
              "      <td>43.000000</td>\n",
              "      <td>1.000000</td>\n",
              "      <td>9.884868</td>\n",
              "      <td>8.09586</td>\n",
              "      <td>62.0</td>\n",
              "      <td>4.000000</td>\n",
              "    </tr>\n",
              "    <tr>\n",
              "      <th>93996</th>\n",
              "      <td>b62f0fad5ca231131cb18c04156b21cad268abe9</td>\n",
              "      <td>K &gt; 24 month</td>\n",
              "      <td>2900.000000</td>\n",
              "      <td>13.000000</td>\n",
              "      <td>2901.00000</td>\n",
              "      <td>967.000000</td>\n",
              "      <td>17.000000</td>\n",
              "      <td>1217.000000</td>\n",
              "      <td>281.347412</td>\n",
              "      <td>93.791481</td>\n",
              "      <td>22.599351</td>\n",
              "      <td>9.884868</td>\n",
              "      <td>1.00000</td>\n",
              "      <td>35.0</td>\n",
              "      <td>12.000000</td>\n",
              "    </tr>\n",
              "  </tbody>\n",
              "</table>\n",
              "<p>34211 rows × 15 columns</p>\n",
              "</div>"
            ],
            "text/plain": [
              "                                         user_id  ... FREQ_TOP_PACK\n",
              "105281  e66972d08a6e90ca121fc74275e1e4adc7770fc3  ...      9.296087\n",
              "22722   bf9be697fbd32dc7b8ab3073ee4d3bbbcad6dfe9  ...     14.000000\n",
              "76446   1e7202861abcaf7e0eea63032254eacf26bb098d  ...      9.296087\n",
              "46673   f4eed3780dbca03e08c43adfcf0a9463368358d9  ...      9.296087\n",
              "7006    e71d6090175d55f4b7f3abc99e5f1823616960f0  ...      9.296087\n",
              "...                                          ...  ...           ...\n",
              "7008    5ecbf66d9bb8b8642ef1e5fc8c9d844989376589  ...      9.296087\n",
              "71490   c3a0be58c8dee43c1c5df623c289d166a7014a10  ...      3.000000\n",
              "78321   d36271d90f822c1da3e3d531136bb9a19d577be3  ...     20.000000\n",
              "83665   5a3e2643344a107f4050fce01d92152c12581c1f  ...      4.000000\n",
              "93996   b62f0fad5ca231131cb18c04156b21cad268abe9  ...     12.000000\n",
              "\n",
              "[34211 rows x 15 columns]"
            ]
          },
          "metadata": {
            "tags": []
          },
          "execution_count": 207
        }
      ]
    },
    {
      "cell_type": "markdown",
      "metadata": {
        "id": "Vp0RiqCnUZxO",
        "colab_type": "text"
      },
      "source": [
        "#### save cleaned data"
      ]
    },
    {
      "cell_type": "code",
      "metadata": {
        "id": "QPLv28Y2UdqY",
        "colab_type": "code",
        "colab": {}
      },
      "source": [
        "train.to_csv('/content/drive/My Drive/Zindi-Competionts/customer-churn-prediction/datasets/clean_train.csv') \n",
        "test.to_csv('/content/drive/My Drive/Zindi-Competionts/customer-churn-prediction/datasets/clean_test.csv') "
      ],
      "execution_count": 208,
      "outputs": []
    },
    {
      "cell_type": "markdown",
      "metadata": {
        "id": "a45uytM_5qJV",
        "colab_type": "text"
      },
      "source": [
        "> Create piepleinf to clean preprocess numeric and catgegorical vlaues"
      ]
    },
    {
      "cell_type": "code",
      "metadata": {
        "id": "7hPlTQgN5qJX",
        "colab_type": "code",
        "colab": {}
      },
      "source": [
        "# cat_features = train.select_dtypes(include='object').drop('user_id', axis=1).columns.tolist()\n",
        "# cat_features"
      ],
      "execution_count": null,
      "outputs": []
    },
    {
      "cell_type": "code",
      "metadata": {
        "id": "X-AwuumM5qJb",
        "colab_type": "code",
        "colab": {}
      },
      "source": [
        "# num_features = train.select_dtypes(include=['int64', 'float64']).drop('CHURN', axis=1).columns.tolist()\n",
        "# num_features"
      ],
      "execution_count": null,
      "outputs": []
    },
    {
      "cell_type": "code",
      "metadata": {
        "id": "s7wj06-sFf9D",
        "colab_type": "code",
        "colab": {}
      },
      "source": [
        "# ?LabelEncoder"
      ],
      "execution_count": null,
      "outputs": []
    },
    {
      "cell_type": "code",
      "metadata": {
        "id": "Hrrg34On5qJe",
        "colab_type": "code",
        "colab": {}
      },
      "source": [
        "# # cat_transform = Pipeline(steps=[('imputer', SimpleImputer(strategy='most_frequent')),\n",
        "# #                               ('encode', OneHotEncoder())])\n",
        "\n",
        "# num_transform= Pipeline(steps=[('scaler',RobustScaler()),\n",
        "#                                ('imputer', KNNImputer(copy=False))])\n",
        "\n",
        "\n",
        "# data_transform = ColumnTransformer(transformers=[#('cat_transform', cat_transform,cat_features),\n",
        "#                                                 ('num_transform', num_transform, num_features)]\n",
        "#                                   , remainder='passthrough', verbose=True)\n",
        "\n",
        "# preprocess = Pipeline(steps=[('transform', data_transform)], verbose=True)"
      ],
      "execution_count": null,
      "outputs": []
    },
    {
      "cell_type": "code",
      "metadata": {
        "id": "gGnr-nHRlddH",
        "colab_type": "code",
        "colab": {}
      },
      "source": [
        ""
      ],
      "execution_count": null,
      "outputs": []
    },
    {
      "cell_type": "markdown",
      "metadata": {
        "id": "5obbe4COEKVr",
        "colab_type": "text"
      },
      "source": [
        "## Modelling\n",
        "\n",
        "Algorithms:\n",
        "\n",
        "- logisticRegression - Basemodel\n",
        "\n",
        "- Catboost\n",
        "\n",
        "- XGboost\n",
        "\n",
        "- LGBM\n",
        "\n",
        "Techniques\n",
        "\n",
        "- cross validation\n",
        "\n",
        "- hp-tuning\n",
        "\n",
        "- over-sampling imbalance"
      ]
    },
    {
      "cell_type": "markdown",
      "metadata": {
        "id": "z3Jqvg8pEOyj",
        "colab_type": "text"
      },
      "source": [
        ">> Import needed libraries"
      ]
    },
    {
      "cell_type": "code",
      "metadata": {
        "id": "np4760HpEK3M",
        "colab_type": "code",
        "colab": {}
      },
      "source": [
        "from imblearn.over_sampling import SMOTE\n",
        "from imblearn.pipeline import  Pipeline as imbPipe\n",
        "from sklearn.linear_model import LogisticRegression\n",
        "from sklearn.metrics import make_scorer, accuracy_score, confusion_matrix, plot_roc_curve, classification_report\n",
        "from sklearn.model_selection import StratifiedKFold, GridSearchCV, train_test_split"
      ],
      "execution_count": 209,
      "outputs": []
    },
    {
      "cell_type": "markdown",
      "metadata": {
        "id": "1nYHSrmGEXG5",
        "colab_type": "text"
      },
      "source": [
        "##### Define functions to save satisifed predictions"
      ]
    },
    {
      "cell_type": "code",
      "metadata": {
        "id": "dBnOBTIDERrz",
        "colab_type": "code",
        "colab": {}
      },
      "source": [
        "def save_pred(y_hat, test_set, file_name =\"new_submission\"):\n",
        "  prediction_path = '/content/drive/My Drive/Zindi-Competionts/zimnat_Challenge_predicting_insurance_purchase/submissions/'\n",
        "  from datetime import datetime\n",
        "  file_name=file_name+datetime.now().strftime('%Y-%m-%d')\n",
        "  submissions = pd.DataFrame({'ID X PCODE':test_set['ID X PCODE'],'Label':y_hat})\n",
        "  submissions.to_csv(prediction_path+file_name, index=False)\n",
        "  return submissons"
      ],
      "execution_count": 210,
      "outputs": []
    },
    {
      "cell_type": "markdown",
      "metadata": {
        "id": "meK0n5G9Eddl",
        "colab_type": "text"
      },
      "source": [
        "#### Define functions to mesaure predictions performance"
      ]
    },
    {
      "cell_type": "code",
      "metadata": {
        "id": "2l1hfmVJEaC_",
        "colab_type": "code",
        "colab": {}
      },
      "source": [
        "class PredMetrics():\n",
        "\n",
        "  def __init__( X, y, y_pred, y_true, model, scorer:make_scorer,\n",
        "                 verbose=False, cv=StratifiedKFold(random_state=123)):\n",
        "    \n",
        "    self.X = X\n",
        "    self.y = y\n",
        "    self.y_pred = y_pred\n",
        "    self.y_true = y_true\n",
        "    self.model = model\n",
        "    self.scorer = scorer\n",
        "    self.cv = cv\n",
        "\n",
        "  def __repl__():\n",
        "    return \"Prediction Metrics\"\n",
        "\n",
        "  \n",
        "  def cv_score(self):\n",
        "\n",
        "     self.cv_score_metric = cross_val_score(model = self.model, X=self.X, y=self.y, scoring = self.scorer, verbose=verbose, cv=self.cv)\n",
        "\n",
        "     return self.cv_score_metric\n",
        "\n",
        "  def conf_matrix(self):\n",
        "\n",
        "    self.conf_matrix_metric = confusion_matrix(y_true=self.y_true, y_pred=self.y_pred)\n",
        "\n",
        "    return self.conf_matrix_metric\n",
        "\n",
        "  def log_loss_score(self):\n",
        "\n",
        "    self.log_loss_metric = log_loss(y_true = self.y_true, y_pred = self.y_pred)\n",
        "\n",
        "    return self.log_loss_metric\n",
        "\n",
        "  def roc_curve(self):\n",
        "\n",
        "    self.plot_roc_metric = plot_roc_curve(self.model, X=self.X, y = self.y)\n",
        "      \n",
        "    return self.plot_roc_metric\n",
        "  \n",
        "  def class_report(self):\n",
        "\n",
        "    self.class_report_metric = classification_report(y_true = self.y_true, y_pred = self.y_pred)\n",
        "\n",
        "    return self.class_report_metric"
      ],
      "execution_count": 211,
      "outputs": []
    },
    {
      "cell_type": "markdown",
      "metadata": {
        "id": "wP_twNbBEi4O",
        "colab_type": "text"
      },
      "source": [
        "### Splitting Data\n",
        "\n"
      ]
    },
    {
      "cell_type": "markdown",
      "metadata": {
        "id": "09H2HVxqEtY2",
        "colab_type": "text"
      },
      "source": [
        "split to X & Y"
      ]
    },
    {
      "cell_type": "code",
      "metadata": {
        "id": "5jh-hUVHIN8J",
        "colab_type": "code",
        "colab": {
          "base_uri": "https://localhost:8080/",
          "height": 34
        },
        "outputId": "125857f4-cf9b-45b8-af6f-1294352c6fd5"
      },
      "source": [
        "hold_out = test.copy()\n",
        "print(hold_out.shape)"
      ],
      "execution_count": 218,
      "outputs": [
        {
          "output_type": "stream",
          "text": [
            "(34211, 15)\n"
          ],
          "name": "stdout"
        }
      ]
    },
    {
      "cell_type": "code",
      "metadata": {
        "id": "K7A1zpQ5G4k0",
        "colab_type": "code",
        "colab": {
          "base_uri": "https://localhost:8080/",
          "height": 52
        },
        "outputId": "8713eefc-7572-42fa-c2c6-3a08880ce6c5"
      },
      "source": [
        "X, y = train.drop('CHURN', axis=1), train.CHURN\n",
        "print(X.shape)\n",
        "print(y.shape)"
      ],
      "execution_count": 214,
      "outputs": [
        {
          "output_type": "stream",
          "text": [
            "(193864, 15)\n",
            "(193864,)\n"
          ],
          "name": "stdout"
        }
      ]
    },
    {
      "cell_type": "markdown",
      "metadata": {
        "id": "yyGfUJ2CHg2s",
        "colab_type": "text"
      },
      "source": [
        "split to train and test set"
      ]
    },
    {
      "cell_type": "code",
      "metadata": {
        "id": "lHrq7K_AEhQy",
        "colab_type": "code",
        "colab": {
          "base_uri": "https://localhost:8080/",
          "height": 52
        },
        "outputId": "38274b86-f7ef-4aa6-fe40-9bc127a89d39"
      },
      "source": [
        "X_train, X_test, y_train, y_test = train_test_split(X, y, train_size=0.9) \n",
        "print(X_train.shape)\n",
        "print(y_train.shape)"
      ],
      "execution_count": 216,
      "outputs": [
        {
          "output_type": "stream",
          "text": [
            "(174477, 15)\n",
            "(174477,)\n"
          ],
          "name": "stdout"
        }
      ]
    },
    {
      "cell_type": "markdown",
      "metadata": {
        "id": "fObYm-2oHZch",
        "colab_type": "text"
      },
      "source": [
        "split to train and val set"
      ]
    },
    {
      "cell_type": "code",
      "metadata": {
        "id": "-NFw_ua6GaFG",
        "colab_type": "code",
        "colab": {
          "base_uri": "https://localhost:8080/",
          "height": 52
        },
        "outputId": "75a2cf85-5495-44b2-f0fa-9041d8fa8ff7"
      },
      "source": [
        "X_train2, X_val, y_train2, y_val = train_test_split(X_train, y_train, train_size=0.8)\n",
        "print(X_train2.shape)\n",
        "print(y_train2.shape)"
      ],
      "execution_count": 217,
      "outputs": [
        {
          "output_type": "stream",
          "text": [
            "(139581, 15)\n",
            "(139581,)\n"
          ],
          "name": "stdout"
        }
      ]
    },
    {
      "cell_type": "markdown",
      "metadata": {
        "id": "ez67MtvLIhmP",
        "colab_type": "text"
      },
      "source": [
        "### Build Basemodel with LogisticRegression\n"
      ]
    },
    {
      "cell_type": "markdown",
      "metadata": {
        "id": "fUziwNxaE9bm",
        "colab_type": "text"
      },
      "source": [
        "#### Measure Logistic model"
      ]
    },
    {
      "cell_type": "code",
      "metadata": {
        "id": "ea_PaUKZFAIb",
        "colab_type": "code",
        "colab": {}
      },
      "source": [
        "log_metric = PredMetrics(X_train, y_train, )"
      ],
      "execution_count": null,
      "outputs": []
    }
  ]
}