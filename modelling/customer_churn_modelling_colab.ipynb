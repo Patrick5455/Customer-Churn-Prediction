{
  "nbformat": 4,
  "nbformat_minor": 0,
  "metadata": {
    "kernelspec": {
      "display_name": "Python 3",
      "language": "python",
      "name": "python3"
    },
    "language_info": {
      "codemirror_mode": {
        "name": "ipython",
        "version": 3
      },
      "file_extension": ".py",
      "mimetype": "text/x-python",
      "name": "python",
      "nbconvert_exporter": "python",
      "pygments_lexer": "ipython3",
      "version": "3.6.9"
    },
    "colab": {
      "name": "customer_churn_modelling_colab.ipynb",
      "provenance": [],
      "collapsed_sections": [],
      "include_colab_link": true
    }
  },
  "cells": [
    {
      "cell_type": "markdown",
      "metadata": {
        "id": "view-in-github",
        "colab_type": "text"
      },
      "source": [
        "<a href=\"https://colab.research.google.com/github/Patrick5455/Customer-Churn-Prediction/blob/master/modelling/customer_churn_modelling_colab.ipynb\" target=\"_parent\"><img src=\"https://colab.research.google.com/assets/colab-badge.svg\" alt=\"Open In Colab\"/></a>"
      ]
    },
    {
      "cell_type": "code",
      "metadata": {
        "id": "O7pW2zNGqTXf",
        "colab_type": "code",
        "colab": {
          "base_uri": "https://localhost:8080/",
          "height": 34
        },
        "outputId": "cf3e102e-409b-4a13-c91f-7ce537bb38a0"
      },
      "source": [
        "from google.colab import drive  \n",
        "drive.mount('/content/drive')  "
      ],
      "execution_count": null,
      "outputs": [
        {
          "output_type": "stream",
          "text": [
            "Drive already mounted at /content/drive; to attempt to forcibly remount, call drive.mount(\"/content/drive\", force_remount=True).\n"
          ],
          "name": "stdout"
        }
      ]
    },
    {
      "cell_type": "code",
      "metadata": {
        "id": "INjA0Wpk5qEg",
        "colab_type": "code",
        "colab": {
          "base_uri": "https://localhost:8080/",
          "height": 52
        },
        "outputId": "e3059678-aafd-4850-91b9-84b79db98c3a"
      },
      "source": [
        "#Import some libraries\n",
        "import pandas as pd\n",
        "from pandas.api.types import is_string_dtype \n",
        "from pandas.api.types import is_numeric_dtype\n",
        "import numpy as np\n",
        "import matplotlib.pyplot as plt \n",
        "from pylab import rcParams  \n",
        "import seaborn as sns \n",
        "import os \n",
        "sns.set_style('darkgrid')\n",
        "rcParams['figure.figsize'] = 8,8\n",
        "import warnings\n",
        "warnings.filterwarnings(\"ignore\")\n",
        "%matplotlib inline "
      ],
      "execution_count": null,
      "outputs": [
        {
          "output_type": "stream",
          "text": [
            "/usr/local/lib/python3.6/dist-packages/statsmodels/tools/_testing.py:19: FutureWarning: pandas.util.testing is deprecated. Use the functions in the public API at pandas.testing instead.\n",
            "  import pandas.util.testing as tm\n"
          ],
          "name": "stderr"
        }
      ]
    },
    {
      "cell_type": "markdown",
      "metadata": {
        "id": "9rpGJeIe5qEx",
        "colab_type": "text"
      },
      "source": [
        "> Data Preprocessing"
      ]
    },
    {
      "cell_type": "code",
      "metadata": {
        "id": "U7-6OQgl5qE0",
        "colab_type": "code",
        "colab": {}
      },
      "source": [
        "from sklearn.preprocessing import StandardScaler, RobustScaler, OneHotEncoder, LabelEncoder\n",
        "from sklearn.pipeline import FeatureUnion, make_pipeline, Pipeline\n",
        "from sklearn.impute import KNNImputer\n",
        "from sklearn.model_selection import cross_val_predict, cross_val_score, GridSearchCV,RandomizedSearchCV\n",
        "from sklearn.impute import SimpleImputer\n",
        "from sklearn.compose import ColumnTransformer\n",
        "\n",
        "from sklearn.ensemble import IsolationForest \n",
        "from imblearn.over_sampling import SMOTE"
      ],
      "execution_count": null,
      "outputs": []
    },
    {
      "cell_type": "markdown",
      "metadata": {
        "id": "Ua9cL2FZ0s1o",
        "colab_type": "text"
      },
      "source": [
        "Modelling"
      ]
    },
    {
      "cell_type": "code",
      "metadata": {
        "id": "kSFGvih10qXj",
        "colab_type": "code",
        "colab": {}
      },
      "source": [
        "from imblearn.over_sampling import SMOTE\n",
        "from imblearn.pipeline import  Pipeline as ImbPipe\n",
        "from imblearn.metrics import classification_report_imbalanced\n",
        "from sklearn.metrics import scorer, log_loss\n",
        "from sklearn.linear_model import LogisticRegression, LogisticRegressionCV\n",
        "from sklearn.metrics import make_scorer, accuracy_score, confusion_matrix, plot_roc_curve, classification_report\n",
        "from sklearn.model_selection import StratifiedKFold, GridSearchCV, train_test_split\n",
        "import sklearn\n",
        "from sklearn.decomposition import PCA, TruncatedSVD\n",
        "from sklearn.feature_selection import RFECV\n",
        "# from sklearn.feature_extraction import \n",
        "from sklearn.base import BaseEstimator, TransformerMixin\n",
        "from sklearn.feature_selection import SelectKBest, mutual_info_classif, f_classif, chi2, SelectPercentile\n",
        "\n",
        "from sklearn.compose import make_column_selector as selector\n",
        "\n",
        "from sklearn.svm import SVC"
      ],
      "execution_count": null,
      "outputs": []
    },
    {
      "cell_type": "code",
      "metadata": {
        "id": "QYbczZiR1Hpv",
        "colab_type": "code",
        "colab": {}
      },
      "source": [
        "# sklearn.feature_extraction."
      ],
      "execution_count": null,
      "outputs": []
    },
    {
      "cell_type": "markdown",
      "metadata": {
        "id": "1yyH-vBc5qFD",
        "colab_type": "text"
      },
      "source": [
        "> > Project packages"
      ]
    },
    {
      "cell_type": "code",
      "metadata": {
        "id": "98q9INpN5qFF",
        "colab_type": "code",
        "colab": {}
      },
      "source": [
        "# from project_package.data_package import data\n",
        "# from project_package.model_package import model, model_metrics\n",
        "# from project_package.plot_package import bi_plot, uni_plot\n",
        "# "
      ],
      "execution_count": null,
      "outputs": []
    },
    {
      "cell_type": "code",
      "metadata": {
        "id": "a1LZQJEU5qFR",
        "colab_type": "code",
        "colab": {}
      },
      "source": [
        "# ?KNNImputer"
      ],
      "execution_count": null,
      "outputs": []
    },
    {
      "cell_type": "markdown",
      "metadata": {
        "id": "FonOxjCX5qFa",
        "colab_type": "text"
      },
      "source": [
        "> Load Datasets"
      ]
    },
    {
      "cell_type": "code",
      "metadata": {
        "id": "umbX4mHdq6O_",
        "colab_type": "code",
        "colab": {}
      },
      "source": [
        "#g-drive paths\n",
        "train = '/content/drive/My Drive/Zindi-Competionts/customer-churn-prediction/datasets/AIMS_Train.csv'\n",
        "test = '/content/drive/My Drive/Zindi-Competionts/customer-churn-prediction/datasets/AIMS_Test.csv'\n",
        "variables = '/content/drive/My Drive/Zindi-Competionts/customer-churn-prediction/datasets/VariableDefinitions.csv'\n",
        "submissions = '/content/drive/My Drive/Zindi-Competionts/customer-churn-prediction/datasets/AIMS_SampleSubmission.csv' "
      ],
      "execution_count": null,
      "outputs": []
    },
    {
      "cell_type": "code",
      "metadata": {
        "id": "ZeHv8FuaRqYs",
        "colab_type": "code",
        "colab": {}
      },
      "source": [
        "models_path = '/content/drive/My Drive/Zindi-Competionts/customer-churn-prediction/saved_models/'\n",
        "predictions_path =  '/content/drive/My Drive/Zindi-Competionts/customer-churn-prediction/predictions/' "
      ],
      "execution_count": null,
      "outputs": []
    },
    {
      "cell_type": "code",
      "metadata": {
        "id": "HkmRSVxf6aoJ",
        "colab_type": "code",
        "colab": {}
      },
      "source": [
        "#colab\n",
        "train = pd.read_csv(train)\n",
        "test=  pd.read_csv(test)\n",
        "submission = pd.read_csv(submissions)\n",
        "variables = pd.read_csv(variables, header=2)"
      ],
      "execution_count": null,
      "outputs": []
    },
    {
      "cell_type": "code",
      "metadata": {
        "id": "h4EuA2njkQG3",
        "colab_type": "code",
        "colab": {
          "base_uri": "https://localhost:8080/",
          "height": 52
        },
        "outputId": "d7d4e243-befb-48a2-d3b5-14978b112e11"
      },
      "source": [
        "print(train.shape)\n",
        "print(test.shape)"
      ],
      "execution_count": null,
      "outputs": [
        {
          "output_type": "stream",
          "text": [
            "(646214, 19)\n",
            "(114038, 18)\n"
          ],
          "name": "stdout"
        }
      ]
    },
    {
      "cell_type": "code",
      "metadata": {
        "id": "Uptp-rMy5qFd",
        "colab_type": "code",
        "colab": {}
      },
      "source": [
        "#import data - jupyter localhost\n",
        "\n",
        "# train = pd.read_csv('../datasets/AIMS_Train.csv')\n",
        "# test=  pd.read_csv('../datasets/AIMS_Test.csv')\n",
        "# submission = pd.read_csv('../datasets/AIMS_SampleSubmission.csv')\n",
        "# variables = pd.read_csv('../datasets/VariableDefinitions.csv')"
      ],
      "execution_count": null,
      "outputs": []
    },
    {
      "cell_type": "markdown",
      "metadata": {
        "id": "0emn0mTgoZsr",
        "colab_type": "text"
      },
      "source": [
        "#### Define Utility Functions"
      ]
    },
    {
      "cell_type": "markdown",
      "metadata": {
        "id": "qu3Ad6t6otiY",
        "colab_type": "text"
      },
      "source": [
        "> Calculate number of levels in categorical variables"
      ]
    },
    {
      "cell_type": "code",
      "metadata": {
        "id": "iKh6k5DEoh9Y",
        "colab_type": "code",
        "colab": {}
      },
      "source": [
        "def check_levels(data, exclude_cols=[]):\n",
        "    cat_cols = data.select_dtypes(include='object').columns.tolist()\n",
        "    \n",
        "    for col in cat_cols:\n",
        "        if col not in exclude_cols:\n",
        "            print('*-*'*10,'\\n')\n",
        "            print(data[col].value_counts())\n",
        "            plt.figure(figsize=(10,5)) \n",
        "            plt.title(f\"Value Counts of {col}\", fontsize=15)\n",
        "            data[col].value_counts(normalize=True).plot(kind='bar')\n",
        "            print('*-*'*10,'\\n')\n",
        "            plt.ylabel('counts')\n",
        "            plt.xlabel(col)"
      ],
      "execution_count": null,
      "outputs": []
    },
    {
      "cell_type": "markdown",
      "metadata": {
        "id": "F437FBvKpEqA",
        "colab_type": "text"
      },
      "source": [
        "> check for null values"
      ]
    },
    {
      "cell_type": "code",
      "metadata": {
        "id": "k3lCPn_josfC",
        "colab_type": "code",
        "colab": {}
      },
      "source": [
        "def check_null(data, plot=True):\n",
        "    print(data.isnull().sum()) \n",
        "    if plot:\n",
        "        plt.figure(figsize=(10,5))\n",
        "        plt.title(f\"Null Values Count\", fontsize=15)\n",
        "        data.isnull().sum().plot.bar()"
      ],
      "execution_count": null,
      "outputs": []
    },
    {
      "cell_type": "markdown",
      "metadata": {
        "id": "uNTHvdL2pPFs",
        "colab_type": "text"
      },
      "source": [
        "> check for outliers"
      ]
    },
    {
      "cell_type": "code",
      "metadata": {
        "id": "52YpxaR1pOXn",
        "colab_type": "code",
        "colab": {}
      },
      "source": [
        "def check_outliers(data, show_plot=False, save_img=os.getcwd()+'/outliers.png'):\n",
        " \n",
        "        \"\"\"\n",
        "        This functions checks for columns with outlers using the IQR method\n",
        "\n",
        "        It accespts as argmuent a dataset. \n",
        "        show_plot can be set to True to output pairplots of outlier columns    \n",
        "        \"\"\"\n",
        "\n",
        "        outliers = [] \n",
        "        Q1 = data.quantile(0.25)  \n",
        "        Q3 = data.quantile(0.75)\n",
        "        IQR = Q3 - Q1 \n",
        "        num_data = data.select_dtypes(include=['float64', 'int64'])\n",
        "        result = dict (((num_data < (Q1 - 1.5 * IQR)) | (num_data > (Q3 + 1.5 * IQR))).any())\n",
        "        print(result)  \n",
        "        index = data[(num_data < Q1 - 1.5 * IQR) | (num_data > Q3 + 1.5 * IQR)].index\n",
        "        for k,v in result.items(): \n",
        "            if v == True:  \n",
        "                outliers.append(k) \n",
        "        if show_plot:\n",
        "            outlier_pair_plot = sns.pairplot(data[outliers]); \n",
        "            print(f'{result},\\n\\n Visualization of outlier columns')\n",
        "            plt.savefig(fname=save_img, format='png')\n",
        "            return  outlier_pair_plot\n",
        "        else:\n",
        "            print(data.shape)\n",
        "            return data.loc[index, outliers] "
      ],
      "execution_count": null,
      "outputs": []
    },
    {
      "cell_type": "markdown",
      "metadata": {
        "id": "meK0n5G9Eddl",
        "colab_type": "text"
      },
      "source": [
        "> Define functions to mesaure predictions performance\n"
      ]
    },
    {
      "cell_type": "code",
      "metadata": {
        "id": "2l1hfmVJEaC_",
        "colab_type": "code",
        "colab": {}
      },
      "source": [
        "class PredMetrics():\n",
        "\n",
        "  def __init__(self, X, y, y_pred, y_true, model, scorer:make_scorer,\n",
        "                 verbose=False, cv=StratifiedKFold(random_state=123)):\n",
        "    \n",
        "    self.X = X \n",
        "    self.y = y\n",
        "    self.y_pred = y_pred\n",
        "    self.y_true = y_true\n",
        "    self.model = model\n",
        "    self.scorer = scorer\n",
        "    self.cv = cv \n",
        "\n",
        "  def __repr__(self):\n",
        "    return \"Prediction Metrics\"\n",
        "\n",
        "  \n",
        "  def cv_score(self):\n",
        "\n",
        "     self.cv_score_metric = cross_val_score(model = self.model, X=self.X, y=self.y, scoring = self.scorer, verbose=verbose, cv=self.cv)\n",
        "\n",
        "     return self.cv_score_metric\n",
        "\n",
        "  def conf_matrix(self):\n",
        "\n",
        "    self.conf_matrix_metric = confusion_matrix(y_true=self.y_true, y_pred=self.y_pred)\n",
        "\n",
        "    return self.conf_matrix_metric\n",
        "\n",
        "  def log_loss_score(self):\n",
        "\n",
        "    self.log_loss_metric = log_loss(y_true = self.y_true, y_pred = self.y_pred)\n",
        "\n",
        "    return self.log_loss_metric\n",
        "\n",
        "  def roc_curve(self):\n",
        "\n",
        "    self.plot_roc_metric = plot_roc_curve(self.model, X=self.X, y = self.y)\n",
        "      \n",
        "    return self.plot_roc_metric\n",
        "  \n",
        "  def class_report(self):\n",
        "\n",
        "    self.class_report_metric = classification_report_imbalanced(y_true = self.y_true, y_pred = self.y_pred)\n",
        "\n",
        "    return self.class_report_metric"
      ],
      "execution_count": null,
      "outputs": []
    },
    {
      "cell_type": "markdown",
      "metadata": {
        "id": "1nYHSrmGEXG5",
        "colab_type": "text"
      },
      "source": [
        "> Define functions to save satisifed predictions"
      ]
    },
    {
      "cell_type": "code",
      "metadata": {
        "id": "dBnOBTIDERrz",
        "colab_type": "code",
        "colab": {}
      },
      "source": [
        "def save_pred(y_hat, test_set, file_name =\"new_submission\"):\n",
        "  prediction_path = '/content/drive/My Drive/Zindi-Competionts/zimnat_Challenge_predicting_insurance_purchase/submissions/'\n",
        "  from datetime import datetime\n",
        "  file_name=file_name+datetime.now().strftime('%Y-%m-%d')\n",
        "  submissions = pd.DataFrame({'ID X PCODE':test_set['ID X PCODE'],'Label':y_hat})\n",
        "  submissions.to_csv(prediction_path+file_name, index=False)\n",
        "  return submissons "
      ],
      "execution_count": null,
      "outputs": []
    },
    {
      "cell_type": "markdown",
      "metadata": {
        "id": "3fnJT9gpxWPP",
        "colab_type": "text"
      },
      "source": [
        "#### Define Custom Estimators"
      ]
    },
    {
      "cell_type": "code",
      "metadata": {
        "id": "RnvJNUnIxbSz",
        "colab_type": "code",
        "colab": {}
      },
      "source": [
        ""
      ],
      "execution_count": null,
      "outputs": []
    },
    {
      "cell_type": "code",
      "metadata": {
        "id": "czqrIF1d5qFl",
        "colab_type": "code",
        "colab": {
          "base_uri": "https://localhost:8080/",
          "height": 663
        },
        "outputId": "fa26bd72-10c2-4993-9700-78638af1c62e"
      },
      "source": [
        "variables"
      ],
      "execution_count": null,
      "outputs": [
        {
          "output_type": "execute_result",
          "data": {
            "text/html": [
              "<div>\n",
              "<style scoped>\n",
              "    .dataframe tbody tr th:only-of-type {\n",
              "        vertical-align: middle;\n",
              "    }\n",
              "\n",
              "    .dataframe tbody tr th {\n",
              "        vertical-align: top;\n",
              "    }\n",
              "\n",
              "    .dataframe thead th {\n",
              "        text-align: right;\n",
              "    }\n",
              "</style>\n",
              "<table border=\"1\" class=\"dataframe\">\n",
              "  <thead>\n",
              "    <tr style=\"text-align: right;\">\n",
              "      <th></th>\n",
              "      <th>Unnamed: 0</th>\n",
              "      <th>Le dataset churn comprend 19 variables dont 15 variables numeriques et 04 variables categoriques.</th>\n",
              "      <th>The churn dataset includes 19 variables including 15 numeric variables and 04 categorical variables.</th>\n",
              "    </tr>\n",
              "  </thead>\n",
              "  <tbody>\n",
              "    <tr>\n",
              "      <th>0</th>\n",
              "      <td>user_id</td>\n",
              "      <td>NaN</td>\n",
              "      <td>NaN</td>\n",
              "    </tr>\n",
              "    <tr>\n",
              "      <th>1</th>\n",
              "      <td>REGION</td>\n",
              "      <td>la localité de chaque client</td>\n",
              "      <td>the location of each client</td>\n",
              "    </tr>\n",
              "    <tr>\n",
              "      <th>2</th>\n",
              "      <td>TENURE</td>\n",
              "      <td>la durée dans le reseau</td>\n",
              "      <td>duration in the network</td>\n",
              "    </tr>\n",
              "    <tr>\n",
              "      <th>3</th>\n",
              "      <td>MONTANT</td>\n",
              "      <td>montant de recharge</td>\n",
              "      <td>top-up amount</td>\n",
              "    </tr>\n",
              "    <tr>\n",
              "      <th>4</th>\n",
              "      <td>FREQUENCE_RECH</td>\n",
              "      <td>nombre de fois que le client a fait une recharge</td>\n",
              "      <td>number of times the customer refilled</td>\n",
              "    </tr>\n",
              "    <tr>\n",
              "      <th>5</th>\n",
              "      <td>REVENUE</td>\n",
              "      <td>revenu mensuel de chaque client</td>\n",
              "      <td>monthly income of each client</td>\n",
              "    </tr>\n",
              "    <tr>\n",
              "      <th>6</th>\n",
              "      <td>ARPU_SEGMENT</td>\n",
              "      <td>revenu sur 90 jours/3</td>\n",
              "      <td>income over 90 days / 3</td>\n",
              "    </tr>\n",
              "    <tr>\n",
              "      <th>7</th>\n",
              "      <td>FREQUENCE</td>\n",
              "      <td>nombre de fois que client à fait un revenu</td>\n",
              "      <td>number of times the client has made an income</td>\n",
              "    </tr>\n",
              "    <tr>\n",
              "      <th>8</th>\n",
              "      <td>DATA_VOLUME</td>\n",
              "      <td>nombre de connexions</td>\n",
              "      <td>number of connections</td>\n",
              "    </tr>\n",
              "    <tr>\n",
              "      <th>9</th>\n",
              "      <td>ON_NET</td>\n",
              "      <td>appel inter expresso</td>\n",
              "      <td>inter expresso call</td>\n",
              "    </tr>\n",
              "    <tr>\n",
              "      <th>10</th>\n",
              "      <td>ORANGE</td>\n",
              "      <td>appel vers orange</td>\n",
              "      <td>call to orange</td>\n",
              "    </tr>\n",
              "    <tr>\n",
              "      <th>11</th>\n",
              "      <td>TIGO</td>\n",
              "      <td>appel vers Tigo</td>\n",
              "      <td>call to Tigo</td>\n",
              "    </tr>\n",
              "    <tr>\n",
              "      <th>12</th>\n",
              "      <td>ZONE1</td>\n",
              "      <td>appel vers les zone1</td>\n",
              "      <td>call to zones1</td>\n",
              "    </tr>\n",
              "    <tr>\n",
              "      <th>13</th>\n",
              "      <td>ZONE2</td>\n",
              "      <td>appel vers les zone2</td>\n",
              "      <td>call to zones2</td>\n",
              "    </tr>\n",
              "    <tr>\n",
              "      <th>14</th>\n",
              "      <td>MRG</td>\n",
              "      <td>un client qui fait du vas</td>\n",
              "      <td>a client who is going</td>\n",
              "    </tr>\n",
              "    <tr>\n",
              "      <th>15</th>\n",
              "      <td>REGULARITY</td>\n",
              "      <td>nombre de fois que le client est actif pendant...</td>\n",
              "      <td>number of times the client is active for 90 days</td>\n",
              "    </tr>\n",
              "    <tr>\n",
              "      <th>16</th>\n",
              "      <td>TOP_PACK</td>\n",
              "      <td>les pack les plus activés</td>\n",
              "      <td>the most active packs</td>\n",
              "    </tr>\n",
              "    <tr>\n",
              "      <th>17</th>\n",
              "      <td>FREQ_TOP_PACK</td>\n",
              "      <td>nombre de fois que le client a activé les pack...</td>\n",
              "      <td>number of times the client has activated the t...</td>\n",
              "    </tr>\n",
              "    <tr>\n",
              "      <th>18</th>\n",
              "      <td>CHURN</td>\n",
              "      <td>variable à predire - Target</td>\n",
              "      <td>variable to predict - Target</td>\n",
              "    </tr>\n",
              "  </tbody>\n",
              "</table>\n",
              "</div>"
            ],
            "text/plain": [
              "        Unnamed: 0  ... The churn dataset includes 19 variables including 15 numeric variables and 04 categorical variables.\n",
              "0          user_id  ...                                                NaN                                                  \n",
              "1           REGION  ...                        the location of each client                                                  \n",
              "2           TENURE  ...                            duration in the network                                                  \n",
              "3          MONTANT  ...                                      top-up amount                                                  \n",
              "4   FREQUENCE_RECH  ...              number of times the customer refilled                                                  \n",
              "5          REVENUE  ...                      monthly income of each client                                                  \n",
              "6     ARPU_SEGMENT  ...                            income over 90 days / 3                                                  \n",
              "7        FREQUENCE  ...      number of times the client has made an income                                                  \n",
              "8      DATA_VOLUME  ...                              number of connections                                                  \n",
              "9           ON_NET  ...                                inter expresso call                                                  \n",
              "10          ORANGE  ...                                     call to orange                                                  \n",
              "11            TIGO  ...                                       call to Tigo                                                  \n",
              "12           ZONE1  ...                                     call to zones1                                                  \n",
              "13           ZONE2  ...                                     call to zones2                                                  \n",
              "14             MRG  ...                              a client who is going                                                  \n",
              "15      REGULARITY  ...   number of times the client is active for 90 days                                                  \n",
              "16        TOP_PACK  ...                              the most active packs                                                  \n",
              "17   FREQ_TOP_PACK  ...  number of times the client has activated the t...                                                  \n",
              "18           CHURN  ...                       variable to predict - Target                                                  \n",
              "\n",
              "[19 rows x 3 columns]"
            ]
          },
          "metadata": {
            "tags": []
          },
          "execution_count": 19
        }
      ]
    },
    {
      "cell_type": "code",
      "metadata": {
        "id": "Kpec6XGXPVyp",
        "colab_type": "code",
        "colab": {
          "base_uri": "https://localhost:8080/",
          "height": 469
        },
        "outputId": "5e572ce8-2589-4138-9a1a-93ed5be80db7"
      },
      "source": [
        "train.info() "
      ],
      "execution_count": null,
      "outputs": [
        {
          "output_type": "stream",
          "text": [
            "<class 'pandas.core.frame.DataFrame'>\n",
            "RangeIndex: 646214 entries, 0 to 646213\n",
            "Data columns (total 19 columns):\n",
            " #   Column          Non-Null Count   Dtype  \n",
            "---  ------          --------------   -----  \n",
            " 0   user_id         646214 non-null  object \n",
            " 1   REGION          391246 non-null  object \n",
            " 2   TENURE          646214 non-null  object \n",
            " 3   MONTANT         419154 non-null  float64\n",
            " 4   FREQUENCE_RECH  419154 non-null  float64\n",
            " 5   REVENUE         428459 non-null  float64\n",
            " 6   ARPU_SEGMENT    428459 non-null  float64\n",
            " 7   FREQUENCE       428459 non-null  float64\n",
            " 8   DATA_VOLUME     327544 non-null  float64\n",
            " 9   ON_NET          409962 non-null  float64\n",
            " 10  ORANGE          377516 non-null  float64\n",
            " 11  TIGO            259060 non-null  float64\n",
            " 12  ZONE1           50406 non-null   float64\n",
            " 13  ZONE2           41072 non-null   float64\n",
            " 14  MRG             646214 non-null  object \n",
            " 15  REGULARITY      646214 non-null  int64  \n",
            " 16  TOP_PACK        375331 non-null  object \n",
            " 17  FREQ_TOP_PACK   375331 non-null  float64\n",
            " 18  CHURN           646214 non-null  int64  \n",
            "dtypes: float64(12), int64(2), object(5)\n",
            "memory usage: 93.7+ MB\n"
          ],
          "name": "stdout"
        }
      ]
    },
    {
      "cell_type": "code",
      "metadata": {
        "id": "5gw8z5ta5qFy",
        "colab_type": "code",
        "colab": {
          "base_uri": "https://localhost:8080/",
          "height": 313
        },
        "outputId": "84cf17a7-d126-4f68-fc70-eeae327bc403"
      },
      "source": [
        "# train.drop(columns=['REGION', 'TOP_PACK', 'MRG'], inplace=True) \n",
        "train #s= train.sample(frac=.3, random_state=123) \n",
        "train.head() "
      ],
      "execution_count": null,
      "outputs": [
        {
          "output_type": "execute_result",
          "data": {
            "text/html": [
              "<div>\n",
              "<style scoped>\n",
              "    .dataframe tbody tr th:only-of-type {\n",
              "        vertical-align: middle;\n",
              "    }\n",
              "\n",
              "    .dataframe tbody tr th {\n",
              "        vertical-align: top;\n",
              "    }\n",
              "\n",
              "    .dataframe thead th {\n",
              "        text-align: right;\n",
              "    }\n",
              "</style>\n",
              "<table border=\"1\" class=\"dataframe\">\n",
              "  <thead>\n",
              "    <tr style=\"text-align: right;\">\n",
              "      <th></th>\n",
              "      <th>user_id</th>\n",
              "      <th>REGION</th>\n",
              "      <th>TENURE</th>\n",
              "      <th>MONTANT</th>\n",
              "      <th>FREQUENCE_RECH</th>\n",
              "      <th>REVENUE</th>\n",
              "      <th>ARPU_SEGMENT</th>\n",
              "      <th>FREQUENCE</th>\n",
              "      <th>DATA_VOLUME</th>\n",
              "      <th>ON_NET</th>\n",
              "      <th>ORANGE</th>\n",
              "      <th>TIGO</th>\n",
              "      <th>ZONE1</th>\n",
              "      <th>ZONE2</th>\n",
              "      <th>MRG</th>\n",
              "      <th>REGULARITY</th>\n",
              "      <th>TOP_PACK</th>\n",
              "      <th>FREQ_TOP_PACK</th>\n",
              "      <th>CHURN</th>\n",
              "    </tr>\n",
              "  </thead>\n",
              "  <tbody>\n",
              "    <tr>\n",
              "      <th>0</th>\n",
              "      <td>51d5367a58953904c14238c4dd7393f5c4fd0a88</td>\n",
              "      <td>MATAM</td>\n",
              "      <td>K &gt; 24 month</td>\n",
              "      <td>1000.0</td>\n",
              "      <td>1.0</td>\n",
              "      <td>990.0</td>\n",
              "      <td>330.0</td>\n",
              "      <td>1.0</td>\n",
              "      <td>97.0</td>\n",
              "      <td>1.0</td>\n",
              "      <td>NaN</td>\n",
              "      <td>NaN</td>\n",
              "      <td>NaN</td>\n",
              "      <td>NaN</td>\n",
              "      <td>NO</td>\n",
              "      <td>22</td>\n",
              "      <td>Data:1000F=2GB,30d</td>\n",
              "      <td>1.0</td>\n",
              "      <td>0</td>\n",
              "    </tr>\n",
              "    <tr>\n",
              "      <th>1</th>\n",
              "      <td>3322a4900689f7f3cb14b8f9ea00778853f02d75</td>\n",
              "      <td>DIOURBEL</td>\n",
              "      <td>K &gt; 24 month</td>\n",
              "      <td>NaN</td>\n",
              "      <td>NaN</td>\n",
              "      <td>NaN</td>\n",
              "      <td>NaN</td>\n",
              "      <td>NaN</td>\n",
              "      <td>223.0</td>\n",
              "      <td>NaN</td>\n",
              "      <td>NaN</td>\n",
              "      <td>NaN</td>\n",
              "      <td>NaN</td>\n",
              "      <td>NaN</td>\n",
              "      <td>NO</td>\n",
              "      <td>4</td>\n",
              "      <td>NaN</td>\n",
              "      <td>NaN</td>\n",
              "      <td>0</td>\n",
              "    </tr>\n",
              "    <tr>\n",
              "      <th>2</th>\n",
              "      <td>3b00ec4bfcc855c6f39b14a722e47ec6d15607e7</td>\n",
              "      <td>DAKAR</td>\n",
              "      <td>K &gt; 24 month</td>\n",
              "      <td>700.0</td>\n",
              "      <td>5.0</td>\n",
              "      <td>1010.0</td>\n",
              "      <td>337.0</td>\n",
              "      <td>7.0</td>\n",
              "      <td>566.0</td>\n",
              "      <td>1.0</td>\n",
              "      <td>3.0</td>\n",
              "      <td>15.0</td>\n",
              "      <td>0.0</td>\n",
              "      <td>NaN</td>\n",
              "      <td>NO</td>\n",
              "      <td>8</td>\n",
              "      <td>Data: 100 F=40MB,24H</td>\n",
              "      <td>3.0</td>\n",
              "      <td>0</td>\n",
              "    </tr>\n",
              "    <tr>\n",
              "      <th>3</th>\n",
              "      <td>98c44b62c33c6a1d9dbcf5e918868419f249c4a8</td>\n",
              "      <td>LOUGA</td>\n",
              "      <td>K &gt; 24 month</td>\n",
              "      <td>NaN</td>\n",
              "      <td>NaN</td>\n",
              "      <td>NaN</td>\n",
              "      <td>NaN</td>\n",
              "      <td>NaN</td>\n",
              "      <td>NaN</td>\n",
              "      <td>NaN</td>\n",
              "      <td>NaN</td>\n",
              "      <td>NaN</td>\n",
              "      <td>NaN</td>\n",
              "      <td>NaN</td>\n",
              "      <td>NO</td>\n",
              "      <td>3</td>\n",
              "      <td>NaN</td>\n",
              "      <td>NaN</td>\n",
              "      <td>0</td>\n",
              "    </tr>\n",
              "    <tr>\n",
              "      <th>4</th>\n",
              "      <td>18bd8c41ecb503a2d9137e3f70bc1caf146a266d</td>\n",
              "      <td>NaN</td>\n",
              "      <td>K &gt; 24 month</td>\n",
              "      <td>3000.0</td>\n",
              "      <td>3.0</td>\n",
              "      <td>2995.0</td>\n",
              "      <td>998.0</td>\n",
              "      <td>3.0</td>\n",
              "      <td>NaN</td>\n",
              "      <td>NaN</td>\n",
              "      <td>33.0</td>\n",
              "      <td>NaN</td>\n",
              "      <td>NaN</td>\n",
              "      <td>NaN</td>\n",
              "      <td>NO</td>\n",
              "      <td>9</td>\n",
              "      <td>NaN</td>\n",
              "      <td>NaN</td>\n",
              "      <td>0</td>\n",
              "    </tr>\n",
              "  </tbody>\n",
              "</table>\n",
              "</div>"
            ],
            "text/plain": [
              "                                    user_id    REGION  ... FREQ_TOP_PACK  CHURN\n",
              "0  51d5367a58953904c14238c4dd7393f5c4fd0a88     MATAM  ...           1.0      0\n",
              "1  3322a4900689f7f3cb14b8f9ea00778853f02d75  DIOURBEL  ...           NaN      0\n",
              "2  3b00ec4bfcc855c6f39b14a722e47ec6d15607e7     DAKAR  ...           3.0      0\n",
              "3  98c44b62c33c6a1d9dbcf5e918868419f249c4a8     LOUGA  ...           NaN      0\n",
              "4  18bd8c41ecb503a2d9137e3f70bc1caf146a266d       NaN  ...           NaN      0\n",
              "\n",
              "[5 rows x 19 columns]"
            ]
          },
          "metadata": {
            "tags": []
          },
          "execution_count": 21
        }
      ]
    },
    {
      "cell_type": "code",
      "metadata": {
        "id": "012f_WXe5qF6",
        "colab_type": "code",
        "colab": {
          "base_uri": "https://localhost:8080/",
          "height": 313
        },
        "outputId": "cb4a9cfe-8f2b-45c0-b654-a908ef968382"
      },
      "source": [
        "train.tail()"
      ],
      "execution_count": null,
      "outputs": [
        {
          "output_type": "execute_result",
          "data": {
            "text/html": [
              "<div>\n",
              "<style scoped>\n",
              "    .dataframe tbody tr th:only-of-type {\n",
              "        vertical-align: middle;\n",
              "    }\n",
              "\n",
              "    .dataframe tbody tr th {\n",
              "        vertical-align: top;\n",
              "    }\n",
              "\n",
              "    .dataframe thead th {\n",
              "        text-align: right;\n",
              "    }\n",
              "</style>\n",
              "<table border=\"1\" class=\"dataframe\">\n",
              "  <thead>\n",
              "    <tr style=\"text-align: right;\">\n",
              "      <th></th>\n",
              "      <th>user_id</th>\n",
              "      <th>REGION</th>\n",
              "      <th>TENURE</th>\n",
              "      <th>MONTANT</th>\n",
              "      <th>FREQUENCE_RECH</th>\n",
              "      <th>REVENUE</th>\n",
              "      <th>ARPU_SEGMENT</th>\n",
              "      <th>FREQUENCE</th>\n",
              "      <th>DATA_VOLUME</th>\n",
              "      <th>ON_NET</th>\n",
              "      <th>ORANGE</th>\n",
              "      <th>TIGO</th>\n",
              "      <th>ZONE1</th>\n",
              "      <th>ZONE2</th>\n",
              "      <th>MRG</th>\n",
              "      <th>REGULARITY</th>\n",
              "      <th>TOP_PACK</th>\n",
              "      <th>FREQ_TOP_PACK</th>\n",
              "      <th>CHURN</th>\n",
              "    </tr>\n",
              "  </thead>\n",
              "  <tbody>\n",
              "    <tr>\n",
              "      <th>646209</th>\n",
              "      <td>1c778c81cdcc43cb410db142935d1483367c24aa</td>\n",
              "      <td>KAOLACK</td>\n",
              "      <td>K &gt; 24 month</td>\n",
              "      <td>NaN</td>\n",
              "      <td>NaN</td>\n",
              "      <td>NaN</td>\n",
              "      <td>NaN</td>\n",
              "      <td>NaN</td>\n",
              "      <td>NaN</td>\n",
              "      <td>NaN</td>\n",
              "      <td>NaN</td>\n",
              "      <td>NaN</td>\n",
              "      <td>NaN</td>\n",
              "      <td>NaN</td>\n",
              "      <td>NO</td>\n",
              "      <td>1</td>\n",
              "      <td>NaN</td>\n",
              "      <td>NaN</td>\n",
              "      <td>0</td>\n",
              "    </tr>\n",
              "    <tr>\n",
              "      <th>646210</th>\n",
              "      <td>e13ff861de0ffd7a51084963634ccd027597511c</td>\n",
              "      <td>SAINT-LOUIS</td>\n",
              "      <td>K &gt; 24 month</td>\n",
              "      <td>1500.0</td>\n",
              "      <td>3.0</td>\n",
              "      <td>1500.0</td>\n",
              "      <td>500.0</td>\n",
              "      <td>3.0</td>\n",
              "      <td>NaN</td>\n",
              "      <td>28.0</td>\n",
              "      <td>53.0</td>\n",
              "      <td>NaN</td>\n",
              "      <td>NaN</td>\n",
              "      <td>NaN</td>\n",
              "      <td>NO</td>\n",
              "      <td>32</td>\n",
              "      <td>MIXT:500F= 2500F on net _2500F off net;2d</td>\n",
              "      <td>2.0</td>\n",
              "      <td>0</td>\n",
              "    </tr>\n",
              "    <tr>\n",
              "      <th>646211</th>\n",
              "      <td>03ec81dadb13af0876d579a24a033ab27e7e2913</td>\n",
              "      <td>THIES</td>\n",
              "      <td>K &gt; 24 month</td>\n",
              "      <td>13000.0</td>\n",
              "      <td>26.0</td>\n",
              "      <td>14000.0</td>\n",
              "      <td>4667.0</td>\n",
              "      <td>26.0</td>\n",
              "      <td>NaN</td>\n",
              "      <td>2973.0</td>\n",
              "      <td>183.0</td>\n",
              "      <td>50.0</td>\n",
              "      <td>NaN</td>\n",
              "      <td>NaN</td>\n",
              "      <td>NO</td>\n",
              "      <td>58</td>\n",
              "      <td>On-net 500F_FNF;3d</td>\n",
              "      <td>15.0</td>\n",
              "      <td>0</td>\n",
              "    </tr>\n",
              "    <tr>\n",
              "      <th>646212</th>\n",
              "      <td>c265e207e32f0573881ddcfa312022ee33372d4b</td>\n",
              "      <td>NaN</td>\n",
              "      <td>K &gt; 24 month</td>\n",
              "      <td>3100.0</td>\n",
              "      <td>4.0</td>\n",
              "      <td>3033.0</td>\n",
              "      <td>1011.0</td>\n",
              "      <td>4.0</td>\n",
              "      <td>12905.0</td>\n",
              "      <td>NaN</td>\n",
              "      <td>0.0</td>\n",
              "      <td>NaN</td>\n",
              "      <td>NaN</td>\n",
              "      <td>NaN</td>\n",
              "      <td>NO</td>\n",
              "      <td>24</td>\n",
              "      <td>Data:1000F=5GB,7d</td>\n",
              "      <td>3.0</td>\n",
              "      <td>0</td>\n",
              "    </tr>\n",
              "    <tr>\n",
              "      <th>646213</th>\n",
              "      <td>3fab267c587943cd2afedf8066b6a4b698220421</td>\n",
              "      <td>KOLDA</td>\n",
              "      <td>K &gt; 24 month</td>\n",
              "      <td>6500.0</td>\n",
              "      <td>12.0</td>\n",
              "      <td>6500.0</td>\n",
              "      <td>2167.0</td>\n",
              "      <td>11.0</td>\n",
              "      <td>NaN</td>\n",
              "      <td>49.0</td>\n",
              "      <td>220.0</td>\n",
              "      <td>NaN</td>\n",
              "      <td>NaN</td>\n",
              "      <td>NaN</td>\n",
              "      <td>NO</td>\n",
              "      <td>57</td>\n",
              "      <td>All-net 500F =2000F_AllNet_Unlimited</td>\n",
              "      <td>13.0</td>\n",
              "      <td>0</td>\n",
              "    </tr>\n",
              "  </tbody>\n",
              "</table>\n",
              "</div>"
            ],
            "text/plain": [
              "                                         user_id  ... CHURN\n",
              "646209  1c778c81cdcc43cb410db142935d1483367c24aa  ...     0\n",
              "646210  e13ff861de0ffd7a51084963634ccd027597511c  ...     0\n",
              "646211  03ec81dadb13af0876d579a24a033ab27e7e2913  ...     0\n",
              "646212  c265e207e32f0573881ddcfa312022ee33372d4b  ...     0\n",
              "646213  3fab267c587943cd2afedf8066b6a4b698220421  ...     0\n",
              "\n",
              "[5 rows x 19 columns]"
            ]
          },
          "metadata": {
            "tags": []
          },
          "execution_count": 22
        }
      ]
    },
    {
      "cell_type": "code",
      "metadata": {
        "id": "nhT-Bi-P5qGC",
        "colab_type": "code",
        "colab": {
          "base_uri": "https://localhost:8080/",
          "height": 34
        },
        "outputId": "de03715f-975f-4887-a9bd-a09092b9c3b2"
      },
      "source": [
        "train.shape"
      ],
      "execution_count": null,
      "outputs": [
        {
          "output_type": "execute_result",
          "data": {
            "text/plain": [
              "(646214, 19)"
            ]
          },
          "metadata": {
            "tags": []
          },
          "execution_count": 23
        }
      ]
    },
    {
      "cell_type": "code",
      "metadata": {
        "id": "24uxEMRb5qGK",
        "colab_type": "code",
        "colab": {
          "base_uri": "https://localhost:8080/",
          "height": 469
        },
        "outputId": "4e3e2302-f3ed-4c3e-de4d-01d21284c278"
      },
      "source": [
        "#view the data types in the train data\n",
        "train.info()"
      ],
      "execution_count": null,
      "outputs": [
        {
          "output_type": "stream",
          "text": [
            "<class 'pandas.core.frame.DataFrame'>\n",
            "RangeIndex: 646214 entries, 0 to 646213\n",
            "Data columns (total 19 columns):\n",
            " #   Column          Non-Null Count   Dtype  \n",
            "---  ------          --------------   -----  \n",
            " 0   user_id         646214 non-null  object \n",
            " 1   REGION          391246 non-null  object \n",
            " 2   TENURE          646214 non-null  object \n",
            " 3   MONTANT         419154 non-null  float64\n",
            " 4   FREQUENCE_RECH  419154 non-null  float64\n",
            " 5   REVENUE         428459 non-null  float64\n",
            " 6   ARPU_SEGMENT    428459 non-null  float64\n",
            " 7   FREQUENCE       428459 non-null  float64\n",
            " 8   DATA_VOLUME     327544 non-null  float64\n",
            " 9   ON_NET          409962 non-null  float64\n",
            " 10  ORANGE          377516 non-null  float64\n",
            " 11  TIGO            259060 non-null  float64\n",
            " 12  ZONE1           50406 non-null   float64\n",
            " 13  ZONE2           41072 non-null   float64\n",
            " 14  MRG             646214 non-null  object \n",
            " 15  REGULARITY      646214 non-null  int64  \n",
            " 16  TOP_PACK        375331 non-null  object \n",
            " 17  FREQ_TOP_PACK   375331 non-null  float64\n",
            " 18  CHURN           646214 non-null  int64  \n",
            "dtypes: float64(12), int64(2), object(5)\n",
            "memory usage: 93.7+ MB\n"
          ],
          "name": "stdout"
        }
      ]
    },
    {
      "cell_type": "code",
      "metadata": {
        "id": "4Semj3JpPbYi",
        "colab_type": "code",
        "colab": {
          "base_uri": "https://localhost:8080/",
          "height": 451
        },
        "outputId": "b8383ac6-e0b4-4647-cb5c-9bf98f6b2880"
      },
      "source": [
        "test.info()"
      ],
      "execution_count": null,
      "outputs": [
        {
          "output_type": "stream",
          "text": [
            "<class 'pandas.core.frame.DataFrame'>\n",
            "RangeIndex: 114038 entries, 0 to 114037\n",
            "Data columns (total 18 columns):\n",
            " #   Column          Non-Null Count   Dtype  \n",
            "---  ------          --------------   -----  \n",
            " 0   user_id         114038 non-null  object \n",
            " 1   REGION          69081 non-null   object \n",
            " 2   TENURE          114038 non-null  object \n",
            " 3   MONTANT         74135 non-null   float64\n",
            " 4   FREQUENCE_RECH  74135 non-null   float64\n",
            " 5   REVENUE         75854 non-null   float64\n",
            " 6   ARPU_SEGMENT    75854 non-null   float64\n",
            " 7   FREQUENCE       75854 non-null   float64\n",
            " 8   DATA_VOLUME     58049 non-null   float64\n",
            " 9   ON_NET          72436 non-null   float64\n",
            " 10  ORANGE          66823 non-null   float64\n",
            " 11  TIGO            45908 non-null   float64\n",
            " 12  ZONE1           9011 non-null    float64\n",
            " 13  ZONE2           7217 non-null    float64\n",
            " 14  MRG             114038 non-null  object \n",
            " 15  REGULARITY      114038 non-null  int64  \n",
            " 16  TOP_PACK        66425 non-null   object \n",
            " 17  FREQ_TOP_PACK   66425 non-null   float64\n",
            "dtypes: float64(12), int64(1), object(5)\n",
            "memory usage: 15.7+ MB\n"
          ],
          "name": "stdout"
        }
      ]
    },
    {
      "cell_type": "code",
      "metadata": {
        "id": "7nPeA_Md5qGS",
        "colab_type": "code",
        "colab": {
          "base_uri": "https://localhost:8080/",
          "height": 313
        },
        "outputId": "7f1e6e5e-b238-4229-a326-cd9a8ffd6520"
      },
      "source": [
        "# test.drop(columns=['REGION', 'TOP_PACK', 'MRG'], inplace=True) \n",
        "test #= test.sample(frac=.3, random_state=123)\n",
        "test.head()  "
      ],
      "execution_count": null,
      "outputs": [
        {
          "output_type": "execute_result",
          "data": {
            "text/html": [
              "<div>\n",
              "<style scoped>\n",
              "    .dataframe tbody tr th:only-of-type {\n",
              "        vertical-align: middle;\n",
              "    }\n",
              "\n",
              "    .dataframe tbody tr th {\n",
              "        vertical-align: top;\n",
              "    }\n",
              "\n",
              "    .dataframe thead th {\n",
              "        text-align: right;\n",
              "    }\n",
              "</style>\n",
              "<table border=\"1\" class=\"dataframe\">\n",
              "  <thead>\n",
              "    <tr style=\"text-align: right;\">\n",
              "      <th></th>\n",
              "      <th>user_id</th>\n",
              "      <th>REGION</th>\n",
              "      <th>TENURE</th>\n",
              "      <th>MONTANT</th>\n",
              "      <th>FREQUENCE_RECH</th>\n",
              "      <th>REVENUE</th>\n",
              "      <th>ARPU_SEGMENT</th>\n",
              "      <th>FREQUENCE</th>\n",
              "      <th>DATA_VOLUME</th>\n",
              "      <th>ON_NET</th>\n",
              "      <th>ORANGE</th>\n",
              "      <th>TIGO</th>\n",
              "      <th>ZONE1</th>\n",
              "      <th>ZONE2</th>\n",
              "      <th>MRG</th>\n",
              "      <th>REGULARITY</th>\n",
              "      <th>TOP_PACK</th>\n",
              "      <th>FREQ_TOP_PACK</th>\n",
              "    </tr>\n",
              "  </thead>\n",
              "  <tbody>\n",
              "    <tr>\n",
              "      <th>0</th>\n",
              "      <td>c1b31e7cef249f2b777d934886b787a433029263</td>\n",
              "      <td>DAKAR</td>\n",
              "      <td>K &gt; 24 month</td>\n",
              "      <td>10600.0</td>\n",
              "      <td>18.0</td>\n",
              "      <td>11099.0</td>\n",
              "      <td>3700.0</td>\n",
              "      <td>22.0</td>\n",
              "      <td>4004.0</td>\n",
              "      <td>60.0</td>\n",
              "      <td>123.0</td>\n",
              "      <td>19.0</td>\n",
              "      <td>NaN</td>\n",
              "      <td>NaN</td>\n",
              "      <td>NO</td>\n",
              "      <td>61</td>\n",
              "      <td>All-net 500F=2000F;5d</td>\n",
              "      <td>9.0</td>\n",
              "    </tr>\n",
              "    <tr>\n",
              "      <th>1</th>\n",
              "      <td>c205f3aff8486b0bed1051f3bf25fe04df7f671e</td>\n",
              "      <td>KAOLACK</td>\n",
              "      <td>K &gt; 24 month</td>\n",
              "      <td>NaN</td>\n",
              "      <td>NaN</td>\n",
              "      <td>NaN</td>\n",
              "      <td>NaN</td>\n",
              "      <td>NaN</td>\n",
              "      <td>0.0</td>\n",
              "      <td>7.0</td>\n",
              "      <td>NaN</td>\n",
              "      <td>NaN</td>\n",
              "      <td>NaN</td>\n",
              "      <td>NaN</td>\n",
              "      <td>NO</td>\n",
              "      <td>6</td>\n",
              "      <td>NaN</td>\n",
              "      <td>NaN</td>\n",
              "    </tr>\n",
              "    <tr>\n",
              "      <th>2</th>\n",
              "      <td>d743faaf50bbc43e02a08a2c2f4326f6d368fb25</td>\n",
              "      <td>THIES</td>\n",
              "      <td>K &gt; 24 month</td>\n",
              "      <td>17900.0</td>\n",
              "      <td>36.0</td>\n",
              "      <td>18405.0</td>\n",
              "      <td>6135.0</td>\n",
              "      <td>44.0</td>\n",
              "      <td>0.0</td>\n",
              "      <td>446.0</td>\n",
              "      <td>50.0</td>\n",
              "      <td>28.0</td>\n",
              "      <td>2.0</td>\n",
              "      <td>NaN</td>\n",
              "      <td>NO</td>\n",
              "      <td>62</td>\n",
              "      <td>On-net 1000F=10MilF;10d</td>\n",
              "      <td>9.0</td>\n",
              "    </tr>\n",
              "    <tr>\n",
              "      <th>3</th>\n",
              "      <td>c4e45ed21d5e2f64146b95fecbbb6b24740f803c</td>\n",
              "      <td>DAKAR</td>\n",
              "      <td>K &gt; 24 month</td>\n",
              "      <td>10000.0</td>\n",
              "      <td>10.0</td>\n",
              "      <td>10001.0</td>\n",
              "      <td>3334.0</td>\n",
              "      <td>27.0</td>\n",
              "      <td>NaN</td>\n",
              "      <td>0.0</td>\n",
              "      <td>93.0</td>\n",
              "      <td>8.0</td>\n",
              "      <td>NaN</td>\n",
              "      <td>NaN</td>\n",
              "      <td>NO</td>\n",
              "      <td>45</td>\n",
              "      <td>All-net 500F=2000F;5d</td>\n",
              "      <td>12.0</td>\n",
              "    </tr>\n",
              "    <tr>\n",
              "      <th>4</th>\n",
              "      <td>96c6a822243654ae1fe5f5f887089681f806cb46</td>\n",
              "      <td>THIES</td>\n",
              "      <td>K &gt; 24 month</td>\n",
              "      <td>500.0</td>\n",
              "      <td>1.0</td>\n",
              "      <td>500.0</td>\n",
              "      <td>167.0</td>\n",
              "      <td>1.0</td>\n",
              "      <td>NaN</td>\n",
              "      <td>8.0</td>\n",
              "      <td>14.0</td>\n",
              "      <td>NaN</td>\n",
              "      <td>NaN</td>\n",
              "      <td>NaN</td>\n",
              "      <td>NO</td>\n",
              "      <td>8</td>\n",
              "      <td>All-net 500F=2000F;5d</td>\n",
              "      <td>1.0</td>\n",
              "    </tr>\n",
              "  </tbody>\n",
              "</table>\n",
              "</div>"
            ],
            "text/plain": [
              "                                    user_id  ... FREQ_TOP_PACK\n",
              "0  c1b31e7cef249f2b777d934886b787a433029263  ...           9.0\n",
              "1  c205f3aff8486b0bed1051f3bf25fe04df7f671e  ...           NaN\n",
              "2  d743faaf50bbc43e02a08a2c2f4326f6d368fb25  ...           9.0\n",
              "3  c4e45ed21d5e2f64146b95fecbbb6b24740f803c  ...          12.0\n",
              "4  96c6a822243654ae1fe5f5f887089681f806cb46  ...           1.0\n",
              "\n",
              "[5 rows x 18 columns]"
            ]
          },
          "metadata": {
            "tags": []
          },
          "execution_count": 26
        }
      ]
    },
    {
      "cell_type": "code",
      "metadata": {
        "id": "4DJt8j5R5qGc",
        "colab_type": "code",
        "colab": {
          "base_uri": "https://localhost:8080/",
          "height": 313
        },
        "outputId": "35abd21d-9446-4a4a-aaa8-4562dc167e5e"
      },
      "source": [
        "test.tail()"
      ],
      "execution_count": null,
      "outputs": [
        {
          "output_type": "execute_result",
          "data": {
            "text/html": [
              "<div>\n",
              "<style scoped>\n",
              "    .dataframe tbody tr th:only-of-type {\n",
              "        vertical-align: middle;\n",
              "    }\n",
              "\n",
              "    .dataframe tbody tr th {\n",
              "        vertical-align: top;\n",
              "    }\n",
              "\n",
              "    .dataframe thead th {\n",
              "        text-align: right;\n",
              "    }\n",
              "</style>\n",
              "<table border=\"1\" class=\"dataframe\">\n",
              "  <thead>\n",
              "    <tr style=\"text-align: right;\">\n",
              "      <th></th>\n",
              "      <th>user_id</th>\n",
              "      <th>REGION</th>\n",
              "      <th>TENURE</th>\n",
              "      <th>MONTANT</th>\n",
              "      <th>FREQUENCE_RECH</th>\n",
              "      <th>REVENUE</th>\n",
              "      <th>ARPU_SEGMENT</th>\n",
              "      <th>FREQUENCE</th>\n",
              "      <th>DATA_VOLUME</th>\n",
              "      <th>ON_NET</th>\n",
              "      <th>ORANGE</th>\n",
              "      <th>TIGO</th>\n",
              "      <th>ZONE1</th>\n",
              "      <th>ZONE2</th>\n",
              "      <th>MRG</th>\n",
              "      <th>REGULARITY</th>\n",
              "      <th>TOP_PACK</th>\n",
              "      <th>FREQ_TOP_PACK</th>\n",
              "    </tr>\n",
              "  </thead>\n",
              "  <tbody>\n",
              "    <tr>\n",
              "      <th>114033</th>\n",
              "      <td>5716c645907ed2fc642414ce4072eddf284ede08</td>\n",
              "      <td>NaN</td>\n",
              "      <td>K &gt; 24 month</td>\n",
              "      <td>200.0</td>\n",
              "      <td>1.0</td>\n",
              "      <td>NaN</td>\n",
              "      <td>NaN</td>\n",
              "      <td>NaN</td>\n",
              "      <td>NaN</td>\n",
              "      <td>NaN</td>\n",
              "      <td>NaN</td>\n",
              "      <td>NaN</td>\n",
              "      <td>NaN</td>\n",
              "      <td>NaN</td>\n",
              "      <td>NO</td>\n",
              "      <td>5</td>\n",
              "      <td>NaN</td>\n",
              "      <td>NaN</td>\n",
              "    </tr>\n",
              "    <tr>\n",
              "      <th>114034</th>\n",
              "      <td>473fd291ae14644a757f86a76838820c1ddf7859</td>\n",
              "      <td>NaN</td>\n",
              "      <td>K &gt; 24 month</td>\n",
              "      <td>NaN</td>\n",
              "      <td>NaN</td>\n",
              "      <td>NaN</td>\n",
              "      <td>NaN</td>\n",
              "      <td>NaN</td>\n",
              "      <td>NaN</td>\n",
              "      <td>NaN</td>\n",
              "      <td>NaN</td>\n",
              "      <td>NaN</td>\n",
              "      <td>NaN</td>\n",
              "      <td>NaN</td>\n",
              "      <td>NO</td>\n",
              "      <td>6</td>\n",
              "      <td>NaN</td>\n",
              "      <td>NaN</td>\n",
              "    </tr>\n",
              "    <tr>\n",
              "      <th>114035</th>\n",
              "      <td>e0457edfc3a4feafabe4108d89187390e85c64a9</td>\n",
              "      <td>DIOURBEL</td>\n",
              "      <td>K &gt; 24 month</td>\n",
              "      <td>2200.0</td>\n",
              "      <td>2.0</td>\n",
              "      <td>3501.0</td>\n",
              "      <td>1167.0</td>\n",
              "      <td>4.0</td>\n",
              "      <td>7110.0</td>\n",
              "      <td>1.0</td>\n",
              "      <td>NaN</td>\n",
              "      <td>16.0</td>\n",
              "      <td>NaN</td>\n",
              "      <td>NaN</td>\n",
              "      <td>NO</td>\n",
              "      <td>59</td>\n",
              "      <td>Data:1500F=SPPackage1,30d</td>\n",
              "      <td>2.0</td>\n",
              "    </tr>\n",
              "    <tr>\n",
              "      <th>114036</th>\n",
              "      <td>75f9e5ce36caef56d7c253e1cf92af68c1ece956</td>\n",
              "      <td>KAOLACK</td>\n",
              "      <td>K &gt; 24 month</td>\n",
              "      <td>9800.0</td>\n",
              "      <td>21.0</td>\n",
              "      <td>9879.0</td>\n",
              "      <td>3293.0</td>\n",
              "      <td>21.0</td>\n",
              "      <td>18651.0</td>\n",
              "      <td>37.0</td>\n",
              "      <td>0.0</td>\n",
              "      <td>NaN</td>\n",
              "      <td>NaN</td>\n",
              "      <td>NaN</td>\n",
              "      <td>NO</td>\n",
              "      <td>61</td>\n",
              "      <td>Data:490F=1GB,7d</td>\n",
              "      <td>15.0</td>\n",
              "    </tr>\n",
              "    <tr>\n",
              "      <th>114037</th>\n",
              "      <td>42e019de7bc1ae30bc617df9e2c1b8869c2420e6</td>\n",
              "      <td>NaN</td>\n",
              "      <td>K &gt; 24 month</td>\n",
              "      <td>NaN</td>\n",
              "      <td>NaN</td>\n",
              "      <td>NaN</td>\n",
              "      <td>NaN</td>\n",
              "      <td>NaN</td>\n",
              "      <td>NaN</td>\n",
              "      <td>NaN</td>\n",
              "      <td>NaN</td>\n",
              "      <td>NaN</td>\n",
              "      <td>NaN</td>\n",
              "      <td>NaN</td>\n",
              "      <td>NO</td>\n",
              "      <td>1</td>\n",
              "      <td>NaN</td>\n",
              "      <td>NaN</td>\n",
              "    </tr>\n",
              "  </tbody>\n",
              "</table>\n",
              "</div>"
            ],
            "text/plain": [
              "                                         user_id  ... FREQ_TOP_PACK\n",
              "114033  5716c645907ed2fc642414ce4072eddf284ede08  ...           NaN\n",
              "114034  473fd291ae14644a757f86a76838820c1ddf7859  ...           NaN\n",
              "114035  e0457edfc3a4feafabe4108d89187390e85c64a9  ...           2.0\n",
              "114036  75f9e5ce36caef56d7c253e1cf92af68c1ece956  ...          15.0\n",
              "114037  42e019de7bc1ae30bc617df9e2c1b8869c2420e6  ...           NaN\n",
              "\n",
              "[5 rows x 18 columns]"
            ]
          },
          "metadata": {
            "tags": []
          },
          "execution_count": 27
        }
      ]
    },
    {
      "cell_type": "code",
      "metadata": {
        "id": "6aoTo41-5qGk",
        "colab_type": "code",
        "colab": {
          "base_uri": "https://localhost:8080/",
          "height": 34
        },
        "outputId": "d8753af5-9f18-47b4-9928-592a66866b65"
      },
      "source": [
        "test.shape "
      ],
      "execution_count": null,
      "outputs": [
        {
          "output_type": "execute_result",
          "data": {
            "text/plain": [
              "(114038, 18)"
            ]
          },
          "metadata": {
            "tags": []
          },
          "execution_count": 28
        }
      ]
    },
    {
      "cell_type": "code",
      "metadata": {
        "id": "8QEAo6EW5qGs",
        "colab_type": "code",
        "colab": {
          "base_uri": "https://localhost:8080/",
          "height": 451
        },
        "outputId": "c0254232-83a7-4807-baa0-9794f7040356"
      },
      "source": [
        "test.info()"
      ],
      "execution_count": null,
      "outputs": [
        {
          "output_type": "stream",
          "text": [
            "<class 'pandas.core.frame.DataFrame'>\n",
            "RangeIndex: 114038 entries, 0 to 114037\n",
            "Data columns (total 18 columns):\n",
            " #   Column          Non-Null Count   Dtype  \n",
            "---  ------          --------------   -----  \n",
            " 0   user_id         114038 non-null  object \n",
            " 1   REGION          69081 non-null   object \n",
            " 2   TENURE          114038 non-null  object \n",
            " 3   MONTANT         74135 non-null   float64\n",
            " 4   FREQUENCE_RECH  74135 non-null   float64\n",
            " 5   REVENUE         75854 non-null   float64\n",
            " 6   ARPU_SEGMENT    75854 non-null   float64\n",
            " 7   FREQUENCE       75854 non-null   float64\n",
            " 8   DATA_VOLUME     58049 non-null   float64\n",
            " 9   ON_NET          72436 non-null   float64\n",
            " 10  ORANGE          66823 non-null   float64\n",
            " 11  TIGO            45908 non-null   float64\n",
            " 12  ZONE1           9011 non-null    float64\n",
            " 13  ZONE2           7217 non-null    float64\n",
            " 14  MRG             114038 non-null  object \n",
            " 15  REGULARITY      114038 non-null  int64  \n",
            " 16  TOP_PACK        66425 non-null   object \n",
            " 17  FREQ_TOP_PACK   66425 non-null   float64\n",
            "dtypes: float64(12), int64(1), object(5)\n",
            "memory usage: 15.7+ MB\n"
          ],
          "name": "stdout"
        }
      ]
    },
    {
      "cell_type": "code",
      "metadata": {
        "id": "XOk0CzZ45qG0",
        "colab_type": "code",
        "colab": {
          "base_uri": "https://localhost:8080/",
          "height": 206
        },
        "outputId": "75e9d206-842f-46ba-d8a7-7d8318b9799a"
      },
      "source": [
        "submission.head()"
      ],
      "execution_count": null,
      "outputs": [
        {
          "output_type": "execute_result",
          "data": {
            "text/html": [
              "<div>\n",
              "<style scoped>\n",
              "    .dataframe tbody tr th:only-of-type {\n",
              "        vertical-align: middle;\n",
              "    }\n",
              "\n",
              "    .dataframe tbody tr th {\n",
              "        vertical-align: top;\n",
              "    }\n",
              "\n",
              "    .dataframe thead th {\n",
              "        text-align: right;\n",
              "    }\n",
              "</style>\n",
              "<table border=\"1\" class=\"dataframe\">\n",
              "  <thead>\n",
              "    <tr style=\"text-align: right;\">\n",
              "      <th></th>\n",
              "      <th>user_id</th>\n",
              "      <th>CHURN</th>\n",
              "    </tr>\n",
              "  </thead>\n",
              "  <tbody>\n",
              "    <tr>\n",
              "      <th>0</th>\n",
              "      <td>c1b31e7cef249f2b777d934886b787a433029263</td>\n",
              "      <td>0</td>\n",
              "    </tr>\n",
              "    <tr>\n",
              "      <th>1</th>\n",
              "      <td>c205f3aff8486b0bed1051f3bf25fe04df7f671e</td>\n",
              "      <td>0</td>\n",
              "    </tr>\n",
              "    <tr>\n",
              "      <th>2</th>\n",
              "      <td>d743faaf50bbc43e02a08a2c2f4326f6d368fb25</td>\n",
              "      <td>0</td>\n",
              "    </tr>\n",
              "    <tr>\n",
              "      <th>3</th>\n",
              "      <td>c4e45ed21d5e2f64146b95fecbbb6b24740f803c</td>\n",
              "      <td>0</td>\n",
              "    </tr>\n",
              "    <tr>\n",
              "      <th>4</th>\n",
              "      <td>96c6a822243654ae1fe5f5f887089681f806cb46</td>\n",
              "      <td>0</td>\n",
              "    </tr>\n",
              "  </tbody>\n",
              "</table>\n",
              "</div>"
            ],
            "text/plain": [
              "                                    user_id  CHURN\n",
              "0  c1b31e7cef249f2b777d934886b787a433029263      0\n",
              "1  c205f3aff8486b0bed1051f3bf25fe04df7f671e      0\n",
              "2  d743faaf50bbc43e02a08a2c2f4326f6d368fb25      0\n",
              "3  c4e45ed21d5e2f64146b95fecbbb6b24740f803c      0\n",
              "4  96c6a822243654ae1fe5f5f887089681f806cb46      0"
            ]
          },
          "metadata": {
            "tags": []
          },
          "execution_count": 30
        }
      ]
    },
    {
      "cell_type": "code",
      "metadata": {
        "id": "xUjYKNuJ5qG9",
        "colab_type": "code",
        "colab": {
          "base_uri": "https://localhost:8080/",
          "height": 34
        },
        "outputId": "303f01fa-6e21-4ec5-dbc5-1e9753bd8ce6"
      },
      "source": [
        "submission.shape"
      ],
      "execution_count": null,
      "outputs": [
        {
          "output_type": "execute_result",
          "data": {
            "text/plain": [
              "(114038, 2)"
            ]
          },
          "metadata": {
            "tags": []
          },
          "execution_count": 31
        }
      ]
    },
    {
      "cell_type": "code",
      "metadata": {
        "id": "IlfEje7PYZk5",
        "colab_type": "code",
        "colab": {
          "base_uri": "https://localhost:8080/",
          "height": 52
        },
        "outputId": "9f13f818-e06d-43ce-a180-91190a97ec4f"
      },
      "source": [
        "submission.CHURN.value_counts()"
      ],
      "execution_count": null,
      "outputs": [
        {
          "output_type": "execute_result",
          "data": {
            "text/plain": [
              "0    114038\n",
              "Name: CHURN, dtype: int64"
            ]
          },
          "metadata": {
            "tags": []
          },
          "execution_count": 32
        }
      ]
    },
    {
      "cell_type": "markdown",
      "metadata": {
        "id": "V30H_oJb5qHC",
        "colab_type": "text"
      },
      "source": [
        "#### Data Wrangling"
      ]
    },
    {
      "cell_type": "markdown",
      "metadata": {
        "id": "5atQt59vpY2n",
        "colab_type": "text"
      },
      "source": [
        "> calculate number of levels in columns"
      ]
    },
    {
      "cell_type": "code",
      "metadata": {
        "id": "4Kfd8XQQ5qHT",
        "colab_type": "code",
        "colab": {
          "base_uri": "https://localhost:8080/",
          "height": 1000
        },
        "outputId": "30e49389-9b8a-4d47-cbb9-3a8e30382864"
      },
      "source": [
        "check_levels(train, exclude_cols=['user_id']) "
      ],
      "execution_count": null,
      "outputs": [
        {
          "output_type": "stream",
          "text": [
            "*-**-**-**-**-**-**-**-**-**-* \n",
            "\n",
            "DAKAR          154267\n",
            "THIES           53902\n",
            "SAINT-LOUIS     35882\n",
            "LOUGA           29629\n",
            "KAOLACK         29057\n",
            "DIOURBEL        20083\n",
            "TAMBACOUNDA     16449\n",
            "KAFFRINE        13113\n",
            "KOLDA           11511\n",
            "FATICK          10676\n",
            "MATAM            8755\n",
            "ZIGUINCHOR       6664\n",
            "SEDHIOU           972\n",
            "KEDOUGOU          286\n",
            "Name: REGION, dtype: int64\n",
            "*-**-**-**-**-**-**-**-**-**-* \n",
            "\n",
            "*-**-**-**-**-**-**-**-**-**-* \n",
            "\n",
            "K > 24 month     613231\n",
            "I 18-21 month     13412\n",
            "H 15-18 month      7753\n",
            "G 12-15 month      4372\n",
            "J 21-24 month      3875\n",
            "F 9-12 month       2805\n",
            "E 6-9 month         557\n",
            "D 3-6 month         209\n",
            "Name: TENURE, dtype: int64\n",
            "*-**-**-**-**-**-**-**-**-**-* \n",
            "\n",
            "*-**-**-**-**-**-**-**-**-**-* \n",
            "\n",
            "NO    646214\n",
            "Name: MRG, dtype: int64\n",
            "*-**-**-**-**-**-**-**-**-**-* \n",
            "\n",
            "*-**-**-**-**-**-**-**-**-**-* \n",
            "\n",
            "All-net 500F=2000F;5d             95425\n",
            "On net 200F=Unlimited _call24H    45713\n",
            "Data:490F=1GB,7d                  34513\n",
            "Data: 100 F=40MB,24H              25538\n",
            "Mixt 250F=Unlimited_call24H       20033\n",
            "                                  ...  \n",
            "SMS Max                               1\n",
            "EVC_4900=12000F                       1\n",
            "CVM_On-net 400f=2200F                 1\n",
            "Data_Mifi_10Go_Monthly                1\n",
            "EVC_JOKKO30                           1\n",
            "Name: TOP_PACK, Length: 119, dtype: int64\n",
            "*-**-**-**-**-**-**-**-**-**-* \n",
            "\n"
          ],
          "name": "stdout"
        },
        {
          "output_type": "display_data",
          "data": {
            "image/png": "[encoded data removed]",
            "text/plain": [
              "<Figure size 720x360 with 1 Axes>"
            ]
          },
          "metadata": {
            "tags": [],
            "needs_background": "light"
          }
        },
        {
          "output_type": "display_data",
          "data": {
            "image/png": "[encoded data removed]",
            "text/plain": [
              "<Figure size 720x360 with 1 Axes>"
            ]
          },
          "metadata": {
            "tags": [],
            "needs_background": "light"
          }
        },
        {
          "output_type": "display_data",
          "data": {
            "image/png": "[encoded data removed]",
            "text/plain": [
              "<Figure size 720x360 with 1 Axes>"
            ]
          },
          "metadata": {
            "tags": [],
            "needs_background": "light"
          }
        },
        {
          "output_type": "display_data",
          "data": {
            "image/png": "[encoded data removed]",
            "text/plain": [
              "<Figure size 720x360 with 1 Axes>"
            ]
          },
          "metadata": {
            "tags": [],
            "needs_background": "light"
          }
        }
      ]
    },
    {
      "cell_type": "markdown",
      "metadata": {
        "id": "ucLceE9_5qHa",
        "colab_type": "text"
      },
      "source": [
        "Compute statistics for numerical variables"
      ]
    },
    {
      "cell_type": "code",
      "metadata": {
        "id": "RUdS0MsC5qHc",
        "colab_type": "code",
        "colab": {
          "base_uri": "https://localhost:8080/",
          "height": 320
        },
        "outputId": "a071544f-0348-4ce1-caf5-1695ef92f6e7"
      },
      "source": [
        "train.describe()  "
      ],
      "execution_count": null,
      "outputs": [
        {
          "output_type": "execute_result",
          "data": {
            "text/html": [
              "<div>\n",
              "<style scoped>\n",
              "    .dataframe tbody tr th:only-of-type {\n",
              "        vertical-align: middle;\n",
              "    }\n",
              "\n",
              "    .dataframe tbody tr th {\n",
              "        vertical-align: top;\n",
              "    }\n",
              "\n",
              "    .dataframe thead th {\n",
              "        text-align: right;\n",
              "    }\n",
              "</style>\n",
              "<table border=\"1\" class=\"dataframe\">\n",
              "  <thead>\n",
              "    <tr style=\"text-align: right;\">\n",
              "      <th></th>\n",
              "      <th>MONTANT</th>\n",
              "      <th>FREQUENCE_RECH</th>\n",
              "      <th>REVENUE</th>\n",
              "      <th>ARPU_SEGMENT</th>\n",
              "      <th>FREQUENCE</th>\n",
              "      <th>DATA_VOLUME</th>\n",
              "      <th>ON_NET</th>\n",
              "      <th>ORANGE</th>\n",
              "      <th>TIGO</th>\n",
              "      <th>ZONE1</th>\n",
              "      <th>ZONE2</th>\n",
              "      <th>REGULARITY</th>\n",
              "      <th>FREQ_TOP_PACK</th>\n",
              "      <th>CHURN</th>\n",
              "    </tr>\n",
              "  </thead>\n",
              "  <tbody>\n",
              "    <tr>\n",
              "      <th>count</th>\n",
              "      <td>419154.000000</td>\n",
              "      <td>419154.000000</td>\n",
              "      <td>428459.000000</td>\n",
              "      <td>428459.000000</td>\n",
              "      <td>428459.000000</td>\n",
              "      <td>3.275440e+05</td>\n",
              "      <td>409962.000000</td>\n",
              "      <td>377516.000000</td>\n",
              "      <td>259060.000000</td>\n",
              "      <td>50406.000000</td>\n",
              "      <td>41072.000000</td>\n",
              "      <td>646214.000000</td>\n",
              "      <td>375331.000000</td>\n",
              "      <td>646214.000000</td>\n",
              "    </tr>\n",
              "    <tr>\n",
              "      <th>mean</th>\n",
              "      <td>5535.843227</td>\n",
              "      <td>11.529891</td>\n",
              "      <td>5509.610712</td>\n",
              "      <td>1836.543270</td>\n",
              "      <td>13.975855</td>\n",
              "      <td>3.372705e+03</td>\n",
              "      <td>277.649655</td>\n",
              "      <td>95.274982</td>\n",
              "      <td>23.070601</td>\n",
              "      <td>7.987779</td>\n",
              "      <td>7.547478</td>\n",
              "      <td>28.038812</td>\n",
              "      <td>9.284301</td>\n",
              "      <td>0.187712</td>\n",
              "    </tr>\n",
              "    <tr>\n",
              "      <th>std</th>\n",
              "      <td>7161.605662</td>\n",
              "      <td>13.270572</td>\n",
              "      <td>7209.607287</td>\n",
              "      <td>2403.197321</td>\n",
              "      <td>14.689824</td>\n",
              "      <td>1.341078e+04</td>\n",
              "      <td>868.891990</td>\n",
              "      <td>202.764409</td>\n",
              "      <td>63.219602</td>\n",
              "      <td>39.546312</td>\n",
              "      <td>33.370589</td>\n",
              "      <td>22.282758</td>\n",
              "      <td>12.350381</td>\n",
              "      <td>0.390482</td>\n",
              "    </tr>\n",
              "    <tr>\n",
              "      <th>min</th>\n",
              "      <td>10.000000</td>\n",
              "      <td>1.000000</td>\n",
              "      <td>1.000000</td>\n",
              "      <td>0.000000</td>\n",
              "      <td>1.000000</td>\n",
              "      <td>0.000000e+00</td>\n",
              "      <td>0.000000</td>\n",
              "      <td>0.000000</td>\n",
              "      <td>0.000000</td>\n",
              "      <td>0.000000</td>\n",
              "      <td>0.000000</td>\n",
              "      <td>1.000000</td>\n",
              "      <td>1.000000</td>\n",
              "      <td>0.000000</td>\n",
              "    </tr>\n",
              "    <tr>\n",
              "      <th>25%</th>\n",
              "      <td>1000.000000</td>\n",
              "      <td>2.000000</td>\n",
              "      <td>1000.000000</td>\n",
              "      <td>333.000000</td>\n",
              "      <td>3.000000</td>\n",
              "      <td>0.000000e+00</td>\n",
              "      <td>5.000000</td>\n",
              "      <td>7.000000</td>\n",
              "      <td>2.000000</td>\n",
              "      <td>0.000000</td>\n",
              "      <td>0.000000</td>\n",
              "      <td>6.000000</td>\n",
              "      <td>2.000000</td>\n",
              "      <td>0.000000</td>\n",
              "    </tr>\n",
              "    <tr>\n",
              "      <th>50%</th>\n",
              "      <td>3000.000000</td>\n",
              "      <td>7.000000</td>\n",
              "      <td>3000.000000</td>\n",
              "      <td>1000.000000</td>\n",
              "      <td>9.000000</td>\n",
              "      <td>2.600000e+02</td>\n",
              "      <td>27.000000</td>\n",
              "      <td>29.000000</td>\n",
              "      <td>6.000000</td>\n",
              "      <td>1.000000</td>\n",
              "      <td>2.000000</td>\n",
              "      <td>24.000000</td>\n",
              "      <td>5.000000</td>\n",
              "      <td>0.000000</td>\n",
              "    </tr>\n",
              "    <tr>\n",
              "      <th>75%</th>\n",
              "      <td>7400.000000</td>\n",
              "      <td>16.000000</td>\n",
              "      <td>7382.000000</td>\n",
              "      <td>2461.000000</td>\n",
              "      <td>20.000000</td>\n",
              "      <td>2.875000e+03</td>\n",
              "      <td>157.000000</td>\n",
              "      <td>99.000000</td>\n",
              "      <td>20.000000</td>\n",
              "      <td>4.000000</td>\n",
              "      <td>5.000000</td>\n",
              "      <td>51.000000</td>\n",
              "      <td>12.000000</td>\n",
              "      <td>0.000000</td>\n",
              "    </tr>\n",
              "    <tr>\n",
              "      <th>max</th>\n",
              "      <td>290500.000000</td>\n",
              "      <td>132.000000</td>\n",
              "      <td>397968.000000</td>\n",
              "      <td>132656.000000</td>\n",
              "      <td>91.000000</td>\n",
              "      <td>1.823866e+06</td>\n",
              "      <td>36687.000000</td>\n",
              "      <td>6721.000000</td>\n",
              "      <td>4174.000000</td>\n",
              "      <td>1867.000000</td>\n",
              "      <td>1796.000000</td>\n",
              "      <td>62.000000</td>\n",
              "      <td>629.000000</td>\n",
              "      <td>1.000000</td>\n",
              "    </tr>\n",
              "  </tbody>\n",
              "</table>\n",
              "</div>"
            ],
            "text/plain": [
              "             MONTANT  FREQUENCE_RECH  ...  FREQ_TOP_PACK          CHURN\n",
              "count  419154.000000   419154.000000  ...  375331.000000  646214.000000\n",
              "mean     5535.843227       11.529891  ...       9.284301       0.187712\n",
              "std      7161.605662       13.270572  ...      12.350381       0.390482\n",
              "min        10.000000        1.000000  ...       1.000000       0.000000\n",
              "25%      1000.000000        2.000000  ...       2.000000       0.000000\n",
              "50%      3000.000000        7.000000  ...       5.000000       0.000000\n",
              "75%      7400.000000       16.000000  ...      12.000000       0.000000\n",
              "max    290500.000000      132.000000  ...     629.000000       1.000000\n",
              "\n",
              "[8 rows x 14 columns]"
            ]
          },
          "metadata": {
            "tags": []
          },
          "execution_count": 34
        }
      ]
    },
    {
      "cell_type": "markdown",
      "metadata": {
        "id": "H_HGSe1m5qHs",
        "colab_type": "text"
      },
      "source": [
        "> Check for null values"
      ]
    },
    {
      "cell_type": "code",
      "metadata": {
        "id": "ZIpuuiEv5qH0",
        "colab_type": "code",
        "colab": {
          "base_uri": "https://localhost:8080/",
          "height": 768
        },
        "outputId": "d97df82a-1651-4b9a-ae2c-c365ee096461"
      },
      "source": [
        "check_null(train)"
      ],
      "execution_count": null,
      "outputs": [
        {
          "output_type": "stream",
          "text": [
            "user_id                0\n",
            "REGION            254968\n",
            "TENURE                 0\n",
            "MONTANT           227060\n",
            "FREQUENCE_RECH    227060\n",
            "REVENUE           217755\n",
            "ARPU_SEGMENT      217755\n",
            "FREQUENCE         217755\n",
            "DATA_VOLUME       318670\n",
            "ON_NET            236252\n",
            "ORANGE            268698\n",
            "TIGO              387154\n",
            "ZONE1             595808\n",
            "ZONE2             605142\n",
            "MRG                    0\n",
            "REGULARITY             0\n",
            "TOP_PACK          270883\n",
            "FREQ_TOP_PACK     270883\n",
            "CHURN                  0\n",
            "dtype: int64\n"
          ],
          "name": "stdout"
        },
        {
          "output_type": "display_data",
          "data": {
            "image/png": "[encoded data removed]",
            "text/plain": [
              "<Figure size 720x360 with 1 Axes>"
            ]
          },
          "metadata": {
            "tags": [],
            "needs_background": "light"
          }
        }
      ]
    },
    {
      "cell_type": "code",
      "metadata": {
        "id": "GwCWMz3t5qH9",
        "colab_type": "code",
        "colab": {
          "base_uri": "https://localhost:8080/",
          "height": 751
        },
        "outputId": "6bd45bc9-4b34-48f5-9c68-6e513be6b289"
      },
      "source": [
        "check_null(test)"
      ],
      "execution_count": null,
      "outputs": [
        {
          "output_type": "stream",
          "text": [
            "user_id                0\n",
            "REGION             44957\n",
            "TENURE                 0\n",
            "MONTANT            39903\n",
            "FREQUENCE_RECH     39903\n",
            "REVENUE            38184\n",
            "ARPU_SEGMENT       38184\n",
            "FREQUENCE          38184\n",
            "DATA_VOLUME        55989\n",
            "ON_NET             41602\n",
            "ORANGE             47215\n",
            "TIGO               68130\n",
            "ZONE1             105027\n",
            "ZONE2             106821\n",
            "MRG                    0\n",
            "REGULARITY             0\n",
            "TOP_PACK           47613\n",
            "FREQ_TOP_PACK      47613\n",
            "dtype: int64\n"
          ],
          "name": "stdout"
        },
        {
          "output_type": "display_data",
          "data": {
            "image/png": "[encoded data removed]",
            "text/plain": [
              "<Figure size 720x360 with 1 Axes>"
            ]
          },
          "metadata": {
            "tags": [],
            "needs_background": "light"
          }
        }
      ]
    },
    {
      "cell_type": "markdown",
      "metadata": {
        "id": "ICQj_cLD5qIC",
        "colab_type": "text"
      },
      "source": [
        "> There are a lot of null values in the dataset"
      ]
    },
    {
      "cell_type": "markdown",
      "metadata": {
        "id": "VpA27bAx5qIM",
        "colab_type": "text"
      },
      "source": [
        "outliers in train set"
      ]
    },
    {
      "cell_type": "code",
      "metadata": {
        "id": "fMdC-cEf5qIM",
        "colab_type": "code",
        "colab": {
          "base_uri": "https://localhost:8080/",
          "height": 478
        },
        "outputId": "0939ca96-d73f-4615-96c1-d1741047d8bf"
      },
      "source": [
        "check_outliers(train, show_plot=False)  "
      ],
      "execution_count": null,
      "outputs": [
        {
          "output_type": "stream",
          "text": [
            "{'MONTANT': True, 'FREQUENCE_RECH': True, 'REVENUE': True, 'ARPU_SEGMENT': True, 'FREQUENCE': True, 'DATA_VOLUME': True, 'ON_NET': True, 'ORANGE': True, 'TIGO': True, 'ZONE1': True, 'ZONE2': True, 'REGULARITY': False, 'FREQ_TOP_PACK': True, 'CHURN': True}\n",
            "(646214, 19)\n"
          ],
          "name": "stdout"
        },
        {
          "output_type": "execute_result",
          "data": {
            "text/html": [
              "<div>\n",
              "<style scoped>\n",
              "    .dataframe tbody tr th:only-of-type {\n",
              "        vertical-align: middle;\n",
              "    }\n",
              "\n",
              "    .dataframe tbody tr th {\n",
              "        vertical-align: top;\n",
              "    }\n",
              "\n",
              "    .dataframe thead th {\n",
              "        text-align: right;\n",
              "    }\n",
              "</style>\n",
              "<table border=\"1\" class=\"dataframe\">\n",
              "  <thead>\n",
              "    <tr style=\"text-align: right;\">\n",
              "      <th></th>\n",
              "      <th>MONTANT</th>\n",
              "      <th>FREQUENCE_RECH</th>\n",
              "      <th>REVENUE</th>\n",
              "      <th>ARPU_SEGMENT</th>\n",
              "      <th>FREQUENCE</th>\n",
              "      <th>DATA_VOLUME</th>\n",
              "      <th>ON_NET</th>\n",
              "      <th>ORANGE</th>\n",
              "      <th>TIGO</th>\n",
              "      <th>ZONE1</th>\n",
              "      <th>ZONE2</th>\n",
              "      <th>FREQ_TOP_PACK</th>\n",
              "      <th>CHURN</th>\n",
              "    </tr>\n",
              "  </thead>\n",
              "  <tbody>\n",
              "    <tr>\n",
              "      <th>0</th>\n",
              "      <td>1000.0</td>\n",
              "      <td>1.0</td>\n",
              "      <td>990.0</td>\n",
              "      <td>330.0</td>\n",
              "      <td>1.0</td>\n",
              "      <td>97.0</td>\n",
              "      <td>1.0</td>\n",
              "      <td>NaN</td>\n",
              "      <td>NaN</td>\n",
              "      <td>NaN</td>\n",
              "      <td>NaN</td>\n",
              "      <td>1.0</td>\n",
              "      <td>0</td>\n",
              "    </tr>\n",
              "    <tr>\n",
              "      <th>1</th>\n",
              "      <td>NaN</td>\n",
              "      <td>NaN</td>\n",
              "      <td>NaN</td>\n",
              "      <td>NaN</td>\n",
              "      <td>NaN</td>\n",
              "      <td>223.0</td>\n",
              "      <td>NaN</td>\n",
              "      <td>NaN</td>\n",
              "      <td>NaN</td>\n",
              "      <td>NaN</td>\n",
              "      <td>NaN</td>\n",
              "      <td>NaN</td>\n",
              "      <td>0</td>\n",
              "    </tr>\n",
              "    <tr>\n",
              "      <th>2</th>\n",
              "      <td>700.0</td>\n",
              "      <td>5.0</td>\n",
              "      <td>1010.0</td>\n",
              "      <td>337.0</td>\n",
              "      <td>7.0</td>\n",
              "      <td>566.0</td>\n",
              "      <td>1.0</td>\n",
              "      <td>3.0</td>\n",
              "      <td>15.0</td>\n",
              "      <td>0.0</td>\n",
              "      <td>NaN</td>\n",
              "      <td>3.0</td>\n",
              "      <td>0</td>\n",
              "    </tr>\n",
              "    <tr>\n",
              "      <th>3</th>\n",
              "      <td>NaN</td>\n",
              "      <td>NaN</td>\n",
              "      <td>NaN</td>\n",
              "      <td>NaN</td>\n",
              "      <td>NaN</td>\n",
              "      <td>NaN</td>\n",
              "      <td>NaN</td>\n",
              "      <td>NaN</td>\n",
              "      <td>NaN</td>\n",
              "      <td>NaN</td>\n",
              "      <td>NaN</td>\n",
              "      <td>NaN</td>\n",
              "      <td>0</td>\n",
              "    </tr>\n",
              "    <tr>\n",
              "      <th>4</th>\n",
              "      <td>3000.0</td>\n",
              "      <td>3.0</td>\n",
              "      <td>2995.0</td>\n",
              "      <td>998.0</td>\n",
              "      <td>3.0</td>\n",
              "      <td>NaN</td>\n",
              "      <td>NaN</td>\n",
              "      <td>33.0</td>\n",
              "      <td>NaN</td>\n",
              "      <td>NaN</td>\n",
              "      <td>NaN</td>\n",
              "      <td>NaN</td>\n",
              "      <td>0</td>\n",
              "    </tr>\n",
              "    <tr>\n",
              "      <th>...</th>\n",
              "      <td>...</td>\n",
              "      <td>...</td>\n",
              "      <td>...</td>\n",
              "      <td>...</td>\n",
              "      <td>...</td>\n",
              "      <td>...</td>\n",
              "      <td>...</td>\n",
              "      <td>...</td>\n",
              "      <td>...</td>\n",
              "      <td>...</td>\n",
              "      <td>...</td>\n",
              "      <td>...</td>\n",
              "      <td>...</td>\n",
              "    </tr>\n",
              "    <tr>\n",
              "      <th>646209</th>\n",
              "      <td>NaN</td>\n",
              "      <td>NaN</td>\n",
              "      <td>NaN</td>\n",
              "      <td>NaN</td>\n",
              "      <td>NaN</td>\n",
              "      <td>NaN</td>\n",
              "      <td>NaN</td>\n",
              "      <td>NaN</td>\n",
              "      <td>NaN</td>\n",
              "      <td>NaN</td>\n",
              "      <td>NaN</td>\n",
              "      <td>NaN</td>\n",
              "      <td>0</td>\n",
              "    </tr>\n",
              "    <tr>\n",
              "      <th>646210</th>\n",
              "      <td>1500.0</td>\n",
              "      <td>3.0</td>\n",
              "      <td>1500.0</td>\n",
              "      <td>500.0</td>\n",
              "      <td>3.0</td>\n",
              "      <td>NaN</td>\n",
              "      <td>28.0</td>\n",
              "      <td>53.0</td>\n",
              "      <td>NaN</td>\n",
              "      <td>NaN</td>\n",
              "      <td>NaN</td>\n",
              "      <td>2.0</td>\n",
              "      <td>0</td>\n",
              "    </tr>\n",
              "    <tr>\n",
              "      <th>646211</th>\n",
              "      <td>13000.0</td>\n",
              "      <td>26.0</td>\n",
              "      <td>14000.0</td>\n",
              "      <td>4667.0</td>\n",
              "      <td>26.0</td>\n",
              "      <td>NaN</td>\n",
              "      <td>2973.0</td>\n",
              "      <td>183.0</td>\n",
              "      <td>50.0</td>\n",
              "      <td>NaN</td>\n",
              "      <td>NaN</td>\n",
              "      <td>15.0</td>\n",
              "      <td>0</td>\n",
              "    </tr>\n",
              "    <tr>\n",
              "      <th>646212</th>\n",
              "      <td>3100.0</td>\n",
              "      <td>4.0</td>\n",
              "      <td>3033.0</td>\n",
              "      <td>1011.0</td>\n",
              "      <td>4.0</td>\n",
              "      <td>12905.0</td>\n",
              "      <td>NaN</td>\n",
              "      <td>0.0</td>\n",
              "      <td>NaN</td>\n",
              "      <td>NaN</td>\n",
              "      <td>NaN</td>\n",
              "      <td>3.0</td>\n",
              "      <td>0</td>\n",
              "    </tr>\n",
              "    <tr>\n",
              "      <th>646213</th>\n",
              "      <td>6500.0</td>\n",
              "      <td>12.0</td>\n",
              "      <td>6500.0</td>\n",
              "      <td>2167.0</td>\n",
              "      <td>11.0</td>\n",
              "      <td>NaN</td>\n",
              "      <td>49.0</td>\n",
              "      <td>220.0</td>\n",
              "      <td>NaN</td>\n",
              "      <td>NaN</td>\n",
              "      <td>NaN</td>\n",
              "      <td>13.0</td>\n",
              "      <td>0</td>\n",
              "    </tr>\n",
              "  </tbody>\n",
              "</table>\n",
              "<p>646214 rows × 13 columns</p>\n",
              "</div>"
            ],
            "text/plain": [
              "        MONTANT  FREQUENCE_RECH  REVENUE  ...  ZONE2  FREQ_TOP_PACK  CHURN\n",
              "0        1000.0             1.0    990.0  ...    NaN            1.0      0\n",
              "1           NaN             NaN      NaN  ...    NaN            NaN      0\n",
              "2         700.0             5.0   1010.0  ...    NaN            3.0      0\n",
              "3           NaN             NaN      NaN  ...    NaN            NaN      0\n",
              "4        3000.0             3.0   2995.0  ...    NaN            NaN      0\n",
              "...         ...             ...      ...  ...    ...            ...    ...\n",
              "646209      NaN             NaN      NaN  ...    NaN            NaN      0\n",
              "646210   1500.0             3.0   1500.0  ...    NaN            2.0      0\n",
              "646211  13000.0            26.0  14000.0  ...    NaN           15.0      0\n",
              "646212   3100.0             4.0   3033.0  ...    NaN            3.0      0\n",
              "646213   6500.0            12.0   6500.0  ...    NaN           13.0      0\n",
              "\n",
              "[646214 rows x 13 columns]"
            ]
          },
          "metadata": {
            "tags": []
          },
          "execution_count": 37
        }
      ]
    },
    {
      "cell_type": "markdown",
      "metadata": {
        "id": "WvdfxaY_5qIY",
        "colab_type": "text"
      },
      "source": [
        "> most columns in the train set contain outlier values"
      ]
    },
    {
      "cell_type": "markdown",
      "metadata": {
        "id": "Sh1XruSa5qIZ",
        "colab_type": "text"
      },
      "source": [
        "outliers in test set"
      ]
    },
    {
      "cell_type": "code",
      "metadata": {
        "id": "J6iUBVtk5qIZ",
        "colab_type": "code",
        "colab": {
          "base_uri": "https://localhost:8080/",
          "height": 478
        },
        "outputId": "25075dc5-bd4f-4cac-f4e5-b162aba40465"
      },
      "source": [
        "check_outliers(test, show_plot=False)   "
      ],
      "execution_count": null,
      "outputs": [
        {
          "output_type": "stream",
          "text": [
            "{'MONTANT': True, 'FREQUENCE_RECH': True, 'REVENUE': True, 'ARPU_SEGMENT': True, 'FREQUENCE': True, 'DATA_VOLUME': True, 'ON_NET': True, 'ORANGE': True, 'TIGO': True, 'ZONE1': True, 'ZONE2': True, 'REGULARITY': False, 'FREQ_TOP_PACK': True}\n",
            "(114038, 18)\n"
          ],
          "name": "stdout"
        },
        {
          "output_type": "execute_result",
          "data": {
            "text/html": [
              "<div>\n",
              "<style scoped>\n",
              "    .dataframe tbody tr th:only-of-type {\n",
              "        vertical-align: middle;\n",
              "    }\n",
              "\n",
              "    .dataframe tbody tr th {\n",
              "        vertical-align: top;\n",
              "    }\n",
              "\n",
              "    .dataframe thead th {\n",
              "        text-align: right;\n",
              "    }\n",
              "</style>\n",
              "<table border=\"1\" class=\"dataframe\">\n",
              "  <thead>\n",
              "    <tr style=\"text-align: right;\">\n",
              "      <th></th>\n",
              "      <th>MONTANT</th>\n",
              "      <th>FREQUENCE_RECH</th>\n",
              "      <th>REVENUE</th>\n",
              "      <th>ARPU_SEGMENT</th>\n",
              "      <th>FREQUENCE</th>\n",
              "      <th>DATA_VOLUME</th>\n",
              "      <th>ON_NET</th>\n",
              "      <th>ORANGE</th>\n",
              "      <th>TIGO</th>\n",
              "      <th>ZONE1</th>\n",
              "      <th>ZONE2</th>\n",
              "      <th>FREQ_TOP_PACK</th>\n",
              "    </tr>\n",
              "  </thead>\n",
              "  <tbody>\n",
              "    <tr>\n",
              "      <th>0</th>\n",
              "      <td>10600.0</td>\n",
              "      <td>18.0</td>\n",
              "      <td>11099.0</td>\n",
              "      <td>3700.0</td>\n",
              "      <td>22.0</td>\n",
              "      <td>4004.0</td>\n",
              "      <td>60.0</td>\n",
              "      <td>123.0</td>\n",
              "      <td>19.0</td>\n",
              "      <td>NaN</td>\n",
              "      <td>NaN</td>\n",
              "      <td>9.0</td>\n",
              "    </tr>\n",
              "    <tr>\n",
              "      <th>1</th>\n",
              "      <td>NaN</td>\n",
              "      <td>NaN</td>\n",
              "      <td>NaN</td>\n",
              "      <td>NaN</td>\n",
              "      <td>NaN</td>\n",
              "      <td>0.0</td>\n",
              "      <td>7.0</td>\n",
              "      <td>NaN</td>\n",
              "      <td>NaN</td>\n",
              "      <td>NaN</td>\n",
              "      <td>NaN</td>\n",
              "      <td>NaN</td>\n",
              "    </tr>\n",
              "    <tr>\n",
              "      <th>2</th>\n",
              "      <td>17900.0</td>\n",
              "      <td>36.0</td>\n",
              "      <td>18405.0</td>\n",
              "      <td>6135.0</td>\n",
              "      <td>44.0</td>\n",
              "      <td>0.0</td>\n",
              "      <td>446.0</td>\n",
              "      <td>50.0</td>\n",
              "      <td>28.0</td>\n",
              "      <td>2.0</td>\n",
              "      <td>NaN</td>\n",
              "      <td>9.0</td>\n",
              "    </tr>\n",
              "    <tr>\n",
              "      <th>3</th>\n",
              "      <td>10000.0</td>\n",
              "      <td>10.0</td>\n",
              "      <td>10001.0</td>\n",
              "      <td>3334.0</td>\n",
              "      <td>27.0</td>\n",
              "      <td>NaN</td>\n",
              "      <td>0.0</td>\n",
              "      <td>93.0</td>\n",
              "      <td>8.0</td>\n",
              "      <td>NaN</td>\n",
              "      <td>NaN</td>\n",
              "      <td>12.0</td>\n",
              "    </tr>\n",
              "    <tr>\n",
              "      <th>4</th>\n",
              "      <td>500.0</td>\n",
              "      <td>1.0</td>\n",
              "      <td>500.0</td>\n",
              "      <td>167.0</td>\n",
              "      <td>1.0</td>\n",
              "      <td>NaN</td>\n",
              "      <td>8.0</td>\n",
              "      <td>14.0</td>\n",
              "      <td>NaN</td>\n",
              "      <td>NaN</td>\n",
              "      <td>NaN</td>\n",
              "      <td>1.0</td>\n",
              "    </tr>\n",
              "    <tr>\n",
              "      <th>...</th>\n",
              "      <td>...</td>\n",
              "      <td>...</td>\n",
              "      <td>...</td>\n",
              "      <td>...</td>\n",
              "      <td>...</td>\n",
              "      <td>...</td>\n",
              "      <td>...</td>\n",
              "      <td>...</td>\n",
              "      <td>...</td>\n",
              "      <td>...</td>\n",
              "      <td>...</td>\n",
              "      <td>...</td>\n",
              "    </tr>\n",
              "    <tr>\n",
              "      <th>114033</th>\n",
              "      <td>200.0</td>\n",
              "      <td>1.0</td>\n",
              "      <td>NaN</td>\n",
              "      <td>NaN</td>\n",
              "      <td>NaN</td>\n",
              "      <td>NaN</td>\n",
              "      <td>NaN</td>\n",
              "      <td>NaN</td>\n",
              "      <td>NaN</td>\n",
              "      <td>NaN</td>\n",
              "      <td>NaN</td>\n",
              "      <td>NaN</td>\n",
              "    </tr>\n",
              "    <tr>\n",
              "      <th>114034</th>\n",
              "      <td>NaN</td>\n",
              "      <td>NaN</td>\n",
              "      <td>NaN</td>\n",
              "      <td>NaN</td>\n",
              "      <td>NaN</td>\n",
              "      <td>NaN</td>\n",
              "      <td>NaN</td>\n",
              "      <td>NaN</td>\n",
              "      <td>NaN</td>\n",
              "      <td>NaN</td>\n",
              "      <td>NaN</td>\n",
              "      <td>NaN</td>\n",
              "    </tr>\n",
              "    <tr>\n",
              "      <th>114035</th>\n",
              "      <td>2200.0</td>\n",
              "      <td>2.0</td>\n",
              "      <td>3501.0</td>\n",
              "      <td>1167.0</td>\n",
              "      <td>4.0</td>\n",
              "      <td>7110.0</td>\n",
              "      <td>1.0</td>\n",
              "      <td>NaN</td>\n",
              "      <td>16.0</td>\n",
              "      <td>NaN</td>\n",
              "      <td>NaN</td>\n",
              "      <td>2.0</td>\n",
              "    </tr>\n",
              "    <tr>\n",
              "      <th>114036</th>\n",
              "      <td>9800.0</td>\n",
              "      <td>21.0</td>\n",
              "      <td>9879.0</td>\n",
              "      <td>3293.0</td>\n",
              "      <td>21.0</td>\n",
              "      <td>18651.0</td>\n",
              "      <td>37.0</td>\n",
              "      <td>0.0</td>\n",
              "      <td>NaN</td>\n",
              "      <td>NaN</td>\n",
              "      <td>NaN</td>\n",
              "      <td>15.0</td>\n",
              "    </tr>\n",
              "    <tr>\n",
              "      <th>114037</th>\n",
              "      <td>NaN</td>\n",
              "      <td>NaN</td>\n",
              "      <td>NaN</td>\n",
              "      <td>NaN</td>\n",
              "      <td>NaN</td>\n",
              "      <td>NaN</td>\n",
              "      <td>NaN</td>\n",
              "      <td>NaN</td>\n",
              "      <td>NaN</td>\n",
              "      <td>NaN</td>\n",
              "      <td>NaN</td>\n",
              "      <td>NaN</td>\n",
              "    </tr>\n",
              "  </tbody>\n",
              "</table>\n",
              "<p>114038 rows × 12 columns</p>\n",
              "</div>"
            ],
            "text/plain": [
              "        MONTANT  FREQUENCE_RECH  REVENUE  ...  ZONE1  ZONE2  FREQ_TOP_PACK\n",
              "0       10600.0            18.0  11099.0  ...    NaN    NaN            9.0\n",
              "1           NaN             NaN      NaN  ...    NaN    NaN            NaN\n",
              "2       17900.0            36.0  18405.0  ...    2.0    NaN            9.0\n",
              "3       10000.0            10.0  10001.0  ...    NaN    NaN           12.0\n",
              "4         500.0             1.0    500.0  ...    NaN    NaN            1.0\n",
              "...         ...             ...      ...  ...    ...    ...            ...\n",
              "114033    200.0             1.0      NaN  ...    NaN    NaN            NaN\n",
              "114034      NaN             NaN      NaN  ...    NaN    NaN            NaN\n",
              "114035   2200.0             2.0   3501.0  ...    NaN    NaN            2.0\n",
              "114036   9800.0            21.0   9879.0  ...    NaN    NaN           15.0\n",
              "114037      NaN             NaN      NaN  ...    NaN    NaN            NaN\n",
              "\n",
              "[114038 rows x 12 columns]"
            ]
          },
          "metadata": {
            "tags": []
          },
          "execution_count": 38
        }
      ]
    },
    {
      "cell_type": "markdown",
      "metadata": {
        "id": "gxK5oiRy5qIp",
        "colab_type": "text"
      },
      "source": [
        "> check for duplicate values"
      ]
    },
    {
      "cell_type": "code",
      "metadata": {
        "id": "7h4CExvy5qIq",
        "colab_type": "code",
        "colab": {
          "base_uri": "https://localhost:8080/",
          "height": 34
        },
        "outputId": "cd0f91ae-c776-4017-c90b-3e3109a3932d"
      },
      "source": [
        "train.duplicated().any()"
      ],
      "execution_count": null,
      "outputs": [
        {
          "output_type": "execute_result",
          "data": {
            "text/plain": [
              "False"
            ]
          },
          "metadata": {
            "tags": []
          },
          "execution_count": 39
        }
      ]
    },
    {
      "cell_type": "code",
      "metadata": {
        "id": "MNyEQXdC5qIw",
        "colab_type": "code",
        "colab": {
          "base_uri": "https://localhost:8080/",
          "height": 34
        },
        "outputId": "42fa35e5-c9a6-4845-8bc8-5fd3e3f73733"
      },
      "source": [
        "test.duplicated().any()"
      ],
      "execution_count": null,
      "outputs": [
        {
          "output_type": "execute_result",
          "data": {
            "text/plain": [
              "False"
            ]
          },
          "metadata": {
            "tags": []
          },
          "execution_count": 40
        }
      ]
    },
    {
      "cell_type": "markdown",
      "metadata": {
        "id": "0QClssFr5qI1",
        "colab_type": "text"
      },
      "source": [
        "> check for class imbalance"
      ]
    },
    {
      "cell_type": "code",
      "metadata": {
        "id": "_Zjniw2_5qI2",
        "colab_type": "code",
        "colab": {
          "base_uri": "https://localhost:8080/",
          "height": 366
        },
        "outputId": "5c78aa68-20ee-4571-920f-6744e9c8322e"
      },
      "source": [
        "print(\"Class Imbalance\\n\")\n",
        "print(train.CHURN.value_counts(), \"\\n\") \n",
        "train.CHURN.value_counts().plot.bar(); "
      ],
      "execution_count": null,
      "outputs": [
        {
          "output_type": "stream",
          "text": [
            "Class Imbalance\n",
            "\n",
            "0    524912\n",
            "1    121302\n",
            "Name: CHURN, dtype: int64 \n",
            "\n"
          ],
          "name": "stdout"
        },
        {
          "output_type": "display_data",
          "data": {
            "image/png": "[encoded data removed]",
            "text/plain": [
              "<Figure size 432x288 with 1 Axes>"
            ]
          },
          "metadata": {
            "tags": [],
            "needs_background": "light"
          }
        }
      ]
    },
    {
      "cell_type": "markdown",
      "metadata": {
        "id": "fFLMyKHNzJBo",
        "colab_type": "text"
      },
      "source": [
        "### Preprocess Data for Modelling\n",
        " > Cleaning\n",
        "  - Drop MRG column\n",
        "  - Remove outliers\n",
        "  - Impute NaN by KNNImputer/SimpleImputer(mean/median for numerical and most frequent for categorical)\n",
        "\n",
        "> Feature Engineering\n",
        " - Extract feature of users' rank by (Group of Region by Tenure) \n",
        " - Extract feature users' rank  by TOPPACK\n",
        " - Balance Class Imbalance\n",
        " - Feature Union (K-best Selector and PCA components)\n",
        "\n",
        "> Put all processes in Sklearn Pipeline\n",
        "\n"
      ]
    },
    {
      "cell_type": "markdown",
      "metadata": {
        "id": "RRzEx7XSRPyW",
        "colab_type": "text"
      },
      "source": [
        "> Separate Y Labels from train set"
      ]
    },
    {
      "cell_type": "code",
      "metadata": {
        "id": "ih8_hGThRPcO",
        "colab_type": "code",
        "colab": {}
      },
      "source": [
        "train, train_label = train.drop('CHURN', axis=1), train.CHURN "
      ],
      "execution_count": null,
      "outputs": []
    },
    {
      "cell_type": "code",
      "metadata": {
        "id": "Hdmf7rA1THw9",
        "colab_type": "code",
        "colab": {
          "base_uri": "https://localhost:8080/",
          "height": 69
        },
        "outputId": "b7069600-acef-41a3-baeb-10dd872d517c"
      },
      "source": [
        "train_label.value_counts() "
      ],
      "execution_count": null,
      "outputs": [
        {
          "output_type": "execute_result",
          "data": {
            "text/plain": [
              "0    524912\n",
              "1    121302\n",
              "Name: CHURN, dtype: int64"
            ]
          },
          "metadata": {
            "tags": []
          },
          "execution_count": 43
        }
      ]
    },
    {
      "cell_type": "code",
      "metadata": {
        "id": "oZPACBaE4yrC",
        "colab_type": "code",
        "colab": {
          "base_uri": "https://localhost:8080/",
          "height": 34
        },
        "outputId": "516c5f3c-ff0a-4a66-d4fe-56b1900daf77"
      },
      "source": [
        "train.shape"
      ],
      "execution_count": null,
      "outputs": [
        {
          "output_type": "execute_result",
          "data": {
            "text/plain": [
              "(646214, 18)"
            ]
          },
          "metadata": {
            "tags": []
          },
          "execution_count": 44
        }
      ]
    },
    {
      "cell_type": "code",
      "metadata": {
        "id": "TbyYICHB41Un",
        "colab_type": "code",
        "colab": {
          "base_uri": "https://localhost:8080/",
          "height": 34
        },
        "outputId": "11dad14c-6426-4bc9-9359-da8b5e5074f9"
      },
      "source": [
        "test.shape"
      ],
      "execution_count": null,
      "outputs": [
        {
          "output_type": "execute_result",
          "data": {
            "text/plain": [
              "(114038, 18)"
            ]
          },
          "metadata": {
            "tags": []
          },
          "execution_count": 45
        }
      ]
    },
    {
      "cell_type": "markdown",
      "metadata": {
        "id": "FBAlwDKf6Qy2",
        "colab_type": "text"
      },
      "source": [
        "#### Define Custom Estimators and Functions for each Preprocessing steps\n"
      ]
    },
    {
      "cell_type": "markdown",
      "metadata": {
        "id": "aCa_OjWr9uDd",
        "colab_type": "text"
      },
      "source": [
        "> Drop Columns"
      ]
    },
    {
      "cell_type": "code",
      "metadata": {
        "id": "AKgl7RUZ6gQx",
        "colab_type": "code",
        "colab": {}
      },
      "source": [
        "class DropColumns(BaseEstimator, TransformerMixin):\n",
        "\n",
        "  \"\"\"\n",
        "  Drop Columns not needed \n",
        "  \"\"\"\n",
        "\n",
        "  def __init__(self, cols_to_drop:list):\n",
        "    self.cols_to_drop = cols_to_drop\n",
        "\n",
        "  def fit(self, X:pd.DataFrame, y=None):\n",
        "    self.X_copy_ = X.copy()\n",
        "\n",
        "    return self\n",
        "\n",
        "  def transform(self, X, y=None):\n",
        "    self.X_copy_ = X.copy()\n",
        "    self.X_copy_ = self.X_copy_.drop(self.cols_to_drop, axis=1)\n",
        "\n",
        "    return self.X_copy_   \n",
        "\n",
        "\n",
        "  def fit_transform(self, X:pd.DataFrame, y=None):\n",
        "    self = self.fit(X)\n",
        "\n",
        "    self.X_copy_ = self.transform(X)\n",
        "\n",
        "    return self.X_copy_"
      ],
      "execution_count": null,
      "outputs": []
    },
    {
      "cell_type": "code",
      "metadata": {
        "id": "jng2ljDv8LR0",
        "colab_type": "code",
        "colab": {
          "base_uri": "https://localhost:8080/",
          "height": 597
        },
        "outputId": "52edb00f-11b0-494c-db38-720da47dea12"
      },
      "source": [
        "drop_col = DropColumns(cols_to_drop=['MRG', 'user_id'])   \n",
        "train_process = drop_col.fit_transform(train)  \n",
        "train_process    "
      ],
      "execution_count": null,
      "outputs": [
        {
          "output_type": "execute_result",
          "data": {
            "text/html": [
              "<div>\n",
              "<style scoped>\n",
              "    .dataframe tbody tr th:only-of-type {\n",
              "        vertical-align: middle;\n",
              "    }\n",
              "\n",
              "    .dataframe tbody tr th {\n",
              "        vertical-align: top;\n",
              "    }\n",
              "\n",
              "    .dataframe thead th {\n",
              "        text-align: right;\n",
              "    }\n",
              "</style>\n",
              "<table border=\"1\" class=\"dataframe\">\n",
              "  <thead>\n",
              "    <tr style=\"text-align: right;\">\n",
              "      <th></th>\n",
              "      <th>REGION</th>\n",
              "      <th>TENURE</th>\n",
              "      <th>MONTANT</th>\n",
              "      <th>FREQUENCE_RECH</th>\n",
              "      <th>REVENUE</th>\n",
              "      <th>ARPU_SEGMENT</th>\n",
              "      <th>FREQUENCE</th>\n",
              "      <th>DATA_VOLUME</th>\n",
              "      <th>ON_NET</th>\n",
              "      <th>ORANGE</th>\n",
              "      <th>TIGO</th>\n",
              "      <th>ZONE1</th>\n",
              "      <th>ZONE2</th>\n",
              "      <th>REGULARITY</th>\n",
              "      <th>TOP_PACK</th>\n",
              "      <th>FREQ_TOP_PACK</th>\n",
              "    </tr>\n",
              "  </thead>\n",
              "  <tbody>\n",
              "    <tr>\n",
              "      <th>0</th>\n",
              "      <td>MATAM</td>\n",
              "      <td>K &gt; 24 month</td>\n",
              "      <td>1000.0</td>\n",
              "      <td>1.0</td>\n",
              "      <td>990.0</td>\n",
              "      <td>330.0</td>\n",
              "      <td>1.0</td>\n",
              "      <td>97.0</td>\n",
              "      <td>1.0</td>\n",
              "      <td>NaN</td>\n",
              "      <td>NaN</td>\n",
              "      <td>NaN</td>\n",
              "      <td>NaN</td>\n",
              "      <td>22</td>\n",
              "      <td>Data:1000F=2GB,30d</td>\n",
              "      <td>1.0</td>\n",
              "    </tr>\n",
              "    <tr>\n",
              "      <th>1</th>\n",
              "      <td>DIOURBEL</td>\n",
              "      <td>K &gt; 24 month</td>\n",
              "      <td>NaN</td>\n",
              "      <td>NaN</td>\n",
              "      <td>NaN</td>\n",
              "      <td>NaN</td>\n",
              "      <td>NaN</td>\n",
              "      <td>223.0</td>\n",
              "      <td>NaN</td>\n",
              "      <td>NaN</td>\n",
              "      <td>NaN</td>\n",
              "      <td>NaN</td>\n",
              "      <td>NaN</td>\n",
              "      <td>4</td>\n",
              "      <td>NaN</td>\n",
              "      <td>NaN</td>\n",
              "    </tr>\n",
              "    <tr>\n",
              "      <th>2</th>\n",
              "      <td>DAKAR</td>\n",
              "      <td>K &gt; 24 month</td>\n",
              "      <td>700.0</td>\n",
              "      <td>5.0</td>\n",
              "      <td>1010.0</td>\n",
              "      <td>337.0</td>\n",
              "      <td>7.0</td>\n",
              "      <td>566.0</td>\n",
              "      <td>1.0</td>\n",
              "      <td>3.0</td>\n",
              "      <td>15.0</td>\n",
              "      <td>0.0</td>\n",
              "      <td>NaN</td>\n",
              "      <td>8</td>\n",
              "      <td>Data: 100 F=40MB,24H</td>\n",
              "      <td>3.0</td>\n",
              "    </tr>\n",
              "    <tr>\n",
              "      <th>3</th>\n",
              "      <td>LOUGA</td>\n",
              "      <td>K &gt; 24 month</td>\n",
              "      <td>NaN</td>\n",
              "      <td>NaN</td>\n",
              "      <td>NaN</td>\n",
              "      <td>NaN</td>\n",
              "      <td>NaN</td>\n",
              "      <td>NaN</td>\n",
              "      <td>NaN</td>\n",
              "      <td>NaN</td>\n",
              "      <td>NaN</td>\n",
              "      <td>NaN</td>\n",
              "      <td>NaN</td>\n",
              "      <td>3</td>\n",
              "      <td>NaN</td>\n",
              "      <td>NaN</td>\n",
              "    </tr>\n",
              "    <tr>\n",
              "      <th>4</th>\n",
              "      <td>NaN</td>\n",
              "      <td>K &gt; 24 month</td>\n",
              "      <td>3000.0</td>\n",
              "      <td>3.0</td>\n",
              "      <td>2995.0</td>\n",
              "      <td>998.0</td>\n",
              "      <td>3.0</td>\n",
              "      <td>NaN</td>\n",
              "      <td>NaN</td>\n",
              "      <td>33.0</td>\n",
              "      <td>NaN</td>\n",
              "      <td>NaN</td>\n",
              "      <td>NaN</td>\n",
              "      <td>9</td>\n",
              "      <td>NaN</td>\n",
              "      <td>NaN</td>\n",
              "    </tr>\n",
              "    <tr>\n",
              "      <th>...</th>\n",
              "      <td>...</td>\n",
              "      <td>...</td>\n",
              "      <td>...</td>\n",
              "      <td>...</td>\n",
              "      <td>...</td>\n",
              "      <td>...</td>\n",
              "      <td>...</td>\n",
              "      <td>...</td>\n",
              "      <td>...</td>\n",
              "      <td>...</td>\n",
              "      <td>...</td>\n",
              "      <td>...</td>\n",
              "      <td>...</td>\n",
              "      <td>...</td>\n",
              "      <td>...</td>\n",
              "      <td>...</td>\n",
              "    </tr>\n",
              "    <tr>\n",
              "      <th>646209</th>\n",
              "      <td>KAOLACK</td>\n",
              "      <td>K &gt; 24 month</td>\n",
              "      <td>NaN</td>\n",
              "      <td>NaN</td>\n",
              "      <td>NaN</td>\n",
              "      <td>NaN</td>\n",
              "      <td>NaN</td>\n",
              "      <td>NaN</td>\n",
              "      <td>NaN</td>\n",
              "      <td>NaN</td>\n",
              "      <td>NaN</td>\n",
              "      <td>NaN</td>\n",
              "      <td>NaN</td>\n",
              "      <td>1</td>\n",
              "      <td>NaN</td>\n",
              "      <td>NaN</td>\n",
              "    </tr>\n",
              "    <tr>\n",
              "      <th>646210</th>\n",
              "      <td>SAINT-LOUIS</td>\n",
              "      <td>K &gt; 24 month</td>\n",
              "      <td>1500.0</td>\n",
              "      <td>3.0</td>\n",
              "      <td>1500.0</td>\n",
              "      <td>500.0</td>\n",
              "      <td>3.0</td>\n",
              "      <td>NaN</td>\n",
              "      <td>28.0</td>\n",
              "      <td>53.0</td>\n",
              "      <td>NaN</td>\n",
              "      <td>NaN</td>\n",
              "      <td>NaN</td>\n",
              "      <td>32</td>\n",
              "      <td>MIXT:500F= 2500F on net _2500F off net;2d</td>\n",
              "      <td>2.0</td>\n",
              "    </tr>\n",
              "    <tr>\n",
              "      <th>646211</th>\n",
              "      <td>THIES</td>\n",
              "      <td>K &gt; 24 month</td>\n",
              "      <td>13000.0</td>\n",
              "      <td>26.0</td>\n",
              "      <td>14000.0</td>\n",
              "      <td>4667.0</td>\n",
              "      <td>26.0</td>\n",
              "      <td>NaN</td>\n",
              "      <td>2973.0</td>\n",
              "      <td>183.0</td>\n",
              "      <td>50.0</td>\n",
              "      <td>NaN</td>\n",
              "      <td>NaN</td>\n",
              "      <td>58</td>\n",
              "      <td>On-net 500F_FNF;3d</td>\n",
              "      <td>15.0</td>\n",
              "    </tr>\n",
              "    <tr>\n",
              "      <th>646212</th>\n",
              "      <td>NaN</td>\n",
              "      <td>K &gt; 24 month</td>\n",
              "      <td>3100.0</td>\n",
              "      <td>4.0</td>\n",
              "      <td>3033.0</td>\n",
              "      <td>1011.0</td>\n",
              "      <td>4.0</td>\n",
              "      <td>12905.0</td>\n",
              "      <td>NaN</td>\n",
              "      <td>0.0</td>\n",
              "      <td>NaN</td>\n",
              "      <td>NaN</td>\n",
              "      <td>NaN</td>\n",
              "      <td>24</td>\n",
              "      <td>Data:1000F=5GB,7d</td>\n",
              "      <td>3.0</td>\n",
              "    </tr>\n",
              "    <tr>\n",
              "      <th>646213</th>\n",
              "      <td>KOLDA</td>\n",
              "      <td>K &gt; 24 month</td>\n",
              "      <td>6500.0</td>\n",
              "      <td>12.0</td>\n",
              "      <td>6500.0</td>\n",
              "      <td>2167.0</td>\n",
              "      <td>11.0</td>\n",
              "      <td>NaN</td>\n",
              "      <td>49.0</td>\n",
              "      <td>220.0</td>\n",
              "      <td>NaN</td>\n",
              "      <td>NaN</td>\n",
              "      <td>NaN</td>\n",
              "      <td>57</td>\n",
              "      <td>All-net 500F =2000F_AllNet_Unlimited</td>\n",
              "      <td>13.0</td>\n",
              "    </tr>\n",
              "  </tbody>\n",
              "</table>\n",
              "<p>646214 rows × 16 columns</p>\n",
              "</div>"
            ],
            "text/plain": [
              "             REGION  ... FREQ_TOP_PACK\n",
              "0             MATAM  ...           1.0\n",
              "1          DIOURBEL  ...           NaN\n",
              "2             DAKAR  ...           3.0\n",
              "3             LOUGA  ...           NaN\n",
              "4               NaN  ...           NaN\n",
              "...             ...  ...           ...\n",
              "646209      KAOLACK  ...           NaN\n",
              "646210  SAINT-LOUIS  ...           2.0\n",
              "646211        THIES  ...          15.0\n",
              "646212          NaN  ...           3.0\n",
              "646213        KOLDA  ...          13.0\n",
              "\n",
              "[646214 rows x 16 columns]"
            ]
          },
          "metadata": {
            "tags": []
          },
          "execution_count": 47
        }
      ]
    },
    {
      "cell_type": "markdown",
      "metadata": {
        "id": "zRPSIS-b5qJB",
        "colab_type": "text"
      },
      "source": [
        "> Median Imputation for Outlier values"
      ]
    },
    {
      "cell_type": "code",
      "metadata": {
        "id": "RVgJ0wOR5qJC",
        "colab_type": "code",
        "colab": {}
      },
      "source": [
        "class ImputeOutlier(BaseEstimator, TransformerMixin):\n",
        "\n",
        "\n",
        "  def __init__(self):\n",
        "    pass \n",
        "\n",
        "  def fit(self, X:pd.DataFrame, y=None):\n",
        "    self.X_copy_ = X.copy()\n",
        "    self.X_cols_ = self.X_copy_.select_dtypes(include=['int64', 'float64']).columns.tolist()\n",
        " \n",
        "    return self\n",
        "\n",
        "  def transform(self, X, y=None):\n",
        "\n",
        "      for col in self.X_cols_: \n",
        "        low  = self.X_copy_[col].quantile(0.05) \n",
        "        high = self.X_copy_[col].quantile(0.95)  \n",
        "\n",
        "        self.X_copy_[col] = self.X_copy_[col].mask(self.X_copy_[col] > high, high) #np.where(self.X_copy_[col] > high, median,self.X_copy_[col])\n",
        "        self.X_copy_[col] = self.X_copy_[col].mask(self.X_copy_[col] < low, low) #np.where(self.X_copy_[col] < low, median, self.X_copy_[col]) \n",
        "        \n",
        "      return self.X_copy_\n",
        "\n",
        "\n",
        "  def fit_transform(self, X:pd.DataFrame, y=None): \n",
        "\n",
        "    self = self.fit(X)\n",
        "    self.X_copy_ = self.transform(X)\n",
        "\n",
        "\n",
        "    return self.X_copy_ "
      ],
      "execution_count": null,
      "outputs": []
    },
    {
      "cell_type": "code",
      "metadata": {
        "id": "KoVj2Fqj90Z7",
        "colab_type": "code",
        "colab": {
          "base_uri": "https://localhost:8080/",
          "height": 597
        },
        "outputId": "e852dd3c-0d58-421a-be39-4d699f44b2e6"
      },
      "source": [
        "imp_out = ImputeOutlier()\n",
        "train_process = imp_out.fit_transform(train_process)  \n",
        "train_process "
      ],
      "execution_count": null,
      "outputs": [
        {
          "output_type": "execute_result",
          "data": {
            "text/html": [
              "<div>\n",
              "<style scoped>\n",
              "    .dataframe tbody tr th:only-of-type {\n",
              "        vertical-align: middle;\n",
              "    }\n",
              "\n",
              "    .dataframe tbody tr th {\n",
              "        vertical-align: top;\n",
              "    }\n",
              "\n",
              "    .dataframe thead th {\n",
              "        text-align: right;\n",
              "    }\n",
              "</style>\n",
              "<table border=\"1\" class=\"dataframe\">\n",
              "  <thead>\n",
              "    <tr style=\"text-align: right;\">\n",
              "      <th></th>\n",
              "      <th>REGION</th>\n",
              "      <th>TENURE</th>\n",
              "      <th>MONTANT</th>\n",
              "      <th>FREQUENCE_RECH</th>\n",
              "      <th>REVENUE</th>\n",
              "      <th>ARPU_SEGMENT</th>\n",
              "      <th>FREQUENCE</th>\n",
              "      <th>DATA_VOLUME</th>\n",
              "      <th>ON_NET</th>\n",
              "      <th>ORANGE</th>\n",
              "      <th>TIGO</th>\n",
              "      <th>ZONE1</th>\n",
              "      <th>ZONE2</th>\n",
              "      <th>REGULARITY</th>\n",
              "      <th>TOP_PACK</th>\n",
              "      <th>FREQ_TOP_PACK</th>\n",
              "    </tr>\n",
              "  </thead>\n",
              "  <tbody>\n",
              "    <tr>\n",
              "      <th>0</th>\n",
              "      <td>MATAM</td>\n",
              "      <td>K &gt; 24 month</td>\n",
              "      <td>1000.0</td>\n",
              "      <td>1.0</td>\n",
              "      <td>990.0</td>\n",
              "      <td>330.0</td>\n",
              "      <td>1.0</td>\n",
              "      <td>97.0</td>\n",
              "      <td>1.0</td>\n",
              "      <td>NaN</td>\n",
              "      <td>NaN</td>\n",
              "      <td>NaN</td>\n",
              "      <td>NaN</td>\n",
              "      <td>22</td>\n",
              "      <td>Data:1000F=2GB,30d</td>\n",
              "      <td>1.0</td>\n",
              "    </tr>\n",
              "    <tr>\n",
              "      <th>1</th>\n",
              "      <td>DIOURBEL</td>\n",
              "      <td>K &gt; 24 month</td>\n",
              "      <td>NaN</td>\n",
              "      <td>NaN</td>\n",
              "      <td>NaN</td>\n",
              "      <td>NaN</td>\n",
              "      <td>NaN</td>\n",
              "      <td>223.0</td>\n",
              "      <td>NaN</td>\n",
              "      <td>NaN</td>\n",
              "      <td>NaN</td>\n",
              "      <td>NaN</td>\n",
              "      <td>NaN</td>\n",
              "      <td>4</td>\n",
              "      <td>NaN</td>\n",
              "      <td>NaN</td>\n",
              "    </tr>\n",
              "    <tr>\n",
              "      <th>2</th>\n",
              "      <td>DAKAR</td>\n",
              "      <td>K &gt; 24 month</td>\n",
              "      <td>700.0</td>\n",
              "      <td>5.0</td>\n",
              "      <td>1010.0</td>\n",
              "      <td>337.0</td>\n",
              "      <td>7.0</td>\n",
              "      <td>566.0</td>\n",
              "      <td>1.0</td>\n",
              "      <td>3.0</td>\n",
              "      <td>15.0</td>\n",
              "      <td>0.0</td>\n",
              "      <td>NaN</td>\n",
              "      <td>8</td>\n",
              "      <td>Data: 100 F=40MB,24H</td>\n",
              "      <td>3.0</td>\n",
              "    </tr>\n",
              "    <tr>\n",
              "      <th>3</th>\n",
              "      <td>LOUGA</td>\n",
              "      <td>K &gt; 24 month</td>\n",
              "      <td>NaN</td>\n",
              "      <td>NaN</td>\n",
              "      <td>NaN</td>\n",
              "      <td>NaN</td>\n",
              "      <td>NaN</td>\n",
              "      <td>NaN</td>\n",
              "      <td>NaN</td>\n",
              "      <td>NaN</td>\n",
              "      <td>NaN</td>\n",
              "      <td>NaN</td>\n",
              "      <td>NaN</td>\n",
              "      <td>3</td>\n",
              "      <td>NaN</td>\n",
              "      <td>NaN</td>\n",
              "    </tr>\n",
              "    <tr>\n",
              "      <th>4</th>\n",
              "      <td>NaN</td>\n",
              "      <td>K &gt; 24 month</td>\n",
              "      <td>3000.0</td>\n",
              "      <td>3.0</td>\n",
              "      <td>2995.0</td>\n",
              "      <td>998.0</td>\n",
              "      <td>3.0</td>\n",
              "      <td>NaN</td>\n",
              "      <td>NaN</td>\n",
              "      <td>33.0</td>\n",
              "      <td>NaN</td>\n",
              "      <td>NaN</td>\n",
              "      <td>NaN</td>\n",
              "      <td>9</td>\n",
              "      <td>NaN</td>\n",
              "      <td>NaN</td>\n",
              "    </tr>\n",
              "    <tr>\n",
              "      <th>...</th>\n",
              "      <td>...</td>\n",
              "      <td>...</td>\n",
              "      <td>...</td>\n",
              "      <td>...</td>\n",
              "      <td>...</td>\n",
              "      <td>...</td>\n",
              "      <td>...</td>\n",
              "      <td>...</td>\n",
              "      <td>...</td>\n",
              "      <td>...</td>\n",
              "      <td>...</td>\n",
              "      <td>...</td>\n",
              "      <td>...</td>\n",
              "      <td>...</td>\n",
              "      <td>...</td>\n",
              "      <td>...</td>\n",
              "    </tr>\n",
              "    <tr>\n",
              "      <th>646209</th>\n",
              "      <td>KAOLACK</td>\n",
              "      <td>K &gt; 24 month</td>\n",
              "      <td>NaN</td>\n",
              "      <td>NaN</td>\n",
              "      <td>NaN</td>\n",
              "      <td>NaN</td>\n",
              "      <td>NaN</td>\n",
              "      <td>NaN</td>\n",
              "      <td>NaN</td>\n",
              "      <td>NaN</td>\n",
              "      <td>NaN</td>\n",
              "      <td>NaN</td>\n",
              "      <td>NaN</td>\n",
              "      <td>1</td>\n",
              "      <td>NaN</td>\n",
              "      <td>NaN</td>\n",
              "    </tr>\n",
              "    <tr>\n",
              "      <th>646210</th>\n",
              "      <td>SAINT-LOUIS</td>\n",
              "      <td>K &gt; 24 month</td>\n",
              "      <td>1500.0</td>\n",
              "      <td>3.0</td>\n",
              "      <td>1500.0</td>\n",
              "      <td>500.0</td>\n",
              "      <td>3.0</td>\n",
              "      <td>NaN</td>\n",
              "      <td>28.0</td>\n",
              "      <td>53.0</td>\n",
              "      <td>NaN</td>\n",
              "      <td>NaN</td>\n",
              "      <td>NaN</td>\n",
              "      <td>32</td>\n",
              "      <td>MIXT:500F= 2500F on net _2500F off net;2d</td>\n",
              "      <td>2.0</td>\n",
              "    </tr>\n",
              "    <tr>\n",
              "      <th>646211</th>\n",
              "      <td>THIES</td>\n",
              "      <td>K &gt; 24 month</td>\n",
              "      <td>13000.0</td>\n",
              "      <td>26.0</td>\n",
              "      <td>14000.0</td>\n",
              "      <td>4667.0</td>\n",
              "      <td>26.0</td>\n",
              "      <td>NaN</td>\n",
              "      <td>1355.0</td>\n",
              "      <td>183.0</td>\n",
              "      <td>50.0</td>\n",
              "      <td>NaN</td>\n",
              "      <td>NaN</td>\n",
              "      <td>58</td>\n",
              "      <td>On-net 500F_FNF;3d</td>\n",
              "      <td>15.0</td>\n",
              "    </tr>\n",
              "    <tr>\n",
              "      <th>646212</th>\n",
              "      <td>NaN</td>\n",
              "      <td>K &gt; 24 month</td>\n",
              "      <td>3100.0</td>\n",
              "      <td>4.0</td>\n",
              "      <td>3033.0</td>\n",
              "      <td>1011.0</td>\n",
              "      <td>4.0</td>\n",
              "      <td>12905.0</td>\n",
              "      <td>NaN</td>\n",
              "      <td>1.0</td>\n",
              "      <td>NaN</td>\n",
              "      <td>NaN</td>\n",
              "      <td>NaN</td>\n",
              "      <td>24</td>\n",
              "      <td>Data:1000F=5GB,7d</td>\n",
              "      <td>3.0</td>\n",
              "    </tr>\n",
              "    <tr>\n",
              "      <th>646213</th>\n",
              "      <td>KOLDA</td>\n",
              "      <td>K &gt; 24 month</td>\n",
              "      <td>6500.0</td>\n",
              "      <td>12.0</td>\n",
              "      <td>6500.0</td>\n",
              "      <td>2167.0</td>\n",
              "      <td>11.0</td>\n",
              "      <td>NaN</td>\n",
              "      <td>49.0</td>\n",
              "      <td>220.0</td>\n",
              "      <td>NaN</td>\n",
              "      <td>NaN</td>\n",
              "      <td>NaN</td>\n",
              "      <td>57</td>\n",
              "      <td>All-net 500F =2000F_AllNet_Unlimited</td>\n",
              "      <td>13.0</td>\n",
              "    </tr>\n",
              "  </tbody>\n",
              "</table>\n",
              "<p>646214 rows × 16 columns</p>\n",
              "</div>"
            ],
            "text/plain": [
              "             REGION  ... FREQ_TOP_PACK\n",
              "0             MATAM  ...           1.0\n",
              "1          DIOURBEL  ...           NaN\n",
              "2             DAKAR  ...           3.0\n",
              "3             LOUGA  ...           NaN\n",
              "4               NaN  ...           NaN\n",
              "...             ...  ...           ...\n",
              "646209      KAOLACK  ...           NaN\n",
              "646210  SAINT-LOUIS  ...           2.0\n",
              "646211        THIES  ...          15.0\n",
              "646212          NaN  ...           3.0\n",
              "646213        KOLDA  ...          13.0\n",
              "\n",
              "[646214 rows x 16 columns]"
            ]
          },
          "metadata": {
            "tags": []
          },
          "execution_count": 49
        }
      ]
    },
    {
      "cell_type": "code",
      "metadata": {
        "id": "DxM0pSPuAlle",
        "colab_type": "code",
        "colab": {
          "base_uri": "https://localhost:8080/",
          "height": 478
        },
        "outputId": "0deaf00d-bc77-4a26-f863-09c11daaa4f8"
      },
      "source": [
        "check_outliers(train_process) "
      ],
      "execution_count": null,
      "outputs": [
        {
          "output_type": "stream",
          "text": [
            "{'MONTANT': True, 'FREQUENCE_RECH': True, 'REVENUE': True, 'ARPU_SEGMENT': True, 'FREQUENCE': False, 'DATA_VOLUME': True, 'ON_NET': True, 'ORANGE': True, 'TIGO': True, 'ZONE1': True, 'ZONE2': True, 'REGULARITY': False, 'FREQ_TOP_PACK': True}\n",
            "(646214, 16)\n"
          ],
          "name": "stdout"
        },
        {
          "output_type": "execute_result",
          "data": {
            "text/html": [
              "<div>\n",
              "<style scoped>\n",
              "    .dataframe tbody tr th:only-of-type {\n",
              "        vertical-align: middle;\n",
              "    }\n",
              "\n",
              "    .dataframe tbody tr th {\n",
              "        vertical-align: top;\n",
              "    }\n",
              "\n",
              "    .dataframe thead th {\n",
              "        text-align: right;\n",
              "    }\n",
              "</style>\n",
              "<table border=\"1\" class=\"dataframe\">\n",
              "  <thead>\n",
              "    <tr style=\"text-align: right;\">\n",
              "      <th></th>\n",
              "      <th>MONTANT</th>\n",
              "      <th>FREQUENCE_RECH</th>\n",
              "      <th>REVENUE</th>\n",
              "      <th>ARPU_SEGMENT</th>\n",
              "      <th>DATA_VOLUME</th>\n",
              "      <th>ON_NET</th>\n",
              "      <th>ORANGE</th>\n",
              "      <th>TIGO</th>\n",
              "      <th>ZONE1</th>\n",
              "      <th>ZONE2</th>\n",
              "      <th>FREQ_TOP_PACK</th>\n",
              "    </tr>\n",
              "  </thead>\n",
              "  <tbody>\n",
              "    <tr>\n",
              "      <th>0</th>\n",
              "      <td>1000.0</td>\n",
              "      <td>1.0</td>\n",
              "      <td>990.0</td>\n",
              "      <td>330.0</td>\n",
              "      <td>97.0</td>\n",
              "      <td>1.0</td>\n",
              "      <td>NaN</td>\n",
              "      <td>NaN</td>\n",
              "      <td>NaN</td>\n",
              "      <td>NaN</td>\n",
              "      <td>1.0</td>\n",
              "    </tr>\n",
              "    <tr>\n",
              "      <th>1</th>\n",
              "      <td>NaN</td>\n",
              "      <td>NaN</td>\n",
              "      <td>NaN</td>\n",
              "      <td>NaN</td>\n",
              "      <td>223.0</td>\n",
              "      <td>NaN</td>\n",
              "      <td>NaN</td>\n",
              "      <td>NaN</td>\n",
              "      <td>NaN</td>\n",
              "      <td>NaN</td>\n",
              "      <td>NaN</td>\n",
              "    </tr>\n",
              "    <tr>\n",
              "      <th>2</th>\n",
              "      <td>700.0</td>\n",
              "      <td>5.0</td>\n",
              "      <td>1010.0</td>\n",
              "      <td>337.0</td>\n",
              "      <td>566.0</td>\n",
              "      <td>1.0</td>\n",
              "      <td>3.0</td>\n",
              "      <td>15.0</td>\n",
              "      <td>0.0</td>\n",
              "      <td>NaN</td>\n",
              "      <td>3.0</td>\n",
              "    </tr>\n",
              "    <tr>\n",
              "      <th>3</th>\n",
              "      <td>NaN</td>\n",
              "      <td>NaN</td>\n",
              "      <td>NaN</td>\n",
              "      <td>NaN</td>\n",
              "      <td>NaN</td>\n",
              "      <td>NaN</td>\n",
              "      <td>NaN</td>\n",
              "      <td>NaN</td>\n",
              "      <td>NaN</td>\n",
              "      <td>NaN</td>\n",
              "      <td>NaN</td>\n",
              "    </tr>\n",
              "    <tr>\n",
              "      <th>4</th>\n",
              "      <td>3000.0</td>\n",
              "      <td>3.0</td>\n",
              "      <td>2995.0</td>\n",
              "      <td>998.0</td>\n",
              "      <td>NaN</td>\n",
              "      <td>NaN</td>\n",
              "      <td>33.0</td>\n",
              "      <td>NaN</td>\n",
              "      <td>NaN</td>\n",
              "      <td>NaN</td>\n",
              "      <td>NaN</td>\n",
              "    </tr>\n",
              "    <tr>\n",
              "      <th>...</th>\n",
              "      <td>...</td>\n",
              "      <td>...</td>\n",
              "      <td>...</td>\n",
              "      <td>...</td>\n",
              "      <td>...</td>\n",
              "      <td>...</td>\n",
              "      <td>...</td>\n",
              "      <td>...</td>\n",
              "      <td>...</td>\n",
              "      <td>...</td>\n",
              "      <td>...</td>\n",
              "    </tr>\n",
              "    <tr>\n",
              "      <th>646209</th>\n",
              "      <td>NaN</td>\n",
              "      <td>NaN</td>\n",
              "      <td>NaN</td>\n",
              "      <td>NaN</td>\n",
              "      <td>NaN</td>\n",
              "      <td>NaN</td>\n",
              "      <td>NaN</td>\n",
              "      <td>NaN</td>\n",
              "      <td>NaN</td>\n",
              "      <td>NaN</td>\n",
              "      <td>NaN</td>\n",
              "    </tr>\n",
              "    <tr>\n",
              "      <th>646210</th>\n",
              "      <td>1500.0</td>\n",
              "      <td>3.0</td>\n",
              "      <td>1500.0</td>\n",
              "      <td>500.0</td>\n",
              "      <td>NaN</td>\n",
              "      <td>28.0</td>\n",
              "      <td>53.0</td>\n",
              "      <td>NaN</td>\n",
              "      <td>NaN</td>\n",
              "      <td>NaN</td>\n",
              "      <td>2.0</td>\n",
              "    </tr>\n",
              "    <tr>\n",
              "      <th>646211</th>\n",
              "      <td>13000.0</td>\n",
              "      <td>26.0</td>\n",
              "      <td>14000.0</td>\n",
              "      <td>4667.0</td>\n",
              "      <td>NaN</td>\n",
              "      <td>1355.0</td>\n",
              "      <td>183.0</td>\n",
              "      <td>50.0</td>\n",
              "      <td>NaN</td>\n",
              "      <td>NaN</td>\n",
              "      <td>15.0</td>\n",
              "    </tr>\n",
              "    <tr>\n",
              "      <th>646212</th>\n",
              "      <td>3100.0</td>\n",
              "      <td>4.0</td>\n",
              "      <td>3033.0</td>\n",
              "      <td>1011.0</td>\n",
              "      <td>12905.0</td>\n",
              "      <td>NaN</td>\n",
              "      <td>1.0</td>\n",
              "      <td>NaN</td>\n",
              "      <td>NaN</td>\n",
              "      <td>NaN</td>\n",
              "      <td>3.0</td>\n",
              "    </tr>\n",
              "    <tr>\n",
              "      <th>646213</th>\n",
              "      <td>6500.0</td>\n",
              "      <td>12.0</td>\n",
              "      <td>6500.0</td>\n",
              "      <td>2167.0</td>\n",
              "      <td>NaN</td>\n",
              "      <td>49.0</td>\n",
              "      <td>220.0</td>\n",
              "      <td>NaN</td>\n",
              "      <td>NaN</td>\n",
              "      <td>NaN</td>\n",
              "      <td>13.0</td>\n",
              "    </tr>\n",
              "  </tbody>\n",
              "</table>\n",
              "<p>646214 rows × 11 columns</p>\n",
              "</div>"
            ],
            "text/plain": [
              "        MONTANT  FREQUENCE_RECH  REVENUE  ...  ZONE1  ZONE2  FREQ_TOP_PACK\n",
              "0        1000.0             1.0    990.0  ...    NaN    NaN            1.0\n",
              "1           NaN             NaN      NaN  ...    NaN    NaN            NaN\n",
              "2         700.0             5.0   1010.0  ...    0.0    NaN            3.0\n",
              "3           NaN             NaN      NaN  ...    NaN    NaN            NaN\n",
              "4        3000.0             3.0   2995.0  ...    NaN    NaN            NaN\n",
              "...         ...             ...      ...  ...    ...    ...            ...\n",
              "646209      NaN             NaN      NaN  ...    NaN    NaN            NaN\n",
              "646210   1500.0             3.0   1500.0  ...    NaN    NaN            2.0\n",
              "646211  13000.0            26.0  14000.0  ...    NaN    NaN           15.0\n",
              "646212   3100.0             4.0   3033.0  ...    NaN    NaN            3.0\n",
              "646213   6500.0            12.0   6500.0  ...    NaN    NaN           13.0\n",
              "\n",
              "[646214 rows x 11 columns]"
            ]
          },
          "metadata": {
            "tags": []
          },
          "execution_count": 50
        }
      ]
    },
    {
      "cell_type": "markdown",
      "metadata": {
        "id": "p41-cuvk5qJQ",
        "colab_type": "text"
      },
      "source": [
        "no more outlier values"
      ]
    },
    {
      "cell_type": "markdown",
      "metadata": {
        "id": "H8zV29IlA5od",
        "colab_type": "text"
      },
      "source": [
        "> Impute NaNs in categorical values\n"
      ]
    },
    {
      "cell_type": "code",
      "metadata": {
        "id": "tqlmMLqgA9am",
        "colab_type": "code",
        "colab": {}
      },
      "source": [
        "# cat_imp = SimpleImputer(strategy='most_frequent')  "
      ],
      "execution_count": null,
      "outputs": []
    },
    {
      "cell_type": "code",
      "metadata": {
        "id": "WmEBKFWQEFn6",
        "colab_type": "code",
        "colab": {}
      },
      "source": [
        "# train_cat = train_process.select_dtypes('object')\n",
        "# train_cat  = cat_imp.fit_transform(train_cat)\n",
        "# train_cat "
      ],
      "execution_count": null,
      "outputs": []
    },
    {
      "cell_type": "code",
      "metadata": {
        "id": "U7fCz02qFFuA",
        "colab_type": "code",
        "colab": {}
      },
      "source": [
        "# train_cat = pd.DataFrame(data=train_cat, columns=  train_process.select_dtypes('object').columns.tolist())\n",
        "# train_cat.isna().any()"
      ],
      "execution_count": null,
      "outputs": []
    },
    {
      "cell_type": "code",
      "metadata": {
        "id": "olYi_H9IFbJg",
        "colab_type": "code",
        "colab": {}
      },
      "source": [
        "# train_cat"
      ],
      "execution_count": null,
      "outputs": []
    },
    {
      "cell_type": "markdown",
      "metadata": {
        "colab_type": "text",
        "id": "PekSFxIsGG1r"
      },
      "source": [
        "> Impute NaNs in numeric values\n"
      ]
    },
    {
      "cell_type": "code",
      "metadata": {
        "colab_type": "code",
        "id": "nKYgMVEVGG1y",
        "colab": {}
      },
      "source": [
        "# num_imp = SimpleImputer(strategy='mean')  "
      ],
      "execution_count": null,
      "outputs": []
    },
    {
      "cell_type": "code",
      "metadata": {
        "colab_type": "code",
        "id": "oxB8S67LGG2G",
        "colab": {}
      },
      "source": [
        "# train_num = train_process.select_dtypes(['float64', 'int64'])\n",
        "# train_num  = num_imp.fit_transform(train_num)\n",
        "# train_num "
      ],
      "execution_count": null,
      "outputs": []
    },
    {
      "cell_type": "code",
      "metadata": {
        "colab_type": "code",
        "id": "TlPEghRcGG2T",
        "colab": {}
      },
      "source": [
        "# train_num = pd.DataFrame(data=train_num, columns=  train_process.select_dtypes(['float64', 'int64']).columns.tolist())\n",
        "# train_num.isna().any()"
      ],
      "execution_count": null,
      "outputs": []
    },
    {
      "cell_type": "code",
      "metadata": {
        "colab_type": "code",
        "id": "-pISpBbhGG2f",
        "colab": {}
      },
      "source": [
        "# train_num "
      ],
      "execution_count": null,
      "outputs": []
    },
    {
      "cell_type": "markdown",
      "metadata": {
        "id": "cOG90cFqHDJF",
        "colab_type": "text"
      },
      "source": [
        "> merge columns"
      ]
    },
    {
      "cell_type": "code",
      "metadata": {
        "id": "S3mdu-IXHFN3",
        "colab_type": "code",
        "colab": {}
      },
      "source": [
        "# train_process = train_cat.merge(train_num, left_index=True, right_index=True)\n",
        "# train_process.isna().any()"
      ],
      "execution_count": null,
      "outputs": []
    },
    {
      "cell_type": "code",
      "metadata": {
        "id": "kJ13-frGgJSY",
        "colab_type": "code",
        "colab": {}
      },
      "source": [
        "# train_process = np.concatenate((train_cat, train_num), axis=1)"
      ],
      "execution_count": null,
      "outputs": []
    },
    {
      "cell_type": "code",
      "metadata": {
        "id": "6oVvyHvWHlsw",
        "colab_type": "code",
        "colab": {
          "base_uri": "https://localhost:8080/",
          "height": 597
        },
        "outputId": "ac19ae2e-db7a-4906-f425-1327fd991397"
      },
      "source": [
        "train_process "
      ],
      "execution_count": null,
      "outputs": [
        {
          "output_type": "execute_result",
          "data": {
            "text/html": [
              "<div>\n",
              "<style scoped>\n",
              "    .dataframe tbody tr th:only-of-type {\n",
              "        vertical-align: middle;\n",
              "    }\n",
              "\n",
              "    .dataframe tbody tr th {\n",
              "        vertical-align: top;\n",
              "    }\n",
              "\n",
              "    .dataframe thead th {\n",
              "        text-align: right;\n",
              "    }\n",
              "</style>\n",
              "<table border=\"1\" class=\"dataframe\">\n",
              "  <thead>\n",
              "    <tr style=\"text-align: right;\">\n",
              "      <th></th>\n",
              "      <th>REGION</th>\n",
              "      <th>TENURE</th>\n",
              "      <th>MONTANT</th>\n",
              "      <th>FREQUENCE_RECH</th>\n",
              "      <th>REVENUE</th>\n",
              "      <th>ARPU_SEGMENT</th>\n",
              "      <th>FREQUENCE</th>\n",
              "      <th>DATA_VOLUME</th>\n",
              "      <th>ON_NET</th>\n",
              "      <th>ORANGE</th>\n",
              "      <th>TIGO</th>\n",
              "      <th>ZONE1</th>\n",
              "      <th>ZONE2</th>\n",
              "      <th>REGULARITY</th>\n",
              "      <th>TOP_PACK</th>\n",
              "      <th>FREQ_TOP_PACK</th>\n",
              "    </tr>\n",
              "  </thead>\n",
              "  <tbody>\n",
              "    <tr>\n",
              "      <th>0</th>\n",
              "      <td>MATAM</td>\n",
              "      <td>K &gt; 24 month</td>\n",
              "      <td>1000.0</td>\n",
              "      <td>1.0</td>\n",
              "      <td>990.0</td>\n",
              "      <td>330.0</td>\n",
              "      <td>1.0</td>\n",
              "      <td>97.0</td>\n",
              "      <td>1.0</td>\n",
              "      <td>NaN</td>\n",
              "      <td>NaN</td>\n",
              "      <td>NaN</td>\n",
              "      <td>NaN</td>\n",
              "      <td>22</td>\n",
              "      <td>Data:1000F=2GB,30d</td>\n",
              "      <td>1.0</td>\n",
              "    </tr>\n",
              "    <tr>\n",
              "      <th>1</th>\n",
              "      <td>DIOURBEL</td>\n",
              "      <td>K &gt; 24 month</td>\n",
              "      <td>NaN</td>\n",
              "      <td>NaN</td>\n",
              "      <td>NaN</td>\n",
              "      <td>NaN</td>\n",
              "      <td>NaN</td>\n",
              "      <td>223.0</td>\n",
              "      <td>NaN</td>\n",
              "      <td>NaN</td>\n",
              "      <td>NaN</td>\n",
              "      <td>NaN</td>\n",
              "      <td>NaN</td>\n",
              "      <td>4</td>\n",
              "      <td>NaN</td>\n",
              "      <td>NaN</td>\n",
              "    </tr>\n",
              "    <tr>\n",
              "      <th>2</th>\n",
              "      <td>DAKAR</td>\n",
              "      <td>K &gt; 24 month</td>\n",
              "      <td>700.0</td>\n",
              "      <td>5.0</td>\n",
              "      <td>1010.0</td>\n",
              "      <td>337.0</td>\n",
              "      <td>7.0</td>\n",
              "      <td>566.0</td>\n",
              "      <td>1.0</td>\n",
              "      <td>3.0</td>\n",
              "      <td>15.0</td>\n",
              "      <td>0.0</td>\n",
              "      <td>NaN</td>\n",
              "      <td>8</td>\n",
              "      <td>Data: 100 F=40MB,24H</td>\n",
              "      <td>3.0</td>\n",
              "    </tr>\n",
              "    <tr>\n",
              "      <th>3</th>\n",
              "      <td>LOUGA</td>\n",
              "      <td>K &gt; 24 month</td>\n",
              "      <td>NaN</td>\n",
              "      <td>NaN</td>\n",
              "      <td>NaN</td>\n",
              "      <td>NaN</td>\n",
              "      <td>NaN</td>\n",
              "      <td>NaN</td>\n",
              "      <td>NaN</td>\n",
              "      <td>NaN</td>\n",
              "      <td>NaN</td>\n",
              "      <td>NaN</td>\n",
              "      <td>NaN</td>\n",
              "      <td>3</td>\n",
              "      <td>NaN</td>\n",
              "      <td>NaN</td>\n",
              "    </tr>\n",
              "    <tr>\n",
              "      <th>4</th>\n",
              "      <td>NaN</td>\n",
              "      <td>K &gt; 24 month</td>\n",
              "      <td>3000.0</td>\n",
              "      <td>3.0</td>\n",
              "      <td>2995.0</td>\n",
              "      <td>998.0</td>\n",
              "      <td>3.0</td>\n",
              "      <td>NaN</td>\n",
              "      <td>NaN</td>\n",
              "      <td>33.0</td>\n",
              "      <td>NaN</td>\n",
              "      <td>NaN</td>\n",
              "      <td>NaN</td>\n",
              "      <td>9</td>\n",
              "      <td>NaN</td>\n",
              "      <td>NaN</td>\n",
              "    </tr>\n",
              "    <tr>\n",
              "      <th>...</th>\n",
              "      <td>...</td>\n",
              "      <td>...</td>\n",
              "      <td>...</td>\n",
              "      <td>...</td>\n",
              "      <td>...</td>\n",
              "      <td>...</td>\n",
              "      <td>...</td>\n",
              "      <td>...</td>\n",
              "      <td>...</td>\n",
              "      <td>...</td>\n",
              "      <td>...</td>\n",
              "      <td>...</td>\n",
              "      <td>...</td>\n",
              "      <td>...</td>\n",
              "      <td>...</td>\n",
              "      <td>...</td>\n",
              "    </tr>\n",
              "    <tr>\n",
              "      <th>646209</th>\n",
              "      <td>KAOLACK</td>\n",
              "      <td>K &gt; 24 month</td>\n",
              "      <td>NaN</td>\n",
              "      <td>NaN</td>\n",
              "      <td>NaN</td>\n",
              "      <td>NaN</td>\n",
              "      <td>NaN</td>\n",
              "      <td>NaN</td>\n",
              "      <td>NaN</td>\n",
              "      <td>NaN</td>\n",
              "      <td>NaN</td>\n",
              "      <td>NaN</td>\n",
              "      <td>NaN</td>\n",
              "      <td>1</td>\n",
              "      <td>NaN</td>\n",
              "      <td>NaN</td>\n",
              "    </tr>\n",
              "    <tr>\n",
              "      <th>646210</th>\n",
              "      <td>SAINT-LOUIS</td>\n",
              "      <td>K &gt; 24 month</td>\n",
              "      <td>1500.0</td>\n",
              "      <td>3.0</td>\n",
              "      <td>1500.0</td>\n",
              "      <td>500.0</td>\n",
              "      <td>3.0</td>\n",
              "      <td>NaN</td>\n",
              "      <td>28.0</td>\n",
              "      <td>53.0</td>\n",
              "      <td>NaN</td>\n",
              "      <td>NaN</td>\n",
              "      <td>NaN</td>\n",
              "      <td>32</td>\n",
              "      <td>MIXT:500F= 2500F on net _2500F off net;2d</td>\n",
              "      <td>2.0</td>\n",
              "    </tr>\n",
              "    <tr>\n",
              "      <th>646211</th>\n",
              "      <td>THIES</td>\n",
              "      <td>K &gt; 24 month</td>\n",
              "      <td>13000.0</td>\n",
              "      <td>26.0</td>\n",
              "      <td>14000.0</td>\n",
              "      <td>4667.0</td>\n",
              "      <td>26.0</td>\n",
              "      <td>NaN</td>\n",
              "      <td>1355.0</td>\n",
              "      <td>183.0</td>\n",
              "      <td>50.0</td>\n",
              "      <td>NaN</td>\n",
              "      <td>NaN</td>\n",
              "      <td>58</td>\n",
              "      <td>On-net 500F_FNF;3d</td>\n",
              "      <td>15.0</td>\n",
              "    </tr>\n",
              "    <tr>\n",
              "      <th>646212</th>\n",
              "      <td>NaN</td>\n",
              "      <td>K &gt; 24 month</td>\n",
              "      <td>3100.0</td>\n",
              "      <td>4.0</td>\n",
              "      <td>3033.0</td>\n",
              "      <td>1011.0</td>\n",
              "      <td>4.0</td>\n",
              "      <td>12905.0</td>\n",
              "      <td>NaN</td>\n",
              "      <td>1.0</td>\n",
              "      <td>NaN</td>\n",
              "      <td>NaN</td>\n",
              "      <td>NaN</td>\n",
              "      <td>24</td>\n",
              "      <td>Data:1000F=5GB,7d</td>\n",
              "      <td>3.0</td>\n",
              "    </tr>\n",
              "    <tr>\n",
              "      <th>646213</th>\n",
              "      <td>KOLDA</td>\n",
              "      <td>K &gt; 24 month</td>\n",
              "      <td>6500.0</td>\n",
              "      <td>12.0</td>\n",
              "      <td>6500.0</td>\n",
              "      <td>2167.0</td>\n",
              "      <td>11.0</td>\n",
              "      <td>NaN</td>\n",
              "      <td>49.0</td>\n",
              "      <td>220.0</td>\n",
              "      <td>NaN</td>\n",
              "      <td>NaN</td>\n",
              "      <td>NaN</td>\n",
              "      <td>57</td>\n",
              "      <td>All-net 500F =2000F_AllNet_Unlimited</td>\n",
              "      <td>13.0</td>\n",
              "    </tr>\n",
              "  </tbody>\n",
              "</table>\n",
              "<p>646214 rows × 16 columns</p>\n",
              "</div>"
            ],
            "text/plain": [
              "             REGION  ... FREQ_TOP_PACK\n",
              "0             MATAM  ...           1.0\n",
              "1          DIOURBEL  ...           NaN\n",
              "2             DAKAR  ...           3.0\n",
              "3             LOUGA  ...           NaN\n",
              "4               NaN  ...           NaN\n",
              "...             ...  ...           ...\n",
              "646209      KAOLACK  ...           NaN\n",
              "646210  SAINT-LOUIS  ...           2.0\n",
              "646211        THIES  ...          15.0\n",
              "646212          NaN  ...           3.0\n",
              "646213        KOLDA  ...          13.0\n",
              "\n",
              "[646214 rows x 16 columns]"
            ]
          },
          "metadata": {
            "tags": []
          },
          "execution_count": 61
        }
      ]
    },
    {
      "cell_type": "markdown",
      "metadata": {
        "id": "ROuVBnqWH9ef",
        "colab_type": "text"
      },
      "source": [
        "> Feature Engineering\n",
        " - Extract feature of users' rank by (Group of Region by Tenure) \n",
        " - Extract feature users' rank  by TOPPACK\n",
        " - Balance Class Imbalance\n",
        " - Feature Union (K-best Selector and PCA components)"
      ]
    },
    {
      "cell_type": "markdown",
      "metadata": {
        "id": "oone-i7MIDHG",
        "colab_type": "text"
      },
      "source": [
        " - Extract feature of users' rank by (Group of Region by Tenure) \n",
        " - Extract feature users' rank  by TOPPACK"
      ]
    },
    {
      "cell_type": "code",
      "metadata": {
        "id": "Ek5XFkkEH8zl",
        "colab_type": "code",
        "colab": {}
      },
      "source": [
        "# train_process_copy = train_process.copy() "
      ],
      "execution_count": null,
      "outputs": []
    },
    {
      "cell_type": "code",
      "metadata": {
        "id": "LRB7IVMZH8w7",
        "colab_type": "code",
        "colab": {}
      },
      "source": [
        "# train_process_copy.TENURE.value_counts()"
      ],
      "execution_count": null,
      "outputs": []
    },
    {
      "cell_type": "markdown",
      "metadata": {
        "id": "ykZZzNuzIbwO",
        "colab_type": "text"
      },
      "source": [
        "labelEncode Tenure"
      ]
    },
    {
      "cell_type": "code",
      "metadata": {
        "id": "fmos43PAH8uX",
        "colab_type": "code",
        "colab": {}
      },
      "source": [
        "# label_encoder = LabelEncoder()\n",
        "# train_process_copy.TENURE = label_encoder.fit_transform(train_process_copy.TENURE) \n",
        "# train_process_copy"
      ],
      "execution_count": null,
      "outputs": []
    },
    {
      "cell_type": "code",
      "metadata": {
        "id": "IpqeasCCH8rg",
        "colab_type": "code",
        "colab": {}
      },
      "source": [
        "# top3_region = train_process_copy.groupby(['REGION'])['TENURE'].sum().sort_values(ascending=False).head(3)\n",
        "# top3_region"
      ],
      "execution_count": null,
      "outputs": []
    },
    {
      "cell_type": "code",
      "metadata": {
        "id": "VQcuakFxJ_KX",
        "colab_type": "code",
        "colab": {}
      },
      "source": [
        "# top3_region=top3_region.index.tolist() \n",
        "# top3_region "
      ],
      "execution_count": null,
      "outputs": []
    },
    {
      "cell_type": "code",
      "metadata": {
        "id": "TplP464rM51H",
        "colab_type": "code",
        "colab": {}
      },
      "source": [
        "# top3_region[0]"
      ],
      "execution_count": null,
      "outputs": []
    },
    {
      "cell_type": "code",
      "metadata": {
        "id": "4GQ42AlLN95O",
        "colab_type": "code",
        "colab": {}
      },
      "source": [
        "# x = train_process_copy.REGION.copy()\n",
        "# x "
      ],
      "execution_count": null,
      "outputs": []
    },
    {
      "cell_type": "code",
      "metadata": {
        "id": "0Q790LfnQemt",
        "colab_type": "code",
        "colab": {}
      },
      "source": [
        "# x.where((x != 1) | (x!=2) | (x !=3)) "
      ],
      "execution_count": null,
      "outputs": []
    },
    {
      "cell_type": "code",
      "metadata": {
        "id": "cGBlM7RrH8nu",
        "colab_type": "code",
        "colab": {}
      },
      "source": [
        "# x = train_process_copy.REGION.copy()\n",
        "# x = np.where(x == top3_region[0], 3, x)\n",
        "# x = np.where(x == top3_region[1], 2, x) \n",
        "# x = np.where(x == top3_region[2], 1, x)\n",
        "# x = np.where((x != 1) & (x!=2) & (x!=3), 0, x)\n",
        "# x  "
      ],
      "execution_count": null,
      "outputs": []
    },
    {
      "cell_type": "code",
      "metadata": {
        "id": "V-zJpXP1H8iA",
        "colab_type": "code",
        "colab": {}
      },
      "source": [
        "# set(x) "
      ],
      "execution_count": null,
      "outputs": []
    },
    {
      "cell_type": "code",
      "metadata": {
        "id": "5rOFcCA5xmDf",
        "colab_type": "code",
        "colab": {
          "base_uri": "https://localhost:8080/",
          "height": 34
        },
        "outputId": "797ef58d-85b7-4a22-df00-36b31e93123f"
      },
      "source": [
        "train_cols = train.drop(columns=['user_id', 'MRG']).columns.to_list()\n",
        "len(train_cols )"
      ],
      "execution_count": null,
      "outputs": [
        {
          "output_type": "execute_result",
          "data": {
            "text/plain": [
              "16"
            ]
          },
          "metadata": {
            "tags": []
          },
          "execution_count": 72
        }
      ]
    },
    {
      "cell_type": "code",
      "metadata": {
        "id": "HdomQ3DbgzVg",
        "colab_type": "code",
        "colab": {
          "base_uri": "https://localhost:8080/",
          "height": 295
        },
        "outputId": "f3063db7-b3e5-4359-b336-36cede7adac6"
      },
      "source": [
        "train_cols"
      ],
      "execution_count": null,
      "outputs": [
        {
          "output_type": "execute_result",
          "data": {
            "text/plain": [
              "['REGION',\n",
              " 'TENURE',\n",
              " 'MONTANT',\n",
              " 'FREQUENCE_RECH',\n",
              " 'REVENUE',\n",
              " 'ARPU_SEGMENT',\n",
              " 'FREQUENCE',\n",
              " 'DATA_VOLUME',\n",
              " 'ON_NET',\n",
              " 'ORANGE',\n",
              " 'TIGO',\n",
              " 'ZONE1',\n",
              " 'ZONE2',\n",
              " 'REGULARITY',\n",
              " 'TOP_PACK',\n",
              " 'FREQ_TOP_PACK']"
            ]
          },
          "metadata": {
            "tags": []
          },
          "execution_count": 73
        }
      ]
    },
    {
      "cell_type": "markdown",
      "metadata": {
        "id": "NKry7zLyq1Cn",
        "colab_type": "text"
      },
      "source": [
        "> Define estimator to extract rank features"
      ]
    },
    {
      "cell_type": "code",
      "metadata": {
        "id": "E6Gk7fjSq8Qv",
        "colab_type": "code",
        "colab": {}
      },
      "source": [
        "class Ranker(BaseEstimator, TransformerMixin): \n",
        "\n",
        "  from sklearn.preprocessing import LabelEncoder\n",
        "\n",
        "  \n",
        "\n",
        "\n",
        "  def __init__(self, group_cols:list , value_col:str, columns=None):\n",
        "    self.group_cols = group_cols\n",
        "    self.value_col = value_col \n",
        "\n",
        "    self.label_encoder = LabelEncoder()\n",
        "\n",
        "    if columns is None:\n",
        "      self.columns= [ 'REGION',\n",
        "  'TENURE',\n",
        "  'TOP_PACK', \n",
        "  'MONTANT', \n",
        "  'FREQUENCE_RECH',\n",
        "  'REVENUE',\n",
        "  'ARPU_SEGMENT',\n",
        "  'FREQUENCE',\n",
        "  'DATA_VOLUME', \n",
        "  'ON_NET',\n",
        "  'ORANGE',\n",
        "  'TIGO', \n",
        "  'ZONE1',\n",
        "  'ZONE2',\n",
        "  'REGULARITY',\n",
        "  'FREQ_TOP_PACK'\n",
        "      ]\n",
        "\n",
        "  def fit(self, X, y=None): \n",
        "\n",
        "    self.X_copy = pd.DataFrame(data=X, columns=self.columns)\n",
        "\n",
        "\n",
        "    self.X_copy[self.value_col] = self.label_encoder.fit_transform(self.X_copy[self.value_col])\n",
        "    \n",
        "\n",
        "    return self\n",
        "\n",
        "\n",
        "  def transform(self, X, y=None):\n",
        "\n",
        "    self.X_copy = pd.DataFrame(data=X, columns=self.columns)\n",
        "\n",
        "    self.X_copy[self.value_col] = self.label_encoder.fit_transform(self.X_copy[self.value_col])\n",
        "\n",
        "\n",
        "    for col in self.group_cols:\n",
        "\n",
        "      self.top3_ = self.X_copy.groupby([col])[self.value_col].sum().sort_values(ascending=False).head(3) \n",
        "\n",
        "      self.top3_ = self.top3_.index.tolist()\n",
        "\n",
        "      #print(self.top3_)\n",
        "\n",
        "      self.X_copy[col] = np.where(self.X_copy[col] == \n",
        "                                            self.top3_[0], 3, self.X_copy[col]) \n",
        "      \n",
        "      self.X_copy[col] = np.where(self.X_copy[col] == \n",
        "                                            self.top3_[1], 2, self.X_copy[col])  \n",
        "      \n",
        "      self.X_copy[col] = np.where(self.X_copy[col] ==  \n",
        "                                            self.top3_[2], 1, self.X_copy[col])\n",
        "      \n",
        "      \n",
        "      self.X_copy[col] = np.where((self.X_copy[col] != 1 ) & (\n",
        "          self.X_copy[col] !=2 ) & (self.X_copy[col] !=3 ), 0, self.X_copy[col])\n",
        "\n",
        "\n",
        "    return self.X_copy\n",
        "\n",
        "\n",
        "  def fit_transform(self, X, y=None):\n",
        "\n",
        "    self = self.fit(X)\n",
        "\n",
        "    self.X_copy = self.transform(X)\n",
        "\n",
        "\n",
        "    return self.X_copy "
      ],
      "execution_count": null,
      "outputs": []
    },
    {
      "cell_type": "code",
      "metadata": {
        "id": "1QSN_YmayE7e",
        "colab_type": "code",
        "colab": {}
      },
      "source": [
        "ranker = Ranker(group_cols=['REGION', 'TOP_PACK'], value_col='TENURE')\n",
        "train_process_copy = train_process.copy()  \n",
        "train_process_copy = ranker.fit_transform(train_process_copy)  "
      ],
      "execution_count": null,
      "outputs": []
    },
    {
      "cell_type": "code",
      "metadata": {
        "id": "JnuqItDT1mcS",
        "colab_type": "code",
        "colab": {
          "base_uri": "https://localhost:8080/",
          "height": 424
        },
        "outputId": "33275a75-0ec6-4103-b363-960e1a9f2a49"
      },
      "source": [
        "train_process_copy "
      ],
      "execution_count": null,
      "outputs": [
        {
          "output_type": "execute_result",
          "data": {
            "text/html": [
              "<div>\n",
              "<style scoped>\n",
              "    .dataframe tbody tr th:only-of-type {\n",
              "        vertical-align: middle;\n",
              "    }\n",
              "\n",
              "    .dataframe tbody tr th {\n",
              "        vertical-align: top;\n",
              "    }\n",
              "\n",
              "    .dataframe thead th {\n",
              "        text-align: right;\n",
              "    }\n",
              "</style>\n",
              "<table border=\"1\" class=\"dataframe\">\n",
              "  <thead>\n",
              "    <tr style=\"text-align: right;\">\n",
              "      <th></th>\n",
              "      <th>REGION</th>\n",
              "      <th>TENURE</th>\n",
              "      <th>TOP_PACK</th>\n",
              "      <th>MONTANT</th>\n",
              "      <th>FREQUENCE_RECH</th>\n",
              "      <th>REVENUE</th>\n",
              "      <th>ARPU_SEGMENT</th>\n",
              "      <th>FREQUENCE</th>\n",
              "      <th>DATA_VOLUME</th>\n",
              "      <th>ON_NET</th>\n",
              "      <th>ORANGE</th>\n",
              "      <th>TIGO</th>\n",
              "      <th>ZONE1</th>\n",
              "      <th>ZONE2</th>\n",
              "      <th>REGULARITY</th>\n",
              "      <th>FREQ_TOP_PACK</th>\n",
              "    </tr>\n",
              "  </thead>\n",
              "  <tbody>\n",
              "    <tr>\n",
              "      <th>0</th>\n",
              "      <td>0</td>\n",
              "      <td>7</td>\n",
              "      <td>0</td>\n",
              "      <td>1000.0</td>\n",
              "      <td>1.0</td>\n",
              "      <td>990.0</td>\n",
              "      <td>330.0</td>\n",
              "      <td>1.0</td>\n",
              "      <td>97.0</td>\n",
              "      <td>1.0</td>\n",
              "      <td>NaN</td>\n",
              "      <td>NaN</td>\n",
              "      <td>NaN</td>\n",
              "      <td>NaN</td>\n",
              "      <td>22</td>\n",
              "      <td>1.0</td>\n",
              "    </tr>\n",
              "    <tr>\n",
              "      <th>1</th>\n",
              "      <td>0</td>\n",
              "      <td>7</td>\n",
              "      <td>0</td>\n",
              "      <td>NaN</td>\n",
              "      <td>NaN</td>\n",
              "      <td>NaN</td>\n",
              "      <td>NaN</td>\n",
              "      <td>NaN</td>\n",
              "      <td>223.0</td>\n",
              "      <td>NaN</td>\n",
              "      <td>NaN</td>\n",
              "      <td>NaN</td>\n",
              "      <td>NaN</td>\n",
              "      <td>NaN</td>\n",
              "      <td>4</td>\n",
              "      <td>NaN</td>\n",
              "    </tr>\n",
              "    <tr>\n",
              "      <th>2</th>\n",
              "      <td>3</td>\n",
              "      <td>7</td>\n",
              "      <td>0</td>\n",
              "      <td>700.0</td>\n",
              "      <td>5.0</td>\n",
              "      <td>1010.0</td>\n",
              "      <td>337.0</td>\n",
              "      <td>7.0</td>\n",
              "      <td>566.0</td>\n",
              "      <td>1.0</td>\n",
              "      <td>3.0</td>\n",
              "      <td>15.0</td>\n",
              "      <td>0.0</td>\n",
              "      <td>NaN</td>\n",
              "      <td>8</td>\n",
              "      <td>3.0</td>\n",
              "    </tr>\n",
              "    <tr>\n",
              "      <th>3</th>\n",
              "      <td>0</td>\n",
              "      <td>7</td>\n",
              "      <td>0</td>\n",
              "      <td>NaN</td>\n",
              "      <td>NaN</td>\n",
              "      <td>NaN</td>\n",
              "      <td>NaN</td>\n",
              "      <td>NaN</td>\n",
              "      <td>NaN</td>\n",
              "      <td>NaN</td>\n",
              "      <td>NaN</td>\n",
              "      <td>NaN</td>\n",
              "      <td>NaN</td>\n",
              "      <td>NaN</td>\n",
              "      <td>3</td>\n",
              "      <td>NaN</td>\n",
              "    </tr>\n",
              "    <tr>\n",
              "      <th>4</th>\n",
              "      <td>0</td>\n",
              "      <td>7</td>\n",
              "      <td>0</td>\n",
              "      <td>3000.0</td>\n",
              "      <td>3.0</td>\n",
              "      <td>2995.0</td>\n",
              "      <td>998.0</td>\n",
              "      <td>3.0</td>\n",
              "      <td>NaN</td>\n",
              "      <td>NaN</td>\n",
              "      <td>33.0</td>\n",
              "      <td>NaN</td>\n",
              "      <td>NaN</td>\n",
              "      <td>NaN</td>\n",
              "      <td>9</td>\n",
              "      <td>NaN</td>\n",
              "    </tr>\n",
              "    <tr>\n",
              "      <th>...</th>\n",
              "      <td>...</td>\n",
              "      <td>...</td>\n",
              "      <td>...</td>\n",
              "      <td>...</td>\n",
              "      <td>...</td>\n",
              "      <td>...</td>\n",
              "      <td>...</td>\n",
              "      <td>...</td>\n",
              "      <td>...</td>\n",
              "      <td>...</td>\n",
              "      <td>...</td>\n",
              "      <td>...</td>\n",
              "      <td>...</td>\n",
              "      <td>...</td>\n",
              "      <td>...</td>\n",
              "      <td>...</td>\n",
              "    </tr>\n",
              "    <tr>\n",
              "      <th>646209</th>\n",
              "      <td>0</td>\n",
              "      <td>7</td>\n",
              "      <td>0</td>\n",
              "      <td>NaN</td>\n",
              "      <td>NaN</td>\n",
              "      <td>NaN</td>\n",
              "      <td>NaN</td>\n",
              "      <td>NaN</td>\n",
              "      <td>NaN</td>\n",
              "      <td>NaN</td>\n",
              "      <td>NaN</td>\n",
              "      <td>NaN</td>\n",
              "      <td>NaN</td>\n",
              "      <td>NaN</td>\n",
              "      <td>1</td>\n",
              "      <td>NaN</td>\n",
              "    </tr>\n",
              "    <tr>\n",
              "      <th>646210</th>\n",
              "      <td>1</td>\n",
              "      <td>7</td>\n",
              "      <td>0</td>\n",
              "      <td>1500.0</td>\n",
              "      <td>3.0</td>\n",
              "      <td>1500.0</td>\n",
              "      <td>500.0</td>\n",
              "      <td>3.0</td>\n",
              "      <td>NaN</td>\n",
              "      <td>28.0</td>\n",
              "      <td>53.0</td>\n",
              "      <td>NaN</td>\n",
              "      <td>NaN</td>\n",
              "      <td>NaN</td>\n",
              "      <td>32</td>\n",
              "      <td>2.0</td>\n",
              "    </tr>\n",
              "    <tr>\n",
              "      <th>646211</th>\n",
              "      <td>2</td>\n",
              "      <td>7</td>\n",
              "      <td>0</td>\n",
              "      <td>13000.0</td>\n",
              "      <td>26.0</td>\n",
              "      <td>14000.0</td>\n",
              "      <td>4667.0</td>\n",
              "      <td>26.0</td>\n",
              "      <td>NaN</td>\n",
              "      <td>1355.0</td>\n",
              "      <td>183.0</td>\n",
              "      <td>50.0</td>\n",
              "      <td>NaN</td>\n",
              "      <td>NaN</td>\n",
              "      <td>58</td>\n",
              "      <td>15.0</td>\n",
              "    </tr>\n",
              "    <tr>\n",
              "      <th>646212</th>\n",
              "      <td>0</td>\n",
              "      <td>7</td>\n",
              "      <td>0</td>\n",
              "      <td>3100.0</td>\n",
              "      <td>4.0</td>\n",
              "      <td>3033.0</td>\n",
              "      <td>1011.0</td>\n",
              "      <td>4.0</td>\n",
              "      <td>12905.0</td>\n",
              "      <td>NaN</td>\n",
              "      <td>1.0</td>\n",
              "      <td>NaN</td>\n",
              "      <td>NaN</td>\n",
              "      <td>NaN</td>\n",
              "      <td>24</td>\n",
              "      <td>3.0</td>\n",
              "    </tr>\n",
              "    <tr>\n",
              "      <th>646213</th>\n",
              "      <td>0</td>\n",
              "      <td>7</td>\n",
              "      <td>0</td>\n",
              "      <td>6500.0</td>\n",
              "      <td>12.0</td>\n",
              "      <td>6500.0</td>\n",
              "      <td>2167.0</td>\n",
              "      <td>11.0</td>\n",
              "      <td>NaN</td>\n",
              "      <td>49.0</td>\n",
              "      <td>220.0</td>\n",
              "      <td>NaN</td>\n",
              "      <td>NaN</td>\n",
              "      <td>NaN</td>\n",
              "      <td>57</td>\n",
              "      <td>13.0</td>\n",
              "    </tr>\n",
              "  </tbody>\n",
              "</table>\n",
              "<p>646214 rows × 16 columns</p>\n",
              "</div>"
            ],
            "text/plain": [
              "       REGION  TENURE TOP_PACK  ...  ZONE2  REGULARITY  FREQ_TOP_PACK\n",
              "0           0       7        0  ...    NaN          22            1.0\n",
              "1           0       7        0  ...    NaN           4            NaN\n",
              "2           3       7        0  ...    NaN           8            3.0\n",
              "3           0       7        0  ...    NaN           3            NaN\n",
              "4           0       7        0  ...    NaN           9            NaN\n",
              "...       ...     ...      ...  ...    ...         ...            ...\n",
              "646209      0       7        0  ...    NaN           1            NaN\n",
              "646210      1       7        0  ...    NaN          32            2.0\n",
              "646211      2       7        0  ...    NaN          58           15.0\n",
              "646212      0       7        0  ...    NaN          24            3.0\n",
              "646213      0       7        0  ...    NaN          57           13.0\n",
              "\n",
              "[646214 rows x 16 columns]"
            ]
          },
          "metadata": {
            "tags": []
          },
          "execution_count": 76
        }
      ]
    },
    {
      "cell_type": "markdown",
      "metadata": {
        "id": "Vp0RiqCnUZxO",
        "colab_type": "text"
      },
      "source": [
        "#### save cleaned data for modelling\n"
      ]
    },
    {
      "cell_type": "code",
      "metadata": {
        "id": "QPLv28Y2UdqY",
        "colab_type": "code",
        "colab": {}
      },
      "source": [
        "# train_process_copy.to_csv('/content/drive/My Drive/Zindi-Competionts/customer-churn-prediction/datasets/clean_train.csv',index=False)"
      ],
      "execution_count": null,
      "outputs": []
    },
    {
      "cell_type": "code",
      "metadata": {
        "id": "2HYWMYIovqJG",
        "colab_type": "code",
        "colab": {}
      },
      "source": [
        "# train_process_copy  = pd.read_csv('/content/drive/My Drive/Zindi-Competionts/customer-churn-prediction/datasets/clean_train.csv') "
      ],
      "execution_count": null,
      "outputs": []
    },
    {
      "cell_type": "markdown",
      "metadata": {
        "id": "tme0rijTQEks",
        "colab_type": "text"
      },
      "source": [
        "--- "
      ]
    },
    {
      "cell_type": "code",
      "metadata": {
        "id": "GGC8cEUkpSt2",
        "colab_type": "code",
        "colab": {}
      },
      "source": [
        "# train_process_copy "
      ],
      "execution_count": null,
      "outputs": []
    },
    {
      "cell_type": "markdown",
      "metadata": {
        "id": "fvZKJ8w8_LOj",
        "colab_type": "text"
      },
      "source": [
        " - Balance Class Imbalance\n",
        " - Feature Union (K-best Selector and PCA components)"
      ]
    },
    {
      "cell_type": "code",
      "metadata": {
        "id": "aJw4rd2vmoam",
        "colab_type": "code",
        "colab": {}
      },
      "source": [
        ""
      ],
      "execution_count": null,
      "outputs": []
    },
    {
      "cell_type": "code",
      "metadata": {
        "id": "cjUoGOW_XieJ",
        "colab_type": "code",
        "colab": {}
      },
      "source": [
        "# # scale data with standarscaler\n",
        "# scaler = RobustScaler() "
      ],
      "execution_count": null,
      "outputs": []
    },
    {
      "cell_type": "code",
      "metadata": {
        "id": "lbHnzc67Xz85",
        "colab_type": "code",
        "colab": {}
      },
      "source": [
        "# scaled_train = scaler.fit_transform(train_process_copy)\n",
        "# scaled_train "
      ],
      "execution_count": null,
      "outputs": []
    },
    {
      "cell_type": "code",
      "metadata": {
        "id": "UI7Hxf1aIEDE",
        "colab_type": "code",
        "colab": {}
      },
      "source": [
        "# scaled_train.shape"
      ],
      "execution_count": null,
      "outputs": []
    },
    {
      "cell_type": "code",
      "metadata": {
        "id": "C8sB4ay__KJw",
        "colab_type": "code",
        "colab": {}
      },
      "source": [
        "# smote = SMOTE(random_state=0) "
      ],
      "execution_count": null,
      "outputs": []
    },
    {
      "cell_type": "code",
      "metadata": {
        "id": "K3z3xPWM_KGw",
        "colab_type": "code",
        "colab": {}
      },
      "source": [
        "# X, y = smote.fit_resample(scaled_train, train_label)"
      ],
      "execution_count": null,
      "outputs": []
    },
    {
      "cell_type": "code",
      "metadata": {
        "id": "PShbz9zT_KDd",
        "colab_type": "code",
        "colab": {}
      },
      "source": [
        "# X "
      ],
      "execution_count": null,
      "outputs": []
    },
    {
      "cell_type": "code",
      "metadata": {
        "id": "AYowB5lWYnHY",
        "colab_type": "code",
        "colab": {}
      },
      "source": [
        "# pd.Series(y).value_counts() "
      ],
      "execution_count": null,
      "outputs": []
    },
    {
      "cell_type": "code",
      "metadata": {
        "id": "P9PtAlCJ_KAA",
        "colab_type": "code",
        "colab": {}
      },
      "source": [
        "# corr = pd.DataFrame(data=X, columns=train_process_copy.columns.to_list()).join(pd.DataFrame(y, columns=['label']))\n",
        "# corr "
      ],
      "execution_count": null,
      "outputs": []
    },
    {
      "cell_type": "code",
      "metadata": {
        "id": "958A7PiQEsic",
        "colab_type": "code",
        "colab": {}
      },
      "source": [
        "# corr.isna().any()"
      ],
      "execution_count": null,
      "outputs": []
    },
    {
      "cell_type": "code",
      "metadata": {
        "id": "gHjjKqtZ_J7b",
        "colab_type": "code",
        "colab": {}
      },
      "source": [
        "# f, ax = plt.subplots(figsize=(20, 25))  \n",
        "# ax = sns.heatmap(corr, vmin=0, vmax=1) \n",
        "# corr.corr()  "
      ],
      "execution_count": null,
      "outputs": []
    },
    {
      "cell_type": "markdown",
      "metadata": {
        "id": "MBmQ81m0MFQG",
        "colab_type": "text"
      },
      "source": [
        "#### Feature Union K-Best and PCA Components"
      ]
    },
    {
      "cell_type": "markdown",
      "metadata": {
        "id": "UBb_ms9UPC9q",
        "colab_type": "text"
      },
      "source": [
        "- select the optimal k for k-best"
      ]
    },
    {
      "cell_type": "code",
      "metadata": {
        "id": "YWKFutY9MLJs",
        "colab_type": "code",
        "colab": {}
      },
      "source": [
        "# KBest = SelectKBest(score_func = f_classif, k = 'all')\n",
        "# KBest = KBest.fit(X,y)  \n"
      ],
      "execution_count": null,
      "outputs": []
    },
    {
      "cell_type": "code",
      "metadata": {
        "id": "kQnJimX5MK7g",
        "colab_type": "code",
        "colab": {}
      },
      "source": [
        "# kb_scores = pd.DataFrame({'features': train_process_copy.columns, 'f_classif': KBest.scores_, 'pValue': KBest.pvalues_ }).sort_values(by='f_classif', \n",
        "#                                                                                                                                       ascending=False)\n",
        "# kb_scores "
      ],
      "execution_count": null,
      "outputs": []
    },
    {
      "cell_type": "code",
      "metadata": {
        "id": "KXEXfNAmSfNx",
        "colab_type": "code",
        "colab": {}
      },
      "source": [
        "# kb_scores.shape"
      ],
      "execution_count": null,
      "outputs": []
    },
    {
      "cell_type": "markdown",
      "metadata": {
        "id": "evynxY_sTBas",
        "colab_type": "text"
      },
      "source": [
        "I would taek the first 12 features with thousandth scores "
      ]
    },
    {
      "cell_type": "code",
      "metadata": {
        "id": "WFV6kSggMKvG",
        "colab_type": "code",
        "colab": {}
      },
      "source": [
        "# kbest_cols = kb_scores.features.iloc[:12].tolist()\n",
        "# kbest_cols "
      ],
      "execution_count": null,
      "outputs": []
    },
    {
      "cell_type": "code",
      "metadata": {
        "id": "tUkZ9N7wdDFv",
        "colab_type": "code",
        "colab": {}
      },
      "source": [
        "# KBest = SelectKBest(score_func = f_classif, k = 12)\n",
        "# KBest_data = KBest.fit_transform(X,y) "
      ],
      "execution_count": null,
      "outputs": []
    },
    {
      "cell_type": "code",
      "metadata": {
        "id": "Br0avUz-dOZu",
        "colab_type": "code",
        "colab": {}
      },
      "source": [
        "# KBest_data.shape"
      ],
      "execution_count": null,
      "outputs": []
    },
    {
      "cell_type": "markdown",
      "metadata": {
        "id": "Xp-p6QyuT47u",
        "colab_type": "text"
      },
      "source": [
        "- PCA components"
      ]
    },
    {
      "cell_type": "markdown",
      "metadata": {
        "id": "In3zKVIaT_Dn",
        "colab_type": "text"
      },
      "source": [
        "- get optimal k"
      ]
    },
    {
      "cell_type": "code",
      "metadata": {
        "id": "ygJBaLbRT71J",
        "colab_type": "code",
        "colab": {}
      },
      "source": [
        "# pca = TruncatedSVD(n_components = X.shape[1]-1).fit(X)\n",
        "# pca"
      ],
      "execution_count": null,
      "outputs": []
    },
    {
      "cell_type": "code",
      "metadata": {
        "id": "K75rOsB5T7uI",
        "colab_type": "code",
        "colab": {}
      },
      "source": [
        "# plt.plot(np.cumsum(pca.explained_variance_ratio_))\n",
        "# plt.xlabel('number of components') \n",
        "# plt.ylabel('cumulative explained variance');"
      ],
      "execution_count": null,
      "outputs": []
    },
    {
      "cell_type": "code",
      "metadata": {
        "id": "VCxOvjVXmx1M",
        "colab_type": "code",
        "colab": {}
      },
      "source": [
        ""
      ],
      "execution_count": null,
      "outputs": []
    },
    {
      "cell_type": "markdown",
      "metadata": {
        "id": "l7_DEr-obzMa",
        "colab_type": "text"
      },
      "source": [
        "14 components explains the X 100%\n",
        "\n",
        "> Indented block\n",
        "\n"
      ]
    },
    {
      "cell_type": "code",
      "metadata": {
        "id": "_3tEGggiT7m-",
        "colab_type": "code",
        "colab": {}
      },
      "source": [
        "# pca = TruncatedSVD(n_components = 14, random_state=0).fit(X)\n",
        "# pca"
      ],
      "execution_count": null,
      "outputs": []
    },
    {
      "cell_type": "code",
      "metadata": {
        "id": "J1fOd7Bwd1Wy",
        "colab_type": "code",
        "colab": {}
      },
      "source": [
        "# pca_ratio = pca.explained_variance_ratio_\n",
        "# pca_ratio "
      ],
      "execution_count": null,
      "outputs": []
    },
    {
      "cell_type": "markdown",
      "metadata": {
        "id": "aTybpSpudkjq",
        "colab_type": "text"
      },
      "source": [
        "I would be optimaisng for 95% exaplainability"
      ]
    },
    {
      "cell_type": "code",
      "metadata": {
        "id": "wKtT0BJndoXS",
        "colab_type": "code",
        "colab": {}
      },
      "source": [
        "def select_n_components(var_ratio, goal_var: float) -> int:\n",
        "    # Set initial variance explained so far\n",
        "    total_variance = 0.0\n",
        "    \n",
        "    # Set initial number of features\n",
        "    n_components = 0\n",
        "    \n",
        "    # For the explained variance of each feature:\n",
        "    for explained_variance in var_ratio:\n",
        "        \n",
        "        # Add the explained variance to the total\n",
        "        total_variance += explained_variance\n",
        "                                     \n",
        "        # Add one to the number of components\n",
        "        n_components += 1\n",
        "        \n",
        "        # If we reach our goal level of explained variance\n",
        "        if total_variance >= goal_var:\n",
        "            # End the loop\n",
        "            break\n",
        "            \n",
        "    # Return the number of components\n",
        "    return n_components"
      ],
      "execution_count": null,
      "outputs": []
    },
    {
      "cell_type": "code",
      "metadata": {
        "id": "90SCEn9zcgE7",
        "colab_type": "code",
        "colab": {}
      },
      "source": [
        "# select_n_components(pca_ratio, goal_var=.95)"
      ],
      "execution_count": null,
      "outputs": []
    },
    {
      "cell_type": "markdown",
      "metadata": {
        "id": "1uKk1C-MYeMn",
        "colab_type": "text"
      },
      "source": [
        "9 components gives the best explainability"
      ]
    },
    {
      "cell_type": "markdown",
      "metadata": {
        "id": "KKGoyh6Ge3Ef",
        "colab_type": "text"
      },
      "source": [
        "### 9 components provides 95% explainability"
      ]
    },
    {
      "cell_type": "markdown",
      "metadata": {
        "id": "97lLQgm-e2xl",
        "colab_type": "text"
      },
      "source": [
        ""
      ]
    },
    {
      "cell_type": "code",
      "metadata": {
        "id": "LgtqPUwecsY4",
        "colab_type": "code",
        "colab": {}
      },
      "source": [
        "# pca_components"
      ],
      "execution_count": null,
      "outputs": []
    },
    {
      "cell_type": "markdown",
      "metadata": {
        "id": "jKSZzz8fecX2",
        "colab_type": "text"
      },
      "source": [
        "### Decomposing Features into Components"
      ]
    },
    {
      "cell_type": "code",
      "metadata": {
        "id": "sq8vFJy7eZ4s",
        "colab_type": "code",
        "colab": {}
      },
      "source": [
        "def pca_call(data, n_components, algo='randomized', n_iter=100, random_seed =123, tol=0.0) -> np.array:\n",
        "\n",
        "  pca = TruncatedSVD(n_components=n_components, algorithm=algo, \n",
        "                     n_iter=n_iter, random_state=random_seed, tol=tol)\n",
        "  \n",
        "  data_reduced = pca.fit_transform(data) \n",
        "\n",
        "  return data_reduced, pca"
      ],
      "execution_count": null,
      "outputs": []
    },
    {
      "cell_type": "code",
      "metadata": {
        "id": "2k95DOnNenpZ",
        "colab_type": "code",
        "colab": {}
      },
      "source": [
        "# pca_data, pca = pca_call(X, n_components=9)"
      ],
      "execution_count": null,
      "outputs": []
    },
    {
      "cell_type": "code",
      "metadata": {
        "id": "OnB0l9r3fBzb",
        "colab_type": "code",
        "colab": {}
      },
      "source": [
        "# pca_data.shape "
      ],
      "execution_count": null,
      "outputs": []
    },
    {
      "cell_type": "markdown",
      "metadata": {
        "id": "ss9aMaaufL1Y",
        "colab_type": "text"
      },
      "source": [
        "#### Combine PCA components and K-best features"
      ]
    },
    {
      "cell_type": "code",
      "metadata": {
        "id": "hJndFkeffQ6O",
        "colab_type": "code",
        "colab": {}
      },
      "source": [
        "# X_joined = np.concatenate((KBest_data, pca_data), axis=1)"
      ],
      "execution_count": null,
      "outputs": []
    },
    {
      "cell_type": "code",
      "metadata": {
        "id": "dWp9s5TlfQ3R",
        "colab_type": "code",
        "colab": {}
      },
      "source": [
        "# X_joined.shape[0] == y.shape[0]"
      ],
      "execution_count": null,
      "outputs": []
    },
    {
      "cell_type": "code",
      "metadata": {
        "id": "C6MLKVbWHzF_",
        "colab_type": "code",
        "colab": {}
      },
      "source": [
        "# X_joined.shape"
      ],
      "execution_count": null,
      "outputs": []
    },
    {
      "cell_type": "markdown",
      "metadata": {
        "id": "1auAQ5sApPOZ",
        "colab_type": "text"
      },
      "source": [
        "> test  pipeline ...\n"
      ]
    },
    {
      "cell_type": "code",
      "metadata": {
        "id": "WF7rFkVupQ-J",
        "colab_type": "code",
        "colab": {}
      },
      "source": [
        "\n",
        "# feature_pipe = FeatureUnion(transformer_list=[('pca', TruncatedSVD(n_components=9)) ,\n",
        "#                                               ('k_best', SelectKBest(score_func = f_classif, k = 'all'))            \n",
        "#                               ])\n",
        "\n",
        "\n",
        "# full_pipe = ImbPipe(steps=[('smt',  SMOTE()),  ('scaler', RobustScaler()), ('feature_pipe', feature_pipe)], verbose=True) "
      ],
      "execution_count": null,
      "outputs": []
    },
    {
      "cell_type": "code",
      "metadata": {
        "id": "_CeR4MaqvPWp",
        "colab_type": "code",
        "colab": {}
      },
      "source": [
        "# print(train_process_copy.shape)\n",
        "# print(train_label.shape) "
      ],
      "execution_count": null,
      "outputs": []
    },
    {
      "cell_type": "code",
      "metadata": {
        "id": "qn03pmlLvwXY",
        "colab_type": "code",
        "colab": {}
      },
      "source": [
        "# train_process_copy.head(1)"
      ],
      "execution_count": null,
      "outputs": []
    },
    {
      "cell_type": "code",
      "metadata": {
        "id": "Xux-wLNn8j6L",
        "colab_type": "code",
        "colab": {}
      },
      "source": [
        "# train_label.head(1)"
      ],
      "execution_count": null,
      "outputs": []
    },
    {
      "cell_type": "code",
      "metadata": {
        "id": "ISR2GTQ0uuGS",
        "colab_type": "code",
        "colab": {}
      },
      "source": [
        "# full_pipe.fit_transform(train_process_copy, train_label) "
      ],
      "execution_count": null,
      "outputs": []
    },
    {
      "cell_type": "markdown",
      "metadata": {
        "id": "5obbe4COEKVr",
        "colab_type": "text"
      },
      "source": [
        "## Modelling\n",
        "\n",
        "Algorithms:\n",
        "\n",
        "- logisticRegression - Basemodel\n",
        "\n",
        "- SVC\n",
        "\n",
        "- Catboost\n",
        "\n",
        "- XGboost\n",
        "\n",
        "- LGBM\n",
        "\n",
        "Techniques\n",
        "\n",
        "- cross validation\n",
        "\n",
        "- hp-tuning\n",
        "\n",
        "- over-sampling imbalance"
      ]
    },
    {
      "cell_type": "markdown",
      "metadata": {
        "id": "z3Jqvg8pEOyj",
        "colab_type": "text"
      },
      "source": [
        ">> Import needed libraries"
      ]
    },
    {
      "cell_type": "markdown",
      "metadata": {
        "id": "09H2HVxqEtY2",
        "colab_type": "text"
      },
      "source": [
        "split to X & Y"
      ]
    },
    {
      "cell_type": "code",
      "metadata": {
        "id": "K7A1zpQ5G4k0",
        "colab_type": "code",
        "colab": {}
      },
      "source": [
        "X= train.copy()\n",
        "y = train_label.copy()"
      ],
      "execution_count": null,
      "outputs": []
    },
    {
      "cell_type": "markdown",
      "metadata": {
        "id": "yyGfUJ2CHg2s",
        "colab_type": "text"
      },
      "source": [
        "split to train and validation set"
      ]
    },
    {
      "cell_type": "code",
      "metadata": {
        "id": "s91sI4lzv1tb",
        "colab_type": "code",
        "colab": {}
      },
      "source": [
        "X_train, X_eval, y_train, y_eval = train_test_split(\n",
        "   X,\n",
        "   y,\n",
        "    test_size=0.33, \n",
        "    shuffle=True,\n",
        "    stratify = y, \n",
        "    random_state=0) "
      ],
      "execution_count": null,
      "outputs": []
    },
    {
      "cell_type": "markdown",
      "metadata": {
        "id": "yuvYFVsi5z2N",
        "colab_type": "text"
      },
      "source": [
        "split to train and test set"
      ]
    },
    {
      "cell_type": "code",
      "metadata": {
        "id": "WmG1sBAh55jL",
        "colab_type": "code",
        "colab": {}
      },
      "source": [
        "X_train2, X_test, y_train2, y_test = train_test_split(\n",
        "   X_train,\n",
        "   y_train,\n",
        "    test_size=0.33,\n",
        "    shuffle=True,\n",
        "    stratify = y_train, \n",
        "    random_state=0) "
      ],
      "execution_count": null,
      "outputs": []
    },
    {
      "cell_type": "code",
      "metadata": {
        "id": "-NFw_ua6GaFG",
        "colab_type": "code",
        "colab": {
          "base_uri": "https://localhost:8080/",
          "height": 52
        },
        "outputId": "421fcd22-2082-487e-ebee-088c4018b4a9"
      },
      "source": [
        "print(X_train.shape) \n",
        "print(y_train.shape) "
      ],
      "execution_count": null,
      "outputs": [
        {
          "output_type": "stream",
          "text": [
            "(432963, 18)\n",
            "(432963,)\n"
          ],
          "name": "stdout"
        }
      ]
    },
    {
      "cell_type": "code",
      "metadata": {
        "id": "swo3CS_U6XSf",
        "colab_type": "code",
        "colab": {
          "base_uri": "https://localhost:8080/",
          "height": 52
        },
        "outputId": "02f0b6bd-01e3-4783-bcd5-f07f92fe8a68"
      },
      "source": [
        "print(X_train2.shape) \n",
        "print(y_train2.shape) "
      ],
      "execution_count": null,
      "outputs": [
        {
          "output_type": "stream",
          "text": [
            "(290085, 18)\n",
            "(290085,)\n"
          ],
          "name": "stdout"
        }
      ]
    },
    {
      "cell_type": "markdown",
      "metadata": {
        "id": "4KU7-xpKkhrO",
        "colab_type": "text"
      },
      "source": [
        "### Build Pipeline"
      ]
    },
    {
      "cell_type": "markdown",
      "metadata": {
        "id": "kQJEo_K2lF7q",
        "colab_type": "text"
      },
      "source": [
        " #### Preprocessing Pipeline"
      ]
    },
    {
      "cell_type": "code",
      "metadata": {
        "id": "dXgSXXtcWRlW",
        "colab_type": "code",
        "colab": {
          "base_uri": "https://localhost:8080/",
          "height": 243
        },
        "outputId": "b64c2b00-6db8-47b3-c6e5-eff38d8ed463"
      },
      "source": [
        "num_features = train.select_dtypes(include='number').columns.tolist()\n",
        "num_features"
      ],
      "execution_count": null,
      "outputs": [
        {
          "output_type": "execute_result",
          "data": {
            "text/plain": [
              "['MONTANT',\n",
              " 'FREQUENCE_RECH',\n",
              " 'REVENUE',\n",
              " 'ARPU_SEGMENT',\n",
              " 'FREQUENCE',\n",
              " 'DATA_VOLUME',\n",
              " 'ON_NET',\n",
              " 'ORANGE',\n",
              " 'TIGO',\n",
              " 'ZONE1',\n",
              " 'ZONE2',\n",
              " 'REGULARITY',\n",
              " 'FREQ_TOP_PACK']"
            ]
          },
          "metadata": {
            "tags": []
          },
          "execution_count": 117
        }
      ]
    },
    {
      "cell_type": "code",
      "metadata": {
        "id": "CUHqfgzTWkeB",
        "colab_type": "code",
        "colab": {
          "base_uri": "https://localhost:8080/",
          "height": 34
        },
        "outputId": "b68ce46e-37c0-44b5-aab3-efa017e71b06"
      },
      "source": [
        "cat_features = train.select_dtypes(include='object').drop(['user_id', 'MRG'], axis=1).columns.tolist() \n",
        "cat_features "
      ],
      "execution_count": null,
      "outputs": [
        {
          "output_type": "execute_result",
          "data": {
            "text/plain": [
              "['REGION', 'TENURE', 'TOP_PACK']"
            ]
          },
          "metadata": {
            "tags": []
          },
          "execution_count": 118
        }
      ]
    },
    {
      "cell_type": "code",
      "metadata": {
        "id": "E-tFYe2_kmfa",
        "colab_type": "code",
        "colab": {}
      },
      "source": [
        "process_pipe1 = Pipeline(steps=[('drop_cols',  DropColumns(cols_to_drop=['MRG', 'user_id'])),  \n",
        "                                ('impute_outlier', ImputeOutlier())])  "
      ],
      "execution_count": null,
      "outputs": []
    },
    {
      "cell_type": "code",
      "metadata": {
        "id": "-6o1uNjLkmaN",
        "colab_type": "code",
        "colab": {}
      },
      "source": [
        "process_pipe2 = ColumnTransformer([('cat_impute', SimpleImputer(strategy='most_frequent'), selector(dtype_include='object')),\n",
        "                                              ('num_impute', SimpleImputer(strategy='mean'),selector(dtype_include=['int64','float64']))\n",
        "                                  ], remainder = \"drop\")"
      ],
      "execution_count": null,
      "outputs": []
    },
    {
      "cell_type": "code",
      "metadata": {
        "id": "8_M3JdfTkmUV",
        "colab_type": "code",
        "colab": {}
      },
      "source": [
        "process_pipe3 =  Pipeline(steps=[('ranker', Ranker(group_cols=['REGION', 'TOP_PACK'], value_col='TENURE')),\n",
        "                                ]) "
      ],
      "execution_count": null,
      "outputs": []
    },
    {
      "cell_type": "code",
      "metadata": {
        "id": "PMu31cWSkmQq",
        "colab_type": "code",
        "colab": {}
      },
      "source": [
        "feature_pipe = FeatureUnion(transformer_list=[('pca', PCA(n_components=9)) ,\n",
        "                                              ('k_best', SelectKBest(score_func = f_classif, k = 12))            \n",
        "                              ])\n",
        "\n",
        "\n",
        "process_pipe4 = Pipeline(steps=[('scaler', StandardScaler()), ('feature_pipe', feature_pipe)], verbose=True) "
      ],
      "execution_count": null,
      "outputs": []
    },
    {
      "cell_type": "code",
      "metadata": {
        "id": "q6RvJJm1kmNV",
        "colab_type": "code",
        "colab": {}
      },
      "source": [
        "process_pipe_full = Pipeline(steps=[('pipe1', process_pipe1), ('pipe2', process_pipe2),\n",
        "                                                 ('pipe3', process_pipe3),('pipe4', process_pipe4)])  "
      ],
      "execution_count": null,
      "outputs": []
    },
    {
      "cell_type": "markdown",
      "metadata": {
        "id": "mY_F0dSo7BIW",
        "colab_type": "text"
      },
      "source": [
        "> Test Preprocessing Pipeline"
      ]
    },
    {
      "cell_type": "code",
      "metadata": {
        "id": "QMuKuSL-kmHL",
        "colab_type": "code",
        "colab": {
          "base_uri": "https://localhost:8080/",
          "height": 52
        },
        "outputId": "cb62a527-2808-4ede-d873-4f91911f6e90"
      },
      "source": [
        "test_preprocessed_pipe = process_pipe_full.fit(X=train, y=train_label) "
      ],
      "execution_count": null,
      "outputs": [
        {
          "output_type": "stream",
          "text": [
            "[Pipeline] ............ (step 1 of 2) Processing scaler, total=   1.0s\n",
            "[Pipeline] ...... (step 2 of 2) Processing feature_pipe, total=   1.8s\n"
          ],
          "name": "stdout"
        }
      ]
    },
    {
      "cell_type": "code",
      "metadata": {
        "id": "_csUB0jGE2nN",
        "colab_type": "code",
        "colab": {
          "base_uri": "https://localhost:8080/",
          "height": 833
        },
        "outputId": "00f90bcc-d72e-4e07-baa8-3a92c1426992"
      },
      "source": [
        "test_preprocessed_pipe.named_steps "
      ],
      "execution_count": null,
      "outputs": [
        {
          "output_type": "execute_result",
          "data": {
            "text/plain": [
              "{'pipe1': Pipeline(memory=None,\n",
              "          steps=[('drop_cols', DropColumns(cols_to_drop=['MRG', 'user_id'])),\n",
              "                 ('impute_outlier', ImputeOutlier())],\n",
              "          verbose=False),\n",
              " 'pipe2': ColumnTransformer(n_jobs=None, remainder='drop', sparse_threshold=0.3,\n",
              "                   transformer_weights=None,\n",
              "                   transformers=[('cat_impute',\n",
              "                                  SimpleImputer(add_indicator=False, copy=True,\n",
              "                                                fill_value=None,\n",
              "                                                missing_values=nan,\n",
              "                                                strategy='most_frequent',\n",
              "                                                verbose=0),\n",
              "                                  <sklearn.compose._column_transformer.make_column_selector object at 0x7fc96a7da748>),\n",
              "                                 ('num_impute',\n",
              "                                  SimpleImputer(add_indicator=False, copy=True,\n",
              "                                                fill_value=None,\n",
              "                                                missing_values=nan,\n",
              "                                                strategy='mean', verbose=0),\n",
              "                                  <sklearn.compose._column_transformer.make_column_selector object at 0x7fc96b316860>)],\n",
              "                   verbose=False),\n",
              " 'pipe3': Pipeline(memory=None,\n",
              "          steps=[('ranker',\n",
              "                  Ranker(columns=['REGION', 'TENURE', 'TOP_PACK', 'MONTANT',\n",
              "                                  'FREQUENCE_RECH', 'REVENUE', 'ARPU_SEGMENT',\n",
              "                                  'FREQUENCE', 'DATA_VOLUME', 'ON_NET', 'ORANGE',\n",
              "                                  'TIGO', 'ZONE1', 'ZONE2', 'REGULARITY',\n",
              "                                  'FREQ_TOP_PACK'],\n",
              "                         group_cols=['REGION', 'TOP_PACK'],\n",
              "                         value_col='TENURE'))],\n",
              "          verbose=False),\n",
              " 'pipe4': Pipeline(memory=None,\n",
              "          steps=[('scaler',\n",
              "                  StandardScaler(copy=True, with_mean=True, with_std=True)),\n",
              "                 ('feature_pipe',\n",
              "                  FeatureUnion(n_jobs=None,\n",
              "                               transformer_list=[('pca',\n",
              "                                                  PCA(copy=True,\n",
              "                                                      iterated_power='auto',\n",
              "                                                      n_components=9,\n",
              "                                                      random_state=None,\n",
              "                                                      svd_solver='auto', tol=0.0,\n",
              "                                                      whiten=False)),\n",
              "                                                 ('k_best',\n",
              "                                                  SelectKBest(k=12,\n",
              "                                                              score_func=<function f_classif at 0x7fc973a4aea0>))],\n",
              "                               transformer_weights=None, verbose=False))],\n",
              "          verbose=True)}"
            ]
          },
          "metadata": {
            "tags": []
          },
          "execution_count": 183
        }
      ]
    },
    {
      "cell_type": "markdown",
      "metadata": {
        "id": "chomZg6oDU2U",
        "colab_type": "text"
      },
      "source": [
        "> Test Preprocessing Pipeline"
      ]
    },
    {
      "cell_type": "code",
      "metadata": {
        "id": "49vj6yy3-iRn",
        "colab_type": "code",
        "colab": {}
      },
      "source": [
        "processed_data = test_preprocessed_pipe.transform(train) "
      ],
      "execution_count": null,
      "outputs": []
    },
    {
      "cell_type": "code",
      "metadata": {
        "id": "oLK3DrnhzVU_",
        "colab_type": "code",
        "colab": {
          "base_uri": "https://localhost:8080/",
          "height": 34
        },
        "outputId": "f572062b-9aac-4caf-a796-bdafd5bd0584"
      },
      "source": [
        "processed_data.shape"
      ],
      "execution_count": null,
      "outputs": [
        {
          "output_type": "execute_result",
          "data": {
            "text/plain": [
              "(646214, 21)"
            ]
          },
          "metadata": {
            "tags": []
          },
          "execution_count": 185
        }
      ]
    },
    {
      "cell_type": "code",
      "metadata": {
        "id": "CbHpdj5FzmDR",
        "colab_type": "code",
        "colab": {
          "base_uri": "https://localhost:8080/",
          "height": 34
        },
        "outputId": "bb1b685e-1dcd-48ca-cac0-5fd85bc4c00e"
      },
      "source": [
        "train.shape"
      ],
      "execution_count": null,
      "outputs": [
        {
          "output_type": "execute_result",
          "data": {
            "text/plain": [
              "(646214, 18)"
            ]
          },
          "metadata": {
            "tags": []
          },
          "execution_count": 186
        }
      ]
    },
    {
      "cell_type": "code",
      "metadata": {
        "id": "EjikGyxUFqqG",
        "colab_type": "code",
        "colab": {
          "base_uri": "https://localhost:8080/",
          "height": 243
        },
        "outputId": "197a5378-a413-41d1-f9a6-5e8f705aa28a"
      },
      "source": [
        "processed_data "
      ],
      "execution_count": null,
      "outputs": [
        {
          "output_type": "execute_result",
          "data": {
            "text/plain": [
              "array([[-2.44989573e+00, -1.63219302e+00, -1.12437969e+00, ...,\n",
              "        -6.57665538e-01, -2.71008503e-01, -1.08758318e+00],\n",
              "       [-3.76191795e-01,  4.80677947e-01, -1.29850575e+00, ...,\n",
              "         2.02733766e-16, -1.07880859e+00,  5.17452245e-16],\n",
              "       [-2.45772607e+00, -5.73939996e-01,  2.11783820e-01, ...,\n",
              "        -6.57665538e-01, -8.99297462e-01, -7.96283463e-01],\n",
              "       ...,\n",
              "       [ 5.59621633e+00, -7.76136044e-01, -1.88740820e+00, ...,\n",
              "         4.17141625e+00,  1.34459168e+00,  9.51514840e-01],\n",
              "       [-1.09943413e+00, -1.52304036e+00,  2.71740762e+00, ...,\n",
              "         2.02733766e-16, -1.81252938e-01, -7.96283463e-01],\n",
              "       [ 1.31540945e+00, -1.91207563e+00, -9.06305776e-01, ...,\n",
              "        -4.86472092e-01,  1.29971389e+00,  6.60215123e-01]])"
            ]
          },
          "metadata": {
            "tags": []
          },
          "execution_count": 187
        }
      ]
    },
    {
      "cell_type": "code",
      "metadata": {
        "id": "LpIuKKgGVOh5",
        "colab_type": "code",
        "colab": {
          "base_uri": "https://localhost:8080/",
          "height": 34
        },
        "outputId": "dab9a3d4-f2c1-4e1a-8edb-b4975fcb9259"
      },
      "source": [
        "processed_data.shape"
      ],
      "execution_count": null,
      "outputs": [
        {
          "output_type": "execute_result",
          "data": {
            "text/plain": [
              "(646214, 21)"
            ]
          },
          "metadata": {
            "tags": []
          },
          "execution_count": 130
        }
      ]
    },
    {
      "cell_type": "markdown",
      "metadata": {
        "id": "jKWlhelG961K",
        "colab_type": "text"
      },
      "source": [
        "> Define code to automatically preprocess data for training..."
      ]
    },
    {
      "cell_type": "code",
      "metadata": {
        "id": "Fm7VJTSS-Ax5",
        "colab_type": "code",
        "colab": {}
      },
      "source": [
        "def preprocess_data(fit_set:list = [],  to_transform:np.array=None) -> np.array:\n",
        "  \n",
        "  fitted_pipe = process_pipe_full.fit(fit_set[0], fit_set[1])\n",
        "\n",
        "  if to_transform is None:\n",
        "    processed_X = fitted_pipe.transform(fit_set[0])\n",
        "\n",
        "  else:\n",
        "    processed_X = process_pipe_full.transform(to_transform) \n",
        "\n",
        "  return processed_X"
      ],
      "execution_count": null,
      "outputs": []
    },
    {
      "cell_type": "code",
      "metadata": {
        "id": "XXdQJOolOzjF",
        "colab_type": "code",
        "colab": {
          "base_uri": "https://localhost:8080/",
          "height": 312
        },
        "outputId": "97d60204-11ed-4ba9-951c-dcc7d9319f21"
      },
      "source": [
        "!pip install catboost\n",
        "!pip install xgboost"
      ],
      "execution_count": null,
      "outputs": [
        {
          "output_type": "stream",
          "text": [
            "Requirement already satisfied: catboost in /usr/local/lib/python3.6/dist-packages (0.24.1)\n",
            "Requirement already satisfied: six in /usr/local/lib/python3.6/dist-packages (from catboost) (1.15.0)\n",
            "Requirement already satisfied: numpy>=1.16.0 in /usr/local/lib/python3.6/dist-packages (from catboost) (1.18.5)\n",
            "Requirement already satisfied: plotly in /usr/local/lib/python3.6/dist-packages (from catboost) (4.4.1)\n",
            "Requirement already satisfied: graphviz in /usr/local/lib/python3.6/dist-packages (from catboost) (0.10.1)\n",
            "Requirement already satisfied: matplotlib in /usr/local/lib/python3.6/dist-packages (from catboost) (3.2.2)\n",
            "Requirement already satisfied: pandas>=0.24.0 in /usr/local/lib/python3.6/dist-packages (from catboost) (1.0.5)\n",
            "Requirement already satisfied: scipy in /usr/local/lib/python3.6/dist-packages (from catboost) (1.4.1)\n",
            "Requirement already satisfied: retrying>=1.3.3 in /usr/local/lib/python3.6/dist-packages (from plotly->catboost) (1.3.3)\n",
            "Requirement already satisfied: cycler>=0.10 in /usr/local/lib/python3.6/dist-packages (from matplotlib->catboost) (0.10.0)\n",
            "Requirement already satisfied: pyparsing!=2.0.4,!=2.1.2,!=2.1.6,>=2.0.1 in /usr/local/lib/python3.6/dist-packages (from matplotlib->catboost) (2.4.7)\n",
            "Requirement already satisfied: kiwisolver>=1.0.1 in /usr/local/lib/python3.6/dist-packages (from matplotlib->catboost) (1.2.0)\n",
            "Requirement already satisfied: python-dateutil>=2.1 in /usr/local/lib/python3.6/dist-packages (from matplotlib->catboost) (2.8.1)\n",
            "Requirement already satisfied: pytz>=2017.2 in /usr/local/lib/python3.6/dist-packages (from pandas>=0.24.0->catboost) (2018.9)\n",
            "Requirement already satisfied: xgboost in /usr/local/lib/python3.6/dist-packages (0.90)\n",
            "Requirement already satisfied: scipy in /usr/local/lib/python3.6/dist-packages (from xgboost) (1.4.1)\n",
            "Requirement already satisfied: numpy in /usr/local/lib/python3.6/dist-packages (from xgboost) (1.18.5)\n"
          ],
          "name": "stdout"
        }
      ]
    },
    {
      "cell_type": "code",
      "metadata": {
        "id": "ebv5hi7nOSb6",
        "colab_type": "code",
        "colab": {}
      },
      "source": [
        "from sklearn.linear_model import LogisticRegressionCV\n",
        "from sklearn.svm import SVC\n",
        "from catboost import CatBoostClassifier, Pool\n",
        "from xgboost import XGBClassifier \n",
        "from sklearn.metrics import log_loss, balanced_accuracy_score"
      ],
      "execution_count": null,
      "outputs": []
    },
    {
      "cell_type": "code",
      "metadata": {
        "id": "1pId7Bd3scKl",
        "colab_type": "code",
        "colab": {}
      },
      "source": [
        "smt = SMOTE()"
      ],
      "execution_count": null,
      "outputs": []
    },
    {
      "cell_type": "markdown",
      "metadata": {
        "id": "jh-SVAQpDZ_O",
        "colab_type": "text"
      },
      "source": [
        "> Preprocess Train and Val Set"
      ]
    },
    {
      "cell_type": "markdown",
      "metadata": {
        "id": "vuF06cAr_kV9",
        "colab_type": "text"
      },
      "source": [
        "#### process all train/val/test set\n",
        "`"
      ]
    },
    {
      "cell_type": "code",
      "metadata": {
        "id": "PmS_up53_n7V",
        "colab_type": "code",
        "colab": {
          "base_uri": "https://localhost:8080/",
          "height": 191
        },
        "outputId": "197bcaff-02c3-4a3f-dc9c-751263edbe6e"
      },
      "source": [
        "%%time\n",
        "to_process_set = [[X_train, y_train], [X_eval, y_eval], [X_train2, y_train2], [X_test, y_test]]\n",
        "\n",
        "for element in to_process_set: \n",
        "  element[0] = preprocess_data(fit_set=element)"
      ],
      "execution_count": 215,
      "outputs": [
        {
          "output_type": "stream",
          "text": [
            "[Pipeline] ............ (step 1 of 2) Processing scaler, total=   0.7s\n",
            "[Pipeline] ...... (step 2 of 2) Processing feature_pipe, total=   1.1s\n",
            "[Pipeline] ............ (step 1 of 2) Processing scaler, total=   0.3s\n",
            "[Pipeline] ...... (step 2 of 2) Processing feature_pipe, total=   0.5s\n",
            "[Pipeline] ............ (step 1 of 2) Processing scaler, total=   0.4s\n",
            "[Pipeline] ...... (step 2 of 2) Processing feature_pipe, total=   0.7s\n",
            "[Pipeline] ............ (step 1 of 2) Processing scaler, total=   0.2s\n",
            "[Pipeline] ...... (step 2 of 2) Processing feature_pipe, total=   0.4s\n",
            "CPU times: user 3min 41s, sys: 24.1 s, total: 4min 5s\n",
            "Wall time: 4min 2s\n"
          ],
          "name": "stdout"
        }
      ]
    },
    {
      "cell_type": "code",
      "metadata": {
        "id": "5biAz-j58bHk",
        "colab_type": "code",
        "colab": {}
      },
      "source": [
        "X_train, y_train = to_process_set[0][0], to_process_set[0][1]  "
      ],
      "execution_count": 220,
      "outputs": []
    },
    {
      "cell_type": "code",
      "metadata": {
        "id": "eC4PsacNKNxD",
        "colab_type": "code",
        "colab": {}
      },
      "source": [
        "X_eval, y_eval = to_process_set[1][0], to_process_set[1][1] "
      ],
      "execution_count": 221,
      "outputs": []
    },
    {
      "cell_type": "code",
      "metadata": {
        "id": "t84TUmILKNpF",
        "colab_type": "code",
        "colab": {}
      },
      "source": [
        "X_train2, y_train2 = to_process_set[2][0], to_process_set[2][1] "
      ],
      "execution_count": 222,
      "outputs": []
    },
    {
      "cell_type": "code",
      "metadata": {
        "id": "897lw2SCKNaW",
        "colab_type": "code",
        "colab": {}
      },
      "source": [
        "X_test, y_test = to_process_set[3][0], to_process_set[3][1] "
      ],
      "execution_count": 223,
      "outputs": []
    },
    {
      "cell_type": "markdown",
      "metadata": {
        "id": "yVv9CFkGLlRa",
        "colab_type": "text"
      },
      "source": [
        "### Initital Models with Train2 and Test sets"
      ]
    },
    {
      "cell_type": "markdown",
      "metadata": {
        "id": "ez67MtvLIhmP",
        "colab_type": "text"
      },
      "source": [
        "#### LogisticRegression/LogisticRegressionCV\n"
      ]
    },
    {
      "cell_type": "markdown",
      "metadata": {
        "id": "HRlMPTYLX4fE",
        "colab_type": "text"
      },
      "source": [
        "params for LogRegCV"
      ]
    },
    {
      "cell_type": "code",
      "metadata": {
        "id": "iexHVGxEWPtt",
        "colab_type": "code",
        "colab": {}
      },
      "source": [
        "scv = StratifiedKFold(n_splits=5, shuffle=True) \n",
        "log_score=make_scorer(score_func=log_loss) \n",
        "scoring = log_score\n",
        "class_weight = 'balanced' \n",
        "n_jobs = 4\n",
        "random_state = 123"
      ],
      "execution_count": 224,
      "outputs": []
    },
    {
      "cell_type": "code",
      "metadata": {
        "id": "ELZqr6UTZhqn",
        "colab_type": "code",
        "colab": {}
      },
      "source": [
        "logit_model  = LogisticRegression(class_weight='balanced', random_state=0, verbose=True)"
      ],
      "execution_count": 226,
      "outputs": []
    },
    {
      "cell_type": "code",
      "metadata": {
        "id": "ub-BuaJ5RlV7",
        "colab_type": "code",
        "colab": {
          "base_uri": "https://localhost:8080/",
          "height": 52
        },
        "outputId": "35b094ea-3519-483b-cfc3-be24106b4641"
      },
      "source": [
        "logit_model.fit(X_train2, y_train2); "
      ],
      "execution_count": 229,
      "outputs": [
        {
          "output_type": "stream",
          "text": [
            "[Parallel(n_jobs=1)]: Using backend SequentialBackend with 1 concurrent workers.\n",
            "[Parallel(n_jobs=1)]: Done   1 out of   1 | elapsed:    2.8s finished\n"
          ],
          "name": "stderr"
        }
      ]
    },
    {
      "cell_type": "code",
      "metadata": {
        "id": "ouX-pPLhUZOm",
        "colab_type": "code",
        "colab": {}
      },
      "source": [
        "log_pred = logit_model.predict_proba(X_test)[:,1]"
      ],
      "execution_count": 230,
      "outputs": []
    },
    {
      "cell_type": "code",
      "metadata": {
        "id": "fFveqtSUp-Vl",
        "colab_type": "code",
        "colab": {
          "base_uri": "https://localhost:8080/",
          "height": 34
        },
        "outputId": "e67633d6-1eb7-49a6-c861-7d349fcd63e7"
      },
      "source": [
        "log_pred.shape"
      ],
      "execution_count": 231,
      "outputs": [
        {
          "output_type": "execute_result",
          "data": {
            "text/plain": [
              "(142878,)"
            ]
          },
          "metadata": {
            "tags": []
          },
          "execution_count": 231
        }
      ]
    },
    {
      "cell_type": "code",
      "metadata": {
        "id": "9xwOx1WSXU0-",
        "colab_type": "code",
        "colab": {
          "base_uri": "https://localhost:8080/",
          "height": 34
        },
        "outputId": "0e96cfc4-65cb-4e3e-baba-98cffbd777f0"
      },
      "source": [
        "y_test.shape"
      ],
      "execution_count": 232,
      "outputs": [
        {
          "output_type": "execute_result",
          "data": {
            "text/plain": [
              "(142878,)"
            ]
          },
          "metadata": {
            "tags": []
          },
          "execution_count": 232
        }
      ]
    },
    {
      "cell_type": "code",
      "metadata": {
        "id": "x27R-zTTYMma",
        "colab_type": "code",
        "colab": {
          "base_uri": "https://localhost:8080/",
          "height": 34
        },
        "outputId": "a35aad2a-2dae-4607-fc53-0bc10ba026c2"
      },
      "source": [
        "log_loss(y_test, log_pred) "
      ],
      "execution_count": 233,
      "outputs": [
        {
          "output_type": "execute_result",
          "data": {
            "text/plain": [
              "0.39247584573274796"
            ]
          },
          "metadata": {
            "tags": []
          },
          "execution_count": 233
        }
      ]
    },
    {
      "cell_type": "markdown",
      "metadata": {
        "id": "TY4GO3MZVvhK",
        "colab_type": "text"
      },
      "source": [
        "#### XGBoost"
      ]
    },
    {
      "cell_type": "code",
      "metadata": {
        "id": "uFQG13xZWOcD",
        "colab_type": "code",
        "colab": {}
      },
      "source": [
        "xgb_model = XGBClassifier(n_estimators=1000,random_seed = 10, use_best_model=True,\n",
        "                    eval_metric = 'logloss', eval_set=[(processed_X_train, y_train),(processed_X_eval, y_eval)], \n",
        "                     early_stopping_rounds=100,verbose=100, learning_rate=0.03) "
      ],
      "execution_count": 235,
      "outputs": []
    },
    {
      "cell_type": "code",
      "metadata": {
        "id": "j3cgOrEOBdmL",
        "colab_type": "code",
        "colab": {
          "base_uri": "https://localhost:8080/",
          "height": 347
        },
        "outputId": "ac81a52e-7191-4824-ba09-8af9c1c47347"
      },
      "source": [
        "%%time \n",
        "xgb_model.fit(X_train2, y_train2); "
      ],
      "execution_count": 236,
      "outputs": [
        {
          "output_type": "stream",
          "text": [
            "CPU times: user 5min 21s, sys: 113 ms, total: 5min 21s\n",
            "Wall time: 5min 21s\n"
          ],
          "name": "stdout"
        },
        {
          "output_type": "execute_result",
          "data": {
            "text/plain": [
              "XGBClassifier(base_score=0.5, booster='gbtree', colsample_bylevel=1,\n",
              "              colsample_bynode=1, colsample_bytree=1, early_stopping_rounds=100,\n",
              "              eval_metric='logloss',\n",
              "              eval_set=[(array([[ 3.39219778, -1.78851221,  0.29898556, ..., -0.16316624,\n",
              "         1.29927956,  0.515048  ],\n",
              "       [-0.31632715,  0.65445425, -0.8308633 , ...,  0.        ,\n",
              "        -0.45061341,  0.        ],\n",
              "       [-0.29687861,  1.42956776,  0.26236743, ...,  0.        ,\n",
              "        -1.16851...\n",
              "224424    0\n",
              "Name: CHURN, Length: 213251, dtype: int64)],\n",
              "              gamma=0, learning_rate=0.03, max_delta_step=0, max_depth=3,\n",
              "              min_child_weight=1, missing=None, n_estimators=1000, n_jobs=1,\n",
              "              nthread=None, objective='binary:logistic', random_seed=10,\n",
              "              random_state=0, reg_alpha=0, reg_lambda=1, scale_pos_weight=1,\n",
              "              seed=None, silent=None, subsample=1, use_best_model=True,\n",
              "              verbose=100, verbosity=1)"
            ]
          },
          "metadata": {
            "tags": []
          },
          "execution_count": 236
        }
      ]
    },
    {
      "cell_type": "code",
      "metadata": {
        "id": "HkCc3lY1Bdhj",
        "colab_type": "code",
        "colab": {}
      },
      "source": [
        "xgb_pred  = xgb_model.predict_proba(X_test)[:,1]"
      ],
      "execution_count": 239,
      "outputs": []
    },
    {
      "cell_type": "code",
      "metadata": {
        "id": "JG_zTRHFmFAx",
        "colab_type": "code",
        "colab": {
          "base_uri": "https://localhost:8080/",
          "height": 34
        },
        "outputId": "f71ac0de-8ca3-453e-f167-d689d35cc00a"
      },
      "source": [
        "log_loss(y_test, xgb_pred) "
      ],
      "execution_count": 240,
      "outputs": [
        {
          "output_type": "execute_result",
          "data": {
            "text/plain": [
              "0.2827500907964731"
            ]
          },
          "metadata": {
            "tags": []
          },
          "execution_count": 240
        }
      ]
    },
    {
      "cell_type": "markdown",
      "metadata": {
        "id": "Pnv5uEgOWd24",
        "colab_type": "text"
      },
      "source": [
        "#### CatBoost"
      ]
    },
    {
      "cell_type": "code",
      "metadata": {
        "id": "wN-YcaRzP4Kq",
        "colab_type": "code",
        "colab": {}
      },
      "source": [
        "eval_dataset = Pool(X_test,\n",
        "                    y_test)"
      ],
      "execution_count": 244,
      "outputs": []
    },
    {
      "cell_type": "code",
      "metadata": {
        "id": "GkXjsaG8Bdaz",
        "colab_type": "code",
        "colab": {}
      },
      "source": [
        "cat_model = CatBoostClassifier(n_estimators=1000,random_seed = 10, use_best_model=True, eval_metric = 'Logloss', \n",
        "                               early_stopping_rounds=100,verbose=100, learning_rate=0.15) "
      ],
      "execution_count": 286,
      "outputs": []
    },
    {
      "cell_type": "code",
      "metadata": {
        "id": "IaZJFqvfRk_q",
        "colab_type": "code",
        "colab": {
          "base_uri": "https://localhost:8080/",
          "height": 1000
        },
        "outputId": "d2b387be-cd96-4daa-f129-df18c929a871"
      },
      "source": [
        "%%time \n",
        "cat_model.fit(X_train2, y_train2, eval_set = eval_dataset, verbose=True);"
      ],
      "execution_count": 287,
      "outputs": [
        {
          "output_type": "stream",
          "text": [
            "0:\tlearn: 0.5314281\ttest: 0.5364354\tbest: 0.5364354 (0)\ttotal: 131ms\tremaining: 2m 10s\n",
            "1:\tlearn: 0.4348236\ttest: 0.4359845\tbest: 0.4359845 (1)\ttotal: 261ms\tremaining: 2m 10s\n",
            "2:\tlearn: 0.3838680\ttest: 0.3854745\tbest: 0.3854745 (2)\ttotal: 389ms\tremaining: 2m 9s\n",
            "3:\tlearn: 0.3467605\ttest: 0.3472784\tbest: 0.3472784 (3)\ttotal: 510ms\tremaining: 2m 7s\n",
            "4:\tlearn: 0.3254660\ttest: 0.3251126\tbest: 0.3251126 (4)\ttotal: 635ms\tremaining: 2m 6s\n",
            "5:\tlearn: 0.3101701\ttest: 0.3101976\tbest: 0.3101976 (5)\ttotal: 754ms\tremaining: 2m 4s\n",
            "6:\tlearn: 0.3012601\ttest: 0.3026560\tbest: 0.3026560 (6)\ttotal: 873ms\tremaining: 2m 3s\n",
            "7:\tlearn: 0.2964472\ttest: 0.2974687\tbest: 0.2974687 (7)\ttotal: 1s\tremaining: 2m 4s\n",
            "8:\tlearn: 0.2929688\ttest: 0.2947440\tbest: 0.2947440 (8)\ttotal: 1.13s\tremaining: 2m 4s\n",
            "9:\tlearn: 0.2887353\ttest: 0.2905905\tbest: 0.2905905 (9)\ttotal: 1.25s\tremaining: 2m 3s\n",
            "10:\tlearn: 0.2871627\ttest: 0.2890561\tbest: 0.2890561 (10)\ttotal: 1.38s\tremaining: 2m 3s\n",
            "11:\tlearn: 0.2843355\ttest: 0.2861850\tbest: 0.2861850 (11)\ttotal: 1.5s\tremaining: 2m 3s\n",
            "12:\tlearn: 0.2830590\ttest: 0.2855079\tbest: 0.2855079 (12)\ttotal: 1.63s\tremaining: 2m 3s\n",
            "13:\tlearn: 0.2819065\ttest: 0.2847860\tbest: 0.2847860 (13)\ttotal: 1.75s\tremaining: 2m 3s\n",
            "14:\tlearn: 0.2808627\ttest: 0.2838472\tbest: 0.2838472 (14)\ttotal: 1.88s\tremaining: 2m 3s\n",
            "15:\tlearn: 0.2798826\ttest: 0.2830185\tbest: 0.2830185 (15)\ttotal: 2.01s\tremaining: 2m 3s\n",
            "16:\tlearn: 0.2795768\ttest: 0.2827303\tbest: 0.2827303 (16)\ttotal: 2.13s\tremaining: 2m 3s\n",
            "17:\tlearn: 0.2787833\ttest: 0.2820288\tbest: 0.2820288 (17)\ttotal: 2.25s\tremaining: 2m 2s\n",
            "18:\tlearn: 0.2782925\ttest: 0.2816043\tbest: 0.2816043 (18)\ttotal: 2.39s\tremaining: 2m 3s\n",
            "19:\tlearn: 0.2778651\ttest: 0.2811534\tbest: 0.2811534 (19)\ttotal: 2.51s\tremaining: 2m 2s\n",
            "20:\tlearn: 0.2777427\ttest: 0.2810000\tbest: 0.2810000 (20)\ttotal: 2.63s\tremaining: 2m 2s\n",
            "21:\tlearn: 0.2773518\ttest: 0.2805637\tbest: 0.2805637 (21)\ttotal: 2.75s\tremaining: 2m 2s\n",
            "22:\tlearn: 0.2772764\ttest: 0.2807759\tbest: 0.2805637 (21)\ttotal: 2.88s\tremaining: 2m 2s\n",
            "23:\tlearn: 0.2769563\ttest: 0.2804430\tbest: 0.2804430 (23)\ttotal: 3s\tremaining: 2m 2s\n",
            "24:\tlearn: 0.2768769\ttest: 0.2803814\tbest: 0.2803814 (24)\ttotal: 3.12s\tremaining: 2m 1s\n",
            "25:\tlearn: 0.2766283\ttest: 0.2801324\tbest: 0.2801324 (25)\ttotal: 3.24s\tremaining: 2m 1s\n",
            "26:\tlearn: 0.2764503\ttest: 0.2800066\tbest: 0.2800066 (26)\ttotal: 3.37s\tremaining: 2m 1s\n",
            "27:\tlearn: 0.2763469\ttest: 0.2799544\tbest: 0.2799544 (27)\ttotal: 3.5s\tremaining: 2m 1s\n",
            "28:\tlearn: 0.2761720\ttest: 0.2797674\tbest: 0.2797674 (28)\ttotal: 3.62s\tremaining: 2m 1s\n",
            "29:\tlearn: 0.2760556\ttest: 0.2820456\tbest: 0.2797674 (28)\ttotal: 3.74s\tremaining: 2m 1s\n",
            "30:\tlearn: 0.2759404\ttest: 0.2819409\tbest: 0.2797674 (28)\ttotal: 3.87s\tremaining: 2m\n",
            "31:\tlearn: 0.2758442\ttest: 0.2818552\tbest: 0.2797674 (28)\ttotal: 3.98s\tremaining: 2m\n",
            "32:\tlearn: 0.2757284\ttest: 0.2817510\tbest: 0.2797674 (28)\ttotal: 4.11s\tremaining: 2m\n",
            "33:\tlearn: 0.2756350\ttest: 0.2816601\tbest: 0.2797674 (28)\ttotal: 4.24s\tremaining: 2m\n",
            "34:\tlearn: 0.2755732\ttest: 0.2816159\tbest: 0.2797674 (28)\ttotal: 4.37s\tremaining: 2m\n",
            "35:\tlearn: 0.2755137\ttest: 0.2816014\tbest: 0.2797674 (28)\ttotal: 4.49s\tremaining: 2m\n",
            "36:\tlearn: 0.2754446\ttest: 0.2819656\tbest: 0.2797674 (28)\ttotal: 4.62s\tremaining: 2m\n",
            "37:\tlearn: 0.2753791\ttest: 0.2819031\tbest: 0.2797674 (28)\ttotal: 4.75s\tremaining: 2m\n",
            "38:\tlearn: 0.2752989\ttest: 0.2818999\tbest: 0.2797674 (28)\ttotal: 4.87s\tremaining: 2m\n",
            "39:\tlearn: 0.2751743\ttest: 0.2818403\tbest: 0.2797674 (28)\ttotal: 5s\tremaining: 1m 59s\n",
            "40:\tlearn: 0.2750787\ttest: 0.2817514\tbest: 0.2797674 (28)\ttotal: 5.11s\tremaining: 1m 59s\n",
            "41:\tlearn: 0.2749973\ttest: 0.2817180\tbest: 0.2797674 (28)\ttotal: 5.22s\tremaining: 1m 59s\n",
            "42:\tlearn: 0.2749439\ttest: 0.2817058\tbest: 0.2797674 (28)\ttotal: 5.35s\tremaining: 1m 59s\n",
            "43:\tlearn: 0.2748674\ttest: 0.2816493\tbest: 0.2797674 (28)\ttotal: 5.47s\tremaining: 1m 58s\n",
            "44:\tlearn: 0.2747711\ttest: 0.2815672\tbest: 0.2797674 (28)\ttotal: 5.6s\tremaining: 1m 58s\n",
            "45:\tlearn: 0.2747276\ttest: 0.2815600\tbest: 0.2797674 (28)\ttotal: 5.71s\tremaining: 1m 58s\n",
            "46:\tlearn: 0.2746870\ttest: 0.2815698\tbest: 0.2797674 (28)\ttotal: 5.83s\tremaining: 1m 58s\n",
            "47:\tlearn: 0.2746465\ttest: 0.2816255\tbest: 0.2797674 (28)\ttotal: 5.95s\tremaining: 1m 57s\n",
            "48:\tlearn: 0.2746149\ttest: 0.2816140\tbest: 0.2797674 (28)\ttotal: 6.07s\tremaining: 1m 57s\n",
            "49:\tlearn: 0.2745699\ttest: 0.2816175\tbest: 0.2797674 (28)\ttotal: 6.19s\tremaining: 1m 57s\n",
            "50:\tlearn: 0.2745164\ttest: 0.2815883\tbest: 0.2797674 (28)\ttotal: 6.32s\tremaining: 1m 57s\n",
            "51:\tlearn: 0.2744466\ttest: 0.2815215\tbest: 0.2797674 (28)\ttotal: 6.45s\tremaining: 1m 57s\n",
            "52:\tlearn: 0.2744034\ttest: 0.2815635\tbest: 0.2797674 (28)\ttotal: 6.57s\tremaining: 1m 57s\n",
            "53:\tlearn: 0.2743612\ttest: 0.2815490\tbest: 0.2797674 (28)\ttotal: 6.72s\tremaining: 1m 57s\n",
            "54:\tlearn: 0.2743107\ttest: 0.2814842\tbest: 0.2797674 (28)\ttotal: 6.85s\tremaining: 1m 57s\n",
            "55:\tlearn: 0.2742533\ttest: 0.2814802\tbest: 0.2797674 (28)\ttotal: 6.97s\tremaining: 1m 57s\n",
            "56:\tlearn: 0.2741831\ttest: 0.2814382\tbest: 0.2797674 (28)\ttotal: 7.1s\tremaining: 1m 57s\n",
            "57:\tlearn: 0.2741465\ttest: 0.2816624\tbest: 0.2797674 (28)\ttotal: 7.22s\tremaining: 1m 57s\n",
            "58:\tlearn: 0.2740971\ttest: 0.2816515\tbest: 0.2797674 (28)\ttotal: 7.36s\tremaining: 1m 57s\n",
            "59:\tlearn: 0.2740512\ttest: 0.2815900\tbest: 0.2797674 (28)\ttotal: 7.47s\tremaining: 1m 57s\n",
            "60:\tlearn: 0.2739985\ttest: 0.2815560\tbest: 0.2797674 (28)\ttotal: 7.59s\tremaining: 1m 56s\n",
            "61:\tlearn: 0.2739468\ttest: 0.2815314\tbest: 0.2797674 (28)\ttotal: 7.72s\tremaining: 1m 56s\n",
            "62:\tlearn: 0.2739219\ttest: 0.2815459\tbest: 0.2797674 (28)\ttotal: 7.84s\tremaining: 1m 56s\n",
            "63:\tlearn: 0.2738964\ttest: 0.2815317\tbest: 0.2797674 (28)\ttotal: 7.96s\tremaining: 1m 56s\n",
            "64:\tlearn: 0.2738608\ttest: 0.2815206\tbest: 0.2797674 (28)\ttotal: 8.08s\tremaining: 1m 56s\n",
            "65:\tlearn: 0.2738110\ttest: 0.2814772\tbest: 0.2797674 (28)\ttotal: 8.23s\tremaining: 1m 56s\n",
            "66:\tlearn: 0.2737660\ttest: 0.2814611\tbest: 0.2797674 (28)\ttotal: 8.36s\tremaining: 1m 56s\n",
            "67:\tlearn: 0.2736903\ttest: 0.2814156\tbest: 0.2797674 (28)\ttotal: 8.48s\tremaining: 1m 56s\n",
            "68:\tlearn: 0.2736588\ttest: 0.2815663\tbest: 0.2797674 (28)\ttotal: 8.6s\tremaining: 1m 56s\n",
            "69:\tlearn: 0.2736136\ttest: 0.2815252\tbest: 0.2797674 (28)\ttotal: 8.71s\tremaining: 1m 55s\n",
            "70:\tlearn: 0.2735743\ttest: 0.2815228\tbest: 0.2797674 (28)\ttotal: 8.85s\tremaining: 1m 55s\n",
            "71:\tlearn: 0.2735398\ttest: 0.2815214\tbest: 0.2797674 (28)\ttotal: 8.97s\tremaining: 1m 55s\n",
            "72:\tlearn: 0.2735048\ttest: 0.2815041\tbest: 0.2797674 (28)\ttotal: 9.09s\tremaining: 1m 55s\n",
            "73:\tlearn: 0.2734484\ttest: 0.2814640\tbest: 0.2797674 (28)\ttotal: 9.21s\tremaining: 1m 55s\n",
            "74:\tlearn: 0.2733956\ttest: 0.2814529\tbest: 0.2797674 (28)\ttotal: 9.33s\tremaining: 1m 55s\n",
            "75:\tlearn: 0.2733611\ttest: 0.2814529\tbest: 0.2797674 (28)\ttotal: 9.45s\tremaining: 1m 54s\n",
            "76:\tlearn: 0.2733305\ttest: 0.2814538\tbest: 0.2797674 (28)\ttotal: 9.57s\tremaining: 1m 54s\n",
            "77:\tlearn: 0.2732706\ttest: 0.2814231\tbest: 0.2797674 (28)\ttotal: 9.69s\tremaining: 1m 54s\n",
            "78:\tlearn: 0.2732212\ttest: 0.2814185\tbest: 0.2797674 (28)\ttotal: 9.82s\tremaining: 1m 54s\n",
            "79:\tlearn: 0.2731991\ttest: 0.2814451\tbest: 0.2797674 (28)\ttotal: 9.93s\tremaining: 1m 54s\n",
            "80:\tlearn: 0.2731600\ttest: 0.2814456\tbest: 0.2797674 (28)\ttotal: 10.1s\tremaining: 1m 54s\n",
            "81:\tlearn: 0.2731312\ttest: 0.2813497\tbest: 0.2797674 (28)\ttotal: 10.2s\tremaining: 1m 53s\n",
            "82:\tlearn: 0.2730919\ttest: 0.2813364\tbest: 0.2797674 (28)\ttotal: 10.3s\tremaining: 1m 53s\n",
            "83:\tlearn: 0.2730462\ttest: 0.2813201\tbest: 0.2797674 (28)\ttotal: 10.4s\tremaining: 1m 53s\n",
            "84:\tlearn: 0.2730135\ttest: 0.2813208\tbest: 0.2797674 (28)\ttotal: 10.6s\tremaining: 1m 53s\n",
            "85:\tlearn: 0.2729678\ttest: 0.2813421\tbest: 0.2797674 (28)\ttotal: 10.7s\tremaining: 1m 53s\n",
            "86:\tlearn: 0.2729236\ttest: 0.2813223\tbest: 0.2797674 (28)\ttotal: 10.8s\tremaining: 1m 53s\n",
            "87:\tlearn: 0.2728731\ttest: 0.2813144\tbest: 0.2797674 (28)\ttotal: 10.9s\tremaining: 1m 53s\n",
            "88:\tlearn: 0.2728402\ttest: 0.2812826\tbest: 0.2797674 (28)\ttotal: 11s\tremaining: 1m 52s\n",
            "89:\tlearn: 0.2727986\ttest: 0.2812668\tbest: 0.2797674 (28)\ttotal: 11.1s\tremaining: 1m 52s\n",
            "90:\tlearn: 0.2727686\ttest: 0.2812656\tbest: 0.2797674 (28)\ttotal: 11.3s\tremaining: 1m 52s\n",
            "91:\tlearn: 0.2726932\ttest: 0.2812504\tbest: 0.2797674 (28)\ttotal: 11.4s\tremaining: 1m 52s\n",
            "92:\tlearn: 0.2726576\ttest: 0.2812614\tbest: 0.2797674 (28)\ttotal: 11.5s\tremaining: 1m 52s\n",
            "93:\tlearn: 0.2726226\ttest: 0.2812645\tbest: 0.2797674 (28)\ttotal: 11.6s\tremaining: 1m 52s\n",
            "94:\tlearn: 0.2725831\ttest: 0.2812551\tbest: 0.2797674 (28)\ttotal: 11.7s\tremaining: 1m 51s\n",
            "95:\tlearn: 0.2725267\ttest: 0.2812445\tbest: 0.2797674 (28)\ttotal: 11.9s\tremaining: 1m 51s\n",
            "96:\tlearn: 0.2724798\ttest: 0.2812209\tbest: 0.2797674 (28)\ttotal: 12s\tremaining: 1m 51s\n",
            "97:\tlearn: 0.2724509\ttest: 0.2812205\tbest: 0.2797674 (28)\ttotal: 12.1s\tremaining: 1m 51s\n",
            "98:\tlearn: 0.2724205\ttest: 0.2812250\tbest: 0.2797674 (28)\ttotal: 12.2s\tremaining: 1m 51s\n",
            "99:\tlearn: 0.2723886\ttest: 0.2812070\tbest: 0.2797674 (28)\ttotal: 12.3s\tremaining: 1m 50s\n",
            "100:\tlearn: 0.2723436\ttest: 0.2811999\tbest: 0.2797674 (28)\ttotal: 12.5s\tremaining: 1m 50s\n",
            "101:\tlearn: 0.2723115\ttest: 0.2812113\tbest: 0.2797674 (28)\ttotal: 12.6s\tremaining: 1m 50s\n",
            "102:\tlearn: 0.2722763\ttest: 0.2812036\tbest: 0.2797674 (28)\ttotal: 12.7s\tremaining: 1m 50s\n",
            "103:\tlearn: 0.2722421\ttest: 0.2812093\tbest: 0.2797674 (28)\ttotal: 12.8s\tremaining: 1m 50s\n",
            "104:\tlearn: 0.2722013\ttest: 0.2812188\tbest: 0.2797674 (28)\ttotal: 12.9s\tremaining: 1m 50s\n",
            "105:\tlearn: 0.2721699\ttest: 0.2812178\tbest: 0.2797674 (28)\ttotal: 13.1s\tremaining: 1m 50s\n",
            "106:\tlearn: 0.2721272\ttest: 0.2811904\tbest: 0.2797674 (28)\ttotal: 13.2s\tremaining: 1m 50s\n",
            "107:\tlearn: 0.2721002\ttest: 0.2811332\tbest: 0.2797674 (28)\ttotal: 13.3s\tremaining: 1m 49s\n",
            "108:\tlearn: 0.2720666\ttest: 0.2812624\tbest: 0.2797674 (28)\ttotal: 13.4s\tremaining: 1m 49s\n",
            "109:\tlearn: 0.2720322\ttest: 0.2812739\tbest: 0.2797674 (28)\ttotal: 13.6s\tremaining: 1m 49s\n",
            "110:\tlearn: 0.2719853\ttest: 0.2812774\tbest: 0.2797674 (28)\ttotal: 13.7s\tremaining: 1m 49s\n",
            "111:\tlearn: 0.2719559\ttest: 0.2812704\tbest: 0.2797674 (28)\ttotal: 13.8s\tremaining: 1m 49s\n",
            "112:\tlearn: 0.2719268\ttest: 0.2813321\tbest: 0.2797674 (28)\ttotal: 13.9s\tremaining: 1m 49s\n",
            "113:\tlearn: 0.2719002\ttest: 0.2813395\tbest: 0.2797674 (28)\ttotal: 14.1s\tremaining: 1m 49s\n",
            "114:\tlearn: 0.2718598\ttest: 0.2813276\tbest: 0.2797674 (28)\ttotal: 14.2s\tremaining: 1m 49s\n",
            "115:\tlearn: 0.2718240\ttest: 0.2813354\tbest: 0.2797674 (28)\ttotal: 14.3s\tremaining: 1m 49s\n",
            "116:\tlearn: 0.2717816\ttest: 0.2813459\tbest: 0.2797674 (28)\ttotal: 14.4s\tremaining: 1m 48s\n",
            "117:\tlearn: 0.2717536\ttest: 0.2813524\tbest: 0.2797674 (28)\ttotal: 14.6s\tremaining: 1m 48s\n",
            "118:\tlearn: 0.2717226\ttest: 0.2813476\tbest: 0.2797674 (28)\ttotal: 14.7s\tremaining: 1m 48s\n",
            "119:\tlearn: 0.2716961\ttest: 0.2809771\tbest: 0.2797674 (28)\ttotal: 14.8s\tremaining: 1m 48s\n",
            "120:\tlearn: 0.2716619\ttest: 0.2809873\tbest: 0.2797674 (28)\ttotal: 14.9s\tremaining: 1m 48s\n",
            "121:\tlearn: 0.2716322\ttest: 0.2809697\tbest: 0.2797674 (28)\ttotal: 15.1s\tremaining: 1m 48s\n",
            "122:\tlearn: 0.2715933\ttest: 0.2809726\tbest: 0.2797674 (28)\ttotal: 15.2s\tremaining: 1m 48s\n",
            "123:\tlearn: 0.2715594\ttest: 0.2809633\tbest: 0.2797674 (28)\ttotal: 15.3s\tremaining: 1m 48s\n",
            "124:\tlearn: 0.2715293\ttest: 0.2809561\tbest: 0.2797674 (28)\ttotal: 15.4s\tremaining: 1m 48s\n",
            "125:\tlearn: 0.2715008\ttest: 0.2809573\tbest: 0.2797674 (28)\ttotal: 15.6s\tremaining: 1m 47s\n",
            "126:\tlearn: 0.2714700\ttest: 0.2809628\tbest: 0.2797674 (28)\ttotal: 15.7s\tremaining: 1m 47s\n",
            "127:\tlearn: 0.2714379\ttest: 0.2809583\tbest: 0.2797674 (28)\ttotal: 15.8s\tremaining: 1m 47s\n",
            "128:\tlearn: 0.2713970\ttest: 0.2809667\tbest: 0.2797674 (28)\ttotal: 15.9s\tremaining: 1m 47s\n",
            "Stopped by overfitting detector  (100 iterations wait)\n",
            "\n",
            "bestTest = 0.2797674227\n",
            "bestIteration = 28\n",
            "\n",
            "Shrink model to first 29 iterations.\n",
            "CPU times: user 31.3 s, sys: 1.72 s, total: 33 s\n",
            "Wall time: 17.9 s\n"
          ],
          "name": "stdout"
        },
        {
          "output_type": "execute_result",
          "data": {
            "text/plain": [
              "<catboost.core.CatBoostClassifier at 0x7fc95b8fae80>"
            ]
          },
          "metadata": {
            "tags": []
          },
          "execution_count": 287
        }
      ]
    },
    {
      "cell_type": "code",
      "metadata": {
        "id": "huM9D-9rRk8B",
        "colab_type": "code",
        "colab": {}
      },
      "source": [
        "cat_pred  = cat_model.predict_proba(X_test)[:,1]"
      ],
      "execution_count": 288,
      "outputs": []
    },
    {
      "cell_type": "code",
      "metadata": {
        "id": "UqN1eHFTRk4Q",
        "colab_type": "code",
        "colab": {
          "base_uri": "https://localhost:8080/",
          "height": 34
        },
        "outputId": "1fdb449c-64a4-433d-b344-4039da658246"
      },
      "source": [
        "log_loss(y_test, cat_pred) "
      ],
      "execution_count": 289,
      "outputs": [
        {
          "output_type": "execute_result",
          "data": {
            "text/plain": [
              "0.27976742265564436"
            ]
          },
          "metadata": {
            "tags": []
          },
          "execution_count": 289
        }
      ]
    },
    {
      "cell_type": "markdown",
      "metadata": {
        "id": "7tjNuR_uVVMQ",
        "colab_type": "text"
      },
      "source": [
        "#### Thus far , Catboost has the best performance for the initial models.\n",
        "\n",
        "> I would be tuning the hyperparamters and stacking the models for better performance"
      ]
    },
    {
      "cell_type": "markdown",
      "metadata": {
        "id": "RQKlM1Dl3lZr",
        "colab_type": "text"
      },
      "source": [
        "### Improving Models\n",
        "\n",
        "1.  Hyperparameter Tuning with Train and Validation sets\n",
        "2.  GridSearch\n",
        "3.  Cross Validation\n",
        "4.  Models Stacking"
      ]
    },
    {
      "cell_type": "code",
      "metadata": {
        "id": "6lwT3IcLRkwj",
        "colab_type": "code",
        "colab": {}
      },
      "source": [
        ""
      ],
      "execution_count": null,
      "outputs": []
    },
    {
      "cell_type": "code",
      "metadata": {
        "id": "C-_hY4yKRksD",
        "colab_type": "code",
        "colab": {}
      },
      "source": [
        ""
      ],
      "execution_count": null,
      "outputs": []
    },
    {
      "cell_type": "code",
      "metadata": {
        "id": "9_EDpDjsRknU",
        "colab_type": "code",
        "colab": {}
      },
      "source": [
        ""
      ],
      "execution_count": null,
      "outputs": []
    },
    {
      "cell_type": "markdown",
      "metadata": {
        "id": "fUziwNxaE9bm",
        "colab_type": "text"
      },
      "source": [
        "#### Measure model's performances"
      ]
    },
    {
      "cell_type": "code",
      "metadata": {
        "id": "ea_PaUKZFAIb",
        "colab_type": "code",
        "colab": {}
      },
      "source": [
        "log_metric = PredMetrics(X_train2, y_train2, log_pred, y_val, logit_model, log_score, cv=cv) "
      ],
      "execution_count": null,
      "outputs": []
    },
    {
      "cell_type": "code",
      "metadata": {
        "id": "7pzdeqJ2blCO",
        "colab_type": "code",
        "colab": {}
      },
      "source": [
        "print(log_metric.class_report())"
      ],
      "execution_count": null,
      "outputs": []
    },
    {
      "cell_type": "code",
      "metadata": {
        "id": "MsQ-Sm1pcRlt",
        "colab_type": "code",
        "colab": {}
      },
      "source": [
        ""
      ],
      "execution_count": null,
      "outputs": []
    },
    {
      "cell_type": "markdown",
      "metadata": {
        "id": "OKKOJyhLz8X0",
        "colab_type": "text"
      },
      "source": [
        "### Final Predictions"
      ]
    },
    {
      "cell_type": "markdown",
      "metadata": {
        "id": "YYqauB_yP71d",
        "colab_type": "text"
      },
      "source": [
        "#### Pickle models"
      ]
    },
    {
      "cell_type": "code",
      "metadata": {
        "id": "BZeV8bOVQ15f",
        "colab_type": "code",
        "colab": {}
      },
      "source": [
        "import dill, gzip"
      ],
      "execution_count": 291,
      "outputs": []
    },
    {
      "cell_type": "code",
      "metadata": {
        "id": "Pa3aZSDaSAMk",
        "colab_type": "code",
        "colab": {}
      },
      "source": [
        "def save_model(path, model, file_name='new_model.dill'):\n",
        "  with gzip.open(path+file_name, 'wb') as f:\n",
        "    dill.dump(model,f)\n",
        "\n",
        "\n",
        "def load_model(full_path):\n",
        "  with gzip.open(full_path, 'rb') as f:\n",
        "    model = dill.load(f)\n",
        "    return model"
      ],
      "execution_count": 292,
      "outputs": []
    },
    {
      "cell_type": "markdown",
      "metadata": {
        "id": "M7_fN4LUUMND",
        "colab_type": "text"
      },
      "source": [
        "> Save Logistic Model"
      ]
    },
    {
      "cell_type": "code",
      "metadata": {
        "id": "wtIhsB2yTXBz",
        "colab_type": "code",
        "colab": {}
      },
      "source": [
        "save_model(path = models_path, model=logit_model,file_name='logistic_model.dill.gz')"
      ],
      "execution_count": 293,
      "outputs": []
    },
    {
      "cell_type": "code",
      "metadata": {
        "id": "ju_VAS4hTz2i",
        "colab_type": "code",
        "colab": {}
      },
      "source": [
        "logit_model = load_model(models_path+'logistic_model.dill.gz')"
      ],
      "execution_count": 294,
      "outputs": []
    },
    {
      "cell_type": "code",
      "metadata": {
        "id": "JbdGXEFdWQDP",
        "colab_type": "code",
        "colab": {
          "base_uri": "https://localhost:8080/",
          "height": 104
        },
        "outputId": "a1d89f72-dfa8-418c-a78f-b29f9a63dc2d"
      },
      "source": [
        "logit_model"
      ],
      "execution_count": 295,
      "outputs": [
        {
          "output_type": "execute_result",
          "data": {
            "text/plain": [
              "LogisticRegression(C=1.0, class_weight='balanced', dual=False,\n",
              "                   fit_intercept=True, intercept_scaling=1, l1_ratio=None,\n",
              "                   max_iter=100, multi_class='auto', n_jobs=None, penalty='l2',\n",
              "                   random_state=0, solver='lbfgs', tol=0.0001, verbose=True,\n",
              "                   warm_start=False)"
            ]
          },
          "metadata": {
            "tags": []
          },
          "execution_count": 295
        }
      ]
    },
    {
      "cell_type": "markdown",
      "metadata": {
        "id": "C809BywpWTql",
        "colab_type": "text"
      },
      "source": [
        "> Save XGBoost Model"
      ]
    },
    {
      "cell_type": "code",
      "metadata": {
        "id": "2opUGB3GWTTv",
        "colab_type": "code",
        "colab": {}
      },
      "source": [
        "save_model(path = models_path, model=xgb_model,file_name='xgb_model.dill.gz')"
      ],
      "execution_count": 296,
      "outputs": []
    },
    {
      "cell_type": "code",
      "metadata": {
        "id": "qWXDSVJ9XXdp",
        "colab_type": "code",
        "colab": {}
      },
      "source": [
        "xgb_model = load_model(models_path+'xgb_model.dill.gz') "
      ],
      "execution_count": 300,
      "outputs": []
    },
    {
      "cell_type": "code",
      "metadata": {
        "id": "LFf99wllZjuR",
        "colab_type": "code",
        "colab": {
          "base_uri": "https://localhost:8080/",
          "height": 312
        },
        "outputId": "2aac939d-bb64-4ff1-9759-669e2f246455"
      },
      "source": [
        "xgb_model"
      ],
      "execution_count": 301,
      "outputs": [
        {
          "output_type": "execute_result",
          "data": {
            "text/plain": [
              "XGBClassifier(base_score=0.5, booster='gbtree', colsample_bylevel=1,\n",
              "              colsample_bynode=1, colsample_bytree=1, early_stopping_rounds=100,\n",
              "              eval_metric='logloss',\n",
              "              eval_set=[(array([[ 3.39219778, -1.78851221,  0.29898556, ..., -0.16316624,\n",
              "         1.29927956,  0.515048  ],\n",
              "       [-0.31632715,  0.65445425, -0.8308633 , ...,  0.        ,\n",
              "        -0.45061341,  0.        ],\n",
              "       [-0.29687861,  1.42956776,  0.26236743, ...,  0.        ,\n",
              "        -1.16851...\n",
              "224424    0\n",
              "Name: CHURN, Length: 213251, dtype: int64)],\n",
              "              gamma=0, learning_rate=0.03, max_delta_step=0, max_depth=3,\n",
              "              min_child_weight=1, missing=nan, n_estimators=1000, n_jobs=1,\n",
              "              nthread=None, objective='binary:logistic', random_seed=10,\n",
              "              random_state=0, reg_alpha=0, reg_lambda=1, scale_pos_weight=1,\n",
              "              seed=None, silent=None, subsample=1, use_best_model=True,\n",
              "              verbose=100, verbosity=1)"
            ]
          },
          "metadata": {
            "tags": []
          },
          "execution_count": 301
        }
      ]
    },
    {
      "cell_type": "markdown",
      "metadata": {
        "id": "51mAk-c0ZkeY",
        "colab_type": "text"
      },
      "source": [
        "> Save Catboost Model"
      ]
    },
    {
      "cell_type": "code",
      "metadata": {
        "id": "Sc59psAvZnf4",
        "colab_type": "code",
        "colab": {}
      },
      "source": [
        "save_model(path = models_path, model=cat_model,file_name='cat_model.dill.gz') "
      ],
      "execution_count": 302,
      "outputs": []
    },
    {
      "cell_type": "code",
      "metadata": {
        "id": "cE_qduxYZnQu",
        "colab_type": "code",
        "colab": {}
      },
      "source": [
        "cat_model = load_model(models_path+'cat_model.dill.gz') "
      ],
      "execution_count": 303,
      "outputs": []
    },
    {
      "cell_type": "code",
      "metadata": {
        "id": "j82C_-7B0B_d",
        "colab_type": "code",
        "colab": {
          "base_uri": "https://localhost:8080/",
          "height": 34
        },
        "outputId": "6ab769d8-a7f3-4161-8937-91db98f8badf"
      },
      "source": [
        "cat_model"
      ],
      "execution_count": 304,
      "outputs": [
        {
          "output_type": "execute_result",
          "data": {
            "text/plain": [
              "<catboost.core.CatBoostClassifier at 0x7fc953829fd0>"
            ]
          },
          "metadata": {
            "tags": []
          },
          "execution_count": 304
        }
      ]
    },
    {
      "cell_type": "markdown",
      "metadata": {
        "id": "expd2kDMaQc2",
        "colab_type": "text"
      },
      "source": [
        "## Final Predictions "
      ]
    },
    {
      "cell_type": "code",
      "metadata": {
        "id": "w-JacNkBatbM",
        "colab_type": "code",
        "colab": {
          "base_uri": "https://localhost:8080/",
          "height": 617
        },
        "outputId": "912aa45e-f749-46e1-a84d-df9da364341e"
      },
      "source": [
        "train"
      ],
      "execution_count": 307,
      "outputs": [
        {
          "output_type": "execute_result",
          "data": {
            "text/html": [
              "<div>\n",
              "<style scoped>\n",
              "    .dataframe tbody tr th:only-of-type {\n",
              "        vertical-align: middle;\n",
              "    }\n",
              "\n",
              "    .dataframe tbody tr th {\n",
              "        vertical-align: top;\n",
              "    }\n",
              "\n",
              "    .dataframe thead th {\n",
              "        text-align: right;\n",
              "    }\n",
              "</style>\n",
              "<table border=\"1\" class=\"dataframe\">\n",
              "  <thead>\n",
              "    <tr style=\"text-align: right;\">\n",
              "      <th></th>\n",
              "      <th>user_id</th>\n",
              "      <th>REGION</th>\n",
              "      <th>TENURE</th>\n",
              "      <th>MONTANT</th>\n",
              "      <th>FREQUENCE_RECH</th>\n",
              "      <th>REVENUE</th>\n",
              "      <th>ARPU_SEGMENT</th>\n",
              "      <th>FREQUENCE</th>\n",
              "      <th>DATA_VOLUME</th>\n",
              "      <th>ON_NET</th>\n",
              "      <th>ORANGE</th>\n",
              "      <th>TIGO</th>\n",
              "      <th>ZONE1</th>\n",
              "      <th>ZONE2</th>\n",
              "      <th>MRG</th>\n",
              "      <th>REGULARITY</th>\n",
              "      <th>TOP_PACK</th>\n",
              "      <th>FREQ_TOP_PACK</th>\n",
              "    </tr>\n",
              "  </thead>\n",
              "  <tbody>\n",
              "    <tr>\n",
              "      <th>0</th>\n",
              "      <td>51d5367a58953904c14238c4dd7393f5c4fd0a88</td>\n",
              "      <td>MATAM</td>\n",
              "      <td>K &gt; 24 month</td>\n",
              "      <td>1000.0</td>\n",
              "      <td>1.0</td>\n",
              "      <td>990.0</td>\n",
              "      <td>330.0</td>\n",
              "      <td>1.0</td>\n",
              "      <td>97.0</td>\n",
              "      <td>1.0</td>\n",
              "      <td>NaN</td>\n",
              "      <td>NaN</td>\n",
              "      <td>NaN</td>\n",
              "      <td>NaN</td>\n",
              "      <td>NO</td>\n",
              "      <td>22</td>\n",
              "      <td>Data:1000F=2GB,30d</td>\n",
              "      <td>1.0</td>\n",
              "    </tr>\n",
              "    <tr>\n",
              "      <th>1</th>\n",
              "      <td>3322a4900689f7f3cb14b8f9ea00778853f02d75</td>\n",
              "      <td>DIOURBEL</td>\n",
              "      <td>K &gt; 24 month</td>\n",
              "      <td>NaN</td>\n",
              "      <td>NaN</td>\n",
              "      <td>NaN</td>\n",
              "      <td>NaN</td>\n",
              "      <td>NaN</td>\n",
              "      <td>223.0</td>\n",
              "      <td>NaN</td>\n",
              "      <td>NaN</td>\n",
              "      <td>NaN</td>\n",
              "      <td>NaN</td>\n",
              "      <td>NaN</td>\n",
              "      <td>NO</td>\n",
              "      <td>4</td>\n",
              "      <td>NaN</td>\n",
              "      <td>NaN</td>\n",
              "    </tr>\n",
              "    <tr>\n",
              "      <th>2</th>\n",
              "      <td>3b00ec4bfcc855c6f39b14a722e47ec6d15607e7</td>\n",
              "      <td>DAKAR</td>\n",
              "      <td>K &gt; 24 month</td>\n",
              "      <td>700.0</td>\n",
              "      <td>5.0</td>\n",
              "      <td>1010.0</td>\n",
              "      <td>337.0</td>\n",
              "      <td>7.0</td>\n",
              "      <td>566.0</td>\n",
              "      <td>1.0</td>\n",
              "      <td>3.0</td>\n",
              "      <td>15.0</td>\n",
              "      <td>0.0</td>\n",
              "      <td>NaN</td>\n",
              "      <td>NO</td>\n",
              "      <td>8</td>\n",
              "      <td>Data: 100 F=40MB,24H</td>\n",
              "      <td>3.0</td>\n",
              "    </tr>\n",
              "    <tr>\n",
              "      <th>3</th>\n",
              "      <td>98c44b62c33c6a1d9dbcf5e918868419f249c4a8</td>\n",
              "      <td>LOUGA</td>\n",
              "      <td>K &gt; 24 month</td>\n",
              "      <td>NaN</td>\n",
              "      <td>NaN</td>\n",
              "      <td>NaN</td>\n",
              "      <td>NaN</td>\n",
              "      <td>NaN</td>\n",
              "      <td>NaN</td>\n",
              "      <td>NaN</td>\n",
              "      <td>NaN</td>\n",
              "      <td>NaN</td>\n",
              "      <td>NaN</td>\n",
              "      <td>NaN</td>\n",
              "      <td>NO</td>\n",
              "      <td>3</td>\n",
              "      <td>NaN</td>\n",
              "      <td>NaN</td>\n",
              "    </tr>\n",
              "    <tr>\n",
              "      <th>4</th>\n",
              "      <td>18bd8c41ecb503a2d9137e3f70bc1caf146a266d</td>\n",
              "      <td>NaN</td>\n",
              "      <td>K &gt; 24 month</td>\n",
              "      <td>3000.0</td>\n",
              "      <td>3.0</td>\n",
              "      <td>2995.0</td>\n",
              "      <td>998.0</td>\n",
              "      <td>3.0</td>\n",
              "      <td>NaN</td>\n",
              "      <td>NaN</td>\n",
              "      <td>33.0</td>\n",
              "      <td>NaN</td>\n",
              "      <td>NaN</td>\n",
              "      <td>NaN</td>\n",
              "      <td>NO</td>\n",
              "      <td>9</td>\n",
              "      <td>NaN</td>\n",
              "      <td>NaN</td>\n",
              "    </tr>\n",
              "    <tr>\n",
              "      <th>...</th>\n",
              "      <td>...</td>\n",
              "      <td>...</td>\n",
              "      <td>...</td>\n",
              "      <td>...</td>\n",
              "      <td>...</td>\n",
              "      <td>...</td>\n",
              "      <td>...</td>\n",
              "      <td>...</td>\n",
              "      <td>...</td>\n",
              "      <td>...</td>\n",
              "      <td>...</td>\n",
              "      <td>...</td>\n",
              "      <td>...</td>\n",
              "      <td>...</td>\n",
              "      <td>...</td>\n",
              "      <td>...</td>\n",
              "      <td>...</td>\n",
              "      <td>...</td>\n",
              "    </tr>\n",
              "    <tr>\n",
              "      <th>646209</th>\n",
              "      <td>1c778c81cdcc43cb410db142935d1483367c24aa</td>\n",
              "      <td>KAOLACK</td>\n",
              "      <td>K &gt; 24 month</td>\n",
              "      <td>NaN</td>\n",
              "      <td>NaN</td>\n",
              "      <td>NaN</td>\n",
              "      <td>NaN</td>\n",
              "      <td>NaN</td>\n",
              "      <td>NaN</td>\n",
              "      <td>NaN</td>\n",
              "      <td>NaN</td>\n",
              "      <td>NaN</td>\n",
              "      <td>NaN</td>\n",
              "      <td>NaN</td>\n",
              "      <td>NO</td>\n",
              "      <td>1</td>\n",
              "      <td>NaN</td>\n",
              "      <td>NaN</td>\n",
              "    </tr>\n",
              "    <tr>\n",
              "      <th>646210</th>\n",
              "      <td>e13ff861de0ffd7a51084963634ccd027597511c</td>\n",
              "      <td>SAINT-LOUIS</td>\n",
              "      <td>K &gt; 24 month</td>\n",
              "      <td>1500.0</td>\n",
              "      <td>3.0</td>\n",
              "      <td>1500.0</td>\n",
              "      <td>500.0</td>\n",
              "      <td>3.0</td>\n",
              "      <td>NaN</td>\n",
              "      <td>28.0</td>\n",
              "      <td>53.0</td>\n",
              "      <td>NaN</td>\n",
              "      <td>NaN</td>\n",
              "      <td>NaN</td>\n",
              "      <td>NO</td>\n",
              "      <td>32</td>\n",
              "      <td>MIXT:500F= 2500F on net _2500F off net;2d</td>\n",
              "      <td>2.0</td>\n",
              "    </tr>\n",
              "    <tr>\n",
              "      <th>646211</th>\n",
              "      <td>03ec81dadb13af0876d579a24a033ab27e7e2913</td>\n",
              "      <td>THIES</td>\n",
              "      <td>K &gt; 24 month</td>\n",
              "      <td>13000.0</td>\n",
              "      <td>26.0</td>\n",
              "      <td>14000.0</td>\n",
              "      <td>4667.0</td>\n",
              "      <td>26.0</td>\n",
              "      <td>NaN</td>\n",
              "      <td>2973.0</td>\n",
              "      <td>183.0</td>\n",
              "      <td>50.0</td>\n",
              "      <td>NaN</td>\n",
              "      <td>NaN</td>\n",
              "      <td>NO</td>\n",
              "      <td>58</td>\n",
              "      <td>On-net 500F_FNF;3d</td>\n",
              "      <td>15.0</td>\n",
              "    </tr>\n",
              "    <tr>\n",
              "      <th>646212</th>\n",
              "      <td>c265e207e32f0573881ddcfa312022ee33372d4b</td>\n",
              "      <td>NaN</td>\n",
              "      <td>K &gt; 24 month</td>\n",
              "      <td>3100.0</td>\n",
              "      <td>4.0</td>\n",
              "      <td>3033.0</td>\n",
              "      <td>1011.0</td>\n",
              "      <td>4.0</td>\n",
              "      <td>12905.0</td>\n",
              "      <td>NaN</td>\n",
              "      <td>0.0</td>\n",
              "      <td>NaN</td>\n",
              "      <td>NaN</td>\n",
              "      <td>NaN</td>\n",
              "      <td>NO</td>\n",
              "      <td>24</td>\n",
              "      <td>Data:1000F=5GB,7d</td>\n",
              "      <td>3.0</td>\n",
              "    </tr>\n",
              "    <tr>\n",
              "      <th>646213</th>\n",
              "      <td>3fab267c587943cd2afedf8066b6a4b698220421</td>\n",
              "      <td>KOLDA</td>\n",
              "      <td>K &gt; 24 month</td>\n",
              "      <td>6500.0</td>\n",
              "      <td>12.0</td>\n",
              "      <td>6500.0</td>\n",
              "      <td>2167.0</td>\n",
              "      <td>11.0</td>\n",
              "      <td>NaN</td>\n",
              "      <td>49.0</td>\n",
              "      <td>220.0</td>\n",
              "      <td>NaN</td>\n",
              "      <td>NaN</td>\n",
              "      <td>NaN</td>\n",
              "      <td>NO</td>\n",
              "      <td>57</td>\n",
              "      <td>All-net 500F =2000F_AllNet_Unlimited</td>\n",
              "      <td>13.0</td>\n",
              "    </tr>\n",
              "  </tbody>\n",
              "</table>\n",
              "<p>646214 rows × 18 columns</p>\n",
              "</div>"
            ],
            "text/plain": [
              "                                         user_id  ... FREQ_TOP_PACK\n",
              "0       51d5367a58953904c14238c4dd7393f5c4fd0a88  ...           1.0\n",
              "1       3322a4900689f7f3cb14b8f9ea00778853f02d75  ...           NaN\n",
              "2       3b00ec4bfcc855c6f39b14a722e47ec6d15607e7  ...           3.0\n",
              "3       98c44b62c33c6a1d9dbcf5e918868419f249c4a8  ...           NaN\n",
              "4       18bd8c41ecb503a2d9137e3f70bc1caf146a266d  ...           NaN\n",
              "...                                          ...  ...           ...\n",
              "646209  1c778c81cdcc43cb410db142935d1483367c24aa  ...           NaN\n",
              "646210  e13ff861de0ffd7a51084963634ccd027597511c  ...           2.0\n",
              "646211  03ec81dadb13af0876d579a24a033ab27e7e2913  ...          15.0\n",
              "646212  c265e207e32f0573881ddcfa312022ee33372d4b  ...           3.0\n",
              "646213  3fab267c587943cd2afedf8066b6a4b698220421  ...          13.0\n",
              "\n",
              "[646214 rows x 18 columns]"
            ]
          },
          "metadata": {
            "tags": []
          },
          "execution_count": 307
        }
      ]
    },
    {
      "cell_type": "code",
      "metadata": {
        "id": "kUF_6ppOavCD",
        "colab_type": "code",
        "colab": {
          "base_uri": "https://localhost:8080/",
          "height": 617
        },
        "outputId": "52b5d7c2-d624-41ff-b4df-27883e588ebd"
      },
      "source": [
        "test"
      ],
      "execution_count": 308,
      "outputs": [
        {
          "output_type": "execute_result",
          "data": {
            "text/html": [
              "<div>\n",
              "<style scoped>\n",
              "    .dataframe tbody tr th:only-of-type {\n",
              "        vertical-align: middle;\n",
              "    }\n",
              "\n",
              "    .dataframe tbody tr th {\n",
              "        vertical-align: top;\n",
              "    }\n",
              "\n",
              "    .dataframe thead th {\n",
              "        text-align: right;\n",
              "    }\n",
              "</style>\n",
              "<table border=\"1\" class=\"dataframe\">\n",
              "  <thead>\n",
              "    <tr style=\"text-align: right;\">\n",
              "      <th></th>\n",
              "      <th>user_id</th>\n",
              "      <th>REGION</th>\n",
              "      <th>TENURE</th>\n",
              "      <th>MONTANT</th>\n",
              "      <th>FREQUENCE_RECH</th>\n",
              "      <th>REVENUE</th>\n",
              "      <th>ARPU_SEGMENT</th>\n",
              "      <th>FREQUENCE</th>\n",
              "      <th>DATA_VOLUME</th>\n",
              "      <th>ON_NET</th>\n",
              "      <th>ORANGE</th>\n",
              "      <th>TIGO</th>\n",
              "      <th>ZONE1</th>\n",
              "      <th>ZONE2</th>\n",
              "      <th>MRG</th>\n",
              "      <th>REGULARITY</th>\n",
              "      <th>TOP_PACK</th>\n",
              "      <th>FREQ_TOP_PACK</th>\n",
              "    </tr>\n",
              "  </thead>\n",
              "  <tbody>\n",
              "    <tr>\n",
              "      <th>0</th>\n",
              "      <td>c1b31e7cef249f2b777d934886b787a433029263</td>\n",
              "      <td>DAKAR</td>\n",
              "      <td>K &gt; 24 month</td>\n",
              "      <td>10600.0</td>\n",
              "      <td>18.0</td>\n",
              "      <td>11099.0</td>\n",
              "      <td>3700.0</td>\n",
              "      <td>22.0</td>\n",
              "      <td>4004.0</td>\n",
              "      <td>60.0</td>\n",
              "      <td>123.0</td>\n",
              "      <td>19.0</td>\n",
              "      <td>NaN</td>\n",
              "      <td>NaN</td>\n",
              "      <td>NO</td>\n",
              "      <td>61</td>\n",
              "      <td>All-net 500F=2000F;5d</td>\n",
              "      <td>9.0</td>\n",
              "    </tr>\n",
              "    <tr>\n",
              "      <th>1</th>\n",
              "      <td>c205f3aff8486b0bed1051f3bf25fe04df7f671e</td>\n",
              "      <td>KAOLACK</td>\n",
              "      <td>K &gt; 24 month</td>\n",
              "      <td>NaN</td>\n",
              "      <td>NaN</td>\n",
              "      <td>NaN</td>\n",
              "      <td>NaN</td>\n",
              "      <td>NaN</td>\n",
              "      <td>0.0</td>\n",
              "      <td>7.0</td>\n",
              "      <td>NaN</td>\n",
              "      <td>NaN</td>\n",
              "      <td>NaN</td>\n",
              "      <td>NaN</td>\n",
              "      <td>NO</td>\n",
              "      <td>6</td>\n",
              "      <td>NaN</td>\n",
              "      <td>NaN</td>\n",
              "    </tr>\n",
              "    <tr>\n",
              "      <th>2</th>\n",
              "      <td>d743faaf50bbc43e02a08a2c2f4326f6d368fb25</td>\n",
              "      <td>THIES</td>\n",
              "      <td>K &gt; 24 month</td>\n",
              "      <td>17900.0</td>\n",
              "      <td>36.0</td>\n",
              "      <td>18405.0</td>\n",
              "      <td>6135.0</td>\n",
              "      <td>44.0</td>\n",
              "      <td>0.0</td>\n",
              "      <td>446.0</td>\n",
              "      <td>50.0</td>\n",
              "      <td>28.0</td>\n",
              "      <td>2.0</td>\n",
              "      <td>NaN</td>\n",
              "      <td>NO</td>\n",
              "      <td>62</td>\n",
              "      <td>On-net 1000F=10MilF;10d</td>\n",
              "      <td>9.0</td>\n",
              "    </tr>\n",
              "    <tr>\n",
              "      <th>3</th>\n",
              "      <td>c4e45ed21d5e2f64146b95fecbbb6b24740f803c</td>\n",
              "      <td>DAKAR</td>\n",
              "      <td>K &gt; 24 month</td>\n",
              "      <td>10000.0</td>\n",
              "      <td>10.0</td>\n",
              "      <td>10001.0</td>\n",
              "      <td>3334.0</td>\n",
              "      <td>27.0</td>\n",
              "      <td>NaN</td>\n",
              "      <td>0.0</td>\n",
              "      <td>93.0</td>\n",
              "      <td>8.0</td>\n",
              "      <td>NaN</td>\n",
              "      <td>NaN</td>\n",
              "      <td>NO</td>\n",
              "      <td>45</td>\n",
              "      <td>All-net 500F=2000F;5d</td>\n",
              "      <td>12.0</td>\n",
              "    </tr>\n",
              "    <tr>\n",
              "      <th>4</th>\n",
              "      <td>96c6a822243654ae1fe5f5f887089681f806cb46</td>\n",
              "      <td>THIES</td>\n",
              "      <td>K &gt; 24 month</td>\n",
              "      <td>500.0</td>\n",
              "      <td>1.0</td>\n",
              "      <td>500.0</td>\n",
              "      <td>167.0</td>\n",
              "      <td>1.0</td>\n",
              "      <td>NaN</td>\n",
              "      <td>8.0</td>\n",
              "      <td>14.0</td>\n",
              "      <td>NaN</td>\n",
              "      <td>NaN</td>\n",
              "      <td>NaN</td>\n",
              "      <td>NO</td>\n",
              "      <td>8</td>\n",
              "      <td>All-net 500F=2000F;5d</td>\n",
              "      <td>1.0</td>\n",
              "    </tr>\n",
              "    <tr>\n",
              "      <th>...</th>\n",
              "      <td>...</td>\n",
              "      <td>...</td>\n",
              "      <td>...</td>\n",
              "      <td>...</td>\n",
              "      <td>...</td>\n",
              "      <td>...</td>\n",
              "      <td>...</td>\n",
              "      <td>...</td>\n",
              "      <td>...</td>\n",
              "      <td>...</td>\n",
              "      <td>...</td>\n",
              "      <td>...</td>\n",
              "      <td>...</td>\n",
              "      <td>...</td>\n",
              "      <td>...</td>\n",
              "      <td>...</td>\n",
              "      <td>...</td>\n",
              "      <td>...</td>\n",
              "    </tr>\n",
              "    <tr>\n",
              "      <th>114033</th>\n",
              "      <td>5716c645907ed2fc642414ce4072eddf284ede08</td>\n",
              "      <td>NaN</td>\n",
              "      <td>K &gt; 24 month</td>\n",
              "      <td>200.0</td>\n",
              "      <td>1.0</td>\n",
              "      <td>NaN</td>\n",
              "      <td>NaN</td>\n",
              "      <td>NaN</td>\n",
              "      <td>NaN</td>\n",
              "      <td>NaN</td>\n",
              "      <td>NaN</td>\n",
              "      <td>NaN</td>\n",
              "      <td>NaN</td>\n",
              "      <td>NaN</td>\n",
              "      <td>NO</td>\n",
              "      <td>5</td>\n",
              "      <td>NaN</td>\n",
              "      <td>NaN</td>\n",
              "    </tr>\n",
              "    <tr>\n",
              "      <th>114034</th>\n",
              "      <td>473fd291ae14644a757f86a76838820c1ddf7859</td>\n",
              "      <td>NaN</td>\n",
              "      <td>K &gt; 24 month</td>\n",
              "      <td>NaN</td>\n",
              "      <td>NaN</td>\n",
              "      <td>NaN</td>\n",
              "      <td>NaN</td>\n",
              "      <td>NaN</td>\n",
              "      <td>NaN</td>\n",
              "      <td>NaN</td>\n",
              "      <td>NaN</td>\n",
              "      <td>NaN</td>\n",
              "      <td>NaN</td>\n",
              "      <td>NaN</td>\n",
              "      <td>NO</td>\n",
              "      <td>6</td>\n",
              "      <td>NaN</td>\n",
              "      <td>NaN</td>\n",
              "    </tr>\n",
              "    <tr>\n",
              "      <th>114035</th>\n",
              "      <td>e0457edfc3a4feafabe4108d89187390e85c64a9</td>\n",
              "      <td>DIOURBEL</td>\n",
              "      <td>K &gt; 24 month</td>\n",
              "      <td>2200.0</td>\n",
              "      <td>2.0</td>\n",
              "      <td>3501.0</td>\n",
              "      <td>1167.0</td>\n",
              "      <td>4.0</td>\n",
              "      <td>7110.0</td>\n",
              "      <td>1.0</td>\n",
              "      <td>NaN</td>\n",
              "      <td>16.0</td>\n",
              "      <td>NaN</td>\n",
              "      <td>NaN</td>\n",
              "      <td>NO</td>\n",
              "      <td>59</td>\n",
              "      <td>Data:1500F=SPPackage1,30d</td>\n",
              "      <td>2.0</td>\n",
              "    </tr>\n",
              "    <tr>\n",
              "      <th>114036</th>\n",
              "      <td>75f9e5ce36caef56d7c253e1cf92af68c1ece956</td>\n",
              "      <td>KAOLACK</td>\n",
              "      <td>K &gt; 24 month</td>\n",
              "      <td>9800.0</td>\n",
              "      <td>21.0</td>\n",
              "      <td>9879.0</td>\n",
              "      <td>3293.0</td>\n",
              "      <td>21.0</td>\n",
              "      <td>18651.0</td>\n",
              "      <td>37.0</td>\n",
              "      <td>0.0</td>\n",
              "      <td>NaN</td>\n",
              "      <td>NaN</td>\n",
              "      <td>NaN</td>\n",
              "      <td>NO</td>\n",
              "      <td>61</td>\n",
              "      <td>Data:490F=1GB,7d</td>\n",
              "      <td>15.0</td>\n",
              "    </tr>\n",
              "    <tr>\n",
              "      <th>114037</th>\n",
              "      <td>42e019de7bc1ae30bc617df9e2c1b8869c2420e6</td>\n",
              "      <td>NaN</td>\n",
              "      <td>K &gt; 24 month</td>\n",
              "      <td>NaN</td>\n",
              "      <td>NaN</td>\n",
              "      <td>NaN</td>\n",
              "      <td>NaN</td>\n",
              "      <td>NaN</td>\n",
              "      <td>NaN</td>\n",
              "      <td>NaN</td>\n",
              "      <td>NaN</td>\n",
              "      <td>NaN</td>\n",
              "      <td>NaN</td>\n",
              "      <td>NaN</td>\n",
              "      <td>NO</td>\n",
              "      <td>1</td>\n",
              "      <td>NaN</td>\n",
              "      <td>NaN</td>\n",
              "    </tr>\n",
              "  </tbody>\n",
              "</table>\n",
              "<p>114038 rows × 18 columns</p>\n",
              "</div>"
            ],
            "text/plain": [
              "                                         user_id  ... FREQ_TOP_PACK\n",
              "0       c1b31e7cef249f2b777d934886b787a433029263  ...           9.0\n",
              "1       c205f3aff8486b0bed1051f3bf25fe04df7f671e  ...           NaN\n",
              "2       d743faaf50bbc43e02a08a2c2f4326f6d368fb25  ...           9.0\n",
              "3       c4e45ed21d5e2f64146b95fecbbb6b24740f803c  ...          12.0\n",
              "4       96c6a822243654ae1fe5f5f887089681f806cb46  ...           1.0\n",
              "...                                          ...  ...           ...\n",
              "114033  5716c645907ed2fc642414ce4072eddf284ede08  ...           NaN\n",
              "114034  473fd291ae14644a757f86a76838820c1ddf7859  ...           NaN\n",
              "114035  e0457edfc3a4feafabe4108d89187390e85c64a9  ...           2.0\n",
              "114036  75f9e5ce36caef56d7c253e1cf92af68c1ece956  ...          15.0\n",
              "114037  42e019de7bc1ae30bc617df9e2c1b8869c2420e6  ...           NaN\n",
              "\n",
              "[114038 rows x 18 columns]"
            ]
          },
          "metadata": {
            "tags": []
          },
          "execution_count": 308
        }
      ]
    },
    {
      "cell_type": "code",
      "metadata": {
        "id": "NU1cCGJ8awPE",
        "colab_type": "code",
        "colab": {
          "base_uri": "https://localhost:8080/",
          "height": 225
        },
        "outputId": "b21f9115-76a8-410a-c2a7-90bacc0d4084"
      },
      "source": [
        "train_label"
      ],
      "execution_count": 316,
      "outputs": [
        {
          "output_type": "execute_result",
          "data": {
            "text/plain": [
              "0         0\n",
              "1         0\n",
              "2         0\n",
              "3         0\n",
              "4         0\n",
              "         ..\n",
              "646209    0\n",
              "646210    0\n",
              "646211    0\n",
              "646212    0\n",
              "646213    0\n",
              "Name: CHURN, Length: 646214, dtype: int64"
            ]
          },
          "metadata": {
            "tags": []
          },
          "execution_count": 316
        }
      ]
    },
    {
      "cell_type": "code",
      "metadata": {
        "id": "6HcssAGjb-cz",
        "colab_type": "code",
        "colab": {
          "base_uri": "https://localhost:8080/",
          "height": 424
        },
        "outputId": "8d0ff958-899f-491b-de2f-ed632baaaaa7"
      },
      "source": [
        "submission"
      ],
      "execution_count": 311,
      "outputs": [
        {
          "output_type": "execute_result",
          "data": {
            "text/html": [
              "<div>\n",
              "<style scoped>\n",
              "    .dataframe tbody tr th:only-of-type {\n",
              "        vertical-align: middle;\n",
              "    }\n",
              "\n",
              "    .dataframe tbody tr th {\n",
              "        vertical-align: top;\n",
              "    }\n",
              "\n",
              "    .dataframe thead th {\n",
              "        text-align: right;\n",
              "    }\n",
              "</style>\n",
              "<table border=\"1\" class=\"dataframe\">\n",
              "  <thead>\n",
              "    <tr style=\"text-align: right;\">\n",
              "      <th></th>\n",
              "      <th>user_id</th>\n",
              "      <th>CHURN</th>\n",
              "    </tr>\n",
              "  </thead>\n",
              "  <tbody>\n",
              "    <tr>\n",
              "      <th>0</th>\n",
              "      <td>c1b31e7cef249f2b777d934886b787a433029263</td>\n",
              "      <td>0</td>\n",
              "    </tr>\n",
              "    <tr>\n",
              "      <th>1</th>\n",
              "      <td>c205f3aff8486b0bed1051f3bf25fe04df7f671e</td>\n",
              "      <td>0</td>\n",
              "    </tr>\n",
              "    <tr>\n",
              "      <th>2</th>\n",
              "      <td>d743faaf50bbc43e02a08a2c2f4326f6d368fb25</td>\n",
              "      <td>0</td>\n",
              "    </tr>\n",
              "    <tr>\n",
              "      <th>3</th>\n",
              "      <td>c4e45ed21d5e2f64146b95fecbbb6b24740f803c</td>\n",
              "      <td>0</td>\n",
              "    </tr>\n",
              "    <tr>\n",
              "      <th>4</th>\n",
              "      <td>96c6a822243654ae1fe5f5f887089681f806cb46</td>\n",
              "      <td>0</td>\n",
              "    </tr>\n",
              "    <tr>\n",
              "      <th>...</th>\n",
              "      <td>...</td>\n",
              "      <td>...</td>\n",
              "    </tr>\n",
              "    <tr>\n",
              "      <th>114033</th>\n",
              "      <td>5716c645907ed2fc642414ce4072eddf284ede08</td>\n",
              "      <td>0</td>\n",
              "    </tr>\n",
              "    <tr>\n",
              "      <th>114034</th>\n",
              "      <td>473fd291ae14644a757f86a76838820c1ddf7859</td>\n",
              "      <td>0</td>\n",
              "    </tr>\n",
              "    <tr>\n",
              "      <th>114035</th>\n",
              "      <td>e0457edfc3a4feafabe4108d89187390e85c64a9</td>\n",
              "      <td>0</td>\n",
              "    </tr>\n",
              "    <tr>\n",
              "      <th>114036</th>\n",
              "      <td>75f9e5ce36caef56d7c253e1cf92af68c1ece956</td>\n",
              "      <td>0</td>\n",
              "    </tr>\n",
              "    <tr>\n",
              "      <th>114037</th>\n",
              "      <td>42e019de7bc1ae30bc617df9e2c1b8869c2420e6</td>\n",
              "      <td>0</td>\n",
              "    </tr>\n",
              "  </tbody>\n",
              "</table>\n",
              "<p>114038 rows × 2 columns</p>\n",
              "</div>"
            ],
            "text/plain": [
              "                                         user_id  CHURN\n",
              "0       c1b31e7cef249f2b777d934886b787a433029263      0\n",
              "1       c205f3aff8486b0bed1051f3bf25fe04df7f671e      0\n",
              "2       d743faaf50bbc43e02a08a2c2f4326f6d368fb25      0\n",
              "3       c4e45ed21d5e2f64146b95fecbbb6b24740f803c      0\n",
              "4       96c6a822243654ae1fe5f5f887089681f806cb46      0\n",
              "...                                          ...    ...\n",
              "114033  5716c645907ed2fc642414ce4072eddf284ede08      0\n",
              "114034  473fd291ae14644a757f86a76838820c1ddf7859      0\n",
              "114035  e0457edfc3a4feafabe4108d89187390e85c64a9      0\n",
              "114036  75f9e5ce36caef56d7c253e1cf92af68c1ece956      0\n",
              "114037  42e019de7bc1ae30bc617df9e2c1b8869c2420e6      0\n",
              "\n",
              "[114038 rows x 2 columns]"
            ]
          },
          "metadata": {
            "tags": []
          },
          "execution_count": 311
        }
      ]
    },
    {
      "cell_type": "code",
      "metadata": {
        "id": "316PkypjcHcb",
        "colab_type": "code",
        "colab": {}
      },
      "source": [
        "test_labels = submission.CHURN"
      ],
      "execution_count": 313,
      "outputs": []
    },
    {
      "cell_type": "code",
      "metadata": {
        "id": "W3QHN4BucMro",
        "colab_type": "code",
        "colab": {
          "base_uri": "https://localhost:8080/",
          "height": 225
        },
        "outputId": "e1dd771e-3ded-4d49-c932-e28e40a22450"
      },
      "source": [
        "test_labels"
      ],
      "execution_count": 314,
      "outputs": [
        {
          "output_type": "execute_result",
          "data": {
            "text/plain": [
              "0         0\n",
              "1         0\n",
              "2         0\n",
              "3         0\n",
              "4         0\n",
              "         ..\n",
              "114033    0\n",
              "114034    0\n",
              "114035    0\n",
              "114036    0\n",
              "114037    0\n",
              "Name: CHURN, Length: 114038, dtype: int64"
            ]
          },
          "metadata": {
            "tags": []
          },
          "execution_count": 314
        }
      ]
    },
    {
      "cell_type": "code",
      "metadata": {
        "id": "thUl91tLaTnH",
        "colab_type": "code",
        "colab": {
          "base_uri": "https://localhost:8080/",
          "height": 52
        },
        "outputId": "e0a3e576-e052-4cb2-87c9-243e2dcbf65f"
      },
      "source": [
        "preprocessed_train = preprocess_data(fit_set=[train, train_label]) "
      ],
      "execution_count": 318,
      "outputs": [
        {
          "output_type": "stream",
          "text": [
            "[Pipeline] ............ (step 1 of 2) Processing scaler, total=   1.0s\n",
            "[Pipeline] ...... (step 2 of 2) Processing feature_pipe, total=   1.6s\n"
          ],
          "name": "stdout"
        }
      ]
    },
    {
      "cell_type": "code",
      "metadata": {
        "id": "_RHzsdCvc-Gi",
        "colab_type": "code",
        "colab": {
          "base_uri": "https://localhost:8080/",
          "height": 243
        },
        "outputId": "04188a97-0f3b-4129-8cde-8145bb43a909"
      },
      "source": [
        "preprocessed_train"
      ],
      "execution_count": 319,
      "outputs": [
        {
          "output_type": "execute_result",
          "data": {
            "text/plain": [
              "array([[-2.44989573e+00, -1.63219302e+00, -1.12437969e+00, ...,\n",
              "        -6.57665538e-01, -2.71008503e-01, -1.08758318e+00],\n",
              "       [-3.76191795e-01,  4.80677947e-01, -1.29850575e+00, ...,\n",
              "         2.02733766e-16, -1.07880859e+00,  5.17452245e-16],\n",
              "       [-2.45772607e+00, -5.73939996e-01,  2.11783820e-01, ...,\n",
              "        -6.57665538e-01, -8.99297462e-01, -7.96283463e-01],\n",
              "       ...,\n",
              "       [ 5.59621633e+00, -7.76136044e-01, -1.88740820e+00, ...,\n",
              "         4.17141625e+00,  1.34459168e+00,  9.51514840e-01],\n",
              "       [-1.09943413e+00, -1.52304036e+00,  2.71740762e+00, ...,\n",
              "         2.02733766e-16, -1.81252938e-01, -7.96283463e-01],\n",
              "       [ 1.31540945e+00, -1.91207563e+00, -9.06305776e-01, ...,\n",
              "        -4.86472092e-01,  1.29971389e+00,  6.60215123e-01]])"
            ]
          },
          "metadata": {
            "tags": []
          },
          "execution_count": 319
        }
      ]
    },
    {
      "cell_type": "code",
      "metadata": {
        "id": "C95SwwMFajzs",
        "colab_type": "code",
        "colab": {
          "base_uri": "https://localhost:8080/",
          "height": 52
        },
        "outputId": "ec3c662f-567b-44d3-e5e9-9a42a0362db9"
      },
      "source": [
        "preprocessed_test = preprocess_data(fit_set= [test, test_labels]) "
      ],
      "execution_count": 320,
      "outputs": [
        {
          "output_type": "stream",
          "text": [
            "[Pipeline] ............ (step 1 of 2) Processing scaler, total=   0.2s\n",
            "[Pipeline] ...... (step 2 of 2) Processing feature_pipe, total=   0.3s\n"
          ],
          "name": "stdout"
        }
      ]
    },
    {
      "cell_type": "code",
      "metadata": {
        "id": "dwv5idL-alZo",
        "colab_type": "code",
        "colab": {}
      },
      "source": [
        ""
      ],
      "execution_count": null,
      "outputs": []
    },
    {
      "cell_type": "code",
      "metadata": {
        "id": "yGy3N1ZFalDZ",
        "colab_type": "code",
        "colab": {}
      },
      "source": [
        ""
      ],
      "execution_count": null,
      "outputs": []
    },
    {
      "cell_type": "markdown",
      "metadata": {
        "id": "4nGX5y3I0KTx",
        "colab_type": "text"
      },
      "source": [
        "#### Logistic Model Final Predictions"
      ]
    },
    {
      "cell_type": "markdown",
      "metadata": {
        "id": "q2F6p98BZVv5",
        "colab_type": "text"
      },
      "source": [
        "> train on full data"
      ]
    },
    {
      "cell_type": "code",
      "metadata": {
        "id": "MlHb_WR3pVKA",
        "colab_type": "code",
        "colab": {}
      },
      "source": [
        "logit_model_final =  LogisticRegression(class_weight='balanced', random_state=0, verbose=True) "
      ],
      "execution_count": null,
      "outputs": []
    },
    {
      "cell_type": "code",
      "metadata": {
        "id": "Wm0oSJt9owUC",
        "colab_type": "code",
        "colab": {}
      },
      "source": [
        "preprocess_train = process_pipe_full.fit_transform(train, train_label)"
      ],
      "execution_count": null,
      "outputs": []
    },
    {
      "cell_type": "code",
      "metadata": {
        "id": "ydJy5BNzp4-V",
        "colab_type": "code",
        "colab": {}
      },
      "source": [
        "preprocess_train.shape"
      ],
      "execution_count": null,
      "outputs": []
    },
    {
      "cell_type": "code",
      "metadata": {
        "id": "raFiszS8XhKp",
        "colab_type": "code",
        "colab": {}
      },
      "source": [
        "%%time \n",
        "logit_model_final.fit(preprocess_train, train_label); "
      ],
      "execution_count": null,
      "outputs": []
    },
    {
      "cell_type": "markdown",
      "metadata": {
        "id": "eMQiuSRti3pP",
        "colab_type": "text"
      },
      "source": [
        "> Predict on test data"
      ]
    },
    {
      "cell_type": "code",
      "metadata": {
        "id": "RI5nK6c0s0YX",
        "colab_type": "code",
        "colab": {}
      },
      "source": [
        "preprocess_test = process_pipe_full.fit_transform(test, test_preds) "
      ],
      "execution_count": null,
      "outputs": []
    },
    {
      "cell_type": "code",
      "metadata": {
        "id": "MXccFajOtRUz",
        "colab_type": "code",
        "colab": {}
      },
      "source": [
        "preprocess_test.shape"
      ],
      "execution_count": null,
      "outputs": []
    },
    {
      "cell_type": "code",
      "metadata": {
        "id": "bFcJ4Gk70DKX",
        "colab_type": "code",
        "colab": {}
      },
      "source": [
        "log_pred_final = logit_model_final.predict_proba(preprocess_test)[:,1]"
      ],
      "execution_count": null,
      "outputs": []
    },
    {
      "cell_type": "code",
      "metadata": {
        "id": "8krvTYlk0WZ9",
        "colab_type": "code",
        "colab": {}
      },
      "source": [
        "log_pred_final.shape"
      ],
      "execution_count": null,
      "outputs": []
    },
    {
      "cell_type": "code",
      "metadata": {
        "id": "7ruuVHt50_a3",
        "colab_type": "code",
        "colab": {}
      },
      "source": [
        "submission.CHURN = log_pred_final"
      ],
      "execution_count": null,
      "outputs": []
    },
    {
      "cell_type": "code",
      "metadata": {
        "id": "JWQJ1jYJziaT",
        "colab_type": "code",
        "colab": {}
      },
      "source": [
        "submission.CHURN.value_counts()"
      ],
      "execution_count": null,
      "outputs": []
    },
    {
      "cell_type": "code",
      "metadata": {
        "id": "DFy7LjiAz4EZ",
        "colab_type": "code",
        "colab": {}
      },
      "source": [
        ""
      ],
      "execution_count": null,
      "outputs": []
    },
    {
      "cell_type": "code",
      "metadata": {
        "id": "vhfLRl0bziRD",
        "colab_type": "code",
        "colab": {}
      },
      "source": [
        "submission.to_csv(predictions_path+'log_predictions.csv', index=False)"
      ],
      "execution_count": null,
      "outputs": []
    },
    {
      "cell_type": "code",
      "metadata": {
        "id": "lgo54QOwziKr",
        "colab_type": "code",
        "colab": {}
      },
      "source": [
        "log_predictions = pd.read_csv(predictions_path+'log_predictions.csv')\n",
        "log_predictions "
      ],
      "execution_count": null,
      "outputs": []
    },
    {
      "cell_type": "markdown",
      "metadata": {
        "colab_type": "text",
        "id": "fP6AI5qZaYJy"
      },
      "source": [
        "#### XGBoost Model Final Predictions"
      ]
    },
    {
      "cell_type": "markdown",
      "metadata": {
        "colab_type": "text",
        "id": "sqGA_KpLaYJ8"
      },
      "source": [
        "> train on full data"
      ]
    },
    {
      "cell_type": "code",
      "metadata": {
        "id": "wo6JITEvad9_",
        "colab_type": "code",
        "colab": {}
      },
      "source": [
        ""
      ],
      "execution_count": null,
      "outputs": []
    },
    {
      "cell_type": "code",
      "metadata": {
        "id": "CA7qoLxCad5p",
        "colab_type": "code",
        "colab": {}
      },
      "source": [
        ""
      ],
      "execution_count": null,
      "outputs": []
    },
    {
      "cell_type": "code",
      "metadata": {
        "id": "710YupIUadyD",
        "colab_type": "code",
        "colab": {}
      },
      "source": [
        ""
      ],
      "execution_count": null,
      "outputs": []
    },
    {
      "cell_type": "markdown",
      "metadata": {
        "colab_type": "text",
        "id": "u2LEUFOgY6oJ"
      },
      "source": [
        "> train on full data"
      ]
    },
    {
      "cell_type": "code",
      "metadata": {
        "colab_type": "code",
        "id": "92aT-907Y6oR",
        "colab": {}
      },
      "source": [
        "logit_model_final =  LogisticRegression(class_weight='balanced', random_state=0, verbose=True) "
      ],
      "execution_count": null,
      "outputs": []
    },
    {
      "cell_type": "code",
      "metadata": {
        "colab_type": "code",
        "id": "5B7m4mfbY6oh",
        "colab": {}
      },
      "source": [
        "preprocess_train = process_pipe_full.fit_transform(train, train_label)"
      ],
      "execution_count": null,
      "outputs": []
    },
    {
      "cell_type": "code",
      "metadata": {
        "colab_type": "code",
        "id": "YonY0bASY6ou",
        "colab": {}
      },
      "source": [
        "preprocess_train.shape"
      ],
      "execution_count": null,
      "outputs": []
    },
    {
      "cell_type": "code",
      "metadata": {
        "colab_type": "code",
        "id": "BN4z8zEpY6o5",
        "colab": {}
      },
      "source": [
        "%%time \n",
        "logit_model_final.fit(preprocess_train, train_label); "
      ],
      "execution_count": null,
      "outputs": []
    },
    {
      "cell_type": "markdown",
      "metadata": {
        "colab_type": "text",
        "id": "UC05wLNdY6pE"
      },
      "source": [
        "> Predict on test data"
      ]
    },
    {
      "cell_type": "code",
      "metadata": {
        "colab_type": "code",
        "id": "EAdulmdeY6pF",
        "colab": {}
      },
      "source": [
        "preprocess_test = process_pipe_full.fit_transform(test, test_preds) "
      ],
      "execution_count": null,
      "outputs": []
    },
    {
      "cell_type": "code",
      "metadata": {
        "colab_type": "code",
        "id": "THM2iTTrY6pP",
        "colab": {}
      },
      "source": [
        "preprocess_test.shape"
      ],
      "execution_count": null,
      "outputs": []
    },
    {
      "cell_type": "code",
      "metadata": {
        "colab_type": "code",
        "id": "w7CXgzfuY6pX",
        "colab": {}
      },
      "source": [
        "log_pred_final = logit_model_final.predict_proba(preprocess_test)[:,1]"
      ],
      "execution_count": null,
      "outputs": []
    },
    {
      "cell_type": "code",
      "metadata": {
        "colab_type": "code",
        "id": "Iglq0VAXY6pg",
        "colab": {}
      },
      "source": [
        "log_pred_final.shape"
      ],
      "execution_count": null,
      "outputs": []
    },
    {
      "cell_type": "code",
      "metadata": {
        "colab_type": "code",
        "id": "f72fDg3GY6po",
        "colab": {}
      },
      "source": [
        "submission.CHURN = log_pred_final"
      ],
      "execution_count": null,
      "outputs": []
    },
    {
      "cell_type": "code",
      "metadata": {
        "colab_type": "code",
        "id": "nKC681baY6pv",
        "colab": {}
      },
      "source": [
        "submission.CHURN.value_counts()"
      ],
      "execution_count": null,
      "outputs": []
    },
    {
      "cell_type": "code",
      "metadata": {
        "colab_type": "code",
        "id": "3V-H-BEOY6p3",
        "colab": {}
      },
      "source": [
        ""
      ],
      "execution_count": null,
      "outputs": []
    },
    {
      "cell_type": "code",
      "metadata": {
        "colab_type": "code",
        "id": "C5uAI24BY6p-",
        "colab": {}
      },
      "source": [
        "submission.to_csv(predictions_path+'log_predictions.csv', index=False)"
      ],
      "execution_count": null,
      "outputs": []
    },
    {
      "cell_type": "code",
      "metadata": {
        "colab_type": "code",
        "id": "ERMCuWacY6qI",
        "colab": {}
      },
      "source": [
        "log_predictions = pd.read_csv(predictions_path+'log_predictions.csv')\n",
        "log_predictions "
      ],
      "execution_count": null,
      "outputs": []
    },
    {
      "cell_type": "markdown",
      "metadata": {
        "colab_type": "text",
        "id": "ImrZ56YGajc6"
      },
      "source": [
        "#### Catboost Model Final Predictions"
      ]
    },
    {
      "cell_type": "markdown",
      "metadata": {
        "colab_type": "text",
        "id": "tbf7Fg_PajdB"
      },
      "source": [
        "> train on full data"
      ]
    },
    {
      "cell_type": "code",
      "metadata": {
        "colab_type": "code",
        "id": "OXLmGUUbajdF",
        "colab": {}
      },
      "source": [
        ""
      ],
      "execution_count": null,
      "outputs": []
    },
    {
      "cell_type": "code",
      "metadata": {
        "colab_type": "code",
        "id": "91efqJ_MajdX",
        "colab": {}
      },
      "source": [
        ""
      ],
      "execution_count": null,
      "outputs": []
    },
    {
      "cell_type": "code",
      "metadata": {
        "colab_type": "code",
        "id": "Km33Tz4sajdk",
        "colab": {}
      },
      "source": [
        ""
      ],
      "execution_count": null,
      "outputs": []
    },
    {
      "cell_type": "markdown",
      "metadata": {
        "colab_type": "text",
        "id": "MZ6ipZW6Y8MY"
      },
      "source": [
        "> train on full data"
      ]
    },
    {
      "cell_type": "code",
      "metadata": {
        "colab_type": "code",
        "id": "emnux9vQY8Ma",
        "colab": {}
      },
      "source": [
        "cat_model_final = CatBoostClassifier(n_estimators=1000,random_seed = 10, use_best_model=True, eval_metric = 'Logloss', \n",
        "                               early_stopping_rounds=100,verbose=100, learning_rate=0.15) "
      ],
      "execution_count": null,
      "outputs": []
    },
    {
      "cell_type": "code",
      "metadata": {
        "colab_type": "code",
        "id": "lnSlTSCvY8Mi",
        "colab": {}
      },
      "source": [
        "preprocess_train = preprocess_data(train, train_label)"
      ],
      "execution_count": null,
      "outputs": []
    },
    {
      "cell_type": "code",
      "metadata": {
        "colab_type": "code",
        "id": "k_xXT0gPY8Mq",
        "colab": {}
      },
      "source": [
        "preprocess_train.shape"
      ],
      "execution_count": null,
      "outputs": []
    },
    {
      "cell_type": "code",
      "metadata": {
        "colab_type": "code",
        "id": "8WFSSEgBY8M0",
        "colab": {}
      },
      "source": [
        "%%time \n",
        "logit_model_final.fit(preprocess_train, train_label); "
      ],
      "execution_count": null,
      "outputs": []
    },
    {
      "cell_type": "markdown",
      "metadata": {
        "colab_type": "text",
        "id": "8Z00fSknY8M8"
      },
      "source": [
        "> Predict on test data"
      ]
    },
    {
      "cell_type": "code",
      "metadata": {
        "colab_type": "code",
        "id": "BNnQ1p6qY8M9",
        "colab": {}
      },
      "source": [
        "preprocess_test = process_pipe_full.fit_transform(test, test_preds) "
      ],
      "execution_count": null,
      "outputs": []
    },
    {
      "cell_type": "code",
      "metadata": {
        "colab_type": "code",
        "id": "3lxd0Y_nY8NE",
        "colab": {}
      },
      "source": [
        "preprocess_test.shape"
      ],
      "execution_count": null,
      "outputs": []
    },
    {
      "cell_type": "code",
      "metadata": {
        "colab_type": "code",
        "id": "awcVQG2hY8NL",
        "colab": {}
      },
      "source": [
        "log_pred_final = logit_model_final.predict_proba(preprocess_test)[:,1]"
      ],
      "execution_count": null,
      "outputs": []
    },
    {
      "cell_type": "code",
      "metadata": {
        "colab_type": "code",
        "id": "i22VlEzUY8NS",
        "colab": {}
      },
      "source": [
        "log_pred_final.shape"
      ],
      "execution_count": null,
      "outputs": []
    },
    {
      "cell_type": "code",
      "metadata": {
        "colab_type": "code",
        "id": "pnkoJpYIY8Na",
        "colab": {}
      },
      "source": [
        "submission.CHURN = log_pred_final"
      ],
      "execution_count": null,
      "outputs": []
    },
    {
      "cell_type": "code",
      "metadata": {
        "colab_type": "code",
        "id": "dD3RktbxY8Nf",
        "colab": {}
      },
      "source": [
        "submission.CHURN.value_counts()"
      ],
      "execution_count": null,
      "outputs": []
    },
    {
      "cell_type": "code",
      "metadata": {
        "colab_type": "code",
        "id": "dog7QC2eY8Nm",
        "colab": {}
      },
      "source": [
        ""
      ],
      "execution_count": null,
      "outputs": []
    },
    {
      "cell_type": "code",
      "metadata": {
        "colab_type": "code",
        "id": "1v5-Xz_7Y8Nv",
        "colab": {}
      },
      "source": [
        "submission.to_csv(predictions_path+'log_predictions.csv', index=False)"
      ],
      "execution_count": null,
      "outputs": []
    },
    {
      "cell_type": "code",
      "metadata": {
        "colab_type": "code",
        "id": "q5mFAxoyY8N1",
        "colab": {}
      },
      "source": [
        "log_predictions = pd.read_csv(predictions_path+'log_predictions.csv')\n",
        "log_predictions "
      ],
      "execution_count": null,
      "outputs": []
    }
  ]
}