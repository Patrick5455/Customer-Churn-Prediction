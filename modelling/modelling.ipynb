{
<<<<<<< HEAD
 "cells": [
  {
   "cell_type": "code",
   "execution_count": 1,
   "metadata": {},
   "outputs": [],
   "source": [
    "#Import some libraries\n",
    "import pandas as pd\n",
    "from pandas.api.types import is_string_dtype\n",
    "from pandas.api.types import is_numeric_dtype \n",
    "import numpy as np\n",
    "import matplotlib.pyplot as plt\n",
    "from pylab import rcParams \n",
    "import seaborn as sns\n",
    "import os\n",
    "sns.set_style('darkgrid')\n",
    "rcParams['figure.figsize'] = 8,8\n",
    "import warnings\n",
    "warnings.filterwarnings(\"ignore\")\n",
    "%matplotlib inline"
   ]
  },
  {
   "cell_type": "markdown",
   "metadata": {},
   "source": [
    "> Data Preprocessing"
   ]
  },
  {
   "cell_type": "code",
   "execution_count": 43,
   "metadata": {},
   "outputs": [],
   "source": [
    "from sklearn.preprocessing import StandardScaler, RobustScaler, OneHotEncoder, LabelEncoder\n",
    "from sklearn.pipeline import FeatureUnion, make_pipeline, Pipeline\n",
    "from sklearn.impute import KNNImputer\n",
    "from sklearn.model_selection import cross_val_predict, cross_val_score, GridSearchCV,RandomizedSearchCV\n",
    "from sklearn.impute import SimpleImputer\n",
    "from sklearn.compose import ColumnTransformer"
   ]
  },
  {
   "cell_type": "markdown",
   "metadata": {},
   "source": [
    "> > Project packages"
   ]
  },
  {
   "cell_type": "code",
   "execution_count": 3,
   "metadata": {},
   "outputs": [],
   "source": [
    "from project_package.data_package import data\n",
    "from project_package.model_package import model, model_metrics\n",
    "from project_package.plot_package import bi_plot, uni_plot\n",
    "from sklearn.ensemble import IsolationForest\n",
    "from imblearn.over_sampling import SMOTE"
   ]
  },
  {
   "cell_type": "code",
   "execution_count": 4,
   "metadata": {},
   "outputs": [],
   "source": [
    "# ?KNNImputer"
   ]
  },
  {
   "cell_type": "markdown",
   "metadata": {},
   "source": [
    "> Load Datasets"
   ]
  },
  {
   "cell_type": "code",
   "execution_count": 5,
   "metadata": {},
   "outputs": [],
   "source": [
    "#import data\n",
    "train = pd.read_csv('../datasets/AIMS_Train.csv')\n",
    "test=  pd.read_csv('../datasets/AIMS_Test.csv')\n",
    "submission = pd.read_csv('../datasets/AIMS_SampleSubmission.csv')\n",
    "variables = pd.read_csv('../datasets/VariableDefinitions.csv')"
   ]
  },
  {
   "cell_type": "code",
   "execution_count": 6,
   "metadata": {},
   "outputs": [
    {
     "data": {
      "text/html": [
       "<div>\n",
       "<style scoped>\n",
       "    .dataframe tbody tr th:only-of-type {\n",
       "        vertical-align: middle;\n",
       "    }\n",
       "\n",
       "    .dataframe tbody tr th {\n",
       "        vertical-align: top;\n",
       "    }\n",
       "\n",
       "    .dataframe thead th {\n",
       "        text-align: right;\n",
       "    }\n",
       "</style>\n",
       "<table border=\"1\" class=\"dataframe\">\n",
       "  <thead>\n",
       "    <tr style=\"text-align: right;\">\n",
       "      <th></th>\n",
       "      <th>Variable Definitions</th>\n",
       "      <th>Unnamed: 1</th>\n",
       "      <th>Unnamed: 2</th>\n",
       "    </tr>\n",
       "  </thead>\n",
       "  <tbody>\n",
       "    <tr>\n",
       "      <th>0</th>\n",
       "      <td>NaN</td>\n",
       "      <td>French</td>\n",
       "      <td>English</td>\n",
       "    </tr>\n",
       "    <tr>\n",
       "      <th>1</th>\n",
       "      <td>NaN</td>\n",
       "      <td>Le dataset churn comprend 19 variables dont 15...</td>\n",
       "      <td>The churn dataset includes 19 variables includ...</td>\n",
       "    </tr>\n",
       "    <tr>\n",
       "      <th>2</th>\n",
       "      <td>user_id</td>\n",
       "      <td>NaN</td>\n",
       "      <td>NaN</td>\n",
       "    </tr>\n",
       "    <tr>\n",
       "      <th>3</th>\n",
       "      <td>REGION</td>\n",
       "      <td>la localité de chaque client</td>\n",
       "      <td>the location of each client</td>\n",
       "    </tr>\n",
       "    <tr>\n",
       "      <th>4</th>\n",
       "      <td>TENURE</td>\n",
       "      <td>la durée dans le reseau</td>\n",
       "      <td>duration in the network</td>\n",
       "    </tr>\n",
       "    <tr>\n",
       "      <th>5</th>\n",
       "      <td>MONTANT</td>\n",
       "      <td>montant de recharge</td>\n",
       "      <td>top-up amount</td>\n",
       "    </tr>\n",
       "    <tr>\n",
       "      <th>6</th>\n",
       "      <td>FREQUENCE_RECH</td>\n",
       "      <td>nombre de fois que le client a fait une recharge</td>\n",
       "      <td>number of times the customer refilled</td>\n",
       "    </tr>\n",
       "    <tr>\n",
       "      <th>7</th>\n",
       "      <td>REVENUE</td>\n",
       "      <td>revenu mensuel de chaque client</td>\n",
       "      <td>monthly income of each client</td>\n",
       "    </tr>\n",
       "    <tr>\n",
       "      <th>8</th>\n",
       "      <td>ARPU_SEGMENT</td>\n",
       "      <td>revenu sur 90 jours/3</td>\n",
       "      <td>income over 90 days / 3</td>\n",
       "    </tr>\n",
       "    <tr>\n",
       "      <th>9</th>\n",
       "      <td>FREQUENCE</td>\n",
       "      <td>nombre de fois que client à fait un revenu</td>\n",
       "      <td>number of times the client has made an income</td>\n",
       "    </tr>\n",
       "    <tr>\n",
       "      <th>10</th>\n",
       "      <td>DATA_VOLUME</td>\n",
       "      <td>nombre de connexions</td>\n",
       "      <td>number of connections</td>\n",
       "    </tr>\n",
       "    <tr>\n",
       "      <th>11</th>\n",
       "      <td>ON_NET</td>\n",
       "      <td>appel inter expresso</td>\n",
       "      <td>inter expresso call</td>\n",
       "    </tr>\n",
       "    <tr>\n",
       "      <th>12</th>\n",
       "      <td>ORANGE</td>\n",
       "      <td>appel vers orange</td>\n",
       "      <td>call to orange</td>\n",
       "    </tr>\n",
       "    <tr>\n",
       "      <th>13</th>\n",
       "      <td>TIGO</td>\n",
       "      <td>appel vers Tigo</td>\n",
       "      <td>call to Tigo</td>\n",
       "    </tr>\n",
       "    <tr>\n",
       "      <th>14</th>\n",
       "      <td>ZONE1</td>\n",
       "      <td>appel vers les zone1</td>\n",
       "      <td>call to zones1</td>\n",
       "    </tr>\n",
       "    <tr>\n",
       "      <th>15</th>\n",
       "      <td>ZONE2</td>\n",
       "      <td>appel vers les zone2</td>\n",
       "      <td>call to zones2</td>\n",
       "    </tr>\n",
       "    <tr>\n",
       "      <th>16</th>\n",
       "      <td>MRG</td>\n",
       "      <td>un client qui fait du vas</td>\n",
       "      <td>a client who is going</td>\n",
       "    </tr>\n",
       "    <tr>\n",
       "      <th>17</th>\n",
       "      <td>REGULARITY</td>\n",
       "      <td>nombre de fois que le client est actif pendant...</td>\n",
       "      <td>number of times the client is active for 90 days</td>\n",
       "    </tr>\n",
       "    <tr>\n",
       "      <th>18</th>\n",
       "      <td>TOP_PACK</td>\n",
       "      <td>les pack les plus activés</td>\n",
       "      <td>the most active packs</td>\n",
       "    </tr>\n",
       "    <tr>\n",
       "      <th>19</th>\n",
       "      <td>FREQ_TOP_PACK</td>\n",
       "      <td>nombre de fois que le client a activé les pack...</td>\n",
       "      <td>number of times the client has activated the t...</td>\n",
       "    </tr>\n",
       "    <tr>\n",
       "      <th>20</th>\n",
       "      <td>CHURN</td>\n",
       "      <td>variable à predire - Target</td>\n",
       "      <td>variable to predict - Target</td>\n",
       "    </tr>\n",
       "  </tbody>\n",
       "</table>\n",
       "</div>"
      ],
      "text/plain": [
       "   Variable Definitions                                         Unnamed: 1  \\\n",
       "0                   NaN                                             French   \n",
       "1                   NaN  Le dataset churn comprend 19 variables dont 15...   \n",
       "2               user_id                                                NaN   \n",
       "3                REGION                       la localité de chaque client   \n",
       "4                TENURE                            la durée dans le reseau   \n",
       "5               MONTANT                                montant de recharge   \n",
       "6        FREQUENCE_RECH   nombre de fois que le client a fait une recharge   \n",
       "7               REVENUE                    revenu mensuel de chaque client   \n",
       "8          ARPU_SEGMENT                              revenu sur 90 jours/3   \n",
       "9             FREQUENCE         nombre de fois que client à fait un revenu   \n",
       "10          DATA_VOLUME                               nombre de connexions   \n",
       "11               ON_NET                               appel inter expresso   \n",
       "12               ORANGE                                  appel vers orange   \n",
       "13                 TIGO                                    appel vers Tigo   \n",
       "14                ZONE1                               appel vers les zone1   \n",
       "15                ZONE2                               appel vers les zone2   \n",
       "16                  MRG                          un client qui fait du vas   \n",
       "17           REGULARITY  nombre de fois que le client est actif pendant...   \n",
       "18             TOP_PACK                          les pack les plus activés   \n",
       "19        FREQ_TOP_PACK  nombre de fois que le client a activé les pack...   \n",
       "20                CHURN                        variable à predire - Target   \n",
       "\n",
       "                                           Unnamed: 2  \n",
       "0                                             English  \n",
       "1   The churn dataset includes 19 variables includ...  \n",
       "2                                                 NaN  \n",
       "3                         the location of each client  \n",
       "4                             duration in the network  \n",
       "5                                       top-up amount  \n",
       "6               number of times the customer refilled  \n",
       "7                       monthly income of each client  \n",
       "8                             income over 90 days / 3  \n",
       "9       number of times the client has made an income  \n",
       "10                              number of connections  \n",
       "11                                inter expresso call  \n",
       "12                                     call to orange  \n",
       "13                                       call to Tigo  \n",
       "14                                     call to zones1  \n",
       "15                                     call to zones2  \n",
       "16                              a client who is going  \n",
       "17   number of times the client is active for 90 days  \n",
       "18                              the most active packs  \n",
       "19  number of times the client has activated the t...  \n",
       "20                       variable to predict - Target  "
      ]
     },
     "execution_count": 6,
     "metadata": {},
     "output_type": "execute_result"
=======
  "nbformat": 4,
  "nbformat_minor": 0,
  "metadata": {
    "kernelspec": {
      "display_name": "Python 3",
      "language": "python",
      "name": "python3"
    },
    "language_info": {
      "codemirror_mode": {
        "name": "ipython",
        "version": 3
      },
      "file_extension": ".py",
      "mimetype": "text/x-python",
      "name": "python",
      "nbconvert_exporter": "python",
      "pygments_lexer": "ipython3",
      "version": "3.6.9"
    },
    "colab": {
      "name": "modelling.ipynb",
      "provenance": [],
      "toc_visible": true,
      "include_colab_link": true
>>>>>>> cf53071c423e41fc5706ff9875b3eba5ca984e29
    }
  },
<<<<<<< HEAD
  {
   "cell_type": "code",
   "execution_count": 7,
   "metadata": {},
   "outputs": [],
   "source": [
    "train = train.sample(frac=.4, random_state=123)\n",
    "train.drop(columns=['REGION', 'MRG', 'TOP_PACK'], inplace=True) "
   ]
  },
  {
   "cell_type": "code",
   "execution_count": 8,
   "metadata": {},
   "outputs": [
    {
     "data": {
      "text/html": [
       "<div>\n",
       "<style scoped>\n",
       "    .dataframe tbody tr th:only-of-type {\n",
       "        vertical-align: middle;\n",
       "    }\n",
       "\n",
       "    .dataframe tbody tr th {\n",
       "        vertical-align: top;\n",
       "    }\n",
       "\n",
       "    .dataframe thead th {\n",
       "        text-align: right;\n",
       "    }\n",
       "</style>\n",
       "<table border=\"1\" class=\"dataframe\">\n",
       "  <thead>\n",
       "    <tr style=\"text-align: right;\">\n",
       "      <th></th>\n",
       "      <th>user_id</th>\n",
       "      <th>TENURE</th>\n",
       "      <th>MONTANT</th>\n",
       "      <th>FREQUENCE_RECH</th>\n",
       "      <th>REVENUE</th>\n",
       "      <th>ARPU_SEGMENT</th>\n",
       "      <th>FREQUENCE</th>\n",
       "      <th>DATA_VOLUME</th>\n",
       "      <th>ON_NET</th>\n",
       "      <th>ORANGE</th>\n",
       "      <th>TIGO</th>\n",
       "      <th>ZONE1</th>\n",
       "      <th>ZONE2</th>\n",
       "      <th>REGULARITY</th>\n",
       "      <th>FREQ_TOP_PACK</th>\n",
       "      <th>CHURN</th>\n",
       "    </tr>\n",
       "  </thead>\n",
       "  <tbody>\n",
       "    <tr>\n",
       "      <th>542316</th>\n",
       "      <td>16a8528ec3b1201f5cb8bfc35533744b79bd44d2</td>\n",
       "      <td>K &gt; 24 month</td>\n",
       "      <td>NaN</td>\n",
       "      <td>NaN</td>\n",
       "      <td>NaN</td>\n",
       "      <td>NaN</td>\n",
       "      <td>NaN</td>\n",
       "      <td>NaN</td>\n",
       "      <td>NaN</td>\n",
       "      <td>NaN</td>\n",
       "      <td>NaN</td>\n",
       "      <td>NaN</td>\n",
       "      <td>NaN</td>\n",
       "      <td>1</td>\n",
       "      <td>NaN</td>\n",
       "      <td>1</td>\n",
       "    </tr>\n",
       "    <tr>\n",
       "      <th>59878</th>\n",
       "      <td>3a8b710546fb6272a56908c2fcbcef20e2caa0cf</td>\n",
       "      <td>K &gt; 24 month</td>\n",
       "      <td>11650.0</td>\n",
       "      <td>30.0</td>\n",
       "      <td>11682.0</td>\n",
       "      <td>3894.0</td>\n",
       "      <td>32.0</td>\n",
       "      <td>7119.0</td>\n",
       "      <td>23.0</td>\n",
       "      <td>468.0</td>\n",
       "      <td>54.0</td>\n",
       "      <td>0.0</td>\n",
       "      <td>NaN</td>\n",
       "      <td>60</td>\n",
       "      <td>18.0</td>\n",
       "      <td>0</td>\n",
       "    </tr>\n",
       "    <tr>\n",
       "      <th>10729</th>\n",
       "      <td>0f34b0bf4dac19dd901b7e03dd79cb79ed0b744a</td>\n",
       "      <td>K &gt; 24 month</td>\n",
       "      <td>1000.0</td>\n",
       "      <td>2.0</td>\n",
       "      <td>1000.0</td>\n",
       "      <td>333.0</td>\n",
       "      <td>2.0</td>\n",
       "      <td>NaN</td>\n",
       "      <td>7.0</td>\n",
       "      <td>45.0</td>\n",
       "      <td>NaN</td>\n",
       "      <td>NaN</td>\n",
       "      <td>NaN</td>\n",
       "      <td>22</td>\n",
       "      <td>2.0</td>\n",
       "      <td>0</td>\n",
       "    </tr>\n",
       "    <tr>\n",
       "      <th>456437</th>\n",
       "      <td>dc34cfe39e89bddddf7f7550431681b6fc31e72e</td>\n",
       "      <td>K &gt; 24 month</td>\n",
       "      <td>500.0</td>\n",
       "      <td>1.0</td>\n",
       "      <td>480.0</td>\n",
       "      <td>160.0</td>\n",
       "      <td>4.0</td>\n",
       "      <td>1875.0</td>\n",
       "      <td>14.0</td>\n",
       "      <td>1.0</td>\n",
       "      <td>NaN</td>\n",
       "      <td>NaN</td>\n",
       "      <td>NaN</td>\n",
       "      <td>20</td>\n",
       "      <td>2.0</td>\n",
       "      <td>0</td>\n",
       "    </tr>\n",
       "    <tr>\n",
       "      <th>273902</th>\n",
       "      <td>3920ace4d36a498dde155bec15757407846258fc</td>\n",
       "      <td>K &gt; 24 month</td>\n",
       "      <td>11150.0</td>\n",
       "      <td>34.0</td>\n",
       "      <td>11750.0</td>\n",
       "      <td>3917.0</td>\n",
       "      <td>40.0</td>\n",
       "      <td>789.0</td>\n",
       "      <td>125.0</td>\n",
       "      <td>303.0</td>\n",
       "      <td>29.0</td>\n",
       "      <td>0.0</td>\n",
       "      <td>NaN</td>\n",
       "      <td>46</td>\n",
       "      <td>31.0</td>\n",
       "      <td>0</td>\n",
       "    </tr>\n",
       "    <tr>\n",
       "      <th>...</th>\n",
       "      <td>...</td>\n",
       "      <td>...</td>\n",
       "      <td>...</td>\n",
       "      <td>...</td>\n",
       "      <td>...</td>\n",
       "      <td>...</td>\n",
       "      <td>...</td>\n",
       "      <td>...</td>\n",
       "      <td>...</td>\n",
       "      <td>...</td>\n",
       "      <td>...</td>\n",
       "      <td>...</td>\n",
       "      <td>...</td>\n",
       "      <td>...</td>\n",
       "      <td>...</td>\n",
       "      <td>...</td>\n",
       "    </tr>\n",
       "    <tr>\n",
       "      <th>595806</th>\n",
       "      <td>9dc7101ddfa5c72246a03abc343258becbec6146</td>\n",
       "      <td>K &gt; 24 month</td>\n",
       "      <td>2000.0</td>\n",
       "      <td>3.0</td>\n",
       "      <td>1992.0</td>\n",
       "      <td>664.0</td>\n",
       "      <td>4.0</td>\n",
       "      <td>20.0</td>\n",
       "      <td>166.0</td>\n",
       "      <td>10.0</td>\n",
       "      <td>NaN</td>\n",
       "      <td>NaN</td>\n",
       "      <td>NaN</td>\n",
       "      <td>22</td>\n",
       "      <td>1.0</td>\n",
       "      <td>1</td>\n",
       "    </tr>\n",
       "    <tr>\n",
       "      <th>431674</th>\n",
       "      <td>a9fc15e427b614735c9be65e5adfd0baf9924458</td>\n",
       "      <td>K &gt; 24 month</td>\n",
       "      <td>1250.0</td>\n",
       "      <td>9.0</td>\n",
       "      <td>1360.0</td>\n",
       "      <td>453.0</td>\n",
       "      <td>18.0</td>\n",
       "      <td>0.0</td>\n",
       "      <td>6.0</td>\n",
       "      <td>6.0</td>\n",
       "      <td>NaN</td>\n",
       "      <td>NaN</td>\n",
       "      <td>NaN</td>\n",
       "      <td>61</td>\n",
       "      <td>NaN</td>\n",
       "      <td>0</td>\n",
       "    </tr>\n",
       "    <tr>\n",
       "      <th>317264</th>\n",
       "      <td>5352a2f194b0ebaa46c9a2c5dc3dc4e279023e92</td>\n",
       "      <td>K &gt; 24 month</td>\n",
       "      <td>NaN</td>\n",
       "      <td>NaN</td>\n",
       "      <td>NaN</td>\n",
       "      <td>NaN</td>\n",
       "      <td>NaN</td>\n",
       "      <td>0.0</td>\n",
       "      <td>NaN</td>\n",
       "      <td>NaN</td>\n",
       "      <td>NaN</td>\n",
       "      <td>NaN</td>\n",
       "      <td>NaN</td>\n",
       "      <td>19</td>\n",
       "      <td>NaN</td>\n",
       "      <td>0</td>\n",
       "    </tr>\n",
       "    <tr>\n",
       "      <th>41214</th>\n",
       "      <td>a9c3612adb1898c7a1226ef20be199038930fe45</td>\n",
       "      <td>K &gt; 24 month</td>\n",
       "      <td>2500.0</td>\n",
       "      <td>5.0</td>\n",
       "      <td>2500.0</td>\n",
       "      <td>833.0</td>\n",
       "      <td>4.0</td>\n",
       "      <td>0.0</td>\n",
       "      <td>3.0</td>\n",
       "      <td>68.0</td>\n",
       "      <td>0.0</td>\n",
       "      <td>NaN</td>\n",
       "      <td>NaN</td>\n",
       "      <td>30</td>\n",
       "      <td>2.0</td>\n",
       "      <td>0</td>\n",
       "    </tr>\n",
       "    <tr>\n",
       "      <th>334910</th>\n",
       "      <td>e93663943655806a2f81cce4b04cfeb8973da6b7</td>\n",
       "      <td>H 15-18 month</td>\n",
       "      <td>NaN</td>\n",
       "      <td>NaN</td>\n",
       "      <td>NaN</td>\n",
       "      <td>NaN</td>\n",
       "      <td>NaN</td>\n",
       "      <td>NaN</td>\n",
       "      <td>NaN</td>\n",
       "      <td>NaN</td>\n",
       "      <td>NaN</td>\n",
       "      <td>NaN</td>\n",
       "      <td>NaN</td>\n",
       "      <td>1</td>\n",
       "      <td>NaN</td>\n",
       "      <td>1</td>\n",
       "    </tr>\n",
       "  </tbody>\n",
       "</table>\n",
       "<p>258486 rows × 16 columns</p>\n",
       "</div>"
      ],
      "text/plain": [
       "                                         user_id         TENURE  MONTANT  \\\n",
       "542316  16a8528ec3b1201f5cb8bfc35533744b79bd44d2   K > 24 month      NaN   \n",
       "59878   3a8b710546fb6272a56908c2fcbcef20e2caa0cf   K > 24 month  11650.0   \n",
       "10729   0f34b0bf4dac19dd901b7e03dd79cb79ed0b744a   K > 24 month   1000.0   \n",
       "456437  dc34cfe39e89bddddf7f7550431681b6fc31e72e   K > 24 month    500.0   \n",
       "273902  3920ace4d36a498dde155bec15757407846258fc   K > 24 month  11150.0   \n",
       "...                                          ...            ...      ...   \n",
       "595806  9dc7101ddfa5c72246a03abc343258becbec6146   K > 24 month   2000.0   \n",
       "431674  a9fc15e427b614735c9be65e5adfd0baf9924458   K > 24 month   1250.0   \n",
       "317264  5352a2f194b0ebaa46c9a2c5dc3dc4e279023e92   K > 24 month      NaN   \n",
       "41214   a9c3612adb1898c7a1226ef20be199038930fe45   K > 24 month   2500.0   \n",
       "334910  e93663943655806a2f81cce4b04cfeb8973da6b7  H 15-18 month      NaN   \n",
       "\n",
       "        FREQUENCE_RECH  REVENUE  ARPU_SEGMENT  FREQUENCE  DATA_VOLUME  ON_NET  \\\n",
       "542316             NaN      NaN           NaN        NaN          NaN     NaN   \n",
       "59878             30.0  11682.0        3894.0       32.0       7119.0    23.0   \n",
       "10729              2.0   1000.0         333.0        2.0          NaN     7.0   \n",
       "456437             1.0    480.0         160.0        4.0       1875.0    14.0   \n",
       "273902            34.0  11750.0        3917.0       40.0        789.0   125.0   \n",
       "...                ...      ...           ...        ...          ...     ...   \n",
       "595806             3.0   1992.0         664.0        4.0         20.0   166.0   \n",
       "431674             9.0   1360.0         453.0       18.0          0.0     6.0   \n",
       "317264             NaN      NaN           NaN        NaN          0.0     NaN   \n",
       "41214              5.0   2500.0         833.0        4.0          0.0     3.0   \n",
       "334910             NaN      NaN           NaN        NaN          NaN     NaN   \n",
       "\n",
       "        ORANGE  TIGO  ZONE1  ZONE2  REGULARITY  FREQ_TOP_PACK  CHURN  \n",
       "542316     NaN   NaN    NaN    NaN           1            NaN      1  \n",
       "59878    468.0  54.0    0.0    NaN          60           18.0      0  \n",
       "10729     45.0   NaN    NaN    NaN          22            2.0      0  \n",
       "456437     1.0   NaN    NaN    NaN          20            2.0      0  \n",
       "273902   303.0  29.0    0.0    NaN          46           31.0      0  \n",
       "...        ...   ...    ...    ...         ...            ...    ...  \n",
       "595806    10.0   NaN    NaN    NaN          22            1.0      1  \n",
       "431674     6.0   NaN    NaN    NaN          61            NaN      0  \n",
       "317264     NaN   NaN    NaN    NaN          19            NaN      0  \n",
       "41214     68.0   0.0    NaN    NaN          30            2.0      0  \n",
       "334910     NaN   NaN    NaN    NaN           1            NaN      1  \n",
       "\n",
       "[258486 rows x 16 columns]"
      ]
     },
     "execution_count": 8,
     "metadata": {},
     "output_type": "execute_result"
    }
   ],
   "source": [
    "train"
   ]
  },
  {
   "cell_type": "code",
   "execution_count": 9,
   "metadata": {},
   "outputs": [
    {
     "data": {
      "text/html": [
       "<div>\n",
       "<style scoped>\n",
       "    .dataframe tbody tr th:only-of-type {\n",
       "        vertical-align: middle;\n",
       "    }\n",
       "\n",
       "    .dataframe tbody tr th {\n",
       "        vertical-align: top;\n",
       "    }\n",
       "\n",
       "    .dataframe thead th {\n",
       "        text-align: right;\n",
       "    }\n",
       "</style>\n",
       "<table border=\"1\" class=\"dataframe\">\n",
       "  <thead>\n",
       "    <tr style=\"text-align: right;\">\n",
       "      <th></th>\n",
       "      <th>user_id</th>\n",
       "      <th>TENURE</th>\n",
       "      <th>MONTANT</th>\n",
       "      <th>FREQUENCE_RECH</th>\n",
       "      <th>REVENUE</th>\n",
       "      <th>ARPU_SEGMENT</th>\n",
       "      <th>FREQUENCE</th>\n",
       "      <th>DATA_VOLUME</th>\n",
       "      <th>ON_NET</th>\n",
       "      <th>ORANGE</th>\n",
       "      <th>TIGO</th>\n",
       "      <th>ZONE1</th>\n",
       "      <th>ZONE2</th>\n",
       "      <th>REGULARITY</th>\n",
       "      <th>FREQ_TOP_PACK</th>\n",
       "      <th>CHURN</th>\n",
       "    </tr>\n",
       "  </thead>\n",
       "  <tbody>\n",
       "    <tr>\n",
       "      <th>595806</th>\n",
       "      <td>9dc7101ddfa5c72246a03abc343258becbec6146</td>\n",
       "      <td>K &gt; 24 month</td>\n",
       "      <td>2000.0</td>\n",
       "      <td>3.0</td>\n",
       "      <td>1992.0</td>\n",
       "      <td>664.0</td>\n",
       "      <td>4.0</td>\n",
       "      <td>20.0</td>\n",
       "      <td>166.0</td>\n",
       "      <td>10.0</td>\n",
       "      <td>NaN</td>\n",
       "      <td>NaN</td>\n",
       "      <td>NaN</td>\n",
       "      <td>22</td>\n",
       "      <td>1.0</td>\n",
       "      <td>1</td>\n",
       "    </tr>\n",
       "    <tr>\n",
       "      <th>431674</th>\n",
       "      <td>a9fc15e427b614735c9be65e5adfd0baf9924458</td>\n",
       "      <td>K &gt; 24 month</td>\n",
       "      <td>1250.0</td>\n",
       "      <td>9.0</td>\n",
       "      <td>1360.0</td>\n",
       "      <td>453.0</td>\n",
       "      <td>18.0</td>\n",
       "      <td>0.0</td>\n",
       "      <td>6.0</td>\n",
       "      <td>6.0</td>\n",
       "      <td>NaN</td>\n",
       "      <td>NaN</td>\n",
       "      <td>NaN</td>\n",
       "      <td>61</td>\n",
       "      <td>NaN</td>\n",
       "      <td>0</td>\n",
       "    </tr>\n",
       "    <tr>\n",
       "      <th>317264</th>\n",
       "      <td>5352a2f194b0ebaa46c9a2c5dc3dc4e279023e92</td>\n",
       "      <td>K &gt; 24 month</td>\n",
       "      <td>NaN</td>\n",
       "      <td>NaN</td>\n",
       "      <td>NaN</td>\n",
       "      <td>NaN</td>\n",
       "      <td>NaN</td>\n",
       "      <td>0.0</td>\n",
       "      <td>NaN</td>\n",
       "      <td>NaN</td>\n",
       "      <td>NaN</td>\n",
       "      <td>NaN</td>\n",
       "      <td>NaN</td>\n",
       "      <td>19</td>\n",
       "      <td>NaN</td>\n",
       "      <td>0</td>\n",
       "    </tr>\n",
       "    <tr>\n",
       "      <th>41214</th>\n",
       "      <td>a9c3612adb1898c7a1226ef20be199038930fe45</td>\n",
       "      <td>K &gt; 24 month</td>\n",
       "      <td>2500.0</td>\n",
       "      <td>5.0</td>\n",
       "      <td>2500.0</td>\n",
       "      <td>833.0</td>\n",
       "      <td>4.0</td>\n",
       "      <td>0.0</td>\n",
       "      <td>3.0</td>\n",
       "      <td>68.0</td>\n",
       "      <td>0.0</td>\n",
       "      <td>NaN</td>\n",
       "      <td>NaN</td>\n",
       "      <td>30</td>\n",
       "      <td>2.0</td>\n",
       "      <td>0</td>\n",
       "    </tr>\n",
       "    <tr>\n",
       "      <th>334910</th>\n",
       "      <td>e93663943655806a2f81cce4b04cfeb8973da6b7</td>\n",
       "      <td>H 15-18 month</td>\n",
       "      <td>NaN</td>\n",
       "      <td>NaN</td>\n",
       "      <td>NaN</td>\n",
       "      <td>NaN</td>\n",
       "      <td>NaN</td>\n",
       "      <td>NaN</td>\n",
       "      <td>NaN</td>\n",
       "      <td>NaN</td>\n",
       "      <td>NaN</td>\n",
       "      <td>NaN</td>\n",
       "      <td>NaN</td>\n",
       "      <td>1</td>\n",
       "      <td>NaN</td>\n",
       "      <td>1</td>\n",
       "    </tr>\n",
       "  </tbody>\n",
       "</table>\n",
       "</div>"
      ],
      "text/plain": [
       "                                         user_id         TENURE  MONTANT  \\\n",
       "595806  9dc7101ddfa5c72246a03abc343258becbec6146   K > 24 month   2000.0   \n",
       "431674  a9fc15e427b614735c9be65e5adfd0baf9924458   K > 24 month   1250.0   \n",
       "317264  5352a2f194b0ebaa46c9a2c5dc3dc4e279023e92   K > 24 month      NaN   \n",
       "41214   a9c3612adb1898c7a1226ef20be199038930fe45   K > 24 month   2500.0   \n",
       "334910  e93663943655806a2f81cce4b04cfeb8973da6b7  H 15-18 month      NaN   \n",
       "\n",
       "        FREQUENCE_RECH  REVENUE  ARPU_SEGMENT  FREQUENCE  DATA_VOLUME  ON_NET  \\\n",
       "595806             3.0   1992.0         664.0        4.0         20.0   166.0   \n",
       "431674             9.0   1360.0         453.0       18.0          0.0     6.0   \n",
       "317264             NaN      NaN           NaN        NaN          0.0     NaN   \n",
       "41214              5.0   2500.0         833.0        4.0          0.0     3.0   \n",
       "334910             NaN      NaN           NaN        NaN          NaN     NaN   \n",
       "\n",
       "        ORANGE  TIGO  ZONE1  ZONE2  REGULARITY  FREQ_TOP_PACK  CHURN  \n",
       "595806    10.0   NaN    NaN    NaN          22            1.0      1  \n",
       "431674     6.0   NaN    NaN    NaN          61            NaN      0  \n",
       "317264     NaN   NaN    NaN    NaN          19            NaN      0  \n",
       "41214     68.0   0.0    NaN    NaN          30            2.0      0  \n",
       "334910     NaN   NaN    NaN    NaN           1            NaN      1  "
      ]
     },
     "execution_count": 9,
     "metadata": {},
     "output_type": "execute_result"
    }
   ],
   "source": [
    "train.tail()"
   ]
  },
  {
   "cell_type": "code",
   "execution_count": 10,
   "metadata": {},
   "outputs": [
    {
     "data": {
      "text/plain": [
       "(258486, 16)"
      ]
     },
     "execution_count": 10,
     "metadata": {},
     "output_type": "execute_result"
    }
   ],
   "source": [
    "train.shape"
   ]
  },
  {
   "cell_type": "code",
   "execution_count": 11,
   "metadata": {},
   "outputs": [
    {
     "name": "stdout",
     "output_type": "stream",
     "text": [
      "<class 'pandas.core.frame.DataFrame'>\n",
      "Int64Index: 258486 entries, 542316 to 334910\n",
      "Data columns (total 16 columns):\n",
      " #   Column          Non-Null Count   Dtype  \n",
      "---  ------          --------------   -----  \n",
      " 0   user_id         258486 non-null  object \n",
      " 1   TENURE          258486 non-null  object \n",
      " 2   MONTANT         167521 non-null  float64\n",
      " 3   FREQUENCE_RECH  167521 non-null  float64\n",
      " 4   REVENUE         171253 non-null  float64\n",
      " 5   ARPU_SEGMENT    171253 non-null  float64\n",
      " 6   FREQUENCE       171253 non-null  float64\n",
      " 7   DATA_VOLUME     130559 non-null  float64\n",
      " 8   ON_NET          163918 non-null  float64\n",
      " 9   ORANGE          151046 non-null  float64\n",
      " 10  TIGO            103857 non-null  float64\n",
      " 11  ZONE1           20225 non-null   float64\n",
      " 12  ZONE2           16291 non-null   float64\n",
      " 13  REGULARITY      258486 non-null  int64  \n",
      " 14  FREQ_TOP_PACK   149995 non-null  float64\n",
      " 15  CHURN           258486 non-null  int64  \n",
      "dtypes: float64(12), int64(2), object(2)\n",
      "memory usage: 33.5+ MB\n"
     ]
    }
   ],
   "source": [
    "#view the data types in the train data\n",
    "train.info()"
   ]
  },
  {
   "cell_type": "code",
   "execution_count": 12,
   "metadata": {},
   "outputs": [],
   "source": [
    "test = test.sample(frac=.4, random_state=123)\n",
    "test.drop(columns=['REGION', 'MRG', 'TOP_PACK'], inplace=True) "
   ]
  },
  {
   "cell_type": "code",
   "execution_count": 13,
   "metadata": {},
   "outputs": [
    {
     "data": {
      "text/html": [
       "<div>\n",
       "<style scoped>\n",
       "    .dataframe tbody tr th:only-of-type {\n",
       "        vertical-align: middle;\n",
       "    }\n",
       "\n",
       "    .dataframe tbody tr th {\n",
       "        vertical-align: top;\n",
       "    }\n",
       "\n",
       "    .dataframe thead th {\n",
       "        text-align: right;\n",
       "    }\n",
       "</style>\n",
       "<table border=\"1\" class=\"dataframe\">\n",
       "  <thead>\n",
       "    <tr style=\"text-align: right;\">\n",
       "      <th></th>\n",
       "      <th>user_id</th>\n",
       "      <th>TENURE</th>\n",
       "      <th>MONTANT</th>\n",
       "      <th>FREQUENCE_RECH</th>\n",
       "      <th>REVENUE</th>\n",
       "      <th>ARPU_SEGMENT</th>\n",
       "      <th>FREQUENCE</th>\n",
       "      <th>DATA_VOLUME</th>\n",
       "      <th>ON_NET</th>\n",
       "      <th>ORANGE</th>\n",
       "      <th>TIGO</th>\n",
       "      <th>ZONE1</th>\n",
       "      <th>ZONE2</th>\n",
       "      <th>REGULARITY</th>\n",
       "      <th>FREQ_TOP_PACK</th>\n",
       "    </tr>\n",
       "  </thead>\n",
       "  <tbody>\n",
       "    <tr>\n",
       "      <th>105281</th>\n",
       "      <td>e66972d08a6e90ca121fc74275e1e4adc7770fc3</td>\n",
       "      <td>K &gt; 24 month</td>\n",
       "      <td>NaN</td>\n",
       "      <td>NaN</td>\n",
       "      <td>NaN</td>\n",
       "      <td>NaN</td>\n",
       "      <td>NaN</td>\n",
       "      <td>0.0</td>\n",
       "      <td>NaN</td>\n",
       "      <td>NaN</td>\n",
       "      <td>NaN</td>\n",
       "      <td>NaN</td>\n",
       "      <td>NaN</td>\n",
       "      <td>3</td>\n",
       "      <td>NaN</td>\n",
       "    </tr>\n",
       "    <tr>\n",
       "      <th>22722</th>\n",
       "      <td>bf9be697fbd32dc7b8ab3073ee4d3bbbcad6dfe9</td>\n",
       "      <td>K &gt; 24 month</td>\n",
       "      <td>7900.0</td>\n",
       "      <td>16.0</td>\n",
       "      <td>7900.0</td>\n",
       "      <td>2633.0</td>\n",
       "      <td>15.0</td>\n",
       "      <td>25.0</td>\n",
       "      <td>228.0</td>\n",
       "      <td>271.0</td>\n",
       "      <td>5.0</td>\n",
       "      <td>NaN</td>\n",
       "      <td>NaN</td>\n",
       "      <td>62</td>\n",
       "      <td>14.0</td>\n",
       "    </tr>\n",
       "    <tr>\n",
       "      <th>76446</th>\n",
       "      <td>1e7202861abcaf7e0eea63032254eacf26bb098d</td>\n",
       "      <td>K &gt; 24 month</td>\n",
       "      <td>NaN</td>\n",
       "      <td>NaN</td>\n",
       "      <td>NaN</td>\n",
       "      <td>NaN</td>\n",
       "      <td>NaN</td>\n",
       "      <td>0.0</td>\n",
       "      <td>NaN</td>\n",
       "      <td>NaN</td>\n",
       "      <td>NaN</td>\n",
       "      <td>NaN</td>\n",
       "      <td>NaN</td>\n",
       "      <td>23</td>\n",
       "      <td>NaN</td>\n",
       "    </tr>\n",
       "    <tr>\n",
       "      <th>46673</th>\n",
       "      <td>f4eed3780dbca03e08c43adfcf0a9463368358d9</td>\n",
       "      <td>H 15-18 month</td>\n",
       "      <td>NaN</td>\n",
       "      <td>NaN</td>\n",
       "      <td>NaN</td>\n",
       "      <td>NaN</td>\n",
       "      <td>NaN</td>\n",
       "      <td>0.0</td>\n",
       "      <td>NaN</td>\n",
       "      <td>NaN</td>\n",
       "      <td>NaN</td>\n",
       "      <td>NaN</td>\n",
       "      <td>NaN</td>\n",
       "      <td>62</td>\n",
       "      <td>NaN</td>\n",
       "    </tr>\n",
       "    <tr>\n",
       "      <th>7006</th>\n",
       "      <td>e71d6090175d55f4b7f3abc99e5f1823616960f0</td>\n",
       "      <td>K &gt; 24 month</td>\n",
       "      <td>NaN</td>\n",
       "      <td>NaN</td>\n",
       "      <td>NaN</td>\n",
       "      <td>NaN</td>\n",
       "      <td>NaN</td>\n",
       "      <td>NaN</td>\n",
       "      <td>NaN</td>\n",
       "      <td>NaN</td>\n",
       "      <td>NaN</td>\n",
       "      <td>NaN</td>\n",
       "      <td>NaN</td>\n",
       "      <td>5</td>\n",
       "      <td>NaN</td>\n",
       "    </tr>\n",
       "    <tr>\n",
       "      <th>...</th>\n",
       "      <td>...</td>\n",
       "      <td>...</td>\n",
       "      <td>...</td>\n",
       "      <td>...</td>\n",
       "      <td>...</td>\n",
       "      <td>...</td>\n",
       "      <td>...</td>\n",
       "      <td>...</td>\n",
       "      <td>...</td>\n",
       "      <td>...</td>\n",
       "      <td>...</td>\n",
       "      <td>...</td>\n",
       "      <td>...</td>\n",
       "      <td>...</td>\n",
       "      <td>...</td>\n",
       "    </tr>\n",
       "    <tr>\n",
       "      <th>21241</th>\n",
       "      <td>7b822a7af3e6af9bbdf0f0ccbf035e35c78b0e21</td>\n",
       "      <td>K &gt; 24 month</td>\n",
       "      <td>11800.0</td>\n",
       "      <td>36.0</td>\n",
       "      <td>12105.0</td>\n",
       "      <td>4035.0</td>\n",
       "      <td>48.0</td>\n",
       "      <td>9177.0</td>\n",
       "      <td>32.0</td>\n",
       "      <td>0.0</td>\n",
       "      <td>5.0</td>\n",
       "      <td>NaN</td>\n",
       "      <td>NaN</td>\n",
       "      <td>62</td>\n",
       "      <td>37.0</td>\n",
       "    </tr>\n",
       "    <tr>\n",
       "      <th>97894</th>\n",
       "      <td>5b9f64d3a4c3d7e9f25d628db0ec3227fadd958d</td>\n",
       "      <td>K &gt; 24 month</td>\n",
       "      <td>NaN</td>\n",
       "      <td>NaN</td>\n",
       "      <td>NaN</td>\n",
       "      <td>NaN</td>\n",
       "      <td>NaN</td>\n",
       "      <td>48.0</td>\n",
       "      <td>NaN</td>\n",
       "      <td>NaN</td>\n",
       "      <td>NaN</td>\n",
       "      <td>NaN</td>\n",
       "      <td>NaN</td>\n",
       "      <td>27</td>\n",
       "      <td>NaN</td>\n",
       "    </tr>\n",
       "    <tr>\n",
       "      <th>69329</th>\n",
       "      <td>2ddebd7716d2563aab5a1c9503b3d606fdee461d</td>\n",
       "      <td>K &gt; 24 month</td>\n",
       "      <td>150.0</td>\n",
       "      <td>1.0</td>\n",
       "      <td>61.0</td>\n",
       "      <td>20.0</td>\n",
       "      <td>1.0</td>\n",
       "      <td>0.0</td>\n",
       "      <td>0.0</td>\n",
       "      <td>0.0</td>\n",
       "      <td>NaN</td>\n",
       "      <td>NaN</td>\n",
       "      <td>NaN</td>\n",
       "      <td>10</td>\n",
       "      <td>NaN</td>\n",
       "    </tr>\n",
       "    <tr>\n",
       "      <th>59182</th>\n",
       "      <td>f87fec22525cbc3b481574309743bbef9ddc8470</td>\n",
       "      <td>K &gt; 24 month</td>\n",
       "      <td>12700.0</td>\n",
       "      <td>21.0</td>\n",
       "      <td>13698.0</td>\n",
       "      <td>4566.0</td>\n",
       "      <td>25.0</td>\n",
       "      <td>0.0</td>\n",
       "      <td>19.0</td>\n",
       "      <td>249.0</td>\n",
       "      <td>79.0</td>\n",
       "      <td>NaN</td>\n",
       "      <td>NaN</td>\n",
       "      <td>55</td>\n",
       "      <td>24.0</td>\n",
       "    </tr>\n",
       "    <tr>\n",
       "      <th>64154</th>\n",
       "      <td>f78eabe44212f0d3866becaab91a0da9470be245</td>\n",
       "      <td>K &gt; 24 month</td>\n",
       "      <td>7000.0</td>\n",
       "      <td>13.0</td>\n",
       "      <td>7001.0</td>\n",
       "      <td>2334.0</td>\n",
       "      <td>16.0</td>\n",
       "      <td>NaN</td>\n",
       "      <td>7.0</td>\n",
       "      <td>149.0</td>\n",
       "      <td>34.0</td>\n",
       "      <td>NaN</td>\n",
       "      <td>NaN</td>\n",
       "      <td>47</td>\n",
       "      <td>7.0</td>\n",
       "    </tr>\n",
       "  </tbody>\n",
       "</table>\n",
       "<p>45615 rows × 15 columns</p>\n",
       "</div>"
      ],
      "text/plain": [
       "                                         user_id         TENURE  MONTANT  \\\n",
       "105281  e66972d08a6e90ca121fc74275e1e4adc7770fc3   K > 24 month      NaN   \n",
       "22722   bf9be697fbd32dc7b8ab3073ee4d3bbbcad6dfe9   K > 24 month   7900.0   \n",
       "76446   1e7202861abcaf7e0eea63032254eacf26bb098d   K > 24 month      NaN   \n",
       "46673   f4eed3780dbca03e08c43adfcf0a9463368358d9  H 15-18 month      NaN   \n",
       "7006    e71d6090175d55f4b7f3abc99e5f1823616960f0   K > 24 month      NaN   \n",
       "...                                          ...            ...      ...   \n",
       "21241   7b822a7af3e6af9bbdf0f0ccbf035e35c78b0e21   K > 24 month  11800.0   \n",
       "97894   5b9f64d3a4c3d7e9f25d628db0ec3227fadd958d   K > 24 month      NaN   \n",
       "69329   2ddebd7716d2563aab5a1c9503b3d606fdee461d   K > 24 month    150.0   \n",
       "59182   f87fec22525cbc3b481574309743bbef9ddc8470   K > 24 month  12700.0   \n",
       "64154   f78eabe44212f0d3866becaab91a0da9470be245   K > 24 month   7000.0   \n",
       "\n",
       "        FREQUENCE_RECH  REVENUE  ARPU_SEGMENT  FREQUENCE  DATA_VOLUME  ON_NET  \\\n",
       "105281             NaN      NaN           NaN        NaN          0.0     NaN   \n",
       "22722             16.0   7900.0        2633.0       15.0         25.0   228.0   \n",
       "76446              NaN      NaN           NaN        NaN          0.0     NaN   \n",
       "46673              NaN      NaN           NaN        NaN          0.0     NaN   \n",
       "7006               NaN      NaN           NaN        NaN          NaN     NaN   \n",
       "...                ...      ...           ...        ...          ...     ...   \n",
       "21241             36.0  12105.0        4035.0       48.0       9177.0    32.0   \n",
       "97894              NaN      NaN           NaN        NaN         48.0     NaN   \n",
       "69329              1.0     61.0          20.0        1.0          0.0     0.0   \n",
       "59182             21.0  13698.0        4566.0       25.0          0.0    19.0   \n",
       "64154             13.0   7001.0        2334.0       16.0          NaN     7.0   \n",
       "\n",
       "        ORANGE  TIGO  ZONE1  ZONE2  REGULARITY  FREQ_TOP_PACK  \n",
       "105281     NaN   NaN    NaN    NaN           3            NaN  \n",
       "22722    271.0   5.0    NaN    NaN          62           14.0  \n",
       "76446      NaN   NaN    NaN    NaN          23            NaN  \n",
       "46673      NaN   NaN    NaN    NaN          62            NaN  \n",
       "7006       NaN   NaN    NaN    NaN           5            NaN  \n",
       "...        ...   ...    ...    ...         ...            ...  \n",
       "21241      0.0   5.0    NaN    NaN          62           37.0  \n",
       "97894      NaN   NaN    NaN    NaN          27            NaN  \n",
       "69329      0.0   NaN    NaN    NaN          10            NaN  \n",
       "59182    249.0  79.0    NaN    NaN          55           24.0  \n",
       "64154    149.0  34.0    NaN    NaN          47            7.0  \n",
       "\n",
       "[45615 rows x 15 columns]"
      ]
     },
     "execution_count": 13,
     "metadata": {},
     "output_type": "execute_result"
    }
   ],
   "source": [
    "test"
   ]
  },
  {
   "cell_type": "code",
   "execution_count": 14,
   "metadata": {},
   "outputs": [
    {
     "data": {
      "text/html": [
       "<div>\n",
       "<style scoped>\n",
       "    .dataframe tbody tr th:only-of-type {\n",
       "        vertical-align: middle;\n",
       "    }\n",
       "\n",
       "    .dataframe tbody tr th {\n",
       "        vertical-align: top;\n",
       "    }\n",
       "\n",
       "    .dataframe thead th {\n",
       "        text-align: right;\n",
       "    }\n",
       "</style>\n",
       "<table border=\"1\" class=\"dataframe\">\n",
       "  <thead>\n",
       "    <tr style=\"text-align: right;\">\n",
       "      <th></th>\n",
       "      <th>user_id</th>\n",
       "      <th>TENURE</th>\n",
       "      <th>MONTANT</th>\n",
       "      <th>FREQUENCE_RECH</th>\n",
       "      <th>REVENUE</th>\n",
       "      <th>ARPU_SEGMENT</th>\n",
       "      <th>FREQUENCE</th>\n",
       "      <th>DATA_VOLUME</th>\n",
       "      <th>ON_NET</th>\n",
       "      <th>ORANGE</th>\n",
       "      <th>TIGO</th>\n",
       "      <th>ZONE1</th>\n",
       "      <th>ZONE2</th>\n",
       "      <th>REGULARITY</th>\n",
       "      <th>FREQ_TOP_PACK</th>\n",
       "    </tr>\n",
       "  </thead>\n",
       "  <tbody>\n",
       "    <tr>\n",
       "      <th>21241</th>\n",
       "      <td>7b822a7af3e6af9bbdf0f0ccbf035e35c78b0e21</td>\n",
       "      <td>K &gt; 24 month</td>\n",
       "      <td>11800.0</td>\n",
       "      <td>36.0</td>\n",
       "      <td>12105.0</td>\n",
       "      <td>4035.0</td>\n",
       "      <td>48.0</td>\n",
       "      <td>9177.0</td>\n",
       "      <td>32.0</td>\n",
       "      <td>0.0</td>\n",
       "      <td>5.0</td>\n",
       "      <td>NaN</td>\n",
       "      <td>NaN</td>\n",
       "      <td>62</td>\n",
       "      <td>37.0</td>\n",
       "    </tr>\n",
       "    <tr>\n",
       "      <th>97894</th>\n",
       "      <td>5b9f64d3a4c3d7e9f25d628db0ec3227fadd958d</td>\n",
       "      <td>K &gt; 24 month</td>\n",
       "      <td>NaN</td>\n",
       "      <td>NaN</td>\n",
       "      <td>NaN</td>\n",
       "      <td>NaN</td>\n",
       "      <td>NaN</td>\n",
       "      <td>48.0</td>\n",
       "      <td>NaN</td>\n",
       "      <td>NaN</td>\n",
       "      <td>NaN</td>\n",
       "      <td>NaN</td>\n",
       "      <td>NaN</td>\n",
       "      <td>27</td>\n",
       "      <td>NaN</td>\n",
       "    </tr>\n",
       "    <tr>\n",
       "      <th>69329</th>\n",
       "      <td>2ddebd7716d2563aab5a1c9503b3d606fdee461d</td>\n",
       "      <td>K &gt; 24 month</td>\n",
       "      <td>150.0</td>\n",
       "      <td>1.0</td>\n",
       "      <td>61.0</td>\n",
       "      <td>20.0</td>\n",
       "      <td>1.0</td>\n",
       "      <td>0.0</td>\n",
       "      <td>0.0</td>\n",
       "      <td>0.0</td>\n",
       "      <td>NaN</td>\n",
       "      <td>NaN</td>\n",
       "      <td>NaN</td>\n",
       "      <td>10</td>\n",
       "      <td>NaN</td>\n",
       "    </tr>\n",
       "    <tr>\n",
       "      <th>59182</th>\n",
       "      <td>f87fec22525cbc3b481574309743bbef9ddc8470</td>\n",
       "      <td>K &gt; 24 month</td>\n",
       "      <td>12700.0</td>\n",
       "      <td>21.0</td>\n",
       "      <td>13698.0</td>\n",
       "      <td>4566.0</td>\n",
       "      <td>25.0</td>\n",
       "      <td>0.0</td>\n",
       "      <td>19.0</td>\n",
       "      <td>249.0</td>\n",
       "      <td>79.0</td>\n",
       "      <td>NaN</td>\n",
       "      <td>NaN</td>\n",
       "      <td>55</td>\n",
       "      <td>24.0</td>\n",
       "    </tr>\n",
       "    <tr>\n",
       "      <th>64154</th>\n",
       "      <td>f78eabe44212f0d3866becaab91a0da9470be245</td>\n",
       "      <td>K &gt; 24 month</td>\n",
       "      <td>7000.0</td>\n",
       "      <td>13.0</td>\n",
       "      <td>7001.0</td>\n",
       "      <td>2334.0</td>\n",
       "      <td>16.0</td>\n",
       "      <td>NaN</td>\n",
       "      <td>7.0</td>\n",
       "      <td>149.0</td>\n",
       "      <td>34.0</td>\n",
       "      <td>NaN</td>\n",
       "      <td>NaN</td>\n",
       "      <td>47</td>\n",
       "      <td>7.0</td>\n",
       "    </tr>\n",
       "  </tbody>\n",
       "</table>\n",
       "</div>"
      ],
      "text/plain": [
       "                                        user_id        TENURE  MONTANT  \\\n",
       "21241  7b822a7af3e6af9bbdf0f0ccbf035e35c78b0e21  K > 24 month  11800.0   \n",
       "97894  5b9f64d3a4c3d7e9f25d628db0ec3227fadd958d  K > 24 month      NaN   \n",
       "69329  2ddebd7716d2563aab5a1c9503b3d606fdee461d  K > 24 month    150.0   \n",
       "59182  f87fec22525cbc3b481574309743bbef9ddc8470  K > 24 month  12700.0   \n",
       "64154  f78eabe44212f0d3866becaab91a0da9470be245  K > 24 month   7000.0   \n",
       "\n",
       "       FREQUENCE_RECH  REVENUE  ARPU_SEGMENT  FREQUENCE  DATA_VOLUME  ON_NET  \\\n",
       "21241            36.0  12105.0        4035.0       48.0       9177.0    32.0   \n",
       "97894             NaN      NaN           NaN        NaN         48.0     NaN   \n",
       "69329             1.0     61.0          20.0        1.0          0.0     0.0   \n",
       "59182            21.0  13698.0        4566.0       25.0          0.0    19.0   \n",
       "64154            13.0   7001.0        2334.0       16.0          NaN     7.0   \n",
       "\n",
       "       ORANGE  TIGO  ZONE1  ZONE2  REGULARITY  FREQ_TOP_PACK  \n",
       "21241     0.0   5.0    NaN    NaN          62           37.0  \n",
       "97894     NaN   NaN    NaN    NaN          27            NaN  \n",
       "69329     0.0   NaN    NaN    NaN          10            NaN  \n",
       "59182   249.0  79.0    NaN    NaN          55           24.0  \n",
       "64154   149.0  34.0    NaN    NaN          47            7.0  "
      ]
     },
     "execution_count": 14,
     "metadata": {},
     "output_type": "execute_result"
    }
   ],
   "source": [
    "test.tail()"
   ]
  },
  {
   "cell_type": "code",
   "execution_count": 15,
   "metadata": {},
   "outputs": [
    {
     "data": {
      "text/plain": [
       "(45615, 15)"
      ]
     },
     "execution_count": 15,
     "metadata": {},
     "output_type": "execute_result"
    }
   ],
   "source": [
    "test.shape"
   ]
  },
  {
   "cell_type": "code",
   "execution_count": 16,
   "metadata": {},
   "outputs": [
    {
     "name": "stdout",
     "output_type": "stream",
     "text": [
      "<class 'pandas.core.frame.DataFrame'>\n",
      "Int64Index: 45615 entries, 105281 to 64154\n",
      "Data columns (total 15 columns):\n",
      " #   Column          Non-Null Count  Dtype  \n",
      "---  ------          --------------  -----  \n",
      " 0   user_id         45615 non-null  object \n",
      " 1   TENURE          45615 non-null  object \n",
      " 2   MONTANT         29762 non-null  float64\n",
      " 3   FREQUENCE_RECH  29762 non-null  float64\n",
      " 4   REVENUE         30403 non-null  float64\n",
      " 5   ARPU_SEGMENT    30403 non-null  float64\n",
      " 6   FREQUENCE       30403 non-null  float64\n",
      " 7   DATA_VOLUME     23277 non-null  float64\n",
      " 8   ON_NET          28958 non-null  float64\n",
      " 9   ORANGE          26891 non-null  float64\n",
      " 10  TIGO            18495 non-null  float64\n",
      " 11  ZONE1           3675 non-null   float64\n",
      " 12  ZONE2           2946 non-null   float64\n",
      " 13  REGULARITY      45615 non-null  int64  \n",
      " 14  FREQ_TOP_PACK   26652 non-null  float64\n",
      "dtypes: float64(12), int64(1), object(2)\n",
      "memory usage: 5.6+ MB\n"
     ]
    }
   ],
   "source": [
    "test.info()"
   ]
  },
  {
   "cell_type": "code",
   "execution_count": 17,
   "metadata": {},
   "outputs": [
    {
     "data": {
      "text/html": [
       "<div>\n",
       "<style scoped>\n",
       "    .dataframe tbody tr th:only-of-type {\n",
       "        vertical-align: middle;\n",
       "    }\n",
       "\n",
       "    .dataframe tbody tr th {\n",
       "        vertical-align: top;\n",
       "    }\n",
       "\n",
       "    .dataframe thead th {\n",
       "        text-align: right;\n",
       "    }\n",
       "</style>\n",
       "<table border=\"1\" class=\"dataframe\">\n",
       "  <thead>\n",
       "    <tr style=\"text-align: right;\">\n",
       "      <th></th>\n",
       "      <th>user_id</th>\n",
       "      <th>CHURN</th>\n",
       "    </tr>\n",
       "  </thead>\n",
       "  <tbody>\n",
       "    <tr>\n",
       "      <th>0</th>\n",
       "      <td>c1b31e7cef249f2b777d934886b787a433029263</td>\n",
       "      <td>0</td>\n",
       "    </tr>\n",
       "    <tr>\n",
       "      <th>1</th>\n",
       "      <td>c205f3aff8486b0bed1051f3bf25fe04df7f671e</td>\n",
       "      <td>0</td>\n",
       "    </tr>\n",
       "    <tr>\n",
       "      <th>2</th>\n",
       "      <td>d743faaf50bbc43e02a08a2c2f4326f6d368fb25</td>\n",
       "      <td>0</td>\n",
       "    </tr>\n",
       "    <tr>\n",
       "      <th>3</th>\n",
       "      <td>c4e45ed21d5e2f64146b95fecbbb6b24740f803c</td>\n",
       "      <td>0</td>\n",
       "    </tr>\n",
       "    <tr>\n",
       "      <th>4</th>\n",
       "      <td>96c6a822243654ae1fe5f5f887089681f806cb46</td>\n",
       "      <td>0</td>\n",
       "    </tr>\n",
       "  </tbody>\n",
       "</table>\n",
       "</div>"
      ],
      "text/plain": [
       "                                    user_id  CHURN\n",
       "0  c1b31e7cef249f2b777d934886b787a433029263      0\n",
       "1  c205f3aff8486b0bed1051f3bf25fe04df7f671e      0\n",
       "2  d743faaf50bbc43e02a08a2c2f4326f6d368fb25      0\n",
       "3  c4e45ed21d5e2f64146b95fecbbb6b24740f803c      0\n",
       "4  96c6a822243654ae1fe5f5f887089681f806cb46      0"
      ]
     },
     "execution_count": 17,
     "metadata": {},
     "output_type": "execute_result"
    }
   ],
   "source": [
    "submission.head()"
   ]
  },
  {
   "cell_type": "code",
   "execution_count": 18,
   "metadata": {},
   "outputs": [
    {
     "data": {
      "text/plain": [
       "(114038, 2)"
      ]
     },
     "execution_count": 18,
     "metadata": {},
     "output_type": "execute_result"
    }
   ],
   "source": [
    "submission.shape"
   ]
  },
  {
   "cell_type": "markdown",
   "metadata": {},
   "source": [
    "#### Data Wrangling"
   ]
  },
  {
   "cell_type": "markdown",
   "metadata": {},
   "source": [
    "> rename columns to match english names"
   ]
  },
  {
   "cell_type": "code",
   "execution_count": 19,
   "metadata": {},
   "outputs": [
    {
     "data": {
      "text/plain": [
       "Index(['user_id', 'TENURE', 'MONTANT', 'FREQUENCE_RECH', 'REVENUE',\n",
       "       'ARPU_SEGMENT', 'FREQUENCE', 'DATA_VOLUME', 'ON_NET', 'ORANGE', 'TIGO',\n",
       "       'ZONE1', 'ZONE2', 'REGULARITY', 'FREQ_TOP_PACK', 'CHURN'],\n",
       "      dtype='object')"
      ]
     },
     "execution_count": 19,
     "metadata": {},
     "output_type": "execute_result"
    }
   ],
   "source": [
    "train.columns"
   ]
  },
  {
   "cell_type": "markdown",
   "metadata": {},
   "source": [
    "> Calcualte umber of leels in categorical variables"
   ]
  },
  {
   "cell_type": "code",
   "execution_count": 20,
   "metadata": {},
   "outputs": [],
   "source": [
    "def check_levels(data, exclude_cols=[]):\n",
    "    cat_cols = data.select_dtypes(include='object').columns.tolist()\n",
    "    \n",
    "    for col in cat_cols:\n",
    "        if col not in exclude_cols:\n",
    "            print('*-*'*10,'\\n')\n",
    "            print(data[col].value_counts())\n",
    "            plt.figure(figsize=(10,5))\n",
    "            plt.title(f\"Value Counts of {col}\", fontsize=15)\n",
    "            data[col].value_counts(normalize=True).plot(kind='bar')\n",
    "            print('*-*'*10,'\\n')\n",
    "            plt.ylabel('counts')\n",
    "            plt.xlabel(col)"
   ]
  },
  {
   "cell_type": "code",
   "execution_count": 21,
   "metadata": {},
   "outputs": [
    {
     "name": "stdout",
     "output_type": "stream",
     "text": [
      "*-**-**-**-**-**-**-**-**-**-* \n",
      "\n",
      "K > 24 month     245218\n",
      "I 18-21 month      5433\n",
      "H 15-18 month      3116\n",
      "G 12-15 month      1746\n",
      "J 21-24 month      1542\n",
      "F 9-12 month       1127\n",
      "E 6-9 month         218\n",
      "D 3-6 month          86\n",
      "Name: TENURE, dtype: int64\n",
      "*-**-**-**-**-**-**-**-**-**-* \n",
      "\n"
     ]
    },
    {
     "data": {
      "image/png": "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\n",
      "text/plain": [
       "<Figure size 720x360 with 1 Axes>"
      ]
     },
     "metadata": {
      "needs_background": "light"
     },
     "output_type": "display_data"
    }
   ],
   "source": [
    "check_levels(train, exclude_cols=['user_id'])"
   ]
  },
  {
   "cell_type": "markdown",
   "metadata": {},
   "source": [
    "Compute statistics for numerical variables"
   ]
  },
  {
   "cell_type": "code",
   "execution_count": 22,
   "metadata": {},
   "outputs": [
    {
     "data": {
      "text/html": [
       "<div>\n",
       "<style scoped>\n",
       "    .dataframe tbody tr th:only-of-type {\n",
       "        vertical-align: middle;\n",
       "    }\n",
       "\n",
       "    .dataframe tbody tr th {\n",
       "        vertical-align: top;\n",
       "    }\n",
       "\n",
       "    .dataframe thead th {\n",
       "        text-align: right;\n",
       "    }\n",
       "</style>\n",
       "<table border=\"1\" class=\"dataframe\">\n",
       "  <thead>\n",
       "    <tr style=\"text-align: right;\">\n",
       "      <th></th>\n",
       "      <th>MONTANT</th>\n",
       "      <th>FREQUENCE_RECH</th>\n",
       "      <th>REVENUE</th>\n",
       "      <th>ARPU_SEGMENT</th>\n",
       "      <th>FREQUENCE</th>\n",
       "      <th>DATA_VOLUME</th>\n",
       "      <th>ON_NET</th>\n",
       "      <th>ORANGE</th>\n",
       "      <th>TIGO</th>\n",
       "      <th>ZONE1</th>\n",
       "      <th>ZONE2</th>\n",
       "      <th>REGULARITY</th>\n",
       "      <th>FREQ_TOP_PACK</th>\n",
       "      <th>CHURN</th>\n",
       "    </tr>\n",
       "  </thead>\n",
       "  <tbody>\n",
       "    <tr>\n",
       "      <th>count</th>\n",
       "      <td>167521.000000</td>\n",
       "      <td>167521.000000</td>\n",
       "      <td>171253.000000</td>\n",
       "      <td>171253.000000</td>\n",
       "      <td>171253.000000</td>\n",
       "      <td>1.305590e+05</td>\n",
       "      <td>163918.000000</td>\n",
       "      <td>151046.000000</td>\n",
       "      <td>103857.000000</td>\n",
       "      <td>20225.000000</td>\n",
       "      <td>16291.000000</td>\n",
       "      <td>258486.000000</td>\n",
       "      <td>149995.000000</td>\n",
       "      <td>258486.000000</td>\n",
       "    </tr>\n",
       "    <tr>\n",
       "      <th>mean</th>\n",
       "      <td>5546.552850</td>\n",
       "      <td>11.552886</td>\n",
       "      <td>5524.437645</td>\n",
       "      <td>1841.486199</td>\n",
       "      <td>13.996864</td>\n",
       "      <td>3.356439e+03</td>\n",
       "      <td>276.612867</td>\n",
       "      <td>95.590118</td>\n",
       "      <td>23.183810</td>\n",
       "      <td>7.867194</td>\n",
       "      <td>7.513228</td>\n",
       "      <td>28.006298</td>\n",
       "      <td>9.286383</td>\n",
       "      <td>0.188529</td>\n",
       "    </tr>\n",
       "    <tr>\n",
       "      <th>std</th>\n",
       "      <td>7159.234079</td>\n",
       "      <td>13.299560</td>\n",
       "      <td>7224.503188</td>\n",
       "      <td>2408.162972</td>\n",
       "      <td>14.740045</td>\n",
       "      <td>1.280709e+04</td>\n",
       "      <td>875.754460</td>\n",
       "      <td>202.678605</td>\n",
       "      <td>64.869552</td>\n",
       "      <td>38.568960</td>\n",
       "      <td>31.053798</td>\n",
       "      <td>22.277426</td>\n",
       "      <td>12.347848</td>\n",
       "      <td>0.391134</td>\n",
       "    </tr>\n",
       "    <tr>\n",
       "      <th>min</th>\n",
       "      <td>10.000000</td>\n",
       "      <td>1.000000</td>\n",
       "      <td>1.000000</td>\n",
       "      <td>0.000000</td>\n",
       "      <td>1.000000</td>\n",
       "      <td>0.000000e+00</td>\n",
       "      <td>0.000000</td>\n",
       "      <td>0.000000</td>\n",
       "      <td>0.000000</td>\n",
       "      <td>0.000000</td>\n",
       "      <td>0.000000</td>\n",
       "      <td>1.000000</td>\n",
       "      <td>1.000000</td>\n",
       "      <td>0.000000</td>\n",
       "    </tr>\n",
       "    <tr>\n",
       "      <th>25%</th>\n",
       "      <td>1000.000000</td>\n",
       "      <td>2.000000</td>\n",
       "      <td>1000.000000</td>\n",
       "      <td>333.000000</td>\n",
       "      <td>3.000000</td>\n",
       "      <td>0.000000e+00</td>\n",
       "      <td>5.000000</td>\n",
       "      <td>7.000000</td>\n",
       "      <td>2.000000</td>\n",
       "      <td>0.000000</td>\n",
       "      <td>0.000000</td>\n",
       "      <td>6.000000</td>\n",
       "      <td>2.000000</td>\n",
       "      <td>0.000000</td>\n",
       "    </tr>\n",
       "    <tr>\n",
       "      <th>50%</th>\n",
       "      <td>3000.000000</td>\n",
       "      <td>7.000000</td>\n",
       "      <td>3000.000000</td>\n",
       "      <td>1000.000000</td>\n",
       "      <td>9.000000</td>\n",
       "      <td>2.650000e+02</td>\n",
       "      <td>27.000000</td>\n",
       "      <td>29.000000</td>\n",
       "      <td>6.000000</td>\n",
       "      <td>1.000000</td>\n",
       "      <td>2.000000</td>\n",
       "      <td>24.000000</td>\n",
       "      <td>5.000000</td>\n",
       "      <td>0.000000</td>\n",
       "    </tr>\n",
       "    <tr>\n",
       "      <th>75%</th>\n",
       "      <td>7400.000000</td>\n",
       "      <td>16.000000</td>\n",
       "      <td>7399.000000</td>\n",
       "      <td>2466.000000</td>\n",
       "      <td>20.000000</td>\n",
       "      <td>2.903000e+03</td>\n",
       "      <td>157.000000</td>\n",
       "      <td>100.000000</td>\n",
       "      <td>20.000000</td>\n",
       "      <td>3.000000</td>\n",
       "      <td>5.000000</td>\n",
       "      <td>51.000000</td>\n",
       "      <td>12.000000</td>\n",
       "      <td>0.000000</td>\n",
       "    </tr>\n",
       "    <tr>\n",
       "      <th>max</th>\n",
       "      <td>256000.000000</td>\n",
       "      <td>115.000000</td>\n",
       "      <td>219423.000000</td>\n",
       "      <td>73141.000000</td>\n",
       "      <td>91.000000</td>\n",
       "      <td>1.238915e+06</td>\n",
       "      <td>36687.000000</td>\n",
       "      <td>6211.000000</td>\n",
       "      <td>3658.000000</td>\n",
       "      <td>1730.000000</td>\n",
       "      <td>1796.000000</td>\n",
       "      <td>62.000000</td>\n",
       "      <td>560.000000</td>\n",
       "      <td>1.000000</td>\n",
       "    </tr>\n",
       "  </tbody>\n",
       "</table>\n",
       "</div>"
      ],
      "text/plain": [
       "             MONTANT  FREQUENCE_RECH        REVENUE   ARPU_SEGMENT  \\\n",
       "count  167521.000000   167521.000000  171253.000000  171253.000000   \n",
       "mean     5546.552850       11.552886    5524.437645    1841.486199   \n",
       "std      7159.234079       13.299560    7224.503188    2408.162972   \n",
       "min        10.000000        1.000000       1.000000       0.000000   \n",
       "25%      1000.000000        2.000000    1000.000000     333.000000   \n",
       "50%      3000.000000        7.000000    3000.000000    1000.000000   \n",
       "75%      7400.000000       16.000000    7399.000000    2466.000000   \n",
       "max    256000.000000      115.000000  219423.000000   73141.000000   \n",
       "\n",
       "           FREQUENCE   DATA_VOLUME         ON_NET         ORANGE  \\\n",
       "count  171253.000000  1.305590e+05  163918.000000  151046.000000   \n",
       "mean       13.996864  3.356439e+03     276.612867      95.590118   \n",
       "std        14.740045  1.280709e+04     875.754460     202.678605   \n",
       "min         1.000000  0.000000e+00       0.000000       0.000000   \n",
       "25%         3.000000  0.000000e+00       5.000000       7.000000   \n",
       "50%         9.000000  2.650000e+02      27.000000      29.000000   \n",
       "75%        20.000000  2.903000e+03     157.000000     100.000000   \n",
       "max        91.000000  1.238915e+06   36687.000000    6211.000000   \n",
       "\n",
       "                TIGO         ZONE1         ZONE2     REGULARITY  \\\n",
       "count  103857.000000  20225.000000  16291.000000  258486.000000   \n",
       "mean       23.183810      7.867194      7.513228      28.006298   \n",
       "std        64.869552     38.568960     31.053798      22.277426   \n",
       "min         0.000000      0.000000      0.000000       1.000000   \n",
       "25%         2.000000      0.000000      0.000000       6.000000   \n",
       "50%         6.000000      1.000000      2.000000      24.000000   \n",
       "75%        20.000000      3.000000      5.000000      51.000000   \n",
       "max      3658.000000   1730.000000   1796.000000      62.000000   \n",
       "\n",
       "       FREQ_TOP_PACK          CHURN  \n",
       "count  149995.000000  258486.000000  \n",
       "mean        9.286383       0.188529  \n",
       "std        12.347848       0.391134  \n",
       "min         1.000000       0.000000  \n",
       "25%         2.000000       0.000000  \n",
       "50%         5.000000       0.000000  \n",
       "75%        12.000000       0.000000  \n",
       "max       560.000000       1.000000  "
      ]
     },
     "execution_count": 22,
     "metadata": {},
     "output_type": "execute_result"
    }
   ],
   "source": [
    "train.describe() "
   ]
  },
  {
   "cell_type": "code",
   "execution_count": null,
   "metadata": {},
   "outputs": [],
   "source": []
  },
  {
   "cell_type": "markdown",
   "metadata": {},
   "source": [
    "> Check for null values"
   ]
  },
  {
   "cell_type": "code",
   "execution_count": 23,
   "metadata": {},
   "outputs": [],
   "source": [
    "def check_null(data, plot=True):\n",
    "    print(data.isnull().sum())\n",
    "    if plot:\n",
    "        plt.figure(figsize=(10,5))\n",
    "        plt.title(f\"Null Values Count\", fontsize=15)\n",
    "        data.isnull().sum().plot.bar()"
   ]
  },
  {
   "cell_type": "code",
   "execution_count": 24,
   "metadata": {},
   "outputs": [
    {
     "name": "stdout",
     "output_type": "stream",
     "text": [
      "user_id                0\n",
      "TENURE                 0\n",
      "MONTANT            90965\n",
      "FREQUENCE_RECH     90965\n",
      "REVENUE            87233\n",
      "ARPU_SEGMENT       87233\n",
      "FREQUENCE          87233\n",
      "DATA_VOLUME       127927\n",
      "ON_NET             94568\n",
      "ORANGE            107440\n",
      "TIGO              154629\n",
      "ZONE1             238261\n",
      "ZONE2             242195\n",
      "REGULARITY             0\n",
      "FREQ_TOP_PACK     108491\n",
      "CHURN                  0\n",
      "dtype: int64\n"
     ]
    },
    {
     "data": {
      "image/png": "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\n",
      "text/plain": [
       "<Figure size 720x360 with 1 Axes>"
      ]
     },
     "metadata": {
      "needs_background": "light"
     },
     "output_type": "display_data"
    }
   ],
   "source": [
    "check_null(train)"
   ]
  },
  {
   "cell_type": "code",
   "execution_count": 25,
   "metadata": {},
   "outputs": [
    {
     "name": "stdout",
     "output_type": "stream",
     "text": [
      "user_id               0\n",
      "TENURE                0\n",
      "MONTANT           15853\n",
      "FREQUENCE_RECH    15853\n",
      "REVENUE           15212\n",
      "ARPU_SEGMENT      15212\n",
      "FREQUENCE         15212\n",
      "DATA_VOLUME       22338\n",
      "ON_NET            16657\n",
      "ORANGE            18724\n",
      "TIGO              27120\n",
      "ZONE1             41940\n",
      "ZONE2             42669\n",
      "REGULARITY            0\n",
      "FREQ_TOP_PACK     18963\n",
      "dtype: int64\n"
     ]
    },
    {
     "data": {
      "image/png": "iVBORw0KGgoAAAANSUhEUgAAAmIAAAGUCAYAAACWdU5/AAAABHNCSVQICAgIfAhkiAAAAAlwSFlzAAALEgAACxIB0t1+/AAAADh0RVh0U29mdHdhcmUAbWF0cGxvdGxpYiB2ZXJzaW9uMy4xLjMsIGh0dHA6Ly9tYXRwbG90bGliLm9yZy+AADFEAAAgAElEQVR4nOzdfbylc73/8de2MWZq2NTkOGYKcT4dqTiEjs5JFCM6dEMoFNEpSkc3KEVCKt3oTidMOBVNIspEcpNUbktue2eOm2PmJwrjJiJj//74fpe5Zs3ae6+ZWfv6Xnvv9/PxWI+5ru91rev6rL3X7PVZ39u+wcFBzMzMzKx+K5QOwMzMzGyiciJmZmZmVogTMTMzM7NCnIiZmZmZFeJEzMzMzKwQJ2JmZmZmhaxYOgAza4aIOAo4EviZpO3bjp0NPF/S1kt5zbuAsyV9OO+fBmwkabMhzv8xsI6klw1x/GvAO4A1JT3Zxf3XB24HdpB04dLEPpoiYlvgEGALYFVgPvAz4ARJtxeKaXdgZUlnlLi/2UTlGjEza7ddRLyy0L3PBDaKiA3bD0REP/BW4JxukrCmiohDgIuBx4ADgNcBnwY2Ar5XMLTdgb0L3t9sQnKNmJlVPUiqnfk4sEuB+58HPA7sAXyi7dhrgTVJydqYFBGbAZ8HjpJ0dOXQFcCsiNipTGRmVooTMTOrGgSOBc6MiJdJuqnTSbkZ8yBJz28rHwTeL+lry3JzSX/NzZNvY8lEbHfgfuDSfK+1gWOArYF/AO4hJWnHSPr7EHGvCPwdeK+kb1bKjwHeLekfKmUvAj4HbAdMAn4BfKDVdBgRfcDHgH2BtYGHgd8C+0i6f4iX+AHgT6SfcafX/5PK/Z8DfBbYFVgNuBH4mKSfV86ZB3xH0mGVsncDJwOTJf0tIl5HqoH7d+CDwEzgPuCzkv47P+c7wM55u7XcyickHTPE6zCzHnHTpJm1+wGpX9XHC93/TGCDiNi0VRARKwFvBmZLWpiLpwF/YVFy8QVgf+DLyxtARDwf+BWwPqn58G3AAHBxREzKp70LOBQ4AdgeeC9wBzB5mEu/Bvh55TUMZxapqfBo0mu/F/hpRLxqqV9QcipwPamm85fANyPiX/KxI0m1ctcCr8qPby/jfcxsKbhGzMwWI+mZiPgMcGpEfFLSH2sO4afAAlIN2PW5bHtgdSrNkpJuAG5o7UfEr4AnSAnGwZKeXo4YPkSqBdtW0oJ8/V8DdwHvBP4b2Bz4qaSTKs87Z4Tr/iPwfyPdPCJeBuwGvEPSd3PZhcCtwBHAjkvxWlq+I+m4fK1fAG8kJXi/lfS/EfEQ8HdJVy3Dtc1sGblGzMw6+Q4pYTi87htLeoqU0OyWm/8g1UjdDfymdV5ErBARH4qI2yLiCVKT4+mkGqnpyxnG64CLgMciYsXcpNlqemyN+LwBeGNEHBURr4yIbv+eDo58Cq/M553dKpD0DKm28tVd3qfdzyrXegqYy/L/nMxsOTkRM7Ml5NqkzwHvyH2l6nYm8ELgVRGxCqn/0lmSqknMh0h9qH4A/AephuoD+dgqy3n/5wNvJyV31ce/AzPyOSeT+rHtDlwD/CkiPjVCQvb/8usayVrAwx1Gh94HrJpHkC6tBW37T7H8PyczW05umjSzocwiNYMd2uHY34CVqwURsXoP730ZKenYnZSUTGXJ0ZK7kpKzT1ZiePkI110IPE1b7KRmz6oHgd8Bx3W4xiMAuZ/XF4AvRMQLgb1I01DcA5wyxP0vB14XEf0j9BO7F1gtIia1JWNrAo9UnrvE76HDazGzBnONmJl1lBOAE0ijAtdqOzwPmJpHLrZs18N7LwRmk5KtPYHbJP2+7bTJQHuN0dtHuO4gaXqOf26V5dqlbdtOvQR4KXCTpOvaHkv0mZP0f5KOBe4ElpgDreKrpJ/lYZ0ORsQb8ua1QB/wlsqxFfL+lZWnzKu+lmxZfw+uITMrwDViZjac/yZN0fCvpOkbWi4kdYyfFRFfANYF/rPH9z4TeD/wJtKovnYXA++NiOtIoxX3Btbp4rrnAgdExO9J/c72B6a0nXMCKQG8NM/m//9IU2S8Brhc0uyIOIU0ncbVpP5j25J+DpcOdWNJ10XER4ATImIjUrL5ALAeKeGdDMyRdFNEzAZOiogBUoJ3ALABsF/ba/liRBxG6r/2ViC6+Bl08gfgDRGxMylZnS/p3mW8lpl1yTViZjYkSY8DX+pQ/hdS7cx04EekZYf27PG9f0MapdhH50lcjyQlMsfl438F/quLS3+SNBjgONIUDdcBiy3rk+cB25LUof3LpI7unyU1kbbmVvs1aQ6zbwMXkPqp7VudC2yI1/VF4PWkucFOBX4OHAXcQmqKbdmXNGjiKNLPeDppqabfVM45iVTL9l/AWaTZ+j8z8o+go6/lWE4j1cjtN+zZZtYTfYOD3QzgMTMzM7Nec42YmZmZWSFOxMzMzMwKcSJmZmZmVogTMTMzM7NCnIiZmZmZFTJm5xF75plnBhcuXP4Rn/39ffTiOr3WxLgcU3ccU/eaGJdj6o5j6l4T43JM3ellTCut1P8XYFp7+ZhNxBYuHGTBgseX+zoDA1N6cp1ea2Jcjqk7jql7TYzLMXXHMXWviXE5pu70MqZp06be3ancTZNmZmZmhTgRMzMzMyvEiZiZmZlZIU7EzMzMzApxImZmZmZWiBMxMzMzs0KciJmZmZkV4kTMzMzMrBAnYmZmZmaFOBEzMzMzK8SJmJmZmVkhY3atSTMzM1vcc1edzORJ3X20T5s2ddjjTzz5NI898kQvwrJhOBEzMzMbJyZPWpF1DrugJ9e66/gdeawnV7LhuGnSzMzMrBAnYmZmZmaFuGnSzMxsGbg/lvWCEzEzM7Nl4P5Y1gtumjQzMzMrxImYmZmZWSFOxMzMzMwKcSJmZmZmVogTMTMzM7NCnIiZmZmZFdL19BUR0Q9cB8yXtFNErAucBTwPuB7YS9JTETEJOAPYFHgAeJuku/I1Dgf2AxYCH5B0US6fCZwI9AOnSDq+R6/PzMzMrLGWpkbsYOC2yv5ngS9JWh94iJRgkf99KJd/KZ9HRGwI7A68FJgJfCMi+nOC93VgB2BDYI98rpmZmdm41lUiFhHTgR2BU/J+H7ANcHY+5XRgl7y9c94nH982n78zcJakJyXdCcwFNs+PuZLukPQUqZZt5+V9YWZmZmZN122N2JeBjwLP5P3nAQskPZ335wFr5+21gXsA8vGH8/nPlrc9Z6hyMzMzs3FtxD5iEbETcL+k6yNi69EPqTv9/X0MDEzpwXVW6Ml1eq2JcTmm7jim7jUxLsfUHcfUe02Mvc6Ymvj7qyOmbjrrbwX8R0S8AVgFWJXUsX4gIlbMtV7Tgfn5/PnADGBeRKwIrEbqtN8qb6k+Z6jyIS1cOMiCBY93Ef7wBgam9OQ6vdbEuBxTdxxT95oYl2PqjmMaeSHvpdWL2JsYU7fG+3tqqN/NiE2Tkg6XNF3SOqTO9pdKejtwGfDWfNo+wHl5+/y8Tz5+qaTBXL57REzKIy43AK4BrgU2iIh1I2LlfI/zl/4lmpmZmY0tyzOP2KHAIRExl9QH7NRcfirwvFx+CHAYgKRbgNnArcCFwIGSFuYatYOAi0ijMmfnc83MzMzGta7nEQOQdDlwed6+gzTisf2cvwG7DvH8Y4FjO5TPAeYsTSxmZmZmY51n1jczMzMrxImYmZmZWSFOxMzMzMwKcSJmZmZmVogTMTMzM7NCnIiZmZmZFeJEzMzMzKwQJ2JmZmZmhTgRMzMzMyvEiZiZmZlZIU7EzMzMzApxImZmZmZWiBMxMzMzs0KciJmZmZkV4kTMzMzMrBAnYmZmZmaFOBEzMzMzK8SJmJmZmVkhTsTMzMzMCnEiZmZmZlaIEzEzMzOzQpyImZmZmRWy4kgnRMQqwBXApHz+2ZKOjIjTgNcAD+dT3ynphojoA04E3gA8nst/m6+1D3BEPv8YSafn8k2B04DJwBzgYEmDPXmFZmZmZg01YiIGPAlsI+mxiFgJuDIifpqPfUTS2W3n7wBskB9bACcBW0TEGsCRwGbAIHB9RJwv6aF8zv7A1aREbCbwU8zMzMzGsRETsVwz9VjeXSk/hqut2hk4Iz/vqogYiIi1gK2BiyU9CBARFwMzI+JyYFVJV+XyM4BdcCJmZmZm41w3NWJERD9wPbA+8HVJV0fEe4FjI+KTwCXAYZKeBNYG7qk8fV4uG658XofyYfX39zEwMKWb8Ee4zgo9uU6vNTEux9Qdx9S9JsblmLrjmHqvibHXGVMTf391xNRVIiZpIbBxRAwA50bERsDhwJ+AlYFvAYcCR49WoO0WLhxkwYLHl/s6AwNTenKdXmtiXI6pO46pe02MyzF1xzHBtGlTe3q9XsTexJi6Nd7fU0P9bpZq1KSkBcBlwExJ90oazLVg3wY2z6fNB2ZUnjY9lw1XPr1DuZmZmdm4NmIiFhHTck0YETEZeD3wh9zvizxKchfg5vyU84G9I6IvIrYEHpZ0L3ARsF1ErB4RqwPbARflY49ExJb5WnsD5/X2ZZqZmZk1TzdNk2sBp+d+YisAsyX9JCIujYhpQB9wA/Cf+fw5pKkr5pKmr3gXgKQHI+LTwLX5vKNbHfeB97Fo+oqf4o76ZmZmNgF0M2ryRmCTDuXbDHH+IHDgEMdmAbM6lF8HbDRSLGZmZmbjiWfWNzMzMyvEiZiZmZlZIU7EzMzMzApxImZmZmZWiBMxMzMzs0KciJmZmZkV4kTMzMzMrBAnYmZmZmaFOBEzMzMzK8SJmJmZmVkhTsTMzMzMCnEiZmZmZlaIEzEzMzOzQpyImZmZmRXiRMzMzMysECdiZmZmZoU4ETMzMzMrxImYmZmZWSFOxMzMzMwKcSJmZmZmVogTMTMzM7NCVhzphIhYBbgCmJTPP1vSkRGxLnAW8DzgemAvSU9FxCTgDGBT4AHgbZLuytc6HNgPWAh8QNJFuXwmcCLQD5wi6fievkozMzOzBuqmRuxJYBtJrwA2BmZGxJbAZ4EvSVofeIiUYJH/fSiXfymfR0RsCOwOvBSYCXwjIvojoh/4OrADsCGwRz7XzMzMbFwbMRGTNCjpsby7Un4MAtsAZ+fy04Fd8vbOeZ98fNuI6MvlZ0l6UtKdwFxg8/yYK+kOSU+Ratl2Xu5XZmZmZtZwIzZNAuRaq+uB9Um1V/8LLJD0dD5lHrB23l4buAdA0tMR8TCp+XJt4KrKZavPuaetfIuRYurv72NgYEo34Y9wnRV6cp1ea2Jcjqk7jql7TYzLMXXHMfVeE2OvM6Ym/v7qiKmrREzSQmDjiBgAzgVeMqpRdWHhwkEWLHh8ua8zMDClJ9fptSbG5Zi645i618S4HFN3HBNMmza1p9frRexNjKlb4/09NdTvZqlGTUpaAFwGvAoYiIhWIjcdmJ+35wMzAPLx1Uid9p8tb3vOUOVmZmZm49qIiVhETMs1YUTEZOD1wG2khOyt+bR9gPPy9vl5n3z8UkmDuXz3iJiUR1xuAFwDXAtsEBHrRsTKpA795/fixZmZmZk1WTc1YmsBl0XEjaSk6WJJPwEOBQ6JiLmkPmCn5vNPBZ6Xyw8BDgOQdAswG7gVuBA4UNLC3M/sIOAiUoI3O59rZmZmNq6N2EdM0o3AJh3K7yCNeGwv/xuw6xDXOhY4tkP5HGBOF/GamZmZjRueWd/MzMysECdiZmZmZoU4ETMzMzMrxImYmZmZWSFOxMzMzMwKcSJmZmZmVogTMTMzM7NCnIiZmZmZFeJEzMzMzKwQJ2JmZmZmhTgRMzMzMyvEiZiZmZlZISMu+m1mZlbac1edzORJI39kTZs2dcRznnjyaR575IlehGW23JyImZlZ402etCLrHHZBT6511/E78lhPrmS2/Nw0aWZmZlaIEzEzMzOzQpyImZmZmRXiRMzMzMysECdiZmZmZoU4ETMzMzMrxImYmZmZWSEjziMWETOAM4A1gUHgW5JOjIijgP2BP+dTPyZpTn7O4cB+wELgA5IuyuUzgROBfuAUScfn8nWBs4DnAdcDe0l6qlcv0szMzKyJuqkRexr4kKQNgS2BAyNiw3zsS5I2zo9WErYhsDvwUmAm8I2I6I+IfuDrwA7AhsAelet8Nl9rfeAhUhJnZmZmNq6NmIhJulfSb/P2o8BtwNrDPGVn4CxJT0q6E5gLbJ4fcyXdkWu7zgJ2jog+YBvg7Pz804FdlvUFmZmZmY0VS9VHLCLWATYBrs5FB0XEjRExKyJWz2VrA/dUnjYvlw1V/jxggaSn28rNzMzMxrWu15qMiOcCPwQ+KOmRiDgJ+DSp39ingS8A+45KlB309/cxMDClB9dZoSfX6bUmxuWYuuOYutfEuBxTd5oY09JoYuwTPaYmvqfqiKmrRCwiViIlYd+VdA6ApPsqx08GfpJ35wMzKk+fnssYovwBYCAiVsy1YtXzh7Rw4SALFjzeTfjDGhiY0pPr9FoT43JM3XFM3WtiXI6pO3XHNG3a1J5erxexO6beGu/v86F+NyM2TeY+XKcCt0n6YqV8rcppbwJuztvnA7tHxKQ8GnID4BrgWmCDiFg3IlYmdeg/X9IgcBnw1vz8fYDzluK1mZmZmY1J3dSIbQXsBdwUETfkso+RRj1uTGqavAt4D4CkWyJiNnAracTlgZIWAkTEQcBFpOkrZkm6JV/vUOCsiDgG+B0p8TMzMzMb10ZMxCRdCfR1ODRnmOccCxzboXxOp+dJuoM0qtLMzMxswvDM+mZmZmaFOBEzMzMzK8SJmJmZmVkhTsTMzMzMCnEiZmZmZlaIEzEzMzOzQpyImZmZmRXiRMzMzMysECdiZmZmZoU4ETMzMzMrxImYmZmZWSHdLPptZjbmPXfVyUye1N2fvGnTpg57/Iknn+axR57oRVhmNsE5ETOzCWHypBVZ57ALenKtu47fkcd6ciUzm+jcNGlmZmZWiBMxMzMzs0KciJmZmZkV4kTMzMzMrBAnYmZmZmaFOBEzMzMzK8SJmJmZmVkhTsTMzMzMCnEiZmZmZlbIiDPrR8QM4AxgTWAQ+JakEyNiDeD7wDrAXcBukh6KiD7gROANwOPAOyX9Nl9rH+CIfOljJJ2eyzcFTgMmA3OAgyUN9ug1mpmZmTVSNzViTwMfkrQhsCVwYERsCBwGXCJpA+CSvA+wA7BBfhwAnASQE7cjgS2AzYEjI2L1/JyTgP0rz5u5/C/NzMzMrNlGTMQk3duq0ZL0KHAbsDawM3B6Pu10YJe8vTNwhqRBSVcBAxGxFrA9cLGkByU9BFwMzMzHVpV0Va4FO6NyLTMzM7Nxa6kW/Y6IdYBNgKuBNSXdmw/9idR0CSlJu6fytHm5bLjyeR3Kh9Xf38fAwJSlCX+I66zQk+v0WhPjckzdcUzda2pc3agz7ib+nJoY09JoYuwTPaYmvqfqiKnrRCwingv8EPigpEci4tljkgYjotY+XQsXDrJgwePLfZ2BgSk9uU6vNTEux9Qdx9S9OuOaNm1qT69X58+zib+/umNq4u/PMfXWeH+fD/W76WrUZESsRErCvivpnFx8X25WJP97fy6fD8yoPH16LhuufHqHcjMzM7NxbcRELI+CPBW4TdIXK4fOB/bJ2/sA51XK946IvojYEng4N2FeBGwXEavnTvrbARflY49ExJb5XntXrmVmZmY2bnXTNLkVsBdwU0TckMs+BhwPzI6I/YC7gd3ysTmkqSvmkqaveBeApAcj4tPAtfm8oyU9mLffx6LpK36aH2ZmZmbj2oiJmKQrgb4hDm/b4fxB4MAhrjULmNWh/Dpgo5FiMTMzMxtPlmrUpJmZmdl48NxVJzN50shp0EgDIJ548mkee+SJZY7DiZiZmZlNOJMnrcg6h12w3Ne56/gdeWw5nu9EzMzMFtOUmgKzicCJmJmZLaYpNQVmE0FX84iZmZmZWe85ETMzMzMrxImYmZmZWSFOxMzMzMwKcSJmZmZmVogTMTMzM7NCnIiZmZmZFeJEzMzMzKwQJ2JmZmZmhTgRMzMzMyvESxyZmRXkdR3NJjYnYmZmBXldR7OJzU2TZmZmZoU4ETMzMzMrxImYmZmZWSHuI2ZddxaGejsMuxOzmZmNd07ErGedhaG3HYbdidnMzMa7EROxiJgF7ATcL2mjXHYUsD/w53zaxyTNyccOB/YDFgIfkHRRLp8JnAj0A6dIOj6XrwucBTwPuB7YS9JTvXqBZmZmZk3VTR+x04CZHcq/JGnj/GglYRsCuwMvzc/5RkT0R0Q/8HVgB2BDYI98LsBn87XWBx4iJXFmZmZm496INWKSroiIdbq83s7AWZKeBO6MiLnA5vnYXEl3AETEWcDOEXEbsA2wZz7ndOAo4KSuX4FZjZrYb61XMUHv4mpqv0Mzs6ZZnj5iB0XE3sB1wIckPQSsDVxVOWdeLgO4p618C1Jz5AJJT3c4f1j9/X0MDExZjvBb11mhJ9fptabG1Y0mxt2rmFZaqb9n/dZWbFhM0Lu4mhhTr43n93kvNTEmaGZcEz2mifq5t6yJ2EnAp4HB/O8XgH2XOYplsHDhIAsWPL7c1xkYmNKT6/RanXF1U1OyNHoVdy/jckzd60Vcjql74/091cSYYPy+p5oYU7fq/jyu+30+1P2WKRGTdF9rOyJOBn6Sd+cDMyqnTs9lDFH+ADAQESvmWrHq+WZmZmbj2jJN6BoRa1V23wTcnLfPB3aPiEl5NOQGwDXAtcAGEbFuRKxM6tB/vqRB4DLgrfn5+wDnLUtMZmZmZmNNN9NXnAlsDTw/IuYBRwJbR8TGpKbJu4D3AEi6JSJmA7cCTwMHSlqYr3MQcBFp+opZkm7JtzgUOCsijgF+B5zas1dnZmZm1mDdjJrco0PxkMmSpGOBYzuUzwHmdCi/g0UjK83MzMwmDK81aWZmZlaIEzEzMzOzQpyImZmZmRXiRMzMzMysECdiZmZmZoU4ETMzMzMrxImYmZmZWSFOxMzMzMwKcSJmZmZmVogTMTMzM7NCnIiZmZmZFeJEzMzMzKwQJ2JmZmZmhTgRMzMzMyvEiZiZmZlZIU7EzMzMzApxImZmZmZWiBMxMzMzs0KciJmZmZkV4kTMzMzMrBAnYmZmZmaFrDjSCRExC9gJuF/SRrlsDeD7wDrAXcBukh6KiD7gROANwOPAOyX9Nj9nH+CIfNljJJ2eyzcFTgMmA3OAgyUN9uj1mZmZmTVWNzVipwEz28oOAy6RtAFwSd4H2AHYID8OAE6CZxO3I4EtgM2BIyNi9fyck4D9K89rv5eZmZnZuDRiIibpCuDBtuKdgdPz9unALpXyMyQNSroKGIiItYDtgYslPSjpIeBiYGY+tqqkq3It2BmVa5mZmZmNa8vaR2xNSffm7T8Ba+bttYF7KufNy2XDlc/rUG5mZmY27o3YR2wkkgYjovY+Xf39fQwMTOnBdVboyXV6ralxdaOJcTum7jUxLsfUHcfUvSbGNdFjmqife8uaiN0XEWtJujc3L96fy+cDMyrnTc9l84Gt28ovz+XTO5w/ooULB1mw4PFlCr5qYGBKT67Ta3XGNW3a1J5er1dx9zIux9S9XsTlmLo33t9TTYwJxu97qokxdavuz+O63+dD3W9ZmybPB/bJ2/sA51XK946IvojYEng4N2FeBGwXEavnTvrbARflY49ExJZ5xOXelWuZmZmZjWvdTF9xJqk26/kRMY80+vF4YHZE7AfcDeyWT59DmrpiLmn6incBSHowIj4NXJvPO1pSawDA+1g0fcVP88PMzMxs3BsxEZO0xxCHtu1w7iBw4BDXmQXM6lB+HbDRSHGYmZmZjTeeWd/MzMysECdiZmZmZoU4ETMzMzMrxImYmZmZWSFOxMzMzMwKcSJmZmZmVogTMTMzM7NCnIiZmZmZFeJEzMzMzKwQJ2JmZmZmhTgRMzMzMyvEiZiZmZlZIU7EzMzMzApxImZmZmZWiBMxMzMzs0KciJmZmZkV4kTMzMzMrBAnYmZmZmaFOBEzMzMzK8SJmJmZmVkhTsTMzMzMCnEiZmZmZlbIisvz5Ii4C3gUWAg8LWmziFgD+D6wDnAXsJukhyKiDzgReAPwOPBOSb/N19kHOCJf9hhJpy9PXGZmZmZjQS9qxF4raWNJm+X9w4BLJG0AXJL3AXYANsiPA4CTAHLidiSwBbA5cGRErN6DuMzMzMwabTSaJncGWjVapwO7VMrPkDQo6SpgICLWArYHLpb0oKSHgIuBmaMQl5mZmVmjLFfTJDAI/CwiBoH/lvQtYE1J9+bjfwLWzNtrA/dUnjsvlw1VPqz+/j4GBqYsZ/jQ379CT67Ta02NqxtNjNsxda+JcTmm7jim7jUxroke00T93FveROzVkuZHxAuAiyPiD9WDkgZzktZzCxcOsmDB48t9nYGBKT25Tq/VGde0aVN7er1exd3LuBxT93oRl2Pq3nh/TzUxJhi/76kmxtStuj+P636fD3W/5WqalDQ//3s/cC6pj9d9ucmR/O/9+fT5wIzK06fnsqHKzczMzMa1ZU7EIuI5ETG1tQ1sB9wMnA/sk0/bBzgvb58P7B0RfRGxJfBwbsK8CNguIlbPnfS3y2VmZmZm49ry1IitCVwZEb8HrgEukHQhcDzw+oi4HXhd3geYA9wBzAVOBt4HIOlB4NPAtflxdC4zMzMzG9eWuY+YpDuAV3QofwDYtkP5IHDgENeaBcxa1ljMzMzMxiLPrG9mZmZWiBMxMzMzs0KciJmZmZkV4kTMzMzMrBAnYmZmZmaFOBEzMzMzK8SJmJmZmVkhTsTMzMzMCnEiZmZmZlaIEzEzMzOzQpyImZmZmRXiRMzMzMysECdiZmZmZoU4ETMzMzMrxImYmZmZWSFOxMzMzMwKcSJmZmZmVogTMTMzM7NCnIiZmZmZFeJEzMzMzKwQJ2JmZmZmhaxYOoCWiJgJnAj0A6dIOr5wSGZmZmajqhE1YhHRD3wd2AHYENgjIjYsG5WZmZnZ6GpEIgZsDsyVdIekp4CzgJ0Lx2RmZmY2qvoGBwdLx0BEvBWYKendeX8vYAtJBw3ztD8Dd9cRn5mZmdlyehEwrb2wMX3ElsESL8bMzMxsLGlK0+R8YEZlf3ouMzMzMxu3mlIjdi2wQUSsS0rAdj0CmPoAACAASURBVAf2LBuSmZmZ2ehqRI2YpKeBg4CLgNuA2ZJuKRuVmZmZ2ehqRGd9MzMzs4moETViZmZmZhOREzEzMzOzQpyImZmZmRXiRKygiPhoZXvXtmPH1R/RYvffsuT9zSaqiGjKaPZGi4iNIuKMiLguP06PiJeXjsu6ExHrlI6hKSZcIhYR/zLco+Zwdq9sH952bGadgXTwjcL3X0JEHDLco1BMX65sH9x27LTaAyp43+FExEsq25PajhVL+hsa1zWF7jukiNimsr1u27E3F4hnZ+Bc4HJg3/z4BfDDfMya7+cRcVjTvnhExCuGOfbe0bjnhEvEgC/kx9eBq4FvASfn7a/XHEvfENud9g2mVh4fbtufWiimf69s79N2rNS38ybWCnyvsv2btmMlk/4mxtXE//snVLZ/2HbsiDoDyY4GXi9plqQb82MW8Pp8rHEi4qeF7rtqRHwmIv4nIvZsO1by/94mwJrA9RHxbwXjaHduRGzaXhgRnwL2H40bNioTrYOk1wJExDnAv0i6Ke9vBBxVcziDQ2x32q/behFx/lAHJf1HncHke36qtR0Ru1T3CxoumS5lSkRswhDxSPptzfFAc790NDGuacPV8Er6Yp3BZE37Oa0o6a72Qkl3RcRKBeIBUovLEIf6gI3rjKXi28DtpAR634h4C7CnpCeBYrXRkh4F/isnPZdExDzgGdLPalBSqS+UuwI/iIi3S/pNRPQBJwEBbD0aN5xwiVhFtJIwAEk3R8Q/1xzDKyLiEdIbb3LeJu+vUnMs7f5MqjlsqtKJassKEbE6qXa5td36YOovFNPapN9dpw/IQWCbDuWjralfOpoYVz/wXJqT2EPzfk5PR8QLJf1ftTAiXgQ8XSCelmtJTaSdfncDNcfS8mJJb8nbP4qIjwOXRkTtX6bb5SbvE4FTSC1Sz5SNCCRdHxG7kGrGDmRRLdjMnLz23EROxG6MiFOA7+T9twM31hmApFIf1N14TNIvSgcxBqwGXM+iP7zV2qZSH+RzJZVItoYzPSK+Qvo5tbbJ+2uXC6uRcd0rqWnNa60a8j4Wry3vA9Yd+mmj5khSH6PjSP//ADYDDgMOLRBPy23AeyTd3n4gIu4pEA/ApIhYQdIzAJKOjYj5wBWkhL+IiDiLtK70ntVKkdIiYg1gHqmryY+An5NW/nlORDxH0oO9vudETsTeBbwXaHWwvoJU/VhcRAwAB0o6tmAYdxa8d0cRcROLkpv1I6KVOBerypa0Tt33HKM+Utm+ru1Y+36dmhhXk2rCWqod4E9oO9a+P+ok/Sgi7gQ+BLw/F98K7Cbp93XHU3EUQ/e9fv8Q5aPtx6Ra8J+3CiSdFhF/Ar5aKCaA6yTtPvJptbueRZ8zjwJbkAbQ9OXy9Xp9Qy9xVFBEzAA+AfwjKfM+k9TRdG/ge5IOHubpox3baximRkfSFTWGAzzb7DAkSXfXFUtLhz4hg8BfJJX69ktEvF7SxaXu30lErAJMlfTntvJpwKOS/lYmsuaJiN0kzc7b60q6s3LszZLOKRedWW9ExG8l1T1TQSNNuBqxiJgtabe22pVn1VyrcgZ5yDVpuorrgBuAl0n6U41xdPLhDmWDpBF5MyjT/2klYE1Jv6oWRsRWQKmfV6d+dGtExMrAHpJuqDsg4GMR0T4dSsugpG1rjSb5CnAh0J5EvBrYjlQ7XbvhBqRAmUEppOa12Xn7h0D1w+oIlvwZjro8JcR0SV/P+1cD0/Lhj0o6u+Z4Xg2sJ+mMvH82sEY+fIykS+uMpxLXlyV9MG8fLOnEyrHTJL3TMTVbRGxP+tJ4dlv5W4BHRuNL7oRLxFjUFLlT0SiSNSQdlbcvijSp69tbbfklSXpjdT8nO0eQEp5SVexfZsn51gAeycfe2OHYqGqNwm0XEZuRko9/73R8lHVKorcEPgrcX3MsLZtKOqC9UNK5EXFMiYCyVwH3kGqjr6YZzYJNG6EI6b1TbUaaBLwSeA5pVF6tiRjwKRb/OxTAO3M8HwOKJGIsOZ3NiZX9UqMAmxgTwEsq3UuqSo+a/CSwS4fyX5CaeZ2ILS9J9+Z/h23GiojfSHrVaMfTNsruAWC1PFyW0egUuLQiYltS8+kgcFzhJq81O3XqlHRTNGyWZknXRUSRjrCSWp2XW03MnyCNwv1PSUXmMgKmDHOs5HyG/0Cae2oPYE/gAuBMSbcUjKlpIxQBVm5rbr9S0gPAAxHxnALxrCrp1sr+7a33fUR8pkA8LU2czqaJMUHqh1z7l+cuTGrvQgEg6S+j9V6fcInYUqhj+oj2EXewaNTdqHQK7FZE7Ah8HHgYOELSlaViqRhu+Pfk2qLoQkSsScFpGXL1+hHAk8Cxki4rFUt2f0RsLmmxWeMj4pWkqVKKkLSQ1GR6YZ5Zfw/g8oj4lKSvFQqraSMUAVav7kg6qLI7jfot9rdAUnV2/zVrjqWqidPZNDEmgKdK9OvtwqoRsaKkxaZByfPTjcrnjBOxoY36h2jDR9z9mDSE9wHgo1FZFxOK9Z25LiL2l3RytTAi3s2iIey1ioivsuR7ZQ3gX1nUDF6riLiW9OH4efJs8dVBBYUmdP0IMDvS8kvV6Qb2ZvEmr9rlBGxHUhK2DqlJ+dyCITVqhGJ29RD/995DmSWZ/hARO0q6oC2enQAViKelidPZNDEmgF+NfEoR5wAnR8RBkv4KkFs3TmSU+mc6ESuoiSPuKjr2fSrsg6RJ9t7O4h/mKwNvKhRT+xQHg6Tk9RBJpfpj/RV4DHhrflQVmdBV0jURsQXwPlJfHoBbgC0K/pyIiDOAjYA5wKck3VwqlpaGzt/3X6TJQPdk0Qf5pqS+Yp3609QRzwUR8da2eP6Vgv1/m/jluokxZXc2cAUJSC0JxwB3R0Srxu6FwKmkbh495+krhhARv5O0ySjfo1Nz0RqkxKLUiLth5Sk3dpf0+YIxvJb04QlwS6kRUjb2RcQzpMQVFq8daHUYXrVATJcxdE1FqVGvwLMzob807xb9v5drMt9ejYc07U+xqVAi4oXDHW9fCaAOTYwJICKOHO546SXsImIysH7enSvpiYhYSdLfe32vCZmIRUQ/8POhRrzlczYq9e04j7j7oqQSI+6WkOd62pXUdPOPwLmSOo3MG+04tmn94W/K/EpN/NCMiI9K+lze3lXSDyrHjpP0sQIxNe7n1FTRYcFhKqNeJb2y5pCsS5Vpkar9fgdJXQVeUGI1lSbGNJI8g/1fRz5z9OXBc9uQBvPsJKnnfRAnZNOkpIUR8UxErCbp4SHOKdZEUXLEXUtETAXeTHrz/ROpbXxdSdMLhnUCi+ZUasT8SjRzqojdgc/l7cOBH1SOzSQN769bE39OreVMqgaBBZKKfUNt4qjXiHiUzon0iqQRlbV+lkTEX4GFHQ4Vq8kEkPSy6n4ezX0o8DrgOMe0uIhYG1gLuFHSUxHxAlIXlHeSvvSXjG1L0uffLqSWqgPp/HdsuU3IRCx7DLgpIi5mUdMEkj5QLqSk9Ii77H5SJ9wjSEPVByOiVD+slsbNr9TED038c1oareVMqj+XqRFxA/BuSXeVCKppo14lTa3u5y+KBwLvoczAhj+OdteR5RERG5BGnW9BmvT5A6PRpDWWY4qID+Z45pLWw/wG8FnSROedaoXrius4UgvQ/5HmF/wUaTmm00frnhM5ETuHMjUoz2riiLuKw0k1K98AzoyI7xeOB5o5v1LjPjTxz6lrkjpOBxERbwa+SapBrFVDR72S4xgg1VjsDXwPeGWeT6xupb+odhQRG5GSi5eSaqX3y1OkOKYlHQCEpAdzP7Y/AltVv7QV8u4cy0nAjyU9GRGj+n6bkH3EWnJnvBdKKjLcOSL2aStqjbi7tuRIsqqIWI+UkO0BbAAcSeoj9scCsSwgLc7eB/xb3ibvv1rS6kM9dxRjWuJDs6rEh2ZELCTV8vaR5r15PB/qA1aRtFKBmBr3cxpJFFoLLyIuZ1GisUTfHkm1j3qNiOeTFth+GzAL+OpQ3TpqimceMOSoulIj7vL/vXtIEwMvkeyUaHFpYkyw5P+viPi9pFeUiKUq9yFvTfK8LXAZqRl3RvvcYr0yYWvEIuKNpD5HKwPrRsTGwNF1zo81mlWdvSLpDlI/guPyN6s9SEP91x/2iaOjifMrNXGqiMZ1vqWBP6fh5Ka3IjP+S9q6m/Oi3sXd7yZNvPttUmK/X0Q8e7BA4tMPPJdmzRQPsG/pADpoYkwA0yPiK5X9tar7pRLEDpM870T6Qjs/Ii6RtGev7zlha8Qi4nrSH//LW30NIuJmSRsN/8yextDYkWQR8TNJ25W6/9KKiK3Uthj4RNWhA/pi1ICls5piiHmMVgf+A/i6pG/VHFLX6qyxi4ijGP5v1dF1xNFSqrZyabQGXEl6rHQsLU2KqUOL0GKaVlEREasCuygvNN9LE7ZGDPi7pIer3+qAuhfbbuRIsqzEsiXDylXGuwFrAxdKujnPpP0x0jeW2jvvNnGqCOAvpFURWtXo7cPWa186q6E/J4CpbfuDpIXt36EO65o2TG21QZKOGupYpGWq6ta0mrBnRcR7SX1sn5P3HwM+K+kbjmmRoRKtiFiFgmtQRpp4+lvAi4GbSH3qbpX0CGkgQc9N5ETslkizRPfn0SQfAH5dZwANHkkGafHxNw91sMScXaSZjWeQRnN+JSL+H2lm/cMk/ahAPNDMqSK+QloZ4VekUT9XlpyOIWviz2nYSSMj4oQS8+UthZIDLzYkdVPYA1hA+n9Yp0bOOxcRR5AGW22du3W0+tmeGBFrSDrGMS0pf8nenvR+2g74JYv/jajT10mVJFeQasa/lGMbNRM5EXs/aSTJk6QPq4uAT9cdRBNHkmWrkdrGO33zHKTMiNPNgJdLeiZ/a/oT8OJCo7ZamjhVxAfzJIRbA3sBX42InwEnVSfBrVnjfk5d2I1RmjdoLMrzT7WSr78DLwI2KzHFR4Ob1/cCXqHK7P6S7oiI3YDfk5bOcUxZroDYE3gD6Qv2VqT5Kh8f9omja4VK38sfRMTho33DCZuI5V/0x4GP52z8Oap5aYwmD1MH7pbUtE6eT0l6BkDS3yLijsJJGDR0qohcA3ZZRPyOVBv1aeB24ORhnzh6GvlzGkFTE8SWu+q6UUT8BlgVOAt4i6TbI+LOUvOsNdhgp88RpeVx6u760tLEmFojX/+PNE3EhyU9mt9TJZMwgIG21qDF9kejNWjCJmIR8T3gP0nDea8FVo2IE1XvGopNHknWxA+hl0TEjXm7D3hx3m/Npv3yAjG9IiIeyTFMztut+FYpEA8R8RzSCNO3kRL9c4BNVWhNuaxxPycYdmBDH4X+D0TEsEubSboi/ztk14FRcB+pb+aapPfU7TQ3gS5pfkRsK+mSamGkNTrvdUyLOZs0a/3bgIURcR7NeE/9gsX7qFX3R6U1aCKPmrxB0sYR8XbSUjmHAdcX+jBvnIh4qaRbSsdRFREvGu64pLvriqXJIi3/cjup9mKJD8xC/fsaKSLuZMm5uloGJZUY2PDjTrEALyfNZVRkepKIWI207FlrTsEBYHtJ15SIp4ly37nzgStJqzZA6lKxFbBzib+pTYypElurC8UepObJ1YD9gDlNGNk5nIjYp1cjOydsjRiwUkSsRMrIvybp720jKEddg0eSAfykbTbhPiqTTEp6cd0BdZtoRcRvJL1qtOPJ97qANMP4j9SQRWpJnVwHgciPqiL9+zrUPBVf0xGGnlm/JEmLjRiLiK1I/Uj/ROrbWkSewPXbwLcjrQm4G/CliHihpBml4mqYGaSEeXfSTPaQOn2/h1SrUiLpaWJMwKIuFKRuFCuxqMP+N4Dnl4qrSwcDTsSW0zeBO4EbgStybUvdM0U3ciRZ1j4KagUWdV7+Xf3hLJU6m7q+Rfo9fjnPC3cmcIGkp2qMYTGS3lnq3sNo5JqOABGxMvB2Fn1I3QJ8T9KTpWICiIhtSSOpB4Hjapy8dURKK398DfjaSDXVE8wcUlPW3pJmVQ/kTt8lRgI2MaYlKK17+RNSJcDs0vF0oWddFyZyIrYGizouf4KUaFxecwyNHUnW6gQfESuQRt18BLgB2FHSrSVj60JttSySzgPOi4gppG+XewMnRcRPSR/mtX94RsR0YB1JV+b9Q0izkJNjmlt3TEPVPEXBNR3z/VvNNr9iUbPN1qRBPKWaknYkDSR6GDii9XssLSJeReondoWk+yPi5aQuHf9GqnWx9MX+TODXEXGIpLMrx0r9TW9iTCPZsnQAXejZ58xETsSq7c+rADsAt9UcQ2NHkuVq4n2B/yL1LdilxAf4WJFH+nwf+H7+gDqdlJSV6M/zeeC7lf33kGrupgCfItX+NIKkc/I8R6V8FXhve8IcEa8j1fi8tkBMPyZNyPsA8NGI+Ggubw1KqW0ZtpaI+DxpOpsbgEMj4iLS4sifoblL6JQwKOnkiPgF8N2cVB+Y/z6U+pvexJjGA9eILS9JX6juR8QJpLnE6rRxE0eSZXeSZmb/MmmI8ctzggE0vsN37d/yImJNUtPt7sBawGzgnXXH0QpH0k8q+4+33u8R8ctCMXUUBdd0zNbuVGsp6ecR8dUSAbEo+ZtM6hQ/CMwFnigUD8COwCZ52pjVSYtIb+TpKzqT9Mdcg3gM8LuI2NsxLa46VVObPmClOmNZRj1bUm/CJmIdTAGm13zP3yuvc9lAPyd9ALwiP6pKdfh+iaQ/5O1J1T48EbGlpKvy7l41xnQAKfkK4IfARyTVukJDB+1JfHUW8iIdYGP4NR2/VnM4VSu0v5fg2WVWSv19/BVwHKmmqTXlyAzgNMr1G/1bay4qSQ9FxO1Owjp69kugpKeBwyLiQlLTYKll45oYE8AXhjn2h9qiaBNDLHHUfp6kg3p1zwmbiEXETSyqlu0nvSFrXbiWBlcLN7TD9/dIU41AmgC3+o3qG619STfXGNOWpOaZS1qTzTbAoxHxT5L+CItmIY+IlwCPFoqpqWs6ngH8MCIObI3KzTPIfwX4n0IxfZ7Up29dSY/mmFYFTsjHPlggpvUi4vzK/rp5v1hzaUMtsWSWpMsjYlNSF4ESmhgTkko0+3fDSxzVaKfK9tPAffnbQp1eMERNAQCSvlhnMO0iYiNSJ/3qaLITCn5wNnFww6Wtpq2I2ErSs9XVEXGQpBK1PUeSRh4dC7RWZ9iUVJtycIF4FlvTMScVKC2iW5SkYyLiIOCXecAFpImWT5BUqmlyJ+CfqlN7SHok0sLNf6BMIrZz/rfVXPozyjeXNo6GWPNW0kPA8TWH07p342KCZwfqVA0CfwFuaH0BKcRLHNWlIZN/9pO++TZu5EpE7Ez6Bv4ZFlUhbwacExEfzqMF69bEwQ2HAN/J219l8Vq6fSnQ7CbpwvxH7qOkxewBbgbeXHNt4WIi4uAc0yp5/wHgk5LOiogZku4pENM/5GT5axExFaDwhwCkGqYl3s+SFrbN7VenXwPH0qzmUhvb3tihbA1Sf+T9JF1ad0CZlziaYO6VVHdzaLeOBl7f1g/kxoi4FDgvP+o2PSK+QkpcW9vk/bULxNO6d6ftTvu1yQnXEp1xI2LFAjW/RMRRwObAv0m6I5etB5yY56HaH1i/7riAGyLiZlKz9w/zpKWl3RoRe0s6o1oYEe+gXN+Zz9G85lIbwyS9q1N5/nswG9ii3oieVfsSR07EympcTVjFip0640q6K09tUcJHKtvXtR1r369L42rpIuJKSa/O2/8jqTp44RoWr7Wry9uBl6my+LCkOyJiN+DPwJ4FYoKUwL+ONODiMxFxFakT83mSSjW7HUiqed6XxZekmQy8qVBMTWwutXFI0t0FP2OGTBBHkxOxsrYd+ZRins5Llyy2UHT+tlJ7jUr2fWCqpD9XCyNiGuU6obcWIq8uQk7er32dwuw5le2N2o6VSv4XVpOwFklPRMR8Sed3etJok7SQNG3NRXmG/R1YtFLCJZJqn3NN0nxgi0iLMrf6Z85R26LNNWtic6mNQxERQOlVLWrtH+1ErKDWaLaGOhL4eUQcx+Lfyg8DDi0U01eAC1myavjVwHbAe2uPCP65wD1H0rhaOmB+RGzbnkzkZGN+oZgWI+mpiLiVNLHzphT+3eY+MqX6ybRrYnOpjWGRFrdv/3u0BmkexnfUH1FSon+0EzHrSNKPIuJO4EMsWmj4VmA3Sb8vFNamkg5oL5R0bkQcUyKgoQZ95KWh9gBKDAoZiIg3kSZKrXY07QNWKxAPpEED50XElSye2G9FGiJeTETMINWC7UGqTTwT+I/WnHUGNLO51Ma2E9r2B0mrSdyugmv1UqB/tBMxG1JOuIrPCF0xZZhjRWZnzx2WDyT1NTofuBg4iJTA/p7Flxqqyy9YlNy0dzy9ov5wQNItubp/TxZV918BvKdTk2VdIuLXpN/dbGB/SdeP8JQJqaHNpTaGSfpF6RiGUHv/aCdi1lHb5I1LKDSB4/0Rsbmka6qFEfFKUofvEv4HeIg0wey7SUP5+0hrc95QIqASnU1HUlkVYdYIqyLU7TDgl536P1VFxOGSPlNTTI3VsOZSG8MiYj9gDUmfz/vzgFVJfz8/IumbhUKrvX+0EzEbyqtI68mdCVxNM0Z4fgSYHRGnsXjzyN6kpqUS1pP0MoCIOAW4F3hh4VqeNwI3VmaK/yTwFlIz6cGS7iwQVlerItRNUrc1hLuS+oyYWW/8JzCzsv9nSdPz8mIXAaUSsdr7R5dcbNea7R9ItTsbAScCrwf+IukXpaqUc03YFqSk8J350QdsIenqEjEBf29t5BF480omYdmx5BrCiNiJ1PF1X1LTaak/bo2cb20pjIUYzcaSPkkPVPZ/AJD/fk4uE9KzKxHsCmxDmrD4NOC1pP7RHVcpWF6uEbOOclJxIXBhREwidWS+PCI+VWjZnlZc95G+sTTFKyKitVRPHzA577fW4Fu1QEyDkh7P228GTs19n66PiPcViAeaOZJzaYyFGM3GkoHqjqTj4NmBTs8vElG6/3GSPkaN/aOdiNmQcgK2IykJW4c0fcS5BeO5jKE/EAcl1T4vm6T+uu/Zhb6IeC7wOGmuum9Ujq1SJqRGroqwNFwjZtZbP4uIYyQd0VZ+NGkt01JmUvOyXU7ErKOIOIPULDkH+FTJNQorPtyhbEvS+oX31xxLk30ZuAF4BLhN0nUAEbEJqQ9bCU1cFWFYEfFKSdfm3R8UDcZs/PkIcEpEzCWNMAd4Benvwf7FooL+iFidIb58jcb8n32Dg65xtyVFxDPAX/Nu9U1SssntWRHxGuATpBqeYyX9tGQ8TRMRawMvAH4v6ZlcthawUms0UES8VNItBcMkx7HECKVSImJDUg3wHsACSZsVDslsXMtrzramRLlV0v8WjudJ0iTTnRKxQUk9XzHFiZiNKRGxPXAEaQmMYyVdVjikMSsifiupttGKEfEqUjPkFZLuj4iXk0Yi/ZukGXXF0SGudViUfP0deBGwWae5hMysNyLiHZK+k7e3kvSryrGDSvVFjojfSdqkznt61KSNGRFxLfDfwFmk5siHI+JfWo+y0Y1JtfV7iojPA7NI02hckFdC+BlpapQN6oqjQ1y/AS4gddN4i6RNgUedhJmNukMq219tO7ZvnYGU5j5iNpb8FXgMeGt+VA2Shhtb9+qsDt8R2ETS33L/i3uAjRqQ8NxHqqVbE5gG3I5HSJrVoalT2pzYzUkR8VVJ7x/5zJE5EbMxQ9LWpWOwZfa31vxqkh6KiNsbkIQhaZeIWI00zcdREbEBaX3OJVZwMLOeauSUNpJO6/LUrXp1TydiNmZExEclfS5v7yrpB5VjrblfrHt1Lqy7XtuyWetW9wstmdW698PAt4FvR8QLgN2AL+VBBMX6rpmNcy+JiBtJtV8vztvk/Z53iG8yJ2I2luwOfC5vH87iUwrUPvdLU3XoLzdIWhXhnmqhpC3ri4qd2/a/UOO9h9SewEu6H/ga8LW8tpyZjY5/Lh1AUzgRs7GkqX0KmqZTkrNGRKwM7FFoMfI7mzJFRZshE/jWWp1m1ntD/f/KM+vvQVobt8l69pnjRMzGkkb2KWgaSa/tVB4Rm5FWR/j3eiMC4Efkhb0j4oeS3lIghk5qn7zRzCAiVgUOJA2WOR+4GDgI+BBpgtfvlosuyTEi6ZEOh7vq1N8NJ2I2lrTWdayu6UjeL7V0z5gh6bq89FEJ1USnSf0/XgJczxCTN9KsWM3Gk/8BHgJ+A7ybVDPdB+xSqNb+WRHxQdLM/6uQloz7C/BJSWdFxAxJ9yxFp/4RORGzMaOh6zqOGRGxJuVqDoerzSzp1ronbzQzANaT9DKAiDiFtPzaC1ujq0uJiCOBLUgTTd+Ry9YDTsz9RvcH1u/lPZ2I2ZgREWu0FQ2SlqFp0gd7cRHxVZZMdtYA/hU4uP6IgOFrM4svmWVmtft7a0PSwoiYVzoJy94BvKwai6Q7ImI34M/Anr2+oRMxG0uuJyUY1WakqRFxA/DuJsxL1RDti2gPAg8Ah+RRgbVrcG1mx34eEbEK8MbqFClm1lOvaPtCNrnyZa3kl7OFnRJCSU9ExHxJ53d60vLwWpM25kXEm4EDJM0sHUtTRMTGpOrzWyTdVjqesSAi+oHtSSO2tgN+Kal9BQczG8ci4hLgOEmXtJVvAxwhqecruDgRs3Gh7gWsmywiPgHsRapB3AL4jKSTy0bVXBHxGlJzwxuAa0gzZq8n6fGigZlZ7SLipcB5wJWkv6Hw/9u7l1CryjCM488hJCQqhKxBKd3osQuWkJEE0YVGiUTljRpF1KwyKG3UZRJ0ITAoCgpqIAVJihDmRDoRNDNMw4ciozLElBpkqaQ2WGvnZrOPRZx1+Tr/HxxYF/B7B4fD61rfel7pelV/F5Yl+Wq612ToN4pXfwnI7/IpqyRdl2S1pMWSHuq4nt6y/aOk51X90b2qjtX4gyYMmJmS7JZ0jaRJSRfXP5OqZuNOexMmsUcMBbH9+JjLcyQtU5WGhWzdkQAABEJJREFUjsrRQSOR5FAdkIjxPpB0l6SVko7b3qx+fdUJoEW2FyTZI+lt22cmOTp078Ykn0/3mjRiKMnZI+cnJe2XdH+SLzuop6+G5zoO5rj1Yq5j3yR5zPYaSbeo2hv2gqRz6y+kPkryW5f1AWjdBtXh06oyzoa3vLw2cj4taMRQjCTPDo7/IfF4phud6/hSJ1UUoo4/2S5pu+1ZqsYerVL1R/e8LmsD0LrWR+nRiKEoth+V9KTqJH3bhzSSeNxpgT2Q5JOp7tm+qc1aSmJ7riQl2SJpi+3ZHZcEoH2tj9KjEUMxbD8j6Qa1mHhcojqGYYWqGW5bk+yyvVTVCJHZkkiSr9mekPS0qhl3Z9TX/pT0apLnuqwNQCcusr1e1dOvwbHq8wubWJBGDCW5Ty0nHhfqLUnzVEUxrLf9k6rPr9cl2dRpZf2zRtVn6YuT7JX+bu5ft70mySudVgegbU8MHY+GY4+eTwtyxFAM23uSLJjiXpK47Zr6yPYuSQuTnKgT4vdLuizJoY5L6x3bOyTdkeTgyPW5krYxhxLAgO35Sb6f7n+Xz9pRkn22bx+9WCce7+ugnr46luSEJNVPD7+lCZvSrNEmTJKS/CxpVgf1AOiY7SW277V9fn2+0PYGSZ81sR6vJlGSRyRttj028bizqvpnge2d9fEgvmJnfXwiybXdldY7x/7jPQD/Q7ZflLRU0heS1tr+WNKDqoKfH2hiTRoxFCPJbtvXqNoLdnV9eVLSw+OGtM5gV465NqFq39hTLdfSd8ODh4dNqP4yF8CMcqekRUmO2J4j6QdVqfrfNbUge8RQjKHEY7WVeFw624tUNa7LJe2VtDEJUwgAYIzRucW2dzS9V5QnYihJ64nHJbJ9haqU+NWSDkp6X9JEkls7LQwA+m94MokkXdL0ZBIaMZSk9cTjQu2R9KmkpUm+kaR6jA8A4PRGJ5O83PSCNGIoSeuJx4W6W9WInu22t0p6TzSqAPBv7G0iouJ02COGYtg+oFNNxcr6WPX5iiQXdFVbH9k+S9X/7lZLuk3Su5I+TLKt08IAoKeG94jZ3pjknqbX5IkYStJ64nHJkhxWta9uQ/31z3JJayXRiAHAeMNvDy5tY0EaMRQjyTtT3bM9v81aSpPkF0lv1j8AgPFOtwWmEbyaRFFsL1E1eHUyyQHbCyWtUzUIfF631QEASmb7uKTDqp6MzZb0e31rQtLJJOdM95o0YijGSOLx5ZKGE4/fINQVAFAaXk2iJK0nHgMA0CSGfqMkRwZPveo9T1/ThAEASsarSRTD9q+qZksO3Dx83kTiMQAATeLVJErSeuIxAABNohFDSVpPPAYAoEnsEUNJNg0ObG/sshAAAKYDjRhK0nriMQAATaIRQ0laTzwGAKBJfDWJYnSReAwAQJNoxAAAADrCq0kAAICO0IgBAAB0hEYMAACgIzRiAAAAHaERAwAA6MhfxdZXO2QyIKUAAAAASUVORK5CYII=\n",
      "text/plain": [
       "<Figure size 720x360 with 1 Axes>"
      ]
     },
     "metadata": {
      "needs_background": "light"
     },
     "output_type": "display_data"
    }
   ],
   "source": [
    "check_null(test)"
   ]
  },
  {
   "cell_type": "markdown",
   "metadata": {},
   "source": [
    "> There are a lot of null values in the dataset"
   ]
  },
  {
   "cell_type": "markdown",
   "metadata": {},
   "source": [
    "> Check for outliers"
   ]
  },
  {
   "cell_type": "code",
   "execution_count": 26,
   "metadata": {},
   "outputs": [],
   "source": [
    "def check_outliers(data, show_plot=False, save_img=os.getcwd()+'/outliers.png'):\n",
    " \n",
    "        \"\"\"\n",
    "        This functions checks for columns with outlers using the IQR method\n",
    "\n",
    "        It accespts as argmuent a dataset. \n",
    "        show_plot can be set to True to output pairplots of outlier columns    \n",
    "        \"\"\"\n",
    "\n",
    "        outliers = [] \n",
    "        Q1 = data.quantile(0.25)  \n",
    "        Q3 = data.quantile(0.75)\n",
    "        IQR = Q3 - Q1\n",
    "        num_data = data.select_dtypes(include='number')\n",
    "        result = dict ((((num_data < (Q1 - 1.5 * IQR)) | (num_data > (Q3 + 1.5 * IQR)))==True).any())\n",
    "        #data[(data[col] >= high)|(data[col] <= low)].index\n",
    "        index = data[(num_data < Q1 - 1.5 * IQR) | (num_data > Q3 + 1.5 * IQR)].index\n",
    "        for k,v in result.items():\n",
    "            if v == True:  \n",
    "                outliers.append(k)\n",
    "        if show_plot:\n",
    "            outlier_pair_plot = sns.pairplot(data[outliers]);\n",
    "            print(f'{result},\\n\\n Visualization of outlier columns')\n",
    "            plt.savefig(fname=save_img, format='png')\n",
    "            return  outlier_pair_plot\n",
    "        else:\n",
    "            return data.loc[index, outliers] "
   ]
  },
  {
   "cell_type": "markdown",
   "metadata": {},
   "source": [
    "outliers in train set"
   ]
  },
  {
   "cell_type": "code",
   "execution_count": 27,
   "metadata": {},
   "outputs": [],
   "source": [
    "train_outliers = check_outliers(train, show_plot=False)"
   ]
  },
  {
   "cell_type": "code",
   "execution_count": 28,
   "metadata": {},
   "outputs": [
    {
     "data": {
      "text/html": [
       "<div>\n",
       "<style scoped>\n",
       "    .dataframe tbody tr th:only-of-type {\n",
       "        vertical-align: middle;\n",
       "    }\n",
       "\n",
       "    .dataframe tbody tr th {\n",
       "        vertical-align: top;\n",
       "    }\n",
       "\n",
       "    .dataframe thead th {\n",
       "        text-align: right;\n",
       "    }\n",
       "</style>\n",
       "<table border=\"1\" class=\"dataframe\">\n",
       "  <thead>\n",
       "    <tr style=\"text-align: right;\">\n",
       "      <th></th>\n",
       "      <th>MONTANT</th>\n",
       "      <th>FREQUENCE_RECH</th>\n",
       "      <th>REVENUE</th>\n",
       "      <th>ARPU_SEGMENT</th>\n",
       "      <th>FREQUENCE</th>\n",
       "      <th>DATA_VOLUME</th>\n",
       "      <th>ON_NET</th>\n",
       "      <th>ORANGE</th>\n",
       "      <th>TIGO</th>\n",
       "      <th>ZONE1</th>\n",
       "      <th>ZONE2</th>\n",
       "      <th>FREQ_TOP_PACK</th>\n",
       "      <th>CHURN</th>\n",
       "    </tr>\n",
       "  </thead>\n",
       "  <tbody>\n",
       "    <tr>\n",
       "      <th>542316</th>\n",
       "      <td>NaN</td>\n",
       "      <td>NaN</td>\n",
       "      <td>NaN</td>\n",
       "      <td>NaN</td>\n",
       "      <td>NaN</td>\n",
       "      <td>NaN</td>\n",
       "      <td>NaN</td>\n",
       "      <td>NaN</td>\n",
       "      <td>NaN</td>\n",
       "      <td>NaN</td>\n",
       "      <td>NaN</td>\n",
       "      <td>NaN</td>\n",
       "      <td>1</td>\n",
       "    </tr>\n",
       "    <tr>\n",
       "      <th>59878</th>\n",
       "      <td>11650.0</td>\n",
       "      <td>30.0</td>\n",
       "      <td>11682.0</td>\n",
       "      <td>3894.0</td>\n",
       "      <td>32.0</td>\n",
       "      <td>7119.0</td>\n",
       "      <td>23.0</td>\n",
       "      <td>468.0</td>\n",
       "      <td>54.0</td>\n",
       "      <td>0.0</td>\n",
       "      <td>NaN</td>\n",
       "      <td>18.0</td>\n",
       "      <td>0</td>\n",
       "    </tr>\n",
       "    <tr>\n",
       "      <th>10729</th>\n",
       "      <td>1000.0</td>\n",
       "      <td>2.0</td>\n",
       "      <td>1000.0</td>\n",
       "      <td>333.0</td>\n",
       "      <td>2.0</td>\n",
       "      <td>NaN</td>\n",
       "      <td>7.0</td>\n",
       "      <td>45.0</td>\n",
       "      <td>NaN</td>\n",
       "      <td>NaN</td>\n",
       "      <td>NaN</td>\n",
       "      <td>2.0</td>\n",
       "      <td>0</td>\n",
       "    </tr>\n",
       "    <tr>\n",
       "      <th>456437</th>\n",
       "      <td>500.0</td>\n",
       "      <td>1.0</td>\n",
       "      <td>480.0</td>\n",
       "      <td>160.0</td>\n",
       "      <td>4.0</td>\n",
       "      <td>1875.0</td>\n",
       "      <td>14.0</td>\n",
       "      <td>1.0</td>\n",
       "      <td>NaN</td>\n",
       "      <td>NaN</td>\n",
       "      <td>NaN</td>\n",
       "      <td>2.0</td>\n",
       "      <td>0</td>\n",
       "    </tr>\n",
       "    <tr>\n",
       "      <th>273902</th>\n",
       "      <td>11150.0</td>\n",
       "      <td>34.0</td>\n",
       "      <td>11750.0</td>\n",
       "      <td>3917.0</td>\n",
       "      <td>40.0</td>\n",
       "      <td>789.0</td>\n",
       "      <td>125.0</td>\n",
       "      <td>303.0</td>\n",
       "      <td>29.0</td>\n",
       "      <td>0.0</td>\n",
       "      <td>NaN</td>\n",
       "      <td>31.0</td>\n",
       "      <td>0</td>\n",
       "    </tr>\n",
       "    <tr>\n",
       "      <th>...</th>\n",
       "      <td>...</td>\n",
       "      <td>...</td>\n",
       "      <td>...</td>\n",
       "      <td>...</td>\n",
       "      <td>...</td>\n",
       "      <td>...</td>\n",
       "      <td>...</td>\n",
       "      <td>...</td>\n",
       "      <td>...</td>\n",
       "      <td>...</td>\n",
       "      <td>...</td>\n",
       "      <td>...</td>\n",
       "      <td>...</td>\n",
       "    </tr>\n",
       "    <tr>\n",
       "      <th>595806</th>\n",
       "      <td>2000.0</td>\n",
       "      <td>3.0</td>\n",
       "      <td>1992.0</td>\n",
       "      <td>664.0</td>\n",
       "      <td>4.0</td>\n",
       "      <td>20.0</td>\n",
       "      <td>166.0</td>\n",
       "      <td>10.0</td>\n",
       "      <td>NaN</td>\n",
       "      <td>NaN</td>\n",
       "      <td>NaN</td>\n",
       "      <td>1.0</td>\n",
       "      <td>1</td>\n",
       "    </tr>\n",
       "    <tr>\n",
       "      <th>431674</th>\n",
       "      <td>1250.0</td>\n",
       "      <td>9.0</td>\n",
       "      <td>1360.0</td>\n",
       "      <td>453.0</td>\n",
       "      <td>18.0</td>\n",
       "      <td>0.0</td>\n",
       "      <td>6.0</td>\n",
       "      <td>6.0</td>\n",
       "      <td>NaN</td>\n",
       "      <td>NaN</td>\n",
       "      <td>NaN</td>\n",
       "      <td>NaN</td>\n",
       "      <td>0</td>\n",
       "    </tr>\n",
       "    <tr>\n",
       "      <th>317264</th>\n",
       "      <td>NaN</td>\n",
       "      <td>NaN</td>\n",
       "      <td>NaN</td>\n",
       "      <td>NaN</td>\n",
       "      <td>NaN</td>\n",
       "      <td>0.0</td>\n",
       "      <td>NaN</td>\n",
       "      <td>NaN</td>\n",
       "      <td>NaN</td>\n",
       "      <td>NaN</td>\n",
       "      <td>NaN</td>\n",
       "      <td>NaN</td>\n",
       "      <td>0</td>\n",
       "    </tr>\n",
       "    <tr>\n",
       "      <th>41214</th>\n",
       "      <td>2500.0</td>\n",
       "      <td>5.0</td>\n",
       "      <td>2500.0</td>\n",
       "      <td>833.0</td>\n",
       "      <td>4.0</td>\n",
       "      <td>0.0</td>\n",
       "      <td>3.0</td>\n",
       "      <td>68.0</td>\n",
       "      <td>0.0</td>\n",
       "      <td>NaN</td>\n",
       "      <td>NaN</td>\n",
       "      <td>2.0</td>\n",
       "      <td>0</td>\n",
       "    </tr>\n",
       "    <tr>\n",
       "      <th>334910</th>\n",
       "      <td>NaN</td>\n",
       "      <td>NaN</td>\n",
       "      <td>NaN</td>\n",
       "      <td>NaN</td>\n",
       "      <td>NaN</td>\n",
       "      <td>NaN</td>\n",
       "      <td>NaN</td>\n",
       "      <td>NaN</td>\n",
       "      <td>NaN</td>\n",
       "      <td>NaN</td>\n",
       "      <td>NaN</td>\n",
       "      <td>NaN</td>\n",
       "      <td>1</td>\n",
       "    </tr>\n",
       "  </tbody>\n",
       "</table>\n",
       "<p>258486 rows × 13 columns</p>\n",
       "</div>"
      ],
      "text/plain": [
       "        MONTANT  FREQUENCE_RECH  REVENUE  ARPU_SEGMENT  FREQUENCE  \\\n",
       "542316      NaN             NaN      NaN           NaN        NaN   \n",
       "59878   11650.0            30.0  11682.0        3894.0       32.0   \n",
       "10729    1000.0             2.0   1000.0         333.0        2.0   \n",
       "456437    500.0             1.0    480.0         160.0        4.0   \n",
       "273902  11150.0            34.0  11750.0        3917.0       40.0   \n",
       "...         ...             ...      ...           ...        ...   \n",
       "595806   2000.0             3.0   1992.0         664.0        4.0   \n",
       "431674   1250.0             9.0   1360.0         453.0       18.0   \n",
       "317264      NaN             NaN      NaN           NaN        NaN   \n",
       "41214    2500.0             5.0   2500.0         833.0        4.0   \n",
       "334910      NaN             NaN      NaN           NaN        NaN   \n",
       "\n",
       "        DATA_VOLUME  ON_NET  ORANGE  TIGO  ZONE1  ZONE2  FREQ_TOP_PACK  CHURN  \n",
       "542316          NaN     NaN     NaN   NaN    NaN    NaN            NaN      1  \n",
       "59878        7119.0    23.0   468.0  54.0    0.0    NaN           18.0      0  \n",
       "10729           NaN     7.0    45.0   NaN    NaN    NaN            2.0      0  \n",
       "456437       1875.0    14.0     1.0   NaN    NaN    NaN            2.0      0  \n",
       "273902        789.0   125.0   303.0  29.0    0.0    NaN           31.0      0  \n",
       "...             ...     ...     ...   ...    ...    ...            ...    ...  \n",
       "595806         20.0   166.0    10.0   NaN    NaN    NaN            1.0      1  \n",
       "431674          0.0     6.0     6.0   NaN    NaN    NaN            NaN      0  \n",
       "317264          0.0     NaN     NaN   NaN    NaN    NaN            NaN      0  \n",
       "41214           0.0     3.0    68.0   0.0    NaN    NaN            2.0      0  \n",
       "334910          NaN     NaN     NaN   NaN    NaN    NaN            NaN      1  \n",
       "\n",
       "[258486 rows x 13 columns]"
      ]
     },
     "execution_count": 28,
     "metadata": {},
     "output_type": "execute_result"
    }
   ],
   "source": [
    "train_outliers"
   ]
  },
  {
   "cell_type": "markdown",
   "metadata": {},
   "source": [
    "> most columns in the train set contain outlier values"
   ]
  },
  {
   "cell_type": "markdown",
   "metadata": {},
   "source": [
    "outliers in test set"
   ]
  },
  {
   "cell_type": "code",
   "execution_count": 29,
   "metadata": {},
   "outputs": [],
   "source": [
    "test_outliers = check_outliers(test, show_plot=False) "
   ]
  },
  {
   "cell_type": "code",
   "execution_count": 30,
   "metadata": {},
   "outputs": [
    {
     "data": {
      "text/html": [
       "<div>\n",
       "<style scoped>\n",
       "    .dataframe tbody tr th:only-of-type {\n",
       "        vertical-align: middle;\n",
       "    }\n",
       "\n",
       "    .dataframe tbody tr th {\n",
       "        vertical-align: top;\n",
       "    }\n",
       "\n",
       "    .dataframe thead th {\n",
       "        text-align: right;\n",
       "    }\n",
       "</style>\n",
       "<table border=\"1\" class=\"dataframe\">\n",
       "  <thead>\n",
       "    <tr style=\"text-align: right;\">\n",
       "      <th></th>\n",
       "      <th>MONTANT</th>\n",
       "      <th>FREQUENCE_RECH</th>\n",
       "      <th>REVENUE</th>\n",
       "      <th>ARPU_SEGMENT</th>\n",
       "      <th>FREQUENCE</th>\n",
       "      <th>DATA_VOLUME</th>\n",
       "      <th>ON_NET</th>\n",
       "      <th>ORANGE</th>\n",
       "      <th>TIGO</th>\n",
       "      <th>ZONE1</th>\n",
       "      <th>ZONE2</th>\n",
       "      <th>FREQ_TOP_PACK</th>\n",
       "    </tr>\n",
       "  </thead>\n",
       "  <tbody>\n",
       "    <tr>\n",
       "      <th>105281</th>\n",
       "      <td>NaN</td>\n",
       "      <td>NaN</td>\n",
       "      <td>NaN</td>\n",
       "      <td>NaN</td>\n",
       "      <td>NaN</td>\n",
       "      <td>0.0</td>\n",
       "      <td>NaN</td>\n",
       "      <td>NaN</td>\n",
       "      <td>NaN</td>\n",
       "      <td>NaN</td>\n",
       "      <td>NaN</td>\n",
       "      <td>NaN</td>\n",
       "    </tr>\n",
       "    <tr>\n",
       "      <th>22722</th>\n",
       "      <td>7900.0</td>\n",
       "      <td>16.0</td>\n",
       "      <td>7900.0</td>\n",
       "      <td>2633.0</td>\n",
       "      <td>15.0</td>\n",
       "      <td>25.0</td>\n",
       "      <td>228.0</td>\n",
       "      <td>271.0</td>\n",
       "      <td>5.0</td>\n",
       "      <td>NaN</td>\n",
       "      <td>NaN</td>\n",
       "      <td>14.0</td>\n",
       "    </tr>\n",
       "    <tr>\n",
       "      <th>76446</th>\n",
       "      <td>NaN</td>\n",
       "      <td>NaN</td>\n",
       "      <td>NaN</td>\n",
       "      <td>NaN</td>\n",
       "      <td>NaN</td>\n",
       "      <td>0.0</td>\n",
       "      <td>NaN</td>\n",
       "      <td>NaN</td>\n",
       "      <td>NaN</td>\n",
       "      <td>NaN</td>\n",
       "      <td>NaN</td>\n",
       "      <td>NaN</td>\n",
       "    </tr>\n",
       "    <tr>\n",
       "      <th>46673</th>\n",
       "      <td>NaN</td>\n",
       "      <td>NaN</td>\n",
       "      <td>NaN</td>\n",
       "      <td>NaN</td>\n",
       "      <td>NaN</td>\n",
       "      <td>0.0</td>\n",
       "      <td>NaN</td>\n",
       "      <td>NaN</td>\n",
       "      <td>NaN</td>\n",
       "      <td>NaN</td>\n",
       "      <td>NaN</td>\n",
       "      <td>NaN</td>\n",
       "    </tr>\n",
       "    <tr>\n",
       "      <th>7006</th>\n",
       "      <td>NaN</td>\n",
       "      <td>NaN</td>\n",
       "      <td>NaN</td>\n",
       "      <td>NaN</td>\n",
       "      <td>NaN</td>\n",
       "      <td>NaN</td>\n",
       "      <td>NaN</td>\n",
       "      <td>NaN</td>\n",
       "      <td>NaN</td>\n",
       "      <td>NaN</td>\n",
       "      <td>NaN</td>\n",
       "      <td>NaN</td>\n",
       "    </tr>\n",
       "    <tr>\n",
       "      <th>...</th>\n",
       "      <td>...</td>\n",
       "      <td>...</td>\n",
       "      <td>...</td>\n",
       "      <td>...</td>\n",
       "      <td>...</td>\n",
       "      <td>...</td>\n",
       "      <td>...</td>\n",
       "      <td>...</td>\n",
       "      <td>...</td>\n",
       "      <td>...</td>\n",
       "      <td>...</td>\n",
       "      <td>...</td>\n",
       "    </tr>\n",
       "    <tr>\n",
       "      <th>21241</th>\n",
       "      <td>11800.0</td>\n",
       "      <td>36.0</td>\n",
       "      <td>12105.0</td>\n",
       "      <td>4035.0</td>\n",
       "      <td>48.0</td>\n",
       "      <td>9177.0</td>\n",
       "      <td>32.0</td>\n",
       "      <td>0.0</td>\n",
       "      <td>5.0</td>\n",
       "      <td>NaN</td>\n",
       "      <td>NaN</td>\n",
       "      <td>37.0</td>\n",
       "    </tr>\n",
       "    <tr>\n",
       "      <th>97894</th>\n",
       "      <td>NaN</td>\n",
       "      <td>NaN</td>\n",
       "      <td>NaN</td>\n",
       "      <td>NaN</td>\n",
       "      <td>NaN</td>\n",
       "      <td>48.0</td>\n",
       "      <td>NaN</td>\n",
       "      <td>NaN</td>\n",
       "      <td>NaN</td>\n",
       "      <td>NaN</td>\n",
       "      <td>NaN</td>\n",
       "      <td>NaN</td>\n",
       "    </tr>\n",
       "    <tr>\n",
       "      <th>69329</th>\n",
       "      <td>150.0</td>\n",
       "      <td>1.0</td>\n",
       "      <td>61.0</td>\n",
       "      <td>20.0</td>\n",
       "      <td>1.0</td>\n",
       "      <td>0.0</td>\n",
       "      <td>0.0</td>\n",
       "      <td>0.0</td>\n",
       "      <td>NaN</td>\n",
       "      <td>NaN</td>\n",
       "      <td>NaN</td>\n",
       "      <td>NaN</td>\n",
       "    </tr>\n",
       "    <tr>\n",
       "      <th>59182</th>\n",
       "      <td>12700.0</td>\n",
       "      <td>21.0</td>\n",
       "      <td>13698.0</td>\n",
       "      <td>4566.0</td>\n",
       "      <td>25.0</td>\n",
       "      <td>0.0</td>\n",
       "      <td>19.0</td>\n",
       "      <td>249.0</td>\n",
       "      <td>79.0</td>\n",
       "      <td>NaN</td>\n",
       "      <td>NaN</td>\n",
       "      <td>24.0</td>\n",
       "    </tr>\n",
       "    <tr>\n",
       "      <th>64154</th>\n",
       "      <td>7000.0</td>\n",
       "      <td>13.0</td>\n",
       "      <td>7001.0</td>\n",
       "      <td>2334.0</td>\n",
       "      <td>16.0</td>\n",
       "      <td>NaN</td>\n",
       "      <td>7.0</td>\n",
       "      <td>149.0</td>\n",
       "      <td>34.0</td>\n",
       "      <td>NaN</td>\n",
       "      <td>NaN</td>\n",
       "      <td>7.0</td>\n",
       "    </tr>\n",
       "  </tbody>\n",
       "</table>\n",
       "<p>45615 rows × 12 columns</p>\n",
       "</div>"
      ],
      "text/plain": [
       "        MONTANT  FREQUENCE_RECH  REVENUE  ARPU_SEGMENT  FREQUENCE  \\\n",
       "105281      NaN             NaN      NaN           NaN        NaN   \n",
       "22722    7900.0            16.0   7900.0        2633.0       15.0   \n",
       "76446       NaN             NaN      NaN           NaN        NaN   \n",
       "46673       NaN             NaN      NaN           NaN        NaN   \n",
       "7006        NaN             NaN      NaN           NaN        NaN   \n",
       "...         ...             ...      ...           ...        ...   \n",
       "21241   11800.0            36.0  12105.0        4035.0       48.0   \n",
       "97894       NaN             NaN      NaN           NaN        NaN   \n",
       "69329     150.0             1.0     61.0          20.0        1.0   \n",
       "59182   12700.0            21.0  13698.0        4566.0       25.0   \n",
       "64154    7000.0            13.0   7001.0        2334.0       16.0   \n",
       "\n",
       "        DATA_VOLUME  ON_NET  ORANGE  TIGO  ZONE1  ZONE2  FREQ_TOP_PACK  \n",
       "105281          0.0     NaN     NaN   NaN    NaN    NaN            NaN  \n",
       "22722          25.0   228.0   271.0   5.0    NaN    NaN           14.0  \n",
       "76446           0.0     NaN     NaN   NaN    NaN    NaN            NaN  \n",
       "46673           0.0     NaN     NaN   NaN    NaN    NaN            NaN  \n",
       "7006            NaN     NaN     NaN   NaN    NaN    NaN            NaN  \n",
       "...             ...     ...     ...   ...    ...    ...            ...  \n",
       "21241        9177.0    32.0     0.0   5.0    NaN    NaN           37.0  \n",
       "97894          48.0     NaN     NaN   NaN    NaN    NaN            NaN  \n",
       "69329           0.0     0.0     0.0   NaN    NaN    NaN            NaN  \n",
       "59182           0.0    19.0   249.0  79.0    NaN    NaN           24.0  \n",
       "64154           NaN     7.0   149.0  34.0    NaN    NaN            7.0  \n",
       "\n",
       "[45615 rows x 12 columns]"
      ]
     },
     "execution_count": 30,
     "metadata": {},
     "output_type": "execute_result"
    }
   ],
   "source": [
    "test_outliers"
   ]
  },
  {
   "cell_type": "markdown",
   "metadata": {},
   "source": [
    "> check for duplicate values"
   ]
  },
  {
   "cell_type": "code",
   "execution_count": 31,
   "metadata": {},
   "outputs": [
    {
     "data": {
      "text/plain": [
       "False"
      ]
     },
     "execution_count": 31,
     "metadata": {},
     "output_type": "execute_result"
    }
   ],
   "source": [
    "train.duplicated().any()"
   ]
  },
  {
   "cell_type": "code",
   "execution_count": 32,
   "metadata": {},
   "outputs": [
    {
     "data": {
      "text/plain": [
       "False"
      ]
     },
     "execution_count": 32,
     "metadata": {},
     "output_type": "execute_result"
    }
   ],
   "source": [
    "test.duplicated().any()"
   ]
  },
  {
   "cell_type": "markdown",
   "metadata": {},
   "source": [
    "> check for class imbalance"
   ]
  },
  {
   "cell_type": "code",
   "execution_count": 33,
   "metadata": {},
   "outputs": [
    {
     "name": "stdout",
     "output_type": "stream",
     "text": [
      "Class Imbalance\n",
      "\n",
      "0    209754\n",
      "1     48732\n",
      "Name: CHURN, dtype: int64 \n",
      "\n"
     ]
    },
    {
     "data": {
      "image/png": "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\n",
      "text/plain": [
       "<Figure size 432x288 with 1 Axes>"
      ]
     },
     "metadata": {
      "needs_background": "light"
     },
     "output_type": "display_data"
    }
   ],
   "source": [
    "print(\"Class Imbalance\\n\")\n",
    "print(train.CHURN.value_counts(), \"\\n\")\n",
    "train.CHURN.value_counts().plot.bar();"
   ]
  },
  {
   "cell_type": "markdown",
   "metadata": {},
   "source": [
    " "
   ]
  },
  {
   "cell_type": "markdown",
   "metadata": {},
   "source": [
    "> no null values "
   ]
  },
  {
   "cell_type": "markdown",
   "metadata": {},
   "source": [
    "##### Data Cleaning\n",
    "\n",
    "- Treat outliers with Median Imputation\n",
    "\n",
    "- Treat nul vlaues in numerical featurees with KNN, and categorical features with mode\n",
    "\n",
    "- Use Pipeline"
   ]
  },
  {
   "cell_type": "markdown",
   "metadata": {},
   "source": [
    "> Median Imputation for Outlier values"
   ]
  },
  {
   "cell_type": "code",
   "execution_count": 34,
   "metadata": {},
   "outputs": [],
   "source": [
    "def treat_numeric_outlier(data):\n",
    "    for col in data.columns.tolist():\n",
    "        if is_numeric_dtype(data[col]) == True: \n",
    "            median = data[col].quantile(0.50)\n",
    "            q1 = data[col].quantile(0.95)\n",
    "            q3 = data[col].quantile(0.05)\n",
    "            iqr = q3 - q1\n",
    "            high = int(q3 + 1.5 * iqr) \n",
    "            low = int(q1 - 1.5 * iqr)\n",
    "            data[col] = np.where(data[col] > high, median, data[col])\n",
    "            data[col] = np.where(data[col] > high, median, data[col]) \n",
    "    return data"
   ]
  },
  {
   "cell_type": "code",
   "execution_count": 35,
   "metadata": {},
   "outputs": [],
   "source": [
    "train = treat_numeric_outlier(train)"
   ]
  },
  {
   "cell_type": "code",
   "execution_count": 36,
   "metadata": {},
   "outputs": [
    {
     "data": {
      "text/html": [
       "<div>\n",
       "<style scoped>\n",
       "    .dataframe tbody tr th:only-of-type {\n",
       "        vertical-align: middle;\n",
       "    }\n",
       "\n",
       "    .dataframe tbody tr th {\n",
       "        vertical-align: top;\n",
       "    }\n",
       "\n",
       "    .dataframe thead th {\n",
       "        text-align: right;\n",
       "    }\n",
       "</style>\n",
       "<table border=\"1\" class=\"dataframe\">\n",
       "  <thead>\n",
       "    <tr style=\"text-align: right;\">\n",
       "      <th></th>\n",
       "    </tr>\n",
       "  </thead>\n",
       "  <tbody>\n",
       "    <tr>\n",
       "      <th>542316</th>\n",
       "    </tr>\n",
       "    <tr>\n",
       "      <th>59878</th>\n",
       "    </tr>\n",
       "    <tr>\n",
       "      <th>10729</th>\n",
       "    </tr>\n",
       "    <tr>\n",
       "      <th>456437</th>\n",
       "    </tr>\n",
       "    <tr>\n",
       "      <th>273902</th>\n",
       "    </tr>\n",
       "    <tr>\n",
       "      <th>...</th>\n",
       "    </tr>\n",
       "    <tr>\n",
       "      <th>595806</th>\n",
       "    </tr>\n",
       "    <tr>\n",
       "      <th>431674</th>\n",
       "    </tr>\n",
       "    <tr>\n",
       "      <th>317264</th>\n",
       "    </tr>\n",
       "    <tr>\n",
       "      <th>41214</th>\n",
       "    </tr>\n",
       "    <tr>\n",
       "      <th>334910</th>\n",
       "    </tr>\n",
       "  </tbody>\n",
       "</table>\n",
       "<p>258486 rows × 0 columns</p>\n",
       "</div>"
      ],
      "text/plain": [
       "Empty DataFrame\n",
       "Columns: []\n",
       "Index: [542316, 59878, 10729, 456437, 273902, 488291, 615958, 633495, 342886, 394791, 316340, 461939, 298082, 477804, 210844, 249950, 94968, 544050, 13632, 325720, 509868, 517963, 51163, 586379, 574663, 22480, 271884, 317166, 444057, 371308, 458889, 131664, 318450, 48429, 206495, 66964, 614519, 22423, 299492, 121017, 473661, 453099, 51003, 560697, 152900, 480504, 234935, 261525, 350339, 591456, 609187, 645532, 410581, 483213, 557141, 342309, 12078, 13610, 15514, 525268, 501765, 125738, 212230, 234318, 395145, 32589, 2916, 461572, 441206, 454108, 458587, 503289, 607429, 640815, 374888, 217451, 70907, 521819, 145234, 234559, 579376, 250156, 640569, 51467, 49309, 468723, 417387, 395957, 176532, 366634, 538921, 3116, 502465, 319688, 265632, 338569, 386005, 519535, 588629, 188656, ...]\n",
       "\n",
       "[258486 rows x 0 columns]"
      ]
     },
     "execution_count": 36,
     "metadata": {},
     "output_type": "execute_result"
    }
   ],
   "source": [
    "check_outliers(train)"
   ]
  },
  {
   "cell_type": "markdown",
   "metadata": {},
   "source": [
    "no more outlier values"
   ]
  },
  {
   "cell_type": "code",
   "execution_count": 37,
   "metadata": {},
   "outputs": [
    {
     "data": {
      "text/html": [
       "<div>\n",
       "<style scoped>\n",
       "    .dataframe tbody tr th:only-of-type {\n",
       "        vertical-align: middle;\n",
       "    }\n",
       "\n",
       "    .dataframe tbody tr th {\n",
       "        vertical-align: top;\n",
       "    }\n",
       "\n",
       "    .dataframe thead th {\n",
       "        text-align: right;\n",
       "    }\n",
       "</style>\n",
       "<table border=\"1\" class=\"dataframe\">\n",
       "  <thead>\n",
       "    <tr style=\"text-align: right;\">\n",
       "      <th></th>\n",
       "      <th>user_id</th>\n",
       "      <th>TENURE</th>\n",
       "      <th>MONTANT</th>\n",
       "      <th>FREQUENCE_RECH</th>\n",
       "      <th>REVENUE</th>\n",
       "      <th>ARPU_SEGMENT</th>\n",
       "      <th>FREQUENCE</th>\n",
       "      <th>DATA_VOLUME</th>\n",
       "      <th>ON_NET</th>\n",
       "      <th>ORANGE</th>\n",
       "      <th>TIGO</th>\n",
       "      <th>ZONE1</th>\n",
       "      <th>ZONE2</th>\n",
       "      <th>REGULARITY</th>\n",
       "      <th>FREQ_TOP_PACK</th>\n",
       "      <th>CHURN</th>\n",
       "    </tr>\n",
       "  </thead>\n",
       "  <tbody>\n",
       "    <tr>\n",
       "      <th>542316</th>\n",
       "      <td>16a8528ec3b1201f5cb8bfc35533744b79bd44d2</td>\n",
       "      <td>K &gt; 24 month</td>\n",
       "      <td>NaN</td>\n",
       "      <td>NaN</td>\n",
       "      <td>NaN</td>\n",
       "      <td>NaN</td>\n",
       "      <td>NaN</td>\n",
       "      <td>NaN</td>\n",
       "      <td>NaN</td>\n",
       "      <td>NaN</td>\n",
       "      <td>NaN</td>\n",
       "      <td>NaN</td>\n",
       "      <td>NaN</td>\n",
       "      <td>24.0</td>\n",
       "      <td>NaN</td>\n",
       "      <td>0.0</td>\n",
       "    </tr>\n",
       "    <tr>\n",
       "      <th>59878</th>\n",
       "      <td>3a8b710546fb6272a56908c2fcbcef20e2caa0cf</td>\n",
       "      <td>K &gt; 24 month</td>\n",
       "      <td>3000.0</td>\n",
       "      <td>7.0</td>\n",
       "      <td>3000.0</td>\n",
       "      <td>1000.0</td>\n",
       "      <td>9.0</td>\n",
       "      <td>265.0</td>\n",
       "      <td>27.0</td>\n",
       "      <td>29.0</td>\n",
       "      <td>6.0</td>\n",
       "      <td>1.0</td>\n",
       "      <td>NaN</td>\n",
       "      <td>24.0</td>\n",
       "      <td>5.0</td>\n",
       "      <td>0.0</td>\n",
       "    </tr>\n",
       "    <tr>\n",
       "      <th>10729</th>\n",
       "      <td>0f34b0bf4dac19dd901b7e03dd79cb79ed0b744a</td>\n",
       "      <td>K &gt; 24 month</td>\n",
       "      <td>3000.0</td>\n",
       "      <td>7.0</td>\n",
       "      <td>3000.0</td>\n",
       "      <td>1000.0</td>\n",
       "      <td>9.0</td>\n",
       "      <td>NaN</td>\n",
       "      <td>27.0</td>\n",
       "      <td>29.0</td>\n",
       "      <td>NaN</td>\n",
       "      <td>NaN</td>\n",
       "      <td>NaN</td>\n",
       "      <td>24.0</td>\n",
       "      <td>5.0</td>\n",
       "      <td>0.0</td>\n",
       "    </tr>\n",
       "    <tr>\n",
       "      <th>456437</th>\n",
       "      <td>dc34cfe39e89bddddf7f7550431681b6fc31e72e</td>\n",
       "      <td>K &gt; 24 month</td>\n",
       "      <td>3000.0</td>\n",
       "      <td>7.0</td>\n",
       "      <td>3000.0</td>\n",
       "      <td>1000.0</td>\n",
       "      <td>9.0</td>\n",
       "      <td>265.0</td>\n",
       "      <td>27.0</td>\n",
       "      <td>29.0</td>\n",
       "      <td>NaN</td>\n",
       "      <td>NaN</td>\n",
       "      <td>NaN</td>\n",
       "      <td>24.0</td>\n",
       "      <td>5.0</td>\n",
       "      <td>0.0</td>\n",
       "    </tr>\n",
       "    <tr>\n",
       "      <th>273902</th>\n",
       "      <td>3920ace4d36a498dde155bec15757407846258fc</td>\n",
       "      <td>K &gt; 24 month</td>\n",
       "      <td>3000.0</td>\n",
       "      <td>7.0</td>\n",
       "      <td>3000.0</td>\n",
       "      <td>1000.0</td>\n",
       "      <td>9.0</td>\n",
       "      <td>265.0</td>\n",
       "      <td>27.0</td>\n",
       "      <td>29.0</td>\n",
       "      <td>6.0</td>\n",
       "      <td>1.0</td>\n",
       "      <td>NaN</td>\n",
       "      <td>24.0</td>\n",
       "      <td>5.0</td>\n",
       "      <td>0.0</td>\n",
       "    </tr>\n",
       "    <tr>\n",
       "      <th>...</th>\n",
       "      <td>...</td>\n",
       "      <td>...</td>\n",
       "      <td>...</td>\n",
       "      <td>...</td>\n",
       "      <td>...</td>\n",
       "      <td>...</td>\n",
       "      <td>...</td>\n",
       "      <td>...</td>\n",
       "      <td>...</td>\n",
       "      <td>...</td>\n",
       "      <td>...</td>\n",
       "      <td>...</td>\n",
       "      <td>...</td>\n",
       "      <td>...</td>\n",
       "      <td>...</td>\n",
       "      <td>...</td>\n",
       "    </tr>\n",
       "    <tr>\n",
       "      <th>595806</th>\n",
       "      <td>9dc7101ddfa5c72246a03abc343258becbec6146</td>\n",
       "      <td>K &gt; 24 month</td>\n",
       "      <td>3000.0</td>\n",
       "      <td>7.0</td>\n",
       "      <td>3000.0</td>\n",
       "      <td>1000.0</td>\n",
       "      <td>9.0</td>\n",
       "      <td>265.0</td>\n",
       "      <td>27.0</td>\n",
       "      <td>29.0</td>\n",
       "      <td>NaN</td>\n",
       "      <td>NaN</td>\n",
       "      <td>NaN</td>\n",
       "      <td>24.0</td>\n",
       "      <td>5.0</td>\n",
       "      <td>0.0</td>\n",
       "    </tr>\n",
       "    <tr>\n",
       "      <th>431674</th>\n",
       "      <td>a9fc15e427b614735c9be65e5adfd0baf9924458</td>\n",
       "      <td>K &gt; 24 month</td>\n",
       "      <td>3000.0</td>\n",
       "      <td>7.0</td>\n",
       "      <td>3000.0</td>\n",
       "      <td>1000.0</td>\n",
       "      <td>9.0</td>\n",
       "      <td>265.0</td>\n",
       "      <td>27.0</td>\n",
       "      <td>29.0</td>\n",
       "      <td>NaN</td>\n",
       "      <td>NaN</td>\n",
       "      <td>NaN</td>\n",
       "      <td>24.0</td>\n",
       "      <td>NaN</td>\n",
       "      <td>0.0</td>\n",
       "    </tr>\n",
       "    <tr>\n",
       "      <th>317264</th>\n",
       "      <td>5352a2f194b0ebaa46c9a2c5dc3dc4e279023e92</td>\n",
       "      <td>K &gt; 24 month</td>\n",
       "      <td>NaN</td>\n",
       "      <td>NaN</td>\n",
       "      <td>NaN</td>\n",
       "      <td>NaN</td>\n",
       "      <td>NaN</td>\n",
       "      <td>265.0</td>\n",
       "      <td>NaN</td>\n",
       "      <td>NaN</td>\n",
       "      <td>NaN</td>\n",
       "      <td>NaN</td>\n",
       "      <td>NaN</td>\n",
       "      <td>24.0</td>\n",
       "      <td>NaN</td>\n",
       "      <td>0.0</td>\n",
       "    </tr>\n",
       "    <tr>\n",
       "      <th>41214</th>\n",
       "      <td>a9c3612adb1898c7a1226ef20be199038930fe45</td>\n",
       "      <td>K &gt; 24 month</td>\n",
       "      <td>3000.0</td>\n",
       "      <td>7.0</td>\n",
       "      <td>3000.0</td>\n",
       "      <td>1000.0</td>\n",
       "      <td>9.0</td>\n",
       "      <td>265.0</td>\n",
       "      <td>27.0</td>\n",
       "      <td>29.0</td>\n",
       "      <td>6.0</td>\n",
       "      <td>NaN</td>\n",
       "      <td>NaN</td>\n",
       "      <td>24.0</td>\n",
       "      <td>5.0</td>\n",
       "      <td>0.0</td>\n",
       "    </tr>\n",
       "    <tr>\n",
       "      <th>334910</th>\n",
       "      <td>e93663943655806a2f81cce4b04cfeb8973da6b7</td>\n",
       "      <td>H 15-18 month</td>\n",
       "      <td>NaN</td>\n",
       "      <td>NaN</td>\n",
       "      <td>NaN</td>\n",
       "      <td>NaN</td>\n",
       "      <td>NaN</td>\n",
       "      <td>NaN</td>\n",
       "      <td>NaN</td>\n",
       "      <td>NaN</td>\n",
       "      <td>NaN</td>\n",
       "      <td>NaN</td>\n",
       "      <td>NaN</td>\n",
       "      <td>24.0</td>\n",
       "      <td>NaN</td>\n",
       "      <td>0.0</td>\n",
       "    </tr>\n",
       "  </tbody>\n",
       "</table>\n",
       "<p>258486 rows × 16 columns</p>\n",
       "</div>"
      ],
      "text/plain": [
       "                                         user_id         TENURE  MONTANT  \\\n",
       "542316  16a8528ec3b1201f5cb8bfc35533744b79bd44d2   K > 24 month      NaN   \n",
       "59878   3a8b710546fb6272a56908c2fcbcef20e2caa0cf   K > 24 month   3000.0   \n",
       "10729   0f34b0bf4dac19dd901b7e03dd79cb79ed0b744a   K > 24 month   3000.0   \n",
       "456437  dc34cfe39e89bddddf7f7550431681b6fc31e72e   K > 24 month   3000.0   \n",
       "273902  3920ace4d36a498dde155bec15757407846258fc   K > 24 month   3000.0   \n",
       "...                                          ...            ...      ...   \n",
       "595806  9dc7101ddfa5c72246a03abc343258becbec6146   K > 24 month   3000.0   \n",
       "431674  a9fc15e427b614735c9be65e5adfd0baf9924458   K > 24 month   3000.0   \n",
       "317264  5352a2f194b0ebaa46c9a2c5dc3dc4e279023e92   K > 24 month      NaN   \n",
       "41214   a9c3612adb1898c7a1226ef20be199038930fe45   K > 24 month   3000.0   \n",
       "334910  e93663943655806a2f81cce4b04cfeb8973da6b7  H 15-18 month      NaN   \n",
       "\n",
       "        FREQUENCE_RECH  REVENUE  ARPU_SEGMENT  FREQUENCE  DATA_VOLUME  ON_NET  \\\n",
       "542316             NaN      NaN           NaN        NaN          NaN     NaN   \n",
       "59878              7.0   3000.0        1000.0        9.0        265.0    27.0   \n",
       "10729              7.0   3000.0        1000.0        9.0          NaN    27.0   \n",
       "456437             7.0   3000.0        1000.0        9.0        265.0    27.0   \n",
       "273902             7.0   3000.0        1000.0        9.0        265.0    27.0   \n",
       "...                ...      ...           ...        ...          ...     ...   \n",
       "595806             7.0   3000.0        1000.0        9.0        265.0    27.0   \n",
       "431674             7.0   3000.0        1000.0        9.0        265.0    27.0   \n",
       "317264             NaN      NaN           NaN        NaN        265.0     NaN   \n",
       "41214              7.0   3000.0        1000.0        9.0        265.0    27.0   \n",
       "334910             NaN      NaN           NaN        NaN          NaN     NaN   \n",
       "\n",
       "        ORANGE  TIGO  ZONE1  ZONE2  REGULARITY  FREQ_TOP_PACK  CHURN  \n",
       "542316     NaN   NaN    NaN    NaN        24.0            NaN    0.0  \n",
       "59878     29.0   6.0    1.0    NaN        24.0            5.0    0.0  \n",
       "10729     29.0   NaN    NaN    NaN        24.0            5.0    0.0  \n",
       "456437    29.0   NaN    NaN    NaN        24.0            5.0    0.0  \n",
       "273902    29.0   6.0    1.0    NaN        24.0            5.0    0.0  \n",
       "...        ...   ...    ...    ...         ...            ...    ...  \n",
       "595806    29.0   NaN    NaN    NaN        24.0            5.0    0.0  \n",
       "431674    29.0   NaN    NaN    NaN        24.0            NaN    0.0  \n",
       "317264     NaN   NaN    NaN    NaN        24.0            NaN    0.0  \n",
       "41214     29.0   6.0    NaN    NaN        24.0            5.0    0.0  \n",
       "334910     NaN   NaN    NaN    NaN        24.0            NaN    0.0  \n",
       "\n",
       "[258486 rows x 16 columns]"
      ]
     },
     "execution_count": 37,
     "metadata": {},
     "output_type": "execute_result"
    }
   ],
   "source": [
    "train"
   ]
  },
  {
   "cell_type": "markdown",
   "metadata": {},
   "source": [
    "> Create piepleinf to clean preprocess numeric and catgegorical vlaues"
   ]
  },
  {
   "cell_type": "code",
   "execution_count": 38,
   "metadata": {},
   "outputs": [
    {
     "data": {
      "text/plain": [
       "['TENURE']"
      ]
     },
     "execution_count": 38,
     "metadata": {},
     "output_type": "execute_result"
    }
   ],
   "source": [
    "cat_features = train.select_dtypes(include='object').drop('user_id', axis=1).columns.tolist()\n",
    "cat_features"
   ]
  },
  {
   "cell_type": "code",
   "execution_count": 39,
   "metadata": {},
   "outputs": [
    {
     "data": {
      "text/plain": [
       "['MONTANT',\n",
       " 'FREQUENCE_RECH',\n",
       " 'REVENUE',\n",
       " 'ARPU_SEGMENT',\n",
       " 'FREQUENCE',\n",
       " 'DATA_VOLUME',\n",
       " 'ON_NET',\n",
       " 'ORANGE',\n",
       " 'TIGO',\n",
       " 'ZONE1',\n",
       " 'ZONE2',\n",
       " 'REGULARITY',\n",
       " 'FREQ_TOP_PACK']"
      ]
     },
     "execution_count": 39,
     "metadata": {},
     "output_type": "execute_result"
    }
   ],
   "source": [
    "num_features = train.select_dtypes(include=['int64', 'float64']).drop('CHURN', axis=1).columns.tolist()\n",
    "num_features"
   ]
  },
  {
   "cell_type": "code",
   "execution_count": 50,
   "metadata": {},
   "outputs": [],
   "source": [
    "cat_transform = Pipeline(steps=[('imputer', SimpleImputer(strategy='most_frequent')),\n",
    "                               ('encode', OneHotEncoder())])\n",
    "\n",
    "num_transform= Pipeline(steps=[('scaler',RobustScaler()),\n",
    "                               ('imputer', KNNImputer(copy=False))])\n",
    "\n",
    "\n",
    "data_transform = ColumnTransformer(transformers=[('cat_transform', cat_transform,cat_features),\n",
    "                                                ('num_transform', num_transform, num_features)]\n",
    "                                  , remainder='passthrough', verbose=True)\n",
    "\n",
    "preprocess = Pipeline(steps=[('transform', data_transform)], verbose=True) "
   ]
  },
  {
   "cell_type": "code",
   "execution_count": 52,
   "metadata": {},
   "outputs": [],
   "source": [
    "# preprocess.fit_transform(train)  "
   ]
  },
  {
   "cell_type": "markdown",
   "metadata": {},
   "source": [
    "#### Modelling\n",
    "\n",
    "- Build Pipeline"
   ]
  },
  {
   "cell_type": "code",
   "execution_count": null,
   "metadata": {},
   "outputs": [],
   "source": [
    "# ('smote', SMOTE(random_state=123)"
   ]
  },
  {
   "cell_type": "code",
   "execution_count": null,
   "metadata": {},
   "outputs": [],
   "source": [
    "# def fill_na(data):\n",
    "#     for col in data.columns.tolist():\n",
    "#         if data[col].isna().any():\n",
    "#             data[col].fillna()\n",
    "            "
   ]
  },
  {
   "cell_type": "code",
   "execution_count": null,
   "metadata": {},
   "outputs": [],
   "source": [
    "def treat_outlier(data):\n",
    "    from sklearn.neighbors import LocalOutlierFactor\n",
    "    iso = IsolationForest(contamination='auto')\n",
    "    yhat = iso.fit_predict(data.select_dtypes(exclude='object'),) \n",
    "    print(yhat) \n",
    "    #select all rows that are not outliers\n",
    "    mask = yhat != -1 \n",
    "    data = data[mask] "
   ]
  },
  {
   "cell_type": "code",
   "execution_count": null,
   "metadata": {},
   "outputs": [],
   "source": [
    "# treat_outlier(train) "
   ]
  },
  {
   "cell_type": "code",
   "execution_count": null,
   "metadata": {},
   "outputs": [],
   "source": []
  }
 ],
 "metadata": {
  "kernelspec": {
   "display_name": "Python 3",
   "language": "python",
   "name": "python3"
  },
  "language_info": {
   "codemirror_mode": {
    "name": "ipython",
    "version": 3
   },
   "file_extension": ".py",
   "mimetype": "text/x-python",
   "name": "python",
   "nbconvert_exporter": "python",
   "pygments_lexer": "ipython3",
   "version": "3.6.9"
  }
 },
 "nbformat": 4,
 "nbformat_minor": 4
}
=======
  "cells": [
    {
      "cell_type": "markdown",
      "metadata": {
        "id": "view-in-github",
        "colab_type": "text"
      },
      "source": [
        "<a href=\"https://colab.research.google.com/github/Patrick5455/Customer-Churn-Prediction/blob/master/modelling/modelling.ipynb\" target=\"_parent\"><img src=\"https://colab.research.google.com/assets/colab-badge.svg\" alt=\"Open In Colab\"/></a>"
      ]
    },
    {
      "cell_type": "code",
      "metadata": {
        "id": "INjA0Wpk5qEg",
        "colab_type": "code",
        "colab": {}
      },
      "source": [
        "#Import some libraries\n",
        "import pandas as pd\n",
        "from pandas.api.types import is_string_dtype\n",
        "from pandas.api.types import is_numeric_dtype\n",
        "import numpy as np\n",
        "import matplotlib.pyplot as plt\n",
        "from pylab import rcParams \n",
        "import seaborn as sns\n",
        "import os\n",
        "sns.set_style('darkgrid')\n",
        "rcParams['figure.figsize'] = 8,8\n",
        "import warnings\n",
        "warnings.filterwarnings(\"ignore\")\n",
        "%matplotlib inline "
      ],
      "execution_count": null,
      "outputs": []
    },
    {
      "cell_type": "markdown",
      "metadata": {
        "id": "9rpGJeIe5qEx",
        "colab_type": "text"
      },
      "source": [
        "> Data Preprocessing"
      ]
    },
    {
      "cell_type": "code",
      "metadata": {
        "id": "U7-6OQgl5qE0",
        "colab_type": "code",
        "colab": {}
      },
      "source": [
        "from sklearn.preprocessing import StandardScaler, RobustScaler, OneHotEncoder, LabelEncoder\n",
        "from sklearn.pipeline import FeatureUnion, make_pipeline, Pipeline\n",
        "from sklearn.impute import KNNImputer\n",
        "from sklearn.model_selection import cross_val_predict, cross_val_score, GridSearchCV,RandomizedSearchCV\n",
        "from sklearn.impute import SimpleImputer\n",
        "from sklearn.compose import ColumnTransformer\n",
        "\n",
        "from sklearn.ensemble import IsolationForest\n",
        "from imblearn.over_sampling import SMOTE"
      ],
      "execution_count": null,
      "outputs": []
    },
    {
      "cell_type": "markdown",
      "metadata": {
        "id": "1yyH-vBc5qFD",
        "colab_type": "text"
      },
      "source": [
        "> > Project packages"
      ]
    },
    {
      "cell_type": "code",
      "metadata": {
        "id": "98q9INpN5qFF",
        "colab_type": "code",
        "colab": {}
      },
      "source": [
        "# from project_package.data_package import data\n",
        "# from project_package.model_package import model, model_metrics\n",
        "# from project_package.plot_package import bi_plot, uni_plot\n",
        "# "
      ],
      "execution_count": null,
      "outputs": []
    },
    {
      "cell_type": "code",
      "metadata": {
        "id": "a1LZQJEU5qFR",
        "colab_type": "code",
        "colab": {}
      },
      "source": [
        "# ?KNNImputer"
      ],
      "execution_count": null,
      "outputs": []
    },
    {
      "cell_type": "markdown",
      "metadata": {
        "id": "FonOxjCX5qFa",
        "colab_type": "text"
      },
      "source": [
        "> Load Datasets"
      ]
    },
    {
      "cell_type": "code",
      "metadata": {
        "id": "HkmRSVxf6aoJ",
        "colab_type": "code",
        "colab": {}
      },
      "source": [
        "#colab\n",
        "train = pd.read_csv('/content/AIMS_Train.csv')\n",
        "test=  pd.read_csv('/content/AIMS_Test.csv')\n",
        "submission = pd.read_csv('/content/AIMS_SampleSubmission.csv')\n",
        "variables = pd.read_csv('/content/VariableDefinitions.csv')"
      ],
      "execution_count": null,
      "outputs": []
    },
    {
      "cell_type": "code",
      "metadata": {
        "id": "Uptp-rMy5qFd",
        "colab_type": "code",
        "colab": {}
      },
      "source": [
        "#import data - jupyter localhost\n",
        "\n",
        "# train = pd.read_csv('../datasets/AIMS_Train.csv')\n",
        "# test=  pd.read_csv('../datasets/AIMS_Test.csv')\n",
        "# submission = pd.read_csv('../datasets/AIMS_SampleSubmission.csv')\n",
        "# variables = pd.read_csv('../datasets/VariableDefinitions.csv')"
      ],
      "execution_count": null,
      "outputs": []
    },
    {
      "cell_type": "code",
      "metadata": {
        "id": "czqrIF1d5qFl",
        "colab_type": "code",
        "colab": {}
      },
      "source": [
        "variables"
      ],
      "execution_count": null,
      "outputs": []
    },
    {
      "cell_type": "code",
      "metadata": {
        "id": "5gw8z5ta5qFy",
        "colab_type": "code",
        "colab": {}
      },
      "source": [
        "train.drop(columns=['REGION', 'MRG', 'TOP_PACK'], inplace=True) \n",
        "train = train.sample(frac=.3, random_state=123)\n",
        "train.head()"
      ],
      "execution_count": null,
      "outputs": []
    },
    {
      "cell_type": "code",
      "metadata": {
        "id": "012f_WXe5qF6",
        "colab_type": "code",
        "colab": {}
      },
      "source": [
        "train.tail()"
      ],
      "execution_count": null,
      "outputs": []
    },
    {
      "cell_type": "code",
      "metadata": {
        "id": "nhT-Bi-P5qGC",
        "colab_type": "code",
        "colab": {}
      },
      "source": [
        "train.shape"
      ],
      "execution_count": null,
      "outputs": []
    },
    {
      "cell_type": "code",
      "metadata": {
        "id": "24uxEMRb5qGK",
        "colab_type": "code",
        "colab": {}
      },
      "source": [
        "#view the data types in the train data\n",
        "train.info()"
      ],
      "execution_count": null,
      "outputs": []
    },
    {
      "cell_type": "code",
      "metadata": {
        "id": "7nPeA_Md5qGS",
        "colab_type": "code",
        "colab": {}
      },
      "source": [
        "test.drop(columns=['REGION', 'MRG', 'TOP_PACK'], inplace=True) \n",
        "test = test.sample(frac=.3, random_state=123)\n",
        "test.head()"
      ],
      "execution_count": null,
      "outputs": []
    },
    {
      "cell_type": "code",
      "metadata": {
        "id": "4DJt8j5R5qGc",
        "colab_type": "code",
        "colab": {}
      },
      "source": [
        "test.tail()"
      ],
      "execution_count": null,
      "outputs": []
    },
    {
      "cell_type": "code",
      "metadata": {
        "id": "6aoTo41-5qGk",
        "colab_type": "code",
        "colab": {}
      },
      "source": [
        "test.shape"
      ],
      "execution_count": null,
      "outputs": []
    },
    {
      "cell_type": "code",
      "metadata": {
        "id": "8QEAo6EW5qGs",
        "colab_type": "code",
        "colab": {}
      },
      "source": [
        "test.info()"
      ],
      "execution_count": null,
      "outputs": []
    },
    {
      "cell_type": "code",
      "metadata": {
        "id": "XOk0CzZ45qG0",
        "colab_type": "code",
        "colab": {}
      },
      "source": [
        "submission.head()"
      ],
      "execution_count": null,
      "outputs": []
    },
    {
      "cell_type": "code",
      "metadata": {
        "id": "xUjYKNuJ5qG9",
        "colab_type": "code",
        "colab": {}
      },
      "source": [
        "submission.shape"
      ],
      "execution_count": null,
      "outputs": []
    },
    {
      "cell_type": "markdown",
      "metadata": {
        "id": "V30H_oJb5qHC",
        "colab_type": "text"
      },
      "source": [
        "#### Data Wrangling"
      ]
    },
    {
      "cell_type": "markdown",
      "metadata": {
        "id": "7oru5bMB5qHE",
        "colab_type": "text"
      },
      "source": [
        "> rename columns to match english names"
      ]
    },
    {
      "cell_type": "code",
      "metadata": {
        "id": "4bF55i2G5qHG",
        "colab_type": "code",
        "colab": {}
      },
      "source": [
        "train.columns"
      ],
      "execution_count": null,
      "outputs": []
    },
    {
      "cell_type": "markdown",
      "metadata": {
        "id": "v7iFyLq75qHL",
        "colab_type": "text"
      },
      "source": [
        "> Calcualte umber of leels in categorical variables"
      ]
    },
    {
      "cell_type": "code",
      "metadata": {
        "id": "hWtInA045qHN",
        "colab_type": "code",
        "colab": {}
      },
      "source": [
        "def check_levels(data, exclude_cols=[]):\n",
        "    cat_cols = data.select_dtypes(include='object').columns.tolist()\n",
        "    \n",
        "    for col in cat_cols:\n",
        "        if col not in exclude_cols:\n",
        "            print('*-*'*10,'\\n')\n",
        "            print(data[col].value_counts())\n",
        "            plt.figure(figsize=(10,5))\n",
        "            plt.title(f\"Value Counts of {col}\", fontsize=15)\n",
        "            data[col].value_counts(normalize=True).plot(kind='bar')\n",
        "            print('*-*'*10,'\\n')\n",
        "            plt.ylabel('counts')\n",
        "            plt.xlabel(col)"
      ],
      "execution_count": null,
      "outputs": []
    },
    {
      "cell_type": "code",
      "metadata": {
        "id": "4Kfd8XQQ5qHT",
        "colab_type": "code",
        "colab": {}
      },
      "source": [
        "check_levels(train, exclude_cols=['user_id'])"
      ],
      "execution_count": null,
      "outputs": []
    },
    {
      "cell_type": "markdown",
      "metadata": {
        "id": "ucLceE9_5qHa",
        "colab_type": "text"
      },
      "source": [
        "Compute statistics for numerical variables"
      ]
    },
    {
      "cell_type": "code",
      "metadata": {
        "id": "RUdS0MsC5qHc",
        "colab_type": "code",
        "colab": {}
      },
      "source": [
        "train.describe() "
      ],
      "execution_count": null,
      "outputs": []
    },
    {
      "cell_type": "code",
      "metadata": {
        "id": "ehz1cm425qHk",
        "colab_type": "code",
        "colab": {}
      },
      "source": [
        ""
      ],
      "execution_count": null,
      "outputs": []
    },
    {
      "cell_type": "markdown",
      "metadata": {
        "id": "H_HGSe1m5qHs",
        "colab_type": "text"
      },
      "source": [
        "> Check for null values"
      ]
    },
    {
      "cell_type": "code",
      "metadata": {
        "id": "-L7TPp-q5qHu",
        "colab_type": "code",
        "colab": {}
      },
      "source": [
        "def check_null(data, plot=True):\n",
        "    print(data.isnull().sum())\n",
        "    if plot:\n",
        "        plt.figure(figsize=(10,5))\n",
        "        plt.title(f\"Null Values Count\", fontsize=15)\n",
        "        data.isnull().sum().plot.bar()"
      ],
      "execution_count": null,
      "outputs": []
    },
    {
      "cell_type": "code",
      "metadata": {
        "id": "ZIpuuiEv5qH0",
        "colab_type": "code",
        "colab": {}
      },
      "source": [
        "check_null(train)"
      ],
      "execution_count": null,
      "outputs": []
    },
    {
      "cell_type": "code",
      "metadata": {
        "id": "GwCWMz3t5qH9",
        "colab_type": "code",
        "colab": {}
      },
      "source": [
        "check_null(test)"
      ],
      "execution_count": null,
      "outputs": []
    },
    {
      "cell_type": "markdown",
      "metadata": {
        "id": "ICQj_cLD5qIC",
        "colab_type": "text"
      },
      "source": [
        "> There are a lot of null values in the dataset"
      ]
    },
    {
      "cell_type": "markdown",
      "metadata": {
        "id": "NuSF3_I05qIE",
        "colab_type": "text"
      },
      "source": [
        "> Check for outliers"
      ]
    },
    {
      "cell_type": "code",
      "metadata": {
        "id": "3LgUzde35qIG",
        "colab_type": "code",
        "colab": {}
      },
      "source": [
        "def check_outliers(data, show_plot=False, save_img=os.getcwd()+'/outliers.png'):\n",
        " \n",
        "        \"\"\"\n",
        "        This functions checks for columns with outlers using the IQR method\n",
        "\n",
        "        It accespts as argmuent a dataset. \n",
        "        show_plot can be set to True to output pairplots of outlier columns    \n",
        "        \"\"\"\n",
        "\n",
        "        outliers = [] \n",
        "        Q1 = data.quantile(0.25)  \n",
        "        Q3 = data.quantile(0.75)\n",
        "        IQR = Q3 - Q1\n",
        "        num_data = data.select_dtypes(include='number')\n",
        "        result = dict ((((num_data < (Q1 - 1.5 * IQR)) | (num_data > (Q3 + 1.5 * IQR)))==True).any())\n",
        "        #data[(data[col] >= high)|(data[col] <= low)].index\n",
        "        index = data[(num_data < Q1 - 1.5 * IQR) | (num_data > Q3 + 1.5 * IQR)].index\n",
        "        for k,v in result.items():\n",
        "            if v == True:  \n",
        "                outliers.append(k)\n",
        "        if show_plot:\n",
        "            outlier_pair_plot = sns.pairplot(data[outliers]);\n",
        "            print(f'{result},\\n\\n Visualization of outlier columns')\n",
        "            plt.savefig(fname=save_img, format='png')\n",
        "            return  outlier_pair_plot\n",
        "        else:\n",
        "            return data.loc[index, outliers] "
      ],
      "execution_count": null,
      "outputs": []
    },
    {
      "cell_type": "markdown",
      "metadata": {
        "id": "VpA27bAx5qIM",
        "colab_type": "text"
      },
      "source": [
        "outliers in train set"
      ]
    },
    {
      "cell_type": "code",
      "metadata": {
        "id": "fMdC-cEf5qIM",
        "colab_type": "code",
        "colab": {}
      },
      "source": [
        "train_outliers = check_outliers(train, show_plot=False)"
      ],
      "execution_count": null,
      "outputs": []
    },
    {
      "cell_type": "code",
      "metadata": {
        "id": "MLTIETfi5qIT",
        "colab_type": "code",
        "colab": {}
      },
      "source": [
        "train_outliers"
      ],
      "execution_count": null,
      "outputs": []
    },
    {
      "cell_type": "markdown",
      "metadata": {
        "id": "WvdfxaY_5qIY",
        "colab_type": "text"
      },
      "source": [
        "> most columns in the train set contain outlier values"
      ]
    },
    {
      "cell_type": "markdown",
      "metadata": {
        "id": "Sh1XruSa5qIZ",
        "colab_type": "text"
      },
      "source": [
        "outliers in test set"
      ]
    },
    {
      "cell_type": "code",
      "metadata": {
        "id": "J6iUBVtk5qIZ",
        "colab_type": "code",
        "colab": {}
      },
      "source": [
        "test_outliers = check_outliers(test, show_plot=False) "
      ],
      "execution_count": null,
      "outputs": []
    },
    {
      "cell_type": "code",
      "metadata": {
        "id": "fvegObVz5qIf",
        "colab_type": "code",
        "colab": {}
      },
      "source": [
        "test_outliers"
      ],
      "execution_count": null,
      "outputs": []
    },
    {
      "cell_type": "markdown",
      "metadata": {
        "id": "gxK5oiRy5qIp",
        "colab_type": "text"
      },
      "source": [
        "> check for duplicate values"
      ]
    },
    {
      "cell_type": "code",
      "metadata": {
        "id": "7h4CExvy5qIq",
        "colab_type": "code",
        "colab": {}
      },
      "source": [
        "train.duplicated().any()"
      ],
      "execution_count": null,
      "outputs": []
    },
    {
      "cell_type": "code",
      "metadata": {
        "id": "MNyEQXdC5qIw",
        "colab_type": "code",
        "colab": {}
      },
      "source": [
        "test.duplicated().any()"
      ],
      "execution_count": null,
      "outputs": []
    },
    {
      "cell_type": "markdown",
      "metadata": {
        "id": "0QClssFr5qI1",
        "colab_type": "text"
      },
      "source": [
        "> check for class imbalance"
      ]
    },
    {
      "cell_type": "code",
      "metadata": {
        "id": "_Zjniw2_5qI2",
        "colab_type": "code",
        "colab": {}
      },
      "source": [
        "print(\"Class Imbalance\\n\")\n",
        "print(train.CHURN.value_counts(), \"\\n\")\n",
        "train.CHURN.value_counts().plot.bar();"
      ],
      "execution_count": null,
      "outputs": []
    },
    {
      "cell_type": "markdown",
      "metadata": {
        "id": "2xfZUgfM5qI_",
        "colab_type": "text"
      },
      "source": [
        " "
      ]
    },
    {
      "cell_type": "markdown",
      "metadata": {
        "id": "uDFUA59G5qI_",
        "colab_type": "text"
      },
      "source": [
        "> no null values "
      ]
    },
    {
      "cell_type": "markdown",
      "metadata": {
        "id": "dZN5mTR-5qJA",
        "colab_type": "text"
      },
      "source": [
        "##### Data Cleaning\n",
        "\n",
        "- Treat outliers with Median Imputation\n",
        "\n",
        "- Treat nul vlaues in numerical featurees with KNN, and categorical features with mode\n",
        "\n",
        "- Use Pipeline"
      ]
    },
    {
      "cell_type": "markdown",
      "metadata": {
        "id": "zRPSIS-b5qJB",
        "colab_type": "text"
      },
      "source": [
        "> Median Imputation for Outlier values"
      ]
    },
    {
      "cell_type": "code",
      "metadata": {
        "id": "RVgJ0wOR5qJC",
        "colab_type": "code",
        "colab": {}
      },
      "source": [
        "def treat_numeric_outlier(data):\n",
        "    for col in data.columns.tolist():\n",
        "        if is_numeric_dtype(data[col]) == True: \n",
        "            median = data[col].quantile(0.50)\n",
        "            q1 = data[col].quantile(0.95)\n",
        "            q3 = data[col].quantile(0.05)\n",
        "            iqr = q3 - q1\n",
        "            high = int(q3 + 1.5 * iqr) \n",
        "            low = int(q1 - 1.5 * iqr)\n",
        "            data[col] = np.where(data[col] > high, median, data[col])\n",
        "            data[col] = np.where(data[col] > high, median, data[col]) \n",
        "    return data"
      ],
      "execution_count": null,
      "outputs": []
    },
    {
      "cell_type": "code",
      "metadata": {
        "id": "ho0qcLYY5qJH",
        "colab_type": "code",
        "colab": {}
      },
      "source": [
        "train = treat_numeric_outlier(train)"
      ],
      "execution_count": null,
      "outputs": []
    },
    {
      "cell_type": "code",
      "metadata": {
        "id": "8Sba-dHZ5qJL",
        "colab_type": "code",
        "colab": {}
      },
      "source": [
        "check_outliers(train)"
      ],
      "execution_count": null,
      "outputs": []
    },
    {
      "cell_type": "markdown",
      "metadata": {
        "id": "p41-cuvk5qJQ",
        "colab_type": "text"
      },
      "source": [
        "no more outlier values"
      ]
    },
    {
      "cell_type": "code",
      "metadata": {
        "id": "D9_x4Eyq5qJR",
        "colab_type": "code",
        "colab": {}
      },
      "source": [
        "train"
      ],
      "execution_count": null,
      "outputs": []
    },
    {
      "cell_type": "markdown",
      "metadata": {
        "id": "a45uytM_5qJV",
        "colab_type": "text"
      },
      "source": [
        "> Create piepleinf to clean preprocess numeric and catgegorical vlaues"
      ]
    },
    {
      "cell_type": "code",
      "metadata": {
        "id": "7hPlTQgN5qJX",
        "colab_type": "code",
        "colab": {}
      },
      "source": [
        "cat_features = train.select_dtypes(include='object').drop('user_id', axis=1).columns.tolist()\n",
        "cat_features"
      ],
      "execution_count": null,
      "outputs": []
    },
    {
      "cell_type": "code",
      "metadata": {
        "id": "X-AwuumM5qJb",
        "colab_type": "code",
        "colab": {}
      },
      "source": [
        "num_features = train.select_dtypes(include=['int64', 'float64']).drop('CHURN', axis=1).columns.tolist()\n",
        "num_features"
      ],
      "execution_count": null,
      "outputs": []
    },
    {
      "cell_type": "code",
      "metadata": {
        "id": "s7wj06-sFf9D",
        "colab_type": "code",
        "colab": {}
      },
      "source": [
        "# ?LabelEncoder"
      ],
      "execution_count": null,
      "outputs": []
    },
    {
      "cell_type": "code",
      "metadata": {
        "id": "Hrrg34On5qJe",
        "colab_type": "code",
        "colab": {}
      },
      "source": [
        "# cat_transform = Pipeline(steps=[('imputer', SimpleImputer(strategy='most_frequent')),\n",
        "#                               ('encode', OneHotEncoder())])\n",
        "\n",
        "num_transform= Pipeline(steps=[('scaler',RobustScaler()),\n",
        "                               ('imputer', KNNImputer(copy=False))])\n",
        "\n",
        "\n",
        "data_transform = ColumnTransformer(transformers=[#('cat_transform', cat_transform,cat_features),\n",
        "                                                ('num_transform', num_transform, num_features)]\n",
        "                                  , remainder='passthrough', verbose=True)\n",
        "\n",
        "preprocess = Pipeline(steps=[('transform', data_transform)], verbose=True)"
      ],
      "execution_count": null,
      "outputs": []
    },
    {
      "cell_type": "code",
      "metadata": {
        "id": "TyZm6IiOLcNk",
        "colab_type": "code",
        "colab": {}
      },
      "source": [
        "train"
      ],
      "execution_count": null,
      "outputs": []
    },
    {
      "cell_type": "code",
      "metadata": {
        "id": "ODTxUKk45qJj",
        "colab_type": "code",
        "colab": {}
      },
      "source": [
        "preprocess.fit(train)"
      ],
      "execution_count": null,
      "outputs": []
    },
    {
      "cell_type": "code",
      "metadata": {
        "id": "gGnr-nHRlddH",
        "colab_type": "code",
        "colab": {}
      },
      "source": [
        ""
      ],
      "execution_count": null,
      "outputs": []
    },
    {
      "cell_type": "markdown",
      "metadata": {
        "id": "EOnqQGSt5qJn",
        "colab_type": "text"
      },
      "source": [
        "#### Modelling\n",
        "\n",
        "- Build Pipeline"
      ]
    },
    {
      "cell_type": "code",
      "metadata": {
        "id": "HaCiJszm5qJo",
        "colab_type": "code",
        "colab": {}
      },
      "source": [
        "# ('smote', SMOTE(random_state=123)"
      ],
      "execution_count": null,
      "outputs": []
    },
    {
      "cell_type": "code",
      "metadata": {
        "id": "Bn3bUOki5qJu",
        "colab_type": "code",
        "colab": {}
      },
      "source": [
        "# def fill_na(data):\n",
        "#     for col in data.columns.tolist():\n",
        "#         if data[col].isna().any():\n",
        "#             data[col].fillna()\n",
        "            "
      ],
      "execution_count": null,
      "outputs": []
    },
    {
      "cell_type": "code",
      "metadata": {
        "id": "M99GZu6-5qJz",
        "colab_type": "code",
        "colab": {}
      },
      "source": [
        "def treat_outlier(data):\n",
        "    from sklearn.neighbors import LocalOutlierFactor\n",
        "    iso = IsolationForest(contamination='auto')\n",
        "    yhat = iso.fit_predict(data.select_dtypes(exclude='object'),) \n",
        "    print(yhat) \n",
        "    #select all rows that are not outliers\n",
        "    mask = yhat != -1 \n",
        "    data = data[mask] "
      ],
      "execution_count": null,
      "outputs": []
    },
    {
      "cell_type": "code",
      "metadata": {
        "id": "DluvjJSV5qJ2",
        "colab_type": "code",
        "colab": {}
      },
      "source": [
        "# treat_outlier(train) "
      ],
      "execution_count": null,
      "outputs": []
    },
    {
      "cell_type": "code",
      "metadata": {
        "id": "NrTcceVe5qJ5",
        "colab_type": "code",
        "colab": {}
      },
      "source": [
        ""
      ],
      "execution_count": null,
      "outputs": []
    }
  ]
}
>>>>>>> cf53071c423e41fc5706ff9875b3eba5ca984e29
